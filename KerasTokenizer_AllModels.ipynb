{
  "cells": [
    {
      "cell_type": "markdown",
      "metadata": {
        "id": "arLXFzs_H_5O"
      },
      "source": [
        "<hr/>\n",
        "\n",
        "# imports"
      ]
    },
    {
      "cell_type": "code",
      "execution_count": null,
      "metadata": {
        "id": "0QxvoRX2H_5Q",
        "outputId": "6bc60ec2-0d5b-407f-cfb7-02a64249a046"
      },
      "outputs": [
        {
          "name": "stdout",
          "output_type": "stream",
          "text": [
            "Requirement already satisfied: imblearn in /usr/local/lib/python3.11/dist-packages (0.0)\n",
            "Requirement already satisfied: imbalanced-learn in /usr/local/lib/python3.11/dist-packages (from imblearn) (0.11.0)\n",
            "Requirement already satisfied: numpy>=1.17.3 in /usr/local/lib/python3.11/dist-packages (from imbalanced-learn->imblearn) (1.26.0)\n",
            "Requirement already satisfied: scipy>=1.5.0 in /usr/local/lib/python3.11/dist-packages (from imbalanced-learn->imblearn) (1.11.3)\n",
            "Requirement already satisfied: scikit-learn>=1.0.2 in /usr/local/lib/python3.11/dist-packages (from imbalanced-learn->imblearn) (1.3.2)\n",
            "Requirement already satisfied: joblib>=1.1.1 in /usr/local/lib/python3.11/dist-packages (from imbalanced-learn->imblearn) (1.3.2)\n",
            "Requirement already satisfied: threadpoolctl>=2.0.0 in /usr/local/lib/python3.11/dist-packages (from imbalanced-learn->imblearn) (3.2.0)\n",
            "\u001b[33mWARNING: Running pip as the 'root' user can result in broken permissions and conflicting behaviour with the system package manager. It is recommended to use a virtual environment instead: https://pip.pypa.io/warnings/venv\u001b[0m\u001b[33m\n",
            "\u001b[0m\n",
            "\u001b[1m[\u001b[0m\u001b[34;49mnotice\u001b[0m\u001b[1;39;49m]\u001b[0m\u001b[39;49m A new release of pip is available: \u001b[0m\u001b[31;49m23.2.1\u001b[0m\u001b[39;49m -> \u001b[0m\u001b[32;49m23.3.1\u001b[0m\n",
            "\u001b[1m[\u001b[0m\u001b[34;49mnotice\u001b[0m\u001b[1;39;49m]\u001b[0m\u001b[39;49m To update, run: \u001b[0m\u001b[32;49mpython3 -m pip install --upgrade pip\u001b[0m\n"
          ]
        }
      ],
      "source": [
        "!pip install imblearn"
      ]
    },
    {
      "cell_type": "code",
      "execution_count": 1,
      "metadata": {
        "id": "Nl5_eL5SH_5R"
      },
      "outputs": [],
      "source": [
        "import os\n",
        "os.environ['TF_CPP_MIN_LOG_LEVEL'] = '3' # mute tf warnings\n",
        "\n",
        "import pandas as pd\n",
        "import numpy as np\n",
        "import matplotlib.pyplot as plt\n",
        "import json\n",
        "import tensorflow as tf\n",
        "from tensorflow import keras\n",
        "from transformers import BertTokenizer, TFBertModel\n",
        "import math\n",
        "import sklearn\n",
        "import imblearn"
      ]
    },
    {
      "cell_type": "code",
      "execution_count": 2,
      "metadata": {
        "colab": {
          "base_uri": "https://localhost:8080/"
        },
        "id": "tqpM8R9ZH_5S",
        "outputId": "050428ad-3749-47a6-c1a1-c811cb67f00d"
      },
      "outputs": [
        {
          "output_type": "stream",
          "name": "stdout",
          "text": [
            "Num GPUs Available:  1\n"
          ]
        }
      ],
      "source": [
        "print(\"Num GPUs Available: \", len(tf.config.list_physical_devices('GPU')))"
      ]
    },
    {
      "cell_type": "markdown",
      "metadata": {
        "id": "gbXPzw4IH_5S"
      },
      "source": [
        "# Definitions"
      ]
    },
    {
      "cell_type": "code",
      "execution_count": 3,
      "metadata": {
        "id": "xTyXj77aH_5S"
      },
      "outputs": [],
      "source": [
        "def pipe(*funcs):\n",
        "    \"\"\"\n",
        "    Works similar to the semantics of a `pipe` in other programming languages.\n",
        "    Intended to make nested functions readable and easier to manipulate. It\n",
        "    will take the first item in the list and feed it as input to the next\n",
        "    function in the list, then it takes that output and feeds it as input to\n",
        "    the next function in the list, and so on until it reaches the last\n",
        "    function in the list and returns its output.\n",
        "\n",
        "    Example:\n",
        "        instead of this:\n",
        "            ```py\n",
        "            input_layer = Input(...)\n",
        "            embedding_layer = Embedding(...)(input_layer)\n",
        "            lstm_layer = LSTM(...)(embedding_layer)\n",
        "            hidden_layer = Dense(...)(lstm_layer)\n",
        "            output_layer = Dense(...)(hidden_layer)\n",
        "            ```\n",
        "        you can do this:\n",
        "            ```py\n",
        "            lstm_ouput = pipe(\n",
        "                Input(...),\n",
        "                Embedding(...),\n",
        "                LSTM(...),\n",
        "                Dense(...),\n",
        "                Dense(...)\n",
        "            )\n",
        "            ```\n",
        "    \"\"\"\n",
        "    out = funcs[0]\n",
        "    for func in funcs[1:]:\n",
        "        out = func(out)\n",
        "    return out"
      ]
    },
    {
      "cell_type": "code",
      "execution_count": 4,
      "metadata": {
        "id": "ANj7-oKlH_5T"
      },
      "outputs": [],
      "source": [
        "def determine_name(row) -> str:\n",
        "    \"\"\"\n",
        "    Auxilary function used to determine the label for each given row.\n",
        "    \"\"\"\n",
        "    if row['sender_labels'] and row['receiver_labels']:\n",
        "        return 'straightforward'\n",
        "    elif not row['sender_labels'] and row['receiver_labels']:\n",
        "        return 'deceive'\n",
        "    elif row['sender_labels'] and not row['receiver_labels']:\n",
        "        return 'cassandra'\n",
        "    elif not row['sender_labels'] and not row['receiver_labels']:\n",
        "        return 'caught'\n",
        "    else:\n",
        "        return None"
      ]
    },
    {
      "cell_type": "code",
      "execution_count": 5,
      "metadata": {
        "id": "ZOMwW5Z7H_5T"
      },
      "outputs": [],
      "source": [
        "def parse_jsonl(path: str) -> pd.DataFrame:\n",
        "    \"\"\"\n",
        "    Load the given jsonl file and parse each conversation into a readable pandas\n",
        "    data frame, where each row is a message. Additional data that is used later\n",
        "    is also added to the created dataframe for consistency accross all loaded\n",
        "    data.\n",
        "\n",
        "    Args:\n",
        "        path: str\n",
        "            the path to the jsonl file to load and parse\n",
        "\n",
        "    Returns: pd.DataFrame\n",
        "        A parsed data frame where each row is a message.\n",
        "    \"\"\"\n",
        "    data = {}\n",
        "    with open(path, 'r') as f:\n",
        "        for (i, line) in enumerate(f):\n",
        "            line = json.loads(line)\n",
        "            line[\"conversation_id\"] = [i] * len(line[\"messages\"])\n",
        "            line['previous_message'] = ([\"\"] if len(line['messages']) > 0 else []) + line[\"messages\"][:-1]\n",
        "            for k in line.keys():\n",
        "                if k == \"players\":\n",
        "                    continue\n",
        "                if k == \"game_id\":\n",
        "                    line[k] = [line[k]] * len(line[\"messages\"])\n",
        "                data[k] = data.get(k, []) + line[k]\n",
        "    data = pd.DataFrame(data)\n",
        "    data['label'] = data.apply(determine_name, axis=1)\n",
        "    data['sender_labels_encoded'] = data['sender_labels'].astype(str).apply(lambda x: [\"True\", \"False\", \"NOANNOTATION\"].index(x))\n",
        "    data['receiver_labels_encoded'] = data['receiver_labels'].astype(str).apply(lambda x: [\"True\", \"False\", \"NOANNOTATION\"].index(x))\n",
        "    data[\"game_score_delta\"] = data['game_score_delta'].astype(float)\n",
        "    return data"
      ]
    },
    {
      "cell_type": "code",
      "execution_count": 6,
      "metadata": {
        "id": "nbVRoZu0H_5T"
      },
      "outputs": [],
      "source": [
        "def EvaluateModel(model: tf.keras.Sequential, test_ds: tf.data.Dataset, test_target: pd.DataFrame, history: tf.keras.callbacks.History, skip_evaluation: bool = False) -> tuple[float, float]:\n",
        "    \"\"\"\n",
        "    Take the model and plot the training accuracy and validation accuracy. Also,\n",
        "    Perform a evaluation on the test data, print the loss and accuracy, and print\n",
        "    the test metric scores.\n",
        "\n",
        "    Args:\n",
        "        model: tf.keras.Sequential\n",
        "            the model to test\n",
        "        test_ds: tf.data.Dataset\n",
        "            the test dataset to evaluate the model with\n",
        "        test_target: pd.DataFrame\n",
        "            the test data frame list with the target labels\n",
        "        history: tf.keras.callbacks.History\n",
        "            the history from fitting the model\n",
        "        skip_evaluation: bool\n",
        "            skip the model.evaluate() function\n",
        "    \"\"\"\n",
        "    def find_best_threshold(y_true, y_probs):\n",
        "        best_threshold = 0.5\n",
        "        best_f1 = 0.0\n",
        "\n",
        "        # Iterate over a range of thresholds (e.g., 0.0 to 1.0)\n",
        "        for threshold in np.arange(0.0, 1.0, 0.01):\n",
        "            # Convert probabilities to binary predictions based on the current threshold\n",
        "            y_pred = (y_probs > threshold).astype(int)\n",
        "\n",
        "            # Calculate the F1 score\n",
        "            f1 = sklearn.metrics.f1_score(y_true, y_pred, average='macro')\n",
        "\n",
        "            # If this F1 score is better than the best so far, update the best threshold and F1 score\n",
        "            if f1 > best_f1:\n",
        "                best_f1 = f1\n",
        "                best_threshold = threshold\n",
        "        return best_threshold, best_f1\n",
        "\n",
        "    print(f\"{'='*10} Model Accuracy {'='*10}\")\n",
        "    plt.plot(history.history['sender_output_auc'], label='sender_output_auc', color=\"tan\", linestyle=\"dashed\")\n",
        "    plt.plot(history.history['val_sender_output_auc'], label = 'val_sender_output_auc', color=\"darkorange\")\n",
        "    plt.plot(history.history['receiver_output_auc_1'], label='receiver_output_auc', color=\"cornflowerblue\" , linestyle=\"dashed\")\n",
        "    plt.plot(history.history['val_receiver_output_auc_1'], label = 'val_receiver_output_auc', color=\"darkblue\")\n",
        "    plt.xlabel('Epoch')\n",
        "    plt.ylabel('Accuracy')\n",
        "    plt.ylim([0.0, 1.03])\n",
        "    plt.legend(loc='lower right')\n",
        "    plt.show()\n",
        "\n",
        "    if not skip_evaluation:\n",
        "        print(f\"{'='*10} Test Evaluation {'='*10}\")\n",
        "        model.evaluate(test_ds, test_target, verbose=2)\n",
        "        # print(f\"Test loss: {test_loss} | Test accuracy: {test_acc}\")\n",
        "        print()\n",
        "\n",
        "    print(f\"{'='*10} Test Metrics {'='*10}\")\n",
        "    y_pred = model.predict(test_ds)\n",
        "\n",
        "    # Find the best threshold for sender\n",
        "    best_threshold_sender, best_f1_sender = find_best_threshold(test_target[0], y_pred[0])\n",
        "    print(\"Best Threshold for Sender:\", best_threshold_sender, \"with F1 Score:\", best_f1_sender)\n",
        "\n",
        "    # Find the best threshold for receiver\n",
        "    best_threshold_receiver, best_f1_receiver = find_best_threshold(test_target[1], y_pred[1])\n",
        "    print(\"Best Threshold for Receiver:\", best_threshold_receiver, \"with F1 Score:\", best_f1_receiver)\n",
        "\n",
        "      # Convert probabilities to binary predictions\n",
        "    y_pred_sender = (y_pred[0] > best_threshold_sender).astype(int).reshape(-1)\n",
        "    y_pred_receiver = (y_pred[1] > best_threshold_receiver).astype(int).reshape(-1)\n",
        "\n",
        "    print()\n",
        "    print(f\"{'-'*10} Sender Labels {'-'*10}\")\n",
        "    print(sklearn.metrics.classification_report(test_target[0], y_pred_sender, target_names=[\"True\", \"False\"], zero_division=0))\n",
        "    print(f\"{'-'*10} Receiver Labels {'-'*10}\")\n",
        "    print(sklearn.metrics.classification_report(test_target[1], y_pred_receiver, target_names=[\"True\", \"False\"], zero_division=0))\n",
        "\n",
        "    return best_threshold_sender, best_threshold_receiver"
      ]
    },
    {
      "cell_type": "code",
      "execution_count": 7,
      "metadata": {
        "id": "h1J-TqiaH_5U"
      },
      "outputs": [],
      "source": [
        "def Tokenize(tokenizer, df: pd.DataFrame, sequence_len: int = 300) -> tuple:\n",
        "    \"\"\"\n",
        "    Makes a consistant return of tokenized and padded messages and previous messages.\n",
        "    \"\"\"\n",
        "    encoded_msg = tokenizer.texts_to_sequences(df['messages'])\n",
        "    encoded_prev_msg = tokenizer.texts_to_sequences(df['previous_message'])\n",
        "    return keras.preprocessing.sequence.pad_sequences(encoded_msg, sequence_len), keras.preprocessing.sequence.pad_sequences(encoded_prev_msg, sequence_len)"
      ]
    },
    {
      "cell_type": "code",
      "execution_count": 8,
      "metadata": {
        "id": "RM-UHvmqH_5U"
      },
      "outputs": [],
      "source": [
        "def PredictionGridPeek(pred: list, df: pd.DataFrame, target_labels: list, who: str) -> pd.DataFrame:\n",
        "    table = {\n",
        "        \"prediction\": [],\n",
        "        \"target\": [],\n",
        "        \"message\": [],\n",
        "        \"context\": []\n",
        "    }\n",
        "    for match in [True, False]:\n",
        "        bool_stmt = pred == df[f'{who}_labels_encoded'] if match else pred != df[f'{who}_labels_encoded']\n",
        "        visited = []\n",
        "        for i in range(0, len(pred[bool_stmt])):\n",
        "            row = df[bool_stmt].iloc[i,:]\n",
        "            pred_label = target_labels[pred[bool_stmt][i]]\n",
        "            if (pred_label, row[f'{who}_labels']) not in visited:\n",
        "                table[\"prediction\"].append(pred_label)\n",
        "                table[\"target\"].append(row[f'{who}_labels'])\n",
        "                table['message'].append(row['messages'])\n",
        "                table['context'].append(row['previous_message'])\n",
        "                visited.append((pred_label, row[f'{who}_labels']))\n",
        "                if len(visited) >= len(target_labels):\n",
        "                    break\n",
        "    return pd.DataFrame(table)"
      ]
    },
    {
      "cell_type": "markdown",
      "metadata": {
        "id": "kV9_NNs1H_5U"
      },
      "source": [
        "<hr/>\n",
        "\n",
        "# data explortion"
      ]
    },
    {
      "cell_type": "markdown",
      "metadata": {
        "id": "003kHAY4H_5V"
      },
      "source": [
        "just a raw load of the data we can see it is unformated and needs to be parsed a little to better satisfy the pandas format."
      ]
    },
    {
      "cell_type": "markdown",
      "metadata": {
        "id": "FN2yAepMH_5V"
      },
      "source": [
        "## NOANNOTATION"
      ]
    },
    {
      "cell_type": "code",
      "execution_count": 9,
      "metadata": {
        "colab": {
          "base_uri": "https://localhost:8080/"
        },
        "id": "BPsiWP5qH_5V",
        "outputId": "75dc1c31-18b7-4f2b-820c-2b67fc94179f"
      },
      "outputs": [
        {
          "output_type": "stream",
          "name": "stdout",
          "text": [
            "Mounted at /content/drive\n"
          ]
        }
      ],
      "source": [
        "# train_df = (parse_jsonl(\"./data/train.jsonl\"))\n",
        "# test_df = (parse_jsonl(\"./data/test.jsonl\"))\n",
        "# validation_df = (parse_jsonl(\"./data/validation.jsonl\"))\n",
        "\n",
        "from google.colab import drive\n",
        "drive.mount('/content/drive')\n",
        "\n",
        "folder_path = '/content/drive/My Drive/Colab Notebooks/w266 Final Project'\n",
        "\n",
        "train_df = (parse_jsonl(f\"{folder_path}/data/train.jsonl\"))\n",
        "test_df = (parse_jsonl(f\"{folder_path}/data/test.jsonl\"))\n",
        "validation_df = (parse_jsonl(f\"{folder_path}/data/validation.jsonl\"))"
      ]
    },
    {
      "cell_type": "code",
      "execution_count": 10,
      "metadata": {
        "colab": {
          "base_uri": "https://localhost:8080/",
          "height": 399
        },
        "id": "WaO68D-sH_5V",
        "outputId": "632c1e11-4fe6-48bd-bcb5-99d1f0004eb9"
      },
      "outputs": [
        {
          "output_type": "execute_result",
          "data": {
            "text/plain": [
              "                                            messages  sender_labels  \\\n",
              "0  Germany!\\n\\nJust the person I want to speak wi...           True   \n",
              "1  You've whet my appetite, Italy. What's the sug...           True   \n",
              "2                                                  👍           True   \n",
              "3  It seems like there are a lot of ways that cou...           True   \n",
              "4  Yeah, I can’t say I’ve tried it and it works, ...           True   \n",
              "\n",
              "  receiver_labels speakers receivers  absolute_message_index  \\\n",
              "0            True    italy   germany                      74   \n",
              "1            True  germany     italy                      76   \n",
              "2            True    italy   germany                      86   \n",
              "3            True  germany     italy                      87   \n",
              "4    NOANNOTATION    italy   germany                      89   \n",
              "\n",
              "   relative_message_index seasons years game_score  game_score_delta  game_id  \\\n",
              "0                       0  Spring  1901          3               0.0        1   \n",
              "1                       1  Spring  1901          3               0.0        1   \n",
              "2                       2  Spring  1901          3               0.0        1   \n",
              "3                       3  Spring  1901          3               0.0        1   \n",
              "4                       4  Spring  1901          3               0.0        1   \n",
              "\n",
              "   conversation_id                                   previous_message  \\\n",
              "0                0                                                      \n",
              "1                0  Germany!\\n\\nJust the person I want to speak wi...   \n",
              "2                0  You've whet my appetite, Italy. What's the sug...   \n",
              "3                0                                                  👍   \n",
              "4                0  It seems like there are a lot of ways that cou...   \n",
              "\n",
              "             label  sender_labels_encoded  receiver_labels_encoded  \n",
              "0  straightforward                      0                        0  \n",
              "1  straightforward                      0                        0  \n",
              "2  straightforward                      0                        0  \n",
              "3  straightforward                      0                        0  \n",
              "4  straightforward                      0                        2  "
            ],
            "text/html": [
              "\n",
              "  <div id=\"df-a69f6dcc-efd0-4295-94c9-cb72cca8c086\" class=\"colab-df-container\">\n",
              "    <div>\n",
              "<style scoped>\n",
              "    .dataframe tbody tr th:only-of-type {\n",
              "        vertical-align: middle;\n",
              "    }\n",
              "\n",
              "    .dataframe tbody tr th {\n",
              "        vertical-align: top;\n",
              "    }\n",
              "\n",
              "    .dataframe thead th {\n",
              "        text-align: right;\n",
              "    }\n",
              "</style>\n",
              "<table border=\"1\" class=\"dataframe\">\n",
              "  <thead>\n",
              "    <tr style=\"text-align: right;\">\n",
              "      <th></th>\n",
              "      <th>messages</th>\n",
              "      <th>sender_labels</th>\n",
              "      <th>receiver_labels</th>\n",
              "      <th>speakers</th>\n",
              "      <th>receivers</th>\n",
              "      <th>absolute_message_index</th>\n",
              "      <th>relative_message_index</th>\n",
              "      <th>seasons</th>\n",
              "      <th>years</th>\n",
              "      <th>game_score</th>\n",
              "      <th>game_score_delta</th>\n",
              "      <th>game_id</th>\n",
              "      <th>conversation_id</th>\n",
              "      <th>previous_message</th>\n",
              "      <th>label</th>\n",
              "      <th>sender_labels_encoded</th>\n",
              "      <th>receiver_labels_encoded</th>\n",
              "    </tr>\n",
              "  </thead>\n",
              "  <tbody>\n",
              "    <tr>\n",
              "      <th>0</th>\n",
              "      <td>Germany!\\n\\nJust the person I want to speak wi...</td>\n",
              "      <td>True</td>\n",
              "      <td>True</td>\n",
              "      <td>italy</td>\n",
              "      <td>germany</td>\n",
              "      <td>74</td>\n",
              "      <td>0</td>\n",
              "      <td>Spring</td>\n",
              "      <td>1901</td>\n",
              "      <td>3</td>\n",
              "      <td>0.0</td>\n",
              "      <td>1</td>\n",
              "      <td>0</td>\n",
              "      <td></td>\n",
              "      <td>straightforward</td>\n",
              "      <td>0</td>\n",
              "      <td>0</td>\n",
              "    </tr>\n",
              "    <tr>\n",
              "      <th>1</th>\n",
              "      <td>You've whet my appetite, Italy. What's the sug...</td>\n",
              "      <td>True</td>\n",
              "      <td>True</td>\n",
              "      <td>germany</td>\n",
              "      <td>italy</td>\n",
              "      <td>76</td>\n",
              "      <td>1</td>\n",
              "      <td>Spring</td>\n",
              "      <td>1901</td>\n",
              "      <td>3</td>\n",
              "      <td>0.0</td>\n",
              "      <td>1</td>\n",
              "      <td>0</td>\n",
              "      <td>Germany!\\n\\nJust the person I want to speak wi...</td>\n",
              "      <td>straightforward</td>\n",
              "      <td>0</td>\n",
              "      <td>0</td>\n",
              "    </tr>\n",
              "    <tr>\n",
              "      <th>2</th>\n",
              "      <td>👍</td>\n",
              "      <td>True</td>\n",
              "      <td>True</td>\n",
              "      <td>italy</td>\n",
              "      <td>germany</td>\n",
              "      <td>86</td>\n",
              "      <td>2</td>\n",
              "      <td>Spring</td>\n",
              "      <td>1901</td>\n",
              "      <td>3</td>\n",
              "      <td>0.0</td>\n",
              "      <td>1</td>\n",
              "      <td>0</td>\n",
              "      <td>You've whet my appetite, Italy. What's the sug...</td>\n",
              "      <td>straightforward</td>\n",
              "      <td>0</td>\n",
              "      <td>0</td>\n",
              "    </tr>\n",
              "    <tr>\n",
              "      <th>3</th>\n",
              "      <td>It seems like there are a lot of ways that cou...</td>\n",
              "      <td>True</td>\n",
              "      <td>True</td>\n",
              "      <td>germany</td>\n",
              "      <td>italy</td>\n",
              "      <td>87</td>\n",
              "      <td>3</td>\n",
              "      <td>Spring</td>\n",
              "      <td>1901</td>\n",
              "      <td>3</td>\n",
              "      <td>0.0</td>\n",
              "      <td>1</td>\n",
              "      <td>0</td>\n",
              "      <td>👍</td>\n",
              "      <td>straightforward</td>\n",
              "      <td>0</td>\n",
              "      <td>0</td>\n",
              "    </tr>\n",
              "    <tr>\n",
              "      <th>4</th>\n",
              "      <td>Yeah, I can’t say I’ve tried it and it works, ...</td>\n",
              "      <td>True</td>\n",
              "      <td>NOANNOTATION</td>\n",
              "      <td>italy</td>\n",
              "      <td>germany</td>\n",
              "      <td>89</td>\n",
              "      <td>4</td>\n",
              "      <td>Spring</td>\n",
              "      <td>1901</td>\n",
              "      <td>3</td>\n",
              "      <td>0.0</td>\n",
              "      <td>1</td>\n",
              "      <td>0</td>\n",
              "      <td>It seems like there are a lot of ways that cou...</td>\n",
              "      <td>straightforward</td>\n",
              "      <td>0</td>\n",
              "      <td>2</td>\n",
              "    </tr>\n",
              "  </tbody>\n",
              "</table>\n",
              "</div>\n",
              "    <div class=\"colab-df-buttons\">\n",
              "\n",
              "  <div class=\"colab-df-container\">\n",
              "    <button class=\"colab-df-convert\" onclick=\"convertToInteractive('df-a69f6dcc-efd0-4295-94c9-cb72cca8c086')\"\n",
              "            title=\"Convert this dataframe to an interactive table.\"\n",
              "            style=\"display:none;\">\n",
              "\n",
              "  <svg xmlns=\"http://www.w3.org/2000/svg\" height=\"24px\" viewBox=\"0 -960 960 960\">\n",
              "    <path d=\"M120-120v-720h720v720H120Zm60-500h600v-160H180v160Zm220 220h160v-160H400v160Zm0 220h160v-160H400v160ZM180-400h160v-160H180v160Zm440 0h160v-160H620v160ZM180-180h160v-160H180v160Zm440 0h160v-160H620v160Z\"/>\n",
              "  </svg>\n",
              "    </button>\n",
              "\n",
              "  <style>\n",
              "    .colab-df-container {\n",
              "      display:flex;\n",
              "      gap: 12px;\n",
              "    }\n",
              "\n",
              "    .colab-df-convert {\n",
              "      background-color: #E8F0FE;\n",
              "      border: none;\n",
              "      border-radius: 50%;\n",
              "      cursor: pointer;\n",
              "      display: none;\n",
              "      fill: #1967D2;\n",
              "      height: 32px;\n",
              "      padding: 0 0 0 0;\n",
              "      width: 32px;\n",
              "    }\n",
              "\n",
              "    .colab-df-convert:hover {\n",
              "      background-color: #E2EBFA;\n",
              "      box-shadow: 0px 1px 2px rgba(60, 64, 67, 0.3), 0px 1px 3px 1px rgba(60, 64, 67, 0.15);\n",
              "      fill: #174EA6;\n",
              "    }\n",
              "\n",
              "    .colab-df-buttons div {\n",
              "      margin-bottom: 4px;\n",
              "    }\n",
              "\n",
              "    [theme=dark] .colab-df-convert {\n",
              "      background-color: #3B4455;\n",
              "      fill: #D2E3FC;\n",
              "    }\n",
              "\n",
              "    [theme=dark] .colab-df-convert:hover {\n",
              "      background-color: #434B5C;\n",
              "      box-shadow: 0px 1px 3px 1px rgba(0, 0, 0, 0.15);\n",
              "      filter: drop-shadow(0px 1px 2px rgba(0, 0, 0, 0.3));\n",
              "      fill: #FFFFFF;\n",
              "    }\n",
              "  </style>\n",
              "\n",
              "    <script>\n",
              "      const buttonEl =\n",
              "        document.querySelector('#df-a69f6dcc-efd0-4295-94c9-cb72cca8c086 button.colab-df-convert');\n",
              "      buttonEl.style.display =\n",
              "        google.colab.kernel.accessAllowed ? 'block' : 'none';\n",
              "\n",
              "      async function convertToInteractive(key) {\n",
              "        const element = document.querySelector('#df-a69f6dcc-efd0-4295-94c9-cb72cca8c086');\n",
              "        const dataTable =\n",
              "          await google.colab.kernel.invokeFunction('convertToInteractive',\n",
              "                                                    [key], {});\n",
              "        if (!dataTable) return;\n",
              "\n",
              "        const docLinkHtml = 'Like what you see? Visit the ' +\n",
              "          '<a target=\"_blank\" href=https://colab.research.google.com/notebooks/data_table.ipynb>data table notebook</a>'\n",
              "          + ' to learn more about interactive tables.';\n",
              "        element.innerHTML = '';\n",
              "        dataTable['output_type'] = 'display_data';\n",
              "        await google.colab.output.renderOutput(dataTable, element);\n",
              "        const docLink = document.createElement('div');\n",
              "        docLink.innerHTML = docLinkHtml;\n",
              "        element.appendChild(docLink);\n",
              "      }\n",
              "    </script>\n",
              "  </div>\n",
              "\n",
              "\n",
              "<div id=\"df-3a86aa16-b17d-401c-bc24-8df73af8d32c\">\n",
              "  <button class=\"colab-df-quickchart\" onclick=\"quickchart('df-3a86aa16-b17d-401c-bc24-8df73af8d32c')\"\n",
              "            title=\"Suggest charts\"\n",
              "            style=\"display:none;\">\n",
              "\n",
              "<svg xmlns=\"http://www.w3.org/2000/svg\" height=\"24px\"viewBox=\"0 0 24 24\"\n",
              "     width=\"24px\">\n",
              "    <g>\n",
              "        <path d=\"M19 3H5c-1.1 0-2 .9-2 2v14c0 1.1.9 2 2 2h14c1.1 0 2-.9 2-2V5c0-1.1-.9-2-2-2zM9 17H7v-7h2v7zm4 0h-2V7h2v10zm4 0h-2v-4h2v4z\"/>\n",
              "    </g>\n",
              "</svg>\n",
              "  </button>\n",
              "\n",
              "<style>\n",
              "  .colab-df-quickchart {\n",
              "      --bg-color: #E8F0FE;\n",
              "      --fill-color: #1967D2;\n",
              "      --hover-bg-color: #E2EBFA;\n",
              "      --hover-fill-color: #174EA6;\n",
              "      --disabled-fill-color: #AAA;\n",
              "      --disabled-bg-color: #DDD;\n",
              "  }\n",
              "\n",
              "  [theme=dark] .colab-df-quickchart {\n",
              "      --bg-color: #3B4455;\n",
              "      --fill-color: #D2E3FC;\n",
              "      --hover-bg-color: #434B5C;\n",
              "      --hover-fill-color: #FFFFFF;\n",
              "      --disabled-bg-color: #3B4455;\n",
              "      --disabled-fill-color: #666;\n",
              "  }\n",
              "\n",
              "  .colab-df-quickchart {\n",
              "    background-color: var(--bg-color);\n",
              "    border: none;\n",
              "    border-radius: 50%;\n",
              "    cursor: pointer;\n",
              "    display: none;\n",
              "    fill: var(--fill-color);\n",
              "    height: 32px;\n",
              "    padding: 0;\n",
              "    width: 32px;\n",
              "  }\n",
              "\n",
              "  .colab-df-quickchart:hover {\n",
              "    background-color: var(--hover-bg-color);\n",
              "    box-shadow: 0 1px 2px rgba(60, 64, 67, 0.3), 0 1px 3px 1px rgba(60, 64, 67, 0.15);\n",
              "    fill: var(--button-hover-fill-color);\n",
              "  }\n",
              "\n",
              "  .colab-df-quickchart-complete:disabled,\n",
              "  .colab-df-quickchart-complete:disabled:hover {\n",
              "    background-color: var(--disabled-bg-color);\n",
              "    fill: var(--disabled-fill-color);\n",
              "    box-shadow: none;\n",
              "  }\n",
              "\n",
              "  .colab-df-spinner {\n",
              "    border: 2px solid var(--fill-color);\n",
              "    border-color: transparent;\n",
              "    border-bottom-color: var(--fill-color);\n",
              "    animation:\n",
              "      spin 1s steps(1) infinite;\n",
              "  }\n",
              "\n",
              "  @keyframes spin {\n",
              "    0% {\n",
              "      border-color: transparent;\n",
              "      border-bottom-color: var(--fill-color);\n",
              "      border-left-color: var(--fill-color);\n",
              "    }\n",
              "    20% {\n",
              "      border-color: transparent;\n",
              "      border-left-color: var(--fill-color);\n",
              "      border-top-color: var(--fill-color);\n",
              "    }\n",
              "    30% {\n",
              "      border-color: transparent;\n",
              "      border-left-color: var(--fill-color);\n",
              "      border-top-color: var(--fill-color);\n",
              "      border-right-color: var(--fill-color);\n",
              "    }\n",
              "    40% {\n",
              "      border-color: transparent;\n",
              "      border-right-color: var(--fill-color);\n",
              "      border-top-color: var(--fill-color);\n",
              "    }\n",
              "    60% {\n",
              "      border-color: transparent;\n",
              "      border-right-color: var(--fill-color);\n",
              "    }\n",
              "    80% {\n",
              "      border-color: transparent;\n",
              "      border-right-color: var(--fill-color);\n",
              "      border-bottom-color: var(--fill-color);\n",
              "    }\n",
              "    90% {\n",
              "      border-color: transparent;\n",
              "      border-bottom-color: var(--fill-color);\n",
              "    }\n",
              "  }\n",
              "</style>\n",
              "\n",
              "  <script>\n",
              "    async function quickchart(key) {\n",
              "      const quickchartButtonEl =\n",
              "        document.querySelector('#' + key + ' button');\n",
              "      quickchartButtonEl.disabled = true;  // To prevent multiple clicks.\n",
              "      quickchartButtonEl.classList.add('colab-df-spinner');\n",
              "      try {\n",
              "        const charts = await google.colab.kernel.invokeFunction(\n",
              "            'suggestCharts', [key], {});\n",
              "      } catch (error) {\n",
              "        console.error('Error during call to suggestCharts:', error);\n",
              "      }\n",
              "      quickchartButtonEl.classList.remove('colab-df-spinner');\n",
              "      quickchartButtonEl.classList.add('colab-df-quickchart-complete');\n",
              "    }\n",
              "    (() => {\n",
              "      let quickchartButtonEl =\n",
              "        document.querySelector('#df-3a86aa16-b17d-401c-bc24-8df73af8d32c button');\n",
              "      quickchartButtonEl.style.display =\n",
              "        google.colab.kernel.accessAllowed ? 'block' : 'none';\n",
              "    })();\n",
              "  </script>\n",
              "</div>\n",
              "\n",
              "    </div>\n",
              "  </div>\n"
            ]
          },
          "metadata": {},
          "execution_count": 10
        }
      ],
      "source": [
        "train_df.head()"
      ]
    },
    {
      "cell_type": "markdown",
      "metadata": {
        "id": "xzlfYVSiH_5V"
      },
      "source": [
        "# NOANNOTATION"
      ]
    },
    {
      "cell_type": "markdown",
      "metadata": {
        "id": "QhNaJUhHH_5V"
      },
      "source": [
        "We can see that there are some `receiver_labels` that have the value `NOANNOTATION`. this is not a bool value"
      ]
    },
    {
      "cell_type": "code",
      "execution_count": 11,
      "metadata": {
        "colab": {
          "base_uri": "https://localhost:8080/"
        },
        "id": "5XYfs9SCH_5V",
        "outputId": "3b124400-2f0d-4526-c55b-5919e522afd5"
      },
      "outputs": [
        {
          "output_type": "stream",
          "name": "stdout",
          "text": [
            "NOANNOTATION percentage in:\n",
            "train = 8.43%\n",
            "test = 9.70%\n",
            "validation = 9.39%\n"
          ]
        }
      ],
      "source": [
        "print(\"NOANNOTATION percentage in:\")\n",
        "print(f'train = {(len(train_df[train_df[\"receiver_labels\"] == \"NOANNOTATION\"].index) /  len(train_df.index)) * 100:.2f}%')\n",
        "print(f'test = {(len(test_df[test_df[\"receiver_labels\"] == \"NOANNOTATION\"].index) /  len(test_df.index)) * 100:.2f}%')\n",
        "print(f'validation = {(len(validation_df[validation_df[\"receiver_labels\"] == \"NOANNOTATION\"].index) /  len(validation_df.index)) * 100:.2f}%')"
      ]
    },
    {
      "cell_type": "markdown",
      "metadata": {
        "id": "NLc1oVyRH_5V"
      },
      "source": [
        "The percentages are low in each dataset and \"NOANNOTATION\" does not provide any meaningful value so we will remove it to keep the results a boolean value `True` or `False`."
      ]
    },
    {
      "cell_type": "code",
      "execution_count": 12,
      "metadata": {
        "id": "a2sBu0ZzH_5V"
      },
      "outputs": [],
      "source": [
        "train_df = train_df[train_df[\"receiver_labels\"] != \"NOANNOTATION\"]\n",
        "test_df = test_df[test_df['receiver_labels'] != \"NOANNOTATION\"]\n",
        "validation_df = validation_df[validation_df['receiver_labels'] != \"NOANNOTATION\"]"
      ]
    },
    {
      "cell_type": "markdown",
      "metadata": {
        "id": "T1CwMStDH_5V"
      },
      "source": [
        "# Unique Words"
      ]
    },
    {
      "cell_type": "code",
      "execution_count": 13,
      "metadata": {
        "colab": {
          "base_uri": "https://localhost:8080/"
        },
        "id": "5YthjeIpH_5V",
        "outputId": "4cafb0f0-a227-463d-f753-dd8f46100f94"
      },
      "outputs": [
        {
          "output_type": "stream",
          "name": "stdout",
          "text": [
            "germany!: 11\n",
            "just: 1146\n",
            "the: 6037\n",
            "person: 28\n",
            "i: 8250\n",
            "want: 779\n",
            "to: 10653\n",
            "speak: 17\n",
            "with.: 34\n",
            "have: 1944\n",
            "a: 4399\n",
            "somewhat: 15\n",
            "crazy: 15\n",
            "idea: 89\n",
            "that: 3414\n",
            "i’ve: 139\n",
            "always: 75\n",
            "wanted: 136\n",
            "try: 284\n",
            "with: 2364\n",
            "i/g,: 1\n",
            "but: 2086\n",
            "never: 96\n",
            "actually: 195\n",
            "convinced: 11\n",
            "other: 271\n",
            "guy: 29\n",
            "it.: 244\n",
            "and,: 34\n",
            "what’s: 73\n",
            "worse,: 3\n"
          ]
        }
      ],
      "source": [
        "sequence_list = list(train_df['messages'].astype(str).str.lower().str.split().to_numpy())\n",
        "unique_words = {}\n",
        "for sequence in sequence_list:\n",
        "    for word in sequence:\n",
        "        unique_words[word] = unique_words.get(word, 0) + 1\n",
        "    # sequence_list = sequence_list + ([\"<PAD>\"] )\n",
        "\n",
        "for (i,(k,v)) in enumerate(unique_words.items()):\n",
        "    if i > 30:\n",
        "        break\n",
        "    print(f\"{k}: {v}\")"
      ]
    },
    {
      "cell_type": "code",
      "execution_count": 14,
      "metadata": {
        "colab": {
          "base_uri": "https://localhost:8080/"
        },
        "id": "-AtdALvKH_5V",
        "outputId": "163faebd-e4c5-4f23-9303-64b9451115b1"
      },
      "outputs": [
        {
          "output_type": "execute_result",
          "data": {
            "text/plain": [
              "14991"
            ]
          },
          "metadata": {},
          "execution_count": 14
        }
      ],
      "source": [
        "len(unique_words)"
      ]
    },
    {
      "cell_type": "markdown",
      "metadata": {
        "id": "p4K0QpyJH_5V"
      },
      "source": [
        "<!-- I processed only what is considered a **word** to the regex `\\w+`. this means that any punctuation is omitted. -->\n",
        "\n",
        "After processing, we have a total of 15,657 words.\n",
        "\n",
        "Some things to note are\n",
        "- there are some arbitrary number included\n",
        "- some words are repeated because of long character exaggeration (for example, \"aaaaaalllllllllll\" instead of \"all\" or \"aaaaany\" instead of \"any\")\n",
        "- some words are repeated because of misspellings and typos"
      ]
    },
    {
      "cell_type": "code",
      "execution_count": 15,
      "metadata": {
        "colab": {
          "base_uri": "https://localhost:8080/",
          "height": 430
        },
        "id": "oxoSJ5zCH_5V",
        "outputId": "ec3a77ca-38f5-42a1-d3c0-2ae8ad4c5400"
      },
      "outputs": [
        {
          "output_type": "display_data",
          "data": {
            "text/plain": [
              "<Figure size 640x480 with 1 Axes>"
            ],
            "image/png": "[encoded data removed]"
          },
          "metadata": {}
        }
      ],
      "source": [
        "plt.hist(list(map(len, sequence_list)),bins=100)\n",
        "plt.show()"
      ]
    },
    {
      "cell_type": "code",
      "execution_count": 16,
      "metadata": {
        "colab": {
          "base_uri": "https://localhost:8080/",
          "height": 206
        },
        "id": "U0BegipJH_5W",
        "outputId": "24fa63ee-54c7-43c5-e5f6-691c52bceca3"
      },
      "outputs": [
        {
          "output_type": "execute_result",
          "data": {
            "text/plain": [
              "                              value\n",
              "0              Message count  12025\n",
              "1  Average words per message     20\n",
              "2          Unique word count  14991\n",
              "3           Actual Lie count    545\n",
              "4         Actual Truth count  11480"
            ],
            "text/html": [
              "\n",
              "  <div id=\"df-addadb57-b791-4d94-be16-48eaf86d7cb7\" class=\"colab-df-container\">\n",
              "    <div>\n",
              "<style scoped>\n",
              "    .dataframe tbody tr th:only-of-type {\n",
              "        vertical-align: middle;\n",
              "    }\n",
              "\n",
              "    .dataframe tbody tr th {\n",
              "        vertical-align: top;\n",
              "    }\n",
              "\n",
              "    .dataframe thead th {\n",
              "        text-align: right;\n",
              "    }\n",
              "</style>\n",
              "<table border=\"1\" class=\"dataframe\">\n",
              "  <thead>\n",
              "    <tr style=\"text-align: right;\">\n",
              "      <th></th>\n",
              "      <th></th>\n",
              "      <th>value</th>\n",
              "    </tr>\n",
              "  </thead>\n",
              "  <tbody>\n",
              "    <tr>\n",
              "      <th>0</th>\n",
              "      <td>Message count</td>\n",
              "      <td>12025</td>\n",
              "    </tr>\n",
              "    <tr>\n",
              "      <th>1</th>\n",
              "      <td>Average words per message</td>\n",
              "      <td>20</td>\n",
              "    </tr>\n",
              "    <tr>\n",
              "      <th>2</th>\n",
              "      <td>Unique word count</td>\n",
              "      <td>14991</td>\n",
              "    </tr>\n",
              "    <tr>\n",
              "      <th>3</th>\n",
              "      <td>Actual Lie count</td>\n",
              "      <td>545</td>\n",
              "    </tr>\n",
              "    <tr>\n",
              "      <th>4</th>\n",
              "      <td>Actual Truth count</td>\n",
              "      <td>11480</td>\n",
              "    </tr>\n",
              "  </tbody>\n",
              "</table>\n",
              "</div>\n",
              "    <div class=\"colab-df-buttons\">\n",
              "\n",
              "  <div class=\"colab-df-container\">\n",
              "    <button class=\"colab-df-convert\" onclick=\"convertToInteractive('df-addadb57-b791-4d94-be16-48eaf86d7cb7')\"\n",
              "            title=\"Convert this dataframe to an interactive table.\"\n",
              "            style=\"display:none;\">\n",
              "\n",
              "  <svg xmlns=\"http://www.w3.org/2000/svg\" height=\"24px\" viewBox=\"0 -960 960 960\">\n",
              "    <path d=\"M120-120v-720h720v720H120Zm60-500h600v-160H180v160Zm220 220h160v-160H400v160Zm0 220h160v-160H400v160ZM180-400h160v-160H180v160Zm440 0h160v-160H620v160ZM180-180h160v-160H180v160Zm440 0h160v-160H620v160Z\"/>\n",
              "  </svg>\n",
              "    </button>\n",
              "\n",
              "  <style>\n",
              "    .colab-df-container {\n",
              "      display:flex;\n",
              "      gap: 12px;\n",
              "    }\n",
              "\n",
              "    .colab-df-convert {\n",
              "      background-color: #E8F0FE;\n",
              "      border: none;\n",
              "      border-radius: 50%;\n",
              "      cursor: pointer;\n",
              "      display: none;\n",
              "      fill: #1967D2;\n",
              "      height: 32px;\n",
              "      padding: 0 0 0 0;\n",
              "      width: 32px;\n",
              "    }\n",
              "\n",
              "    .colab-df-convert:hover {\n",
              "      background-color: #E2EBFA;\n",
              "      box-shadow: 0px 1px 2px rgba(60, 64, 67, 0.3), 0px 1px 3px 1px rgba(60, 64, 67, 0.15);\n",
              "      fill: #174EA6;\n",
              "    }\n",
              "\n",
              "    .colab-df-buttons div {\n",
              "      margin-bottom: 4px;\n",
              "    }\n",
              "\n",
              "    [theme=dark] .colab-df-convert {\n",
              "      background-color: #3B4455;\n",
              "      fill: #D2E3FC;\n",
              "    }\n",
              "\n",
              "    [theme=dark] .colab-df-convert:hover {\n",
              "      background-color: #434B5C;\n",
              "      box-shadow: 0px 1px 3px 1px rgba(0, 0, 0, 0.15);\n",
              "      filter: drop-shadow(0px 1px 2px rgba(0, 0, 0, 0.3));\n",
              "      fill: #FFFFFF;\n",
              "    }\n",
              "  </style>\n",
              "\n",
              "    <script>\n",
              "      const buttonEl =\n",
              "        document.querySelector('#df-addadb57-b791-4d94-be16-48eaf86d7cb7 button.colab-df-convert');\n",
              "      buttonEl.style.display =\n",
              "        google.colab.kernel.accessAllowed ? 'block' : 'none';\n",
              "\n",
              "      async function convertToInteractive(key) {\n",
              "        const element = document.querySelector('#df-addadb57-b791-4d94-be16-48eaf86d7cb7');\n",
              "        const dataTable =\n",
              "          await google.colab.kernel.invokeFunction('convertToInteractive',\n",
              "                                                    [key], {});\n",
              "        if (!dataTable) return;\n",
              "\n",
              "        const docLinkHtml = 'Like what you see? Visit the ' +\n",
              "          '<a target=\"_blank\" href=https://colab.research.google.com/notebooks/data_table.ipynb>data table notebook</a>'\n",
              "          + ' to learn more about interactive tables.';\n",
              "        element.innerHTML = '';\n",
              "        dataTable['output_type'] = 'display_data';\n",
              "        await google.colab.output.renderOutput(dataTable, element);\n",
              "        const docLink = document.createElement('div');\n",
              "        docLink.innerHTML = docLinkHtml;\n",
              "        element.appendChild(docLink);\n",
              "      }\n",
              "    </script>\n",
              "  </div>\n",
              "\n",
              "\n",
              "<div id=\"df-8bbebdc2-d2de-482d-ae07-bbe13c2ad004\">\n",
              "  <button class=\"colab-df-quickchart\" onclick=\"quickchart('df-8bbebdc2-d2de-482d-ae07-bbe13c2ad004')\"\n",
              "            title=\"Suggest charts\"\n",
              "            style=\"display:none;\">\n",
              "\n",
              "<svg xmlns=\"http://www.w3.org/2000/svg\" height=\"24px\"viewBox=\"0 0 24 24\"\n",
              "     width=\"24px\">\n",
              "    <g>\n",
              "        <path d=\"M19 3H5c-1.1 0-2 .9-2 2v14c0 1.1.9 2 2 2h14c1.1 0 2-.9 2-2V5c0-1.1-.9-2-2-2zM9 17H7v-7h2v7zm4 0h-2V7h2v10zm4 0h-2v-4h2v4z\"/>\n",
              "    </g>\n",
              "</svg>\n",
              "  </button>\n",
              "\n",
              "<style>\n",
              "  .colab-df-quickchart {\n",
              "      --bg-color: #E8F0FE;\n",
              "      --fill-color: #1967D2;\n",
              "      --hover-bg-color: #E2EBFA;\n",
              "      --hover-fill-color: #174EA6;\n",
              "      --disabled-fill-color: #AAA;\n",
              "      --disabled-bg-color: #DDD;\n",
              "  }\n",
              "\n",
              "  [theme=dark] .colab-df-quickchart {\n",
              "      --bg-color: #3B4455;\n",
              "      --fill-color: #D2E3FC;\n",
              "      --hover-bg-color: #434B5C;\n",
              "      --hover-fill-color: #FFFFFF;\n",
              "      --disabled-bg-color: #3B4455;\n",
              "      --disabled-fill-color: #666;\n",
              "  }\n",
              "\n",
              "  .colab-df-quickchart {\n",
              "    background-color: var(--bg-color);\n",
              "    border: none;\n",
              "    border-radius: 50%;\n",
              "    cursor: pointer;\n",
              "    display: none;\n",
              "    fill: var(--fill-color);\n",
              "    height: 32px;\n",
              "    padding: 0;\n",
              "    width: 32px;\n",
              "  }\n",
              "\n",
              "  .colab-df-quickchart:hover {\n",
              "    background-color: var(--hover-bg-color);\n",
              "    box-shadow: 0 1px 2px rgba(60, 64, 67, 0.3), 0 1px 3px 1px rgba(60, 64, 67, 0.15);\n",
              "    fill: var(--button-hover-fill-color);\n",
              "  }\n",
              "\n",
              "  .colab-df-quickchart-complete:disabled,\n",
              "  .colab-df-quickchart-complete:disabled:hover {\n",
              "    background-color: var(--disabled-bg-color);\n",
              "    fill: var(--disabled-fill-color);\n",
              "    box-shadow: none;\n",
              "  }\n",
              "\n",
              "  .colab-df-spinner {\n",
              "    border: 2px solid var(--fill-color);\n",
              "    border-color: transparent;\n",
              "    border-bottom-color: var(--fill-color);\n",
              "    animation:\n",
              "      spin 1s steps(1) infinite;\n",
              "  }\n",
              "\n",
              "  @keyframes spin {\n",
              "    0% {\n",
              "      border-color: transparent;\n",
              "      border-bottom-color: var(--fill-color);\n",
              "      border-left-color: var(--fill-color);\n",
              "    }\n",
              "    20% {\n",
              "      border-color: transparent;\n",
              "      border-left-color: var(--fill-color);\n",
              "      border-top-color: var(--fill-color);\n",
              "    }\n",
              "    30% {\n",
              "      border-color: transparent;\n",
              "      border-left-color: var(--fill-color);\n",
              "      border-top-color: var(--fill-color);\n",
              "      border-right-color: var(--fill-color);\n",
              "    }\n",
              "    40% {\n",
              "      border-color: transparent;\n",
              "      border-right-color: var(--fill-color);\n",
              "      border-top-color: var(--fill-color);\n",
              "    }\n",
              "    60% {\n",
              "      border-color: transparent;\n",
              "      border-right-color: var(--fill-color);\n",
              "    }\n",
              "    80% {\n",
              "      border-color: transparent;\n",
              "      border-right-color: var(--fill-color);\n",
              "      border-bottom-color: var(--fill-color);\n",
              "    }\n",
              "    90% {\n",
              "      border-color: transparent;\n",
              "      border-bottom-color: var(--fill-color);\n",
              "    }\n",
              "  }\n",
              "</style>\n",
              "\n",
              "  <script>\n",
              "    async function quickchart(key) {\n",
              "      const quickchartButtonEl =\n",
              "        document.querySelector('#' + key + ' button');\n",
              "      quickchartButtonEl.disabled = true;  // To prevent multiple clicks.\n",
              "      quickchartButtonEl.classList.add('colab-df-spinner');\n",
              "      try {\n",
              "        const charts = await google.colab.kernel.invokeFunction(\n",
              "            'suggestCharts', [key], {});\n",
              "      } catch (error) {\n",
              "        console.error('Error during call to suggestCharts:', error);\n",
              "      }\n",
              "      quickchartButtonEl.classList.remove('colab-df-spinner');\n",
              "      quickchartButtonEl.classList.add('colab-df-quickchart-complete');\n",
              "    }\n",
              "    (() => {\n",
              "      let quickchartButtonEl =\n",
              "        document.querySelector('#df-8bbebdc2-d2de-482d-ae07-bbe13c2ad004 button');\n",
              "      quickchartButtonEl.style.display =\n",
              "        google.colab.kernel.accessAllowed ? 'block' : 'none';\n",
              "    })();\n",
              "  </script>\n",
              "</div>\n",
              "\n",
              "    </div>\n",
              "  </div>\n"
            ]
          },
          "metadata": {},
          "execution_count": 16
        }
      ],
      "source": [
        "summary = {\n",
        "    \"\": [\n",
        "        'Message count',\n",
        "        'Average words per message',\n",
        "        'Unique word count',\n",
        "        'Actual Lie count',\n",
        "        'Actual Truth count'\n",
        "    ],\n",
        "    \"value\": [\n",
        "        len(train_df.index),\n",
        "        math.floor(sum(map(len, sequence_list)) / len(sequence_list)),\n",
        "        len(unique_words),\n",
        "        (~train_df['sender_labels']).sum(),\n",
        "        (train_df['sender_labels']).sum()\n",
        "    ],\n",
        "}\n",
        "pd.DataFrame(summary)"
      ]
    },
    {
      "cell_type": "markdown",
      "metadata": {
        "id": "QvgxZGKDH_5W"
      },
      "source": [
        "# Label count"
      ]
    },
    {
      "cell_type": "code",
      "execution_count": 17,
      "metadata": {
        "colab": {
          "base_uri": "https://localhost:8080/"
        },
        "id": "tI65rbpjH_5W",
        "outputId": "37cac148-7111-420e-fb20-9a0aec114bbc"
      },
      "outputs": [
        {
          "output_type": "execute_result",
          "data": {
            "text/plain": [
              "straightforward    10979\n",
              "cassandra            501\n",
              "deceive              480\n",
              "caught                65\n",
              "Name: label, dtype: int64"
            ]
          },
          "metadata": {},
          "execution_count": 17
        }
      ],
      "source": [
        "train_df['label'].value_counts()"
      ]
    },
    {
      "cell_type": "code",
      "execution_count": 18,
      "metadata": {
        "colab": {
          "base_uri": "https://localhost:8080/",
          "height": 523
        },
        "id": "4pVypJPeH_5W",
        "outputId": "787043bc-38eb-49f4-dfea-3d310246ba91"
      },
      "outputs": [
        {
          "output_type": "display_data",
          "data": {
            "text/plain": [
              "<Figure size 640x480 with 1 Axes>"
            ],
            "image/png": "[encoded data removed]"
          },
          "metadata": {}
        }
      ],
      "source": [
        "train_df['label'].value_counts().plot.bar()\n",
        "plt.show()"
      ]
    },
    {
      "cell_type": "code",
      "execution_count": 19,
      "metadata": {
        "colab": {
          "base_uri": "https://localhost:8080/"
        },
        "id": "_It4ZinOH_5W",
        "outputId": "8a014c96-070d-41fa-e751-9006892d6e65"
      },
      "outputs": [
        {
          "output_type": "execute_result",
          "data": {
            "text/plain": [
              "straightforward    0.913015\n",
              "cassandra          0.041663\n",
              "deceive            0.039917\n",
              "caught             0.005405\n",
              "Name: label, dtype: float64"
            ]
          },
          "metadata": {},
          "execution_count": 19
        }
      ],
      "source": [
        "train_df['label'].value_counts(normalize=True)"
      ]
    },
    {
      "cell_type": "markdown",
      "metadata": {
        "id": "fh5GwWxyH_5W"
      },
      "source": [
        "<hr/>\n",
        "\n",
        "# Constants"
      ]
    },
    {
      "cell_type": "code",
      "execution_count": 20,
      "metadata": {
        "id": "yAbuQL1DH_5W"
      },
      "outputs": [],
      "source": [
        "MAX_SEQUENCE_LEN = max(map(len,sequence_list))\n",
        "VOCAB_SIZE = 5000 # len(unique_words)\n",
        "EMBEDDING_OUTPUT_SIZE = 124\n",
        "LSTM_SIZE = 64\n",
        "DROPOUT_RATE = 0.2\n",
        "HIDDEN_LAYER_SIZE = 64\n",
        "LEARNING_RATE = 0.001\n",
        "\n",
        "CLASS_LABELS = [\"True\", \"False\"]\n",
        "\n",
        "tokenizer = keras.preprocessing.text.Tokenizer(num_words=VOCAB_SIZE, oov_token=\"<OOV>\")\n",
        "tokenizer.fit_on_texts(train_df['messages'])\n",
        "# smote = imblearn.over_sampling.SMOTE()\n",
        "\n",
        "# train_encoded_padded, y_train = smote.fit_resample(train_tokenized_padded, train_df['label_encoded'])\n",
        "# train_prev_encoded_padded, y_train = smote.fit_resample(train_prev_tokenized_padded, train_df['label_encoded'])\n",
        "\n",
        "train_encoded_padded, train_prev_encoded_padded = Tokenize(tokenizer, train_df, MAX_SEQUENCE_LEN)\n",
        "test_encoded_padded, test_prev_encoded_padded = Tokenize(tokenizer, test_df, MAX_SEQUENCE_LEN)\n",
        "validation_encoded_padded, validation_prev_encoded_padded = Tokenize(tokenizer, validation_df, MAX_SEQUENCE_LEN)"
      ]
    },
    {
      "cell_type": "markdown",
      "source": [
        "# Naive Bayes Baseline"
      ],
      "metadata": {
        "id": "W93xIIQkVdTx"
      }
    },
    {
      "cell_type": "code",
      "source": [
        "from sklearn.feature_extraction.text import CountVectorizer, TfidfTransformer\n",
        "from imblearn.over_sampling import SMOTE\n",
        "from sklearn.naive_bayes import MultinomialNB\n",
        "from sklearn import metrics\n",
        "\n",
        "# CountVectorizer and TfidfTransformer\n",
        "count_vect = CountVectorizer(max_features=VOCAB_SIZE)\n",
        "tf_transformer = TfidfTransformer(use_idf=False)\n",
        "\n",
        "# Process for sender labels\n",
        "X_train_sender = count_vect.fit_transform(train_df['messages'])\n",
        "X_train_sender_tf = tf_transformer.fit_transform(X_train_sender)\n",
        "y_train_sender = train_df['sender_labels_encoded']\n",
        "\n",
        "# Process for receiver labels\n",
        "X_train_receiver = count_vect.fit_transform(train_df['messages'])\n",
        "X_train_receiver_tf = tf_transformer.fit_transform(X_train_receiver)\n",
        "y_train_receiver = train_df['receiver_labels_encoded']\n",
        "\n",
        "\n",
        "# Initialize SMOTE\n",
        "oversample = SMOTE()\n",
        "\n",
        "# Apply SMOTE for sender labels\n",
        "X_train_sender_smote, y_train_sender_smote = oversample.fit_resample(X_train_sender_tf, y_train_sender)\n",
        "clf_sender = MultinomialNB().fit(X_train_sender_smote, y_train_sender_smote)\n",
        "\n",
        "# Apply SMOTE for receiver labels\n",
        "X_train_receiver_smote, y_train_receiver_smote = oversample.fit_resample(X_train_receiver_tf, y_train_receiver)\n",
        "clf_receiver = MultinomialNB().fit(X_train_receiver_smote, y_train_receiver_smote)\n",
        "\n",
        "X_test = count_vect.transform(test_df['messages'])\n",
        "X_test_tf = tf_transformer.transform(X_test)\n",
        "y_test_sender = test_df['sender_labels_encoded']\n",
        "y_test_receiver = test_df['receiver_labels_encoded']\n",
        "\n",
        "\n",
        "# Evaluation for sender labels\n",
        "y_test_pred_sender = clf_sender.predict(X_test_tf)\n",
        "print(\"Test Metrics for Sender Labels\")\n",
        "print(metrics.classification_report(y_test_sender, y_test_pred_sender))\n",
        "\n",
        "# Evaluation for receiver labels\n",
        "y_test_pred_receiver = clf_receiver.predict(X_test_tf)\n",
        "print(\"Test Metrics for Receiver Labels\")\n",
        "print(metrics.classification_report(y_test_receiver, y_test_pred_receiver))\n"
      ],
      "metadata": {
        "colab": {
          "base_uri": "https://localhost:8080/"
        },
        "id": "pwI9Tq-sVhYZ",
        "outputId": "46bac8cc-70eb-4d1e-fb6c-4029d814d66f"
      },
      "execution_count": 55,
      "outputs": [
        {
          "output_type": "stream",
          "name": "stdout",
          "text": [
            "Test Metrics for Sender Labels\n",
            "              precision    recall  f1-score   support\n",
            "\n",
            "           0       0.93      0.69      0.79      2268\n",
            "           1       0.11      0.43      0.18       207\n",
            "\n",
            "    accuracy                           0.67      2475\n",
            "   macro avg       0.52      0.56      0.48      2475\n",
            "weighted avg       0.86      0.67      0.74      2475\n",
            "\n",
            "Test Metrics for Receiver Labels\n",
            "              precision    recall  f1-score   support\n",
            "\n",
            "           0       0.94      0.73      0.82      2310\n",
            "           1       0.09      0.39      0.15       165\n",
            "\n",
            "    accuracy                           0.70      2475\n",
            "   macro avg       0.52      0.56      0.48      2475\n",
            "weighted avg       0.89      0.70      0.78      2475\n",
            "\n"
          ]
        }
      ]
    },
    {
      "cell_type": "code",
      "source": [],
      "metadata": {
        "id": "GNBDQHSGVhal"
      },
      "execution_count": null,
      "outputs": []
    },
    {
      "cell_type": "markdown",
      "metadata": {
        "id": "kOFXaU8oH_5W"
      },
      "source": [
        "<hr/>\n",
        "\n",
        "# Naive Neural Network"
      ]
    },
    {
      "cell_type": "code",
      "execution_count": 21,
      "metadata": {
        "id": "a-4Mu9XHH_5W"
      },
      "outputs": [],
      "source": [
        "def create_naive_model(\n",
        "        vocab_size: int = VOCAB_SIZE,\n",
        "        embedding_output: int = EMBEDDING_OUTPUT_SIZE,\n",
        "        sequence_length: int = MAX_SEQUENCE_LEN,\n",
        "        hidden_size: int = HIDDEN_LAYER_SIZE,\n",
        "        learning_rate: float = LEARNING_RATE\n",
        "    ):\n",
        "\n",
        "    message_input = keras.layers.Input(shape=(sequence_length,), dtype=tf.int64, name='message_input')\n",
        "\n",
        "    naive_output = pipe(\n",
        "        message_input,\n",
        "        keras.layers.Embedding(vocab_size, embedding_output, input_length=sequence_length),\n",
        "        keras.layers.Flatten(),\n",
        "        keras.layers.Dense(hidden_size, activation=\"relu\")\n",
        "    )\n",
        "\n",
        "    sender_output = keras.layers.Dense(1, activation='sigmoid', name=\"sender_output\")(naive_output)\n",
        "    receiver_output = keras.layers.Dense(1, activation='sigmoid', name=\"receiver_output\")(naive_output)\n",
        "\n",
        "    model = keras.Model(\n",
        "        inputs=[message_input],\n",
        "        outputs=[sender_output, receiver_output]\n",
        "    )\n",
        "\n",
        "    model.compile(\n",
        "        loss='binary_crossentropy',\n",
        "        optimizer=tf.keras.optimizers.Adam(learning_rate=learning_rate),\n",
        "        metrics=['AUC']\n",
        "    )\n",
        "\n",
        "    return model"
      ]
    },
    {
      "cell_type": "code",
      "execution_count": 22,
      "metadata": {
        "colab": {
          "base_uri": "https://localhost:8080/"
        },
        "id": "NxcMn9r4H_5X",
        "outputId": "85a7236f-b667-42e7-df24-ab87c56ec5ff"
      },
      "outputs": [
        {
          "output_type": "stream",
          "name": "stdout",
          "text": [
            "Model: \"model\"\n",
            "__________________________________________________________________________________________________\n",
            " Layer (type)                Output Shape                 Param #   Connected to                  \n",
            "==================================================================================================\n",
            " message_input (InputLayer)  [(None, 294)]                0         []                            \n",
            "                                                                                                  \n",
            " embedding (Embedding)       (None, 294, 124)             620000    ['message_input[0][0]']       \n",
            "                                                                                                  \n",
            " flatten (Flatten)           (None, 36456)                0         ['embedding[0][0]']           \n",
            "                                                                                                  \n",
            " dense (Dense)               (None, 64)                   2333248   ['flatten[0][0]']             \n",
            "                                                                                                  \n",
            " sender_output (Dense)       (None, 1)                    65        ['dense[0][0]']               \n",
            "                                                                                                  \n",
            " receiver_output (Dense)     (None, 1)                    65        ['dense[0][0]']               \n",
            "                                                                                                  \n",
            "==================================================================================================\n",
            "Total params: 2953378 (11.27 MB)\n",
            "Trainable params: 2953378 (11.27 MB)\n",
            "Non-trainable params: 0 (0.00 Byte)\n",
            "__________________________________________________________________________________________________\n"
          ]
        }
      ],
      "source": [
        "naive_model = create_naive_model()\n",
        "naive_model.summary()"
      ]
    },
    {
      "cell_type": "code",
      "execution_count": 23,
      "metadata": {
        "colab": {
          "base_uri": "https://localhost:8080/"
        },
        "id": "y3zE3Q_1H_5X",
        "outputId": "036205f2-3132-4972-d117-f565f3cb2a55"
      },
      "outputs": [
        {
          "output_type": "stream",
          "name": "stdout",
          "text": [
            "Epoch 1/10\n",
            "376/376 [==============================] - 34s 71ms/step - loss: 0.3853 - sender_output_loss: 0.1870 - receiver_output_loss: 0.1983 - sender_output_auc: 0.5879 - receiver_output_auc_1: 0.5302 - val_loss: 0.3383 - val_sender_output_loss: 0.1761 - val_receiver_output_loss: 0.1622 - val_sender_output_auc: 0.6277 - val_receiver_output_auc_1: 0.5273\n",
            "Epoch 2/10\n",
            "376/376 [==============================] - 7s 18ms/step - loss: 0.2746 - sender_output_loss: 0.1219 - receiver_output_loss: 0.1527 - sender_output_auc: 0.8870 - receiver_output_auc_1: 0.8272 - val_loss: 0.3973 - val_sender_output_loss: 0.2219 - val_receiver_output_loss: 0.1754 - val_sender_output_auc: 0.5254 - val_receiver_output_auc_1: 0.5605\n",
            "Epoch 3/10\n",
            "376/376 [==============================] - 5s 12ms/step - loss: 0.1286 - sender_output_loss: 0.0514 - receiver_output_loss: 0.0772 - sender_output_auc: 0.9844 - receiver_output_auc_1: 0.9703 - val_loss: 0.4729 - val_sender_output_loss: 0.2560 - val_receiver_output_loss: 0.2168 - val_sender_output_auc: 0.4647 - val_receiver_output_auc_1: 0.5526\n",
            "Epoch 4/10\n",
            "376/376 [==============================] - 4s 9ms/step - loss: 0.0611 - sender_output_loss: 0.0265 - receiver_output_loss: 0.0346 - sender_output_auc: 0.9931 - receiver_output_auc_1: 0.9941 - val_loss: 0.5906 - val_sender_output_loss: 0.3325 - val_receiver_output_loss: 0.2582 - val_sender_output_auc: 0.5123 - val_receiver_output_auc_1: 0.5044\n",
            "Epoch 5/10\n",
            "376/376 [==============================] - 3s 9ms/step - loss: 0.0391 - sender_output_loss: 0.0175 - receiver_output_loss: 0.0216 - sender_output_auc: 0.9987 - receiver_output_auc_1: 0.9982 - val_loss: 0.6581 - val_sender_output_loss: 0.3666 - val_receiver_output_loss: 0.2915 - val_sender_output_auc: 0.5091 - val_receiver_output_auc_1: 0.5199\n",
            "Epoch 6/10\n",
            "376/376 [==============================] - 3s 7ms/step - loss: 0.0297 - sender_output_loss: 0.0141 - receiver_output_loss: 0.0156 - sender_output_auc: 0.9989 - receiver_output_auc_1: 0.9972 - val_loss: 0.7655 - val_sender_output_loss: 0.4411 - val_receiver_output_loss: 0.3245 - val_sender_output_auc: 0.5088 - val_receiver_output_auc_1: 0.5171\n",
            "Epoch 7/10\n",
            "376/376 [==============================] - 2s 6ms/step - loss: 0.0232 - sender_output_loss: 0.0113 - receiver_output_loss: 0.0119 - sender_output_auc: 0.9994 - receiver_output_auc_1: 0.9985 - val_loss: 0.7897 - val_sender_output_loss: 0.4175 - val_receiver_output_loss: 0.3722 - val_sender_output_auc: 0.4940 - val_receiver_output_auc_1: 0.5026\n",
            "Epoch 8/10\n",
            "376/376 [==============================] - 2s 7ms/step - loss: 0.0199 - sender_output_loss: 0.0103 - receiver_output_loss: 0.0095 - sender_output_auc: 0.9986 - receiver_output_auc_1: 0.9986 - val_loss: 0.8081 - val_sender_output_loss: 0.4357 - val_receiver_output_loss: 0.3724 - val_sender_output_auc: 0.5043 - val_receiver_output_auc_1: 0.5148\n",
            "Epoch 9/10\n",
            "376/376 [==============================] - 2s 6ms/step - loss: 0.0172 - sender_output_loss: 0.0090 - receiver_output_loss: 0.0082 - sender_output_auc: 0.9996 - receiver_output_auc_1: 0.9988 - val_loss: 0.8820 - val_sender_output_loss: 0.4955 - val_receiver_output_loss: 0.3865 - val_sender_output_auc: 0.4930 - val_receiver_output_auc_1: 0.5322\n",
            "Epoch 10/10\n",
            "376/376 [==============================] - 3s 7ms/step - loss: 0.0189 - sender_output_loss: 0.0106 - receiver_output_loss: 0.0083 - sender_output_auc: 0.9985 - receiver_output_auc_1: 0.9988 - val_loss: 1.0122 - val_sender_output_loss: 0.5691 - val_receiver_output_loss: 0.4431 - val_sender_output_auc: 0.4965 - val_receiver_output_auc_1: 0.5107\n"
          ]
        }
      ],
      "source": [
        "naive_history = naive_model.fit(\n",
        "    train_encoded_padded,\n",
        "    [train_df['sender_labels_encoded'], train_df['receiver_labels_encoded']],\n",
        "    validation_data=(validation_encoded_padded, [validation_df['sender_labels_encoded'], validation_df['receiver_labels_encoded']]),\n",
        "    epochs=10\n",
        ")"
      ]
    },
    {
      "cell_type": "code",
      "execution_count": 24,
      "metadata": {
        "colab": {
          "base_uri": "https://localhost:8080/",
          "height": 972
        },
        "id": "cpxTKLVSH_5X",
        "outputId": "1d5f4a97-cf8e-4198-abd5-64c7fea9a4d3"
      },
      "outputs": [
        {
          "output_type": "stream",
          "name": "stdout",
          "text": [
            "========== Model Accuracy ==========\n"
          ]
        },
        {
          "output_type": "display_data",
          "data": {
            "text/plain": [
              "<Figure size 640x480 with 1 Axes>"
            ],
            "image/png": "[encoded data removed]"
          },
          "metadata": {}
        },
        {
          "output_type": "stream",
          "name": "stdout",
          "text": [
            "========== Test Evaluation ==========\n",
            "78/78 - 0s - loss: 1.9264 - sender_output_loss: 1.1029 - receiver_output_loss: 0.8236 - sender_output_auc: 0.5138 - receiver_output_auc_1: 0.5121 - 227ms/epoch - 3ms/step\n",
            "\n",
            "========== Test Metrics ==========\n",
            "78/78 [==============================] - 0s 2ms/step\n",
            "Best Threshold for Sender: 0.01 with F1 Score: 0.5132404004712201\n",
            "Best Threshold for Receiver: 0.05 with F1 Score: 0.5165206228721326\n",
            "\n",
            "---------- Sender Labels ----------\n",
            "              precision    recall  f1-score   support\n",
            "\n",
            "        True       0.92      0.95      0.94      2268\n",
            "       False       0.12      0.07      0.09       207\n",
            "\n",
            "    accuracy                           0.88      2475\n",
            "   macro avg       0.52      0.51      0.51      2475\n",
            "weighted avg       0.85      0.88      0.86      2475\n",
            "\n",
            "---------- Receiver Labels ----------\n",
            "              precision    recall  f1-score   support\n",
            "\n",
            "        True       0.94      0.96      0.95      2310\n",
            "       False       0.11      0.07      0.09       165\n",
            "\n",
            "    accuracy                           0.90      2475\n",
            "   macro avg       0.52      0.51      0.52      2475\n",
            "weighted avg       0.88      0.90      0.89      2475\n",
            "\n"
          ]
        }
      ],
      "source": [
        "EvaluateModel(naive_model, test_encoded_padded, [test_df['sender_labels_encoded'], test_df['receiver_labels_encoded']], naive_history);"
      ]
    },
    {
      "cell_type": "markdown",
      "metadata": {
        "id": "A1ISwfDeH_5b"
      },
      "source": [
        "# Naive LSTM"
      ]
    },
    {
      "cell_type": "code",
      "execution_count": 25,
      "metadata": {
        "id": "r-aWQuUmH_5b"
      },
      "outputs": [],
      "source": [
        "def create_naive_lstm_model(\n",
        "        sequence_length: int = MAX_SEQUENCE_LEN,\n",
        "        embedding_output: int = EMBEDDING_OUTPUT_SIZE,\n",
        "        vocab_size: int = VOCAB_SIZE,\n",
        "        lstm_size: int = LSTM_SIZE,\n",
        "        hidden_size = HIDDEN_LAYER_SIZE,\n",
        "        learning_rate: float = 2e-4,\n",
        "    ):\n",
        "\n",
        "    message_input = keras.layers.Input(shape=(sequence_length,), dtype=tf.int64, name='message_input')\n",
        "\n",
        "    naive_lstm_ouput = pipe(\n",
        "        message_input,\n",
        "        keras.layers.Embedding(vocab_size, embedding_output, input_length=sequence_length),\n",
        "        keras.layers.LSTM(lstm_size),\n",
        "        keras.layers.Dense(hidden_size),\n",
        "    )\n",
        "\n",
        "    sender_output = keras.layers.Dense(1, activation='sigmoid', name=\"sender_output\")(naive_lstm_ouput)\n",
        "    receiver_output = keras.layers.Dense(1, activation='sigmoid', name=\"receiver_output\")(naive_lstm_ouput)\n",
        "\n",
        "    model = keras.Model(\n",
        "        inputs=[message_input],\n",
        "        outputs=[sender_output, receiver_output]\n",
        "    )\n",
        "\n",
        "    model.compile(\n",
        "        loss='binary_crossentropy',\n",
        "        optimizer=tf.keras.optimizers.Adam(learning_rate=learning_rate),\n",
        "        metrics=['AUC']\n",
        "    )\n",
        "\n",
        "    return model"
      ]
    },
    {
      "cell_type": "code",
      "execution_count": 26,
      "metadata": {
        "colab": {
          "base_uri": "https://localhost:8080/"
        },
        "id": "S6eaF4JoH_5b",
        "outputId": "627f6b97-aa1c-4a65-d9c5-8502928bd213"
      },
      "outputs": [
        {
          "output_type": "stream",
          "name": "stdout",
          "text": [
            "Model: \"model_1\"\n",
            "__________________________________________________________________________________________________\n",
            " Layer (type)                Output Shape                 Param #   Connected to                  \n",
            "==================================================================================================\n",
            " message_input (InputLayer)  [(None, 294)]                0         []                            \n",
            "                                                                                                  \n",
            " embedding_1 (Embedding)     (None, 294, 124)             620000    ['message_input[0][0]']       \n",
            "                                                                                                  \n",
            " lstm (LSTM)                 (None, 64)                   48384     ['embedding_1[0][0]']         \n",
            "                                                                                                  \n",
            " dense_1 (Dense)             (None, 64)                   4160      ['lstm[0][0]']                \n",
            "                                                                                                  \n",
            " sender_output (Dense)       (None, 1)                    65        ['dense_1[0][0]']             \n",
            "                                                                                                  \n",
            " receiver_output (Dense)     (None, 1)                    65        ['dense_1[0][0]']             \n",
            "                                                                                                  \n",
            "==================================================================================================\n",
            "Total params: 672674 (2.57 MB)\n",
            "Trainable params: 672674 (2.57 MB)\n",
            "Non-trainable params: 0 (0.00 Byte)\n",
            "__________________________________________________________________________________________________\n"
          ]
        }
      ],
      "source": [
        "naive_lstm_model = create_naive_lstm_model()\n",
        "naive_lstm_model.summary()"
      ]
    },
    {
      "cell_type": "code",
      "execution_count": 27,
      "metadata": {
        "colab": {
          "base_uri": "https://localhost:8080/"
        },
        "id": "UlPfNWtOH_5c",
        "outputId": "f0333a40-79c4-4438-c650-e5b329f6e5be"
      },
      "outputs": [
        {
          "output_type": "stream",
          "name": "stdout",
          "text": [
            "Epoch 1/10\n",
            "376/376 [==============================] - 26s 59ms/step - loss: 0.4768 - sender_output_loss: 0.2326 - receiver_output_loss: 0.2442 - sender_output_auc: 0.5652 - receiver_output_auc_1: 0.5087 - val_loss: 0.3215 - val_sender_output_loss: 0.1615 - val_receiver_output_loss: 0.1600 - val_sender_output_auc: 0.6361 - val_receiver_output_auc_1: 0.4824\n",
            "Epoch 2/10\n",
            "376/376 [==============================] - 8s 23ms/step - loss: 0.3674 - sender_output_loss: 0.1791 - receiver_output_loss: 0.1883 - sender_output_auc: 0.6299 - receiver_output_auc_1: 0.5710 - val_loss: 0.3210 - val_sender_output_loss: 0.1599 - val_receiver_output_loss: 0.1611 - val_sender_output_auc: 0.6509 - val_receiver_output_auc_1: 0.4710\n",
            "Epoch 3/10\n",
            "376/376 [==============================] - 8s 21ms/step - loss: 0.3495 - sender_output_loss: 0.1674 - receiver_output_loss: 0.1821 - sender_output_auc: 0.7256 - receiver_output_auc_1: 0.6581 - val_loss: 0.3267 - val_sender_output_loss: 0.1607 - val_receiver_output_loss: 0.1661 - val_sender_output_auc: 0.6299 - val_receiver_output_auc_1: 0.4862\n",
            "Epoch 4/10\n",
            "376/376 [==============================] - 7s 17ms/step - loss: 0.3145 - sender_output_loss: 0.1465 - receiver_output_loss: 0.1680 - sender_output_auc: 0.8345 - receiver_output_auc_1: 0.7640 - val_loss: 0.3646 - val_sender_output_loss: 0.1874 - val_receiver_output_loss: 0.1772 - val_sender_output_auc: 0.5828 - val_receiver_output_auc_1: 0.4898\n",
            "Epoch 5/10\n",
            "376/376 [==============================] - 7s 18ms/step - loss: 0.2857 - sender_output_loss: 0.1323 - receiver_output_loss: 0.1534 - sender_output_auc: 0.8806 - receiver_output_auc_1: 0.8295 - val_loss: 0.3828 - val_sender_output_loss: 0.1991 - val_receiver_output_loss: 0.1837 - val_sender_output_auc: 0.5639 - val_receiver_output_auc_1: 0.4960\n",
            "Epoch 6/10\n",
            "376/376 [==============================] - 6s 17ms/step - loss: 0.2577 - sender_output_loss: 0.1183 - receiver_output_loss: 0.1394 - sender_output_auc: 0.9122 - receiver_output_auc_1: 0.8759 - val_loss: 0.4161 - val_sender_output_loss: 0.2275 - val_receiver_output_loss: 0.1886 - val_sender_output_auc: 0.5238 - val_receiver_output_auc_1: 0.5010\n",
            "Epoch 7/10\n",
            "376/376 [==============================] - 6s 15ms/step - loss: 0.2330 - sender_output_loss: 0.1052 - receiver_output_loss: 0.1277 - sender_output_auc: 0.9350 - receiver_output_auc_1: 0.9069 - val_loss: 0.4415 - val_sender_output_loss: 0.2349 - val_receiver_output_loss: 0.2066 - val_sender_output_auc: 0.5412 - val_receiver_output_auc_1: 0.4879\n",
            "Epoch 8/10\n",
            "376/376 [==============================] - 5s 15ms/step - loss: 0.2092 - sender_output_loss: 0.0929 - receiver_output_loss: 0.1162 - sender_output_auc: 0.9488 - receiver_output_auc_1: 0.9286 - val_loss: 0.4729 - val_sender_output_loss: 0.2552 - val_receiver_output_loss: 0.2178 - val_sender_output_auc: 0.5133 - val_receiver_output_auc_1: 0.4913\n",
            "Epoch 9/10\n",
            "376/376 [==============================] - 6s 16ms/step - loss: 0.1856 - sender_output_loss: 0.0808 - receiver_output_loss: 0.1048 - sender_output_auc: 0.9639 - receiver_output_auc_1: 0.9445 - val_loss: 0.5221 - val_sender_output_loss: 0.2831 - val_receiver_output_loss: 0.2390 - val_sender_output_auc: 0.5190 - val_receiver_output_auc_1: 0.5053\n",
            "Epoch 10/10\n",
            "376/376 [==============================] - 6s 16ms/step - loss: 0.1634 - sender_output_loss: 0.0692 - receiver_output_loss: 0.0942 - sender_output_auc: 0.9737 - receiver_output_auc_1: 0.9556 - val_loss: 0.6143 - val_sender_output_loss: 0.3443 - val_receiver_output_loss: 0.2701 - val_sender_output_auc: 0.5134 - val_receiver_output_auc_1: 0.5190\n"
          ]
        }
      ],
      "source": [
        "naive_lstm_history = naive_lstm_model.fit(\n",
        "    train_encoded_padded,\n",
        "    [train_df['sender_labels_encoded'], train_df['receiver_labels_encoded']],\n",
        "    validation_data=(validation_encoded_padded, [validation_df['sender_labels_encoded'], validation_df['receiver_labels_encoded']]),\n",
        "    epochs=10\n",
        ")"
      ]
    },
    {
      "cell_type": "code",
      "execution_count": 28,
      "metadata": {
        "colab": {
          "base_uri": "https://localhost:8080/",
          "height": 972
        },
        "id": "fTMpxASlH_5c",
        "outputId": "9e5376be-3234-42d5-b07b-673f2834664c"
      },
      "outputs": [
        {
          "output_type": "stream",
          "name": "stdout",
          "text": [
            "========== Model Accuracy ==========\n"
          ]
        },
        {
          "output_type": "display_data",
          "data": {
            "text/plain": [
              "<Figure size 640x480 with 1 Axes>"
            ],
            "image/png": "[encoded data removed]"
          },
          "metadata": {}
        },
        {
          "output_type": "stream",
          "name": "stdout",
          "text": [
            "========== Test Evaluation ==========\n",
            "78/78 - 0s - loss: 1.0915 - sender_output_loss: 0.6547 - receiver_output_loss: 0.4368 - sender_output_auc: 0.5377 - receiver_output_auc_1: 0.5246 - 487ms/epoch - 6ms/step\n",
            "\n",
            "========== Test Metrics ==========\n",
            "78/78 [==============================] - 1s 5ms/step\n",
            "Best Threshold for Sender: 0.11 with F1 Score: 0.5502310852027433\n",
            "Best Threshold for Receiver: 0.13 with F1 Score: 0.5323341234947543\n",
            "\n",
            "---------- Sender Labels ----------\n",
            "              precision    recall  f1-score   support\n",
            "\n",
            "        True       0.92      0.93      0.93      2268\n",
            "       False       0.18      0.17      0.17       207\n",
            "\n",
            "    accuracy                           0.87      2475\n",
            "   macro avg       0.55      0.55      0.55      2475\n",
            "weighted avg       0.86      0.87      0.86      2475\n",
            "\n",
            "---------- Receiver Labels ----------\n",
            "              precision    recall  f1-score   support\n",
            "\n",
            "        True       0.94      0.92      0.93      2310\n",
            "       False       0.12      0.15      0.13       165\n",
            "\n",
            "    accuracy                           0.87      2475\n",
            "   macro avg       0.53      0.54      0.53      2475\n",
            "weighted avg       0.88      0.87      0.88      2475\n",
            "\n"
          ]
        }
      ],
      "source": [
        "EvaluateModel(naive_lstm_model, test_encoded_padded, [test_df['sender_labels_encoded'], test_df['receiver_labels_encoded']], naive_lstm_history);"
      ]
    },
    {
      "cell_type": "markdown",
      "metadata": {
        "id": "VTnEv6e2H_5c"
      },
      "source": [
        "<hr/>\n",
        "\n",
        "# Context lstm"
      ]
    },
    {
      "cell_type": "code",
      "execution_count": 29,
      "metadata": {
        "id": "OVDmLfHJH_5c"
      },
      "outputs": [],
      "source": [
        "def create_context_lstm_model(\n",
        "        sequence_length: int = MAX_SEQUENCE_LEN,\n",
        "        embedding_output: int = EMBEDDING_OUTPUT_SIZE,\n",
        "        vocab_size: int = VOCAB_SIZE,\n",
        "        lstm_size: int = 1024,\n",
        "        dropout: float = DROPOUT_RATE,\n",
        "        hidden_size = HIDDEN_LAYER_SIZE,\n",
        "        learning_rate: float = 2e-5,\n",
        "    ):\n",
        "\n",
        "    current_message_input = keras.layers.Input(shape=(sequence_length,), dtype=tf.int64, name='current_message_input')\n",
        "    previous_message_input = keras.layers.Input(shape=(sequence_length,), dtype=tf.int64, name='previous_message_input')\n",
        "\n",
        "    current_message_lstm = pipe(\n",
        "        current_message_input,\n",
        "        keras.layers.Embedding(vocab_size, embedding_output, input_length=sequence_length),\n",
        "        keras.layers.LSTM(lstm_size),\n",
        "        keras.layers.Dropout(dropout)\n",
        "    )\n",
        "\n",
        "    previous_message_lstm = pipe(\n",
        "        previous_message_input,\n",
        "        keras.layers.Embedding(vocab_size, embedding_output, input_length=sequence_length),\n",
        "        keras.layers.LSTM(lstm_size),\n",
        "        keras.layers.Dropout(dropout)\n",
        "    )\n",
        "\n",
        "    context_lstm_ouput = pipe(\n",
        "        [\n",
        "            current_message_lstm,\n",
        "            previous_message_lstm\n",
        "        ],\n",
        "        keras.layers.Concatenate(),\n",
        "        keras.layers.Dense(hidden_size)\n",
        "    )\n",
        "\n",
        "    sender_output = keras.layers.Dense(1, activation='sigmoid', name=\"sender_output\")(context_lstm_ouput)\n",
        "    receiver_output = keras.layers.Dense(1, activation='sigmoid', name=\"receiver_output\")(context_lstm_ouput)\n",
        "\n",
        "    context_lstm_model = keras.Model(\n",
        "        inputs=[current_message_input, previous_message_input],\n",
        "        outputs=[sender_output, receiver_output]\n",
        "    )\n",
        "\n",
        "    context_lstm_model.compile(\n",
        "        loss='binary_crossentropy',\n",
        "        optimizer=tf.keras.optimizers.Adam(learning_rate=learning_rate),\n",
        "        metrics=['AUC']\n",
        "    )\n",
        "\n",
        "    return context_lstm_model"
      ]
    },
    {
      "cell_type": "code",
      "execution_count": 30,
      "metadata": {
        "colab": {
          "base_uri": "https://localhost:8080/"
        },
        "id": "9JBInwORH_5c",
        "outputId": "c0ae4e23-e75b-4f49-8b49-da6a9152d277"
      },
      "outputs": [
        {
          "output_type": "stream",
          "name": "stdout",
          "text": [
            "Model: \"model_2\"\n",
            "__________________________________________________________________________________________________\n",
            " Layer (type)                Output Shape                 Param #   Connected to                  \n",
            "==================================================================================================\n",
            " current_message_input (Inp  [(None, 294)]                0         []                            \n",
            " utLayer)                                                                                         \n",
            "                                                                                                  \n",
            " previous_message_input (In  [(None, 294)]                0         []                            \n",
            " putLayer)                                                                                        \n",
            "                                                                                                  \n",
            " embedding_2 (Embedding)     (None, 294, 124)             620000    ['current_message_input[0][0]'\n",
            "                                                                    ]                             \n",
            "                                                                                                  \n",
            " embedding_3 (Embedding)     (None, 294, 124)             620000    ['previous_message_input[0][0]\n",
            "                                                                    ']                            \n",
            "                                                                                                  \n",
            " lstm_1 (LSTM)               (None, 1024)                 4706304   ['embedding_2[0][0]']         \n",
            "                                                                                                  \n",
            " lstm_2 (LSTM)               (None, 1024)                 4706304   ['embedding_3[0][0]']         \n",
            "                                                                                                  \n",
            " dropout (Dropout)           (None, 1024)                 0         ['lstm_1[0][0]']              \n",
            "                                                                                                  \n",
            " dropout_1 (Dropout)         (None, 1024)                 0         ['lstm_2[0][0]']              \n",
            "                                                                                                  \n",
            " concatenate (Concatenate)   (None, 2048)                 0         ['dropout[0][0]',             \n",
            "                                                                     'dropout_1[0][0]']           \n",
            "                                                                                                  \n",
            " dense_2 (Dense)             (None, 64)                   131136    ['concatenate[0][0]']         \n",
            "                                                                                                  \n",
            " sender_output (Dense)       (None, 1)                    65        ['dense_2[0][0]']             \n",
            "                                                                                                  \n",
            " receiver_output (Dense)     (None, 1)                    65        ['dense_2[0][0]']             \n",
            "                                                                                                  \n",
            "==================================================================================================\n",
            "Total params: 10783874 (41.14 MB)\n",
            "Trainable params: 10783874 (41.14 MB)\n",
            "Non-trainable params: 0 (0.00 Byte)\n",
            "__________________________________________________________________________________________________\n"
          ]
        }
      ],
      "source": [
        "context_lstm_model = create_context_lstm_model()\n",
        "context_lstm_model.summary()"
      ]
    },
    {
      "cell_type": "code",
      "execution_count": 31,
      "metadata": {
        "colab": {
          "base_uri": "https://localhost:8080/"
        },
        "id": "HIoW2xfBH_5c",
        "outputId": "12fa74f6-9755-4ab4-be53-8b103b72eb80"
      },
      "outputs": [
        {
          "output_type": "stream",
          "name": "stdout",
          "text": [
            "Epoch 1/10\n",
            "376/376 [==============================] - 56s 134ms/step - loss: 0.4721 - sender_output_loss: 0.2315 - receiver_output_loss: 0.2406 - sender_output_auc: 0.5501 - receiver_output_auc_1: 0.5083 - val_loss: 0.3218 - val_sender_output_loss: 0.1623 - val_receiver_output_loss: 0.1595 - val_sender_output_auc: 0.6024 - val_receiver_output_auc_1: 0.4333\n",
            "Epoch 2/10\n",
            "376/376 [==============================] - 40s 105ms/step - loss: 0.3740 - sender_output_loss: 0.1825 - receiver_output_loss: 0.1915 - sender_output_auc: 0.5921 - receiver_output_auc_1: 0.5115 - val_loss: 0.3222 - val_sender_output_loss: 0.1636 - val_receiver_output_loss: 0.1586 - val_sender_output_auc: 0.6082 - val_receiver_output_auc_1: 0.4418\n",
            "Epoch 3/10\n",
            "376/376 [==============================] - 38s 101ms/step - loss: 0.3742 - sender_output_loss: 0.1833 - receiver_output_loss: 0.1909 - sender_output_auc: 0.5710 - receiver_output_auc_1: 0.5267 - val_loss: 0.3222 - val_sender_output_loss: 0.1622 - val_receiver_output_loss: 0.1600 - val_sender_output_auc: 0.6467 - val_receiver_output_auc_1: 0.4629\n",
            "Epoch 4/10\n",
            "376/376 [==============================] - 38s 100ms/step - loss: 0.3731 - sender_output_loss: 0.1826 - receiver_output_loss: 0.1905 - sender_output_auc: 0.5876 - receiver_output_auc_1: 0.5269 - val_loss: 0.3202 - val_sender_output_loss: 0.1613 - val_receiver_output_loss: 0.1590 - val_sender_output_auc: 0.6539 - val_receiver_output_auc_1: 0.4769\n",
            "Epoch 5/10\n",
            "376/376 [==============================] - 37s 99ms/step - loss: 0.3731 - sender_output_loss: 0.1819 - receiver_output_loss: 0.1912 - sender_output_auc: 0.5976 - receiver_output_auc_1: 0.5271 - val_loss: 0.3287 - val_sender_output_loss: 0.1632 - val_receiver_output_loss: 0.1655 - val_sender_output_auc: 0.6485 - val_receiver_output_auc_1: 0.4690\n",
            "Epoch 6/10\n",
            "376/376 [==============================] - 37s 98ms/step - loss: 0.3713 - sender_output_loss: 0.1811 - receiver_output_loss: 0.1902 - sender_output_auc: 0.6072 - receiver_output_auc_1: 0.5447 - val_loss: 0.3192 - val_sender_output_loss: 0.1607 - val_receiver_output_loss: 0.1585 - val_sender_output_auc: 0.6543 - val_receiver_output_auc_1: 0.4826\n",
            "Epoch 7/10\n",
            "376/376 [==============================] - 37s 98ms/step - loss: 0.3674 - sender_output_loss: 0.1792 - receiver_output_loss: 0.1882 - sender_output_auc: 0.6391 - receiver_output_auc_1: 0.5743 - val_loss: 0.3324 - val_sender_output_loss: 0.1675 - val_receiver_output_loss: 0.1649 - val_sender_output_auc: 0.6596 - val_receiver_output_auc_1: 0.5057\n",
            "Epoch 8/10\n",
            "376/376 [==============================] - 37s 98ms/step - loss: 0.3662 - sender_output_loss: 0.1789 - receiver_output_loss: 0.1872 - sender_output_auc: 0.6350 - receiver_output_auc_1: 0.5903 - val_loss: 0.3173 - val_sender_output_loss: 0.1590 - val_receiver_output_loss: 0.1583 - val_sender_output_auc: 0.6668 - val_receiver_output_auc_1: 0.5061\n",
            "Epoch 9/10\n",
            "376/376 [==============================] - 37s 98ms/step - loss: 0.3573 - sender_output_loss: 0.1739 - receiver_output_loss: 0.1834 - sender_output_auc: 0.6849 - receiver_output_auc_1: 0.6458 - val_loss: 0.3175 - val_sender_output_loss: 0.1583 - val_receiver_output_loss: 0.1592 - val_sender_output_auc: 0.6675 - val_receiver_output_auc_1: 0.5169\n",
            "Epoch 10/10\n",
            "376/376 [==============================] - 37s 97ms/step - loss: 0.3712 - sender_output_loss: 0.1799 - receiver_output_loss: 0.1913 - sender_output_auc: 0.7133 - receiver_output_auc_1: 0.6836 - val_loss: 0.3263 - val_sender_output_loss: 0.1623 - val_receiver_output_loss: 0.1639 - val_sender_output_auc: 0.6461 - val_receiver_output_auc_1: 0.5047\n"
          ]
        }
      ],
      "source": [
        "context_lstm_history = context_lstm_model.fit(\n",
        "    [train_encoded_padded, train_prev_encoded_padded],\n",
        "    [train_df['sender_labels_encoded'], train_df['receiver_labels_encoded']],\n",
        "    validation_data=([validation_encoded_padded, validation_prev_encoded_padded], [validation_df['sender_labels_encoded'], validation_df['receiver_labels_encoded']]),\n",
        "    epochs=10\n",
        ")"
      ]
    },
    {
      "cell_type": "code",
      "execution_count": 32,
      "metadata": {
        "colab": {
          "base_uri": "https://localhost:8080/",
          "height": 972
        },
        "id": "7RlRAffbH_5d",
        "outputId": "45dd3345-5b67-42bc-fe6d-723acd64a370"
      },
      "outputs": [
        {
          "output_type": "stream",
          "name": "stdout",
          "text": [
            "========== Model Accuracy ==========\n"
          ]
        },
        {
          "output_type": "display_data",
          "data": {
            "text/plain": [
              "<Figure size 640x480 with 1 Axes>"
            ],
            "image/png": "[encoded data removed]"
          },
          "metadata": {}
        },
        {
          "output_type": "stream",
          "name": "stdout",
          "text": [
            "========== Test Evaluation ==========\n",
            "78/78 - 3s - loss: 0.5200 - sender_output_loss: 0.2801 - receiver_output_loss: 0.2398 - sender_output_auc: 0.6693 - receiver_output_auc_1: 0.6180 - 3s/epoch - 37ms/step\n",
            "\n",
            "========== Test Metrics ==========\n",
            "78/78 [==============================] - 3s 34ms/step\n",
            "Best Threshold for Sender: 0.08 with F1 Score: 0.5723931508192588\n",
            "Best Threshold for Receiver: 0.1 with F1 Score: 0.5450822564802343\n",
            "\n",
            "---------- Sender Labels ----------\n",
            "              precision    recall  f1-score   support\n",
            "\n",
            "        True       0.94      0.84      0.89      2268\n",
            "       False       0.19      0.40      0.26       207\n",
            "\n",
            "    accuracy                           0.81      2475\n",
            "   macro avg       0.56      0.62      0.57      2475\n",
            "weighted avg       0.88      0.81      0.84      2475\n",
            "\n",
            "---------- Receiver Labels ----------\n",
            "              precision    recall  f1-score   support\n",
            "\n",
            "        True       0.94      0.95      0.95      2310\n",
            "       False       0.17      0.13      0.14       165\n",
            "\n",
            "    accuracy                           0.90      2475\n",
            "   macro avg       0.55      0.54      0.55      2475\n",
            "weighted avg       0.89      0.90      0.89      2475\n",
            "\n"
          ]
        }
      ],
      "source": [
        "sender_threshold, receiver_threshold = EvaluateModel(context_lstm_model, [test_encoded_padded, test_prev_encoded_padded], [test_df['sender_labels_encoded'], test_df['receiver_labels_encoded']], context_lstm_history)"
      ]
    },
    {
      "cell_type": "markdown",
      "metadata": {
        "id": "IOzl-BS3H_5d"
      },
      "source": [
        "# LSTM + Power"
      ]
    },
    {
      "cell_type": "code",
      "execution_count": 33,
      "metadata": {
        "id": "faQ9IKqOH_5d"
      },
      "outputs": [],
      "source": [
        "def create_lstm_power_model(\n",
        "        sequence_length: int = MAX_SEQUENCE_LEN,\n",
        "        embedding_output: int = EMBEDDING_OUTPUT_SIZE,\n",
        "        vocab_size: int = VOCAB_SIZE,\n",
        "        lstm_size: int = 1024,\n",
        "        dropout: float = DROPOUT_RATE,\n",
        "        hidden_size = HIDDEN_LAYER_SIZE,\n",
        "        learning_rate: float = 2e-5,\n",
        "    ):\n",
        "\n",
        "    message_input = keras.layers.Input(shape=(sequence_length,), dtype=tf.int64, name='current_message_input')\n",
        "    power_diff_input = keras.layers.Input(shape=(1,), name='power_differential')\n",
        "\n",
        "    lstm_output = pipe(\n",
        "        message_input,\n",
        "        keras.layers.Embedding(vocab_size, embedding_output, input_length=sequence_length),\n",
        "        keras.layers.LSTM(lstm_size),\n",
        "        keras.layers.Dropout(dropout)\n",
        "    )\n",
        "\n",
        "    lstm_power_ouput = pipe(\n",
        "        [\n",
        "            lstm_output,\n",
        "            power_diff_input\n",
        "        ],\n",
        "        keras.layers.Concatenate(),\n",
        "        keras.layers.Dense(hidden_size),\n",
        "    )\n",
        "\n",
        "    sender_output = keras.layers.Dense(1, activation='sigmoid', name=\"sender_output\")(lstm_power_ouput)\n",
        "    receiver_output = keras.layers.Dense(1, activation='sigmoid', name=\"receiver_output\")(lstm_power_ouput)\n",
        "\n",
        "    lstm_power_model = keras.Model(\n",
        "        inputs=[message_input, power_diff_input],\n",
        "        outputs=[sender_output, receiver_output]\n",
        "    )\n",
        "\n",
        "    lstm_power_model.compile(\n",
        "        loss='binary_crossentropy',\n",
        "        optimizer=tf.keras.optimizers.Adam(learning_rate=learning_rate),\n",
        "        metrics=['AUC']\n",
        "    )\n",
        "\n",
        "    return lstm_power_model"
      ]
    },
    {
      "cell_type": "code",
      "execution_count": 34,
      "metadata": {
        "colab": {
          "base_uri": "https://localhost:8080/"
        },
        "id": "VW-oHam8H_5d",
        "outputId": "65ec4912-8567-4fde-e735-8feea2f739a5"
      },
      "outputs": [
        {
          "output_type": "stream",
          "name": "stdout",
          "text": [
            "Model: \"model_3\"\n",
            "__________________________________________________________________________________________________\n",
            " Layer (type)                Output Shape                 Param #   Connected to                  \n",
            "==================================================================================================\n",
            " current_message_input (Inp  [(None, 294)]                0         []                            \n",
            " utLayer)                                                                                         \n",
            "                                                                                                  \n",
            " embedding_4 (Embedding)     (None, 294, 124)             620000    ['current_message_input[0][0]'\n",
            "                                                                    ]                             \n",
            "                                                                                                  \n",
            " lstm_3 (LSTM)               (None, 1024)                 4706304   ['embedding_4[0][0]']         \n",
            "                                                                                                  \n",
            " dropout_2 (Dropout)         (None, 1024)                 0         ['lstm_3[0][0]']              \n",
            "                                                                                                  \n",
            " power_differential (InputL  [(None, 1)]                  0         []                            \n",
            " ayer)                                                                                            \n",
            "                                                                                                  \n",
            " concatenate_1 (Concatenate  (None, 1025)                 0         ['dropout_2[0][0]',           \n",
            " )                                                                   'power_differential[0][0]']  \n",
            "                                                                                                  \n",
            " dense_3 (Dense)             (None, 64)                   65664     ['concatenate_1[0][0]']       \n",
            "                                                                                                  \n",
            " sender_output (Dense)       (None, 1)                    65        ['dense_3[0][0]']             \n",
            "                                                                                                  \n",
            " receiver_output (Dense)     (None, 1)                    65        ['dense_3[0][0]']             \n",
            "                                                                                                  \n",
            "==================================================================================================\n",
            "Total params: 5392098 (20.57 MB)\n",
            "Trainable params: 5392098 (20.57 MB)\n",
            "Non-trainable params: 0 (0.00 Byte)\n",
            "__________________________________________________________________________________________________\n"
          ]
        }
      ],
      "source": [
        "lstm_power_model = create_lstm_power_model()\n",
        "lstm_power_model.summary()"
      ]
    },
    {
      "cell_type": "code",
      "execution_count": 35,
      "metadata": {
        "colab": {
          "base_uri": "https://localhost:8080/"
        },
        "id": "RDcc5BLKH_5d",
        "outputId": "7655f098-69f2-43cd-a23d-bf06f6059a5f"
      },
      "outputs": [
        {
          "output_type": "stream",
          "name": "stdout",
          "text": [
            "Epoch 1/10\n",
            "376/376 [==============================] - 25s 59ms/step - loss: 0.3628 - sender_output_loss: 0.1749 - receiver_output_loss: 0.1879 - sender_output_auc: 0.6724 - receiver_output_auc_1: 0.5886 - val_loss: 0.3291 - val_sender_output_loss: 0.1633 - val_receiver_output_loss: 0.1659 - val_sender_output_auc: 0.6689 - val_receiver_output_auc_1: 0.4767\n",
            "Epoch 2/10\n",
            "376/376 [==============================] - 20s 54ms/step - loss: 0.3587 - sender_output_loss: 0.1726 - receiver_output_loss: 0.1861 - sender_output_auc: 0.6881 - receiver_output_auc_1: 0.6122 - val_loss: 0.3199 - val_sender_output_loss: 0.1587 - val_receiver_output_loss: 0.1612 - val_sender_output_auc: 0.6727 - val_receiver_output_auc_1: 0.4638\n",
            "Epoch 3/10\n",
            "376/376 [==============================] - 20s 54ms/step - loss: 0.3535 - sender_output_loss: 0.1694 - receiver_output_loss: 0.1841 - sender_output_auc: 0.7108 - receiver_output_auc_1: 0.6361 - val_loss: 0.3210 - val_sender_output_loss: 0.1586 - val_receiver_output_loss: 0.1624 - val_sender_output_auc: 0.6670 - val_receiver_output_auc_1: 0.4747\n",
            "Epoch 4/10\n",
            "376/376 [==============================] - 20s 53ms/step - loss: 0.3463 - sender_output_loss: 0.1649 - receiver_output_loss: 0.1814 - sender_output_auc: 0.7342 - receiver_output_auc_1: 0.6639 - val_loss: 0.3275 - val_sender_output_loss: 0.1608 - val_receiver_output_loss: 0.1667 - val_sender_output_auc: 0.6613 - val_receiver_output_auc_1: 0.4833\n",
            "Epoch 5/10\n",
            "376/376 [==============================] - 20s 53ms/step - loss: 0.3366 - sender_output_loss: 0.1588 - receiver_output_loss: 0.1778 - sender_output_auc: 0.7717 - receiver_output_auc_1: 0.7017 - val_loss: 0.3390 - val_sender_output_loss: 0.1669 - val_receiver_output_loss: 0.1721 - val_sender_output_auc: 0.6475 - val_receiver_output_auc_1: 0.4922\n",
            "Epoch 6/10\n",
            "376/376 [==============================] - 20s 53ms/step - loss: 0.3254 - sender_output_loss: 0.1522 - receiver_output_loss: 0.1732 - sender_output_auc: 0.7989 - receiver_output_auc_1: 0.7306 - val_loss: 0.3327 - val_sender_output_loss: 0.1665 - val_receiver_output_loss: 0.1662 - val_sender_output_auc: 0.6264 - val_receiver_output_auc_1: 0.5051\n",
            "Epoch 7/10\n",
            "376/376 [==============================] - 20s 53ms/step - loss: 0.3168 - sender_output_loss: 0.1470 - receiver_output_loss: 0.1698 - sender_output_auc: 0.8243 - receiver_output_auc_1: 0.7546 - val_loss: 0.3407 - val_sender_output_loss: 0.1712 - val_receiver_output_loss: 0.1695 - val_sender_output_auc: 0.6381 - val_receiver_output_auc_1: 0.5123\n",
            "Epoch 8/10\n",
            "376/376 [==============================] - 20s 54ms/step - loss: 0.3068 - sender_output_loss: 0.1413 - receiver_output_loss: 0.1655 - sender_output_auc: 0.8461 - receiver_output_auc_1: 0.7800 - val_loss: 0.3443 - val_sender_output_loss: 0.1765 - val_receiver_output_loss: 0.1677 - val_sender_output_auc: 0.5686 - val_receiver_output_auc_1: 0.5325\n",
            "Epoch 9/10\n",
            "376/376 [==============================] - 20s 53ms/step - loss: 0.3003 - sender_output_loss: 0.1378 - receiver_output_loss: 0.1625 - sender_output_auc: 0.8605 - receiver_output_auc_1: 0.7953 - val_loss: 0.3553 - val_sender_output_loss: 0.1819 - val_receiver_output_loss: 0.1734 - val_sender_output_auc: 0.6274 - val_receiver_output_auc_1: 0.5297\n",
            "Epoch 10/10\n",
            "376/376 [==============================] - 20s 53ms/step - loss: 0.2955 - sender_output_loss: 0.1362 - receiver_output_loss: 0.1593 - sender_output_auc: 0.8598 - receiver_output_auc_1: 0.8090 - val_loss: 0.3499 - val_sender_output_loss: 0.1783 - val_receiver_output_loss: 0.1715 - val_sender_output_auc: 0.5921 - val_receiver_output_auc_1: 0.5237\n"
          ]
        }
      ],
      "source": [
        "lstm_power_history = context_lstm_model.fit(\n",
        "    [train_encoded_padded, train_df['game_score_delta']],\n",
        "    [train_df['sender_labels_encoded'], train_df['receiver_labels_encoded']],\n",
        "    validation_data=([validation_encoded_padded, validation_df['game_score_delta']], [validation_df['sender_labels_encoded'], validation_df['receiver_labels_encoded']]),\n",
        "    epochs=10\n",
        ")"
      ]
    },
    {
      "cell_type": "code",
      "execution_count": 36,
      "metadata": {
        "colab": {
          "base_uri": "https://localhost:8080/",
          "height": 972
        },
        "id": "AwdGAZcSH_5d",
        "outputId": "e734cba8-62af-4349-ba3b-8ddf6799cd02"
      },
      "outputs": [
        {
          "output_type": "stream",
          "name": "stdout",
          "text": [
            "========== Model Accuracy ==========\n"
          ]
        },
        {
          "output_type": "display_data",
          "data": {
            "text/plain": [
              "<Figure size 640x480 with 1 Axes>"
            ],
            "image/png": "[encoded data removed]"
          },
          "metadata": {}
        },
        {
          "output_type": "stream",
          "name": "stdout",
          "text": [
            "========== Test Evaluation ==========\n",
            "78/78 - 3s - loss: 1.3849 - sender_output_loss: 0.6947 - receiver_output_loss: 0.6903 - sender_output_auc: 0.4410 - receiver_output_auc_1: 0.4506 - 3s/epoch - 34ms/step\n",
            "\n",
            "========== Test Metrics ==========\n",
            "78/78 [==============================] - 2s 17ms/step\n",
            "Best Threshold for Sender: 0.54 with F1 Score: 0.48357314063146484\n",
            "Best Threshold for Receiver: 0.56 with F1 Score: 0.48469817039142116\n",
            "\n",
            "---------- Sender Labels ----------\n",
            "              precision    recall  f1-score   support\n",
            "\n",
            "        True       0.92      0.99      0.95      2268\n",
            "       False       0.06      0.01      0.02       207\n",
            "\n",
            "    accuracy                           0.91      2475\n",
            "   macro avg       0.49      0.50      0.48      2475\n",
            "weighted avg       0.84      0.91      0.87      2475\n",
            "\n",
            "---------- Receiver Labels ----------\n",
            "              precision    recall  f1-score   support\n",
            "\n",
            "        True       0.93      0.99      0.96      2310\n",
            "       False       0.03      0.01      0.01       165\n",
            "\n",
            "    accuracy                           0.92      2475\n",
            "   macro avg       0.48      0.50      0.48      2475\n",
            "weighted avg       0.87      0.92      0.90      2475\n",
            "\n"
          ]
        }
      ],
      "source": [
        "EvaluateModel(lstm_power_model, [test_encoded_padded, test_df['game_score_delta']], [test_df['sender_labels_encoded'], test_df['receiver_labels_encoded']], lstm_power_history);"
      ]
    },
    {
      "cell_type": "markdown",
      "metadata": {
        "id": "KVplD7CnH_5d"
      },
      "source": [
        "# Context LSTM + Power"
      ]
    },
    {
      "cell_type": "code",
      "execution_count": 37,
      "metadata": {
        "id": "L1e17r2RH_5d"
      },
      "outputs": [],
      "source": [
        "def create_context_lstm_power_model(\n",
        "        sequence_length: int = MAX_SEQUENCE_LEN,\n",
        "        embedding_output: int = EMBEDDING_OUTPUT_SIZE,\n",
        "        vocab_size: int = VOCAB_SIZE,\n",
        "        lstm_size: int = 1024,\n",
        "        dropout: float = DROPOUT_RATE,\n",
        "        hidden_size = HIDDEN_LAYER_SIZE,\n",
        "        learning_rate: float = 2e-5,\n",
        "    ):\n",
        "\n",
        "    current_message_input = keras.layers.Input(shape=(sequence_length,), dtype=tf.int64, name='current_message_input')\n",
        "    previous_message_input = keras.layers.Input(shape=(sequence_length,), dtype=tf.int64, name='previous_message_input')\n",
        "    power_diff_input = keras.layers.Input(shape=(1,), name='power_differential')\n",
        "\n",
        "    current_message_lstm = pipe(\n",
        "        current_message_input,\n",
        "        keras.layers.Embedding(vocab_size, embedding_output, input_length=sequence_length),\n",
        "        keras.layers.LSTM(lstm_size),\n",
        "        keras.layers.Dropout(dropout)\n",
        "    )\n",
        "\n",
        "    previous_message_lstm = pipe(\n",
        "        previous_message_input,\n",
        "        keras.layers.Embedding(vocab_size, embedding_output, input_length=sequence_length),\n",
        "        keras.layers.LSTM(lstm_size),\n",
        "        keras.layers.Dropout(dropout)\n",
        "    )\n",
        "\n",
        "    context_lstm_power_ouput = pipe(\n",
        "        [\n",
        "            current_message_lstm,\n",
        "            previous_message_lstm,\n",
        "            power_diff_input\n",
        "        ],\n",
        "        keras.layers.Concatenate(),\n",
        "        keras.layers.Dense(hidden_size)\n",
        "    )\n",
        "\n",
        "    sender_output = keras.layers.Dense(1, activation='sigmoid', name=\"sender_output\")(context_lstm_power_ouput)\n",
        "    receiver_output = keras.layers.Dense(1, activation='sigmoid', name=\"receiver_output\")(context_lstm_power_ouput)\n",
        "\n",
        "    context_lstm_power_model = keras.Model(\n",
        "        inputs=[current_message_input, previous_message_input, power_diff_input],\n",
        "        outputs=[sender_output, receiver_output]\n",
        "    )\n",
        "\n",
        "    context_lstm_power_model.compile(\n",
        "        loss='binary_crossentropy',\n",
        "        optimizer=tf.keras.optimizers.Adam(learning_rate=learning_rate),\n",
        "        metrics=['AUC']\n",
        "    )\n",
        "\n",
        "    return context_lstm_power_model"
      ]
    },
    {
      "cell_type": "code",
      "execution_count": 38,
      "metadata": {
        "colab": {
          "base_uri": "https://localhost:8080/"
        },
        "id": "JPk2XFsNH_5d",
        "outputId": "12fb0d8c-67ab-4dfe-87b3-7b85ba1009e8"
      },
      "outputs": [
        {
          "output_type": "stream",
          "name": "stdout",
          "text": [
            "Model: \"model_4\"\n",
            "__________________________________________________________________________________________________\n",
            " Layer (type)                Output Shape                 Param #   Connected to                  \n",
            "==================================================================================================\n",
            " current_message_input (Inp  [(None, 294)]                0         []                            \n",
            " utLayer)                                                                                         \n",
            "                                                                                                  \n",
            " previous_message_input (In  [(None, 294)]                0         []                            \n",
            " putLayer)                                                                                        \n",
            "                                                                                                  \n",
            " embedding_5 (Embedding)     (None, 294, 124)             620000    ['current_message_input[0][0]'\n",
            "                                                                    ]                             \n",
            "                                                                                                  \n",
            " embedding_6 (Embedding)     (None, 294, 124)             620000    ['previous_message_input[0][0]\n",
            "                                                                    ']                            \n",
            "                                                                                                  \n",
            " lstm_4 (LSTM)               (None, 1024)                 4706304   ['embedding_5[0][0]']         \n",
            "                                                                                                  \n",
            " lstm_5 (LSTM)               (None, 1024)                 4706304   ['embedding_6[0][0]']         \n",
            "                                                                                                  \n",
            " dropout_3 (Dropout)         (None, 1024)                 0         ['lstm_4[0][0]']              \n",
            "                                                                                                  \n",
            " dropout_4 (Dropout)         (None, 1024)                 0         ['lstm_5[0][0]']              \n",
            "                                                                                                  \n",
            " power_differential (InputL  [(None, 1)]                  0         []                            \n",
            " ayer)                                                                                            \n",
            "                                                                                                  \n",
            " concatenate_2 (Concatenate  (None, 2049)                 0         ['dropout_3[0][0]',           \n",
            " )                                                                   'dropout_4[0][0]',           \n",
            "                                                                     'power_differential[0][0]']  \n",
            "                                                                                                  \n",
            " dense_4 (Dense)             (None, 64)                   131200    ['concatenate_2[0][0]']       \n",
            "                                                                                                  \n",
            " sender_output (Dense)       (None, 1)                    65        ['dense_4[0][0]']             \n",
            "                                                                                                  \n",
            " receiver_output (Dense)     (None, 1)                    65        ['dense_4[0][0]']             \n",
            "                                                                                                  \n",
            "==================================================================================================\n",
            "Total params: 10783938 (41.14 MB)\n",
            "Trainable params: 10783938 (41.14 MB)\n",
            "Non-trainable params: 0 (0.00 Byte)\n",
            "__________________________________________________________________________________________________\n"
          ]
        }
      ],
      "source": [
        "context_lstm_power_model = create_context_lstm_power_model()\n",
        "context_lstm_power_model.summary()"
      ]
    },
    {
      "cell_type": "code",
      "execution_count": 39,
      "metadata": {
        "colab": {
          "base_uri": "https://localhost:8080/"
        },
        "id": "690luvmbH_5d",
        "outputId": "01314f6a-9299-4d6a-cf9c-a615509a4c21"
      },
      "outputs": [
        {
          "output_type": "stream",
          "name": "stdout",
          "text": [
            "Epoch 1/10\n",
            "376/376 [==============================] - 55s 135ms/step - loss: 0.4641 - sender_output_loss: 0.2272 - receiver_output_loss: 0.2369 - sender_output_auc: 0.5506 - receiver_output_auc_1: 0.5118 - val_loss: 0.3238 - val_sender_output_loss: 0.1618 - val_receiver_output_loss: 0.1620 - val_sender_output_auc: 0.6203 - val_receiver_output_auc_1: 0.4965\n",
            "Epoch 2/10\n",
            "376/376 [==============================] - 40s 107ms/step - loss: 0.3744 - sender_output_loss: 0.1834 - receiver_output_loss: 0.1910 - sender_output_auc: 0.5683 - receiver_output_auc_1: 0.5336 - val_loss: 0.3273 - val_sender_output_loss: 0.1638 - val_receiver_output_loss: 0.1635 - val_sender_output_auc: 0.6338 - val_receiver_output_auc_1: 0.5076\n",
            "Epoch 3/10\n",
            "376/376 [==============================] - 38s 101ms/step - loss: 0.3719 - sender_output_loss: 0.1818 - receiver_output_loss: 0.1902 - sender_output_auc: 0.5992 - receiver_output_auc_1: 0.5439 - val_loss: 0.3198 - val_sender_output_loss: 0.1615 - val_receiver_output_loss: 0.1583 - val_sender_output_auc: 0.6362 - val_receiver_output_auc_1: 0.5141\n",
            "Epoch 4/10\n",
            "376/376 [==============================] - 38s 101ms/step - loss: 0.3702 - sender_output_loss: 0.1812 - receiver_output_loss: 0.1889 - sender_output_auc: 0.6004 - receiver_output_auc_1: 0.5624 - val_loss: 0.3211 - val_sender_output_loss: 0.1627 - val_receiver_output_loss: 0.1584 - val_sender_output_auc: 0.6377 - val_receiver_output_auc_1: 0.5412\n",
            "Epoch 5/10\n",
            "376/376 [==============================] - 37s 99ms/step - loss: 0.3701 - sender_output_loss: 0.1796 - receiver_output_loss: 0.1905 - sender_output_auc: 0.6276 - receiver_output_auc_1: 0.5422 - val_loss: 0.3189 - val_sender_output_loss: 0.1614 - val_receiver_output_loss: 0.1575 - val_sender_output_auc: 0.6379 - val_receiver_output_auc_1: 0.5340\n",
            "Epoch 6/10\n",
            "376/376 [==============================] - 37s 100ms/step - loss: 0.3666 - sender_output_loss: 0.1779 - receiver_output_loss: 0.1887 - sender_output_auc: 0.6472 - receiver_output_auc_1: 0.5741 - val_loss: 0.3251 - val_sender_output_loss: 0.1613 - val_receiver_output_loss: 0.1638 - val_sender_output_auc: 0.6412 - val_receiver_output_auc_1: 0.5211\n",
            "Epoch 7/10\n",
            "376/376 [==============================] - 37s 98ms/step - loss: 0.3638 - sender_output_loss: 0.1755 - receiver_output_loss: 0.1883 - sender_output_auc: 0.6642 - receiver_output_auc_1: 0.5770 - val_loss: 0.3236 - val_sender_output_loss: 0.1620 - val_receiver_output_loss: 0.1616 - val_sender_output_auc: 0.6530 - val_receiver_output_auc_1: 0.5339\n",
            "Epoch 8/10\n",
            "376/376 [==============================] - 37s 98ms/step - loss: 0.3615 - sender_output_loss: 0.1748 - receiver_output_loss: 0.1867 - sender_output_auc: 0.6779 - receiver_output_auc_1: 0.6011 - val_loss: 0.3225 - val_sender_output_loss: 0.1630 - val_receiver_output_loss: 0.1595 - val_sender_output_auc: 0.6524 - val_receiver_output_auc_1: 0.5401\n",
            "Epoch 9/10\n",
            "376/376 [==============================] - 37s 98ms/step - loss: 0.3569 - sender_output_loss: 0.1716 - receiver_output_loss: 0.1853 - sender_output_auc: 0.6970 - receiver_output_auc_1: 0.6240 - val_loss: 0.3191 - val_sender_output_loss: 0.1599 - val_receiver_output_loss: 0.1592 - val_sender_output_auc: 0.6611 - val_receiver_output_auc_1: 0.5489\n",
            "Epoch 10/10\n",
            "376/376 [==============================] - 37s 98ms/step - loss: 0.3467 - sender_output_loss: 0.1669 - receiver_output_loss: 0.1799 - sender_output_auc: 0.7305 - receiver_output_auc_1: 0.6912 - val_loss: 0.3338 - val_sender_output_loss: 0.1681 - val_receiver_output_loss: 0.1658 - val_sender_output_auc: 0.6545 - val_receiver_output_auc_1: 0.5675\n"
          ]
        }
      ],
      "source": [
        "context_lstm_power_history = context_lstm_power_model.fit(\n",
        "    [train_encoded_padded, train_prev_encoded_padded, train_df['game_score_delta']],\n",
        "    [train_df['sender_labels_encoded'], train_df['receiver_labels_encoded']],\n",
        "    validation_data=([validation_encoded_padded, validation_prev_encoded_padded, validation_df['game_score_delta']], [validation_df['sender_labels_encoded'], validation_df['receiver_labels_encoded']]),\n",
        "    epochs=10\n",
        ")"
      ]
    },
    {
      "cell_type": "code",
      "execution_count": 40,
      "metadata": {
        "colab": {
          "base_uri": "https://localhost:8080/",
          "height": 972
        },
        "id": "LfXQVeMeH_5e",
        "outputId": "a8f72760-53a9-4d13-bccb-903c34919686"
      },
      "outputs": [
        {
          "output_type": "stream",
          "name": "stdout",
          "text": [
            "========== Model Accuracy ==========\n"
          ]
        },
        {
          "output_type": "display_data",
          "data": {
            "text/plain": [
              "<Figure size 640x480 with 1 Axes>"
            ],
            "image/png": "[encoded data removed]"
          },
          "metadata": {}
        },
        {
          "output_type": "stream",
          "name": "stdout",
          "text": [
            "========== Test Evaluation ==========\n",
            "78/78 - 3s - loss: 0.5111 - sender_output_loss: 0.2735 - receiver_output_loss: 0.2375 - sender_output_auc: 0.6698 - receiver_output_auc_1: 0.6341 - 3s/epoch - 37ms/step\n",
            "\n",
            "========== Test Metrics ==========\n",
            "78/78 [==============================] - 4s 34ms/step\n",
            "Best Threshold for Sender: 0.14 with F1 Score: 0.5752239728143342\n",
            "Best Threshold for Receiver: 0.14 with F1 Score: 0.5431175076889492\n",
            "\n",
            "---------- Sender Labels ----------\n",
            "              precision    recall  f1-score   support\n",
            "\n",
            "        True       0.93      0.91      0.92      2268\n",
            "       False       0.21      0.26      0.23       207\n",
            "\n",
            "    accuracy                           0.85      2475\n",
            "   macro avg       0.57      0.58      0.58      2475\n",
            "weighted avg       0.87      0.85      0.86      2475\n",
            "\n",
            "---------- Receiver Labels ----------\n",
            "              precision    recall  f1-score   support\n",
            "\n",
            "        True       0.94      0.96      0.95      2310\n",
            "       False       0.18      0.11      0.14       165\n",
            "\n",
            "    accuracy                           0.91      2475\n",
            "   macro avg       0.56      0.54      0.54      2475\n",
            "weighted avg       0.89      0.91      0.90      2475\n",
            "\n"
          ]
        }
      ],
      "source": [
        "EvaluateModel(context_lstm_power_model, [test_encoded_padded, test_prev_encoded_padded, test_df['game_score_delta']], [test_df['sender_labels_encoded'], test_df['receiver_labels_encoded']], context_lstm_power_history);"
      ]
    },
    {
      "cell_type": "markdown",
      "metadata": {
        "id": "uzeG491QH_5e"
      },
      "source": [
        "<hr/>\n",
        "\n",
        "# Context LSTM Prediction Analysis"
      ]
    },
    {
      "cell_type": "code",
      "execution_count": 41,
      "metadata": {
        "colab": {
          "base_uri": "https://localhost:8080/",
          "height": 69
        },
        "id": "zqiHiF3DH_5e",
        "outputId": "70abb221-c2f9-4bed-b6fa-690748d772a2"
      },
      "outputs": [
        {
          "output_type": "stream",
          "name": "stdout",
          "text": [
            "78/78 [==============================] - 3s 34ms/step\n"
          ]
        },
        {
          "output_type": "display_data",
          "data": {
            "text/plain": [
              "array([0, 0, 0, ..., 0, 0, 0])"
            ]
          },
          "metadata": {}
        },
        {
          "output_type": "display_data",
          "data": {
            "text/plain": [
              "array([0, 0, 0, ..., 0, 0, 0])"
            ]
          },
          "metadata": {}
        }
      ],
      "source": [
        "pred = context_lstm_model.predict([test_encoded_padded, test_prev_encoded_padded])\n",
        "sender_pred = (pred[0] > sender_threshold).astype(int).reshape(-1)\n",
        "receiver_pred = (pred[1] > receiver_threshold).astype(int).reshape(-1)\n",
        "\n",
        "display(sender_pred)\n",
        "display(receiver_pred)"
      ]
    },
    {
      "cell_type": "markdown",
      "metadata": {
        "id": "_z4JCvmEH_5e"
      },
      "source": [
        "## Sender Predictions"
      ]
    },
    {
      "cell_type": "code",
      "execution_count": 42,
      "metadata": {
        "colab": {
          "base_uri": "https://localhost:8080/",
          "height": 174
        },
        "id": "3bEofi0xH_5e",
        "outputId": "6f73683b-1191-4097-fe42-766e2a5213b4"
      },
      "outputs": [
        {
          "output_type": "execute_result",
          "data": {
            "text/plain": [
              "  prediction  target                                            message  \\\n",
              "0       True    True  Hi Italy! Just opening up communication, and I...   \n",
              "1      False   False  Hello! I'm looking forward to a fun game as we...   \n",
              "2       True   False  I'd personally rather you didn't, because a pl...   \n",
              "3      False    True  So I tried to move towards a more forward posi...   \n",
              "\n",
              "                                             context  \n",
              "0                                                     \n",
              "1  Hey Germany! How’s it going? Looking forward t...  \n",
              "2  Bongiorno!  To crush my enemies, see them driv...  \n",
              "3  Also, weirdly, my phone doesn't seem to be upd...  "
            ],
            "text/html": [
              "\n",
              "  <div id=\"df-37626986-cd1e-433f-b8cf-a0e7630bdecc\" class=\"colab-df-container\">\n",
              "    <div>\n",
              "<style scoped>\n",
              "    .dataframe tbody tr th:only-of-type {\n",
              "        vertical-align: middle;\n",
              "    }\n",
              "\n",
              "    .dataframe tbody tr th {\n",
              "        vertical-align: top;\n",
              "    }\n",
              "\n",
              "    .dataframe thead th {\n",
              "        text-align: right;\n",
              "    }\n",
              "</style>\n",
              "<table border=\"1\" class=\"dataframe\">\n",
              "  <thead>\n",
              "    <tr style=\"text-align: right;\">\n",
              "      <th></th>\n",
              "      <th>prediction</th>\n",
              "      <th>target</th>\n",
              "      <th>message</th>\n",
              "      <th>context</th>\n",
              "    </tr>\n",
              "  </thead>\n",
              "  <tbody>\n",
              "    <tr>\n",
              "      <th>0</th>\n",
              "      <td>True</td>\n",
              "      <td>True</td>\n",
              "      <td>Hi Italy! Just opening up communication, and I...</td>\n",
              "      <td></td>\n",
              "    </tr>\n",
              "    <tr>\n",
              "      <th>1</th>\n",
              "      <td>False</td>\n",
              "      <td>False</td>\n",
              "      <td>Hello! I'm looking forward to a fun game as we...</td>\n",
              "      <td>Hey Germany! How’s it going? Looking forward t...</td>\n",
              "    </tr>\n",
              "    <tr>\n",
              "      <th>2</th>\n",
              "      <td>True</td>\n",
              "      <td>False</td>\n",
              "      <td>I'd personally rather you didn't, because a pl...</td>\n",
              "      <td>Bongiorno!  To crush my enemies, see them driv...</td>\n",
              "    </tr>\n",
              "    <tr>\n",
              "      <th>3</th>\n",
              "      <td>False</td>\n",
              "      <td>True</td>\n",
              "      <td>So I tried to move towards a more forward posi...</td>\n",
              "      <td>Also, weirdly, my phone doesn't seem to be upd...</td>\n",
              "    </tr>\n",
              "  </tbody>\n",
              "</table>\n",
              "</div>\n",
              "    <div class=\"colab-df-buttons\">\n",
              "\n",
              "  <div class=\"colab-df-container\">\n",
              "    <button class=\"colab-df-convert\" onclick=\"convertToInteractive('df-37626986-cd1e-433f-b8cf-a0e7630bdecc')\"\n",
              "            title=\"Convert this dataframe to an interactive table.\"\n",
              "            style=\"display:none;\">\n",
              "\n",
              "  <svg xmlns=\"http://www.w3.org/2000/svg\" height=\"24px\" viewBox=\"0 -960 960 960\">\n",
              "    <path d=\"M120-120v-720h720v720H120Zm60-500h600v-160H180v160Zm220 220h160v-160H400v160Zm0 220h160v-160H400v160ZM180-400h160v-160H180v160Zm440 0h160v-160H620v160ZM180-180h160v-160H180v160Zm440 0h160v-160H620v160Z\"/>\n",
              "  </svg>\n",
              "    </button>\n",
              "\n",
              "  <style>\n",
              "    .colab-df-container {\n",
              "      display:flex;\n",
              "      gap: 12px;\n",
              "    }\n",
              "\n",
              "    .colab-df-convert {\n",
              "      background-color: #E8F0FE;\n",
              "      border: none;\n",
              "      border-radius: 50%;\n",
              "      cursor: pointer;\n",
              "      display: none;\n",
              "      fill: #1967D2;\n",
              "      height: 32px;\n",
              "      padding: 0 0 0 0;\n",
              "      width: 32px;\n",
              "    }\n",
              "\n",
              "    .colab-df-convert:hover {\n",
              "      background-color: #E2EBFA;\n",
              "      box-shadow: 0px 1px 2px rgba(60, 64, 67, 0.3), 0px 1px 3px 1px rgba(60, 64, 67, 0.15);\n",
              "      fill: #174EA6;\n",
              "    }\n",
              "\n",
              "    .colab-df-buttons div {\n",
              "      margin-bottom: 4px;\n",
              "    }\n",
              "\n",
              "    [theme=dark] .colab-df-convert {\n",
              "      background-color: #3B4455;\n",
              "      fill: #D2E3FC;\n",
              "    }\n",
              "\n",
              "    [theme=dark] .colab-df-convert:hover {\n",
              "      background-color: #434B5C;\n",
              "      box-shadow: 0px 1px 3px 1px rgba(0, 0, 0, 0.15);\n",
              "      filter: drop-shadow(0px 1px 2px rgba(0, 0, 0, 0.3));\n",
              "      fill: #FFFFFF;\n",
              "    }\n",
              "  </style>\n",
              "\n",
              "    <script>\n",
              "      const buttonEl =\n",
              "        document.querySelector('#df-37626986-cd1e-433f-b8cf-a0e7630bdecc button.colab-df-convert');\n",
              "      buttonEl.style.display =\n",
              "        google.colab.kernel.accessAllowed ? 'block' : 'none';\n",
              "\n",
              "      async function convertToInteractive(key) {\n",
              "        const element = document.querySelector('#df-37626986-cd1e-433f-b8cf-a0e7630bdecc');\n",
              "        const dataTable =\n",
              "          await google.colab.kernel.invokeFunction('convertToInteractive',\n",
              "                                                    [key], {});\n",
              "        if (!dataTable) return;\n",
              "\n",
              "        const docLinkHtml = 'Like what you see? Visit the ' +\n",
              "          '<a target=\"_blank\" href=https://colab.research.google.com/notebooks/data_table.ipynb>data table notebook</a>'\n",
              "          + ' to learn more about interactive tables.';\n",
              "        element.innerHTML = '';\n",
              "        dataTable['output_type'] = 'display_data';\n",
              "        await google.colab.output.renderOutput(dataTable, element);\n",
              "        const docLink = document.createElement('div');\n",
              "        docLink.innerHTML = docLinkHtml;\n",
              "        element.appendChild(docLink);\n",
              "      }\n",
              "    </script>\n",
              "  </div>\n",
              "\n",
              "\n",
              "<div id=\"df-413f0ddd-2be0-49fc-adad-b4b9927e7dbe\">\n",
              "  <button class=\"colab-df-quickchart\" onclick=\"quickchart('df-413f0ddd-2be0-49fc-adad-b4b9927e7dbe')\"\n",
              "            title=\"Suggest charts\"\n",
              "            style=\"display:none;\">\n",
              "\n",
              "<svg xmlns=\"http://www.w3.org/2000/svg\" height=\"24px\"viewBox=\"0 0 24 24\"\n",
              "     width=\"24px\">\n",
              "    <g>\n",
              "        <path d=\"M19 3H5c-1.1 0-2 .9-2 2v14c0 1.1.9 2 2 2h14c1.1 0 2-.9 2-2V5c0-1.1-.9-2-2-2zM9 17H7v-7h2v7zm4 0h-2V7h2v10zm4 0h-2v-4h2v4z\"/>\n",
              "    </g>\n",
              "</svg>\n",
              "  </button>\n",
              "\n",
              "<style>\n",
              "  .colab-df-quickchart {\n",
              "      --bg-color: #E8F0FE;\n",
              "      --fill-color: #1967D2;\n",
              "      --hover-bg-color: #E2EBFA;\n",
              "      --hover-fill-color: #174EA6;\n",
              "      --disabled-fill-color: #AAA;\n",
              "      --disabled-bg-color: #DDD;\n",
              "  }\n",
              "\n",
              "  [theme=dark] .colab-df-quickchart {\n",
              "      --bg-color: #3B4455;\n",
              "      --fill-color: #D2E3FC;\n",
              "      --hover-bg-color: #434B5C;\n",
              "      --hover-fill-color: #FFFFFF;\n",
              "      --disabled-bg-color: #3B4455;\n",
              "      --disabled-fill-color: #666;\n",
              "  }\n",
              "\n",
              "  .colab-df-quickchart {\n",
              "    background-color: var(--bg-color);\n",
              "    border: none;\n",
              "    border-radius: 50%;\n",
              "    cursor: pointer;\n",
              "    display: none;\n",
              "    fill: var(--fill-color);\n",
              "    height: 32px;\n",
              "    padding: 0;\n",
              "    width: 32px;\n",
              "  }\n",
              "\n",
              "  .colab-df-quickchart:hover {\n",
              "    background-color: var(--hover-bg-color);\n",
              "    box-shadow: 0 1px 2px rgba(60, 64, 67, 0.3), 0 1px 3px 1px rgba(60, 64, 67, 0.15);\n",
              "    fill: var(--button-hover-fill-color);\n",
              "  }\n",
              "\n",
              "  .colab-df-quickchart-complete:disabled,\n",
              "  .colab-df-quickchart-complete:disabled:hover {\n",
              "    background-color: var(--disabled-bg-color);\n",
              "    fill: var(--disabled-fill-color);\n",
              "    box-shadow: none;\n",
              "  }\n",
              "\n",
              "  .colab-df-spinner {\n",
              "    border: 2px solid var(--fill-color);\n",
              "    border-color: transparent;\n",
              "    border-bottom-color: var(--fill-color);\n",
              "    animation:\n",
              "      spin 1s steps(1) infinite;\n",
              "  }\n",
              "\n",
              "  @keyframes spin {\n",
              "    0% {\n",
              "      border-color: transparent;\n",
              "      border-bottom-color: var(--fill-color);\n",
              "      border-left-color: var(--fill-color);\n",
              "    }\n",
              "    20% {\n",
              "      border-color: transparent;\n",
              "      border-left-color: var(--fill-color);\n",
              "      border-top-color: var(--fill-color);\n",
              "    }\n",
              "    30% {\n",
              "      border-color: transparent;\n",
              "      border-left-color: var(--fill-color);\n",
              "      border-top-color: var(--fill-color);\n",
              "      border-right-color: var(--fill-color);\n",
              "    }\n",
              "    40% {\n",
              "      border-color: transparent;\n",
              "      border-right-color: var(--fill-color);\n",
              "      border-top-color: var(--fill-color);\n",
              "    }\n",
              "    60% {\n",
              "      border-color: transparent;\n",
              "      border-right-color: var(--fill-color);\n",
              "    }\n",
              "    80% {\n",
              "      border-color: transparent;\n",
              "      border-right-color: var(--fill-color);\n",
              "      border-bottom-color: var(--fill-color);\n",
              "    }\n",
              "    90% {\n",
              "      border-color: transparent;\n",
              "      border-bottom-color: var(--fill-color);\n",
              "    }\n",
              "  }\n",
              "</style>\n",
              "\n",
              "  <script>\n",
              "    async function quickchart(key) {\n",
              "      const quickchartButtonEl =\n",
              "        document.querySelector('#' + key + ' button');\n",
              "      quickchartButtonEl.disabled = true;  // To prevent multiple clicks.\n",
              "      quickchartButtonEl.classList.add('colab-df-spinner');\n",
              "      try {\n",
              "        const charts = await google.colab.kernel.invokeFunction(\n",
              "            'suggestCharts', [key], {});\n",
              "      } catch (error) {\n",
              "        console.error('Error during call to suggestCharts:', error);\n",
              "      }\n",
              "      quickchartButtonEl.classList.remove('colab-df-spinner');\n",
              "      quickchartButtonEl.classList.add('colab-df-quickchart-complete');\n",
              "    }\n",
              "    (() => {\n",
              "      let quickchartButtonEl =\n",
              "        document.querySelector('#df-413f0ddd-2be0-49fc-adad-b4b9927e7dbe button');\n",
              "      quickchartButtonEl.style.display =\n",
              "        google.colab.kernel.accessAllowed ? 'block' : 'none';\n",
              "    })();\n",
              "  </script>\n",
              "</div>\n",
              "\n",
              "  <div id=\"id_5e6fdc32-eded-4d94-a64c-082313d2c2e1\">\n",
              "    <style>\n",
              "      .colab-df-generate {\n",
              "        background-color: #E8F0FE;\n",
              "        border: none;\n",
              "        border-radius: 50%;\n",
              "        cursor: pointer;\n",
              "        display: none;\n",
              "        fill: #1967D2;\n",
              "        height: 32px;\n",
              "        padding: 0 0 0 0;\n",
              "        width: 32px;\n",
              "      }\n",
              "\n",
              "      .colab-df-generate:hover {\n",
              "        background-color: #E2EBFA;\n",
              "        box-shadow: 0px 1px 2px rgba(60, 64, 67, 0.3), 0px 1px 3px 1px rgba(60, 64, 67, 0.15);\n",
              "        fill: #174EA6;\n",
              "      }\n",
              "\n",
              "      [theme=dark] .colab-df-generate {\n",
              "        background-color: #3B4455;\n",
              "        fill: #D2E3FC;\n",
              "      }\n",
              "\n",
              "      [theme=dark] .colab-df-generate:hover {\n",
              "        background-color: #434B5C;\n",
              "        box-shadow: 0px 1px 3px 1px rgba(0, 0, 0, 0.15);\n",
              "        filter: drop-shadow(0px 1px 2px rgba(0, 0, 0, 0.3));\n",
              "        fill: #FFFFFF;\n",
              "      }\n",
              "    </style>\n",
              "    <button class=\"colab-df-generate\" onclick=\"generateWithVariable('sender_table')\"\n",
              "            title=\"Generate code using this dataframe.\"\n",
              "            style=\"display:none;\">\n",
              "\n",
              "  <svg xmlns=\"http://www.w3.org/2000/svg\" height=\"24px\"viewBox=\"0 0 24 24\"\n",
              "       width=\"24px\">\n",
              "    <path d=\"M7,19H8.4L18.45,9,17,7.55,7,17.6ZM5,21V16.75L18.45,3.32a2,2,0,0,1,2.83,0l1.4,1.43a1.91,1.91,0,0,1,.58,1.4,1.91,1.91,0,0,1-.58,1.4L9.25,21ZM18.45,9,17,7.55Zm-12,3A5.31,5.31,0,0,0,4.9,8.1,5.31,5.31,0,0,0,1,6.5,5.31,5.31,0,0,0,4.9,4.9,5.31,5.31,0,0,0,6.5,1,5.31,5.31,0,0,0,8.1,4.9,5.31,5.31,0,0,0,12,6.5,5.46,5.46,0,0,0,6.5,12Z\"/>\n",
              "  </svg>\n",
              "    </button>\n",
              "    <script>\n",
              "      (() => {\n",
              "      const buttonEl =\n",
              "        document.querySelector('#id_5e6fdc32-eded-4d94-a64c-082313d2c2e1 button.colab-df-generate');\n",
              "      buttonEl.style.display =\n",
              "        google.colab.kernel.accessAllowed ? 'block' : 'none';\n",
              "\n",
              "      buttonEl.onclick = () => {\n",
              "        google.colab.notebook.generateWithVariable('sender_table');\n",
              "      }\n",
              "      })();\n",
              "    </script>\n",
              "  </div>\n",
              "\n",
              "    </div>\n",
              "  </div>\n"
            ]
          },
          "metadata": {},
          "execution_count": 42
        }
      ],
      "source": [
        "sender_table = PredictionGridPeek(sender_pred, test_df, CLASS_LABELS, \"sender\")\n",
        "sender_table"
      ]
    },
    {
      "cell_type": "code",
      "execution_count": 43,
      "metadata": {
        "colab": {
          "base_uri": "https://localhost:8080/",
          "height": 193
        },
        "id": "DVuGJSalH_5e",
        "outputId": "635ffc87-e9ae-4c66-f58b-044b28582a9d"
      },
      "outputs": [
        {
          "output_type": "display_data",
          "data": {
            "text/plain": [
              "'Hi Italy! Just opening up communication, and I want to know what some of your initial thoughts on the game are and if/how we can work together'"
            ],
            "application/vnd.google.colaboratory.intrinsic+json": {
              "type": "string"
            }
          },
          "metadata": {}
        },
        {
          "output_type": "display_data",
          "data": {
            "text/plain": [
              "\"Hello! I'm looking forward to a fun game as well. I usually see good things happen when Russia and Germany work together, so I hope we can both help each other in our initial plans. I'm assuming you're gonna try and attack Scandinavia first? Let me know your thoughts, and I look forward to us working well together\""
            ],
            "application/vnd.google.colaboratory.intrinsic+json": {
              "type": "string"
            }
          },
          "metadata": {}
        },
        {
          "output_type": "display_data",
          "data": {
            "text/plain": [
              "\"I'd personally rather you didn't, because a play around Munich is also a play around Trieste and Vienna. I've heard that there's some rancor over in the West and you might be able to profit from a mobbed France if you went that way.\""
            ],
            "application/vnd.google.colaboratory.intrinsic+json": {
              "type": "string"
            }
          },
          "metadata": {}
        },
        {
          "output_type": "display_data",
          "data": {
            "text/plain": [
              "'So I tried to move towards a more forward position so I could fight France an d stab Russia, and *not* fight you, but you’re kinda putting yourself directly in my way, y’know?'"
            ],
            "application/vnd.google.colaboratory.intrinsic+json": {
              "type": "string"
            }
          },
          "metadata": {}
        }
      ],
      "source": [
        "sender_table[\"message\"].map(display);"
      ]
    },
    {
      "cell_type": "code",
      "execution_count": 45,
      "metadata": {
        "colab": {
          "base_uri": "https://localhost:8080/",
          "height": 124
        },
        "id": "IcvXLcFBH_5e",
        "outputId": "212f3bb9-3d61-4ece-a4b1-ef8fc853064a"
      },
      "outputs": [
        {
          "output_type": "display_data",
          "data": {
            "text/plain": [
              "''"
            ],
            "application/vnd.google.colaboratory.intrinsic+json": {
              "type": "string"
            }
          },
          "metadata": {}
        },
        {
          "output_type": "display_data",
          "data": {
            "text/plain": [
              "'Hey Germany! How’s it going? Looking forward to a fun game!'"
            ],
            "application/vnd.google.colaboratory.intrinsic+json": {
              "type": "string"
            }
          },
          "metadata": {}
        },
        {
          "output_type": "display_data",
          "data": {
            "text/plain": [
              "'Bongiorno!  To crush my enemies, see them driven before me, and hear the lamentations of their women!  I mean, umm, not really sure yet.  Pondering whether or not to make an early play around Munich'"
            ],
            "application/vnd.google.colaboratory.intrinsic+json": {
              "type": "string"
            }
          },
          "metadata": {}
        },
        {
          "output_type": "display_data",
          "data": {
            "text/plain": [
              "\"Also, weirdly, my phone doesn't seem to be updating me with latest messages the way it should, so I end up seeing these a lot later than I should\""
            ],
            "application/vnd.google.colaboratory.intrinsic+json": {
              "type": "string"
            }
          },
          "metadata": {}
        }
      ],
      "source": [
        "sender_table[\"context\"].map(display);"
      ]
    },
    {
      "cell_type": "markdown",
      "metadata": {
        "id": "D3SpqetbH_5e"
      },
      "source": [
        "## Receiver Predictions"
      ]
    },
    {
      "cell_type": "code",
      "execution_count": 46,
      "metadata": {
        "colab": {
          "base_uri": "https://localhost:8080/",
          "height": 174
        },
        "id": "-dO06xV8H_5e",
        "outputId": "eceef9da-2365-4cc3-9b06-c5416462bb05"
      },
      "outputs": [
        {
          "output_type": "execute_result",
          "data": {
            "text/plain": [
              "  prediction  target                                            message  \\\n",
              "0       True    True  Hi Italy! Just opening up communication, and I...   \n",
              "1      False   False  Oh, gdi.  Now I have to tell a truth that soun...   \n",
              "2       True   False  Well, if you want to attack France in the Medi...   \n",
              "3      False    True  So I tried to move towards a more forward posi...   \n",
              "\n",
              "                                             context  \n",
              "0                                                     \n",
              "1                    Thanks, let's have a good game!  \n",
              "2  Well....that's a great question, and a lot of ...  \n",
              "3  Also, weirdly, my phone doesn't seem to be upd...  "
            ],
            "text/html": [
              "\n",
              "  <div id=\"df-9a3b71c0-1e3d-493c-be27-5028ee03bb0f\" class=\"colab-df-container\">\n",
              "    <div>\n",
              "<style scoped>\n",
              "    .dataframe tbody tr th:only-of-type {\n",
              "        vertical-align: middle;\n",
              "    }\n",
              "\n",
              "    .dataframe tbody tr th {\n",
              "        vertical-align: top;\n",
              "    }\n",
              "\n",
              "    .dataframe thead th {\n",
              "        text-align: right;\n",
              "    }\n",
              "</style>\n",
              "<table border=\"1\" class=\"dataframe\">\n",
              "  <thead>\n",
              "    <tr style=\"text-align: right;\">\n",
              "      <th></th>\n",
              "      <th>prediction</th>\n",
              "      <th>target</th>\n",
              "      <th>message</th>\n",
              "      <th>context</th>\n",
              "    </tr>\n",
              "  </thead>\n",
              "  <tbody>\n",
              "    <tr>\n",
              "      <th>0</th>\n",
              "      <td>True</td>\n",
              "      <td>True</td>\n",
              "      <td>Hi Italy! Just opening up communication, and I...</td>\n",
              "      <td></td>\n",
              "    </tr>\n",
              "    <tr>\n",
              "      <th>1</th>\n",
              "      <td>False</td>\n",
              "      <td>False</td>\n",
              "      <td>Oh, gdi.  Now I have to tell a truth that soun...</td>\n",
              "      <td>Thanks, let's have a good game!</td>\n",
              "    </tr>\n",
              "    <tr>\n",
              "      <th>2</th>\n",
              "      <td>True</td>\n",
              "      <td>False</td>\n",
              "      <td>Well, if you want to attack France in the Medi...</td>\n",
              "      <td>Well....that's a great question, and a lot of ...</td>\n",
              "    </tr>\n",
              "    <tr>\n",
              "      <th>3</th>\n",
              "      <td>False</td>\n",
              "      <td>True</td>\n",
              "      <td>So I tried to move towards a more forward posi...</td>\n",
              "      <td>Also, weirdly, my phone doesn't seem to be upd...</td>\n",
              "    </tr>\n",
              "  </tbody>\n",
              "</table>\n",
              "</div>\n",
              "    <div class=\"colab-df-buttons\">\n",
              "\n",
              "  <div class=\"colab-df-container\">\n",
              "    <button class=\"colab-df-convert\" onclick=\"convertToInteractive('df-9a3b71c0-1e3d-493c-be27-5028ee03bb0f')\"\n",
              "            title=\"Convert this dataframe to an interactive table.\"\n",
              "            style=\"display:none;\">\n",
              "\n",
              "  <svg xmlns=\"http://www.w3.org/2000/svg\" height=\"24px\" viewBox=\"0 -960 960 960\">\n",
              "    <path d=\"M120-120v-720h720v720H120Zm60-500h600v-160H180v160Zm220 220h160v-160H400v160Zm0 220h160v-160H400v160ZM180-400h160v-160H180v160Zm440 0h160v-160H620v160ZM180-180h160v-160H180v160Zm440 0h160v-160H620v160Z\"/>\n",
              "  </svg>\n",
              "    </button>\n",
              "\n",
              "  <style>\n",
              "    .colab-df-container {\n",
              "      display:flex;\n",
              "      gap: 12px;\n",
              "    }\n",
              "\n",
              "    .colab-df-convert {\n",
              "      background-color: #E8F0FE;\n",
              "      border: none;\n",
              "      border-radius: 50%;\n",
              "      cursor: pointer;\n",
              "      display: none;\n",
              "      fill: #1967D2;\n",
              "      height: 32px;\n",
              "      padding: 0 0 0 0;\n",
              "      width: 32px;\n",
              "    }\n",
              "\n",
              "    .colab-df-convert:hover {\n",
              "      background-color: #E2EBFA;\n",
              "      box-shadow: 0px 1px 2px rgba(60, 64, 67, 0.3), 0px 1px 3px 1px rgba(60, 64, 67, 0.15);\n",
              "      fill: #174EA6;\n",
              "    }\n",
              "\n",
              "    .colab-df-buttons div {\n",
              "      margin-bottom: 4px;\n",
              "    }\n",
              "\n",
              "    [theme=dark] .colab-df-convert {\n",
              "      background-color: #3B4455;\n",
              "      fill: #D2E3FC;\n",
              "    }\n",
              "\n",
              "    [theme=dark] .colab-df-convert:hover {\n",
              "      background-color: #434B5C;\n",
              "      box-shadow: 0px 1px 3px 1px rgba(0, 0, 0, 0.15);\n",
              "      filter: drop-shadow(0px 1px 2px rgba(0, 0, 0, 0.3));\n",
              "      fill: #FFFFFF;\n",
              "    }\n",
              "  </style>\n",
              "\n",
              "    <script>\n",
              "      const buttonEl =\n",
              "        document.querySelector('#df-9a3b71c0-1e3d-493c-be27-5028ee03bb0f button.colab-df-convert');\n",
              "      buttonEl.style.display =\n",
              "        google.colab.kernel.accessAllowed ? 'block' : 'none';\n",
              "\n",
              "      async function convertToInteractive(key) {\n",
              "        const element = document.querySelector('#df-9a3b71c0-1e3d-493c-be27-5028ee03bb0f');\n",
              "        const dataTable =\n",
              "          await google.colab.kernel.invokeFunction('convertToInteractive',\n",
              "                                                    [key], {});\n",
              "        if (!dataTable) return;\n",
              "\n",
              "        const docLinkHtml = 'Like what you see? Visit the ' +\n",
              "          '<a target=\"_blank\" href=https://colab.research.google.com/notebooks/data_table.ipynb>data table notebook</a>'\n",
              "          + ' to learn more about interactive tables.';\n",
              "        element.innerHTML = '';\n",
              "        dataTable['output_type'] = 'display_data';\n",
              "        await google.colab.output.renderOutput(dataTable, element);\n",
              "        const docLink = document.createElement('div');\n",
              "        docLink.innerHTML = docLinkHtml;\n",
              "        element.appendChild(docLink);\n",
              "      }\n",
              "    </script>\n",
              "  </div>\n",
              "\n",
              "\n",
              "<div id=\"df-7f164622-944a-4a5a-9641-29afb09dffec\">\n",
              "  <button class=\"colab-df-quickchart\" onclick=\"quickchart('df-7f164622-944a-4a5a-9641-29afb09dffec')\"\n",
              "            title=\"Suggest charts\"\n",
              "            style=\"display:none;\">\n",
              "\n",
              "<svg xmlns=\"http://www.w3.org/2000/svg\" height=\"24px\"viewBox=\"0 0 24 24\"\n",
              "     width=\"24px\">\n",
              "    <g>\n",
              "        <path d=\"M19 3H5c-1.1 0-2 .9-2 2v14c0 1.1.9 2 2 2h14c1.1 0 2-.9 2-2V5c0-1.1-.9-2-2-2zM9 17H7v-7h2v7zm4 0h-2V7h2v10zm4 0h-2v-4h2v4z\"/>\n",
              "    </g>\n",
              "</svg>\n",
              "  </button>\n",
              "\n",
              "<style>\n",
              "  .colab-df-quickchart {\n",
              "      --bg-color: #E8F0FE;\n",
              "      --fill-color: #1967D2;\n",
              "      --hover-bg-color: #E2EBFA;\n",
              "      --hover-fill-color: #174EA6;\n",
              "      --disabled-fill-color: #AAA;\n",
              "      --disabled-bg-color: #DDD;\n",
              "  }\n",
              "\n",
              "  [theme=dark] .colab-df-quickchart {\n",
              "      --bg-color: #3B4455;\n",
              "      --fill-color: #D2E3FC;\n",
              "      --hover-bg-color: #434B5C;\n",
              "      --hover-fill-color: #FFFFFF;\n",
              "      --disabled-bg-color: #3B4455;\n",
              "      --disabled-fill-color: #666;\n",
              "  }\n",
              "\n",
              "  .colab-df-quickchart {\n",
              "    background-color: var(--bg-color);\n",
              "    border: none;\n",
              "    border-radius: 50%;\n",
              "    cursor: pointer;\n",
              "    display: none;\n",
              "    fill: var(--fill-color);\n",
              "    height: 32px;\n",
              "    padding: 0;\n",
              "    width: 32px;\n",
              "  }\n",
              "\n",
              "  .colab-df-quickchart:hover {\n",
              "    background-color: var(--hover-bg-color);\n",
              "    box-shadow: 0 1px 2px rgba(60, 64, 67, 0.3), 0 1px 3px 1px rgba(60, 64, 67, 0.15);\n",
              "    fill: var(--button-hover-fill-color);\n",
              "  }\n",
              "\n",
              "  .colab-df-quickchart-complete:disabled,\n",
              "  .colab-df-quickchart-complete:disabled:hover {\n",
              "    background-color: var(--disabled-bg-color);\n",
              "    fill: var(--disabled-fill-color);\n",
              "    box-shadow: none;\n",
              "  }\n",
              "\n",
              "  .colab-df-spinner {\n",
              "    border: 2px solid var(--fill-color);\n",
              "    border-color: transparent;\n",
              "    border-bottom-color: var(--fill-color);\n",
              "    animation:\n",
              "      spin 1s steps(1) infinite;\n",
              "  }\n",
              "\n",
              "  @keyframes spin {\n",
              "    0% {\n",
              "      border-color: transparent;\n",
              "      border-bottom-color: var(--fill-color);\n",
              "      border-left-color: var(--fill-color);\n",
              "    }\n",
              "    20% {\n",
              "      border-color: transparent;\n",
              "      border-left-color: var(--fill-color);\n",
              "      border-top-color: var(--fill-color);\n",
              "    }\n",
              "    30% {\n",
              "      border-color: transparent;\n",
              "      border-left-color: var(--fill-color);\n",
              "      border-top-color: var(--fill-color);\n",
              "      border-right-color: var(--fill-color);\n",
              "    }\n",
              "    40% {\n",
              "      border-color: transparent;\n",
              "      border-right-color: var(--fill-color);\n",
              "      border-top-color: var(--fill-color);\n",
              "    }\n",
              "    60% {\n",
              "      border-color: transparent;\n",
              "      border-right-color: var(--fill-color);\n",
              "    }\n",
              "    80% {\n",
              "      border-color: transparent;\n",
              "      border-right-color: var(--fill-color);\n",
              "      border-bottom-color: var(--fill-color);\n",
              "    }\n",
              "    90% {\n",
              "      border-color: transparent;\n",
              "      border-bottom-color: var(--fill-color);\n",
              "    }\n",
              "  }\n",
              "</style>\n",
              "\n",
              "  <script>\n",
              "    async function quickchart(key) {\n",
              "      const quickchartButtonEl =\n",
              "        document.querySelector('#' + key + ' button');\n",
              "      quickchartButtonEl.disabled = true;  // To prevent multiple clicks.\n",
              "      quickchartButtonEl.classList.add('colab-df-spinner');\n",
              "      try {\n",
              "        const charts = await google.colab.kernel.invokeFunction(\n",
              "            'suggestCharts', [key], {});\n",
              "      } catch (error) {\n",
              "        console.error('Error during call to suggestCharts:', error);\n",
              "      }\n",
              "      quickchartButtonEl.classList.remove('colab-df-spinner');\n",
              "      quickchartButtonEl.classList.add('colab-df-quickchart-complete');\n",
              "    }\n",
              "    (() => {\n",
              "      let quickchartButtonEl =\n",
              "        document.querySelector('#df-7f164622-944a-4a5a-9641-29afb09dffec button');\n",
              "      quickchartButtonEl.style.display =\n",
              "        google.colab.kernel.accessAllowed ? 'block' : 'none';\n",
              "    })();\n",
              "  </script>\n",
              "</div>\n",
              "\n",
              "  <div id=\"id_7d8a4af3-5bd6-465d-a60d-2e0ef38dfd94\">\n",
              "    <style>\n",
              "      .colab-df-generate {\n",
              "        background-color: #E8F0FE;\n",
              "        border: none;\n",
              "        border-radius: 50%;\n",
              "        cursor: pointer;\n",
              "        display: none;\n",
              "        fill: #1967D2;\n",
              "        height: 32px;\n",
              "        padding: 0 0 0 0;\n",
              "        width: 32px;\n",
              "      }\n",
              "\n",
              "      .colab-df-generate:hover {\n",
              "        background-color: #E2EBFA;\n",
              "        box-shadow: 0px 1px 2px rgba(60, 64, 67, 0.3), 0px 1px 3px 1px rgba(60, 64, 67, 0.15);\n",
              "        fill: #174EA6;\n",
              "      }\n",
              "\n",
              "      [theme=dark] .colab-df-generate {\n",
              "        background-color: #3B4455;\n",
              "        fill: #D2E3FC;\n",
              "      }\n",
              "\n",
              "      [theme=dark] .colab-df-generate:hover {\n",
              "        background-color: #434B5C;\n",
              "        box-shadow: 0px 1px 3px 1px rgba(0, 0, 0, 0.15);\n",
              "        filter: drop-shadow(0px 1px 2px rgba(0, 0, 0, 0.3));\n",
              "        fill: #FFFFFF;\n",
              "      }\n",
              "    </style>\n",
              "    <button class=\"colab-df-generate\" onclick=\"generateWithVariable('receiver_table')\"\n",
              "            title=\"Generate code using this dataframe.\"\n",
              "            style=\"display:none;\">\n",
              "\n",
              "  <svg xmlns=\"http://www.w3.org/2000/svg\" height=\"24px\"viewBox=\"0 0 24 24\"\n",
              "       width=\"24px\">\n",
              "    <path d=\"M7,19H8.4L18.45,9,17,7.55,7,17.6ZM5,21V16.75L18.45,3.32a2,2,0,0,1,2.83,0l1.4,1.43a1.91,1.91,0,0,1,.58,1.4,1.91,1.91,0,0,1-.58,1.4L9.25,21ZM18.45,9,17,7.55Zm-12,3A5.31,5.31,0,0,0,4.9,8.1,5.31,5.31,0,0,0,1,6.5,5.31,5.31,0,0,0,4.9,4.9,5.31,5.31,0,0,0,6.5,1,5.31,5.31,0,0,0,8.1,4.9,5.31,5.31,0,0,0,12,6.5,5.46,5.46,0,0,0,6.5,12Z\"/>\n",
              "  </svg>\n",
              "    </button>\n",
              "    <script>\n",
              "      (() => {\n",
              "      const buttonEl =\n",
              "        document.querySelector('#id_7d8a4af3-5bd6-465d-a60d-2e0ef38dfd94 button.colab-df-generate');\n",
              "      buttonEl.style.display =\n",
              "        google.colab.kernel.accessAllowed ? 'block' : 'none';\n",
              "\n",
              "      buttonEl.onclick = () => {\n",
              "        google.colab.notebook.generateWithVariable('receiver_table');\n",
              "      }\n",
              "      })();\n",
              "    </script>\n",
              "  </div>\n",
              "\n",
              "    </div>\n",
              "  </div>\n"
            ]
          },
          "metadata": {},
          "execution_count": 46
        }
      ],
      "source": [
        "receiver_table = PredictionGridPeek(receiver_pred, test_df, CLASS_LABELS, \"receiver\")\n",
        "receiver_table"
      ]
    },
    {
      "cell_type": "code",
      "execution_count": 47,
      "metadata": {
        "colab": {
          "base_uri": "https://localhost:8080/",
          "height": 176
        },
        "id": "xz0bZbJ_H_5e",
        "outputId": "1f2b186b-5342-4a47-8f51-a889a0da245f"
      },
      "outputs": [
        {
          "output_type": "display_data",
          "data": {
            "text/plain": [
              "'Hi Italy! Just opening up communication, and I want to know what some of your initial thoughts on the game are and if/how we can work together'"
            ],
            "application/vnd.google.colaboratory.intrinsic+json": {
              "type": "string"
            }
          },
          "metadata": {}
        },
        {
          "output_type": "display_data",
          "data": {
            "text/plain": [
              "\"Oh, gdi.  Now I have to tell a truth that sounds like the most cliched lie in the game: my order update didn't take, I wasn't intending to go to Piedmont.  Yes, I know it sounds ridiculous, but in this case true.\""
            ],
            "application/vnd.google.colaboratory.intrinsic+json": {
              "type": "string"
            }
          },
          "metadata": {}
        },
        {
          "output_type": "display_data",
          "data": {
            "text/plain": [
              "'Well, if you want to attack France in the Mediterranean while I attack through Burgundy you can have Marseille and Iberia while I take Brest and Paris, then with France out of the way you could focus on Turkey or Austria. Sound fair?'"
            ],
            "application/vnd.google.colaboratory.intrinsic+json": {
              "type": "string"
            }
          },
          "metadata": {}
        },
        {
          "output_type": "display_data",
          "data": {
            "text/plain": [
              "'So I tried to move towards a more forward position so I could fight France an d stab Russia, and *not* fight you, but you’re kinda putting yourself directly in my way, y’know?'"
            ],
            "application/vnd.google.colaboratory.intrinsic+json": {
              "type": "string"
            }
          },
          "metadata": {}
        }
      ],
      "source": [
        "receiver_table[\"message\"].map(display);"
      ]
    },
    {
      "cell_type": "code",
      "execution_count": 48,
      "metadata": {
        "colab": {
          "base_uri": "https://localhost:8080/",
          "height": 106
        },
        "id": "fr-4MX7dH_5e",
        "outputId": "1b23a2a6-f3f4-4fce-e4e8-2de692ecef87"
      },
      "outputs": [
        {
          "output_type": "display_data",
          "data": {
            "text/plain": [
              "''"
            ],
            "application/vnd.google.colaboratory.intrinsic+json": {
              "type": "string"
            }
          },
          "metadata": {}
        },
        {
          "output_type": "display_data",
          "data": {
            "text/plain": [
              "\"Thanks, let's have a good game!\""
            ],
            "application/vnd.google.colaboratory.intrinsic+json": {
              "type": "string"
            }
          },
          "metadata": {}
        },
        {
          "output_type": "display_data",
          "data": {
            "text/plain": [
              "\"Well....that's a great question, and a lot of it comes down to how free I'll be left to play in the West, no?\""
            ],
            "application/vnd.google.colaboratory.intrinsic+json": {
              "type": "string"
            }
          },
          "metadata": {}
        },
        {
          "output_type": "display_data",
          "data": {
            "text/plain": [
              "\"Also, weirdly, my phone doesn't seem to be updating me with latest messages the way it should, so I end up seeing these a lot later than I should\""
            ],
            "application/vnd.google.colaboratory.intrinsic+json": {
              "type": "string"
            }
          },
          "metadata": {}
        }
      ],
      "source": [
        "receiver_table[\"context\"].map(display);"
      ]
    }
  ],
  "metadata": {
    "kernelspec": {
      "display_name": "Python 3",
      "name": "python3"
    },
    "language_info": {
      "codemirror_mode": {
        "name": "ipython",
        "version": 3
      },
      "file_extension": ".py",
      "mimetype": "text/x-python",
      "name": "python",
      "nbconvert_exporter": "python",
      "pygments_lexer": "ipython3",
      "version": "3.11.0rc1"
    },
    "colab": {
      "provenance": [],
      "machine_shape": "hm",
      "gpuType": "V100"
    },
    "accelerator": "GPU"
  },
  "nbformat": 4,
  "nbformat_minor": 0
}