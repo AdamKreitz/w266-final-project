{
  "cells": [
    {
      "cell_type": "markdown",
      "metadata": {
        "id": "arLXFzs_H_5O"
      },
      "source": [
        "<hr/>\n",
        "\n",
        "# imports"
      ]
    },
    {
      "cell_type": "code",
      "execution_count": null,
      "metadata": {
        "id": "0QxvoRX2H_5Q",
        "outputId": "6bc60ec2-0d5b-407f-cfb7-02a64249a046"
      },
      "outputs": [
        {
          "name": "stdout",
          "output_type": "stream",
          "text": [
            "Requirement already satisfied: imblearn in /usr/local/lib/python3.11/dist-packages (0.0)\n",
            "Requirement already satisfied: imbalanced-learn in /usr/local/lib/python3.11/dist-packages (from imblearn) (0.11.0)\n",
            "Requirement already satisfied: numpy>=1.17.3 in /usr/local/lib/python3.11/dist-packages (from imbalanced-learn->imblearn) (1.26.0)\n",
            "Requirement already satisfied: scipy>=1.5.0 in /usr/local/lib/python3.11/dist-packages (from imbalanced-learn->imblearn) (1.11.3)\n",
            "Requirement already satisfied: scikit-learn>=1.0.2 in /usr/local/lib/python3.11/dist-packages (from imbalanced-learn->imblearn) (1.3.2)\n",
            "Requirement already satisfied: joblib>=1.1.1 in /usr/local/lib/python3.11/dist-packages (from imbalanced-learn->imblearn) (1.3.2)\n",
            "Requirement already satisfied: threadpoolctl>=2.0.0 in /usr/local/lib/python3.11/dist-packages (from imbalanced-learn->imblearn) (3.2.0)\n",
            "\u001b[33mWARNING: Running pip as the 'root' user can result in broken permissions and conflicting behaviour with the system package manager. It is recommended to use a virtual environment instead: https://pip.pypa.io/warnings/venv\u001b[0m\u001b[33m\n",
            "\u001b[0m\n",
            "\u001b[1m[\u001b[0m\u001b[34;49mnotice\u001b[0m\u001b[1;39;49m]\u001b[0m\u001b[39;49m A new release of pip is available: \u001b[0m\u001b[31;49m23.2.1\u001b[0m\u001b[39;49m -> \u001b[0m\u001b[32;49m23.3.1\u001b[0m\n",
            "\u001b[1m[\u001b[0m\u001b[34;49mnotice\u001b[0m\u001b[1;39;49m]\u001b[0m\u001b[39;49m To update, run: \u001b[0m\u001b[32;49mpython3 -m pip install --upgrade pip\u001b[0m\n"
          ]
        }
      ],
      "source": [
        "!pip install imblearn"
      ]
    },
    {
      "cell_type": "code",
      "execution_count": 2,
      "metadata": {
        "id": "Nl5_eL5SH_5R"
      },
      "outputs": [],
      "source": [
        "import os\n",
        "os.environ['TF_CPP_MIN_LOG_LEVEL'] = '3' # mute tf warnings\n",
        "\n",
        "import pandas as pd\n",
        "import numpy as np\n",
        "import matplotlib.pyplot as plt\n",
        "import json\n",
        "import tensorflow as tf\n",
        "from tensorflow import keras\n",
        "from transformers import BertTokenizer, TFBertModel\n",
        "import math\n",
        "import sklearn\n",
        "import imblearn"
      ]
    },
    {
      "cell_type": "code",
      "execution_count": 3,
      "metadata": {
        "colab": {
          "base_uri": "https://localhost:8080/"
        },
        "id": "tqpM8R9ZH_5S",
        "outputId": "b7a9bd9d-fc4f-43fd-fa96-258a6c7bd80c"
      },
      "outputs": [
        {
          "output_type": "stream",
          "name": "stdout",
          "text": [
            "Num GPUs Available:  1\n"
          ]
        }
      ],
      "source": [
        "print(\"Num GPUs Available: \", len(tf.config.list_physical_devices('GPU')))"
      ]
    },
    {
      "cell_type": "markdown",
      "metadata": {
        "id": "gbXPzw4IH_5S"
      },
      "source": [
        "# Definitions"
      ]
    },
    {
      "cell_type": "code",
      "execution_count": 4,
      "metadata": {
        "id": "xTyXj77aH_5S"
      },
      "outputs": [],
      "source": [
        "\n",
        "def pipe(*funcs):\n",
        "    \"\"\"\n",
        "    Works similar to the semantics of a `pipe` in other programming languages.\n",
        "    Intended to make nested functions readable and easier to manipulate. It\n",
        "    will take the first item in the list and feed it as input to the next\n",
        "    function in the list, then it takes that output and feeds it as input to\n",
        "    the next function in the list, and so on until it reaches the last\n",
        "    function in the list and returns its output.\n",
        "\n",
        "    Example:\n",
        "        instead of this:\n",
        "            ```py\n",
        "            input_layer = Input(...)\n",
        "            embedding_layer = Embedding(...)(input_layer)\n",
        "            lstm_layer = LSTM(...)(embedding_layer)\n",
        "            hidden_layer = Dense(...)(lstm_layer)\n",
        "            output_layer = Dense(...)(hidden_layer)\n",
        "            ```\n",
        "        you can do this:\n",
        "            ```py\n",
        "            lstm_ouput = pipe(\n",
        "                Input(...),\n",
        "                Embedding(...),\n",
        "                LSTM(...),\n",
        "                Dense(...),\n",
        "                Dense(...)\n",
        "            )\n",
        "            ```\n",
        "    \"\"\"\n",
        "    out = funcs[0]\n",
        "    for func in funcs[1:]:\n",
        "        out = func(out)\n",
        "    return out"
      ]
    },
    {
      "cell_type": "code",
      "execution_count": 5,
      "metadata": {
        "id": "ANj7-oKlH_5T"
      },
      "outputs": [],
      "source": [
        "def determine_name(row) -> str:\n",
        "    \"\"\"\n",
        "    Auxilary function used to determine the label for each given row.\n",
        "    \"\"\"\n",
        "    if row['sender_labels'] and row['receiver_labels']:\n",
        "        return 'straightforward'\n",
        "    elif not row['sender_labels'] and row['receiver_labels']:\n",
        "        return 'deceive'\n",
        "    elif row['sender_labels'] and not row['receiver_labels']:\n",
        "        return 'cassandra'\n",
        "    elif not row['sender_labels'] and not row['receiver_labels']:\n",
        "        return 'caught'\n",
        "    else:\n",
        "        return None"
      ]
    },
    {
      "cell_type": "code",
      "execution_count": 6,
      "metadata": {
        "id": "ZOMwW5Z7H_5T"
      },
      "outputs": [],
      "source": [
        "def parse_jsonl(path: str) -> pd.DataFrame:\n",
        "    \"\"\"\n",
        "    Load the given jsonl file and parse each conversation into a readable pandas\n",
        "    data frame, where each row is a message. Additional data that is used later\n",
        "    is also added to the created dataframe for consistency accross all loaded\n",
        "    data.\n",
        "\n",
        "    Args:\n",
        "        path: str\n",
        "            the path to the jsonl file to load and parse\n",
        "\n",
        "    Returns: pd.DataFrame\n",
        "        A parsed data frame where each row is a message.\n",
        "    \"\"\"\n",
        "    data = {}\n",
        "    with open(path, 'r') as f:\n",
        "        for (i, line) in enumerate(f):\n",
        "            line = json.loads(line)\n",
        "            line[\"conversation_id\"] = [i] * len(line[\"messages\"])\n",
        "            line['previous_message'] = ([\"\"] if len(line['messages']) > 0 else []) + line[\"messages\"][:-1]\n",
        "            for k in line.keys():\n",
        "                if k == \"players\":\n",
        "                    continue\n",
        "                if k == \"game_id\":\n",
        "                    line[k] = [line[k]] * len(line[\"messages\"])\n",
        "                data[k] = data.get(k, []) + line[k]\n",
        "    data = pd.DataFrame(data)\n",
        "    data['label'] = data.apply(determine_name, axis=1)\n",
        "    data['sender_labels_encoded'] = data['sender_labels'].astype(str).apply(lambda x: [\"True\", \"False\", \"NOANNOTATION\"].index(x))\n",
        "    data['receiver_labels_encoded'] = data['receiver_labels'].astype(str).apply(lambda x: [\"True\", \"False\", \"NOANNOTATION\"].index(x))\n",
        "    data[\"game_score_delta\"] = data['game_score_delta'].astype(float)\n",
        "    return data"
      ]
    },
    {
      "cell_type": "code",
      "execution_count": 7,
      "metadata": {
        "id": "nbVRoZu0H_5T"
      },
      "outputs": [],
      "source": [
        "def EvaluateModel(model: tf.keras.Sequential, test_ds: tf.data.Dataset, test_target: pd.DataFrame, history: tf.keras.callbacks.History, skip_evaluation: bool = False) -> tuple[float, float]:\n",
        "    \"\"\"\n",
        "    Take the model and plot the training accuracy and validation accuracy. Also,\n",
        "    Perform a evaluation on the test data, print the loss and accuracy, and print\n",
        "    the test metric scores.\n",
        "\n",
        "    Args:\n",
        "        model: tf.keras.Sequential\n",
        "            the model to test\n",
        "        test_ds: tf.data.Dataset\n",
        "            the test dataset to evaluate the model with\n",
        "        test_target: pd.DataFrame\n",
        "            the test data frame list with the target labels\n",
        "        history: tf.keras.callbacks.History\n",
        "            the history from fitting the model\n",
        "        skip_evaluation: bool\n",
        "            skip the model.evaluate() function\n",
        "    \"\"\"\n",
        "    def find_best_threshold(y_true, y_probs):\n",
        "        best_threshold = 0.5\n",
        "        best_f1 = 0.0\n",
        "\n",
        "        # Iterate over a range of thresholds (e.g., 0.0 to 1.0)\n",
        "        for threshold in np.arange(0.0, 1.0, 0.01):\n",
        "            # Convert probabilities to binary predictions based on the current threshold\n",
        "            y_pred = (y_probs > threshold).astype(int)\n",
        "\n",
        "            # Calculate the F1 score\n",
        "            f1 = sklearn.metrics.f1_score(y_true, y_pred, average='macro')\n",
        "\n",
        "            # If this F1 score is better than the best so far, update the best threshold and F1 score\n",
        "            if f1 > best_f1:\n",
        "                best_f1 = f1\n",
        "                best_threshold = threshold\n",
        "        return best_threshold, best_f1\n",
        "\n",
        "    print(f\"{'='*10} Model Accuracy {'='*10}\")\n",
        "    plt.plot(history.history['sender_output_auc'], label='sender_output_auc', color=\"tan\", linestyle=\"dashed\")\n",
        "    plt.plot(history.history['val_sender_output_auc'], label = 'val_sender_output_auc', color=\"darkorange\")\n",
        "    plt.plot(history.history['receiver_output_auc_1'], label='receiver_output_auc', color=\"cornflowerblue\" , linestyle=\"dashed\")\n",
        "    plt.plot(history.history['val_receiver_output_auc_1'], label = 'val_receiver_output_auc', color=\"darkblue\")\n",
        "    plt.xlabel('Epoch')\n",
        "    plt.ylabel('Accuracy')\n",
        "    plt.ylim([0.0, 1.03])\n",
        "    plt.legend(loc='lower right')\n",
        "    plt.show()\n",
        "\n",
        "    if not skip_evaluation:\n",
        "        print(f\"{'='*10} Test Evaluation {'='*10}\")\n",
        "        model.evaluate(test_ds, test_target, verbose=2)\n",
        "        # print(f\"Test loss: {test_loss} | Test accuracy: {test_acc}\")\n",
        "        print()\n",
        "\n",
        "    print(f\"{'='*10} Test Metrics {'='*10}\")\n",
        "    y_pred = model.predict(test_ds)\n",
        "\n",
        "    # Find the best threshold for sender\n",
        "    best_threshold_sender, best_f1_sender = find_best_threshold(test_target[0], y_pred[0])\n",
        "    print(\"Best Threshold for Sender:\", best_threshold_sender, \"with F1 Score:\", best_f1_sender)\n",
        "\n",
        "    # Find the best threshold for receiver\n",
        "    best_threshold_receiver, best_f1_receiver = find_best_threshold(test_target[1], y_pred[1])\n",
        "    print(\"Best Threshold for Receiver:\", best_threshold_receiver, \"with F1 Score:\", best_f1_receiver)\n",
        "\n",
        "      # Convert probabilities to binary predictions\n",
        "    y_pred_sender = (y_pred[0] > best_threshold_sender).astype(int).reshape(-1)\n",
        "    y_pred_receiver = (y_pred[1] > best_threshold_receiver).astype(int).reshape(-1)\n",
        "\n",
        "    print()\n",
        "    print(f\"{'-'*10} Sender Labels {'-'*10}\")\n",
        "    print(sklearn.metrics.classification_report(test_target[0], y_pred_sender, target_names=[\"True\", \"False\"], zero_division=0))\n",
        "    print(f\"{'-'*10} Receiver Labels {'-'*10}\")\n",
        "    print(sklearn.metrics.classification_report(test_target[1], y_pred_receiver, target_names=[\"True\", \"False\"], zero_division=0))\n",
        "\n",
        "    return best_threshold_sender, best_threshold_receiver"
      ]
    },
    {
      "cell_type": "code",
      "execution_count": 8,
      "metadata": {
        "id": "h1J-TqiaH_5U"
      },
      "outputs": [],
      "source": [
        "\n",
        "def Tokenize(tokenizer, df: pd.DataFrame, sequence_len: int = 300) -> tuple:\n",
        "    \"\"\"\n",
        "    Makes a consistant return of tokenized and padded messages and previous messages.\n",
        "    \"\"\"\n",
        "    encoded_msg = tokenizer.texts_to_sequences(df['messages'])\n",
        "    encoded_prev_msg = tokenizer.texts_to_sequences(df['previous_message'])\n",
        "    return keras.preprocessing.sequence.pad_sequences(encoded_msg, sequence_len), keras.preprocessing.sequence.pad_sequences(encoded_prev_msg, sequence_len)"
      ]
    },
    {
      "cell_type": "code",
      "execution_count": 9,
      "metadata": {
        "id": "RM-UHvmqH_5U"
      },
      "outputs": [],
      "source": [
        "def PredictionGridPeek(pred: list, df: pd.DataFrame, target_labels: list, who: str) -> pd.DataFrame:\n",
        "    table = {\n",
        "        \"prediction\": [],\n",
        "        \"target\": [],\n",
        "        \"message\": [],\n",
        "        \"context\": []\n",
        "    }\n",
        "    for match in [True, False]:\n",
        "        bool_stmt = pred == df[f'{who}_labels_encoded'] if match else pred != df[f'{who}_labels_encoded']\n",
        "        visited = []\n",
        "        for i in range(0, len(pred[bool_stmt])):\n",
        "            row = df[bool_stmt].iloc[i,:]\n",
        "            pred_label = target_labels[pred[bool_stmt][i]]\n",
        "            if (pred_label, row[f'{who}_labels']) not in visited:\n",
        "                table[\"prediction\"].append(pred_label)\n",
        "                table[\"target\"].append(row[f'{who}_labels'])\n",
        "                table['message'].append(row['messages'])\n",
        "                table['context'].append(row['previous_message'])\n",
        "                visited.append((pred_label, row[f'{who}_labels']))\n",
        "                if len(visited) >= len(target_labels):\n",
        "                    break\n",
        "    return pd.DataFrame(table)"
      ]
    },
    {
      "cell_type": "markdown",
      "metadata": {
        "id": "kV9_NNs1H_5U"
      },
      "source": [
        "<hr/>\n",
        "\n",
        "# data explortion"
      ]
    },
    {
      "cell_type": "markdown",
      "metadata": {
        "id": "003kHAY4H_5V"
      },
      "source": [
        "just a raw load of the data we can see it is unformated and needs to be parsed a little to better satisfy the pandas format."
      ]
    },
    {
      "cell_type": "markdown",
      "metadata": {
        "id": "FN2yAepMH_5V"
      },
      "source": [
        "## NOANNOTATION"
      ]
    },
    {
      "cell_type": "code",
      "execution_count": 10,
      "metadata": {
        "colab": {
          "base_uri": "https://localhost:8080/"
        },
        "id": "BPsiWP5qH_5V",
        "outputId": "6776952a-8ff5-40d0-9e3a-6362589b4e81"
      },
      "outputs": [
        {
          "output_type": "stream",
          "name": "stdout",
          "text": [
            "Mounted at /content/drive\n"
          ]
        }
      ],
      "source": [
        "# train_df = (parse_jsonl(\"./data/train.jsonl\"))\n",
        "# test_df = (parse_jsonl(\"./data/test.jsonl\"))\n",
        "# validation_df = (parse_jsonl(\"./data/validation.jsonl\"))\n",
        "\n",
        "from google.colab import drive\n",
        "drive.mount('/content/drive')\n",
        "\n",
        "folder_path = '/content/drive/My Drive/Colab Notebooks/w266 Final Project'\n",
        "\n",
        "train_df = (parse_jsonl(f\"{folder_path}/data/train.jsonl\"))\n",
        "test_df = (parse_jsonl(f\"{folder_path}/data/test.jsonl\"))\n",
        "validation_df = (parse_jsonl(f\"{folder_path}/data/validation.jsonl\"))"
      ]
    },
    {
      "cell_type": "code",
      "execution_count": 11,
      "metadata": {
        "colab": {
          "base_uri": "https://localhost:8080/",
          "height": 400
        },
        "id": "WaO68D-sH_5V",
        "outputId": "c5f738e6-dfe9-4282-c70e-ff5b9498eb54"
      },
      "outputs": [
        {
          "output_type": "execute_result",
          "data": {
            "text/plain": [
              "                                            messages  sender_labels  \\\n",
              "0  Germany!\\n\\nJust the person I want to speak wi...           True   \n",
              "1  You've whet my appetite, Italy. What's the sug...           True   \n",
              "2                                                  👍           True   \n",
              "3  It seems like there are a lot of ways that cou...           True   \n",
              "4  Yeah, I can’t say I’ve tried it and it works, ...           True   \n",
              "\n",
              "  receiver_labels speakers receivers  absolute_message_index  \\\n",
              "0            True    italy   germany                      74   \n",
              "1            True  germany     italy                      76   \n",
              "2            True    italy   germany                      86   \n",
              "3            True  germany     italy                      87   \n",
              "4    NOANNOTATION    italy   germany                      89   \n",
              "\n",
              "   relative_message_index seasons years game_score  game_score_delta  game_id  \\\n",
              "0                       0  Spring  1901          3               0.0        1   \n",
              "1                       1  Spring  1901          3               0.0        1   \n",
              "2                       2  Spring  1901          3               0.0        1   \n",
              "3                       3  Spring  1901          3               0.0        1   \n",
              "4                       4  Spring  1901          3               0.0        1   \n",
              "\n",
              "   conversation_id                                   previous_message  \\\n",
              "0                0                                                      \n",
              "1                0  Germany!\\n\\nJust the person I want to speak wi...   \n",
              "2                0  You've whet my appetite, Italy. What's the sug...   \n",
              "3                0                                                  👍   \n",
              "4                0  It seems like there are a lot of ways that cou...   \n",
              "\n",
              "             label  sender_labels_encoded  receiver_labels_encoded  \n",
              "0  straightforward                      0                        0  \n",
              "1  straightforward                      0                        0  \n",
              "2  straightforward                      0                        0  \n",
              "3  straightforward                      0                        0  \n",
              "4  straightforward                      0                        2  "
            ],
            "text/html": [
              "\n",
              "  <div id=\"df-7c79bc5c-ac6c-4fb3-932e-b6e4387dee51\" class=\"colab-df-container\">\n",
              "    <div>\n",
              "<style scoped>\n",
              "    .dataframe tbody tr th:only-of-type {\n",
              "        vertical-align: middle;\n",
              "    }\n",
              "\n",
              "    .dataframe tbody tr th {\n",
              "        vertical-align: top;\n",
              "    }\n",
              "\n",
              "    .dataframe thead th {\n",
              "        text-align: right;\n",
              "    }\n",
              "</style>\n",
              "<table border=\"1\" class=\"dataframe\">\n",
              "  <thead>\n",
              "    <tr style=\"text-align: right;\">\n",
              "      <th></th>\n",
              "      <th>messages</th>\n",
              "      <th>sender_labels</th>\n",
              "      <th>receiver_labels</th>\n",
              "      <th>speakers</th>\n",
              "      <th>receivers</th>\n",
              "      <th>absolute_message_index</th>\n",
              "      <th>relative_message_index</th>\n",
              "      <th>seasons</th>\n",
              "      <th>years</th>\n",
              "      <th>game_score</th>\n",
              "      <th>game_score_delta</th>\n",
              "      <th>game_id</th>\n",
              "      <th>conversation_id</th>\n",
              "      <th>previous_message</th>\n",
              "      <th>label</th>\n",
              "      <th>sender_labels_encoded</th>\n",
              "      <th>receiver_labels_encoded</th>\n",
              "    </tr>\n",
              "  </thead>\n",
              "  <tbody>\n",
              "    <tr>\n",
              "      <th>0</th>\n",
              "      <td>Germany!\\n\\nJust the person I want to speak wi...</td>\n",
              "      <td>True</td>\n",
              "      <td>True</td>\n",
              "      <td>italy</td>\n",
              "      <td>germany</td>\n",
              "      <td>74</td>\n",
              "      <td>0</td>\n",
              "      <td>Spring</td>\n",
              "      <td>1901</td>\n",
              "      <td>3</td>\n",
              "      <td>0.0</td>\n",
              "      <td>1</td>\n",
              "      <td>0</td>\n",
              "      <td></td>\n",
              "      <td>straightforward</td>\n",
              "      <td>0</td>\n",
              "      <td>0</td>\n",
              "    </tr>\n",
              "    <tr>\n",
              "      <th>1</th>\n",
              "      <td>You've whet my appetite, Italy. What's the sug...</td>\n",
              "      <td>True</td>\n",
              "      <td>True</td>\n",
              "      <td>germany</td>\n",
              "      <td>italy</td>\n",
              "      <td>76</td>\n",
              "      <td>1</td>\n",
              "      <td>Spring</td>\n",
              "      <td>1901</td>\n",
              "      <td>3</td>\n",
              "      <td>0.0</td>\n",
              "      <td>1</td>\n",
              "      <td>0</td>\n",
              "      <td>Germany!\\n\\nJust the person I want to speak wi...</td>\n",
              "      <td>straightforward</td>\n",
              "      <td>0</td>\n",
              "      <td>0</td>\n",
              "    </tr>\n",
              "    <tr>\n",
              "      <th>2</th>\n",
              "      <td>👍</td>\n",
              "      <td>True</td>\n",
              "      <td>True</td>\n",
              "      <td>italy</td>\n",
              "      <td>germany</td>\n",
              "      <td>86</td>\n",
              "      <td>2</td>\n",
              "      <td>Spring</td>\n",
              "      <td>1901</td>\n",
              "      <td>3</td>\n",
              "      <td>0.0</td>\n",
              "      <td>1</td>\n",
              "      <td>0</td>\n",
              "      <td>You've whet my appetite, Italy. What's the sug...</td>\n",
              "      <td>straightforward</td>\n",
              "      <td>0</td>\n",
              "      <td>0</td>\n",
              "    </tr>\n",
              "    <tr>\n",
              "      <th>3</th>\n",
              "      <td>It seems like there are a lot of ways that cou...</td>\n",
              "      <td>True</td>\n",
              "      <td>True</td>\n",
              "      <td>germany</td>\n",
              "      <td>italy</td>\n",
              "      <td>87</td>\n",
              "      <td>3</td>\n",
              "      <td>Spring</td>\n",
              "      <td>1901</td>\n",
              "      <td>3</td>\n",
              "      <td>0.0</td>\n",
              "      <td>1</td>\n",
              "      <td>0</td>\n",
              "      <td>👍</td>\n",
              "      <td>straightforward</td>\n",
              "      <td>0</td>\n",
              "      <td>0</td>\n",
              "    </tr>\n",
              "    <tr>\n",
              "      <th>4</th>\n",
              "      <td>Yeah, I can’t say I’ve tried it and it works, ...</td>\n",
              "      <td>True</td>\n",
              "      <td>NOANNOTATION</td>\n",
              "      <td>italy</td>\n",
              "      <td>germany</td>\n",
              "      <td>89</td>\n",
              "      <td>4</td>\n",
              "      <td>Spring</td>\n",
              "      <td>1901</td>\n",
              "      <td>3</td>\n",
              "      <td>0.0</td>\n",
              "      <td>1</td>\n",
              "      <td>0</td>\n",
              "      <td>It seems like there are a lot of ways that cou...</td>\n",
              "      <td>straightforward</td>\n",
              "      <td>0</td>\n",
              "      <td>2</td>\n",
              "    </tr>\n",
              "  </tbody>\n",
              "</table>\n",
              "</div>\n",
              "    <div class=\"colab-df-buttons\">\n",
              "\n",
              "  <div class=\"colab-df-container\">\n",
              "    <button class=\"colab-df-convert\" onclick=\"convertToInteractive('df-7c79bc5c-ac6c-4fb3-932e-b6e4387dee51')\"\n",
              "            title=\"Convert this dataframe to an interactive table.\"\n",
              "            style=\"display:none;\">\n",
              "\n",
              "  <svg xmlns=\"http://www.w3.org/2000/svg\" height=\"24px\" viewBox=\"0 -960 960 960\">\n",
              "    <path d=\"M120-120v-720h720v720H120Zm60-500h600v-160H180v160Zm220 220h160v-160H400v160Zm0 220h160v-160H400v160ZM180-400h160v-160H180v160Zm440 0h160v-160H620v160ZM180-180h160v-160H180v160Zm440 0h160v-160H620v160Z\"/>\n",
              "  </svg>\n",
              "    </button>\n",
              "\n",
              "  <style>\n",
              "    .colab-df-container {\n",
              "      display:flex;\n",
              "      gap: 12px;\n",
              "    }\n",
              "\n",
              "    .colab-df-convert {\n",
              "      background-color: #E8F0FE;\n",
              "      border: none;\n",
              "      border-radius: 50%;\n",
              "      cursor: pointer;\n",
              "      display: none;\n",
              "      fill: #1967D2;\n",
              "      height: 32px;\n",
              "      padding: 0 0 0 0;\n",
              "      width: 32px;\n",
              "    }\n",
              "\n",
              "    .colab-df-convert:hover {\n",
              "      background-color: #E2EBFA;\n",
              "      box-shadow: 0px 1px 2px rgba(60, 64, 67, 0.3), 0px 1px 3px 1px rgba(60, 64, 67, 0.15);\n",
              "      fill: #174EA6;\n",
              "    }\n",
              "\n",
              "    .colab-df-buttons div {\n",
              "      margin-bottom: 4px;\n",
              "    }\n",
              "\n",
              "    [theme=dark] .colab-df-convert {\n",
              "      background-color: #3B4455;\n",
              "      fill: #D2E3FC;\n",
              "    }\n",
              "\n",
              "    [theme=dark] .colab-df-convert:hover {\n",
              "      background-color: #434B5C;\n",
              "      box-shadow: 0px 1px 3px 1px rgba(0, 0, 0, 0.15);\n",
              "      filter: drop-shadow(0px 1px 2px rgba(0, 0, 0, 0.3));\n",
              "      fill: #FFFFFF;\n",
              "    }\n",
              "  </style>\n",
              "\n",
              "    <script>\n",
              "      const buttonEl =\n",
              "        document.querySelector('#df-7c79bc5c-ac6c-4fb3-932e-b6e4387dee51 button.colab-df-convert');\n",
              "      buttonEl.style.display =\n",
              "        google.colab.kernel.accessAllowed ? 'block' : 'none';\n",
              "\n",
              "      async function convertToInteractive(key) {\n",
              "        const element = document.querySelector('#df-7c79bc5c-ac6c-4fb3-932e-b6e4387dee51');\n",
              "        const dataTable =\n",
              "          await google.colab.kernel.invokeFunction('convertToInteractive',\n",
              "                                                    [key], {});\n",
              "        if (!dataTable) return;\n",
              "\n",
              "        const docLinkHtml = 'Like what you see? Visit the ' +\n",
              "          '<a target=\"_blank\" href=https://colab.research.google.com/notebooks/data_table.ipynb>data table notebook</a>'\n",
              "          + ' to learn more about interactive tables.';\n",
              "        element.innerHTML = '';\n",
              "        dataTable['output_type'] = 'display_data';\n",
              "        await google.colab.output.renderOutput(dataTable, element);\n",
              "        const docLink = document.createElement('div');\n",
              "        docLink.innerHTML = docLinkHtml;\n",
              "        element.appendChild(docLink);\n",
              "      }\n",
              "    </script>\n",
              "  </div>\n",
              "\n",
              "\n",
              "<div id=\"df-9e7a5317-63db-4b90-a898-299c009f9994\">\n",
              "  <button class=\"colab-df-quickchart\" onclick=\"quickchart('df-9e7a5317-63db-4b90-a898-299c009f9994')\"\n",
              "            title=\"Suggest charts\"\n",
              "            style=\"display:none;\">\n",
              "\n",
              "<svg xmlns=\"http://www.w3.org/2000/svg\" height=\"24px\"viewBox=\"0 0 24 24\"\n",
              "     width=\"24px\">\n",
              "    <g>\n",
              "        <path d=\"M19 3H5c-1.1 0-2 .9-2 2v14c0 1.1.9 2 2 2h14c1.1 0 2-.9 2-2V5c0-1.1-.9-2-2-2zM9 17H7v-7h2v7zm4 0h-2V7h2v10zm4 0h-2v-4h2v4z\"/>\n",
              "    </g>\n",
              "</svg>\n",
              "  </button>\n",
              "\n",
              "<style>\n",
              "  .colab-df-quickchart {\n",
              "      --bg-color: #E8F0FE;\n",
              "      --fill-color: #1967D2;\n",
              "      --hover-bg-color: #E2EBFA;\n",
              "      --hover-fill-color: #174EA6;\n",
              "      --disabled-fill-color: #AAA;\n",
              "      --disabled-bg-color: #DDD;\n",
              "  }\n",
              "\n",
              "  [theme=dark] .colab-df-quickchart {\n",
              "      --bg-color: #3B4455;\n",
              "      --fill-color: #D2E3FC;\n",
              "      --hover-bg-color: #434B5C;\n",
              "      --hover-fill-color: #FFFFFF;\n",
              "      --disabled-bg-color: #3B4455;\n",
              "      --disabled-fill-color: #666;\n",
              "  }\n",
              "\n",
              "  .colab-df-quickchart {\n",
              "    background-color: var(--bg-color);\n",
              "    border: none;\n",
              "    border-radius: 50%;\n",
              "    cursor: pointer;\n",
              "    display: none;\n",
              "    fill: var(--fill-color);\n",
              "    height: 32px;\n",
              "    padding: 0;\n",
              "    width: 32px;\n",
              "  }\n",
              "\n",
              "  .colab-df-quickchart:hover {\n",
              "    background-color: var(--hover-bg-color);\n",
              "    box-shadow: 0 1px 2px rgba(60, 64, 67, 0.3), 0 1px 3px 1px rgba(60, 64, 67, 0.15);\n",
              "    fill: var(--button-hover-fill-color);\n",
              "  }\n",
              "\n",
              "  .colab-df-quickchart-complete:disabled,\n",
              "  .colab-df-quickchart-complete:disabled:hover {\n",
              "    background-color: var(--disabled-bg-color);\n",
              "    fill: var(--disabled-fill-color);\n",
              "    box-shadow: none;\n",
              "  }\n",
              "\n",
              "  .colab-df-spinner {\n",
              "    border: 2px solid var(--fill-color);\n",
              "    border-color: transparent;\n",
              "    border-bottom-color: var(--fill-color);\n",
              "    animation:\n",
              "      spin 1s steps(1) infinite;\n",
              "  }\n",
              "\n",
              "  @keyframes spin {\n",
              "    0% {\n",
              "      border-color: transparent;\n",
              "      border-bottom-color: var(--fill-color);\n",
              "      border-left-color: var(--fill-color);\n",
              "    }\n",
              "    20% {\n",
              "      border-color: transparent;\n",
              "      border-left-color: var(--fill-color);\n",
              "      border-top-color: var(--fill-color);\n",
              "    }\n",
              "    30% {\n",
              "      border-color: transparent;\n",
              "      border-left-color: var(--fill-color);\n",
              "      border-top-color: var(--fill-color);\n",
              "      border-right-color: var(--fill-color);\n",
              "    }\n",
              "    40% {\n",
              "      border-color: transparent;\n",
              "      border-right-color: var(--fill-color);\n",
              "      border-top-color: var(--fill-color);\n",
              "    }\n",
              "    60% {\n",
              "      border-color: transparent;\n",
              "      border-right-color: var(--fill-color);\n",
              "    }\n",
              "    80% {\n",
              "      border-color: transparent;\n",
              "      border-right-color: var(--fill-color);\n",
              "      border-bottom-color: var(--fill-color);\n",
              "    }\n",
              "    90% {\n",
              "      border-color: transparent;\n",
              "      border-bottom-color: var(--fill-color);\n",
              "    }\n",
              "  }\n",
              "</style>\n",
              "\n",
              "  <script>\n",
              "    async function quickchart(key) {\n",
              "      const quickchartButtonEl =\n",
              "        document.querySelector('#' + key + ' button');\n",
              "      quickchartButtonEl.disabled = true;  // To prevent multiple clicks.\n",
              "      quickchartButtonEl.classList.add('colab-df-spinner');\n",
              "      try {\n",
              "        const charts = await google.colab.kernel.invokeFunction(\n",
              "            'suggestCharts', [key], {});\n",
              "      } catch (error) {\n",
              "        console.error('Error during call to suggestCharts:', error);\n",
              "      }\n",
              "      quickchartButtonEl.classList.remove('colab-df-spinner');\n",
              "      quickchartButtonEl.classList.add('colab-df-quickchart-complete');\n",
              "    }\n",
              "    (() => {\n",
              "      let quickchartButtonEl =\n",
              "        document.querySelector('#df-9e7a5317-63db-4b90-a898-299c009f9994 button');\n",
              "      quickchartButtonEl.style.display =\n",
              "        google.colab.kernel.accessAllowed ? 'block' : 'none';\n",
              "    })();\n",
              "  </script>\n",
              "</div>\n",
              "\n",
              "    </div>\n",
              "  </div>\n"
            ]
          },
          "metadata": {},
          "execution_count": 11
        }
      ],
      "source": [
        "\n",
        "train_df.head()"
      ]
    },
    {
      "cell_type": "markdown",
      "metadata": {
        "id": "xzlfYVSiH_5V"
      },
      "source": [
        "# NOANNOTATION"
      ]
    },
    {
      "cell_type": "markdown",
      "metadata": {
        "id": "QhNaJUhHH_5V"
      },
      "source": [
        "We can see that there are some `receiver_labels` that have the value `NOANNOTATION`. this is not a bool value"
      ]
    },
    {
      "cell_type": "code",
      "execution_count": 12,
      "metadata": {
        "colab": {
          "base_uri": "https://localhost:8080/"
        },
        "id": "5XYfs9SCH_5V",
        "outputId": "22406fec-2733-4fce-b837-af363b4f0162"
      },
      "outputs": [
        {
          "output_type": "stream",
          "name": "stdout",
          "text": [
            "NOANNOTATION percentage in:\n",
            "train = 8.43%\n",
            "test = 9.70%\n",
            "validation = 9.39%\n"
          ]
        }
      ],
      "source": [
        "print(\"NOANNOTATION percentage in:\")\n",
        "print(f'train = {(len(train_df[train_df[\"receiver_labels\"] == \"NOANNOTATION\"].index) /  len(train_df.index)) * 100:.2f}%')\n",
        "print(f'test = {(len(test_df[test_df[\"receiver_labels\"] == \"NOANNOTATION\"].index) /  len(test_df.index)) * 100:.2f}%')\n",
        "print(f'validation = {(len(validation_df[validation_df[\"receiver_labels\"] == \"NOANNOTATION\"].index) /  len(validation_df.index)) * 100:.2f}%')"
      ]
    },
    {
      "cell_type": "markdown",
      "metadata": {
        "id": "NLc1oVyRH_5V"
      },
      "source": [
        "The percentages are low in each dataset and \"NOANNOTATION\" does not provide any meaningful value so we will remove it to keep the results a boolean value `True` or `False`."
      ]
    },
    {
      "cell_type": "code",
      "execution_count": 13,
      "metadata": {
        "id": "a2sBu0ZzH_5V"
      },
      "outputs": [],
      "source": [
        "train_df = train_df[train_df[\"receiver_labels\"] != \"NOANNOTATION\"]\n",
        "test_df = test_df[test_df['receiver_labels'] != \"NOANNOTATION\"]\n",
        "validation_df = validation_df[validation_df['receiver_labels'] != \"NOANNOTATION\"]"
      ]
    },
    {
      "cell_type": "markdown",
      "metadata": {
        "id": "T1CwMStDH_5V"
      },
      "source": [
        "# Unique Words"
      ]
    },
    {
      "cell_type": "code",
      "execution_count": 14,
      "metadata": {
        "colab": {
          "base_uri": "https://localhost:8080/"
        },
        "id": "5YthjeIpH_5V",
        "outputId": "eb8edefd-a43e-43ad-8e87-d2d321dbf81e"
      },
      "outputs": [
        {
          "output_type": "stream",
          "name": "stdout",
          "text": [
            "germany!: 11\n",
            "just: 1146\n",
            "the: 6037\n",
            "person: 28\n",
            "i: 8250\n",
            "want: 779\n",
            "to: 10653\n",
            "speak: 17\n",
            "with.: 34\n",
            "have: 1944\n",
            "a: 4399\n",
            "somewhat: 15\n",
            "crazy: 15\n",
            "idea: 89\n",
            "that: 3414\n",
            "i’ve: 139\n",
            "always: 75\n",
            "wanted: 136\n",
            "try: 284\n",
            "with: 2364\n",
            "i/g,: 1\n",
            "but: 2086\n",
            "never: 96\n",
            "actually: 195\n",
            "convinced: 11\n",
            "other: 271\n",
            "guy: 29\n",
            "it.: 244\n",
            "and,: 34\n",
            "what’s: 73\n",
            "worse,: 3\n"
          ]
        }
      ],
      "source": [
        "sequence_list = list(train_df['messages'].astype(str).str.lower().str.split().to_numpy())\n",
        "unique_words = {}\n",
        "for sequence in sequence_list:\n",
        "    for word in sequence:\n",
        "        unique_words[word] = unique_words.get(word, 0) + 1\n",
        "    # sequence_list = sequence_list + ([\"<PAD>\"] )\n",
        "\n",
        "for (i,(k,v)) in enumerate(unique_words.items()):\n",
        "    if i > 30:\n",
        "        break\n",
        "    print(f\"{k}: {v}\")"
      ]
    },
    {
      "cell_type": "code",
      "execution_count": 13,
      "metadata": {
        "colab": {
          "base_uri": "https://localhost:8080/"
        },
        "id": "-AtdALvKH_5V",
        "outputId": "e92c569e-6b96-4104-cfac-c4d0e1575303"
      },
      "outputs": [
        {
          "output_type": "execute_result",
          "data": {
            "text/plain": [
              "14991"
            ]
          },
          "metadata": {},
          "execution_count": 13
        }
      ],
      "source": [
        "len(unique_words)"
      ]
    },
    {
      "cell_type": "markdown",
      "metadata": {
        "id": "p4K0QpyJH_5V"
      },
      "source": [
        "<!-- I processed only what is considered a **word** to the regex `\\w+`. this means that any punctuation is omitted. -->\n",
        "\n",
        "After processing, we have a total of 15,657 words.\n",
        "\n",
        "Some things to note are\n",
        "- there are some arbitrary number included\n",
        "- some words are repeated because of long character exaggeration (for example, \"aaaaaalllllllllll\" instead of \"all\" or \"aaaaany\" instead of \"any\")\n",
        "- some words are repeated because of misspellings and typos"
      ]
    },
    {
      "cell_type": "code",
      "execution_count": 14,
      "metadata": {
        "colab": {
          "base_uri": "https://localhost:8080/",
          "height": 430
        },
        "id": "oxoSJ5zCH_5V",
        "outputId": "04cfb4e5-51ef-4dfa-a2cf-fa82f763354f"
      },
      "outputs": [
        {
          "output_type": "display_data",
          "data": {
            "text/plain": [
              "<Figure size 640x480 with 1 Axes>"
            ],
            "image/png": "[encoded data removed]"
          },
          "metadata": {}
        }
      ],
      "source": [
        "plt.hist(list(map(len, sequence_list)),bins=100)\n",
        "plt.show()"
      ]
    },
    {
      "cell_type": "code",
      "execution_count": 15,
      "metadata": {
        "colab": {
          "base_uri": "https://localhost:8080/",
          "height": 206
        },
        "id": "U0BegipJH_5W",
        "outputId": "db345780-a523-485c-e7b7-8d0c8c2d1aa3"
      },
      "outputs": [
        {
          "output_type": "execute_result",
          "data": {
            "text/plain": [
              "                              value\n",
              "0              Message count  12025\n",
              "1  Average words per message     20\n",
              "2          Unique word count  14991\n",
              "3           Actual Lie count    545\n",
              "4         Actual Truth count  11480"
            ],
            "text/html": [
              "\n",
              "  <div id=\"df-d601fb01-a60d-425f-8c69-f0fbe2eaec12\" class=\"colab-df-container\">\n",
              "    <div>\n",
              "<style scoped>\n",
              "    .dataframe tbody tr th:only-of-type {\n",
              "        vertical-align: middle;\n",
              "    }\n",
              "\n",
              "    .dataframe tbody tr th {\n",
              "        vertical-align: top;\n",
              "    }\n",
              "\n",
              "    .dataframe thead th {\n",
              "        text-align: right;\n",
              "    }\n",
              "</style>\n",
              "<table border=\"1\" class=\"dataframe\">\n",
              "  <thead>\n",
              "    <tr style=\"text-align: right;\">\n",
              "      <th></th>\n",
              "      <th></th>\n",
              "      <th>value</th>\n",
              "    </tr>\n",
              "  </thead>\n",
              "  <tbody>\n",
              "    <tr>\n",
              "      <th>0</th>\n",
              "      <td>Message count</td>\n",
              "      <td>12025</td>\n",
              "    </tr>\n",
              "    <tr>\n",
              "      <th>1</th>\n",
              "      <td>Average words per message</td>\n",
              "      <td>20</td>\n",
              "    </tr>\n",
              "    <tr>\n",
              "      <th>2</th>\n",
              "      <td>Unique word count</td>\n",
              "      <td>14991</td>\n",
              "    </tr>\n",
              "    <tr>\n",
              "      <th>3</th>\n",
              "      <td>Actual Lie count</td>\n",
              "      <td>545</td>\n",
              "    </tr>\n",
              "    <tr>\n",
              "      <th>4</th>\n",
              "      <td>Actual Truth count</td>\n",
              "      <td>11480</td>\n",
              "    </tr>\n",
              "  </tbody>\n",
              "</table>\n",
              "</div>\n",
              "    <div class=\"colab-df-buttons\">\n",
              "\n",
              "  <div class=\"colab-df-container\">\n",
              "    <button class=\"colab-df-convert\" onclick=\"convertToInteractive('df-d601fb01-a60d-425f-8c69-f0fbe2eaec12')\"\n",
              "            title=\"Convert this dataframe to an interactive table.\"\n",
              "            style=\"display:none;\">\n",
              "\n",
              "  <svg xmlns=\"http://www.w3.org/2000/svg\" height=\"24px\" viewBox=\"0 -960 960 960\">\n",
              "    <path d=\"M120-120v-720h720v720H120Zm60-500h600v-160H180v160Zm220 220h160v-160H400v160Zm0 220h160v-160H400v160ZM180-400h160v-160H180v160Zm440 0h160v-160H620v160ZM180-180h160v-160H180v160Zm440 0h160v-160H620v160Z\"/>\n",
              "  </svg>\n",
              "    </button>\n",
              "\n",
              "  <style>\n",
              "    .colab-df-container {\n",
              "      display:flex;\n",
              "      gap: 12px;\n",
              "    }\n",
              "\n",
              "    .colab-df-convert {\n",
              "      background-color: #E8F0FE;\n",
              "      border: none;\n",
              "      border-radius: 50%;\n",
              "      cursor: pointer;\n",
              "      display: none;\n",
              "      fill: #1967D2;\n",
              "      height: 32px;\n",
              "      padding: 0 0 0 0;\n",
              "      width: 32px;\n",
              "    }\n",
              "\n",
              "    .colab-df-convert:hover {\n",
              "      background-color: #E2EBFA;\n",
              "      box-shadow: 0px 1px 2px rgba(60, 64, 67, 0.3), 0px 1px 3px 1px rgba(60, 64, 67, 0.15);\n",
              "      fill: #174EA6;\n",
              "    }\n",
              "\n",
              "    .colab-df-buttons div {\n",
              "      margin-bottom: 4px;\n",
              "    }\n",
              "\n",
              "    [theme=dark] .colab-df-convert {\n",
              "      background-color: #3B4455;\n",
              "      fill: #D2E3FC;\n",
              "    }\n",
              "\n",
              "    [theme=dark] .colab-df-convert:hover {\n",
              "      background-color: #434B5C;\n",
              "      box-shadow: 0px 1px 3px 1px rgba(0, 0, 0, 0.15);\n",
              "      filter: drop-shadow(0px 1px 2px rgba(0, 0, 0, 0.3));\n",
              "      fill: #FFFFFF;\n",
              "    }\n",
              "  </style>\n",
              "\n",
              "    <script>\n",
              "      const buttonEl =\n",
              "        document.querySelector('#df-d601fb01-a60d-425f-8c69-f0fbe2eaec12 button.colab-df-convert');\n",
              "      buttonEl.style.display =\n",
              "        google.colab.kernel.accessAllowed ? 'block' : 'none';\n",
              "\n",
              "      async function convertToInteractive(key) {\n",
              "        const element = document.querySelector('#df-d601fb01-a60d-425f-8c69-f0fbe2eaec12');\n",
              "        const dataTable =\n",
              "          await google.colab.kernel.invokeFunction('convertToInteractive',\n",
              "                                                    [key], {});\n",
              "        if (!dataTable) return;\n",
              "\n",
              "        const docLinkHtml = 'Like what you see? Visit the ' +\n",
              "          '<a target=\"_blank\" href=https://colab.research.google.com/notebooks/data_table.ipynb>data table notebook</a>'\n",
              "          + ' to learn more about interactive tables.';\n",
              "        element.innerHTML = '';\n",
              "        dataTable['output_type'] = 'display_data';\n",
              "        await google.colab.output.renderOutput(dataTable, element);\n",
              "        const docLink = document.createElement('div');\n",
              "        docLink.innerHTML = docLinkHtml;\n",
              "        element.appendChild(docLink);\n",
              "      }\n",
              "    </script>\n",
              "  </div>\n",
              "\n",
              "\n",
              "<div id=\"df-b5d46dad-fe0e-4399-b35f-ccac8b6b043e\">\n",
              "  <button class=\"colab-df-quickchart\" onclick=\"quickchart('df-b5d46dad-fe0e-4399-b35f-ccac8b6b043e')\"\n",
              "            title=\"Suggest charts\"\n",
              "            style=\"display:none;\">\n",
              "\n",
              "<svg xmlns=\"http://www.w3.org/2000/svg\" height=\"24px\"viewBox=\"0 0 24 24\"\n",
              "     width=\"24px\">\n",
              "    <g>\n",
              "        <path d=\"M19 3H5c-1.1 0-2 .9-2 2v14c0 1.1.9 2 2 2h14c1.1 0 2-.9 2-2V5c0-1.1-.9-2-2-2zM9 17H7v-7h2v7zm4 0h-2V7h2v10zm4 0h-2v-4h2v4z\"/>\n",
              "    </g>\n",
              "</svg>\n",
              "  </button>\n",
              "\n",
              "<style>\n",
              "  .colab-df-quickchart {\n",
              "      --bg-color: #E8F0FE;\n",
              "      --fill-color: #1967D2;\n",
              "      --hover-bg-color: #E2EBFA;\n",
              "      --hover-fill-color: #174EA6;\n",
              "      --disabled-fill-color: #AAA;\n",
              "      --disabled-bg-color: #DDD;\n",
              "  }\n",
              "\n",
              "  [theme=dark] .colab-df-quickchart {\n",
              "      --bg-color: #3B4455;\n",
              "      --fill-color: #D2E3FC;\n",
              "      --hover-bg-color: #434B5C;\n",
              "      --hover-fill-color: #FFFFFF;\n",
              "      --disabled-bg-color: #3B4455;\n",
              "      --disabled-fill-color: #666;\n",
              "  }\n",
              "\n",
              "  .colab-df-quickchart {\n",
              "    background-color: var(--bg-color);\n",
              "    border: none;\n",
              "    border-radius: 50%;\n",
              "    cursor: pointer;\n",
              "    display: none;\n",
              "    fill: var(--fill-color);\n",
              "    height: 32px;\n",
              "    padding: 0;\n",
              "    width: 32px;\n",
              "  }\n",
              "\n",
              "  .colab-df-quickchart:hover {\n",
              "    background-color: var(--hover-bg-color);\n",
              "    box-shadow: 0 1px 2px rgba(60, 64, 67, 0.3), 0 1px 3px 1px rgba(60, 64, 67, 0.15);\n",
              "    fill: var(--button-hover-fill-color);\n",
              "  }\n",
              "\n",
              "  .colab-df-quickchart-complete:disabled,\n",
              "  .colab-df-quickchart-complete:disabled:hover {\n",
              "    background-color: var(--disabled-bg-color);\n",
              "    fill: var(--disabled-fill-color);\n",
              "    box-shadow: none;\n",
              "  }\n",
              "\n",
              "  .colab-df-spinner {\n",
              "    border: 2px solid var(--fill-color);\n",
              "    border-color: transparent;\n",
              "    border-bottom-color: var(--fill-color);\n",
              "    animation:\n",
              "      spin 1s steps(1) infinite;\n",
              "  }\n",
              "\n",
              "  @keyframes spin {\n",
              "    0% {\n",
              "      border-color: transparent;\n",
              "      border-bottom-color: var(--fill-color);\n",
              "      border-left-color: var(--fill-color);\n",
              "    }\n",
              "    20% {\n",
              "      border-color: transparent;\n",
              "      border-left-color: var(--fill-color);\n",
              "      border-top-color: var(--fill-color);\n",
              "    }\n",
              "    30% {\n",
              "      border-color: transparent;\n",
              "      border-left-color: var(--fill-color);\n",
              "      border-top-color: var(--fill-color);\n",
              "      border-right-color: var(--fill-color);\n",
              "    }\n",
              "    40% {\n",
              "      border-color: transparent;\n",
              "      border-right-color: var(--fill-color);\n",
              "      border-top-color: var(--fill-color);\n",
              "    }\n",
              "    60% {\n",
              "      border-color: transparent;\n",
              "      border-right-color: var(--fill-color);\n",
              "    }\n",
              "    80% {\n",
              "      border-color: transparent;\n",
              "      border-right-color: var(--fill-color);\n",
              "      border-bottom-color: var(--fill-color);\n",
              "    }\n",
              "    90% {\n",
              "      border-color: transparent;\n",
              "      border-bottom-color: var(--fill-color);\n",
              "    }\n",
              "  }\n",
              "</style>\n",
              "\n",
              "  <script>\n",
              "    async function quickchart(key) {\n",
              "      const quickchartButtonEl =\n",
              "        document.querySelector('#' + key + ' button');\n",
              "      quickchartButtonEl.disabled = true;  // To prevent multiple clicks.\n",
              "      quickchartButtonEl.classList.add('colab-df-spinner');\n",
              "      try {\n",
              "        const charts = await google.colab.kernel.invokeFunction(\n",
              "            'suggestCharts', [key], {});\n",
              "      } catch (error) {\n",
              "        console.error('Error during call to suggestCharts:', error);\n",
              "      }\n",
              "      quickchartButtonEl.classList.remove('colab-df-spinner');\n",
              "      quickchartButtonEl.classList.add('colab-df-quickchart-complete');\n",
              "    }\n",
              "    (() => {\n",
              "      let quickchartButtonEl =\n",
              "        document.querySelector('#df-b5d46dad-fe0e-4399-b35f-ccac8b6b043e button');\n",
              "      quickchartButtonEl.style.display =\n",
              "        google.colab.kernel.accessAllowed ? 'block' : 'none';\n",
              "    })();\n",
              "  </script>\n",
              "</div>\n",
              "\n",
              "    </div>\n",
              "  </div>\n"
            ]
          },
          "metadata": {},
          "execution_count": 15
        }
      ],
      "source": [
        "summary = {\n",
        "    \"\": [\n",
        "        'Message count',\n",
        "        'Average words per message',\n",
        "        'Unique word count',\n",
        "        'Actual Lie count',\n",
        "        'Actual Truth count'\n",
        "    ],\n",
        "    \"value\": [\n",
        "        len(train_df.index),\n",
        "        math.floor(sum(map(len, sequence_list)) / len(sequence_list)),\n",
        "        len(unique_words),\n",
        "        (~train_df['sender_labels']).sum(),\n",
        "        (train_df['sender_labels']).sum()\n",
        "    ],\n",
        "}\n",
        "pd.DataFrame(summary)"
      ]
    },
    {
      "cell_type": "markdown",
      "metadata": {
        "id": "QvgxZGKDH_5W"
      },
      "source": [
        "# Label count"
      ]
    },
    {
      "cell_type": "code",
      "execution_count": 16,
      "metadata": {
        "colab": {
          "base_uri": "https://localhost:8080/"
        },
        "id": "tI65rbpjH_5W",
        "outputId": "9aafdff3-9875-4b5a-c588-306fdc93f7cb"
      },
      "outputs": [
        {
          "output_type": "execute_result",
          "data": {
            "text/plain": [
              "straightforward    10979\n",
              "cassandra            501\n",
              "deceive              480\n",
              "caught                65\n",
              "Name: label, dtype: int64"
            ]
          },
          "metadata": {},
          "execution_count": 16
        }
      ],
      "source": [
        "train_df['label'].value_counts()"
      ]
    },
    {
      "cell_type": "code",
      "execution_count": 17,
      "metadata": {
        "colab": {
          "base_uri": "https://localhost:8080/",
          "height": 523
        },
        "id": "4pVypJPeH_5W",
        "outputId": "d6e4e3c9-4020-4435-9ee2-1e396dc19c22"
      },
      "outputs": [
        {
          "output_type": "display_data",
          "data": {
            "text/plain": [
              "<Figure size 640x480 with 1 Axes>"
            ],
            "image/png": "[encoded data removed]"
          },
          "metadata": {}
        }
      ],
      "source": [
        "train_df['label'].value_counts().plot.bar()\n",
        "plt.show()"
      ]
    },
    {
      "cell_type": "code",
      "execution_count": 18,
      "metadata": {
        "colab": {
          "base_uri": "https://localhost:8080/"
        },
        "id": "_It4ZinOH_5W",
        "outputId": "2a4ce674-eb3f-4bec-d609-f48168a8e365"
      },
      "outputs": [
        {
          "output_type": "execute_result",
          "data": {
            "text/plain": [
              "straightforward    0.913015\n",
              "cassandra          0.041663\n",
              "deceive            0.039917\n",
              "caught             0.005405\n",
              "Name: label, dtype: float64"
            ]
          },
          "metadata": {},
          "execution_count": 18
        }
      ],
      "source": [
        "train_df['label'].value_counts(normalize=True)"
      ]
    },
    {
      "cell_type": "markdown",
      "metadata": {
        "id": "fh5GwWxyH_5W"
      },
      "source": [
        "<hr/>\n",
        "\n",
        "# Constants"
      ]
    },
    {
      "cell_type": "code",
      "execution_count": 16,
      "metadata": {
        "id": "yAbuQL1DH_5W"
      },
      "outputs": [],
      "source": [
        "MAX_SEQUENCE_LEN = max(map(len,sequence_list))\n",
        "VOCAB_SIZE = 5000 # len(unique_words)\n",
        "EMBEDDING_OUTPUT_SIZE = 124\n",
        "LSTM_SIZE = 64\n",
        "DROPOUT_RATE = 0.2\n",
        "HIDDEN_LAYER_SIZE = 64\n",
        "LEARNING_RATE = 0.001\n",
        "\n",
        "CLASS_LABELS = [\"True\", \"False\"]\n",
        "\n",
        "tokenizer = keras.preprocessing.text.Tokenizer(num_words=VOCAB_SIZE, oov_token=\"<OOV>\")\n",
        "tokenizer.fit_on_texts(train_df['messages'])\n",
        "# smote = imblearn.over_sampling.SMOTE()\n",
        "\n",
        "# train_encoded_padded, y_train = smote.fit_resample(train_tokenized_padded, train_df['label_encoded'])\n",
        "# train_prev_encoded_padded, y_train = smote.fit_resample(train_prev_tokenized_padded, train_df['label_encoded'])\n",
        "\n",
        "train_encoded_padded, train_prev_encoded_padded = Tokenize(tokenizer, train_df, MAX_SEQUENCE_LEN)\n",
        "test_encoded_padded, test_prev_encoded_padded = Tokenize(tokenizer, test_df, MAX_SEQUENCE_LEN)\n",
        "validation_encoded_padded, validation_prev_encoded_padded = Tokenize(tokenizer, validation_df, MAX_SEQUENCE_LEN)"
      ]
    },
    {
      "cell_type": "markdown",
      "metadata": {
        "id": "kOFXaU8oH_5W"
      },
      "source": [
        "<hr/>\n",
        "\n",
        "# Naive Neural Network"
      ]
    },
    {
      "cell_type": "code",
      "execution_count": 20,
      "metadata": {
        "id": "a-4Mu9XHH_5W"
      },
      "outputs": [],
      "source": [
        "def create_naive_model(\n",
        "        vocab_size: int = VOCAB_SIZE,\n",
        "        embedding_output: int = EMBEDDING_OUTPUT_SIZE,\n",
        "        sequence_length: int = MAX_SEQUENCE_LEN,\n",
        "        hidden_size: int = HIDDEN_LAYER_SIZE,\n",
        "        learning_rate: float = LEARNING_RATE\n",
        "    ):\n",
        "\n",
        "    message_input = keras.layers.Input(shape=(sequence_length,), dtype=tf.int64, name='message_input')\n",
        "\n",
        "    naive_output = pipe(\n",
        "        message_input,\n",
        "        keras.layers.Embedding(vocab_size, embedding_output, input_length=sequence_length),\n",
        "        keras.layers.Flatten(),\n",
        "        keras.layers.Dense(hidden_size, activation=\"relu\")\n",
        "    )\n",
        "\n",
        "    sender_output = keras.layers.Dense(1, activation='sigmoid', name=\"sender_output\")(naive_output)\n",
        "    receiver_output = keras.layers.Dense(1, activation='sigmoid', name=\"receiver_output\")(naive_output)\n",
        "\n",
        "    model = keras.Model(\n",
        "        inputs=[message_input],\n",
        "        outputs=[sender_output, receiver_output]\n",
        "    )\n",
        "\n",
        "    model.compile(\n",
        "        loss='binary_crossentropy',\n",
        "        optimizer=tf.keras.optimizers.Adam(learning_rate=learning_rate),\n",
        "        metrics=['AUC']\n",
        "    )\n",
        "\n",
        "    return model"
      ]
    },
    {
      "cell_type": "code",
      "execution_count": 21,
      "metadata": {
        "colab": {
          "base_uri": "https://localhost:8080/"
        },
        "id": "NxcMn9r4H_5X",
        "outputId": "0b8773cb-f74e-409d-886b-f686bfdfb3f2"
      },
      "outputs": [
        {
          "output_type": "stream",
          "name": "stdout",
          "text": [
            "Model: \"model\"\n",
            "__________________________________________________________________________________________________\n",
            " Layer (type)                Output Shape                 Param #   Connected to                  \n",
            "==================================================================================================\n",
            " message_input (InputLayer)  [(None, 294)]                0         []                            \n",
            "                                                                                                  \n",
            " embedding (Embedding)       (None, 294, 124)             620000    ['message_input[0][0]']       \n",
            "                                                                                                  \n",
            " flatten (Flatten)           (None, 36456)                0         ['embedding[0][0]']           \n",
            "                                                                                                  \n",
            " dense (Dense)               (None, 64)                   2333248   ['flatten[0][0]']             \n",
            "                                                                                                  \n",
            " sender_output (Dense)       (None, 1)                    65        ['dense[0][0]']               \n",
            "                                                                                                  \n",
            " receiver_output (Dense)     (None, 1)                    65        ['dense[0][0]']               \n",
            "                                                                                                  \n",
            "==================================================================================================\n",
            "Total params: 2953378 (11.27 MB)\n",
            "Trainable params: 2953378 (11.27 MB)\n",
            "Non-trainable params: 0 (0.00 Byte)\n",
            "__________________________________________________________________________________________________\n"
          ]
        }
      ],
      "source": [
        "naive_model = create_naive_model()\n",
        "naive_model.summary()"
      ]
    },
    {
      "cell_type": "code",
      "execution_count": 22,
      "metadata": {
        "colab": {
          "base_uri": "https://localhost:8080/"
        },
        "id": "y3zE3Q_1H_5X",
        "outputId": "ea19a6bd-50ef-40dd-e5b2-aaf6053e71b4"
      },
      "outputs": [
        {
          "output_type": "stream",
          "name": "stdout",
          "text": [
            "Epoch 1/10\n",
            "376/376 [==============================] - 31s 65ms/step - loss: 0.3828 - sender_output_loss: 0.1851 - receiver_output_loss: 0.1977 - sender_output_auc: 0.5937 - receiver_output_auc_1: 0.5237 - val_loss: 0.3181 - val_sender_output_loss: 0.1590 - val_receiver_output_loss: 0.1592 - val_sender_output_auc: 0.6930 - val_receiver_output_auc_1: 0.5151\n",
            "Epoch 2/10\n",
            "376/376 [==============================] - 8s 21ms/step - loss: 0.2911 - sender_output_loss: 0.1356 - receiver_output_loss: 0.1554 - sender_output_auc: 0.8480 - receiver_output_auc_1: 0.8230 - val_loss: 0.3662 - val_sender_output_loss: 0.1960 - val_receiver_output_loss: 0.1702 - val_sender_output_auc: 0.5729 - val_receiver_output_auc_1: 0.5231\n",
            "Epoch 3/10\n",
            "376/376 [==============================] - 4s 12ms/step - loss: 0.1510 - sender_output_loss: 0.0676 - receiver_output_loss: 0.0834 - sender_output_auc: 0.9765 - receiver_output_auc_1: 0.9721 - val_loss: 0.4370 - val_sender_output_loss: 0.2271 - val_receiver_output_loss: 0.2099 - val_sender_output_auc: 0.4998 - val_receiver_output_auc_1: 0.5213\n",
            "Epoch 4/10\n",
            "376/376 [==============================] - 2s 6ms/step - loss: 0.0742 - sender_output_loss: 0.0335 - receiver_output_loss: 0.0407 - sender_output_auc: 0.9938 - receiver_output_auc_1: 0.9907 - val_loss: 0.5686 - val_sender_output_loss: 0.2994 - val_receiver_output_loss: 0.2692 - val_sender_output_auc: 0.5167 - val_receiver_output_auc_1: 0.5053\n",
            "Epoch 5/10\n",
            "376/376 [==============================] - 3s 9ms/step - loss: 0.0428 - sender_output_loss: 0.0195 - receiver_output_loss: 0.0233 - sender_output_auc: 0.9981 - receiver_output_auc_1: 0.9955 - val_loss: 0.6165 - val_sender_output_loss: 0.3309 - val_receiver_output_loss: 0.2856 - val_sender_output_auc: 0.5088 - val_receiver_output_auc_1: 0.5060\n",
            "Epoch 6/10\n",
            "376/376 [==============================] - 3s 7ms/step - loss: 0.0295 - sender_output_loss: 0.0137 - receiver_output_loss: 0.0158 - sender_output_auc: 0.9992 - receiver_output_auc_1: 0.9969 - val_loss: 0.6975 - val_sender_output_loss: 0.3866 - val_receiver_output_loss: 0.3109 - val_sender_output_auc: 0.5250 - val_receiver_output_auc_1: 0.5122\n",
            "Epoch 7/10\n",
            "376/376 [==============================] - 3s 7ms/step - loss: 0.0244 - sender_output_loss: 0.0113 - receiver_output_loss: 0.0132 - sender_output_auc: 0.9993 - receiver_output_auc_1: 0.9965 - val_loss: 0.7869 - val_sender_output_loss: 0.4539 - val_receiver_output_loss: 0.3331 - val_sender_output_auc: 0.5074 - val_receiver_output_auc_1: 0.4906\n",
            "Epoch 8/10\n",
            "376/376 [==============================] - 2s 6ms/step - loss: 0.0205 - sender_output_loss: 0.0105 - receiver_output_loss: 0.0100 - sender_output_auc: 0.9994 - receiver_output_auc_1: 0.9977 - val_loss: 0.8315 - val_sender_output_loss: 0.4612 - val_receiver_output_loss: 0.3703 - val_sender_output_auc: 0.5311 - val_receiver_output_auc_1: 0.4896\n",
            "Epoch 9/10\n",
            "376/376 [==============================] - 2s 5ms/step - loss: 0.0193 - sender_output_loss: 0.0098 - receiver_output_loss: 0.0095 - sender_output_auc: 0.9995 - receiver_output_auc_1: 0.9987 - val_loss: 0.8841 - val_sender_output_loss: 0.4918 - val_receiver_output_loss: 0.3923 - val_sender_output_auc: 0.5318 - val_receiver_output_auc_1: 0.4941\n",
            "Epoch 10/10\n",
            "376/376 [==============================] - 2s 6ms/step - loss: 0.0189 - sender_output_loss: 0.0089 - receiver_output_loss: 0.0100 - sender_output_auc: 0.9995 - receiver_output_auc_1: 0.9986 - val_loss: 0.9181 - val_sender_output_loss: 0.5118 - val_receiver_output_loss: 0.4063 - val_sender_output_auc: 0.5311 - val_receiver_output_auc_1: 0.5038\n"
          ]
        }
      ],
      "source": [
        "naive_history = naive_model.fit(\n",
        "    train_encoded_padded,\n",
        "    [train_df['sender_labels_encoded'], train_df['receiver_labels_encoded']],\n",
        "    validation_data=(validation_encoded_padded, [validation_df['sender_labels_encoded'], validation_df['receiver_labels_encoded']]),\n",
        "    epochs=10\n",
        ")"
      ]
    },
    {
      "cell_type": "code",
      "execution_count": 23,
      "metadata": {
        "colab": {
          "base_uri": "https://localhost:8080/",
          "height": 972
        },
        "id": "cpxTKLVSH_5X",
        "outputId": "6bee1c57-b7a9-4bc8-aa07-34c0026ebfdf"
      },
      "outputs": [
        {
          "output_type": "stream",
          "name": "stdout",
          "text": [
            "========== Model Accuracy ==========\n"
          ]
        },
        {
          "output_type": "display_data",
          "data": {
            "text/plain": [
              "<Figure size 640x480 with 1 Axes>"
            ],
            "image/png": "[encoded data removed]"
          },
          "metadata": {}
        },
        {
          "output_type": "stream",
          "name": "stdout",
          "text": [
            "========== Test Evaluation ==========\n",
            "78/78 - 0s - loss: 1.8402 - sender_output_loss: 1.0862 - receiver_output_loss: 0.7540 - sender_output_auc: 0.5096 - receiver_output_auc_1: 0.5247 - 209ms/epoch - 3ms/step\n",
            "\n",
            "========== Test Metrics ==========\n",
            "78/78 [==============================] - 0s 2ms/step\n",
            "Best Threshold for Sender: 0.01 with F1 Score: 0.5096365663422017\n",
            "Best Threshold for Receiver: 0.07 with F1 Score: 0.5188984881209504\n",
            "\n",
            "---------- Sender Labels ----------\n",
            "              precision    recall  f1-score   support\n",
            "\n",
            "        True       0.92      0.93      0.92      2268\n",
            "       False       0.10      0.09      0.10       207\n",
            "\n",
            "    accuracy                           0.86      2475\n",
            "   macro avg       0.51      0.51      0.51      2475\n",
            "weighted avg       0.85      0.86      0.85      2475\n",
            "\n",
            "---------- Receiver Labels ----------\n",
            "              precision    recall  f1-score   support\n",
            "\n",
            "        True       0.94      0.94      0.94      2310\n",
            "       False       0.10      0.10      0.10       165\n",
            "\n",
            "    accuracy                           0.88      2475\n",
            "   macro avg       0.52      0.52      0.52      2475\n",
            "weighted avg       0.88      0.88      0.88      2475\n",
            "\n"
          ]
        }
      ],
      "source": [
        "EvaluateModel(naive_model, test_encoded_padded, [test_df['sender_labels_encoded'], test_df['receiver_labels_encoded']], naive_history);"
      ]
    },
    {
      "cell_type": "markdown",
      "metadata": {
        "id": "A1ISwfDeH_5b"
      },
      "source": [
        "# Naive LSTM"
      ]
    },
    {
      "cell_type": "code",
      "execution_count": 24,
      "metadata": {
        "id": "r-aWQuUmH_5b"
      },
      "outputs": [],
      "source": [
        "def create_naive_lstm_model(\n",
        "        sequence_length: int = MAX_SEQUENCE_LEN,\n",
        "        embedding_output: int = EMBEDDING_OUTPUT_SIZE,\n",
        "        vocab_size: int = VOCAB_SIZE,\n",
        "        lstm_size: int = LSTM_SIZE,\n",
        "        hidden_size = HIDDEN_LAYER_SIZE,\n",
        "        learning_rate: float = 2e-4,\n",
        "    ):\n",
        "\n",
        "    message_input = keras.layers.Input(shape=(sequence_length,), dtype=tf.int64, name='message_input')\n",
        "\n",
        "    naive_lstm_ouput = pipe(\n",
        "        message_input,\n",
        "        keras.layers.Embedding(vocab_size, embedding_output, input_length=sequence_length),\n",
        "        keras.layers.LSTM(lstm_size),\n",
        "        keras.layers.Dense(hidden_size),\n",
        "    )\n",
        "\n",
        "    sender_output = keras.layers.Dense(1, activation='sigmoid', name=\"sender_output\")(naive_lstm_ouput)\n",
        "    receiver_output = keras.layers.Dense(1, activation='sigmoid', name=\"receiver_output\")(naive_lstm_ouput)\n",
        "\n",
        "    model = keras.Model(\n",
        "        inputs=[message_input],\n",
        "        outputs=[sender_output, receiver_output]\n",
        "    )\n",
        "\n",
        "    model.compile(\n",
        "        loss='binary_crossentropy',\n",
        "        optimizer=tf.keras.optimizers.Adam(learning_rate=learning_rate),\n",
        "        metrics=['AUC']\n",
        "    )\n",
        "\n",
        "    return model"
      ]
    },
    {
      "cell_type": "code",
      "execution_count": 25,
      "metadata": {
        "colab": {
          "base_uri": "https://localhost:8080/"
        },
        "id": "S6eaF4JoH_5b",
        "outputId": "75a2380c-3b8a-4b71-d254-2209a66d1716"
      },
      "outputs": [
        {
          "output_type": "stream",
          "name": "stdout",
          "text": [
            "Model: \"model_1\"\n",
            "__________________________________________________________________________________________________\n",
            " Layer (type)                Output Shape                 Param #   Connected to                  \n",
            "==================================================================================================\n",
            " message_input (InputLayer)  [(None, 294)]                0         []                            \n",
            "                                                                                                  \n",
            " embedding_1 (Embedding)     (None, 294, 124)             620000    ['message_input[0][0]']       \n",
            "                                                                                                  \n",
            " lstm (LSTM)                 (None, 64)                   48384     ['embedding_1[0][0]']         \n",
            "                                                                                                  \n",
            " dense_1 (Dense)             (None, 64)                   4160      ['lstm[0][0]']                \n",
            "                                                                                                  \n",
            " sender_output (Dense)       (None, 1)                    65        ['dense_1[0][0]']             \n",
            "                                                                                                  \n",
            " receiver_output (Dense)     (None, 1)                    65        ['dense_1[0][0]']             \n",
            "                                                                                                  \n",
            "==================================================================================================\n",
            "Total params: 672674 (2.57 MB)\n",
            "Trainable params: 672674 (2.57 MB)\n",
            "Non-trainable params: 0 (0.00 Byte)\n",
            "__________________________________________________________________________________________________\n"
          ]
        }
      ],
      "source": [
        "naive_lstm_model = create_naive_lstm_model()\n",
        "naive_lstm_model.summary()"
      ]
    },
    {
      "cell_type": "code",
      "execution_count": 26,
      "metadata": {
        "colab": {
          "base_uri": "https://localhost:8080/"
        },
        "id": "UlPfNWtOH_5c",
        "outputId": "a9163f00-1a44-4975-9074-f1633ec1b953"
      },
      "outputs": [
        {
          "output_type": "stream",
          "name": "stdout",
          "text": [
            "Epoch 1/10\n",
            "376/376 [==============================] - 24s 54ms/step - loss: 0.4555 - sender_output_loss: 0.2229 - receiver_output_loss: 0.2325 - sender_output_auc: 0.5578 - receiver_output_auc_1: 0.5320 - val_loss: 0.3200 - val_sender_output_loss: 0.1617 - val_receiver_output_loss: 0.1583 - val_sender_output_auc: 0.6399 - val_receiver_output_auc_1: 0.4792\n",
            "Epoch 2/10\n",
            "376/376 [==============================] - 9s 23ms/step - loss: 0.3672 - sender_output_loss: 0.1780 - receiver_output_loss: 0.1892 - sender_output_auc: 0.6472 - receiver_output_auc_1: 0.5553 - val_loss: 0.3185 - val_sender_output_loss: 0.1594 - val_receiver_output_loss: 0.1591 - val_sender_output_auc: 0.6585 - val_receiver_output_auc_1: 0.4783\n",
            "Epoch 3/10\n",
            "376/376 [==============================] - 6s 17ms/step - loss: 0.3475 - sender_output_loss: 0.1645 - receiver_output_loss: 0.1830 - sender_output_auc: 0.7519 - receiver_output_auc_1: 0.6496 - val_loss: 0.3244 - val_sender_output_loss: 0.1644 - val_receiver_output_loss: 0.1600 - val_sender_output_auc: 0.6125 - val_receiver_output_auc_1: 0.4997\n",
            "Epoch 4/10\n",
            "376/376 [==============================] - 6s 17ms/step - loss: 0.3145 - sender_output_loss: 0.1444 - receiver_output_loss: 0.1701 - sender_output_auc: 0.8455 - receiver_output_auc_1: 0.7538 - val_loss: 0.3503 - val_sender_output_loss: 0.1801 - val_receiver_output_loss: 0.1702 - val_sender_output_auc: 0.5790 - val_receiver_output_auc_1: 0.4996\n",
            "Epoch 5/10\n",
            "376/376 [==============================] - 6s 16ms/step - loss: 0.2852 - sender_output_loss: 0.1272 - receiver_output_loss: 0.1580 - sender_output_auc: 0.8956 - receiver_output_auc_1: 0.8140 - val_loss: 0.3764 - val_sender_output_loss: 0.1947 - val_receiver_output_loss: 0.1817 - val_sender_output_auc: 0.5604 - val_receiver_output_auc_1: 0.4988\n",
            "Epoch 6/10\n",
            "376/376 [==============================] - 5s 14ms/step - loss: 0.2597 - sender_output_loss: 0.1133 - receiver_output_loss: 0.1463 - sender_output_auc: 0.9246 - receiver_output_auc_1: 0.8537 - val_loss: 0.4125 - val_sender_output_loss: 0.2242 - val_receiver_output_loss: 0.1883 - val_sender_output_auc: 0.5388 - val_receiver_output_auc_1: 0.5064\n",
            "Epoch 7/10\n",
            "376/376 [==============================] - 5s 14ms/step - loss: 0.2320 - sender_output_loss: 0.0990 - receiver_output_loss: 0.1331 - sender_output_auc: 0.9477 - receiver_output_auc_1: 0.8937 - val_loss: 0.4770 - val_sender_output_loss: 0.2793 - val_receiver_output_loss: 0.1977 - val_sender_output_auc: 0.5228 - val_receiver_output_auc_1: 0.5072\n",
            "Epoch 8/10\n",
            "376/376 [==============================] - 6s 15ms/step - loss: 0.2030 - sender_output_loss: 0.0836 - receiver_output_loss: 0.1194 - sender_output_auc: 0.9643 - receiver_output_auc_1: 0.9176 - val_loss: 0.5169 - val_sender_output_loss: 0.3094 - val_receiver_output_loss: 0.2075 - val_sender_output_auc: 0.5149 - val_receiver_output_auc_1: 0.5240\n",
            "Epoch 9/10\n",
            "376/376 [==============================] - 6s 15ms/step - loss: 0.1785 - sender_output_loss: 0.0723 - receiver_output_loss: 0.1062 - sender_output_auc: 0.9731 - receiver_output_auc_1: 0.9376 - val_loss: 0.5528 - val_sender_output_loss: 0.3292 - val_receiver_output_loss: 0.2236 - val_sender_output_auc: 0.5294 - val_receiver_output_auc_1: 0.5460\n",
            "Epoch 10/10\n",
            "376/376 [==============================] - 6s 15ms/step - loss: 0.1535 - sender_output_loss: 0.0600 - receiver_output_loss: 0.0935 - sender_output_auc: 0.9807 - receiver_output_auc_1: 0.9537 - val_loss: 0.6157 - val_sender_output_loss: 0.3630 - val_receiver_output_loss: 0.2526 - val_sender_output_auc: 0.5497 - val_receiver_output_auc_1: 0.5481\n"
          ]
        }
      ],
      "source": [
        "naive_lstm_history = naive_lstm_model.fit(\n",
        "    train_encoded_padded,\n",
        "    [train_df['sender_labels_encoded'], train_df['receiver_labels_encoded']],\n",
        "    validation_data=(validation_encoded_padded, [validation_df['sender_labels_encoded'], validation_df['receiver_labels_encoded']]),\n",
        "    epochs=10\n",
        ")"
      ]
    },
    {
      "cell_type": "code",
      "execution_count": 27,
      "metadata": {
        "colab": {
          "base_uri": "https://localhost:8080/",
          "height": 972
        },
        "id": "fTMpxASlH_5c",
        "outputId": "54558d4b-5e48-418d-f67e-e3cfc2d76ab5"
      },
      "outputs": [
        {
          "output_type": "stream",
          "name": "stdout",
          "text": [
            "========== Model Accuracy ==========\n"
          ]
        },
        {
          "output_type": "display_data",
          "data": {
            "text/plain": [
              "<Figure size 640x480 with 1 Axes>"
            ],
            "image/png": "[encoded data removed]"
          },
          "metadata": {}
        },
        {
          "output_type": "stream",
          "name": "stdout",
          "text": [
            "========== Test Evaluation ==========\n",
            "78/78 - 0s - loss: 1.0921 - sender_output_loss: 0.6772 - receiver_output_loss: 0.4149 - sender_output_auc: 0.5382 - receiver_output_auc_1: 0.5371 - 467ms/epoch - 6ms/step\n",
            "\n",
            "========== Test Metrics ==========\n",
            "78/78 [==============================] - 1s 5ms/step\n",
            "Best Threshold for Sender: 0.12 with F1 Score: 0.5443037366693333\n",
            "Best Threshold for Receiver: 0.28 with F1 Score: 0.5341808024369435\n",
            "\n",
            "---------- Sender Labels ----------\n",
            "              precision    recall  f1-score   support\n",
            "\n",
            "        True       0.92      0.92      0.92      2268\n",
            "       False       0.17      0.16      0.16       207\n",
            "\n",
            "    accuracy                           0.86      2475\n",
            "   macro avg       0.54      0.54      0.54      2475\n",
            "weighted avg       0.86      0.86      0.86      2475\n",
            "\n",
            "---------- Receiver Labels ----------\n",
            "              precision    recall  f1-score   support\n",
            "\n",
            "        True       0.94      0.97      0.95      2310\n",
            "       False       0.16      0.09      0.12       165\n",
            "\n",
            "    accuracy                           0.91      2475\n",
            "   macro avg       0.55      0.53      0.53      2475\n",
            "weighted avg       0.89      0.91      0.90      2475\n",
            "\n"
          ]
        }
      ],
      "source": [
        "EvaluateModel(naive_lstm_model, test_encoded_padded, [test_df['sender_labels_encoded'], test_df['receiver_labels_encoded']], naive_lstm_history);"
      ]
    },
    {
      "cell_type": "markdown",
      "metadata": {
        "id": "VTnEv6e2H_5c"
      },
      "source": [
        "<hr/>\n",
        "\n",
        "# Context lstm"
      ]
    },
    {
      "cell_type": "code",
      "execution_count": 28,
      "metadata": {
        "id": "OVDmLfHJH_5c"
      },
      "outputs": [],
      "source": [
        "def create_context_lstm_model(\n",
        "        sequence_length: int = MAX_SEQUENCE_LEN,\n",
        "        embedding_output: int = EMBEDDING_OUTPUT_SIZE,\n",
        "        vocab_size: int = VOCAB_SIZE,\n",
        "        lstm_size: int = 1024,\n",
        "        dropout: float = DROPOUT_RATE,\n",
        "        hidden_size = HIDDEN_LAYER_SIZE,\n",
        "        learning_rate: float = 2e-5,\n",
        "    ):\n",
        "\n",
        "    current_message_input = keras.layers.Input(shape=(sequence_length,), dtype=tf.int64, name='current_message_input')\n",
        "    previous_message_input = keras.layers.Input(shape=(sequence_length,), dtype=tf.int64, name='previous_message_input')\n",
        "\n",
        "    current_message_lstm = pipe(\n",
        "        current_message_input,\n",
        "        keras.layers.Embedding(vocab_size, embedding_output, input_length=sequence_length),\n",
        "        keras.layers.LSTM(lstm_size),\n",
        "        keras.layers.Dropout(dropout)\n",
        "    )\n",
        "\n",
        "    previous_message_lstm = pipe(\n",
        "        previous_message_input,\n",
        "        keras.layers.Embedding(vocab_size, embedding_output, input_length=sequence_length),\n",
        "        keras.layers.LSTM(lstm_size),\n",
        "        keras.layers.Dropout(dropout)\n",
        "    )\n",
        "\n",
        "    context_lstm_ouput = pipe(\n",
        "        [\n",
        "            current_message_lstm,\n",
        "            previous_message_lstm\n",
        "        ],\n",
        "        keras.layers.Concatenate(),\n",
        "        keras.layers.Dense(hidden_size)\n",
        "    )\n",
        "\n",
        "    sender_output = keras.layers.Dense(1, activation='sigmoid', name=\"sender_output\")(context_lstm_ouput)\n",
        "    receiver_output = keras.layers.Dense(1, activation='sigmoid', name=\"receiver_output\")(context_lstm_ouput)\n",
        "\n",
        "    context_lstm_model = keras.Model(\n",
        "        inputs=[current_message_input, previous_message_input],\n",
        "        outputs=[sender_output, receiver_output]\n",
        "    )\n",
        "\n",
        "    context_lstm_model.compile(\n",
        "        loss='binary_crossentropy',\n",
        "        optimizer=tf.keras.optimizers.Adam(learning_rate=learning_rate),\n",
        "        metrics=['AUC']\n",
        "    )\n",
        "\n",
        "    return context_lstm_model"
      ]
    },
    {
      "cell_type": "code",
      "execution_count": 29,
      "metadata": {
        "colab": {
          "base_uri": "https://localhost:8080/"
        },
        "id": "9JBInwORH_5c",
        "outputId": "949f565a-de05-4b60-e4cf-cfde86053fbb"
      },
      "outputs": [
        {
          "output_type": "stream",
          "name": "stdout",
          "text": [
            "Model: \"model_2\"\n",
            "__________________________________________________________________________________________________\n",
            " Layer (type)                Output Shape                 Param #   Connected to                  \n",
            "==================================================================================================\n",
            " current_message_input (Inp  [(None, 294)]                0         []                            \n",
            " utLayer)                                                                                         \n",
            "                                                                                                  \n",
            " previous_message_input (In  [(None, 294)]                0         []                            \n",
            " putLayer)                                                                                        \n",
            "                                                                                                  \n",
            " embedding_2 (Embedding)     (None, 294, 124)             620000    ['current_message_input[0][0]'\n",
            "                                                                    ]                             \n",
            "                                                                                                  \n",
            " embedding_3 (Embedding)     (None, 294, 124)             620000    ['previous_message_input[0][0]\n",
            "                                                                    ']                            \n",
            "                                                                                                  \n",
            " lstm_1 (LSTM)               (None, 1024)                 4706304   ['embedding_2[0][0]']         \n",
            "                                                                                                  \n",
            " lstm_2 (LSTM)               (None, 1024)                 4706304   ['embedding_3[0][0]']         \n",
            "                                                                                                  \n",
            " dropout (Dropout)           (None, 1024)                 0         ['lstm_1[0][0]']              \n",
            "                                                                                                  \n",
            " dropout_1 (Dropout)         (None, 1024)                 0         ['lstm_2[0][0]']              \n",
            "                                                                                                  \n",
            " concatenate (Concatenate)   (None, 2048)                 0         ['dropout[0][0]',             \n",
            "                                                                     'dropout_1[0][0]']           \n",
            "                                                                                                  \n",
            " dense_2 (Dense)             (None, 64)                   131136    ['concatenate[0][0]']         \n",
            "                                                                                                  \n",
            " sender_output (Dense)       (None, 1)                    65        ['dense_2[0][0]']             \n",
            "                                                                                                  \n",
            " receiver_output (Dense)     (None, 1)                    65        ['dense_2[0][0]']             \n",
            "                                                                                                  \n",
            "==================================================================================================\n",
            "Total params: 10783874 (41.14 MB)\n",
            "Trainable params: 10783874 (41.14 MB)\n",
            "Non-trainable params: 0 (0.00 Byte)\n",
            "__________________________________________________________________________________________________\n"
          ]
        }
      ],
      "source": [
        "context_lstm_model = create_context_lstm_model()\n",
        "context_lstm_model.summary()"
      ]
    },
    {
      "cell_type": "code",
      "execution_count": 30,
      "metadata": {
        "colab": {
          "base_uri": "https://localhost:8080/"
        },
        "id": "HIoW2xfBH_5c",
        "outputId": "165e5381-8216-423a-e789-c959caf54457"
      },
      "outputs": [
        {
          "output_type": "stream",
          "name": "stdout",
          "text": [
            "Epoch 1/10\n",
            "376/376 [==============================] - 54s 130ms/step - loss: 0.4708 - sender_output_loss: 0.2314 - receiver_output_loss: 0.2394 - sender_output_auc: 0.5587 - receiver_output_auc_1: 0.5157 - val_loss: 0.3224 - val_sender_output_loss: 0.1629 - val_receiver_output_loss: 0.1595 - val_sender_output_auc: 0.6101 - val_receiver_output_auc_1: 0.4373\n",
            "Epoch 2/10\n",
            "376/376 [==============================] - 40s 106ms/step - loss: 0.3747 - sender_output_loss: 0.1832 - receiver_output_loss: 0.1915 - sender_output_auc: 0.5778 - receiver_output_auc_1: 0.5173 - val_loss: 0.3219 - val_sender_output_loss: 0.1624 - val_receiver_output_loss: 0.1594 - val_sender_output_auc: 0.6423 - val_receiver_output_auc_1: 0.4555\n",
            "Epoch 3/10\n",
            "376/376 [==============================] - 38s 101ms/step - loss: 0.3736 - sender_output_loss: 0.1832 - receiver_output_loss: 0.1904 - sender_output_auc: 0.5689 - receiver_output_auc_1: 0.5381 - val_loss: 0.3295 - val_sender_output_loss: 0.1686 - val_receiver_output_loss: 0.1609 - val_sender_output_auc: 0.6411 - val_receiver_output_auc_1: 0.4579\n",
            "Epoch 4/10\n",
            "376/376 [==============================] - 37s 99ms/step - loss: 0.3726 - sender_output_loss: 0.1821 - receiver_output_loss: 0.1905 - sender_output_auc: 0.5887 - receiver_output_auc_1: 0.5422 - val_loss: 0.3254 - val_sender_output_loss: 0.1629 - val_receiver_output_loss: 0.1625 - val_sender_output_auc: 0.6490 - val_receiver_output_auc_1: 0.4676\n",
            "Epoch 5/10\n",
            "376/376 [==============================] - 37s 99ms/step - loss: 0.3720 - sender_output_loss: 0.1817 - receiver_output_loss: 0.1903 - sender_output_auc: 0.5978 - receiver_output_auc_1: 0.5413 - val_loss: 0.3215 - val_sender_output_loss: 0.1605 - val_receiver_output_loss: 0.1610 - val_sender_output_auc: 0.6429 - val_receiver_output_auc_1: 0.4715\n",
            "Epoch 6/10\n",
            "376/376 [==============================] - 37s 99ms/step - loss: 0.3690 - sender_output_loss: 0.1801 - receiver_output_loss: 0.1889 - sender_output_auc: 0.6241 - receiver_output_auc_1: 0.5637 - val_loss: 0.3193 - val_sender_output_loss: 0.1611 - val_receiver_output_loss: 0.1582 - val_sender_output_auc: 0.6612 - val_receiver_output_auc_1: 0.5000\n",
            "Epoch 7/10\n",
            "376/376 [==============================] - 37s 99ms/step - loss: 0.3684 - sender_output_loss: 0.1797 - receiver_output_loss: 0.1887 - sender_output_auc: 0.6266 - receiver_output_auc_1: 0.5690 - val_loss: 0.3225 - val_sender_output_loss: 0.1612 - val_receiver_output_loss: 0.1612 - val_sender_output_auc: 0.6632 - val_receiver_output_auc_1: 0.4959\n",
            "Epoch 8/10\n",
            "376/376 [==============================] - 37s 98ms/step - loss: 0.3633 - sender_output_loss: 0.1769 - receiver_output_loss: 0.1864 - sender_output_auc: 0.6546 - receiver_output_auc_1: 0.6064 - val_loss: 0.3163 - val_sender_output_loss: 0.1583 - val_receiver_output_loss: 0.1580 - val_sender_output_auc: 0.6734 - val_receiver_output_auc_1: 0.5388\n",
            "Epoch 9/10\n",
            "376/376 [==============================] - 37s 97ms/step - loss: 0.3534 - sender_output_loss: 0.1717 - receiver_output_loss: 0.1816 - sender_output_auc: 0.7013 - receiver_output_auc_1: 0.6692 - val_loss: 0.3164 - val_sender_output_loss: 0.1584 - val_receiver_output_loss: 0.1580 - val_sender_output_auc: 0.6584 - val_receiver_output_auc_1: 0.5918\n",
            "Epoch 10/10\n",
            "376/376 [==============================] - 37s 98ms/step - loss: 0.3428 - sender_output_loss: 0.1662 - receiver_output_loss: 0.1766 - sender_output_auc: 0.7403 - receiver_output_auc_1: 0.7109 - val_loss: 0.3212 - val_sender_output_loss: 0.1601 - val_receiver_output_loss: 0.1612 - val_sender_output_auc: 0.6549 - val_receiver_output_auc_1: 0.5526\n"
          ]
        }
      ],
      "source": [
        "context_lstm_history = context_lstm_model.fit(\n",
        "    [train_encoded_padded, train_prev_encoded_padded],\n",
        "    [train_df['sender_labels_encoded'], train_df['receiver_labels_encoded']],\n",
        "    validation_data=([validation_encoded_padded, validation_prev_encoded_padded], [validation_df['sender_labels_encoded'], validation_df['receiver_labels_encoded']]),\n",
        "    epochs=10\n",
        ")"
      ]
    },
    {
      "cell_type": "code",
      "execution_count": 31,
      "metadata": {
        "colab": {
          "base_uri": "https://localhost:8080/",
          "height": 972
        },
        "id": "7RlRAffbH_5d",
        "outputId": "63dce4f2-c729-4881-c514-69c4758cdfcc"
      },
      "outputs": [
        {
          "output_type": "stream",
          "name": "stdout",
          "text": [
            "========== Model Accuracy ==========\n"
          ]
        },
        {
          "output_type": "display_data",
          "data": {
            "text/plain": [
              "<Figure size 640x480 with 1 Axes>"
            ],
            "image/png": "[encoded data removed]"
          },
          "metadata": {}
        },
        {
          "output_type": "stream",
          "name": "stdout",
          "text": [
            "========== Test Evaluation ==========\n",
            "78/78 - 3s - loss: 0.5495 - sender_output_loss: 0.3054 - receiver_output_loss: 0.2441 - sender_output_auc: 0.6459 - receiver_output_auc_1: 0.6055 - 3s/epoch - 36ms/step\n",
            "\n",
            "========== Test Metrics ==========\n",
            "78/78 [==============================] - 3s 33ms/step\n",
            "Best Threshold for Sender: 0.06 with F1 Score: 0.568408533013785\n",
            "Best Threshold for Receiver: 0.1 with F1 Score: 0.5328778499169561\n",
            "\n",
            "---------- Sender Labels ----------\n",
            "              precision    recall  f1-score   support\n",
            "\n",
            "        True       0.93      0.92      0.92      2268\n",
            "       False       0.20      0.23      0.21       207\n",
            "\n",
            "    accuracy                           0.86      2475\n",
            "   macro avg       0.56      0.57      0.57      2475\n",
            "weighted avg       0.87      0.86      0.86      2475\n",
            "\n",
            "---------- Receiver Labels ----------\n",
            "              precision    recall  f1-score   support\n",
            "\n",
            "        True       0.94      0.95      0.94      2310\n",
            "       False       0.14      0.11      0.12       165\n",
            "\n",
            "    accuracy                           0.89      2475\n",
            "   macro avg       0.54      0.53      0.53      2475\n",
            "weighted avg       0.88      0.89      0.89      2475\n",
            "\n"
          ]
        }
      ],
      "source": [
        "sender_threshold, receiver_threshold = EvaluateModel(context_lstm_model, [test_encoded_padded, test_prev_encoded_padded], [test_df['sender_labels_encoded'], test_df['receiver_labels_encoded']], context_lstm_history)"
      ]
    },
    {
      "cell_type": "markdown",
      "metadata": {
        "id": "IOzl-BS3H_5d"
      },
      "source": [
        "# LSTM + Power"
      ]
    },
    {
      "cell_type": "code",
      "execution_count": 32,
      "metadata": {
        "id": "faQ9IKqOH_5d"
      },
      "outputs": [],
      "source": [
        "def create_lstm_power_model(\n",
        "        sequence_length: int = MAX_SEQUENCE_LEN,\n",
        "        embedding_output: int = EMBEDDING_OUTPUT_SIZE,\n",
        "        vocab_size: int = VOCAB_SIZE,\n",
        "        lstm_size: int = 1024,\n",
        "        dropout: float = DROPOUT_RATE,\n",
        "        hidden_size = HIDDEN_LAYER_SIZE,\n",
        "        learning_rate: float = 2e-5,\n",
        "    ):\n",
        "\n",
        "    message_input = keras.layers.Input(shape=(sequence_length,), dtype=tf.int64, name='current_message_input')\n",
        "    power_diff_input = keras.layers.Input(shape=(1,), name='power_differential')\n",
        "\n",
        "    lstm_output = pipe(\n",
        "        message_input,\n",
        "        keras.layers.Embedding(vocab_size, embedding_output, input_length=sequence_length),\n",
        "        keras.layers.LSTM(lstm_size),\n",
        "        keras.layers.Dropout(dropout)\n",
        "    )\n",
        "\n",
        "    lstm_power_ouput = pipe(\n",
        "        [\n",
        "            lstm_output,\n",
        "            power_diff_input\n",
        "        ],\n",
        "        keras.layers.Concatenate(),\n",
        "        keras.layers.Dense(hidden_size),\n",
        "    )\n",
        "\n",
        "    sender_output = keras.layers.Dense(1, activation='sigmoid', name=\"sender_output\")(lstm_power_ouput)\n",
        "    receiver_output = keras.layers.Dense(1, activation='sigmoid', name=\"receiver_output\")(lstm_power_ouput)\n",
        "\n",
        "    lstm_power_model = keras.Model(\n",
        "        inputs=[message_input, power_diff_input],\n",
        "        outputs=[sender_output, receiver_output]\n",
        "    )\n",
        "\n",
        "    lstm_power_model.compile(\n",
        "        loss='binary_crossentropy',\n",
        "        optimizer=tf.keras.optimizers.Adam(learning_rate=learning_rate),\n",
        "        metrics=['AUC']\n",
        "    )\n",
        "\n",
        "    return lstm_power_model"
      ]
    },
    {
      "cell_type": "code",
      "execution_count": 33,
      "metadata": {
        "colab": {
          "base_uri": "https://localhost:8080/"
        },
        "id": "VW-oHam8H_5d",
        "outputId": "b7036780-4398-4193-e594-cb8fdf4e8491"
      },
      "outputs": [
        {
          "output_type": "stream",
          "name": "stdout",
          "text": [
            "Model: \"model_3\"\n",
            "__________________________________________________________________________________________________\n",
            " Layer (type)                Output Shape                 Param #   Connected to                  \n",
            "==================================================================================================\n",
            " current_message_input (Inp  [(None, 294)]                0         []                            \n",
            " utLayer)                                                                                         \n",
            "                                                                                                  \n",
            " embedding_4 (Embedding)     (None, 294, 124)             620000    ['current_message_input[0][0]'\n",
            "                                                                    ]                             \n",
            "                                                                                                  \n",
            " lstm_3 (LSTM)               (None, 1024)                 4706304   ['embedding_4[0][0]']         \n",
            "                                                                                                  \n",
            " dropout_2 (Dropout)         (None, 1024)                 0         ['lstm_3[0][0]']              \n",
            "                                                                                                  \n",
            " power_differential (InputL  [(None, 1)]                  0         []                            \n",
            " ayer)                                                                                            \n",
            "                                                                                                  \n",
            " concatenate_1 (Concatenate  (None, 1025)                 0         ['dropout_2[0][0]',           \n",
            " )                                                                   'power_differential[0][0]']  \n",
            "                                                                                                  \n",
            " dense_3 (Dense)             (None, 64)                   65664     ['concatenate_1[0][0]']       \n",
            "                                                                                                  \n",
            " sender_output (Dense)       (None, 1)                    65        ['dense_3[0][0]']             \n",
            "                                                                                                  \n",
            " receiver_output (Dense)     (None, 1)                    65        ['dense_3[0][0]']             \n",
            "                                                                                                  \n",
            "==================================================================================================\n",
            "Total params: 5392098 (20.57 MB)\n",
            "Trainable params: 5392098 (20.57 MB)\n",
            "Non-trainable params: 0 (0.00 Byte)\n",
            "__________________________________________________________________________________________________\n"
          ]
        }
      ],
      "source": [
        "lstm_power_model = create_lstm_power_model()\n",
        "lstm_power_model.summary()"
      ]
    },
    {
      "cell_type": "code",
      "execution_count": 34,
      "metadata": {
        "colab": {
          "base_uri": "https://localhost:8080/"
        },
        "id": "RDcc5BLKH_5d",
        "outputId": "9954fb37-4a26-4e97-dbf0-d8fa399f133e"
      },
      "outputs": [
        {
          "output_type": "stream",
          "name": "stdout",
          "text": [
            "Epoch 1/10\n",
            "376/376 [==============================] - 24s 59ms/step - loss: 0.3612 - sender_output_loss: 0.1737 - receiver_output_loss: 0.1876 - sender_output_auc: 0.6762 - receiver_output_auc_1: 0.5877 - val_loss: 0.3253 - val_sender_output_loss: 0.1586 - val_receiver_output_loss: 0.1666 - val_sender_output_auc: 0.6677 - val_receiver_output_auc_1: 0.4610\n",
            "Epoch 2/10\n",
            "376/376 [==============================] - 20s 52ms/step - loss: 0.3568 - sender_output_loss: 0.1711 - receiver_output_loss: 0.1856 - sender_output_auc: 0.6970 - receiver_output_auc_1: 0.6244 - val_loss: 0.3213 - val_sender_output_loss: 0.1587 - val_receiver_output_loss: 0.1626 - val_sender_output_auc: 0.6634 - val_receiver_output_auc_1: 0.4675\n",
            "Epoch 3/10\n",
            "376/376 [==============================] - 20s 53ms/step - loss: 0.3509 - sender_output_loss: 0.1665 - receiver_output_loss: 0.1844 - sender_output_auc: 0.7292 - receiver_output_auc_1: 0.6317 - val_loss: 0.3231 - val_sender_output_loss: 0.1594 - val_receiver_output_loss: 0.1637 - val_sender_output_auc: 0.6685 - val_receiver_output_auc_1: 0.4799\n",
            "Epoch 4/10\n",
            "376/376 [==============================] - 20s 52ms/step - loss: 0.3443 - sender_output_loss: 0.1629 - receiver_output_loss: 0.1815 - sender_output_auc: 0.7469 - receiver_output_auc_1: 0.6670 - val_loss: 0.3285 - val_sender_output_loss: 0.1659 - val_receiver_output_loss: 0.1626 - val_sender_output_auc: 0.6421 - val_receiver_output_auc_1: 0.4818\n",
            "Epoch 5/10\n",
            "376/376 [==============================] - 21s 56ms/step - loss: 0.3358 - sender_output_loss: 0.1584 - receiver_output_loss: 0.1774 - sender_output_auc: 0.7707 - receiver_output_auc_1: 0.7034 - val_loss: 0.3300 - val_sender_output_loss: 0.1667 - val_receiver_output_loss: 0.1634 - val_sender_output_auc: 0.6304 - val_receiver_output_auc_1: 0.4842\n",
            "Epoch 6/10\n",
            "376/376 [==============================] - 21s 55ms/step - loss: 0.3275 - sender_output_loss: 0.1524 - receiver_output_loss: 0.1751 - sender_output_auc: 0.8052 - receiver_output_auc_1: 0.7257 - val_loss: 0.3326 - val_sender_output_loss: 0.1680 - val_receiver_output_loss: 0.1645 - val_sender_output_auc: 0.6043 - val_receiver_output_auc_1: 0.5009\n",
            "Epoch 7/10\n",
            "376/376 [==============================] - 20s 52ms/step - loss: 0.3155 - sender_output_loss: 0.1440 - receiver_output_loss: 0.1715 - sender_output_auc: 0.8403 - receiver_output_auc_1: 0.7482 - val_loss: 0.3409 - val_sender_output_loss: 0.1746 - val_receiver_output_loss: 0.1663 - val_sender_output_auc: 0.5717 - val_receiver_output_auc_1: 0.5206\n",
            "Epoch 8/10\n",
            "376/376 [==============================] - 20s 53ms/step - loss: 0.3093 - sender_output_loss: 0.1403 - receiver_output_loss: 0.1690 - sender_output_auc: 0.8509 - receiver_output_auc_1: 0.7589 - val_loss: 0.3441 - val_sender_output_loss: 0.1768 - val_receiver_output_loss: 0.1673 - val_sender_output_auc: 0.5596 - val_receiver_output_auc_1: 0.5223\n",
            "Epoch 9/10\n",
            "376/376 [==============================] - 20s 53ms/step - loss: 0.3008 - sender_output_loss: 0.1373 - receiver_output_loss: 0.1636 - sender_output_auc: 0.8580 - receiver_output_auc_1: 0.7891 - val_loss: 0.3565 - val_sender_output_loss: 0.1853 - val_receiver_output_loss: 0.1712 - val_sender_output_auc: 0.5676 - val_receiver_output_auc_1: 0.5180\n",
            "Epoch 10/10\n",
            "376/376 [==============================] - 20s 53ms/step - loss: 0.2944 - sender_output_loss: 0.1332 - receiver_output_loss: 0.1613 - sender_output_auc: 0.8727 - receiver_output_auc_1: 0.8016 - val_loss: 0.3777 - val_sender_output_loss: 0.2023 - val_receiver_output_loss: 0.1754 - val_sender_output_auc: 0.5572 - val_receiver_output_auc_1: 0.5301\n"
          ]
        }
      ],
      "source": [
        "lstm_power_history = context_lstm_model.fit(\n",
        "    [train_encoded_padded, train_df['game_score_delta']],\n",
        "    [train_df['sender_labels_encoded'], train_df['receiver_labels_encoded']],\n",
        "    validation_data=([validation_encoded_padded, validation_df['game_score_delta']], [validation_df['sender_labels_encoded'], validation_df['receiver_labels_encoded']]),\n",
        "    epochs=10\n",
        ")"
      ]
    },
    {
      "cell_type": "code",
      "execution_count": 35,
      "metadata": {
        "colab": {
          "base_uri": "https://localhost:8080/",
          "height": 972
        },
        "id": "AwdGAZcSH_5d",
        "outputId": "999300ae-7475-49fa-82de-ce401df0735a"
      },
      "outputs": [
        {
          "output_type": "stream",
          "name": "stdout",
          "text": [
            "========== Model Accuracy ==========\n"
          ]
        },
        {
          "output_type": "display_data",
          "data": {
            "text/plain": [
              "<Figure size 640x480 with 1 Axes>"
            ],
            "image/png": "[encoded data removed]"
          },
          "metadata": {}
        },
        {
          "output_type": "stream",
          "name": "stdout",
          "text": [
            "========== Test Evaluation ==========\n",
            "78/78 - 2s - loss: 1.3943 - sender_output_loss: 0.6951 - receiver_output_loss: 0.6992 - sender_output_auc: 0.5658 - receiver_output_auc_1: 0.5588 - 2s/epoch - 31ms/step\n",
            "\n",
            "========== Test Metrics ==========\n",
            "78/78 [==============================] - 2s 17ms/step\n",
            "Best Threshold for Sender: 0.52 with F1 Score: 0.5215683021094847\n",
            "Best Threshold for Receiver: 0.58 with F1 Score: 0.5139789454910775\n",
            "\n",
            "---------- Sender Labels ----------\n",
            "              precision    recall  f1-score   support\n",
            "\n",
            "        True       0.92      0.86      0.89      2268\n",
            "       False       0.12      0.20      0.15       207\n",
            "\n",
            "    accuracy                           0.81      2475\n",
            "   macro avg       0.52      0.53      0.52      2475\n",
            "weighted avg       0.86      0.81      0.83      2475\n",
            "\n",
            "---------- Receiver Labels ----------\n",
            "              precision    recall  f1-score   support\n",
            "\n",
            "        True       0.94      0.98      0.96      2310\n",
            "       False       0.14      0.05      0.07       165\n",
            "\n",
            "    accuracy                           0.92      2475\n",
            "   macro avg       0.54      0.51      0.51      2475\n",
            "weighted avg       0.88      0.92      0.90      2475\n",
            "\n"
          ]
        }
      ],
      "source": [
        "EvaluateModel(lstm_power_model, [test_encoded_padded, test_df['game_score_delta']], [test_df['sender_labels_encoded'], test_df['receiver_labels_encoded']], lstm_power_history);"
      ]
    },
    {
      "cell_type": "markdown",
      "metadata": {
        "id": "KVplD7CnH_5d"
      },
      "source": [
        "# Context LSTM + Power"
      ]
    },
    {
      "cell_type": "code",
      "execution_count": 36,
      "metadata": {
        "id": "L1e17r2RH_5d"
      },
      "outputs": [],
      "source": [
        "def create_context_lstm_power_model(\n",
        "        sequence_length: int = MAX_SEQUENCE_LEN,\n",
        "        embedding_output: int = EMBEDDING_OUTPUT_SIZE,\n",
        "        vocab_size: int = VOCAB_SIZE,\n",
        "        lstm_size: int = 1024,\n",
        "        dropout: float = DROPOUT_RATE,\n",
        "        hidden_size = HIDDEN_LAYER_SIZE,\n",
        "        learning_rate: float = 2e-5,\n",
        "    ):\n",
        "\n",
        "    current_message_input = keras.layers.Input(shape=(sequence_length,), dtype=tf.int64, name='current_message_input')\n",
        "    previous_message_input = keras.layers.Input(shape=(sequence_length,), dtype=tf.int64, name='previous_message_input')\n",
        "    power_diff_input = keras.layers.Input(shape=(1,), name='power_differential')\n",
        "\n",
        "    current_message_lstm = pipe(\n",
        "        current_message_input,\n",
        "        keras.layers.Embedding(vocab_size, embedding_output, input_length=sequence_length),\n",
        "        keras.layers.LSTM(lstm_size),\n",
        "        keras.layers.Dropout(dropout)\n",
        "    )\n",
        "\n",
        "    previous_message_lstm = pipe(\n",
        "        previous_message_input,\n",
        "        keras.layers.Embedding(vocab_size, embedding_output, input_length=sequence_length),\n",
        "        keras.layers.LSTM(lstm_size),\n",
        "        keras.layers.Dropout(dropout)\n",
        "    )\n",
        "\n",
        "    context_lstm_power_ouput = pipe(\n",
        "        [\n",
        "            current_message_lstm,\n",
        "            previous_message_lstm,\n",
        "            power_diff_input\n",
        "        ],\n",
        "        keras.layers.Concatenate(),\n",
        "        keras.layers.Dense(hidden_size)\n",
        "    )\n",
        "\n",
        "    sender_output = keras.layers.Dense(1, activation='sigmoid', name=\"sender_output\")(context_lstm_power_ouput)\n",
        "    receiver_output = keras.layers.Dense(1, activation='sigmoid', name=\"receiver_output\")(context_lstm_power_ouput)\n",
        "\n",
        "    context_lstm_power_model = keras.Model(\n",
        "        inputs=[current_message_input, previous_message_input, power_diff_input],\n",
        "        outputs=[sender_output, receiver_output]\n",
        "    )\n",
        "\n",
        "    context_lstm_power_model.compile(\n",
        "        loss='binary_crossentropy',\n",
        "        optimizer=tf.keras.optimizers.Adam(learning_rate=learning_rate),\n",
        "        metrics=['AUC']\n",
        "    )\n",
        "\n",
        "    return context_lstm_power_model"
      ]
    },
    {
      "cell_type": "code",
      "execution_count": 37,
      "metadata": {
        "colab": {
          "base_uri": "https://localhost:8080/"
        },
        "id": "JPk2XFsNH_5d",
        "outputId": "05386742-cd9b-48f6-d274-8b197e51aba1"
      },
      "outputs": [
        {
          "output_type": "stream",
          "name": "stdout",
          "text": [
            "Model: \"model_4\"\n",
            "__________________________________________________________________________________________________\n",
            " Layer (type)                Output Shape                 Param #   Connected to                  \n",
            "==================================================================================================\n",
            " current_message_input (Inp  [(None, 294)]                0         []                            \n",
            " utLayer)                                                                                         \n",
            "                                                                                                  \n",
            " previous_message_input (In  [(None, 294)]                0         []                            \n",
            " putLayer)                                                                                        \n",
            "                                                                                                  \n",
            " embedding_5 (Embedding)     (None, 294, 124)             620000    ['current_message_input[0][0]'\n",
            "                                                                    ]                             \n",
            "                                                                                                  \n",
            " embedding_6 (Embedding)     (None, 294, 124)             620000    ['previous_message_input[0][0]\n",
            "                                                                    ']                            \n",
            "                                                                                                  \n",
            " lstm_4 (LSTM)               (None, 1024)                 4706304   ['embedding_5[0][0]']         \n",
            "                                                                                                  \n",
            " lstm_5 (LSTM)               (None, 1024)                 4706304   ['embedding_6[0][0]']         \n",
            "                                                                                                  \n",
            " dropout_3 (Dropout)         (None, 1024)                 0         ['lstm_4[0][0]']              \n",
            "                                                                                                  \n",
            " dropout_4 (Dropout)         (None, 1024)                 0         ['lstm_5[0][0]']              \n",
            "                                                                                                  \n",
            " power_differential (InputL  [(None, 1)]                  0         []                            \n",
            " ayer)                                                                                            \n",
            "                                                                                                  \n",
            " concatenate_2 (Concatenate  (None, 2049)                 0         ['dropout_3[0][0]',           \n",
            " )                                                                   'dropout_4[0][0]',           \n",
            "                                                                     'power_differential[0][0]']  \n",
            "                                                                                                  \n",
            " dense_4 (Dense)             (None, 64)                   131200    ['concatenate_2[0][0]']       \n",
            "                                                                                                  \n",
            " sender_output (Dense)       (None, 1)                    65        ['dense_4[0][0]']             \n",
            "                                                                                                  \n",
            " receiver_output (Dense)     (None, 1)                    65        ['dense_4[0][0]']             \n",
            "                                                                                                  \n",
            "==================================================================================================\n",
            "Total params: 10783938 (41.14 MB)\n",
            "Trainable params: 10783938 (41.14 MB)\n",
            "Non-trainable params: 0 (0.00 Byte)\n",
            "__________________________________________________________________________________________________\n"
          ]
        }
      ],
      "source": [
        "context_lstm_power_model = create_context_lstm_power_model()\n",
        "context_lstm_power_model.summary()"
      ]
    },
    {
      "cell_type": "code",
      "execution_count": 38,
      "metadata": {
        "colab": {
          "base_uri": "https://localhost:8080/"
        },
        "id": "690luvmbH_5d",
        "outputId": "eaeee919-d228-4948-ae50-37b8ccc57ac5"
      },
      "outputs": [
        {
          "output_type": "stream",
          "name": "stdout",
          "text": [
            "Epoch 1/10\n",
            "376/376 [==============================] - 52s 129ms/step - loss: 0.4700 - sender_output_loss: 0.2294 - receiver_output_loss: 0.2406 - sender_output_auc: 0.5811 - receiver_output_auc_1: 0.5134 - val_loss: 0.3235 - val_sender_output_loss: 0.1641 - val_receiver_output_loss: 0.1594 - val_sender_output_auc: 0.6003 - val_receiver_output_auc_1: 0.4170\n",
            "Epoch 2/10\n",
            "376/376 [==============================] - 40s 107ms/step - loss: 0.3726 - sender_output_loss: 0.1811 - receiver_output_loss: 0.1915 - sender_output_auc: 0.6072 - receiver_output_auc_1: 0.5077 - val_loss: 0.3230 - val_sender_output_loss: 0.1635 - val_receiver_output_loss: 0.1595 - val_sender_output_auc: 0.6190 - val_receiver_output_auc_1: 0.4409\n",
            "Epoch 3/10\n",
            "376/376 [==============================] - 38s 101ms/step - loss: 0.3708 - sender_output_loss: 0.1799 - receiver_output_loss: 0.1910 - sender_output_auc: 0.6250 - receiver_output_auc_1: 0.5193 - val_loss: 0.3364 - val_sender_output_loss: 0.1675 - val_receiver_output_loss: 0.1689 - val_sender_output_auc: 0.6334 - val_receiver_output_auc_1: 0.4539\n",
            "Epoch 4/10\n",
            "376/376 [==============================] - 38s 101ms/step - loss: 0.3692 - sender_output_loss: 0.1788 - receiver_output_loss: 0.1905 - sender_output_auc: 0.6270 - receiver_output_auc_1: 0.5373 - val_loss: 0.3229 - val_sender_output_loss: 0.1609 - val_receiver_output_loss: 0.1619 - val_sender_output_auc: 0.6356 - val_receiver_output_auc_1: 0.4694\n",
            "Epoch 5/10\n",
            "376/376 [==============================] - 37s 99ms/step - loss: 0.3682 - sender_output_loss: 0.1775 - receiver_output_loss: 0.1907 - sender_output_auc: 0.6453 - receiver_output_auc_1: 0.5287 - val_loss: 0.3201 - val_sender_output_loss: 0.1615 - val_receiver_output_loss: 0.1587 - val_sender_output_auc: 0.6396 - val_receiver_output_auc_1: 0.4735\n",
            "Epoch 6/10\n",
            "376/376 [==============================] - 37s 99ms/step - loss: 0.3657 - sender_output_loss: 0.1760 - receiver_output_loss: 0.1897 - sender_output_auc: 0.6615 - receiver_output_auc_1: 0.5547 - val_loss: 0.3213 - val_sender_output_loss: 0.1617 - val_receiver_output_loss: 0.1596 - val_sender_output_auc: 0.6503 - val_receiver_output_auc_1: 0.4795\n",
            "Epoch 7/10\n",
            "376/376 [==============================] - 37s 98ms/step - loss: 0.3636 - sender_output_loss: 0.1744 - receiver_output_loss: 0.1892 - sender_output_auc: 0.6704 - receiver_output_auc_1: 0.5626 - val_loss: 0.3187 - val_sender_output_loss: 0.1606 - val_receiver_output_loss: 0.1580 - val_sender_output_auc: 0.6453 - val_receiver_output_auc_1: 0.5039\n",
            "Epoch 8/10\n",
            "376/376 [==============================] - 37s 97ms/step - loss: 0.3607 - sender_output_loss: 0.1725 - receiver_output_loss: 0.1882 - sender_output_auc: 0.6887 - receiver_output_auc_1: 0.5798 - val_loss: 0.3233 - val_sender_output_loss: 0.1595 - val_receiver_output_loss: 0.1637 - val_sender_output_auc: 0.6555 - val_receiver_output_auc_1: 0.4938\n",
            "Epoch 9/10\n",
            "376/376 [==============================] - 37s 97ms/step - loss: 0.3578 - sender_output_loss: 0.1712 - receiver_output_loss: 0.1867 - sender_output_auc: 0.7000 - receiver_output_auc_1: 0.5986 - val_loss: 0.3183 - val_sender_output_loss: 0.1595 - val_receiver_output_loss: 0.1588 - val_sender_output_auc: 0.6585 - val_receiver_output_auc_1: 0.5321\n",
            "Epoch 10/10\n",
            "376/376 [==============================] - 37s 97ms/step - loss: 0.3508 - sender_output_loss: 0.1667 - receiver_output_loss: 0.1841 - sender_output_auc: 0.7220 - receiver_output_auc_1: 0.6373 - val_loss: 0.3176 - val_sender_output_loss: 0.1606 - val_receiver_output_loss: 0.1569 - val_sender_output_auc: 0.6413 - val_receiver_output_auc_1: 0.5698\n"
          ]
        }
      ],
      "source": [
        "context_lstm_power_history = context_lstm_power_model.fit(\n",
        "    [train_encoded_padded, train_prev_encoded_padded, train_df['game_score_delta']],\n",
        "    [train_df['sender_labels_encoded'], train_df['receiver_labels_encoded']],\n",
        "    validation_data=([validation_encoded_padded, validation_prev_encoded_padded, validation_df['game_score_delta']], [validation_df['sender_labels_encoded'], validation_df['receiver_labels_encoded']]),\n",
        "    epochs=10\n",
        ")"
      ]
    },
    {
      "cell_type": "code",
      "execution_count": 39,
      "metadata": {
        "colab": {
          "base_uri": "https://localhost:8080/",
          "height": 972
        },
        "id": "LfXQVeMeH_5e",
        "outputId": "5ebeb01a-6809-47dd-b366-4313137db667"
      },
      "outputs": [
        {
          "output_type": "stream",
          "name": "stdout",
          "text": [
            "========== Model Accuracy ==========\n"
          ]
        },
        {
          "output_type": "display_data",
          "data": {
            "text/plain": [
              "<Figure size 640x480 with 1 Axes>"
            ],
            "image/png": "[encoded data removed]"
          },
          "metadata": {}
        },
        {
          "output_type": "stream",
          "name": "stdout",
          "text": [
            "========== Test Evaluation ==========\n",
            "78/78 - 3s - loss: 0.5451 - sender_output_loss: 0.2971 - receiver_output_loss: 0.2481 - sender_output_auc: 0.6623 - receiver_output_auc_1: 0.6324 - 3s/epoch - 36ms/step\n",
            "\n",
            "========== Test Metrics ==========\n",
            "78/78 [==============================] - 3s 33ms/step\n",
            "Best Threshold for Sender: 0.06 with F1 Score: 0.5776891411408943\n",
            "Best Threshold for Receiver: 0.06 with F1 Score: 0.5375433467243341\n",
            "\n",
            "---------- Sender Labels ----------\n",
            "              precision    recall  f1-score   support\n",
            "\n",
            "        True       0.93      0.88      0.91      2268\n",
            "       False       0.20      0.32      0.25       207\n",
            "\n",
            "    accuracy                           0.84      2475\n",
            "   macro avg       0.57      0.60      0.58      2475\n",
            "weighted avg       0.87      0.84      0.85      2475\n",
            "\n",
            "---------- Receiver Labels ----------\n",
            "              precision    recall  f1-score   support\n",
            "\n",
            "        True       0.94      0.94      0.94      2310\n",
            "       False       0.14      0.13      0.13       165\n",
            "\n",
            "    accuracy                           0.89      2475\n",
            "   macro avg       0.54      0.54      0.54      2475\n",
            "weighted avg       0.88      0.89      0.89      2475\n",
            "\n"
          ]
        }
      ],
      "source": [
        "EvaluateModel(context_lstm_power_model, [test_encoded_padded, test_prev_encoded_padded, test_df['game_score_delta']], [test_df['sender_labels_encoded'], test_df['receiver_labels_encoded']], context_lstm_power_history);"
      ]
    },
    {
      "cell_type": "markdown",
      "metadata": {
        "id": "uzeG491QH_5e"
      },
      "source": [
        "<hr/>\n",
        "\n",
        "# Context LSTM Prediction Analysis"
      ]
    },
    {
      "cell_type": "code",
      "execution_count": 40,
      "metadata": {
        "colab": {
          "base_uri": "https://localhost:8080/",
          "height": 69
        },
        "id": "zqiHiF3DH_5e",
        "outputId": "4b2179cd-caed-486a-b1e5-f466343014e6"
      },
      "outputs": [
        {
          "output_type": "stream",
          "name": "stdout",
          "text": [
            "78/78 [==============================] - 3s 33ms/step\n"
          ]
        },
        {
          "output_type": "display_data",
          "data": {
            "text/plain": [
              "array([0, 0, 0, ..., 0, 0, 0])"
            ]
          },
          "metadata": {}
        },
        {
          "output_type": "display_data",
          "data": {
            "text/plain": [
              "array([0, 0, 0, ..., 0, 0, 0])"
            ]
          },
          "metadata": {}
        }
      ],
      "source": [
        "pred = context_lstm_model.predict([test_encoded_padded, test_prev_encoded_padded])\n",
        "sender_pred = (pred[0] > sender_threshold).astype(int).reshape(-1)\n",
        "receiver_pred = (pred[1] > receiver_threshold).astype(int).reshape(-1)\n",
        "\n",
        "display(sender_pred)\n",
        "display(receiver_pred)"
      ]
    },
    {
      "cell_type": "markdown",
      "metadata": {
        "id": "_z4JCvmEH_5e"
      },
      "source": [
        "## Sender Predictions"
      ]
    },
    {
      "cell_type": "code",
      "execution_count": 41,
      "metadata": {
        "colab": {
          "base_uri": "https://localhost:8080/",
          "height": 175
        },
        "id": "3bEofi0xH_5e",
        "outputId": "934c16e7-063f-4064-fa12-b42f640aeb1c"
      },
      "outputs": [
        {
          "output_type": "execute_result",
          "data": {
            "text/plain": [
              "  prediction  target                                            message  \\\n",
              "0       True    True  Hi Italy! Just opening up communication, and I...   \n",
              "1      False   False  Hello! I'm looking forward to a fun game as we...   \n",
              "2       True   False  I'd personally rather you didn't, because a pl...   \n",
              "3      False    True  Yep. I’m finishing up game 10 of this series n...   \n",
              "\n",
              "                                             context  \n",
              "0                                                     \n",
              "1  Hey Germany! How’s it going? Looking forward t...  \n",
              "2  Bongiorno!  To crush my enemies, see them driv...  \n",
              "3  Lol. Probably. That is the great thing about A...  "
            ],
            "text/html": [
              "\n",
              "  <div id=\"df-a7652a67-3bdd-487d-a1ff-0a57dd67210a\" class=\"colab-df-container\">\n",
              "    <div>\n",
              "<style scoped>\n",
              "    .dataframe tbody tr th:only-of-type {\n",
              "        vertical-align: middle;\n",
              "    }\n",
              "\n",
              "    .dataframe tbody tr th {\n",
              "        vertical-align: top;\n",
              "    }\n",
              "\n",
              "    .dataframe thead th {\n",
              "        text-align: right;\n",
              "    }\n",
              "</style>\n",
              "<table border=\"1\" class=\"dataframe\">\n",
              "  <thead>\n",
              "    <tr style=\"text-align: right;\">\n",
              "      <th></th>\n",
              "      <th>prediction</th>\n",
              "      <th>target</th>\n",
              "      <th>message</th>\n",
              "      <th>context</th>\n",
              "    </tr>\n",
              "  </thead>\n",
              "  <tbody>\n",
              "    <tr>\n",
              "      <th>0</th>\n",
              "      <td>True</td>\n",
              "      <td>True</td>\n",
              "      <td>Hi Italy! Just opening up communication, and I...</td>\n",
              "      <td></td>\n",
              "    </tr>\n",
              "    <tr>\n",
              "      <th>1</th>\n",
              "      <td>False</td>\n",
              "      <td>False</td>\n",
              "      <td>Hello! I'm looking forward to a fun game as we...</td>\n",
              "      <td>Hey Germany! How’s it going? Looking forward t...</td>\n",
              "    </tr>\n",
              "    <tr>\n",
              "      <th>2</th>\n",
              "      <td>True</td>\n",
              "      <td>False</td>\n",
              "      <td>I'd personally rather you didn't, because a pl...</td>\n",
              "      <td>Bongiorno!  To crush my enemies, see them driv...</td>\n",
              "    </tr>\n",
              "    <tr>\n",
              "      <th>3</th>\n",
              "      <td>False</td>\n",
              "      <td>True</td>\n",
              "      <td>Yep. I’m finishing up game 10 of this series n...</td>\n",
              "      <td>Lol. Probably. That is the great thing about A...</td>\n",
              "    </tr>\n",
              "  </tbody>\n",
              "</table>\n",
              "</div>\n",
              "    <div class=\"colab-df-buttons\">\n",
              "\n",
              "  <div class=\"colab-df-container\">\n",
              "    <button class=\"colab-df-convert\" onclick=\"convertToInteractive('df-a7652a67-3bdd-487d-a1ff-0a57dd67210a')\"\n",
              "            title=\"Convert this dataframe to an interactive table.\"\n",
              "            style=\"display:none;\">\n",
              "\n",
              "  <svg xmlns=\"http://www.w3.org/2000/svg\" height=\"24px\" viewBox=\"0 -960 960 960\">\n",
              "    <path d=\"M120-120v-720h720v720H120Zm60-500h600v-160H180v160Zm220 220h160v-160H400v160Zm0 220h160v-160H400v160ZM180-400h160v-160H180v160Zm440 0h160v-160H620v160ZM180-180h160v-160H180v160Zm440 0h160v-160H620v160Z\"/>\n",
              "  </svg>\n",
              "    </button>\n",
              "\n",
              "  <style>\n",
              "    .colab-df-container {\n",
              "      display:flex;\n",
              "      gap: 12px;\n",
              "    }\n",
              "\n",
              "    .colab-df-convert {\n",
              "      background-color: #E8F0FE;\n",
              "      border: none;\n",
              "      border-radius: 50%;\n",
              "      cursor: pointer;\n",
              "      display: none;\n",
              "      fill: #1967D2;\n",
              "      height: 32px;\n",
              "      padding: 0 0 0 0;\n",
              "      width: 32px;\n",
              "    }\n",
              "\n",
              "    .colab-df-convert:hover {\n",
              "      background-color: #E2EBFA;\n",
              "      box-shadow: 0px 1px 2px rgba(60, 64, 67, 0.3), 0px 1px 3px 1px rgba(60, 64, 67, 0.15);\n",
              "      fill: #174EA6;\n",
              "    }\n",
              "\n",
              "    .colab-df-buttons div {\n",
              "      margin-bottom: 4px;\n",
              "    }\n",
              "\n",
              "    [theme=dark] .colab-df-convert {\n",
              "      background-color: #3B4455;\n",
              "      fill: #D2E3FC;\n",
              "    }\n",
              "\n",
              "    [theme=dark] .colab-df-convert:hover {\n",
              "      background-color: #434B5C;\n",
              "      box-shadow: 0px 1px 3px 1px rgba(0, 0, 0, 0.15);\n",
              "      filter: drop-shadow(0px 1px 2px rgba(0, 0, 0, 0.3));\n",
              "      fill: #FFFFFF;\n",
              "    }\n",
              "  </style>\n",
              "\n",
              "    <script>\n",
              "      const buttonEl =\n",
              "        document.querySelector('#df-a7652a67-3bdd-487d-a1ff-0a57dd67210a button.colab-df-convert');\n",
              "      buttonEl.style.display =\n",
              "        google.colab.kernel.accessAllowed ? 'block' : 'none';\n",
              "\n",
              "      async function convertToInteractive(key) {\n",
              "        const element = document.querySelector('#df-a7652a67-3bdd-487d-a1ff-0a57dd67210a');\n",
              "        const dataTable =\n",
              "          await google.colab.kernel.invokeFunction('convertToInteractive',\n",
              "                                                    [key], {});\n",
              "        if (!dataTable) return;\n",
              "\n",
              "        const docLinkHtml = 'Like what you see? Visit the ' +\n",
              "          '<a target=\"_blank\" href=https://colab.research.google.com/notebooks/data_table.ipynb>data table notebook</a>'\n",
              "          + ' to learn more about interactive tables.';\n",
              "        element.innerHTML = '';\n",
              "        dataTable['output_type'] = 'display_data';\n",
              "        await google.colab.output.renderOutput(dataTable, element);\n",
              "        const docLink = document.createElement('div');\n",
              "        docLink.innerHTML = docLinkHtml;\n",
              "        element.appendChild(docLink);\n",
              "      }\n",
              "    </script>\n",
              "  </div>\n",
              "\n",
              "\n",
              "<div id=\"df-b25b5089-d945-49c6-8e98-f0537c51a361\">\n",
              "  <button class=\"colab-df-quickchart\" onclick=\"quickchart('df-b25b5089-d945-49c6-8e98-f0537c51a361')\"\n",
              "            title=\"Suggest charts\"\n",
              "            style=\"display:none;\">\n",
              "\n",
              "<svg xmlns=\"http://www.w3.org/2000/svg\" height=\"24px\"viewBox=\"0 0 24 24\"\n",
              "     width=\"24px\">\n",
              "    <g>\n",
              "        <path d=\"M19 3H5c-1.1 0-2 .9-2 2v14c0 1.1.9 2 2 2h14c1.1 0 2-.9 2-2V5c0-1.1-.9-2-2-2zM9 17H7v-7h2v7zm4 0h-2V7h2v10zm4 0h-2v-4h2v4z\"/>\n",
              "    </g>\n",
              "</svg>\n",
              "  </button>\n",
              "\n",
              "<style>\n",
              "  .colab-df-quickchart {\n",
              "      --bg-color: #E8F0FE;\n",
              "      --fill-color: #1967D2;\n",
              "      --hover-bg-color: #E2EBFA;\n",
              "      --hover-fill-color: #174EA6;\n",
              "      --disabled-fill-color: #AAA;\n",
              "      --disabled-bg-color: #DDD;\n",
              "  }\n",
              "\n",
              "  [theme=dark] .colab-df-quickchart {\n",
              "      --bg-color: #3B4455;\n",
              "      --fill-color: #D2E3FC;\n",
              "      --hover-bg-color: #434B5C;\n",
              "      --hover-fill-color: #FFFFFF;\n",
              "      --disabled-bg-color: #3B4455;\n",
              "      --disabled-fill-color: #666;\n",
              "  }\n",
              "\n",
              "  .colab-df-quickchart {\n",
              "    background-color: var(--bg-color);\n",
              "    border: none;\n",
              "    border-radius: 50%;\n",
              "    cursor: pointer;\n",
              "    display: none;\n",
              "    fill: var(--fill-color);\n",
              "    height: 32px;\n",
              "    padding: 0;\n",
              "    width: 32px;\n",
              "  }\n",
              "\n",
              "  .colab-df-quickchart:hover {\n",
              "    background-color: var(--hover-bg-color);\n",
              "    box-shadow: 0 1px 2px rgba(60, 64, 67, 0.3), 0 1px 3px 1px rgba(60, 64, 67, 0.15);\n",
              "    fill: var(--button-hover-fill-color);\n",
              "  }\n",
              "\n",
              "  .colab-df-quickchart-complete:disabled,\n",
              "  .colab-df-quickchart-complete:disabled:hover {\n",
              "    background-color: var(--disabled-bg-color);\n",
              "    fill: var(--disabled-fill-color);\n",
              "    box-shadow: none;\n",
              "  }\n",
              "\n",
              "  .colab-df-spinner {\n",
              "    border: 2px solid var(--fill-color);\n",
              "    border-color: transparent;\n",
              "    border-bottom-color: var(--fill-color);\n",
              "    animation:\n",
              "      spin 1s steps(1) infinite;\n",
              "  }\n",
              "\n",
              "  @keyframes spin {\n",
              "    0% {\n",
              "      border-color: transparent;\n",
              "      border-bottom-color: var(--fill-color);\n",
              "      border-left-color: var(--fill-color);\n",
              "    }\n",
              "    20% {\n",
              "      border-color: transparent;\n",
              "      border-left-color: var(--fill-color);\n",
              "      border-top-color: var(--fill-color);\n",
              "    }\n",
              "    30% {\n",
              "      border-color: transparent;\n",
              "      border-left-color: var(--fill-color);\n",
              "      border-top-color: var(--fill-color);\n",
              "      border-right-color: var(--fill-color);\n",
              "    }\n",
              "    40% {\n",
              "      border-color: transparent;\n",
              "      border-right-color: var(--fill-color);\n",
              "      border-top-color: var(--fill-color);\n",
              "    }\n",
              "    60% {\n",
              "      border-color: transparent;\n",
              "      border-right-color: var(--fill-color);\n",
              "    }\n",
              "    80% {\n",
              "      border-color: transparent;\n",
              "      border-right-color: var(--fill-color);\n",
              "      border-bottom-color: var(--fill-color);\n",
              "    }\n",
              "    90% {\n",
              "      border-color: transparent;\n",
              "      border-bottom-color: var(--fill-color);\n",
              "    }\n",
              "  }\n",
              "</style>\n",
              "\n",
              "  <script>\n",
              "    async function quickchart(key) {\n",
              "      const quickchartButtonEl =\n",
              "        document.querySelector('#' + key + ' button');\n",
              "      quickchartButtonEl.disabled = true;  // To prevent multiple clicks.\n",
              "      quickchartButtonEl.classList.add('colab-df-spinner');\n",
              "      try {\n",
              "        const charts = await google.colab.kernel.invokeFunction(\n",
              "            'suggestCharts', [key], {});\n",
              "      } catch (error) {\n",
              "        console.error('Error during call to suggestCharts:', error);\n",
              "      }\n",
              "      quickchartButtonEl.classList.remove('colab-df-spinner');\n",
              "      quickchartButtonEl.classList.add('colab-df-quickchart-complete');\n",
              "    }\n",
              "    (() => {\n",
              "      let quickchartButtonEl =\n",
              "        document.querySelector('#df-b25b5089-d945-49c6-8e98-f0537c51a361 button');\n",
              "      quickchartButtonEl.style.display =\n",
              "        google.colab.kernel.accessAllowed ? 'block' : 'none';\n",
              "    })();\n",
              "  </script>\n",
              "</div>\n",
              "\n",
              "  <div id=\"id_081880e7-afc8-4eeb-b56f-dd50ac483417\">\n",
              "    <style>\n",
              "      .colab-df-generate {\n",
              "        background-color: #E8F0FE;\n",
              "        border: none;\n",
              "        border-radius: 50%;\n",
              "        cursor: pointer;\n",
              "        display: none;\n",
              "        fill: #1967D2;\n",
              "        height: 32px;\n",
              "        padding: 0 0 0 0;\n",
              "        width: 32px;\n",
              "      }\n",
              "\n",
              "      .colab-df-generate:hover {\n",
              "        background-color: #E2EBFA;\n",
              "        box-shadow: 0px 1px 2px rgba(60, 64, 67, 0.3), 0px 1px 3px 1px rgba(60, 64, 67, 0.15);\n",
              "        fill: #174EA6;\n",
              "      }\n",
              "\n",
              "      [theme=dark] .colab-df-generate {\n",
              "        background-color: #3B4455;\n",
              "        fill: #D2E3FC;\n",
              "      }\n",
              "\n",
              "      [theme=dark] .colab-df-generate:hover {\n",
              "        background-color: #434B5C;\n",
              "        box-shadow: 0px 1px 3px 1px rgba(0, 0, 0, 0.15);\n",
              "        filter: drop-shadow(0px 1px 2px rgba(0, 0, 0, 0.3));\n",
              "        fill: #FFFFFF;\n",
              "      }\n",
              "    </style>\n",
              "    <button class=\"colab-df-generate\" onclick=\"generateWithVariable('sender_table')\"\n",
              "            title=\"Generate code using this dataframe.\"\n",
              "            style=\"display:none;\">\n",
              "\n",
              "  <svg xmlns=\"http://www.w3.org/2000/svg\" height=\"24px\"viewBox=\"0 0 24 24\"\n",
              "       width=\"24px\">\n",
              "    <path d=\"M7,19H8.4L18.45,9,17,7.55,7,17.6ZM5,21V16.75L18.45,3.32a2,2,0,0,1,2.83,0l1.4,1.43a1.91,1.91,0,0,1,.58,1.4,1.91,1.91,0,0,1-.58,1.4L9.25,21ZM18.45,9,17,7.55Zm-12,3A5.31,5.31,0,0,0,4.9,8.1,5.31,5.31,0,0,0,1,6.5,5.31,5.31,0,0,0,4.9,4.9,5.31,5.31,0,0,0,6.5,1,5.31,5.31,0,0,0,8.1,4.9,5.31,5.31,0,0,0,12,6.5,5.46,5.46,0,0,0,6.5,12Z\"/>\n",
              "  </svg>\n",
              "    </button>\n",
              "    <script>\n",
              "      (() => {\n",
              "      const buttonEl =\n",
              "        document.querySelector('#id_081880e7-afc8-4eeb-b56f-dd50ac483417 button.colab-df-generate');\n",
              "      buttonEl.style.display =\n",
              "        google.colab.kernel.accessAllowed ? 'block' : 'none';\n",
              "\n",
              "      buttonEl.onclick = () => {\n",
              "        google.colab.notebook.generateWithVariable('sender_table');\n",
              "      }\n",
              "      })();\n",
              "    </script>\n",
              "  </div>\n",
              "\n",
              "    </div>\n",
              "  </div>\n"
            ]
          },
          "metadata": {},
          "execution_count": 41
        }
      ],
      "source": [
        "sender_table = PredictionGridPeek(sender_pred, test_df, CLASS_LABELS, \"sender\")\n",
        "sender_table"
      ]
    },
    {
      "cell_type": "code",
      "execution_count": 42,
      "metadata": {
        "colab": {
          "base_uri": "https://localhost:8080/",
          "height": 193
        },
        "id": "DVuGJSalH_5e",
        "outputId": "7ae21a87-32c9-4080-9144-412dcd4c0291"
      },
      "outputs": [
        {
          "output_type": "display_data",
          "data": {
            "text/plain": [
              "'Hi Italy! Just opening up communication, and I want to know what some of your initial thoughts on the game are and if/how we can work together'"
            ],
            "application/vnd.google.colaboratory.intrinsic+json": {
              "type": "string"
            }
          },
          "metadata": {}
        },
        {
          "output_type": "display_data",
          "data": {
            "text/plain": [
              "\"Hello! I'm looking forward to a fun game as well. I usually see good things happen when Russia and Germany work together, so I hope we can both help each other in our initial plans. I'm assuming you're gonna try and attack Scandinavia first? Let me know your thoughts, and I look forward to us working well together\""
            ],
            "application/vnd.google.colaboratory.intrinsic+json": {
              "type": "string"
            }
          },
          "metadata": {}
        },
        {
          "output_type": "display_data",
          "data": {
            "text/plain": [
              "\"I'd personally rather you didn't, because a play around Munich is also a play around Trieste and Vienna. I've heard that there's some rancor over in the West and you might be able to profit from a mobbed France if you went that way.\""
            ],
            "application/vnd.google.colaboratory.intrinsic+json": {
              "type": "string"
            }
          },
          "metadata": {}
        },
        {
          "output_type": "display_data",
          "data": {
            "text/plain": [
              "'Yep. I’m finishing up game 10 of this series now as Austria. Currently on 14 centers, but England has Tunis so no win for me 😦'"
            ],
            "application/vnd.google.colaboratory.intrinsic+json": {
              "type": "string"
            }
          },
          "metadata": {}
        }
      ],
      "source": [
        "sender_table[\"message\"].map(display);"
      ]
    },
    {
      "cell_type": "code",
      "execution_count": 43,
      "metadata": {
        "colab": {
          "base_uri": "https://localhost:8080/",
          "height": 106
        },
        "id": "IcvXLcFBH_5e",
        "outputId": "e8c6c9b8-3f76-410b-d5fd-a2e237b1e7c8"
      },
      "outputs": [
        {
          "output_type": "display_data",
          "data": {
            "text/plain": [
              "''"
            ],
            "application/vnd.google.colaboratory.intrinsic+json": {
              "type": "string"
            }
          },
          "metadata": {}
        },
        {
          "output_type": "display_data",
          "data": {
            "text/plain": [
              "'Hey Germany! How’s it going? Looking forward to a fun game!'"
            ],
            "application/vnd.google.colaboratory.intrinsic+json": {
              "type": "string"
            }
          },
          "metadata": {}
        },
        {
          "output_type": "display_data",
          "data": {
            "text/plain": [
              "'Bongiorno!  To crush my enemies, see them driven before me, and hear the lamentations of their women!  I mean, umm, not really sure yet.  Pondering whether or not to make an early play around Munich'"
            ],
            "application/vnd.google.colaboratory.intrinsic+json": {
              "type": "string"
            }
          },
          "metadata": {}
        },
        {
          "output_type": "display_data",
          "data": {
            "text/plain": [
              "'Lol. Probably. That is the great thing about Austria -you either do well or you get to go play another game.'"
            ],
            "application/vnd.google.colaboratory.intrinsic+json": {
              "type": "string"
            }
          },
          "metadata": {}
        }
      ],
      "source": [
        "sender_table[\"context\"].map(display);"
      ]
    },
    {
      "cell_type": "markdown",
      "metadata": {
        "id": "D3SpqetbH_5e"
      },
      "source": [
        "## Receiver Predictions"
      ]
    },
    {
      "cell_type": "code",
      "execution_count": 44,
      "metadata": {
        "colab": {
          "base_uri": "https://localhost:8080/",
          "height": 175
        },
        "id": "-dO06xV8H_5e",
        "outputId": "2e1c9eec-3e7a-40f5-8931-e38cff8e79e9"
      },
      "outputs": [
        {
          "output_type": "execute_result",
          "data": {
            "text/plain": [
              "  prediction  target                                            message  \\\n",
              "0       True    True  Hi Italy! Just opening up communication, and I...   \n",
              "1      False   False  So to be honest, Tunis isn’t something you can...   \n",
              "2       True   False  Well, if you want to attack France in the Medi...   \n",
              "3      False    True  Shoot, I was running through the messages so f...   \n",
              "\n",
              "                                             context  \n",
              "0                                                     \n",
              "1    So, from here, what do you plan to do with Lyo?  \n",
              "2  Well....that's a great question, and a lot of ...  \n",
              "3           Great, what do you think of my proposal?  "
            ],
            "text/html": [
              "\n",
              "  <div id=\"df-b3d36990-71c4-4ffc-a5ff-b8e56b5f6b1c\" class=\"colab-df-container\">\n",
              "    <div>\n",
              "<style scoped>\n",
              "    .dataframe tbody tr th:only-of-type {\n",
              "        vertical-align: middle;\n",
              "    }\n",
              "\n",
              "    .dataframe tbody tr th {\n",
              "        vertical-align: top;\n",
              "    }\n",
              "\n",
              "    .dataframe thead th {\n",
              "        text-align: right;\n",
              "    }\n",
              "</style>\n",
              "<table border=\"1\" class=\"dataframe\">\n",
              "  <thead>\n",
              "    <tr style=\"text-align: right;\">\n",
              "      <th></th>\n",
              "      <th>prediction</th>\n",
              "      <th>target</th>\n",
              "      <th>message</th>\n",
              "      <th>context</th>\n",
              "    </tr>\n",
              "  </thead>\n",
              "  <tbody>\n",
              "    <tr>\n",
              "      <th>0</th>\n",
              "      <td>True</td>\n",
              "      <td>True</td>\n",
              "      <td>Hi Italy! Just opening up communication, and I...</td>\n",
              "      <td></td>\n",
              "    </tr>\n",
              "    <tr>\n",
              "      <th>1</th>\n",
              "      <td>False</td>\n",
              "      <td>False</td>\n",
              "      <td>So to be honest, Tunis isn’t something you can...</td>\n",
              "      <td>So, from here, what do you plan to do with Lyo?</td>\n",
              "    </tr>\n",
              "    <tr>\n",
              "      <th>2</th>\n",
              "      <td>True</td>\n",
              "      <td>False</td>\n",
              "      <td>Well, if you want to attack France in the Medi...</td>\n",
              "      <td>Well....that's a great question, and a lot of ...</td>\n",
              "    </tr>\n",
              "    <tr>\n",
              "      <th>3</th>\n",
              "      <td>False</td>\n",
              "      <td>True</td>\n",
              "      <td>Shoot, I was running through the messages so f...</td>\n",
              "      <td>Great, what do you think of my proposal?</td>\n",
              "    </tr>\n",
              "  </tbody>\n",
              "</table>\n",
              "</div>\n",
              "    <div class=\"colab-df-buttons\">\n",
              "\n",
              "  <div class=\"colab-df-container\">\n",
              "    <button class=\"colab-df-convert\" onclick=\"convertToInteractive('df-b3d36990-71c4-4ffc-a5ff-b8e56b5f6b1c')\"\n",
              "            title=\"Convert this dataframe to an interactive table.\"\n",
              "            style=\"display:none;\">\n",
              "\n",
              "  <svg xmlns=\"http://www.w3.org/2000/svg\" height=\"24px\" viewBox=\"0 -960 960 960\">\n",
              "    <path d=\"M120-120v-720h720v720H120Zm60-500h600v-160H180v160Zm220 220h160v-160H400v160Zm0 220h160v-160H400v160ZM180-400h160v-160H180v160Zm440 0h160v-160H620v160ZM180-180h160v-160H180v160Zm440 0h160v-160H620v160Z\"/>\n",
              "  </svg>\n",
              "    </button>\n",
              "\n",
              "  <style>\n",
              "    .colab-df-container {\n",
              "      display:flex;\n",
              "      gap: 12px;\n",
              "    }\n",
              "\n",
              "    .colab-df-convert {\n",
              "      background-color: #E8F0FE;\n",
              "      border: none;\n",
              "      border-radius: 50%;\n",
              "      cursor: pointer;\n",
              "      display: none;\n",
              "      fill: #1967D2;\n",
              "      height: 32px;\n",
              "      padding: 0 0 0 0;\n",
              "      width: 32px;\n",
              "    }\n",
              "\n",
              "    .colab-df-convert:hover {\n",
              "      background-color: #E2EBFA;\n",
              "      box-shadow: 0px 1px 2px rgba(60, 64, 67, 0.3), 0px 1px 3px 1px rgba(60, 64, 67, 0.15);\n",
              "      fill: #174EA6;\n",
              "    }\n",
              "\n",
              "    .colab-df-buttons div {\n",
              "      margin-bottom: 4px;\n",
              "    }\n",
              "\n",
              "    [theme=dark] .colab-df-convert {\n",
              "      background-color: #3B4455;\n",
              "      fill: #D2E3FC;\n",
              "    }\n",
              "\n",
              "    [theme=dark] .colab-df-convert:hover {\n",
              "      background-color: #434B5C;\n",
              "      box-shadow: 0px 1px 3px 1px rgba(0, 0, 0, 0.15);\n",
              "      filter: drop-shadow(0px 1px 2px rgba(0, 0, 0, 0.3));\n",
              "      fill: #FFFFFF;\n",
              "    }\n",
              "  </style>\n",
              "\n",
              "    <script>\n",
              "      const buttonEl =\n",
              "        document.querySelector('#df-b3d36990-71c4-4ffc-a5ff-b8e56b5f6b1c button.colab-df-convert');\n",
              "      buttonEl.style.display =\n",
              "        google.colab.kernel.accessAllowed ? 'block' : 'none';\n",
              "\n",
              "      async function convertToInteractive(key) {\n",
              "        const element = document.querySelector('#df-b3d36990-71c4-4ffc-a5ff-b8e56b5f6b1c');\n",
              "        const dataTable =\n",
              "          await google.colab.kernel.invokeFunction('convertToInteractive',\n",
              "                                                    [key], {});\n",
              "        if (!dataTable) return;\n",
              "\n",
              "        const docLinkHtml = 'Like what you see? Visit the ' +\n",
              "          '<a target=\"_blank\" href=https://colab.research.google.com/notebooks/data_table.ipynb>data table notebook</a>'\n",
              "          + ' to learn more about interactive tables.';\n",
              "        element.innerHTML = '';\n",
              "        dataTable['output_type'] = 'display_data';\n",
              "        await google.colab.output.renderOutput(dataTable, element);\n",
              "        const docLink = document.createElement('div');\n",
              "        docLink.innerHTML = docLinkHtml;\n",
              "        element.appendChild(docLink);\n",
              "      }\n",
              "    </script>\n",
              "  </div>\n",
              "\n",
              "\n",
              "<div id=\"df-375f1be5-8b2e-46db-a7cb-5c9135279cc0\">\n",
              "  <button class=\"colab-df-quickchart\" onclick=\"quickchart('df-375f1be5-8b2e-46db-a7cb-5c9135279cc0')\"\n",
              "            title=\"Suggest charts\"\n",
              "            style=\"display:none;\">\n",
              "\n",
              "<svg xmlns=\"http://www.w3.org/2000/svg\" height=\"24px\"viewBox=\"0 0 24 24\"\n",
              "     width=\"24px\">\n",
              "    <g>\n",
              "        <path d=\"M19 3H5c-1.1 0-2 .9-2 2v14c0 1.1.9 2 2 2h14c1.1 0 2-.9 2-2V5c0-1.1-.9-2-2-2zM9 17H7v-7h2v7zm4 0h-2V7h2v10zm4 0h-2v-4h2v4z\"/>\n",
              "    </g>\n",
              "</svg>\n",
              "  </button>\n",
              "\n",
              "<style>\n",
              "  .colab-df-quickchart {\n",
              "      --bg-color: #E8F0FE;\n",
              "      --fill-color: #1967D2;\n",
              "      --hover-bg-color: #E2EBFA;\n",
              "      --hover-fill-color: #174EA6;\n",
              "      --disabled-fill-color: #AAA;\n",
              "      --disabled-bg-color: #DDD;\n",
              "  }\n",
              "\n",
              "  [theme=dark] .colab-df-quickchart {\n",
              "      --bg-color: #3B4455;\n",
              "      --fill-color: #D2E3FC;\n",
              "      --hover-bg-color: #434B5C;\n",
              "      --hover-fill-color: #FFFFFF;\n",
              "      --disabled-bg-color: #3B4455;\n",
              "      --disabled-fill-color: #666;\n",
              "  }\n",
              "\n",
              "  .colab-df-quickchart {\n",
              "    background-color: var(--bg-color);\n",
              "    border: none;\n",
              "    border-radius: 50%;\n",
              "    cursor: pointer;\n",
              "    display: none;\n",
              "    fill: var(--fill-color);\n",
              "    height: 32px;\n",
              "    padding: 0;\n",
              "    width: 32px;\n",
              "  }\n",
              "\n",
              "  .colab-df-quickchart:hover {\n",
              "    background-color: var(--hover-bg-color);\n",
              "    box-shadow: 0 1px 2px rgba(60, 64, 67, 0.3), 0 1px 3px 1px rgba(60, 64, 67, 0.15);\n",
              "    fill: var(--button-hover-fill-color);\n",
              "  }\n",
              "\n",
              "  .colab-df-quickchart-complete:disabled,\n",
              "  .colab-df-quickchart-complete:disabled:hover {\n",
              "    background-color: var(--disabled-bg-color);\n",
              "    fill: var(--disabled-fill-color);\n",
              "    box-shadow: none;\n",
              "  }\n",
              "\n",
              "  .colab-df-spinner {\n",
              "    border: 2px solid var(--fill-color);\n",
              "    border-color: transparent;\n",
              "    border-bottom-color: var(--fill-color);\n",
              "    animation:\n",
              "      spin 1s steps(1) infinite;\n",
              "  }\n",
              "\n",
              "  @keyframes spin {\n",
              "    0% {\n",
              "      border-color: transparent;\n",
              "      border-bottom-color: var(--fill-color);\n",
              "      border-left-color: var(--fill-color);\n",
              "    }\n",
              "    20% {\n",
              "      border-color: transparent;\n",
              "      border-left-color: var(--fill-color);\n",
              "      border-top-color: var(--fill-color);\n",
              "    }\n",
              "    30% {\n",
              "      border-color: transparent;\n",
              "      border-left-color: var(--fill-color);\n",
              "      border-top-color: var(--fill-color);\n",
              "      border-right-color: var(--fill-color);\n",
              "    }\n",
              "    40% {\n",
              "      border-color: transparent;\n",
              "      border-right-color: var(--fill-color);\n",
              "      border-top-color: var(--fill-color);\n",
              "    }\n",
              "    60% {\n",
              "      border-color: transparent;\n",
              "      border-right-color: var(--fill-color);\n",
              "    }\n",
              "    80% {\n",
              "      border-color: transparent;\n",
              "      border-right-color: var(--fill-color);\n",
              "      border-bottom-color: var(--fill-color);\n",
              "    }\n",
              "    90% {\n",
              "      border-color: transparent;\n",
              "      border-bottom-color: var(--fill-color);\n",
              "    }\n",
              "  }\n",
              "</style>\n",
              "\n",
              "  <script>\n",
              "    async function quickchart(key) {\n",
              "      const quickchartButtonEl =\n",
              "        document.querySelector('#' + key + ' button');\n",
              "      quickchartButtonEl.disabled = true;  // To prevent multiple clicks.\n",
              "      quickchartButtonEl.classList.add('colab-df-spinner');\n",
              "      try {\n",
              "        const charts = await google.colab.kernel.invokeFunction(\n",
              "            'suggestCharts', [key], {});\n",
              "      } catch (error) {\n",
              "        console.error('Error during call to suggestCharts:', error);\n",
              "      }\n",
              "      quickchartButtonEl.classList.remove('colab-df-spinner');\n",
              "      quickchartButtonEl.classList.add('colab-df-quickchart-complete');\n",
              "    }\n",
              "    (() => {\n",
              "      let quickchartButtonEl =\n",
              "        document.querySelector('#df-375f1be5-8b2e-46db-a7cb-5c9135279cc0 button');\n",
              "      quickchartButtonEl.style.display =\n",
              "        google.colab.kernel.accessAllowed ? 'block' : 'none';\n",
              "    })();\n",
              "  </script>\n",
              "</div>\n",
              "\n",
              "  <div id=\"id_eead8120-6abd-47eb-80af-d4e654e914ac\">\n",
              "    <style>\n",
              "      .colab-df-generate {\n",
              "        background-color: #E8F0FE;\n",
              "        border: none;\n",
              "        border-radius: 50%;\n",
              "        cursor: pointer;\n",
              "        display: none;\n",
              "        fill: #1967D2;\n",
              "        height: 32px;\n",
              "        padding: 0 0 0 0;\n",
              "        width: 32px;\n",
              "      }\n",
              "\n",
              "      .colab-df-generate:hover {\n",
              "        background-color: #E2EBFA;\n",
              "        box-shadow: 0px 1px 2px rgba(60, 64, 67, 0.3), 0px 1px 3px 1px rgba(60, 64, 67, 0.15);\n",
              "        fill: #174EA6;\n",
              "      }\n",
              "\n",
              "      [theme=dark] .colab-df-generate {\n",
              "        background-color: #3B4455;\n",
              "        fill: #D2E3FC;\n",
              "      }\n",
              "\n",
              "      [theme=dark] .colab-df-generate:hover {\n",
              "        background-color: #434B5C;\n",
              "        box-shadow: 0px 1px 3px 1px rgba(0, 0, 0, 0.15);\n",
              "        filter: drop-shadow(0px 1px 2px rgba(0, 0, 0, 0.3));\n",
              "        fill: #FFFFFF;\n",
              "      }\n",
              "    </style>\n",
              "    <button class=\"colab-df-generate\" onclick=\"generateWithVariable('receiver_table')\"\n",
              "            title=\"Generate code using this dataframe.\"\n",
              "            style=\"display:none;\">\n",
              "\n",
              "  <svg xmlns=\"http://www.w3.org/2000/svg\" height=\"24px\"viewBox=\"0 0 24 24\"\n",
              "       width=\"24px\">\n",
              "    <path d=\"M7,19H8.4L18.45,9,17,7.55,7,17.6ZM5,21V16.75L18.45,3.32a2,2,0,0,1,2.83,0l1.4,1.43a1.91,1.91,0,0,1,.58,1.4,1.91,1.91,0,0,1-.58,1.4L9.25,21ZM18.45,9,17,7.55Zm-12,3A5.31,5.31,0,0,0,4.9,8.1,5.31,5.31,0,0,0,1,6.5,5.31,5.31,0,0,0,4.9,4.9,5.31,5.31,0,0,0,6.5,1,5.31,5.31,0,0,0,8.1,4.9,5.31,5.31,0,0,0,12,6.5,5.46,5.46,0,0,0,6.5,12Z\"/>\n",
              "  </svg>\n",
              "    </button>\n",
              "    <script>\n",
              "      (() => {\n",
              "      const buttonEl =\n",
              "        document.querySelector('#id_eead8120-6abd-47eb-80af-d4e654e914ac button.colab-df-generate');\n",
              "      buttonEl.style.display =\n",
              "        google.colab.kernel.accessAllowed ? 'block' : 'none';\n",
              "\n",
              "      buttonEl.onclick = () => {\n",
              "        google.colab.notebook.generateWithVariable('receiver_table');\n",
              "      }\n",
              "      })();\n",
              "    </script>\n",
              "  </div>\n",
              "\n",
              "    </div>\n",
              "  </div>\n"
            ]
          },
          "metadata": {},
          "execution_count": 44
        }
      ],
      "source": [
        "receiver_table = PredictionGridPeek(receiver_pred, test_df, CLASS_LABELS, \"receiver\")\n",
        "receiver_table"
      ]
    },
    {
      "cell_type": "code",
      "execution_count": 45,
      "metadata": {
        "colab": {
          "base_uri": "https://localhost:8080/",
          "height": 193
        },
        "id": "xz0bZbJ_H_5e",
        "outputId": "b6fb503b-b412-4894-9036-d438083ea833"
      },
      "outputs": [
        {
          "output_type": "display_data",
          "data": {
            "text/plain": [
              "'Hi Italy! Just opening up communication, and I want to know what some of your initial thoughts on the game are and if/how we can work together'"
            ],
            "application/vnd.google.colaboratory.intrinsic+json": {
              "type": "string"
            }
          },
          "metadata": {}
        },
        {
          "output_type": "display_data",
          "data": {
            "text/plain": [
              "'So to be honest, Tunis isn’t something you can safely hold, with England still alive and Russia on your doorstep.  So unless you have a better offer, I’ll be using Lyo to force access to Tunis, since I basically loaned it to you in the first place to get builds to attack England.'"
            ],
            "application/vnd.google.colaboratory.intrinsic+json": {
              "type": "string"
            }
          },
          "metadata": {}
        },
        {
          "output_type": "display_data",
          "data": {
            "text/plain": [
              "'Well, if you want to attack France in the Mediterranean while I attack through Burgundy you can have Marseille and Iberia while I take Brest and Paris, then with France out of the way you could focus on Turkey or Austria. Sound fair?'"
            ],
            "application/vnd.google.colaboratory.intrinsic+json": {
              "type": "string"
            }
          },
          "metadata": {}
        },
        {
          "output_type": "display_data",
          "data": {
            "text/plain": [
              "\"Shoot, I was running through the messages so fast I forgot about your proposal by the time I responded.  Sounds like you might have enough on your hands without me annoying you in sensitive spaces, so I'm happy to honor such a DMZ\""
            ],
            "application/vnd.google.colaboratory.intrinsic+json": {
              "type": "string"
            }
          },
          "metadata": {}
        }
      ],
      "source": [
        "receiver_table[\"message\"].map(display);"
      ]
    },
    {
      "cell_type": "code",
      "execution_count": 46,
      "metadata": {
        "colab": {
          "base_uri": "https://localhost:8080/",
          "height": 89
        },
        "id": "fr-4MX7dH_5e",
        "outputId": "029cb39a-5e52-44af-ed35-9ec68523196b"
      },
      "outputs": [
        {
          "output_type": "display_data",
          "data": {
            "text/plain": [
              "''"
            ],
            "application/vnd.google.colaboratory.intrinsic+json": {
              "type": "string"
            }
          },
          "metadata": {}
        },
        {
          "output_type": "display_data",
          "data": {
            "text/plain": [
              "'So, from here, what do you plan to do with Lyo?'"
            ],
            "application/vnd.google.colaboratory.intrinsic+json": {
              "type": "string"
            }
          },
          "metadata": {}
        },
        {
          "output_type": "display_data",
          "data": {
            "text/plain": [
              "\"Well....that's a great question, and a lot of it comes down to how free I'll be left to play in the West, no?\""
            ],
            "application/vnd.google.colaboratory.intrinsic+json": {
              "type": "string"
            }
          },
          "metadata": {}
        },
        {
          "output_type": "display_data",
          "data": {
            "text/plain": [
              "'Great, what do you think of my proposal?'"
            ],
            "application/vnd.google.colaboratory.intrinsic+json": {
              "type": "string"
            }
          },
          "metadata": {}
        }
      ],
      "source": [
        "receiver_table[\"context\"].map(display);"
      ]
    },
    {
      "cell_type": "code",
      "source": [],
      "metadata": {
        "id": "eirV_pKUPr4y"
      },
      "execution_count": 46,
      "outputs": []
    },
    {
      "cell_type": "markdown",
      "source": [
        "# Context GRU\n",
        "\n"
      ],
      "metadata": {
        "id": "Ek7db_NqhR7J"
      }
    },
    {
      "cell_type": "code",
      "source": [
        "def create_context_gru_model(\n",
        "        sequence_length: int = MAX_SEQUENCE_LEN,\n",
        "        embedding_output: int = EMBEDDING_OUTPUT_SIZE,\n",
        "        vocab_size: int = VOCAB_SIZE,\n",
        "        gru_size: int = 1024,\n",
        "        dropout: float = DROPOUT_RATE,\n",
        "        hidden_size = HIDDEN_LAYER_SIZE,\n",
        "        learning_rate: float = 2e-5,\n",
        "    ):\n",
        "\n",
        "    # Inputs\n",
        "    current_message_input = keras.layers.Input(shape=(sequence_length,), dtype=tf.int64, name='current_message_input')\n",
        "    previous_message_input = keras.layers.Input(shape=(sequence_length,), dtype=tf.int64, name='previous_message_input')\n",
        "\n",
        "    # Embedding and GRU layers\n",
        "    current_message_gru = pipe(\n",
        "        current_message_input,\n",
        "        keras.layers.Embedding(vocab_size, embedding_output, input_length=sequence_length),\n",
        "        keras.layers.GRU(gru_size),\n",
        "        keras.layers.Dropout(dropout)\n",
        "    )\n",
        "\n",
        "    previous_message_gru = pipe(\n",
        "        previous_message_input,\n",
        "        keras.layers.Embedding(vocab_size, embedding_output, input_length=sequence_length),\n",
        "        keras.layers.GRU(gru_size),\n",
        "        keras.layers.Dropout(dropout)\n",
        "    )\n",
        "\n",
        "    # Concatenate GRU outputs\n",
        "    context_gru_output = pipe(\n",
        "        [\n",
        "            current_message_gru,\n",
        "            previous_message_gru\n",
        "        ],\n",
        "        keras.layers.Concatenate(),\n",
        "        keras.layers.Dense(hidden_size)\n",
        "    )\n",
        "\n",
        "    # Outputs\n",
        "    sender_output = keras.layers.Dense(1, activation='sigmoid', name=\"sender_output\")(context_gru_output)\n",
        "    receiver_output = keras.layers.Dense(1, activation='sigmoid', name=\"receiver_output\")(context_gru_output)\n",
        "\n",
        "    # Model\n",
        "    context_gru_model = keras.Model(\n",
        "        inputs=[current_message_input, previous_message_input],\n",
        "        outputs=[sender_output, receiver_output]\n",
        "    )\n",
        "\n",
        "    # Compile\n",
        "    context_gru_model.compile(\n",
        "        loss='binary_crossentropy',\n",
        "        optimizer=tf.keras.optimizers.Adam(learning_rate=learning_rate),\n",
        "        metrics=['AUC']\n",
        "    )\n",
        "\n",
        "    return context_gru_model\n"
      ],
      "metadata": {
        "id": "v1c8JuSqhVCb"
      },
      "execution_count": 49,
      "outputs": []
    },
    {
      "cell_type": "code",
      "source": [
        "context_gru_model = create_context_gru_model()\n",
        "context_gru_model.summary()\n",
        "\n",
        "context_gru_history = context_gru_model.fit(\n",
        "    [train_encoded_padded, train_prev_encoded_padded],\n",
        "    [train_df['sender_labels_encoded'], train_df['receiver_labels_encoded']],\n",
        "    validation_data=([validation_encoded_padded, validation_prev_encoded_padded], [validation_df['sender_labels_encoded'], validation_df['receiver_labels_encoded']]),\n",
        "    epochs=10\n",
        ")\n",
        "\n",
        "sender_threshold, receiver_threshold = EvaluateModel(context_gru_model, [test_encoded_padded, test_prev_encoded_padded], [test_df['sender_labels_encoded'], test_df['receiver_labels_encoded']], context_gru_history)\n"
      ],
      "metadata": {
        "colab": {
          "base_uri": "https://localhost:8080/",
          "height": 1000
        },
        "id": "GXhGx8KJhr6a",
        "outputId": "99061325-ea54-48a4-a6b0-559557cfbbb3"
      },
      "execution_count": 52,
      "outputs": [
        {
          "output_type": "stream",
          "name": "stdout",
          "text": [
            "Model: \"model_6\"\n",
            "__________________________________________________________________________________________________\n",
            " Layer (type)                Output Shape                 Param #   Connected to                  \n",
            "==================================================================================================\n",
            " current_message_input (Inp  [(None, 294)]                0         []                            \n",
            " utLayer)                                                                                         \n",
            "                                                                                                  \n",
            " previous_message_input (In  [(None, 294)]                0         []                            \n",
            " putLayer)                                                                                        \n",
            "                                                                                                  \n",
            " embedding_9 (Embedding)     (None, 294, 124)             620000    ['current_message_input[0][0]'\n",
            "                                                                    ]                             \n",
            "                                                                                                  \n",
            " embedding_10 (Embedding)    (None, 294, 124)             620000    ['previous_message_input[0][0]\n",
            "                                                                    ']                            \n",
            "                                                                                                  \n",
            " gru_2 (GRU)                 (None, 1024)                 3532800   ['embedding_9[0][0]']         \n",
            "                                                                                                  \n",
            " gru_3 (GRU)                 (None, 1024)                 3532800   ['embedding_10[0][0]']        \n",
            "                                                                                                  \n",
            " dropout_44 (Dropout)        (None, 1024)                 0         ['gru_2[0][0]']               \n",
            "                                                                                                  \n",
            " dropout_45 (Dropout)        (None, 1024)                 0         ['gru_3[0][0]']               \n",
            "                                                                                                  \n",
            " concatenate_4 (Concatenate  (None, 2048)                 0         ['dropout_44[0][0]',          \n",
            " )                                                                   'dropout_45[0][0]']          \n",
            "                                                                                                  \n",
            " dense_6 (Dense)             (None, 64)                   131136    ['concatenate_4[0][0]']       \n",
            "                                                                                                  \n",
            " sender_output (Dense)       (None, 1)                    65        ['dense_6[0][0]']             \n",
            "                                                                                                  \n",
            " receiver_output (Dense)     (None, 1)                    65        ['dense_6[0][0]']             \n",
            "                                                                                                  \n",
            "==================================================================================================\n",
            "Total params: 8436866 (32.18 MB)\n",
            "Trainable params: 8436866 (32.18 MB)\n",
            "Non-trainable params: 0 (0.00 Byte)\n",
            "__________________________________________________________________________________________________\n",
            "Epoch 1/10\n",
            "376/376 [==============================] - 51s 124ms/step - loss: 0.5420 - sender_output_loss: 0.2660 - receiver_output_loss: 0.2760 - sender_output_auc: 0.5574 - receiver_output_auc_1: 0.5156 - val_loss: 0.3241 - val_sender_output_loss: 0.1615 - val_receiver_output_loss: 0.1626 - val_sender_output_auc: 0.6133 - val_receiver_output_auc_1: 0.4559\n",
            "Epoch 2/10\n",
            "376/376 [==============================] - 35s 94ms/step - loss: 0.3746 - sender_output_loss: 0.1829 - receiver_output_loss: 0.1917 - sender_output_auc: 0.5835 - receiver_output_auc_1: 0.5296 - val_loss: 0.3303 - val_sender_output_loss: 0.1655 - val_receiver_output_loss: 0.1649 - val_sender_output_auc: 0.6240 - val_receiver_output_auc_1: 0.4707\n",
            "Epoch 3/10\n",
            "376/376 [==============================] - 34s 90ms/step - loss: 0.3712 - sender_output_loss: 0.1815 - receiver_output_loss: 0.1898 - sender_output_auc: 0.6033 - receiver_output_auc_1: 0.5506 - val_loss: 0.3233 - val_sender_output_loss: 0.1620 - val_receiver_output_loss: 0.1613 - val_sender_output_auc: 0.6273 - val_receiver_output_auc_1: 0.4898\n",
            "Epoch 4/10\n",
            "376/376 [==============================] - 33s 88ms/step - loss: 0.3695 - sender_output_loss: 0.1805 - receiver_output_loss: 0.1890 - sender_output_auc: 0.6266 - receiver_output_auc_1: 0.5583 - val_loss: 0.3202 - val_sender_output_loss: 0.1609 - val_receiver_output_loss: 0.1593 - val_sender_output_auc: 0.6388 - val_receiver_output_auc_1: 0.4950\n",
            "Epoch 5/10\n",
            "376/376 [==============================] - 34s 90ms/step - loss: 0.3674 - sender_output_loss: 0.1794 - receiver_output_loss: 0.1880 - sender_output_auc: 0.6377 - receiver_output_auc_1: 0.5829 - val_loss: 0.3199 - val_sender_output_loss: 0.1603 - val_receiver_output_loss: 0.1595 - val_sender_output_auc: 0.6400 - val_receiver_output_auc_1: 0.4994\n",
            "Epoch 6/10\n",
            "376/376 [==============================] - 33s 87ms/step - loss: 0.3628 - sender_output_loss: 0.1770 - receiver_output_loss: 0.1857 - sender_output_auc: 0.6732 - receiver_output_auc_1: 0.6154 - val_loss: 0.3209 - val_sender_output_loss: 0.1606 - val_receiver_output_loss: 0.1603 - val_sender_output_auc: 0.6386 - val_receiver_output_auc_1: 0.5013\n",
            "Epoch 7/10\n",
            "376/376 [==============================] - 33s 88ms/step - loss: 0.3561 - sender_output_loss: 0.1736 - receiver_output_loss: 0.1825 - sender_output_auc: 0.7127 - receiver_output_auc_1: 0.6677 - val_loss: 0.3191 - val_sender_output_loss: 0.1605 - val_receiver_output_loss: 0.1586 - val_sender_output_auc: 0.6468 - val_receiver_output_auc_1: 0.5155\n",
            "Epoch 8/10\n",
            "376/376 [==============================] - 33s 87ms/step - loss: 0.3495 - sender_output_loss: 0.1701 - receiver_output_loss: 0.1795 - sender_output_auc: 0.7440 - receiver_output_auc_1: 0.7016 - val_loss: 0.3266 - val_sender_output_loss: 0.1637 - val_receiver_output_loss: 0.1629 - val_sender_output_auc: 0.6339 - val_receiver_output_auc_1: 0.4978\n",
            "Epoch 9/10\n",
            "376/376 [==============================] - 33s 87ms/step - loss: 0.3392 - sender_output_loss: 0.1648 - receiver_output_loss: 0.1744 - sender_output_auc: 0.7790 - receiver_output_auc_1: 0.7487 - val_loss: 0.3213 - val_sender_output_loss: 0.1609 - val_receiver_output_loss: 0.1603 - val_sender_output_auc: 0.6298 - val_receiver_output_auc_1: 0.5150\n",
            "Epoch 10/10\n",
            "376/376 [==============================] - 32s 86ms/step - loss: 0.3224 - sender_output_loss: 0.1555 - receiver_output_loss: 0.1669 - sender_output_auc: 0.8194 - receiver_output_auc_1: 0.7944 - val_loss: 0.3276 - val_sender_output_loss: 0.1652 - val_receiver_output_loss: 0.1623 - val_sender_output_auc: 0.6004 - val_receiver_output_auc_1: 0.5220\n",
            "========== Model Accuracy ==========\n"
          ]
        },
        {
          "output_type": "display_data",
          "data": {
            "text/plain": [
              "<Figure size 640x480 with 1 Axes>"
            ],
            "image/png": "[encoded data removed]"
          },
          "metadata": {}
        },
        {
          "output_type": "stream",
          "name": "stdout",
          "text": [
            "========== Test Evaluation ==========\n",
            "78/78 - 2s - loss: 0.5593 - sender_output_loss: 0.3075 - receiver_output_loss: 0.2519 - sender_output_auc: 0.6096 - receiver_output_auc_1: 0.5916 - 2s/epoch - 31ms/step\n",
            "\n",
            "========== Test Metrics ==========\n",
            "78/78 [==============================] - 3s 28ms/step\n",
            "Best Threshold for Sender: 0.09 with F1 Score: 0.5708237198167693\n",
            "Best Threshold for Receiver: 0.08 with F1 Score: 0.5420444414540194\n",
            "\n",
            "---------- Sender Labels ----------\n",
            "              precision    recall  f1-score   support\n",
            "\n",
            "        True       0.93      0.95      0.94      2268\n",
            "       False       0.24      0.18      0.20       207\n",
            "\n",
            "    accuracy                           0.88      2475\n",
            "   macro avg       0.58      0.56      0.57      2475\n",
            "weighted avg       0.87      0.88      0.88      2475\n",
            "\n",
            "---------- Receiver Labels ----------\n",
            "              precision    recall  f1-score   support\n",
            "\n",
            "        True       0.94      0.92      0.93      2310\n",
            "       False       0.14      0.18      0.15       165\n",
            "\n",
            "    accuracy                           0.87      2475\n",
            "   macro avg       0.54      0.55      0.54      2475\n",
            "weighted avg       0.89      0.87      0.88      2475\n",
            "\n"
          ]
        }
      ]
    },
    {
      "cell_type": "markdown",
      "source": [
        "# Bi-Directional Context LSTM"
      ],
      "metadata": {
        "id": "xU_NwG5gJUhg"
      }
    },
    {
      "cell_type": "code",
      "source": [
        "def create_context_bilstm_model(\n",
        "        sequence_length: int = MAX_SEQUENCE_LEN,\n",
        "        embedding_output: int = EMBEDDING_OUTPUT_SIZE,\n",
        "        vocab_size: int = VOCAB_SIZE,\n",
        "        lstm_size: int = 1024,\n",
        "        dropout: float = 0.2,\n",
        "        hidden_size = HIDDEN_LAYER_SIZE,\n",
        "        learning_rate: float = 2e-5,\n",
        "    ):\n",
        "\n",
        "    # Inputs\n",
        "    current_message_input = keras.layers.Input(shape=(sequence_length,), dtype=tf.int64, name='current_message_input')\n",
        "    previous_message_input = keras.layers.Input(shape=(sequence_length,), dtype=tf.int64, name='previous_message_input')\n",
        "\n",
        "    # Embedding and Bi-LSTM layers\n",
        "    current_message_bilstm = pipe(\n",
        "        current_message_input,\n",
        "        keras.layers.Embedding(vocab_size, embedding_output, input_length=sequence_length),\n",
        "        keras.layers.Bidirectional(keras.layers.LSTM(lstm_size)),\n",
        "        keras.layers.Dropout(dropout)\n",
        "    )\n",
        "\n",
        "    previous_message_bilstm = pipe(\n",
        "        previous_message_input,\n",
        "        keras.layers.Embedding(vocab_size, embedding_output, input_length=sequence_length),\n",
        "        keras.layers.Bidirectional(keras.layers.LSTM(lstm_size)),\n",
        "        keras.layers.Dropout(dropout)\n",
        "    )\n",
        "\n",
        "    # Concatenate Bi-LSTM outputs\n",
        "    context_bilstm_output = pipe(\n",
        "        [\n",
        "            current_message_bilstm,\n",
        "            previous_message_bilstm\n",
        "        ],\n",
        "        keras.layers.Concatenate(),\n",
        "        keras.layers.Dense(hidden_size)\n",
        "    )\n",
        "\n",
        "    # Outputs\n",
        "    sender_output = keras.layers.Dense(1, activation='sigmoid', name=\"sender_output\")(context_bilstm_output)\n",
        "    receiver_output = keras.layers.Dense(1, activation='sigmoid', name=\"receiver_output\")(context_bilstm_output)\n",
        "\n",
        "    # Model\n",
        "    context_bilstm_model = keras.Model(\n",
        "        inputs=[current_message_input, previous_message_input],\n",
        "        outputs=[sender_output, receiver_output]\n",
        "    )\n",
        "\n",
        "    # Compile\n",
        "    context_bilstm_model.compile(\n",
        "        loss='binary_crossentropy',\n",
        "        optimizer=tf.keras.optimizers.Adam(learning_rate=learning_rate),\n",
        "        metrics=['AUC']\n",
        "    )\n",
        "\n",
        "    return context_bilstm_model\n"
      ],
      "metadata": {
        "id": "8T8eeOqzjH2G"
      },
      "execution_count": 56,
      "outputs": []
    },
    {
      "cell_type": "code",
      "source": [
        "context_bilstm_model = create_context_bilstm_model()\n",
        "context_bilstm_model.summary()\n",
        "\n",
        "context_bilstm_history = context_bilstm_model.fit(\n",
        "    [train_encoded_padded, train_prev_encoded_padded],\n",
        "    [train_df['sender_labels_encoded'], train_df['receiver_labels_encoded']],\n",
        "    validation_data=([validation_encoded_padded, validation_prev_encoded_padded], [validation_df['sender_labels_encoded'], validation_df['receiver_labels_encoded']]),\n",
        "    epochs=10\n",
        ")\n",
        "\n",
        "sender_threshold, receiver_threshold = EvaluateModel(context_bilstm_model, [test_encoded_padded, test_prev_encoded_padded], [test_df['sender_labels_encoded'], test_df['receiver_labels_encoded']], context_bilstm_history)\n"
      ],
      "metadata": {
        "colab": {
          "base_uri": "https://localhost:8080/",
          "height": 1000
        },
        "id": "dBJBiZwYjH4h",
        "outputId": "0507ab1c-ad6d-4fe5-95dc-c802691aec24"
      },
      "execution_count": 57,
      "outputs": [
        {
          "output_type": "stream",
          "name": "stdout",
          "text": [
            "Model: \"model_9\"\n",
            "__________________________________________________________________________________________________\n",
            " Layer (type)                Output Shape                 Param #   Connected to                  \n",
            "==================================================================================================\n",
            " current_message_input (Inp  [(None, 294)]                0         []                            \n",
            " utLayer)                                                                                         \n",
            "                                                                                                  \n",
            " previous_message_input (In  [(None, 294)]                0         []                            \n",
            " putLayer)                                                                                        \n",
            "                                                                                                  \n",
            " embedding_15 (Embedding)    (None, 294, 124)             620000    ['current_message_input[0][0]'\n",
            "                                                                    ]                             \n",
            "                                                                                                  \n",
            " embedding_16 (Embedding)    (None, 294, 124)             620000    ['previous_message_input[0][0]\n",
            "                                                                    ']                            \n",
            "                                                                                                  \n",
            " bidirectional_4 (Bidirecti  (None, 2048)                 9412608   ['embedding_15[0][0]']        \n",
            " onal)                                                                                            \n",
            "                                                                                                  \n",
            " bidirectional_5 (Bidirecti  (None, 2048)                 9412608   ['embedding_16[0][0]']        \n",
            " onal)                                                                                            \n",
            "                                                                                                  \n",
            " dropout_50 (Dropout)        (None, 2048)                 0         ['bidirectional_4[0][0]']     \n",
            "                                                                                                  \n",
            " dropout_51 (Dropout)        (None, 2048)                 0         ['bidirectional_5[0][0]']     \n",
            "                                                                                                  \n",
            " concatenate_7 (Concatenate  (None, 4096)                 0         ['dropout_50[0][0]',          \n",
            " )                                                                   'dropout_51[0][0]']          \n",
            "                                                                                                  \n",
            " dense_9 (Dense)             (None, 64)                   262208    ['concatenate_7[0][0]']       \n",
            "                                                                                                  \n",
            " sender_output (Dense)       (None, 1)                    65        ['dense_9[0][0]']             \n",
            "                                                                                                  \n",
            " receiver_output (Dense)     (None, 1)                    65        ['dense_9[0][0]']             \n",
            "                                                                                                  \n",
            "==================================================================================================\n",
            "Total params: 20327554 (77.54 MB)\n",
            "Trainable params: 20327554 (77.54 MB)\n",
            "Non-trainable params: 0 (0.00 Byte)\n",
            "__________________________________________________________________________________________________\n",
            "Epoch 1/10\n",
            "376/376 [==============================] - 87s 214ms/step - loss: 0.4587 - sender_output_loss: 0.2269 - receiver_output_loss: 0.2318 - sender_output_auc: 0.5497 - receiver_output_auc_1: 0.5216 - val_loss: 0.3288 - val_sender_output_loss: 0.1661 - val_receiver_output_loss: 0.1628 - val_sender_output_auc: 0.6234 - val_receiver_output_auc_1: 0.4504\n",
            "Epoch 2/10\n",
            "376/376 [==============================] - 71s 190ms/step - loss: 0.3743 - sender_output_loss: 0.1833 - receiver_output_loss: 0.1910 - sender_output_auc: 0.5711 - receiver_output_auc_1: 0.5182 - val_loss: 0.3254 - val_sender_output_loss: 0.1626 - val_receiver_output_loss: 0.1629 - val_sender_output_auc: 0.6384 - val_receiver_output_auc_1: 0.4444\n",
            "Epoch 3/10\n",
            "376/376 [==============================] - 70s 187ms/step - loss: 0.3742 - sender_output_loss: 0.1835 - receiver_output_loss: 0.1907 - sender_output_auc: 0.5666 - receiver_output_auc_1: 0.5257 - val_loss: 0.3231 - val_sender_output_loss: 0.1632 - val_receiver_output_loss: 0.1599 - val_sender_output_auc: 0.6394 - val_receiver_output_auc_1: 0.4556\n",
            "Epoch 4/10\n",
            "376/376 [==============================] - 70s 186ms/step - loss: 0.3729 - sender_output_loss: 0.1832 - receiver_output_loss: 0.1897 - sender_output_auc: 0.5749 - receiver_output_auc_1: 0.5472 - val_loss: 0.3323 - val_sender_output_loss: 0.1668 - val_receiver_output_loss: 0.1655 - val_sender_output_auc: 0.6519 - val_receiver_output_auc_1: 0.4635\n",
            "Epoch 5/10\n",
            "376/376 [==============================] - 70s 186ms/step - loss: 0.3713 - sender_output_loss: 0.1812 - receiver_output_loss: 0.1901 - sender_output_auc: 0.6065 - receiver_output_auc_1: 0.5466 - val_loss: 0.3195 - val_sender_output_loss: 0.1604 - val_receiver_output_loss: 0.1591 - val_sender_output_auc: 0.6513 - val_receiver_output_auc_1: 0.4854\n",
            "Epoch 6/10\n",
            "376/376 [==============================] - 70s 186ms/step - loss: 0.3697 - sender_output_loss: 0.1798 - receiver_output_loss: 0.1899 - sender_output_auc: 0.6270 - receiver_output_auc_1: 0.5448 - val_loss: 0.3194 - val_sender_output_loss: 0.1600 - val_receiver_output_loss: 0.1594 - val_sender_output_auc: 0.6589 - val_receiver_output_auc_1: 0.4808\n",
            "Epoch 7/10\n",
            "376/376 [==============================] - 70s 186ms/step - loss: 0.3683 - sender_output_loss: 0.1798 - receiver_output_loss: 0.1885 - sender_output_auc: 0.6231 - receiver_output_auc_1: 0.5741 - val_loss: 0.3226 - val_sender_output_loss: 0.1594 - val_receiver_output_loss: 0.1632 - val_sender_output_auc: 0.6593 - val_receiver_output_auc_1: 0.5094\n",
            "Epoch 8/10\n",
            "376/376 [==============================] - 70s 186ms/step - loss: 0.3613 - sender_output_loss: 0.1754 - receiver_output_loss: 0.1859 - sender_output_auc: 0.6652 - receiver_output_auc_1: 0.6166 - val_loss: 0.3180 - val_sender_output_loss: 0.1596 - val_receiver_output_loss: 0.1584 - val_sender_output_auc: 0.6577 - val_receiver_output_auc_1: 0.5206\n",
            "Epoch 9/10\n",
            "376/376 [==============================] - 69s 185ms/step - loss: 0.3690 - sender_output_loss: 0.1798 - receiver_output_loss: 0.1892 - sender_output_auc: 0.6500 - receiver_output_auc_1: 0.6361 - val_loss: 0.3196 - val_sender_output_loss: 0.1591 - val_receiver_output_loss: 0.1604 - val_sender_output_auc: 0.6537 - val_receiver_output_auc_1: 0.4997\n",
            "Epoch 10/10\n",
            "376/376 [==============================] - 69s 185ms/step - loss: 0.3560 - sender_output_loss: 0.1716 - receiver_output_loss: 0.1844 - sender_output_auc: 0.6911 - receiver_output_auc_1: 0.6336 - val_loss: 0.3198 - val_sender_output_loss: 0.1591 - val_receiver_output_loss: 0.1606 - val_sender_output_auc: 0.6561 - val_receiver_output_auc_1: 0.5044\n",
            "========== Model Accuracy ==========\n"
          ]
        },
        {
          "output_type": "display_data",
          "data": {
            "text/plain": [
              "<Figure size 640x480 with 1 Axes>"
            ],
            "image/png": "[encoded data removed]"
          },
          "metadata": {}
        },
        {
          "output_type": "stream",
          "name": "stdout",
          "text": [
            "========== Test Evaluation ==========\n",
            "78/78 - 5s - loss: 0.5261 - sender_output_loss: 0.2855 - receiver_output_loss: 0.2407 - sender_output_auc: 0.6686 - receiver_output_auc_1: 0.6271 - 5s/epoch - 68ms/step\n",
            "\n",
            "========== Test Metrics ==========\n",
            "78/78 [==============================] - 6s 66ms/step\n",
            "Best Threshold for Sender: 0.09 with F1 Score: 0.5760412147569268\n",
            "Best Threshold for Receiver: 0.08 with F1 Score: 0.5614085593703398\n",
            "\n",
            "---------- Sender Labels ----------\n",
            "              precision    recall  f1-score   support\n",
            "\n",
            "        True       0.93      0.95      0.94      2268\n",
            "       False       0.24      0.19      0.22       207\n",
            "\n",
            "    accuracy                           0.88      2475\n",
            "   macro avg       0.59      0.57      0.58      2475\n",
            "weighted avg       0.87      0.88      0.88      2475\n",
            "\n",
            "---------- Receiver Labels ----------\n",
            "              precision    recall  f1-score   support\n",
            "\n",
            "        True       0.94      0.94      0.94      2310\n",
            "       False       0.18      0.19      0.18       165\n",
            "\n",
            "    accuracy                           0.89      2475\n",
            "   macro avg       0.56      0.56      0.56      2475\n",
            "weighted avg       0.89      0.89      0.89      2475\n",
            "\n"
          ]
        }
      ]
    },
    {
      "cell_type": "markdown",
      "source": [
        "# Bi-Directional Context GRU"
      ],
      "metadata": {
        "id": "xfIE_wStJPDB"
      }
    },
    {
      "cell_type": "code",
      "source": [
        "def create_context_bigru_model(\n",
        "        sequence_length: int = MAX_SEQUENCE_LEN,\n",
        "        embedding_output: int = EMBEDDING_OUTPUT_SIZE,\n",
        "        vocab_size: int = VOCAB_SIZE,\n",
        "        gru_size: int = 1024,\n",
        "        dropout: float = DROPOUT_RATE,\n",
        "        hidden_size = HIDDEN_LAYER_SIZE,\n",
        "        learning_rate: float = 2e-5,\n",
        "    ):\n",
        "\n",
        "    # Inputs\n",
        "    current_message_input = keras.layers.Input(shape=(sequence_length,), dtype=tf.int64, name='current_message_input')\n",
        "    previous_message_input = keras.layers.Input(shape=(sequence_length,), dtype=tf.int64, name='previous_message_input')\n",
        "\n",
        "    # Embedding and Bi-GRU layers\n",
        "    current_message_bigru = pipe(\n",
        "        current_message_input,\n",
        "        keras.layers.Embedding(vocab_size, embedding_output, input_length=sequence_length),\n",
        "        keras.layers.Bidirectional(keras.layers.GRU(gru_size)),\n",
        "        keras.layers.Dropout(dropout)\n",
        "    )\n",
        "\n",
        "    previous_message_bigru = pipe(\n",
        "        previous_message_input,\n",
        "        keras.layers.Embedding(vocab_size, embedding_output, input_length=sequence_length),\n",
        "        keras.layers.Bidirectional(keras.layers.GRU(gru_size)),\n",
        "        keras.layers.Dropout(dropout)\n",
        "    )\n",
        "\n",
        "    # Concatenate Bi-GRU outputs\n",
        "    context_bigru_output = pipe(\n",
        "        [\n",
        "            current_message_bigru,\n",
        "            previous_message_bigru\n",
        "        ],\n",
        "        keras.layers.Concatenate(),\n",
        "        keras.layers.Dense(hidden_size)\n",
        "    )\n",
        "\n",
        "    # Outputs\n",
        "    sender_output = keras.layers.Dense(1, activation='sigmoid', name=\"sender_output\")(context_bigru_output)\n",
        "    receiver_output = keras.layers.Dense(1, activation='sigmoid', name=\"receiver_output\")(context_bigru_output)\n",
        "\n",
        "    # Model\n",
        "    context_bigru_model = keras.Model(\n",
        "        inputs=[current_message_input, previous_message_input],\n",
        "        outputs=[sender_output, receiver_output]\n",
        "    )\n",
        "\n",
        "    # Compile\n",
        "    context_bigru_model.compile(\n",
        "        loss='binary_crossentropy',\n",
        "        optimizer=tf.keras.optimizers.Adam(learning_rate=learning_rate),\n",
        "        metrics=['AUC']\n",
        "    )\n",
        "\n",
        "    return context_bigru_model\n"
      ],
      "metadata": {
        "id": "26-s6fQrjH7G"
      },
      "execution_count": 58,
      "outputs": []
    },
    {
      "cell_type": "code",
      "source": [
        "context_bigru_model = create_context_bigru_model()\n",
        "context_bigru_model.summary()\n",
        "\n",
        "context_bigru_history = context_bigru_model.fit(\n",
        "    [train_encoded_padded, train_prev_encoded_padded],\n",
        "    [train_df['sender_labels_encoded'], train_df['receiver_labels_encoded']],\n",
        "    validation_data=([validation_encoded_padded, validation_prev_encoded_padded], [validation_df['sender_labels_encoded'], validation_df['receiver_labels_encoded']]),\n",
        "    epochs=10\n",
        ")\n",
        "\n",
        "sender_threshold, receiver_threshold = EvaluateModel(context_bigru_model, [test_encoded_padded, test_prev_encoded_padded], [test_df['sender_labels_encoded'], test_df['receiver_labels_encoded']], context_bigru_history)\n"
      ],
      "metadata": {
        "colab": {
          "base_uri": "https://localhost:8080/",
          "height": 1000
        },
        "id": "jEXXdajAu8cC",
        "outputId": "0c9d80fa-e743-40e3-ac55-9608a0a34c4e"
      },
      "execution_count": 59,
      "outputs": [
        {
          "output_type": "stream",
          "name": "stdout",
          "text": [
            "Model: \"model_10\"\n",
            "__________________________________________________________________________________________________\n",
            " Layer (type)                Output Shape                 Param #   Connected to                  \n",
            "==================================================================================================\n",
            " current_message_input (Inp  [(None, 294)]                0         []                            \n",
            " utLayer)                                                                                         \n",
            "                                                                                                  \n",
            " previous_message_input (In  [(None, 294)]                0         []                            \n",
            " putLayer)                                                                                        \n",
            "                                                                                                  \n",
            " embedding_17 (Embedding)    (None, 294, 124)             620000    ['current_message_input[0][0]'\n",
            "                                                                    ]                             \n",
            "                                                                                                  \n",
            " embedding_18 (Embedding)    (None, 294, 124)             620000    ['previous_message_input[0][0]\n",
            "                                                                    ']                            \n",
            "                                                                                                  \n",
            " bidirectional_6 (Bidirecti  (None, 2048)                 7065600   ['embedding_17[0][0]']        \n",
            " onal)                                                                                            \n",
            "                                                                                                  \n",
            " bidirectional_7 (Bidirecti  (None, 2048)                 7065600   ['embedding_18[0][0]']        \n",
            " onal)                                                                                            \n",
            "                                                                                                  \n",
            " dropout_52 (Dropout)        (None, 2048)                 0         ['bidirectional_6[0][0]']     \n",
            "                                                                                                  \n",
            " dropout_53 (Dropout)        (None, 2048)                 0         ['bidirectional_7[0][0]']     \n",
            "                                                                                                  \n",
            " concatenate_8 (Concatenate  (None, 4096)                 0         ['dropout_52[0][0]',          \n",
            " )                                                                   'dropout_53[0][0]']          \n",
            "                                                                                                  \n",
            " dense_10 (Dense)            (None, 64)                   262208    ['concatenate_8[0][0]']       \n",
            "                                                                                                  \n",
            " sender_output (Dense)       (None, 1)                    65        ['dense_10[0][0]']            \n",
            "                                                                                                  \n",
            " receiver_output (Dense)     (None, 1)                    65        ['dense_10[0][0]']            \n",
            "                                                                                                  \n",
            "==================================================================================================\n",
            "Total params: 15633538 (59.64 MB)\n",
            "Trainable params: 15633538 (59.64 MB)\n",
            "Non-trainable params: 0 (0.00 Byte)\n",
            "__________________________________________________________________________________________________\n",
            "Epoch 1/10\n",
            "376/376 [==============================] - 83s 201ms/step - loss: 0.4950 - sender_output_loss: 0.2437 - receiver_output_loss: 0.2513 - sender_output_auc: 0.5553 - receiver_output_auc_1: 0.5117 - val_loss: 0.3468 - val_sender_output_loss: 0.1730 - val_receiver_output_loss: 0.1738 - val_sender_output_auc: 0.6104 - val_receiver_output_auc_1: 0.4556\n",
            "Epoch 2/10\n",
            "376/376 [==============================] - 65s 174ms/step - loss: 0.3741 - sender_output_loss: 0.1836 - receiver_output_loss: 0.1904 - sender_output_auc: 0.5708 - receiver_output_auc_1: 0.5379 - val_loss: 0.3254 - val_sender_output_loss: 0.1627 - val_receiver_output_loss: 0.1627 - val_sender_output_auc: 0.6243 - val_receiver_output_auc_1: 0.4597\n",
            "Epoch 3/10\n",
            "376/376 [==============================] - 64s 171ms/step - loss: 0.3709 - sender_output_loss: 0.1816 - receiver_output_loss: 0.1892 - sender_output_auc: 0.6042 - receiver_output_auc_1: 0.5544 - val_loss: 0.3248 - val_sender_output_loss: 0.1635 - val_receiver_output_loss: 0.1613 - val_sender_output_auc: 0.6319 - val_receiver_output_auc_1: 0.4553\n",
            "Epoch 4/10\n",
            "376/376 [==============================] - 63s 169ms/step - loss: 0.3707 - sender_output_loss: 0.1814 - receiver_output_loss: 0.1893 - sender_output_auc: 0.6109 - receiver_output_auc_1: 0.5535 - val_loss: 0.3223 - val_sender_output_loss: 0.1606 - val_receiver_output_loss: 0.1616 - val_sender_output_auc: 0.6417 - val_receiver_output_auc_1: 0.4767\n",
            "Epoch 5/10\n",
            "376/376 [==============================] - 63s 168ms/step - loss: 0.3674 - sender_output_loss: 0.1792 - receiver_output_loss: 0.1883 - sender_output_auc: 0.6480 - receiver_output_auc_1: 0.5750 - val_loss: 0.3204 - val_sender_output_loss: 0.1611 - val_receiver_output_loss: 0.1593 - val_sender_output_auc: 0.6306 - val_receiver_output_auc_1: 0.4912\n",
            "Epoch 6/10\n",
            "376/376 [==============================] - 63s 168ms/step - loss: 0.3633 - sender_output_loss: 0.1768 - receiver_output_loss: 0.1865 - sender_output_auc: 0.6722 - receiver_output_auc_1: 0.6034 - val_loss: 0.3198 - val_sender_output_loss: 0.1610 - val_receiver_output_loss: 0.1588 - val_sender_output_auc: 0.6359 - val_receiver_output_auc_1: 0.5128\n",
            "Epoch 7/10\n",
            "376/376 [==============================] - 63s 168ms/step - loss: 0.3553 - sender_output_loss: 0.1722 - receiver_output_loss: 0.1831 - sender_output_auc: 0.7095 - receiver_output_auc_1: 0.6572 - val_loss: 0.3551 - val_sender_output_loss: 0.1753 - val_receiver_output_loss: 0.1798 - val_sender_output_auc: 0.6132 - val_receiver_output_auc_1: 0.5244\n",
            "Epoch 8/10\n",
            "376/376 [==============================] - 63s 167ms/step - loss: 0.3416 - sender_output_loss: 0.1651 - receiver_output_loss: 0.1765 - sender_output_auc: 0.7561 - receiver_output_auc_1: 0.7232 - val_loss: 0.3449 - val_sender_output_loss: 0.1758 - val_receiver_output_loss: 0.1690 - val_sender_output_auc: 0.5945 - val_receiver_output_auc_1: 0.5442\n",
            "Epoch 9/10\n",
            "376/376 [==============================] - 63s 167ms/step - loss: 0.3208 - sender_output_loss: 0.1534 - receiver_output_loss: 0.1674 - sender_output_auc: 0.8116 - receiver_output_auc_1: 0.7847 - val_loss: 0.3362 - val_sender_output_loss: 0.1701 - val_receiver_output_loss: 0.1660 - val_sender_output_auc: 0.5793 - val_receiver_output_auc_1: 0.5401\n",
            "Epoch 10/10\n",
            "376/376 [==============================] - 63s 167ms/step - loss: 0.2992 - sender_output_loss: 0.1403 - receiver_output_loss: 0.1589 - sender_output_auc: 0.8600 - receiver_output_auc_1: 0.8186 - val_loss: 0.3471 - val_sender_output_loss: 0.1791 - val_receiver_output_loss: 0.1680 - val_sender_output_auc: 0.5674 - val_receiver_output_auc_1: 0.5398\n",
            "========== Model Accuracy ==========\n"
          ]
        },
        {
          "output_type": "display_data",
          "data": {
            "text/plain": [
              "<Figure size 640x480 with 1 Axes>"
            ],
            "image/png": "[encoded data removed]"
          },
          "metadata": {}
        },
        {
          "output_type": "stream",
          "name": "stdout",
          "text": [
            "========== Test Evaluation ==========\n",
            "78/78 - 5s - loss: 0.5852 - sender_output_loss: 0.3262 - receiver_output_loss: 0.2590 - sender_output_auc: 0.5865 - receiver_output_auc_1: 0.5694 - 5s/epoch - 59ms/step\n",
            "\n",
            "========== Test Metrics ==========\n",
            "78/78 [==============================] - 5s 56ms/step\n",
            "Best Threshold for Sender: 0.11 with F1 Score: 0.5723312916136809\n",
            "Best Threshold for Receiver: 0.1 with F1 Score: 0.5471014492753623\n",
            "\n",
            "---------- Sender Labels ----------\n",
            "              precision    recall  f1-score   support\n",
            "\n",
            "        True       0.93      0.94      0.94      2268\n",
            "       False       0.23      0.19      0.21       207\n",
            "\n",
            "    accuracy                           0.88      2475\n",
            "   macro avg       0.58      0.57      0.57      2475\n",
            "weighted avg       0.87      0.88      0.87      2475\n",
            "\n",
            "---------- Receiver Labels ----------\n",
            "              precision    recall  f1-score   support\n",
            "\n",
            "        True       0.94      0.91      0.93      2310\n",
            "       False       0.14      0.20      0.17       165\n",
            "\n",
            "    accuracy                           0.87      2475\n",
            "   macro avg       0.54      0.56      0.55      2475\n",
            "weighted avg       0.89      0.87      0.88      2475\n",
            "\n"
          ]
        }
      ]
    },
    {
      "cell_type": "markdown",
      "source": [
        "# Bi-Directional LSTM with CNN"
      ],
      "metadata": {
        "id": "Hq3ibEXAJFku"
      }
    },
    {
      "cell_type": "code",
      "source": [
        "def create_context_bilstm_cnn_model(\n",
        "        sequence_length: int = MAX_SEQUENCE_LEN,\n",
        "        embedding_output: int = EMBEDDING_OUTPUT_SIZE,\n",
        "        vocab_size: int = VOCAB_SIZE,\n",
        "        lstm_size: int = 1024,\n",
        "        dropout: float = 0.2,\n",
        "        hidden_size = HIDDEN_LAYER_SIZE,\n",
        "        learning_rate: float = 2e-5,\n",
        "        num_filters: int = 128,  # Number of filters for the convolutional layer\n",
        "        kernel_size: int = 5,    # Kernel size for the convolutional layer\n",
        "    ):\n",
        "\n",
        "    # Inputs\n",
        "    current_message_input = keras.layers.Input(shape=(sequence_length,), dtype=tf.int64, name='current_message_input')\n",
        "    previous_message_input = keras.layers.Input(shape=(sequence_length,), dtype=tf.int64, name='previous_message_input')\n",
        "\n",
        "    # Embedding layer\n",
        "    embedding = keras.layers.Embedding(vocab_size, embedding_output, input_length=sequence_length)\n",
        "\n",
        "    # Apply embedding layer to inputs\n",
        "    current_embed = embedding(current_message_input)\n",
        "    previous_embed = embedding(previous_message_input)\n",
        "\n",
        "    # CNN layers\n",
        "    current_cnn = keras.layers.Conv1D(num_filters, kernel_size, activation='relu')(current_embed)\n",
        "    current_cnn = keras.layers.MaxPooling1D()(current_cnn)\n",
        "\n",
        "    previous_cnn = keras.layers.Conv1D(num_filters, kernel_size, activation='relu')(previous_embed)\n",
        "    previous_cnn = keras.layers.MaxPooling1D()(previous_cnn)\n",
        "\n",
        "    # Bi-LSTM layers\n",
        "    current_bilstm = keras.layers.Bidirectional(keras.layers.LSTM(lstm_size))(current_cnn)\n",
        "    current_bilstm = keras.layers.Dropout(dropout)(current_bilstm)\n",
        "\n",
        "    previous_bilstm = keras.layers.Bidirectional(keras.layers.LSTM(lstm_size))(previous_cnn)\n",
        "    previous_bilstm = keras.layers.Dropout(dropout)(previous_bilstm)\n",
        "\n",
        "    # Concatenate Bi-LSTM outputs\n",
        "    context_bilstm_output = keras.layers.Concatenate()([current_bilstm, previous_bilstm])\n",
        "    context_bilstm_output = keras.layers.Dense(hidden_size)(context_bilstm_output)\n",
        "\n",
        "    # Outputs\n",
        "    sender_output = keras.layers.Dense(1, activation='sigmoid', name=\"sender_output\")(context_bilstm_output)\n",
        "    receiver_output = keras.layers.Dense(1, activation='sigmoid', name=\"receiver_output\")(context_bilstm_output)\n",
        "\n",
        "    # Model\n",
        "    context_bilstm_cnn_model = keras.Model(\n",
        "        inputs=[current_message_input, previous_message_input],\n",
        "        outputs=[sender_output, receiver_output]\n",
        "    )\n",
        "\n",
        "    # Compile\n",
        "    context_bilstm_cnn_model.compile(\n",
        "        loss='binary_crossentropy',\n",
        "        optimizer=tf.keras.optimizers.Adam(learning_rate=learning_rate),\n",
        "        metrics=['AUC']\n",
        "    )\n",
        "\n",
        "    return context_bilstm_cnn_model\n"
      ],
      "metadata": {
        "id": "IRybsx02zvuB"
      },
      "execution_count": 62,
      "outputs": []
    },
    {
      "cell_type": "code",
      "source": [
        "context_bilstm_cnn_model = create_context_bilstm_cnn_model()\n",
        "context_bilstm_cnn_model.summary()\n",
        "\n",
        "context_bilstm_cnn_history = context_bilstm_cnn_model.fit(\n",
        "    [train_encoded_padded, train_prev_encoded_padded],\n",
        "    [train_df['sender_labels_encoded'], train_df['receiver_labels_encoded']],\n",
        "    validation_data=([validation_encoded_padded, validation_prev_encoded_padded], [validation_df['sender_labels_encoded'], validation_df['receiver_labels_encoded']]),\n",
        "    epochs=10\n",
        ")\n",
        "\n",
        "sender_threshold, receiver_threshold = EvaluateModel(context_bilstm_cnn_model, [test_encoded_padded, test_prev_encoded_padded], [test_df['sender_labels_encoded'], test_df['receiver_labels_encoded']], context_bilstm_cnn_history)\n"
      ],
      "metadata": {
        "colab": {
          "base_uri": "https://localhost:8080/",
          "height": 1000
        },
        "id": "O_8oMXJNzvxT",
        "outputId": "0dd5d2ab-7a61-4725-f722-99d592202c41"
      },
      "execution_count": 63,
      "outputs": [
        {
          "output_type": "stream",
          "name": "stdout",
          "text": [
            "Model: \"model_11\"\n",
            "__________________________________________________________________________________________________\n",
            " Layer (type)                Output Shape                 Param #   Connected to                  \n",
            "==================================================================================================\n",
            " current_message_input (Inp  [(None, 294)]                0         []                            \n",
            " utLayer)                                                                                         \n",
            "                                                                                                  \n",
            " previous_message_input (In  [(None, 294)]                0         []                            \n",
            " putLayer)                                                                                        \n",
            "                                                                                                  \n",
            " embedding_20 (Embedding)    (None, 294, 124)             620000    ['current_message_input[0][0]'\n",
            "                                                                    , 'previous_message_input[0][0\n",
            "                                                                    ]']                           \n",
            "                                                                                                  \n",
            " conv1d_2 (Conv1D)           (None, 290, 128)             79488     ['embedding_20[0][0]']        \n",
            "                                                                                                  \n",
            " conv1d_3 (Conv1D)           (None, 290, 128)             79488     ['embedding_20[1][0]']        \n",
            "                                                                                                  \n",
            " max_pooling1d (MaxPooling1  (None, 145, 128)             0         ['conv1d_2[0][0]']            \n",
            " D)                                                                                               \n",
            "                                                                                                  \n",
            " max_pooling1d_1 (MaxPoolin  (None, 145, 128)             0         ['conv1d_3[0][0]']            \n",
            " g1D)                                                                                             \n",
            "                                                                                                  \n",
            " bidirectional_9 (Bidirecti  (None, 2048)                 9445376   ['max_pooling1d[0][0]']       \n",
            " onal)                                                                                            \n",
            "                                                                                                  \n",
            " bidirectional_10 (Bidirect  (None, 2048)                 9445376   ['max_pooling1d_1[0][0]']     \n",
            " ional)                                                                                           \n",
            "                                                                                                  \n",
            " dropout_54 (Dropout)        (None, 2048)                 0         ['bidirectional_9[0][0]']     \n",
            "                                                                                                  \n",
            " dropout_55 (Dropout)        (None, 2048)                 0         ['bidirectional_10[0][0]']    \n",
            "                                                                                                  \n",
            " concatenate_9 (Concatenate  (None, 4096)                 0         ['dropout_54[0][0]',          \n",
            " )                                                                   'dropout_55[0][0]']          \n",
            "                                                                                                  \n",
            " dense_11 (Dense)            (None, 64)                   262208    ['concatenate_9[0][0]']       \n",
            "                                                                                                  \n",
            " sender_output (Dense)       (None, 1)                    65        ['dense_11[0][0]']            \n",
            "                                                                                                  \n",
            " receiver_output (Dense)     (None, 1)                    65        ['dense_11[0][0]']            \n",
            "                                                                                                  \n",
            "==================================================================================================\n",
            "Total params: 19932066 (76.03 MB)\n",
            "Trainable params: 19932066 (76.03 MB)\n",
            "Non-trainable params: 0 (0.00 Byte)\n",
            "__________________________________________________________________________________________________\n",
            "Epoch 1/10\n",
            "376/376 [==============================] - 65s 143ms/step - loss: 0.4539 - sender_output_loss: 0.2263 - receiver_output_loss: 0.2276 - sender_output_auc: 0.5068 - receiver_output_auc_1: 0.4937 - val_loss: 0.3217 - val_sender_output_loss: 0.1633 - val_receiver_output_loss: 0.1584 - val_sender_output_auc: 0.5895 - val_receiver_output_auc_1: 0.4812\n",
            "Epoch 2/10\n",
            "376/376 [==============================] - 41s 108ms/step - loss: 0.3738 - sender_output_loss: 0.1836 - receiver_output_loss: 0.1903 - sender_output_auc: 0.5650 - receiver_output_auc_1: 0.5204 - val_loss: 0.3204 - val_sender_output_loss: 0.1616 - val_receiver_output_loss: 0.1588 - val_sender_output_auc: 0.6332 - val_receiver_output_auc_1: 0.4887\n",
            "Epoch 3/10\n",
            "376/376 [==============================] - 39s 104ms/step - loss: 0.3721 - sender_output_loss: 0.1818 - receiver_output_loss: 0.1903 - sender_output_auc: 0.5972 - receiver_output_auc_1: 0.5328 - val_loss: 0.3198 - val_sender_output_loss: 0.1610 - val_receiver_output_loss: 0.1588 - val_sender_output_auc: 0.6390 - val_receiver_output_auc_1: 0.4887\n",
            "Epoch 4/10\n",
            "376/376 [==============================] - 38s 101ms/step - loss: 0.3718 - sender_output_loss: 0.1815 - receiver_output_loss: 0.1903 - sender_output_auc: 0.6012 - receiver_output_auc_1: 0.5308 - val_loss: 0.3191 - val_sender_output_loss: 0.1609 - val_receiver_output_loss: 0.1582 - val_sender_output_auc: 0.6444 - val_receiver_output_auc_1: 0.4944\n",
            "Epoch 5/10\n",
            "376/376 [==============================] - 38s 100ms/step - loss: 0.3702 - sender_output_loss: 0.1807 - receiver_output_loss: 0.1896 - sender_output_auc: 0.6177 - receiver_output_auc_1: 0.5485 - val_loss: 0.3197 - val_sender_output_loss: 0.1598 - val_receiver_output_loss: 0.1599 - val_sender_output_auc: 0.6513 - val_receiver_output_auc_1: 0.5051\n",
            "Epoch 6/10\n",
            "376/376 [==============================] - 37s 100ms/step - loss: 0.3690 - sender_output_loss: 0.1803 - receiver_output_loss: 0.1887 - sender_output_auc: 0.6201 - receiver_output_auc_1: 0.5614 - val_loss: 0.3193 - val_sender_output_loss: 0.1605 - val_receiver_output_loss: 0.1588 - val_sender_output_auc: 0.6490 - val_receiver_output_auc_1: 0.5267\n",
            "Epoch 7/10\n",
            "376/376 [==============================] - 37s 99ms/step - loss: 0.3684 - sender_output_loss: 0.1793 - receiver_output_loss: 0.1891 - sender_output_auc: 0.6308 - receiver_output_auc_1: 0.5522 - val_loss: 0.3229 - val_sender_output_loss: 0.1590 - val_receiver_output_loss: 0.1638 - val_sender_output_auc: 0.6492 - val_receiver_output_auc_1: 0.5400\n",
            "Epoch 8/10\n",
            "376/376 [==============================] - 37s 99ms/step - loss: 0.3643 - sender_output_loss: 0.1773 - receiver_output_loss: 0.1870 - sender_output_auc: 0.6552 - receiver_output_auc_1: 0.5990 - val_loss: 0.3179 - val_sender_output_loss: 0.1589 - val_receiver_output_loss: 0.1590 - val_sender_output_auc: 0.6547 - val_receiver_output_auc_1: 0.5288\n",
            "Epoch 9/10\n",
            "376/376 [==============================] - 38s 100ms/step - loss: 0.3600 - sender_output_loss: 0.1748 - receiver_output_loss: 0.1852 - sender_output_auc: 0.6689 - receiver_output_auc_1: 0.6269 - val_loss: 0.3170 - val_sender_output_loss: 0.1585 - val_receiver_output_loss: 0.1585 - val_sender_output_auc: 0.6531 - val_receiver_output_auc_1: 0.5615\n",
            "Epoch 10/10\n",
            "376/376 [==============================] - 38s 100ms/step - loss: 0.3489 - sender_output_loss: 0.1677 - receiver_output_loss: 0.1812 - sender_output_auc: 0.7192 - receiver_output_auc_1: 0.6749 - val_loss: 0.3161 - val_sender_output_loss: 0.1591 - val_receiver_output_loss: 0.1570 - val_sender_output_auc: 0.6541 - val_receiver_output_auc_1: 0.5659\n",
            "========== Model Accuracy ==========\n"
          ]
        },
        {
          "output_type": "display_data",
          "data": {
            "text/plain": [
              "<Figure size 640x480 with 1 Axes>"
            ],
            "image/png": "[encoded data removed]"
          },
          "metadata": {}
        },
        {
          "output_type": "stream",
          "name": "stdout",
          "text": [
            "========== Test Evaluation ==========\n",
            "78/78 - 3s - loss: 0.5364 - sender_output_loss: 0.2946 - receiver_output_loss: 0.2417 - sender_output_auc: 0.6615 - receiver_output_auc_1: 0.6405 - 3s/epoch - 36ms/step\n",
            "\n",
            "========== Test Metrics ==========\n",
            "78/78 [==============================] - 4s 34ms/step\n",
            "Best Threshold for Sender: 0.08 with F1 Score: 0.5764576457645765\n",
            "Best Threshold for Receiver: 0.07 with F1 Score: 0.5487551954510597\n",
            "\n",
            "---------- Sender Labels ----------\n",
            "              precision    recall  f1-score   support\n",
            "\n",
            "        True       0.93      0.93      0.93      2268\n",
            "       False       0.23      0.22      0.22       207\n",
            "\n",
            "    accuracy                           0.87      2475\n",
            "   macro avg       0.58      0.57      0.58      2475\n",
            "weighted avg       0.87      0.87      0.87      2475\n",
            "\n",
            "---------- Receiver Labels ----------\n",
            "              precision    recall  f1-score   support\n",
            "\n",
            "        True       0.94      0.92      0.93      2310\n",
            "       False       0.15      0.20      0.17       165\n",
            "\n",
            "    accuracy                           0.87      2475\n",
            "   macro avg       0.54      0.56      0.55      2475\n",
            "weighted avg       0.89      0.87      0.88      2475\n",
            "\n"
          ]
        }
      ]
    },
    {
      "cell_type": "code",
      "source": [],
      "metadata": {
        "id": "VgRw2iz-zv0x"
      },
      "execution_count": null,
      "outputs": []
    },
    {
      "cell_type": "code",
      "source": [
        "tokenizer = keras.preprocessing.text.Tokenizer(num_words=VOCAB_SIZE, oov_token=\"<OOV>\")\n",
        "tokenizer.fit_on_texts(train_df['messages'])\n",
        "\n",
        "train_encoded_padded, train_prev_encoded_padded = Tokenize(tokenizer, train_df, MAX_SEQUENCE_LEN)\n",
        "test_encoded_padded, test_prev_encoded_padded = Tokenize(tokenizer, test_df, MAX_SEQUENCE_LEN)\n",
        "validation_encoded_padded, validation_prev_encoded_padded = Tokenize(tokenizer, validation_df, MAX_SEQUENCE_LEN)"
      ],
      "metadata": {
        "id": "3NJKZxjMKJ5q"
      },
      "execution_count": null,
      "outputs": []
    },
    {
      "cell_type": "code",
      "source": [
        "from tokenizers import ByteLevelBPETokenizer\n",
        "\n",
        "# Initialize a tokenizer\n",
        "bpe_tokenizer = ByteLevelBPETokenizer()\n",
        "\n",
        "# Get a list of all messages\n",
        "all_messages = train_df['messages'].tolist() + test_df['messages'].tolist() + validation_df['messages'].tolist()\n",
        "\n",
        "# Train the tokenizer\n",
        "bpe_tokenizer.train_from_iterator(all_messages, vocab_size=VOCAB_SIZE)\n",
        "\n",
        "def bpe_tokenize_and_pad(tokenizer, df, max_length):\n",
        "    input_ids = []\n",
        "\n",
        "    for sent in df['messages']:\n",
        "        encoded = tokenizer.encode(sent)\n",
        "        # Padding and truncating\n",
        "        padding_length = max_length - len(encoded.ids)\n",
        "        ids = encoded.ids + [0] * padding_length if padding_length > 0 else encoded.ids[:max_length]\n",
        "        input_ids.append(ids)\n",
        "\n",
        "    return tf.convert_to_tensor(input_ids)\n",
        "\n",
        "train_encoded_padded = bpe_tokenize_and_pad(bpe_tokenizer, train_df, MAX_SEQUENCE_LEN)\n",
        "test_encoded_padded = bpe_tokenize_and_pad(bpe_tokenizer, test_df, MAX_SEQUENCE_LEN)\n",
        "validation_encoded_padded = bpe_tokenize_and_pad(bpe_tokenizer, validation_df, MAX_SEQUENCE_LEN)\n"
      ],
      "metadata": {
        "id": "mKucmwJmKJ_e"
      },
      "execution_count": 17,
      "outputs": []
    },
    {
      "cell_type": "code",
      "source": [
        "def create_context_bilstm_model_bpe(\n",
        "        sequence_length: int = MAX_SEQUENCE_LEN,\n",
        "        embedding_output: int = EMBEDDING_OUTPUT_SIZE,\n",
        "        vocab_size: int = VOCAB_SIZE,\n",
        "        lstm_size: int = 1024,\n",
        "        dropout: float = 0.1,\n",
        "        hidden_size = HIDDEN_LAYER_SIZE,\n",
        "        learning_rate: float = 2e-5,\n",
        "    ):\n",
        "\n",
        "    # Inputs\n",
        "    current_message_input_bpe = keras.layers.Input(shape=(sequence_length,), dtype=tf.int64, name='current_message_input')\n",
        "    previous_message_input_bpe = keras.layers.Input(shape=(sequence_length,), dtype=tf.int64, name='previous_message_input')\n",
        "\n",
        "    # Embedding and Bi-LSTM layers\n",
        "    current_message_bilstm_bpe = pipe(\n",
        "        current_message_input_bpe,\n",
        "        keras.layers.Embedding(vocab_size, embedding_output, input_length=sequence_length),\n",
        "        keras.layers.Bidirectional(keras.layers.LSTM(lstm_size)),\n",
        "        keras.layers.Dropout(dropout)\n",
        "    )\n",
        "\n",
        "    previous_message_bilstm_bpe = pipe(\n",
        "        previous_message_input_bpe,\n",
        "        keras.layers.Embedding(vocab_size, embedding_output, input_length=sequence_length),\n",
        "        keras.layers.Bidirectional(keras.layers.LSTM(lstm_size)),\n",
        "        keras.layers.Dropout(dropout)\n",
        "    )\n",
        "\n",
        "    # Concatenate Bi-LSTM outputs\n",
        "    context_bilstm_output = pipe(\n",
        "        [\n",
        "            current_message_bilstm_bpe,\n",
        "            previous_message_bilstm_bpe\n",
        "        ],\n",
        "        keras.layers.Concatenate(),\n",
        "        keras.layers.Dense(hidden_size)\n",
        "    )\n",
        "\n",
        "    # Outputs\n",
        "    sender_output = keras.layers.Dense(1, activation='sigmoid', name=\"sender_output\")(context_bilstm_output)\n",
        "    receiver_output = keras.layers.Dense(1, activation='sigmoid', name=\"receiver_output\")(context_bilstm_output)\n",
        "\n",
        "    # Model\n",
        "    context_bilstm_model_bpe = keras.Model(\n",
        "        inputs=[current_message_input_bpe, previous_message_input_bpe],\n",
        "        outputs=[sender_output, receiver_output]\n",
        "    )\n",
        "\n",
        "    # Compile\n",
        "    context_bilstm_model_bpe.compile(\n",
        "        loss='binary_crossentropy',\n",
        "        optimizer=tf.keras.optimizers.Adam(learning_rate=learning_rate),\n",
        "        metrics=['AUC']\n",
        "    )\n",
        "\n",
        "    return context_bilstm_model_bpe\n"
      ],
      "metadata": {
        "id": "CKgI6EDsJEPp"
      },
      "execution_count": 26,
      "outputs": []
    },
    {
      "cell_type": "code",
      "source": [
        "context_bilstm_model_bpe = create_context_bilstm_model_bpe()\n",
        "context_bilstm_model_bpe.summary()\n",
        "\n",
        "context_bilstm_history_bpe = context_bilstm_model_bpe.fit(\n",
        "    [train_encoded_padded, train_prev_encoded_padded],\n",
        "    [train_df['sender_labels_encoded'], train_df['receiver_labels_encoded']],\n",
        "    validation_data=([validation_encoded_padded, validation_prev_encoded_padded], [validation_df['sender_labels_encoded'], validation_df['receiver_labels_encoded']]),\n",
        "    epochs=10\n",
        ")\n",
        "\n",
        "sender_threshold, receiver_threshold = EvaluateModel(context_bilstm_model_bpe, [test_encoded_padded, test_prev_encoded_padded], [test_df['sender_labels_encoded'], test_df['receiver_labels_encoded']], context_bilstm_history_bpe)\n"
      ],
      "metadata": {
        "colab": {
          "base_uri": "https://localhost:8080/",
          "height": 1000
        },
        "id": "8oZcqi3dMQ8m",
        "outputId": "40d55d51-0ce6-4af1-faf6-597f7dd760aa"
      },
      "execution_count": 27,
      "outputs": [
        {
          "output_type": "stream",
          "name": "stdout",
          "text": [
            "Model: \"model_1\"\n",
            "__________________________________________________________________________________________________\n",
            " Layer (type)                Output Shape                 Param #   Connected to                  \n",
            "==================================================================================================\n",
            " current_message_input (Inp  [(None, 294)]                0         []                            \n",
            " utLayer)                                                                                         \n",
            "                                                                                                  \n",
            " previous_message_input (In  [(None, 294)]                0         []                            \n",
            " putLayer)                                                                                        \n",
            "                                                                                                  \n",
            " embedding_4 (Embedding)     (None, 294, 124)             620000    ['current_message_input[0][0]'\n",
            "                                                                    ]                             \n",
            "                                                                                                  \n",
            " embedding_5 (Embedding)     (None, 294, 124)             620000    ['previous_message_input[0][0]\n",
            "                                                                    ']                            \n",
            "                                                                                                  \n",
            " bidirectional_4 (Bidirecti  (None, 2048)                 9412608   ['embedding_4[0][0]']         \n",
            " onal)                                                                                            \n",
            "                                                                                                  \n",
            " bidirectional_5 (Bidirecti  (None, 2048)                 9412608   ['embedding_5[0][0]']         \n",
            " onal)                                                                                            \n",
            "                                                                                                  \n",
            " dropout_4 (Dropout)         (None, 2048)                 0         ['bidirectional_4[0][0]']     \n",
            "                                                                                                  \n",
            " dropout_5 (Dropout)         (None, 2048)                 0         ['bidirectional_5[0][0]']     \n",
            "                                                                                                  \n",
            " concatenate_2 (Concatenate  (None, 4096)                 0         ['dropout_4[0][0]',           \n",
            " )                                                                   'dropout_5[0][0]']           \n",
            "                                                                                                  \n",
            " dense_2 (Dense)             (None, 64)                   262208    ['concatenate_2[0][0]']       \n",
            "                                                                                                  \n",
            " sender_output (Dense)       (None, 1)                    65        ['dense_2[0][0]']             \n",
            "                                                                                                  \n",
            " receiver_output (Dense)     (None, 1)                    65        ['dense_2[0][0]']             \n",
            "                                                                                                  \n",
            "==================================================================================================\n",
            "Total params: 20327554 (77.54 MB)\n",
            "Trainable params: 20327554 (77.54 MB)\n",
            "Non-trainable params: 0 (0.00 Byte)\n",
            "__________________________________________________________________________________________________\n",
            "Epoch 1/10\n",
            "376/376 [==============================] - 90s 219ms/step - loss: 0.4537 - sender_output_loss: 0.2239 - receiver_output_loss: 0.2298 - sender_output_auc: 0.5542 - receiver_output_auc_1: 0.5168 - val_loss: 0.3229 - val_sender_output_loss: 0.1621 - val_receiver_output_loss: 0.1608 - val_sender_output_auc: 0.6140 - val_receiver_output_auc_1: 0.4489\n",
            "Epoch 2/10\n",
            "376/376 [==============================] - 73s 194ms/step - loss: 0.3741 - sender_output_loss: 0.1822 - receiver_output_loss: 0.1919 - sender_output_auc: 0.5980 - receiver_output_auc_1: 0.5230 - val_loss: 0.3356 - val_sender_output_loss: 0.1695 - val_receiver_output_loss: 0.1661 - val_sender_output_auc: 0.6303 - val_receiver_output_auc_1: 0.4607\n",
            "Epoch 3/10\n",
            "376/376 [==============================] - 71s 188ms/step - loss: 0.3748 - sender_output_loss: 0.1831 - receiver_output_loss: 0.1917 - sender_output_auc: 0.5856 - receiver_output_auc_1: 0.5193 - val_loss: 0.3221 - val_sender_output_loss: 0.1608 - val_receiver_output_loss: 0.1613 - val_sender_output_auc: 0.6370 - val_receiver_output_auc_1: 0.4960\n",
            "Epoch 4/10\n",
            "376/376 [==============================] - 70s 187ms/step - loss: 0.3711 - sender_output_loss: 0.1806 - receiver_output_loss: 0.1905 - sender_output_auc: 0.6214 - receiver_output_auc_1: 0.5283 - val_loss: 0.3188 - val_sender_output_loss: 0.1600 - val_receiver_output_loss: 0.1587 - val_sender_output_auc: 0.6489 - val_receiver_output_auc_1: 0.5028\n",
            "Epoch 5/10\n",
            "376/376 [==============================] - 70s 187ms/step - loss: 0.3690 - sender_output_loss: 0.1796 - receiver_output_loss: 0.1894 - sender_output_auc: 0.6338 - receiver_output_auc_1: 0.5492 - val_loss: 0.3194 - val_sender_output_loss: 0.1604 - val_receiver_output_loss: 0.1590 - val_sender_output_auc: 0.6549 - val_receiver_output_auc_1: 0.5095\n",
            "Epoch 6/10\n",
            "376/376 [==============================] - 70s 186ms/step - loss: 0.3671 - sender_output_loss: 0.1780 - receiver_output_loss: 0.1891 - sender_output_auc: 0.6458 - receiver_output_auc_1: 0.5622 - val_loss: 0.3221 - val_sender_output_loss: 0.1622 - val_receiver_output_loss: 0.1599 - val_sender_output_auc: 0.6656 - val_receiver_output_auc_1: 0.5252\n",
            "Epoch 7/10\n",
            "376/376 [==============================] - 70s 186ms/step - loss: 0.3617 - sender_output_loss: 0.1741 - receiver_output_loss: 0.1876 - sender_output_auc: 0.6764 - receiver_output_auc_1: 0.5859 - val_loss: 0.3180 - val_sender_output_loss: 0.1589 - val_receiver_output_loss: 0.1591 - val_sender_output_auc: 0.6638 - val_receiver_output_auc_1: 0.5327\n",
            "Epoch 8/10\n",
            "376/376 [==============================] - 70s 185ms/step - loss: 0.3582 - sender_output_loss: 0.1721 - receiver_output_loss: 0.1861 - sender_output_auc: 0.6937 - receiver_output_auc_1: 0.6269 - val_loss: 0.3216 - val_sender_output_loss: 0.1609 - val_receiver_output_loss: 0.1607 - val_sender_output_auc: 0.6558 - val_receiver_output_auc_1: 0.5180\n",
            "Epoch 9/10\n",
            "376/376 [==============================] - 70s 186ms/step - loss: 0.3519 - sender_output_loss: 0.1688 - receiver_output_loss: 0.1831 - sender_output_auc: 0.7108 - receiver_output_auc_1: 0.6547 - val_loss: 0.3179 - val_sender_output_loss: 0.1590 - val_receiver_output_loss: 0.1589 - val_sender_output_auc: 0.6565 - val_receiver_output_auc_1: 0.5348\n",
            "Epoch 10/10\n",
            "376/376 [==============================] - 69s 185ms/step - loss: 0.3407 - sender_output_loss: 0.1622 - receiver_output_loss: 0.1785 - sender_output_auc: 0.7765 - receiver_output_auc_1: 0.7160 - val_loss: 0.3187 - val_sender_output_loss: 0.1599 - val_receiver_output_loss: 0.1587 - val_sender_output_auc: 0.6547 - val_receiver_output_auc_1: 0.5848\n",
            "========== Model Accuracy ==========\n"
          ]
        },
        {
          "output_type": "display_data",
          "data": {
            "text/plain": [
              "<Figure size 640x480 with 1 Axes>"
            ],
            "image/png": "[encoded data removed]"
          },
          "metadata": {}
        },
        {
          "output_type": "stream",
          "name": "stdout",
          "text": [
            "========== Test Evaluation ==========\n",
            "78/78 - 5s - loss: 0.5352 - sender_output_loss: 0.2876 - receiver_output_loss: 0.2476 - sender_output_auc: 0.6576 - receiver_output_auc_1: 0.5775 - 5s/epoch - 68ms/step\n",
            "\n",
            "========== Test Metrics ==========\n",
            "78/78 [==============================] - 6s 66ms/step\n",
            "Best Threshold for Sender: 0.09 with F1 Score: 0.5735566109406526\n",
            "Best Threshold for Receiver: 0.08 with F1 Score: 0.5265683221887602\n",
            "\n",
            "---------- Sender Labels ----------\n",
            "              precision    recall  f1-score   support\n",
            "\n",
            "        True       0.93      0.90      0.92      2268\n",
            "       False       0.20      0.27      0.23       207\n",
            "\n",
            "    accuracy                           0.85      2475\n",
            "   macro avg       0.57      0.59      0.57      2475\n",
            "weighted avg       0.87      0.85      0.86      2475\n",
            "\n",
            "---------- Receiver Labels ----------\n",
            "              precision    recall  f1-score   support\n",
            "\n",
            "        True       0.94      0.90      0.92      2310\n",
            "       False       0.11      0.18      0.14       165\n",
            "\n",
            "    accuracy                           0.85      2475\n",
            "   macro avg       0.52      0.54      0.53      2475\n",
            "weighted avg       0.88      0.85      0.87      2475\n",
            "\n"
          ]
        }
      ]
    },
    {
      "cell_type": "markdown",
      "source": [
        "# Bi-LSTM with SpaCy linguistic features"
      ],
      "metadata": {
        "id": "dk17vFI7Ww3p"
      }
    },
    {
      "cell_type": "code",
      "source": [
        "# Load SpaCy model\n",
        "import spacy\n",
        "nlp = spacy.load('en_core_web_sm')\n",
        "\n",
        "def extract_features(text):\n",
        "    doc = nlp(text)\n",
        "    features = {\n",
        "        \"pos_tags\": [token.pos_ for token in doc],\n",
        "        \"ner_tags\": [ent.label_ for ent in doc.ents],\n",
        "        # Add more features as needed\n",
        "    }\n",
        "    return features\n"
      ],
      "metadata": {
        "id": "JiO3piHvMQ_U"
      },
      "execution_count": 29,
      "outputs": []
    },
    {
      "cell_type": "code",
      "source": [
        "import spacy\n",
        "import numpy as np\n",
        "import tensorflow as tf\n",
        "from tensorflow.keras.preprocessing.sequence import pad_sequences\n",
        "from tensorflow.keras import layers, models\n",
        "\n",
        "# Load SpaCy model for English\n",
        "nlp = spacy.load(\"en_core_web_sm\")\n",
        "\n",
        "def extract_pos_tags(texts, max_len):\n",
        "    pos_tags = []\n",
        "    for doc in nlp.pipe(texts):\n",
        "        tags = [token.pos_ for token in doc]\n",
        "        pos_tags.append(tags)\n",
        "    pos_tag_index = {tag: i + 1 for i, tag in enumerate(set(tag for tags in pos_tags for tag in tags))}\n",
        "    encoded_tags = [[pos_tag_index[tag] for tag in tags] for tags in pos_tags]\n",
        "    padded_tags = pad_sequences(encoded_tags, maxlen=max_len, padding='post')\n",
        "    return np.array(padded_tags)\n",
        "\n",
        "def create_context_bilstm_model_spacy(\n",
        "        sequence_length,\n",
        "        embedding_output,\n",
        "        vocab_size,\n",
        "        lstm_size,\n",
        "        dropout,\n",
        "        hidden_size,\n",
        "        learning_rate,\n",
        "        linguistic_feature_size):\n",
        "\n",
        "    current_message_input = layers.Input(shape=(sequence_length,), dtype=tf.int64, name='current_message_input')\n",
        "    previous_message_input = layers.Input(shape=(sequence_length,), dtype=tf.int64, name='previous_message_input')\n",
        "    current_linguistic_input = layers.Input(shape=(linguistic_feature_size,), name='current_linguistic_input')\n",
        "    previous_linguistic_input = layers.Input(shape=(linguistic_feature_size,), name='previous_linguistic_input')\n",
        "\n",
        "    embedding = layers.Embedding(vocab_size, embedding_output, input_length=sequence_length)\n",
        "    current_embed = embedding(current_message_input)\n",
        "    previous_embed = embedding(previous_message_input)\n",
        "\n",
        "    def bi_lstm_layer(input_layer):\n",
        "        return layers.Bidirectional(layers.LSTM(lstm_size))(input_layer)\n",
        "\n",
        "    current_message_bilstm = bi_lstm_layer(current_embed)\n",
        "    previous_message_bilstm = bi_lstm_layer(previous_embed)\n",
        "\n",
        "    current_combined = layers.Concatenate()([current_message_bilstm, current_linguistic_input])\n",
        "    previous_combined = layers.Concatenate()([previous_message_bilstm, previous_linguistic_input])\n",
        "\n",
        "    context_bilstm_output = layers.Concatenate()([current_combined, previous_combined])\n",
        "    context_bilstm_output = layers.Dense(hidden_size)(context_bilstm_output)\n",
        "\n",
        "    sender_output = layers.Dense(1, activation='sigmoid', name=\"sender_output\")(context_bilstm_output)\n",
        "    receiver_output = layers.Dense(1, activation='sigmoid', name=\"receiver_output\")(context_bilstm_output)\n",
        "\n",
        "    context_bilstm_model_spacy = models.Model(\n",
        "        inputs=[current_message_input, previous_message_input, current_linguistic_input, previous_linguistic_input],\n",
        "        outputs=[sender_output, receiver_output]\n",
        "    )\n",
        "\n",
        "    context_bilstm_model_spacy.compile(\n",
        "        loss='binary_crossentropy',\n",
        "        optimizer=tf.keras.optimizers.Adam(learning_rate=learning_rate),\n",
        "        metrics=['AUC']\n",
        "    )\n",
        "\n",
        "    return context_bilstm_model_spacy\n",
        "\n",
        "# Extract POS tags from datasets\n",
        "train_pos_tags = extract_pos_tags(train_df['messages'], MAX_SEQUENCE_LEN)\n",
        "test_pos_tags = extract_pos_tags(test_df['messages'], MAX_SEQUENCE_LEN)\n",
        "validation_pos_tags = extract_pos_tags(validation_df['messages'], MAX_SEQUENCE_LEN)\n",
        "\n",
        "# Create and compile the model\n",
        "context_bilstm_model_spacy = create_context_bilstm_model_spacy(\n",
        "    sequence_length=294,\n",
        "    embedding_output=EMBEDDING_OUTPUT_SIZE,\n",
        "    vocab_size=VOCAB_SIZE,\n",
        "    lstm_size=1024,\n",
        "    dropout=0.25,\n",
        "    hidden_size=1000,\n",
        "    learning_rate=3e-5,\n",
        "    linguistic_feature_size=train_pos_tags.shape[1]\n",
        ")\n",
        "\n",
        "# Model summary\n",
        "context_bilstm_model_spacy.summary()\n",
        "\n",
        "# Train the model\n",
        "context_bilstm_history_spacy = context_bilstm_model_spacy.fit(\n",
        "    [train_encoded_padded, train_prev_encoded_padded, train_pos_tags, train_pos_tags],\n",
        "    [train_df['sender_labels_encoded'], train_df['receiver_labels_encoded']],\n",
        "    validation_data=([validation_encoded_padded, validation_prev_encoded_padded, validation_pos_tags, validation_pos_tags],\n",
        "                     [validation_df['sender_labels_encoded'], validation_df['receiver_labels_encoded']]),\n",
        "    epochs=10\n",
        ")\n",
        "\n",
        "# Assuming EvaluateModel is a custom function that you have defined for model evaluation\n",
        "sender_threshold, receiver_threshold = EvaluateModel(\n",
        "    context_bilstm_model_spacy,\n",
        "    [test_encoded_padded, test_prev_encoded_padded, test_pos_tags, test_pos_tags],\n",
        "    [test_df['sender_labels_encoded'], test_df['receiver_labels_encoded']],\n",
        "    context_bilstm_history_spacy\n",
        ")\n"
      ],
      "metadata": {
        "colab": {
          "base_uri": "https://localhost:8080/",
          "height": 1000
        },
        "id": "EXUKXK5xWaKP",
        "outputId": "4cc60c21-149c-4af9-8230-1d256e49a93c"
      },
      "execution_count": 36,
      "outputs": [
        {
          "output_type": "stream",
          "name": "stdout",
          "text": [
            "Model: \"model_6\"\n",
            "__________________________________________________________________________________________________\n",
            " Layer (type)                Output Shape                 Param #   Connected to                  \n",
            "==================================================================================================\n",
            " current_message_input (Inp  [(None, 294)]                0         []                            \n",
            " utLayer)                                                                                         \n",
            "                                                                                                  \n",
            " previous_message_input (In  [(None, 294)]                0         []                            \n",
            " putLayer)                                                                                        \n",
            "                                                                                                  \n",
            " embedding_10 (Embedding)    (None, 294, 124)             620000    ['current_message_input[0][0]'\n",
            "                                                                    , 'previous_message_input[0][0\n",
            "                                                                    ]']                           \n",
            "                                                                                                  \n",
            " bidirectional_14 (Bidirect  (None, 2048)                 9412608   ['embedding_10[0][0]']        \n",
            " ional)                                                                                           \n",
            "                                                                                                  \n",
            " current_linguistic_input (  [(None, 294)]                0         []                            \n",
            " InputLayer)                                                                                      \n",
            "                                                                                                  \n",
            " bidirectional_15 (Bidirect  (None, 2048)                 9412608   ['embedding_10[1][0]']        \n",
            " ional)                                                                                           \n",
            "                                                                                                  \n",
            " previous_linguistic_input   [(None, 294)]                0         []                            \n",
            " (InputLayer)                                                                                     \n",
            "                                                                                                  \n",
            " concatenate_15 (Concatenat  (None, 2342)                 0         ['bidirectional_14[0][0]',    \n",
            " e)                                                                  'current_linguistic_input[0][\n",
            "                                                                    0]']                          \n",
            "                                                                                                  \n",
            " concatenate_16 (Concatenat  (None, 2342)                 0         ['bidirectional_15[0][0]',    \n",
            " e)                                                                  'previous_linguistic_input[0]\n",
            "                                                                    [0]']                         \n",
            "                                                                                                  \n",
            " concatenate_17 (Concatenat  (None, 4684)                 0         ['concatenate_15[0][0]',      \n",
            " e)                                                                  'concatenate_16[0][0]']      \n",
            "                                                                                                  \n",
            " dense_7 (Dense)             (None, 1000)                 4685000   ['concatenate_17[0][0]']      \n",
            "                                                                                                  \n",
            " sender_output (Dense)       (None, 1)                    1001      ['dense_7[0][0]']             \n",
            "                                                                                                  \n",
            " receiver_output (Dense)     (None, 1)                    1001      ['dense_7[0][0]']             \n",
            "                                                                                                  \n",
            "==================================================================================================\n",
            "Total params: 24132218 (92.06 MB)\n",
            "Trainable params: 24132218 (92.06 MB)\n",
            "Non-trainable params: 0 (0.00 Byte)\n",
            "__________________________________________________________________________________________________\n",
            "Epoch 1/10\n",
            "376/376 [==============================] - 91s 222ms/step - loss: 0.4894 - sender_output_loss: 0.2629 - receiver_output_loss: 0.2265 - sender_output_auc: 0.5049 - receiver_output_auc_1: 0.4794 - val_loss: 0.3562 - val_sender_output_loss: 0.1821 - val_receiver_output_loss: 0.1740 - val_sender_output_auc: 0.5523 - val_receiver_output_auc_1: 0.4695\n",
            "Epoch 2/10\n",
            "376/376 [==============================] - 73s 194ms/step - loss: 0.4003 - sender_output_loss: 0.1961 - receiver_output_loss: 0.2042 - sender_output_auc: 0.5617 - receiver_output_auc_1: 0.5152 - val_loss: 0.3348 - val_sender_output_loss: 0.1708 - val_receiver_output_loss: 0.1640 - val_sender_output_auc: 0.5052 - val_receiver_output_auc_1: 0.4846\n",
            "Epoch 3/10\n",
            "376/376 [==============================] - 71s 189ms/step - loss: 0.3812 - sender_output_loss: 0.1852 - receiver_output_loss: 0.1960 - sender_output_auc: 0.6144 - receiver_output_auc_1: 0.5557 - val_loss: 0.3387 - val_sender_output_loss: 0.1745 - val_receiver_output_loss: 0.1642 - val_sender_output_auc: 0.5862 - val_receiver_output_auc_1: 0.5215\n",
            "Epoch 4/10\n",
            "376/376 [==============================] - 70s 185ms/step - loss: 0.3751 - sender_output_loss: 0.1828 - receiver_output_loss: 0.1923 - sender_output_auc: 0.6261 - receiver_output_auc_1: 0.5862 - val_loss: 0.3417 - val_sender_output_loss: 0.1724 - val_receiver_output_loss: 0.1692 - val_sender_output_auc: 0.5509 - val_receiver_output_auc_1: 0.5027\n",
            "Epoch 5/10\n",
            "376/376 [==============================] - 69s 185ms/step - loss: 0.3608 - sender_output_loss: 0.1741 - receiver_output_loss: 0.1867 - sender_output_auc: 0.7059 - receiver_output_auc_1: 0.6511 - val_loss: 0.3565 - val_sender_output_loss: 0.1793 - val_receiver_output_loss: 0.1772 - val_sender_output_auc: 0.5900 - val_receiver_output_auc_1: 0.5215\n",
            "Epoch 6/10\n",
            "376/376 [==============================] - 69s 185ms/step - loss: 0.3661 - sender_output_loss: 0.1759 - receiver_output_loss: 0.1902 - sender_output_auc: 0.7372 - receiver_output_auc_1: 0.6890 - val_loss: 0.3343 - val_sender_output_loss: 0.1710 - val_receiver_output_loss: 0.1633 - val_sender_output_auc: 0.5695 - val_receiver_output_auc_1: 0.5204\n",
            "Epoch 7/10\n",
            "376/376 [==============================] - 69s 183ms/step - loss: 0.3249 - sender_output_loss: 0.1564 - receiver_output_loss: 0.1685 - sender_output_auc: 0.7941 - receiver_output_auc_1: 0.7600 - val_loss: 0.3409 - val_sender_output_loss: 0.1747 - val_receiver_output_loss: 0.1661 - val_sender_output_auc: 0.5921 - val_receiver_output_auc_1: 0.5733\n",
            "Epoch 8/10\n",
            "376/376 [==============================] - 69s 183ms/step - loss: 0.3268 - sender_output_loss: 0.1598 - receiver_output_loss: 0.1670 - sender_output_auc: 0.8083 - receiver_output_auc_1: 0.7710 - val_loss: 0.3853 - val_sender_output_loss: 0.2177 - val_receiver_output_loss: 0.1676 - val_sender_output_auc: 0.5914 - val_receiver_output_auc_1: 0.5639\n",
            "Epoch 9/10\n",
            "376/376 [==============================] - 69s 184ms/step - loss: 0.3014 - sender_output_loss: 0.1448 - receiver_output_loss: 0.1566 - sender_output_auc: 0.8491 - receiver_output_auc_1: 0.8144 - val_loss: 0.3499 - val_sender_output_loss: 0.1845 - val_receiver_output_loss: 0.1654 - val_sender_output_auc: 0.5620 - val_receiver_output_auc_1: 0.5951\n",
            "Epoch 10/10\n",
            "376/376 [==============================] - 69s 182ms/step - loss: 0.2808 - sender_output_loss: 0.1331 - receiver_output_loss: 0.1478 - sender_output_auc: 0.8797 - receiver_output_auc_1: 0.8522 - val_loss: 0.3759 - val_sender_output_loss: 0.2027 - val_receiver_output_loss: 0.1731 - val_sender_output_auc: 0.6100 - val_receiver_output_auc_1: 0.5915\n",
            "========== Model Accuracy ==========\n"
          ]
        },
        {
          "output_type": "display_data",
          "data": {
            "text/plain": [
              "<Figure size 640x480 with 1 Axes>"
            ],
            "image/png": "[encoded data removed]"
          },
          "metadata": {}
        },
        {
          "output_type": "stream",
          "name": "stdout",
          "text": [
            "========== Test Evaluation ==========\n",
            "78/78 - 5s - loss: 0.6591 - sender_output_loss: 0.3509 - receiver_output_loss: 0.3082 - sender_output_auc: 0.5922 - receiver_output_auc_1: 0.5423 - 5s/epoch - 68ms/step\n",
            "\n",
            "========== Test Metrics ==========\n",
            "78/78 [==============================] - 6s 66ms/step\n",
            "Best Threshold for Sender: 0.21 with F1 Score: 0.5473036896877956\n",
            "Best Threshold for Receiver: 0.09 with F1 Score: 0.5379554655870445\n",
            "\n",
            "---------- Sender Labels ----------\n",
            "              precision    recall  f1-score   support\n",
            "\n",
            "        True       0.92      0.92      0.92      2268\n",
            "       False       0.17      0.17      0.17       207\n",
            "\n",
            "    accuracy                           0.86      2475\n",
            "   macro avg       0.55      0.55      0.55      2475\n",
            "weighted avg       0.86      0.86      0.86      2475\n",
            "\n",
            "---------- Receiver Labels ----------\n",
            "              precision    recall  f1-score   support\n",
            "\n",
            "        True       0.94      0.92      0.93      2310\n",
            "       False       0.13      0.18      0.15       165\n",
            "\n",
            "    accuracy                           0.87      2475\n",
            "   macro avg       0.53      0.55      0.54      2475\n",
            "weighted avg       0.89      0.87      0.88      2475\n",
            "\n"
          ]
        }
      ]
    },
    {
      "cell_type": "code",
      "source": [],
      "metadata": {
        "id": "6okcKP_5WaPg"
      },
      "execution_count": null,
      "outputs": []
    },
    {
      "cell_type": "markdown",
      "source": [],
      "metadata": {
        "id": "AUY2BblhWbap"
      }
    },
    {
      "cell_type": "markdown",
      "source": [],
      "metadata": {
        "id": "dj6HamwzWcDy"
      }
    },
    {
      "cell_type": "code",
      "source": [],
      "metadata": {
        "id": "nrK7JF-DJESS"
      },
      "execution_count": null,
      "outputs": []
    },
    {
      "cell_type": "code",
      "source": [
        "bert_model = TFBertModel.from_pretrained('bert-base-uncased')"
      ],
      "metadata": {
        "colab": {
          "base_uri": "https://localhost:8080/",
          "height": 188,
          "referenced_widgets": [
            "a85925b0632940c490da2a621a0d25b3",
            "bc0fa1f97be14985a042e96d01134b65",
            "27899bd4f3004ab8b95f77ee0fd9a5c4",
            "eb8c756f8b8c44a19ca35f2ef8869019",
            "4738f357ae8c44fb89015e5dc5ed843a",
            "b9d15bfeeb07491bb1f6694d3ea22b09",
            "18a4720b4de14ddf896c923d0fdd0e7a",
            "f183fa19fef1498794a0cc0a6b3266b3",
            "58122326cf9649618e3edf3abf537162",
            "8189c5a468ec4c0a9d124cc08d3d0bab",
            "670090bc68834bb6a54eec92061efc85",
            "4920871bddc04819bc0646cbbeff529e",
            "c63a6ae8ee024decbe90090e9a2e9545",
            "826d171b93ad4928a8b435b4bbb664d2",
            "f3a2d031f34d458fb6c1c0840f5d8393",
            "e07b652288d04edfbed07b48ee2628f8",
            "3be463adf9914697b7d0fef00f84223b",
            "dc70e4127e1b497bbe08eacc064f132e",
            "fb2c733b6d6340c9aaa7bfd0b543d47b",
            "de5aa2eb355947b4a0a6583ea5fe2aa7",
            "1fc7d37009cf490da4e0cf7664bbb876",
            "136a2eb797c04f158b1e696f36985f38"
          ]
        },
        "id": "02vmQ2Gvhr8o",
        "outputId": "635b3c6d-5f8f-4bb4-aa49-a575a28ec9ee"
      },
      "execution_count": 47,
      "outputs": [
        {
          "output_type": "display_data",
          "data": {
            "text/plain": [
              "config.json:   0%|          | 0.00/570 [00:00<?, ?B/s]"
            ],
            "application/vnd.jupyter.widget-view+json": {
              "version_major": 2,
              "version_minor": 0,
              "model_id": "a85925b0632940c490da2a621a0d25b3"
            }
          },
          "metadata": {}
        },
        {
          "output_type": "display_data",
          "data": {
            "text/plain": [
              "model.safetensors:   0%|          | 0.00/440M [00:00<?, ?B/s]"
            ],
            "application/vnd.jupyter.widget-view+json": {
              "version_major": 2,
              "version_minor": 0,
              "model_id": "4920871bddc04819bc0646cbbeff529e"
            }
          },
          "metadata": {}
        },
        {
          "output_type": "stream",
          "name": "stderr",
          "text": [
            "Some weights of the PyTorch model were not used when initializing the TF 2.0 model TFBertModel: ['cls.predictions.transform.LayerNorm.weight', 'cls.predictions.transform.dense.weight', 'cls.predictions.transform.dense.bias', 'cls.seq_relationship.weight', 'cls.predictions.bias', 'cls.seq_relationship.bias', 'cls.predictions.transform.LayerNorm.bias']\n",
            "- This IS expected if you are initializing TFBertModel from a PyTorch model trained on another task or with another architecture (e.g. initializing a TFBertForSequenceClassification model from a BertForPreTraining model).\n",
            "- This IS NOT expected if you are initializing TFBertModel from a PyTorch model that you expect to be exactly identical (e.g. initializing a TFBertForSequenceClassification model from a BertForSequenceClassification model).\n",
            "All the weights of TFBertModel were initialized from the PyTorch model.\n",
            "If your task is similar to the task the model of the checkpoint was trained on, you can already use TFBertModel for predictions without further training.\n"
          ]
        }
      ]
    },
    {
      "cell_type": "code",
      "source": [
        "\n",
        "from transformers import BertTokenizer, TFBertModel\n",
        "import tensorflow as tf\n",
        "from tensorflow import keras\n",
        "from toolz import pipe\n",
        "\n",
        "MAX_SEQUENCE_LEN = 294\n",
        "EMBEDDING_OUTPUT_SIZE = 768  # Typically BERT's embedding size\n",
        "VOCAB_SIZE = 30522  # For BERT base model\n",
        "DROPOUT_RATE = 0.1\n",
        "HIDDEN_LAYER_SIZE = 256\n",
        "\n",
        "def create_context_bert_model(\n",
        "        sequence_length: int = MAX_SEQUENCE_LEN,\n",
        "        dropout: float = DROPOUT_RATE,\n",
        "        hidden_size = HIDDEN_LAYER_SIZE,\n",
        "        learning_rate: float = 2e-5,\n",
        "    ):\n",
        "\n",
        "    bert_base_model = bert_model\n",
        "\n",
        "    # Define inputs\n",
        "    current_message_input = keras.layers.Input(shape=(sequence_length,), dtype=tf.int32, name='current_message_input')\n",
        "    previous_message_input = keras.layers.Input(shape=(sequence_length,), dtype=tf.int32, name='previous_message_input')\n",
        "\n",
        "    # BERT embeddings\n",
        "    current_message_bert = bert_base_model(current_message_input)[1]\n",
        "    previous_message_bert = bert_base_model(previous_message_input)[1]\n",
        "\n",
        "    # Dropout\n",
        "    current_message_dropout = keras.layers.Dropout(dropout)(current_message_bert)\n",
        "    previous_message_dropout = keras.layers.Dropout(dropout)(previous_message_bert)\n",
        "\n",
        "    # Concatenate embeddings\n",
        "    context_bert_output = keras.layers.Concatenate()([current_message_dropout, previous_message_dropout])\n",
        "    context_bert_output = keras.layers.Dense(hidden_size, activation='relu')(context_bert_output)\n",
        "\n",
        "    # Outputs\n",
        "    sender_output = keras.layers.Dense(1, activation='sigmoid', name=\"sender_output\")(context_bert_output)\n",
        "    receiver_output = keras.layers.Dense(1, activation='sigmoid', name=\"receiver_output\")(context_bert_output)\n",
        "\n",
        "    # Model\n",
        "    context_bert_model = keras.Model(\n",
        "        inputs=[current_message_input, previous_message_input],\n",
        "        outputs=[sender_output, receiver_output]\n",
        "    )\n",
        "\n",
        "    context_bert_model.compile(\n",
        "        loss='binary_crossentropy',\n",
        "        optimizer=tf.keras.optimizers.Adam(learning_rate=learning_rate),\n",
        "        metrics=['AUC']\n",
        "    )\n",
        "\n",
        "    return context_bert_model\n",
        "\n"
      ],
      "metadata": {
        "id": "XxT4hkD4hr-y"
      },
      "execution_count": null,
      "outputs": []
    }
  ],
  "metadata": {
    "kernelspec": {
      "display_name": "Python 3",
      "name": "python3"
    },
    "language_info": {
      "codemirror_mode": {
        "name": "ipython",
        "version": 3
      },
      "file_extension": ".py",
      "mimetype": "text/x-python",
      "name": "python",
      "nbconvert_exporter": "python",
      "pygments_lexer": "ipython3",
      "version": "3.11.0rc1"
    },
    "colab": {
      "provenance": [],
      "machine_shape": "hm",
      "gpuType": "V100"
    },
    "accelerator": "GPU",
    "widgets": {
      "application/vnd.jupyter.widget-state+json": {
        "a85925b0632940c490da2a621a0d25b3": {
          "model_module": "@jupyter-widgets/controls",
          "model_name": "HBoxModel",
          "model_module_version": "1.5.0",
          "state": {
            "_dom_classes": [],
            "_model_module": "@jupyter-widgets/controls",
            "_model_module_version": "1.5.0",
            "_model_name": "HBoxModel",
            "_view_count": null,
            "_view_module": "@jupyter-widgets/controls",
            "_view_module_version": "1.5.0",
            "_view_name": "HBoxView",
            "box_style": "",
            "children": [
              "IPY_MODEL_bc0fa1f97be14985a042e96d01134b65",
              "IPY_MODEL_27899bd4f3004ab8b95f77ee0fd9a5c4",
              "IPY_MODEL_eb8c756f8b8c44a19ca35f2ef8869019"
            ],
            "layout": "IPY_MODEL_4738f357ae8c44fb89015e5dc5ed843a"
          }
        },
        "bc0fa1f97be14985a042e96d01134b65": {
          "model_module": "@jupyter-widgets/controls",
          "model_name": "HTMLModel",
          "model_module_version": "1.5.0",
          "state": {
            "_dom_classes": [],
            "_model_module": "@jupyter-widgets/controls",
            "_model_module_version": "1.5.0",
            "_model_name": "HTMLModel",
            "_view_count": null,
            "_view_module": "@jupyter-widgets/controls",
            "_view_module_version": "1.5.0",
            "_view_name": "HTMLView",
            "description": "",
            "description_tooltip": null,
            "layout": "IPY_MODEL_b9d15bfeeb07491bb1f6694d3ea22b09",
            "placeholder": "​",
            "style": "IPY_MODEL_18a4720b4de14ddf896c923d0fdd0e7a",
            "value": "config.json: 100%"
          }
        },
        "27899bd4f3004ab8b95f77ee0fd9a5c4": {
          "model_module": "@jupyter-widgets/controls",
          "model_name": "FloatProgressModel",
          "model_module_version": "1.5.0",
          "state": {
            "_dom_classes": [],
            "_model_module": "@jupyter-widgets/controls",
            "_model_module_version": "1.5.0",
            "_model_name": "FloatProgressModel",
            "_view_count": null,
            "_view_module": "@jupyter-widgets/controls",
            "_view_module_version": "1.5.0",
            "_view_name": "ProgressView",
            "bar_style": "success",
            "description": "",
            "description_tooltip": null,
            "layout": "IPY_MODEL_f183fa19fef1498794a0cc0a6b3266b3",
            "max": 570,
            "min": 0,
            "orientation": "horizontal",
            "style": "IPY_MODEL_58122326cf9649618e3edf3abf537162",
            "value": 570
          }
        },
        "eb8c756f8b8c44a19ca35f2ef8869019": {
          "model_module": "@jupyter-widgets/controls",
          "model_name": "HTMLModel",
          "model_module_version": "1.5.0",
          "state": {
            "_dom_classes": [],
            "_model_module": "@jupyter-widgets/controls",
            "_model_module_version": "1.5.0",
            "_model_name": "HTMLModel",
            "_view_count": null,
            "_view_module": "@jupyter-widgets/controls",
            "_view_module_version": "1.5.0",
            "_view_name": "HTMLView",
            "description": "",
            "description_tooltip": null,
            "layout": "IPY_MODEL_8189c5a468ec4c0a9d124cc08d3d0bab",
            "placeholder": "​",
            "style": "IPY_MODEL_670090bc68834bb6a54eec92061efc85",
            "value": " 570/570 [00:00&lt;00:00, 48.4kB/s]"
          }
        },
        "4738f357ae8c44fb89015e5dc5ed843a": {
          "model_module": "@jupyter-widgets/base",
          "model_name": "LayoutModel",
          "model_module_version": "1.2.0",
          "state": {
            "_model_module": "@jupyter-widgets/base",
            "_model_module_version": "1.2.0",
            "_model_name": "LayoutModel",
            "_view_count": null,
            "_view_module": "@jupyter-widgets/base",
            "_view_module_version": "1.2.0",
            "_view_name": "LayoutView",
            "align_content": null,
            "align_items": null,
            "align_self": null,
            "border": null,
            "bottom": null,
            "display": null,
            "flex": null,
            "flex_flow": null,
            "grid_area": null,
            "grid_auto_columns": null,
            "grid_auto_flow": null,
            "grid_auto_rows": null,
            "grid_column": null,
            "grid_gap": null,
            "grid_row": null,
            "grid_template_areas": null,
            "grid_template_columns": null,
            "grid_template_rows": null,
            "height": null,
            "justify_content": null,
            "justify_items": null,
            "left": null,
            "margin": null,
            "max_height": null,
            "max_width": null,
            "min_height": null,
            "min_width": null,
            "object_fit": null,
            "object_position": null,
            "order": null,
            "overflow": null,
            "overflow_x": null,
            "overflow_y": null,
            "padding": null,
            "right": null,
            "top": null,
            "visibility": null,
            "width": null
          }
        },
        "b9d15bfeeb07491bb1f6694d3ea22b09": {
          "model_module": "@jupyter-widgets/base",
          "model_name": "LayoutModel",
          "model_module_version": "1.2.0",
          "state": {
            "_model_module": "@jupyter-widgets/base",
            "_model_module_version": "1.2.0",
            "_model_name": "LayoutModel",
            "_view_count": null,
            "_view_module": "@jupyter-widgets/base",
            "_view_module_version": "1.2.0",
            "_view_name": "LayoutView",
            "align_content": null,
            "align_items": null,
            "align_self": null,
            "border": null,
            "bottom": null,
            "display": null,
            "flex": null,
            "flex_flow": null,
            "grid_area": null,
            "grid_auto_columns": null,
            "grid_auto_flow": null,
            "grid_auto_rows": null,
            "grid_column": null,
            "grid_gap": null,
            "grid_row": null,
            "grid_template_areas": null,
            "grid_template_columns": null,
            "grid_template_rows": null,
            "height": null,
            "justify_content": null,
            "justify_items": null,
            "left": null,
            "margin": null,
            "max_height": null,
            "max_width": null,
            "min_height": null,
            "min_width": null,
            "object_fit": null,
            "object_position": null,
            "order": null,
            "overflow": null,
            "overflow_x": null,
            "overflow_y": null,
            "padding": null,
            "right": null,
            "top": null,
            "visibility": null,
            "width": null
          }
        },
        "18a4720b4de14ddf896c923d0fdd0e7a": {
          "model_module": "@jupyter-widgets/controls",
          "model_name": "DescriptionStyleModel",
          "model_module_version": "1.5.0",
          "state": {
            "_model_module": "@jupyter-widgets/controls",
            "_model_module_version": "1.5.0",
            "_model_name": "DescriptionStyleModel",
            "_view_count": null,
            "_view_module": "@jupyter-widgets/base",
            "_view_module_version": "1.2.0",
            "_view_name": "StyleView",
            "description_width": ""
          }
        },
        "f183fa19fef1498794a0cc0a6b3266b3": {
          "model_module": "@jupyter-widgets/base",
          "model_name": "LayoutModel",
          "model_module_version": "1.2.0",
          "state": {
            "_model_module": "@jupyter-widgets/base",
            "_model_module_version": "1.2.0",
            "_model_name": "LayoutModel",
            "_view_count": null,
            "_view_module": "@jupyter-widgets/base",
            "_view_module_version": "1.2.0",
            "_view_name": "LayoutView",
            "align_content": null,
            "align_items": null,
            "align_self": null,
            "border": null,
            "bottom": null,
            "display": null,
            "flex": null,
            "flex_flow": null,
            "grid_area": null,
            "grid_auto_columns": null,
            "grid_auto_flow": null,
            "grid_auto_rows": null,
            "grid_column": null,
            "grid_gap": null,
            "grid_row": null,
            "grid_template_areas": null,
            "grid_template_columns": null,
            "grid_template_rows": null,
            "height": null,
            "justify_content": null,
            "justify_items": null,
            "left": null,
            "margin": null,
            "max_height": null,
            "max_width": null,
            "min_height": null,
            "min_width": null,
            "object_fit": null,
            "object_position": null,
            "order": null,
            "overflow": null,
            "overflow_x": null,
            "overflow_y": null,
            "padding": null,
            "right": null,
            "top": null,
            "visibility": null,
            "width": null
          }
        },
        "58122326cf9649618e3edf3abf537162": {
          "model_module": "@jupyter-widgets/controls",
          "model_name": "ProgressStyleModel",
          "model_module_version": "1.5.0",
          "state": {
            "_model_module": "@jupyter-widgets/controls",
            "_model_module_version": "1.5.0",
            "_model_name": "ProgressStyleModel",
            "_view_count": null,
            "_view_module": "@jupyter-widgets/base",
            "_view_module_version": "1.2.0",
            "_view_name": "StyleView",
            "bar_color": null,
            "description_width": ""
          }
        },
        "8189c5a468ec4c0a9d124cc08d3d0bab": {
          "model_module": "@jupyter-widgets/base",
          "model_name": "LayoutModel",
          "model_module_version": "1.2.0",
          "state": {
            "_model_module": "@jupyter-widgets/base",
            "_model_module_version": "1.2.0",
            "_model_name": "LayoutModel",
            "_view_count": null,
            "_view_module": "@jupyter-widgets/base",
            "_view_module_version": "1.2.0",
            "_view_name": "LayoutView",
            "align_content": null,
            "align_items": null,
            "align_self": null,
            "border": null,
            "bottom": null,
            "display": null,
            "flex": null,
            "flex_flow": null,
            "grid_area": null,
            "grid_auto_columns": null,
            "grid_auto_flow": null,
            "grid_auto_rows": null,
            "grid_column": null,
            "grid_gap": null,
            "grid_row": null,
            "grid_template_areas": null,
            "grid_template_columns": null,
            "grid_template_rows": null,
            "height": null,
            "justify_content": null,
            "justify_items": null,
            "left": null,
            "margin": null,
            "max_height": null,
            "max_width": null,
            "min_height": null,
            "min_width": null,
            "object_fit": null,
            "object_position": null,
            "order": null,
            "overflow": null,
            "overflow_x": null,
            "overflow_y": null,
            "padding": null,
            "right": null,
            "top": null,
            "visibility": null,
            "width": null
          }
        },
        "670090bc68834bb6a54eec92061efc85": {
          "model_module": "@jupyter-widgets/controls",
          "model_name": "DescriptionStyleModel",
          "model_module_version": "1.5.0",
          "state": {
            "_model_module": "@jupyter-widgets/controls",
            "_model_module_version": "1.5.0",
            "_model_name": "DescriptionStyleModel",
            "_view_count": null,
            "_view_module": "@jupyter-widgets/base",
            "_view_module_version": "1.2.0",
            "_view_name": "StyleView",
            "description_width": ""
          }
        },
        "4920871bddc04819bc0646cbbeff529e": {
          "model_module": "@jupyter-widgets/controls",
          "model_name": "HBoxModel",
          "model_module_version": "1.5.0",
          "state": {
            "_dom_classes": [],
            "_model_module": "@jupyter-widgets/controls",
            "_model_module_version": "1.5.0",
            "_model_name": "HBoxModel",
            "_view_count": null,
            "_view_module": "@jupyter-widgets/controls",
            "_view_module_version": "1.5.0",
            "_view_name": "HBoxView",
            "box_style": "",
            "children": [
              "IPY_MODEL_c63a6ae8ee024decbe90090e9a2e9545",
              "IPY_MODEL_826d171b93ad4928a8b435b4bbb664d2",
              "IPY_MODEL_f3a2d031f34d458fb6c1c0840f5d8393"
            ],
            "layout": "IPY_MODEL_e07b652288d04edfbed07b48ee2628f8"
          }
        },
        "c63a6ae8ee024decbe90090e9a2e9545": {
          "model_module": "@jupyter-widgets/controls",
          "model_name": "HTMLModel",
          "model_module_version": "1.5.0",
          "state": {
            "_dom_classes": [],
            "_model_module": "@jupyter-widgets/controls",
            "_model_module_version": "1.5.0",
            "_model_name": "HTMLModel",
            "_view_count": null,
            "_view_module": "@jupyter-widgets/controls",
            "_view_module_version": "1.5.0",
            "_view_name": "HTMLView",
            "description": "",
            "description_tooltip": null,
            "layout": "IPY_MODEL_3be463adf9914697b7d0fef00f84223b",
            "placeholder": "​",
            "style": "IPY_MODEL_dc70e4127e1b497bbe08eacc064f132e",
            "value": "model.safetensors: 100%"
          }
        },
        "826d171b93ad4928a8b435b4bbb664d2": {
          "model_module": "@jupyter-widgets/controls",
          "model_name": "FloatProgressModel",
          "model_module_version": "1.5.0",
          "state": {
            "_dom_classes": [],
            "_model_module": "@jupyter-widgets/controls",
            "_model_module_version": "1.5.0",
            "_model_name": "FloatProgressModel",
            "_view_count": null,
            "_view_module": "@jupyter-widgets/controls",
            "_view_module_version": "1.5.0",
            "_view_name": "ProgressView",
            "bar_style": "success",
            "description": "",
            "description_tooltip": null,
            "layout": "IPY_MODEL_fb2c733b6d6340c9aaa7bfd0b543d47b",
            "max": 440449768,
            "min": 0,
            "orientation": "horizontal",
            "style": "IPY_MODEL_de5aa2eb355947b4a0a6583ea5fe2aa7",
            "value": 440449768
          }
        },
        "f3a2d031f34d458fb6c1c0840f5d8393": {
          "model_module": "@jupyter-widgets/controls",
          "model_name": "HTMLModel",
          "model_module_version": "1.5.0",
          "state": {
            "_dom_classes": [],
            "_model_module": "@jupyter-widgets/controls",
            "_model_module_version": "1.5.0",
            "_model_name": "HTMLModel",
            "_view_count": null,
            "_view_module": "@jupyter-widgets/controls",
            "_view_module_version": "1.5.0",
            "_view_name": "HTMLView",
            "description": "",
            "description_tooltip": null,
            "layout": "IPY_MODEL_1fc7d37009cf490da4e0cf7664bbb876",
            "placeholder": "​",
            "style": "IPY_MODEL_136a2eb797c04f158b1e696f36985f38",
            "value": " 440M/440M [00:01&lt;00:00, 358MB/s]"
          }
        },
        "e07b652288d04edfbed07b48ee2628f8": {
          "model_module": "@jupyter-widgets/base",
          "model_name": "LayoutModel",
          "model_module_version": "1.2.0",
          "state": {
            "_model_module": "@jupyter-widgets/base",
            "_model_module_version": "1.2.0",
            "_model_name": "LayoutModel",
            "_view_count": null,
            "_view_module": "@jupyter-widgets/base",
            "_view_module_version": "1.2.0",
            "_view_name": "LayoutView",
            "align_content": null,
            "align_items": null,
            "align_self": null,
            "border": null,
            "bottom": null,
            "display": null,
            "flex": null,
            "flex_flow": null,
            "grid_area": null,
            "grid_auto_columns": null,
            "grid_auto_flow": null,
            "grid_auto_rows": null,
            "grid_column": null,
            "grid_gap": null,
            "grid_row": null,
            "grid_template_areas": null,
            "grid_template_columns": null,
            "grid_template_rows": null,
            "height": null,
            "justify_content": null,
            "justify_items": null,
            "left": null,
            "margin": null,
            "max_height": null,
            "max_width": null,
            "min_height": null,
            "min_width": null,
            "object_fit": null,
            "object_position": null,
            "order": null,
            "overflow": null,
            "overflow_x": null,
            "overflow_y": null,
            "padding": null,
            "right": null,
            "top": null,
            "visibility": null,
            "width": null
          }
        },
        "3be463adf9914697b7d0fef00f84223b": {
          "model_module": "@jupyter-widgets/base",
          "model_name": "LayoutModel",
          "model_module_version": "1.2.0",
          "state": {
            "_model_module": "@jupyter-widgets/base",
            "_model_module_version": "1.2.0",
            "_model_name": "LayoutModel",
            "_view_count": null,
            "_view_module": "@jupyter-widgets/base",
            "_view_module_version": "1.2.0",
            "_view_name": "LayoutView",
            "align_content": null,
            "align_items": null,
            "align_self": null,
            "border": null,
            "bottom": null,
            "display": null,
            "flex": null,
            "flex_flow": null,
            "grid_area": null,
            "grid_auto_columns": null,
            "grid_auto_flow": null,
            "grid_auto_rows": null,
            "grid_column": null,
            "grid_gap": null,
            "grid_row": null,
            "grid_template_areas": null,
            "grid_template_columns": null,
            "grid_template_rows": null,
            "height": null,
            "justify_content": null,
            "justify_items": null,
            "left": null,
            "margin": null,
            "max_height": null,
            "max_width": null,
            "min_height": null,
            "min_width": null,
            "object_fit": null,
            "object_position": null,
            "order": null,
            "overflow": null,
            "overflow_x": null,
            "overflow_y": null,
            "padding": null,
            "right": null,
            "top": null,
            "visibility": null,
            "width": null
          }
        },
        "dc70e4127e1b497bbe08eacc064f132e": {
          "model_module": "@jupyter-widgets/controls",
          "model_name": "DescriptionStyleModel",
          "model_module_version": "1.5.0",
          "state": {
            "_model_module": "@jupyter-widgets/controls",
            "_model_module_version": "1.5.0",
            "_model_name": "DescriptionStyleModel",
            "_view_count": null,
            "_view_module": "@jupyter-widgets/base",
            "_view_module_version": "1.2.0",
            "_view_name": "StyleView",
            "description_width": ""
          }
        },
        "fb2c733b6d6340c9aaa7bfd0b543d47b": {
          "model_module": "@jupyter-widgets/base",
          "model_name": "LayoutModel",
          "model_module_version": "1.2.0",
          "state": {
            "_model_module": "@jupyter-widgets/base",
            "_model_module_version": "1.2.0",
            "_model_name": "LayoutModel",
            "_view_count": null,
            "_view_module": "@jupyter-widgets/base",
            "_view_module_version": "1.2.0",
            "_view_name": "LayoutView",
            "align_content": null,
            "align_items": null,
            "align_self": null,
            "border": null,
            "bottom": null,
            "display": null,
            "flex": null,
            "flex_flow": null,
            "grid_area": null,
            "grid_auto_columns": null,
            "grid_auto_flow": null,
            "grid_auto_rows": null,
            "grid_column": null,
            "grid_gap": null,
            "grid_row": null,
            "grid_template_areas": null,
            "grid_template_columns": null,
            "grid_template_rows": null,
            "height": null,
            "justify_content": null,
            "justify_items": null,
            "left": null,
            "margin": null,
            "max_height": null,
            "max_width": null,
            "min_height": null,
            "min_width": null,
            "object_fit": null,
            "object_position": null,
            "order": null,
            "overflow": null,
            "overflow_x": null,
            "overflow_y": null,
            "padding": null,
            "right": null,
            "top": null,
            "visibility": null,
            "width": null
          }
        },
        "de5aa2eb355947b4a0a6583ea5fe2aa7": {
          "model_module": "@jupyter-widgets/controls",
          "model_name": "ProgressStyleModel",
          "model_module_version": "1.5.0",
          "state": {
            "_model_module": "@jupyter-widgets/controls",
            "_model_module_version": "1.5.0",
            "_model_name": "ProgressStyleModel",
            "_view_count": null,
            "_view_module": "@jupyter-widgets/base",
            "_view_module_version": "1.2.0",
            "_view_name": "StyleView",
            "bar_color": null,
            "description_width": ""
          }
        },
        "1fc7d37009cf490da4e0cf7664bbb876": {
          "model_module": "@jupyter-widgets/base",
          "model_name": "LayoutModel",
          "model_module_version": "1.2.0",
          "state": {
            "_model_module": "@jupyter-widgets/base",
            "_model_module_version": "1.2.0",
            "_model_name": "LayoutModel",
            "_view_count": null,
            "_view_module": "@jupyter-widgets/base",
            "_view_module_version": "1.2.0",
            "_view_name": "LayoutView",
            "align_content": null,
            "align_items": null,
            "align_self": null,
            "border": null,
            "bottom": null,
            "display": null,
            "flex": null,
            "flex_flow": null,
            "grid_area": null,
            "grid_auto_columns": null,
            "grid_auto_flow": null,
            "grid_auto_rows": null,
            "grid_column": null,
            "grid_gap": null,
            "grid_row": null,
            "grid_template_areas": null,
            "grid_template_columns": null,
            "grid_template_rows": null,
            "height": null,
            "justify_content": null,
            "justify_items": null,
            "left": null,
            "margin": null,
            "max_height": null,
            "max_width": null,
            "min_height": null,
            "min_width": null,
            "object_fit": null,
            "object_position": null,
            "order": null,
            "overflow": null,
            "overflow_x": null,
            "overflow_y": null,
            "padding": null,
            "right": null,
            "top": null,
            "visibility": null,
            "width": null
          }
        },
        "136a2eb797c04f158b1e696f36985f38": {
          "model_module": "@jupyter-widgets/controls",
          "model_name": "DescriptionStyleModel",
          "model_module_version": "1.5.0",
          "state": {
            "_model_module": "@jupyter-widgets/controls",
            "_model_module_version": "1.5.0",
            "_model_name": "DescriptionStyleModel",
            "_view_count": null,
            "_view_module": "@jupyter-widgets/base",
            "_view_module_version": "1.2.0",
            "_view_name": "StyleView",
            "description_width": ""
          }
        }
      }
    }
  },
  "nbformat": 4,
  "nbformat_minor": 0
}