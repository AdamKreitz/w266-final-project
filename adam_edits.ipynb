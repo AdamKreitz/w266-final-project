{
  "cells": [
    {
      "cell_type": "markdown",
      "metadata": {
        "id": "a28gMQetE00v"
      },
      "source": [
        "<hr/>\n",
        "\n",
        "# imports"
      ]
    },
    {
      "cell_type": "code",
      "execution_count": null,
      "metadata": {
        "id": "JzGrCjF_E00x",
        "outputId": "56e20e95-ee1e-4698-adb5-ea4ab299acd1"
      },
      "outputs": [
        {
          "name": "stdout",
          "output_type": "stream",
          "text": [
            "Requirement already satisfied: imblearn in /usr/local/lib/python3.11/dist-packages (0.0)\n",
            "Requirement already satisfied: imbalanced-learn in /usr/local/lib/python3.11/dist-packages (from imblearn) (0.11.0)\n",
            "Requirement already satisfied: numpy>=1.17.3 in /usr/local/lib/python3.11/dist-packages (from imbalanced-learn->imblearn) (1.26.0)\n",
            "Requirement already satisfied: scipy>=1.5.0 in /usr/local/lib/python3.11/dist-packages (from imbalanced-learn->imblearn) (1.11.3)\n",
            "Requirement already satisfied: scikit-learn>=1.0.2 in /usr/local/lib/python3.11/dist-packages (from imbalanced-learn->imblearn) (1.3.2)\n",
            "Requirement already satisfied: joblib>=1.1.1 in /usr/local/lib/python3.11/dist-packages (from imbalanced-learn->imblearn) (1.3.2)\n",
            "Requirement already satisfied: threadpoolctl>=2.0.0 in /usr/local/lib/python3.11/dist-packages (from imbalanced-learn->imblearn) (3.2.0)\n",
            "\u001b[33mWARNING: Running pip as the 'root' user can result in broken permissions and conflicting behaviour with the system package manager. It is recommended to use a virtual environment instead: https://pip.pypa.io/warnings/venv\u001b[0m\u001b[33m\n",
            "\u001b[0m\n",
            "\u001b[1m[\u001b[0m\u001b[34;49mnotice\u001b[0m\u001b[1;39;49m]\u001b[0m\u001b[39;49m A new release of pip is available: \u001b[0m\u001b[31;49m23.2.1\u001b[0m\u001b[39;49m -> \u001b[0m\u001b[32;49m23.3.1\u001b[0m\n",
            "\u001b[1m[\u001b[0m\u001b[34;49mnotice\u001b[0m\u001b[1;39;49m]\u001b[0m\u001b[39;49m To update, run: \u001b[0m\u001b[32;49mpython3 -m pip install --upgrade pip\u001b[0m\n"
          ]
        }
      ],
      "source": [
        "!pip install imblearn"
      ]
    },
    {
      "cell_type": "code",
      "execution_count": 33,
      "metadata": {
        "id": "FrPCdEj3E00y"
      },
      "outputs": [],
      "source": [
        "import os\n",
        "os.environ['TF_CPP_MIN_LOG_LEVEL'] = '3' # mute tf warnings\n",
        "\n",
        "import pandas as pd\n",
        "import numpy as np\n",
        "import matplotlib.pyplot as plt\n",
        "import json\n",
        "import tensorflow as tf\n",
        "from tensorflow import keras\n",
        "from transformers import BertTokenizer, TFBertModel\n",
        "import math\n",
        "import sklearn\n",
        "import imblearn\n",
        "from tensorflow.keras.metrics import AUC"
      ]
    },
    {
      "cell_type": "code",
      "execution_count": 3,
      "metadata": {
        "colab": {
          "base_uri": "https://localhost:8080/"
        },
        "id": "F0V0CgrME00y",
        "outputId": "a6d2fbfb-5d4e-4fb5-e0a2-34811b49389e"
      },
      "outputs": [
        {
          "output_type": "stream",
          "name": "stdout",
          "text": [
            "Num GPUs Available:  0\n"
          ]
        }
      ],
      "source": [
        "print(\"Num GPUs Available: \", len(tf.config.list_physical_devices('TPU')))"
      ]
    },
    {
      "cell_type": "markdown",
      "metadata": {
        "id": "elcGaivYE00z"
      },
      "source": [
        "# Definitions"
      ]
    },
    {
      "cell_type": "code",
      "execution_count": 4,
      "metadata": {
        "id": "EZ_8dZmFE00z"
      },
      "outputs": [],
      "source": [
        "def pipe(*funcs):\n",
        "    \"\"\"\n",
        "    Works similar to the semantics of a `pipe` in other programming languages.\n",
        "    Intended to make nested functions readable and easier to manipulate. It\n",
        "    will take the first item in the list and feed it as input to the next\n",
        "    function in the list, then it takes that output and feeds it as input to\n",
        "    the next function in the list, and so on until it reaches the last\n",
        "    function in the list and returns its output.\n",
        "\n",
        "    Example:\n",
        "        instead of this:\n",
        "            ```py\n",
        "            input_layer = Input(...)\n",
        "            embedding_layer = Embedding(...)(input_layer)\n",
        "            lstm_layer = LSTM(...)(embedding_layer)\n",
        "            hidden_layer = Dense(...)(lstm_layer)\n",
        "            output_layer = Dense(...)(hidden_layer)\n",
        "            ```\n",
        "        you can do this:\n",
        "            ```py\n",
        "            lstm_ouput = pipe(\n",
        "                Input(...),\n",
        "                Embedding(...),\n",
        "                LSTM(...),\n",
        "                Dense(...),\n",
        "                Dense(...)\n",
        "            )\n",
        "            ```\n",
        "    \"\"\"\n",
        "    out = funcs[0]\n",
        "    for func in funcs[1:]:\n",
        "        out = func(out)\n",
        "    return out"
      ]
    },
    {
      "cell_type": "code",
      "execution_count": 5,
      "metadata": {
        "id": "Tkf7HwRXE00z"
      },
      "outputs": [],
      "source": [
        "def determine_name(row) -> str:\n",
        "    \"\"\"\n",
        "    Auxilary function used to determine the label for each given row.\n",
        "    \"\"\"\n",
        "    if row['sender_labels'] and row['receiver_labels']:\n",
        "        return 'straightforward'\n",
        "    elif not row['sender_labels'] and row['receiver_labels']:\n",
        "        return 'deceive'\n",
        "    elif row['sender_labels'] and not row['receiver_labels']:\n",
        "        return 'cassandra'\n",
        "    elif not row['sender_labels'] and not row['receiver_labels']:\n",
        "        return 'caught'\n",
        "    else:\n",
        "        return None"
      ]
    },
    {
      "cell_type": "code",
      "execution_count": 6,
      "metadata": {
        "id": "3_rgrzKgE000"
      },
      "outputs": [],
      "source": [
        "def parse_jsonl(path: str) -> pd.DataFrame:\n",
        "    \"\"\"\n",
        "    Load the given jsonl file and parse each conversation into a readable pandas\n",
        "    data frame, where each row is a message. Additional data that is used later\n",
        "    is also added to the created dataframe for consistency accross all loaded\n",
        "    data.\n",
        "\n",
        "    Args:\n",
        "        path: str\n",
        "            the path to the jsonl file to load and parse\n",
        "\n",
        "    Returns: pd.DataFrame\n",
        "        A parsed data frame where each row is a message.\n",
        "    \"\"\"\n",
        "    data = {}\n",
        "    with open(path, 'r') as f:\n",
        "        for (i, line) in enumerate(f):\n",
        "            line = json.loads(line)\n",
        "            line[\"conversation_id\"] = [i] * len(line[\"messages\"])\n",
        "            line['previous_message'] = ([\"\"] if len(line['messages']) > 0 else []) + line[\"messages\"][:-1]\n",
        "            for k in line.keys():\n",
        "                if k == \"players\":\n",
        "                    continue\n",
        "                if k == \"game_id\":\n",
        "                    line[k] = [line[k]] * len(line[\"messages\"])\n",
        "                data[k] = data.get(k, []) + line[k]\n",
        "    data = pd.DataFrame(data)\n",
        "    data['label'] = data.apply(determine_name, axis=1)\n",
        "    data['sender_labels_encoded'] = data['sender_labels'].astype(str).apply(lambda x: [\"True\", \"False\", \"NOANNOTATION\"].index(x))\n",
        "    data['receiver_labels_encoded'] = data['receiver_labels'].astype(str).apply(lambda x: [\"True\", \"False\", \"NOANNOTATION\"].index(x))\n",
        "    data[\"game_score_delta\"] = data['game_score_delta'].astype(float)\n",
        "    return data"
      ]
    },
    {
      "cell_type": "code",
      "execution_count": 86,
      "metadata": {
        "id": "OsO7Hb7LE000"
      },
      "outputs": [],
      "source": [
        "def EvaluateModel(model: tf.keras.Sequential, test_ds: tf.data.Dataset, test_target: pd.DataFrame, history: tf.keras.callbacks.History, skip_evaluation: bool = False) -> None:\n",
        "    \"\"\"\n",
        "    Take the model and plot the training accuracy and validation accuracy. Also,\n",
        "    Perform a evaluation on the test data, print the loss and accuracy, and print\n",
        "    the test metric scores.\n",
        "\n",
        "    Args:\n",
        "        model: tf.keras.Sequential\n",
        "            the model to test\n",
        "        test_ds: tf.data.Dataset\n",
        "            the test dataset to evaluate the model with\n",
        "        test_target: pd.DataFrame\n",
        "            the test data frame list with the target labels\n",
        "        history: tf.keras.callbacks.History\n",
        "            the history from fitting the model\n",
        "        skip_evaluation: bool\n",
        "            skip the model.evaluate() function\n",
        "    \"\"\"\n",
        "\n",
        "    print(f\"{'='*10} Model Accuracy {'='*10}\")\n",
        "    plt.plot(history.history['sender_output_auc_8'], label='sender_output_auc_8', color=\"tan\")\n",
        "    plt.plot(history.history['val_sender_output_auc_8'], label = 'val_sender_output_auc_8', color=\"darkorange\")\n",
        "    plt.plot(history.history['receiver_output_auc_8'], label='receiver_output_auc_8', color=\"cornflowerblue\")\n",
        "    plt.plot(history.history['val_receiver_output_auc_8'], label = 'val_receiver_output_auc_8', color=\"darkblue\")\n",
        "    plt.xlabel('Epoch')\n",
        "    plt.ylabel('AUC')\n",
        "    plt.ylim([0.5, 1])\n",
        "    plt.legend(loc='lower right')\n",
        "    plt.show()\n",
        "\n",
        "    if not skip_evaluation:\n",
        "        print(f\"{'='*10} Test Evaluation {'='*10}\")\n",
        "        model.evaluate(test_ds, test_target, verbose=2)\n",
        "        # print(f\"Test loss: {test_loss} | Test accuracy: {test_acc}\")\n",
        "        print()\n",
        "\n",
        "    print(f\"{'='*10} Test Metrics {'='*10}\")\n",
        "    y_pred = model.predict(test_ds)\n",
        "    print(f\"{'-'*10} Sender Labels {'-'*10}\")\n",
        "\n",
        "    def find_best_threshold(y_true, y_probs):\n",
        "      best_threshold = 0.5\n",
        "      best_f1 = 0.0\n",
        "\n",
        "      # Iterate over a range of thresholds (e.g., 0.0 to 1.0)\n",
        "      for threshold in np.arange(0.0, 1.0, 0.01):\n",
        "          # Convert probabilities to binary predictions based on the current threshold\n",
        "          y_pred = (y_probs > threshold).astype(int)\n",
        "\n",
        "          # Calculate the F1 score\n",
        "          f1 = f1_score(y_true, y_pred, average='macro')\n",
        "\n",
        "          # If this F1 score is better than the best so far, update the best threshold and F1 score\n",
        "          if f1 > best_f1:\n",
        "              best_f1 = f1\n",
        "              best_threshold = threshold\n",
        "\n",
        "      return best_threshold, best_f1\n",
        "\n",
        "    # Find the best threshold for sender\n",
        "    best_threshold_sender, best_f1_sender = find_best_threshold(test_target[0], y_pred[0])\n",
        "    print(\"Best Threshold for Sender:\", best_threshold_sender, \"with F1 Score:\", best_f1_sender)\n",
        "\n",
        "    # Find the best threshold for receiver\n",
        "    best_threshold_receiver, best_f1_receiver = find_best_threshold(test_target[1], y_pred[1])\n",
        "    print(\"Best Threshold for Receiver:\", best_threshold_receiver, \"with F1 Score:\", best_f1_receiver)\n",
        "\n",
        "      # Convert probabilities to binary predictions\n",
        "    y_pred_sender = (y_pred[0] > best_threshold_sender).astype(int).reshape(-1)\n",
        "    y_pred_receiver = (y_pred[1] > best_threshold_receiver).astype(int).reshape(-1)\n",
        "\n",
        "\n",
        "    print(sklearn.metrics.classification_report(test_target[0], y_pred_sender, target_names=[\"True\", \"False\"], zero_division=0))\n",
        "    print(f\"{'-'*10} Receiver Labels {'-'*10}\")\n",
        "    print(sklearn.metrics.classification_report(test_target[1], y_pred_receiver, target_names=[\"True\", \"False\"], zero_division=0))"
      ]
    },
    {
      "cell_type": "code",
      "execution_count": 8,
      "metadata": {
        "id": "E8mQ_I_fE000"
      },
      "outputs": [],
      "source": [
        "def Tokenize(tokenizer, df: pd.DataFrame, sequence_len: int = 300) -> tuple:\n",
        "    \"\"\"\n",
        "    Makes a consistant return of tokenized and padded messages and previous messages.\n",
        "    \"\"\"\n",
        "    encoded_msg = tokenizer.texts_to_sequences(df['messages'])\n",
        "    encoded_prev_msg = tokenizer.texts_to_sequences(df['previous_message'])\n",
        "    return keras.preprocessing.sequence.pad_sequences(encoded_msg, sequence_len), keras.preprocessing.sequence.pad_sequences(encoded_prev_msg, sequence_len)"
      ]
    },
    {
      "cell_type": "code",
      "execution_count": 9,
      "metadata": {
        "id": "5XkNXNt4E000"
      },
      "outputs": [],
      "source": [
        "def PredictionGridPeek(pred: list, df: pd.DataFrame, target_labels: list, who: str) -> pd.DataFrame:\n",
        "    table = {\n",
        "        \"prediction\": [],\n",
        "        \"target\": [],\n",
        "        \"message\": [],\n",
        "        \"context\": []\n",
        "    }\n",
        "    for match in [True, False]:\n",
        "        bool_stmt = pred == df[f'{who}_labels_encoded'] if match else pred != df[f'{who}_labels_encoded']\n",
        "        visited = []\n",
        "        for i in range(0, len(pred)):\n",
        "            row = df[bool_stmt].iloc[i,:]\n",
        "            pred_label = target_labels[pred[bool_stmt][i]]\n",
        "            if (pred_label, row[f'{who}_labels']) not in visited:\n",
        "                table[\"prediction\"].append(pred_label)\n",
        "                table[\"target\"].append(row[f'{who}_labels'])\n",
        "                table['message'].append(row['messages'])\n",
        "                table['context'].append(row['previous_message'])\n",
        "                visited.append((pred_label, row[f'{who}_labels']))\n",
        "                if len(visited) >= len(target_labels):\n",
        "                    break\n",
        "    return pd.DataFrame(table)"
      ]
    },
    {
      "cell_type": "markdown",
      "metadata": {
        "id": "ys71RyvuE001"
      },
      "source": [
        "<hr/>\n",
        "\n",
        "# data explortion"
      ]
    },
    {
      "cell_type": "markdown",
      "metadata": {
        "id": "B3GVjAjuE001"
      },
      "source": [
        "just a raw load of the data we can see it is unformated and needs to be parsed a little to better satisfy the pandas format."
      ]
    },
    {
      "cell_type": "code",
      "execution_count": 10,
      "metadata": {
        "colab": {
          "base_uri": "https://localhost:8080/"
        },
        "id": "-D_xcOiYE001",
        "outputId": "bf6300fd-1cd5-45a4-88dc-8915e1923c49"
      },
      "outputs": [
        {
          "output_type": "stream",
          "name": "stdout",
          "text": [
            "Mounted at /content/drive\n"
          ]
        }
      ],
      "source": [
        "from google.colab import drive\n",
        "drive.mount('/content/drive')\n",
        "\n",
        "folder_path = '/content/drive/My Drive/Colab Notebooks/w266 Final Project'\n",
        "\n",
        "train_df = (parse_jsonl(f\"{folder_path}/data/train.jsonl\"))\n",
        "test_df = (parse_jsonl(f\"{folder_path}/data/test.jsonl\"))\n",
        "validation_df = (parse_jsonl(f\"{folder_path}/data/validation.jsonl\"))"
      ]
    },
    {
      "cell_type": "code",
      "execution_count": 11,
      "metadata": {
        "colab": {
          "base_uri": "https://localhost:8080/",
          "height": 399
        },
        "id": "YUO0eZsmE001",
        "outputId": "8c51cd19-7f1c-4c29-9a48-49b2314f41a6"
      },
      "outputs": [
        {
          "output_type": "execute_result",
          "data": {
            "text/plain": [
              "                                            messages  sender_labels  \\\n",
              "0  Germany!\\n\\nJust the person I want to speak wi...           True   \n",
              "1  You've whet my appetite, Italy. What's the sug...           True   \n",
              "2                                                  👍           True   \n",
              "3  It seems like there are a lot of ways that cou...           True   \n",
              "4  Yeah, I can’t say I’ve tried it and it works, ...           True   \n",
              "\n",
              "  receiver_labels speakers receivers  absolute_message_index  \\\n",
              "0            True    italy   germany                      74   \n",
              "1            True  germany     italy                      76   \n",
              "2            True    italy   germany                      86   \n",
              "3            True  germany     italy                      87   \n",
              "4    NOANNOTATION    italy   germany                      89   \n",
              "\n",
              "   relative_message_index seasons years game_score  game_score_delta  game_id  \\\n",
              "0                       0  Spring  1901          3               0.0        1   \n",
              "1                       1  Spring  1901          3               0.0        1   \n",
              "2                       2  Spring  1901          3               0.0        1   \n",
              "3                       3  Spring  1901          3               0.0        1   \n",
              "4                       4  Spring  1901          3               0.0        1   \n",
              "\n",
              "   conversation_id                                   previous_message  \\\n",
              "0                0                                                      \n",
              "1                0  Germany!\\n\\nJust the person I want to speak wi...   \n",
              "2                0  You've whet my appetite, Italy. What's the sug...   \n",
              "3                0                                                  👍   \n",
              "4                0  It seems like there are a lot of ways that cou...   \n",
              "\n",
              "             label  sender_labels_encoded  receiver_labels_encoded  \n",
              "0  straightforward                      0                        0  \n",
              "1  straightforward                      0                        0  \n",
              "2  straightforward                      0                        0  \n",
              "3  straightforward                      0                        0  \n",
              "4  straightforward                      0                        2  "
            ],
            "text/html": [
              "\n",
              "  <div id=\"df-6198c99f-4355-4949-b66a-ffdf8789a5bd\" class=\"colab-df-container\">\n",
              "    <div>\n",
              "<style scoped>\n",
              "    .dataframe tbody tr th:only-of-type {\n",
              "        vertical-align: middle;\n",
              "    }\n",
              "\n",
              "    .dataframe tbody tr th {\n",
              "        vertical-align: top;\n",
              "    }\n",
              "\n",
              "    .dataframe thead th {\n",
              "        text-align: right;\n",
              "    }\n",
              "</style>\n",
              "<table border=\"1\" class=\"dataframe\">\n",
              "  <thead>\n",
              "    <tr style=\"text-align: right;\">\n",
              "      <th></th>\n",
              "      <th>messages</th>\n",
              "      <th>sender_labels</th>\n",
              "      <th>receiver_labels</th>\n",
              "      <th>speakers</th>\n",
              "      <th>receivers</th>\n",
              "      <th>absolute_message_index</th>\n",
              "      <th>relative_message_index</th>\n",
              "      <th>seasons</th>\n",
              "      <th>years</th>\n",
              "      <th>game_score</th>\n",
              "      <th>game_score_delta</th>\n",
              "      <th>game_id</th>\n",
              "      <th>conversation_id</th>\n",
              "      <th>previous_message</th>\n",
              "      <th>label</th>\n",
              "      <th>sender_labels_encoded</th>\n",
              "      <th>receiver_labels_encoded</th>\n",
              "    </tr>\n",
              "  </thead>\n",
              "  <tbody>\n",
              "    <tr>\n",
              "      <th>0</th>\n",
              "      <td>Germany!\\n\\nJust the person I want to speak wi...</td>\n",
              "      <td>True</td>\n",
              "      <td>True</td>\n",
              "      <td>italy</td>\n",
              "      <td>germany</td>\n",
              "      <td>74</td>\n",
              "      <td>0</td>\n",
              "      <td>Spring</td>\n",
              "      <td>1901</td>\n",
              "      <td>3</td>\n",
              "      <td>0.0</td>\n",
              "      <td>1</td>\n",
              "      <td>0</td>\n",
              "      <td></td>\n",
              "      <td>straightforward</td>\n",
              "      <td>0</td>\n",
              "      <td>0</td>\n",
              "    </tr>\n",
              "    <tr>\n",
              "      <th>1</th>\n",
              "      <td>You've whet my appetite, Italy. What's the sug...</td>\n",
              "      <td>True</td>\n",
              "      <td>True</td>\n",
              "      <td>germany</td>\n",
              "      <td>italy</td>\n",
              "      <td>76</td>\n",
              "      <td>1</td>\n",
              "      <td>Spring</td>\n",
              "      <td>1901</td>\n",
              "      <td>3</td>\n",
              "      <td>0.0</td>\n",
              "      <td>1</td>\n",
              "      <td>0</td>\n",
              "      <td>Germany!\\n\\nJust the person I want to speak wi...</td>\n",
              "      <td>straightforward</td>\n",
              "      <td>0</td>\n",
              "      <td>0</td>\n",
              "    </tr>\n",
              "    <tr>\n",
              "      <th>2</th>\n",
              "      <td>👍</td>\n",
              "      <td>True</td>\n",
              "      <td>True</td>\n",
              "      <td>italy</td>\n",
              "      <td>germany</td>\n",
              "      <td>86</td>\n",
              "      <td>2</td>\n",
              "      <td>Spring</td>\n",
              "      <td>1901</td>\n",
              "      <td>3</td>\n",
              "      <td>0.0</td>\n",
              "      <td>1</td>\n",
              "      <td>0</td>\n",
              "      <td>You've whet my appetite, Italy. What's the sug...</td>\n",
              "      <td>straightforward</td>\n",
              "      <td>0</td>\n",
              "      <td>0</td>\n",
              "    </tr>\n",
              "    <tr>\n",
              "      <th>3</th>\n",
              "      <td>It seems like there are a lot of ways that cou...</td>\n",
              "      <td>True</td>\n",
              "      <td>True</td>\n",
              "      <td>germany</td>\n",
              "      <td>italy</td>\n",
              "      <td>87</td>\n",
              "      <td>3</td>\n",
              "      <td>Spring</td>\n",
              "      <td>1901</td>\n",
              "      <td>3</td>\n",
              "      <td>0.0</td>\n",
              "      <td>1</td>\n",
              "      <td>0</td>\n",
              "      <td>👍</td>\n",
              "      <td>straightforward</td>\n",
              "      <td>0</td>\n",
              "      <td>0</td>\n",
              "    </tr>\n",
              "    <tr>\n",
              "      <th>4</th>\n",
              "      <td>Yeah, I can’t say I’ve tried it and it works, ...</td>\n",
              "      <td>True</td>\n",
              "      <td>NOANNOTATION</td>\n",
              "      <td>italy</td>\n",
              "      <td>germany</td>\n",
              "      <td>89</td>\n",
              "      <td>4</td>\n",
              "      <td>Spring</td>\n",
              "      <td>1901</td>\n",
              "      <td>3</td>\n",
              "      <td>0.0</td>\n",
              "      <td>1</td>\n",
              "      <td>0</td>\n",
              "      <td>It seems like there are a lot of ways that cou...</td>\n",
              "      <td>straightforward</td>\n",
              "      <td>0</td>\n",
              "      <td>2</td>\n",
              "    </tr>\n",
              "  </tbody>\n",
              "</table>\n",
              "</div>\n",
              "    <div class=\"colab-df-buttons\">\n",
              "\n",
              "  <div class=\"colab-df-container\">\n",
              "    <button class=\"colab-df-convert\" onclick=\"convertToInteractive('df-6198c99f-4355-4949-b66a-ffdf8789a5bd')\"\n",
              "            title=\"Convert this dataframe to an interactive table.\"\n",
              "            style=\"display:none;\">\n",
              "\n",
              "  <svg xmlns=\"http://www.w3.org/2000/svg\" height=\"24px\" viewBox=\"0 -960 960 960\">\n",
              "    <path d=\"M120-120v-720h720v720H120Zm60-500h600v-160H180v160Zm220 220h160v-160H400v160Zm0 220h160v-160H400v160ZM180-400h160v-160H180v160Zm440 0h160v-160H620v160ZM180-180h160v-160H180v160Zm440 0h160v-160H620v160Z\"/>\n",
              "  </svg>\n",
              "    </button>\n",
              "\n",
              "  <style>\n",
              "    .colab-df-container {\n",
              "      display:flex;\n",
              "      gap: 12px;\n",
              "    }\n",
              "\n",
              "    .colab-df-convert {\n",
              "      background-color: #E8F0FE;\n",
              "      border: none;\n",
              "      border-radius: 50%;\n",
              "      cursor: pointer;\n",
              "      display: none;\n",
              "      fill: #1967D2;\n",
              "      height: 32px;\n",
              "      padding: 0 0 0 0;\n",
              "      width: 32px;\n",
              "    }\n",
              "\n",
              "    .colab-df-convert:hover {\n",
              "      background-color: #E2EBFA;\n",
              "      box-shadow: 0px 1px 2px rgba(60, 64, 67, 0.3), 0px 1px 3px 1px rgba(60, 64, 67, 0.15);\n",
              "      fill: #174EA6;\n",
              "    }\n",
              "\n",
              "    .colab-df-buttons div {\n",
              "      margin-bottom: 4px;\n",
              "    }\n",
              "\n",
              "    [theme=dark] .colab-df-convert {\n",
              "      background-color: #3B4455;\n",
              "      fill: #D2E3FC;\n",
              "    }\n",
              "\n",
              "    [theme=dark] .colab-df-convert:hover {\n",
              "      background-color: #434B5C;\n",
              "      box-shadow: 0px 1px 3px 1px rgba(0, 0, 0, 0.15);\n",
              "      filter: drop-shadow(0px 1px 2px rgba(0, 0, 0, 0.3));\n",
              "      fill: #FFFFFF;\n",
              "    }\n",
              "  </style>\n",
              "\n",
              "    <script>\n",
              "      const buttonEl =\n",
              "        document.querySelector('#df-6198c99f-4355-4949-b66a-ffdf8789a5bd button.colab-df-convert');\n",
              "      buttonEl.style.display =\n",
              "        google.colab.kernel.accessAllowed ? 'block' : 'none';\n",
              "\n",
              "      async function convertToInteractive(key) {\n",
              "        const element = document.querySelector('#df-6198c99f-4355-4949-b66a-ffdf8789a5bd');\n",
              "        const dataTable =\n",
              "          await google.colab.kernel.invokeFunction('convertToInteractive',\n",
              "                                                    [key], {});\n",
              "        if (!dataTable) return;\n",
              "\n",
              "        const docLinkHtml = 'Like what you see? Visit the ' +\n",
              "          '<a target=\"_blank\" href=https://colab.research.google.com/notebooks/data_table.ipynb>data table notebook</a>'\n",
              "          + ' to learn more about interactive tables.';\n",
              "        element.innerHTML = '';\n",
              "        dataTable['output_type'] = 'display_data';\n",
              "        await google.colab.output.renderOutput(dataTable, element);\n",
              "        const docLink = document.createElement('div');\n",
              "        docLink.innerHTML = docLinkHtml;\n",
              "        element.appendChild(docLink);\n",
              "      }\n",
              "    </script>\n",
              "  </div>\n",
              "\n",
              "\n",
              "<div id=\"df-04ae7623-ca3b-4a4a-98a4-2f5d3a8dfaa8\">\n",
              "  <button class=\"colab-df-quickchart\" onclick=\"quickchart('df-04ae7623-ca3b-4a4a-98a4-2f5d3a8dfaa8')\"\n",
              "            title=\"Suggest charts\"\n",
              "            style=\"display:none;\">\n",
              "\n",
              "<svg xmlns=\"http://www.w3.org/2000/svg\" height=\"24px\"viewBox=\"0 0 24 24\"\n",
              "     width=\"24px\">\n",
              "    <g>\n",
              "        <path d=\"M19 3H5c-1.1 0-2 .9-2 2v14c0 1.1.9 2 2 2h14c1.1 0 2-.9 2-2V5c0-1.1-.9-2-2-2zM9 17H7v-7h2v7zm4 0h-2V7h2v10zm4 0h-2v-4h2v4z\"/>\n",
              "    </g>\n",
              "</svg>\n",
              "  </button>\n",
              "\n",
              "<style>\n",
              "  .colab-df-quickchart {\n",
              "      --bg-color: #E8F0FE;\n",
              "      --fill-color: #1967D2;\n",
              "      --hover-bg-color: #E2EBFA;\n",
              "      --hover-fill-color: #174EA6;\n",
              "      --disabled-fill-color: #AAA;\n",
              "      --disabled-bg-color: #DDD;\n",
              "  }\n",
              "\n",
              "  [theme=dark] .colab-df-quickchart {\n",
              "      --bg-color: #3B4455;\n",
              "      --fill-color: #D2E3FC;\n",
              "      --hover-bg-color: #434B5C;\n",
              "      --hover-fill-color: #FFFFFF;\n",
              "      --disabled-bg-color: #3B4455;\n",
              "      --disabled-fill-color: #666;\n",
              "  }\n",
              "\n",
              "  .colab-df-quickchart {\n",
              "    background-color: var(--bg-color);\n",
              "    border: none;\n",
              "    border-radius: 50%;\n",
              "    cursor: pointer;\n",
              "    display: none;\n",
              "    fill: var(--fill-color);\n",
              "    height: 32px;\n",
              "    padding: 0;\n",
              "    width: 32px;\n",
              "  }\n",
              "\n",
              "  .colab-df-quickchart:hover {\n",
              "    background-color: var(--hover-bg-color);\n",
              "    box-shadow: 0 1px 2px rgba(60, 64, 67, 0.3), 0 1px 3px 1px rgba(60, 64, 67, 0.15);\n",
              "    fill: var(--button-hover-fill-color);\n",
              "  }\n",
              "\n",
              "  .colab-df-quickchart-complete:disabled,\n",
              "  .colab-df-quickchart-complete:disabled:hover {\n",
              "    background-color: var(--disabled-bg-color);\n",
              "    fill: var(--disabled-fill-color);\n",
              "    box-shadow: none;\n",
              "  }\n",
              "\n",
              "  .colab-df-spinner {\n",
              "    border: 2px solid var(--fill-color);\n",
              "    border-color: transparent;\n",
              "    border-bottom-color: var(--fill-color);\n",
              "    animation:\n",
              "      spin 1s steps(1) infinite;\n",
              "  }\n",
              "\n",
              "  @keyframes spin {\n",
              "    0% {\n",
              "      border-color: transparent;\n",
              "      border-bottom-color: var(--fill-color);\n",
              "      border-left-color: var(--fill-color);\n",
              "    }\n",
              "    20% {\n",
              "      border-color: transparent;\n",
              "      border-left-color: var(--fill-color);\n",
              "      border-top-color: var(--fill-color);\n",
              "    }\n",
              "    30% {\n",
              "      border-color: transparent;\n",
              "      border-left-color: var(--fill-color);\n",
              "      border-top-color: var(--fill-color);\n",
              "      border-right-color: var(--fill-color);\n",
              "    }\n",
              "    40% {\n",
              "      border-color: transparent;\n",
              "      border-right-color: var(--fill-color);\n",
              "      border-top-color: var(--fill-color);\n",
              "    }\n",
              "    60% {\n",
              "      border-color: transparent;\n",
              "      border-right-color: var(--fill-color);\n",
              "    }\n",
              "    80% {\n",
              "      border-color: transparent;\n",
              "      border-right-color: var(--fill-color);\n",
              "      border-bottom-color: var(--fill-color);\n",
              "    }\n",
              "    90% {\n",
              "      border-color: transparent;\n",
              "      border-bottom-color: var(--fill-color);\n",
              "    }\n",
              "  }\n",
              "</style>\n",
              "\n",
              "  <script>\n",
              "    async function quickchart(key) {\n",
              "      const quickchartButtonEl =\n",
              "        document.querySelector('#' + key + ' button');\n",
              "      quickchartButtonEl.disabled = true;  // To prevent multiple clicks.\n",
              "      quickchartButtonEl.classList.add('colab-df-spinner');\n",
              "      try {\n",
              "        const charts = await google.colab.kernel.invokeFunction(\n",
              "            'suggestCharts', [key], {});\n",
              "      } catch (error) {\n",
              "        console.error('Error during call to suggestCharts:', error);\n",
              "      }\n",
              "      quickchartButtonEl.classList.remove('colab-df-spinner');\n",
              "      quickchartButtonEl.classList.add('colab-df-quickchart-complete');\n",
              "    }\n",
              "    (() => {\n",
              "      let quickchartButtonEl =\n",
              "        document.querySelector('#df-04ae7623-ca3b-4a4a-98a4-2f5d3a8dfaa8 button');\n",
              "      quickchartButtonEl.style.display =\n",
              "        google.colab.kernel.accessAllowed ? 'block' : 'none';\n",
              "    })();\n",
              "  </script>\n",
              "</div>\n",
              "\n",
              "    </div>\n",
              "  </div>\n"
            ]
          },
          "metadata": {},
          "execution_count": 11
        }
      ],
      "source": [
        "train_df.head()"
      ]
    },
    {
      "cell_type": "markdown",
      "metadata": {
        "id": "J1rW7iuZE001"
      },
      "source": [
        "# NONANNOTATION"
      ]
    },
    {
      "cell_type": "markdown",
      "metadata": {
        "id": "Wja5abCRE001"
      },
      "source": [
        "We can see that there are some `receiver_labels` that have the value `NOANNOTATION`. this is not a bool value"
      ]
    },
    {
      "cell_type": "code",
      "execution_count": 12,
      "metadata": {
        "colab": {
          "base_uri": "https://localhost:8080/"
        },
        "id": "Z-meTNCaE001",
        "outputId": "a714e8cb-f37c-4cda-91a2-068e43f3bee7"
      },
      "outputs": [
        {
          "output_type": "execute_result",
          "data": {
            "text/plain": [
              "8.43"
            ]
          },
          "metadata": {},
          "execution_count": 12
        }
      ],
      "source": [
        "round(len(train_df[train_df[\"receiver_labels\"] == \"NOANNOTATION\"].index) /  len(train_df.index), 4) * 100"
      ]
    },
    {
      "cell_type": "markdown",
      "metadata": {
        "id": "RYP0SjPPE001"
      },
      "source": [
        "8.43% of the rows in `test_df` contain a \"NOANNOTATION\" `receiver_labels`."
      ]
    },
    {
      "cell_type": "code",
      "execution_count": 13,
      "metadata": {
        "colab": {
          "base_uri": "https://localhost:8080/"
        },
        "id": "r-lVxIQHE001",
        "outputId": "d8d83c85-22a1-4dfe-a3c6-618c253fa7ad"
      },
      "outputs": [
        {
          "output_type": "execute_result",
          "data": {
            "text/plain": [
              "0.0"
            ]
          },
          "metadata": {},
          "execution_count": 13
        }
      ],
      "source": [
        "train_df = train_df[train_df[\"receiver_labels\"] != \"NOANNOTATION\"]\n",
        "round(len(train_df[train_df[\"receiver_labels\"] == \"NOANNOTATION\"].index) /  len(train_df.index), 4) * 100"
      ]
    },
    {
      "cell_type": "markdown",
      "metadata": {
        "id": "9i9zDXxyE001"
      },
      "source": [
        "`test_df` also contains some \"NOANNOTATION\" so we will remove them also."
      ]
    },
    {
      "cell_type": "code",
      "execution_count": 14,
      "metadata": {
        "colab": {
          "base_uri": "https://localhost:8080/"
        },
        "id": "AdyLxBuYE002",
        "outputId": "81890baf-a3ce-4bbc-b37a-257eac7f6c3f"
      },
      "outputs": [
        {
          "output_type": "execute_result",
          "data": {
            "text/plain": [
              "0.0"
            ]
          },
          "metadata": {},
          "execution_count": 14
        }
      ],
      "source": [
        "test_df = test_df[test_df['receiver_labels'] != \"NOANNOTATION\"]\n",
        "round(len(test_df[test_df[\"receiver_labels\"] == \"NOANNOTATION\"].index) /  len(test_df.index), 4) * 100"
      ]
    },
    {
      "cell_type": "markdown",
      "metadata": {
        "id": "yBQk8OJ9E002"
      },
      "source": [
        "# Unique Words"
      ]
    },
    {
      "cell_type": "code",
      "execution_count": 15,
      "metadata": {
        "colab": {
          "base_uri": "https://localhost:8080/"
        },
        "id": "U4AqSRzoE002",
        "outputId": "58276f69-09ec-41d6-f0d4-0d063ec2001e"
      },
      "outputs": [
        {
          "output_type": "stream",
          "name": "stdout",
          "text": [
            "germany!: 11\n",
            "just: 1146\n",
            "the: 6037\n",
            "person: 28\n",
            "i: 8250\n",
            "want: 779\n",
            "to: 10653\n",
            "speak: 17\n",
            "with.: 34\n",
            "have: 1944\n",
            "a: 4399\n",
            "somewhat: 15\n",
            "crazy: 15\n",
            "idea: 89\n",
            "that: 3414\n",
            "i’ve: 139\n",
            "always: 75\n",
            "wanted: 136\n",
            "try: 284\n",
            "with: 2364\n",
            "i/g,: 1\n",
            "but: 2086\n",
            "never: 96\n",
            "actually: 195\n",
            "convinced: 11\n",
            "other: 271\n",
            "guy: 29\n",
            "it.: 244\n",
            "and,: 34\n",
            "what’s: 73\n",
            "worse,: 3\n"
          ]
        }
      ],
      "source": [
        "sequence_list = list(train_df['messages'].astype(str).str.lower().str.split().to_numpy())\n",
        "unique_words = {}\n",
        "for sequence in sequence_list:\n",
        "    for word in sequence:\n",
        "        unique_words[word] = unique_words.get(word, 0) + 1\n",
        "    # sequence_list = sequence_list + ([\"<PAD>\"] )\n",
        "\n",
        "for (i,(k,v)) in enumerate(unique_words.items()):\n",
        "    if i > 30:\n",
        "        break\n",
        "    print(f\"{k}: {v}\")"
      ]
    },
    {
      "cell_type": "code",
      "execution_count": 16,
      "metadata": {
        "colab": {
          "base_uri": "https://localhost:8080/"
        },
        "id": "v-92HUQNE002",
        "outputId": "f602d9b1-891a-4efe-aa9b-0a5f2cf682d9"
      },
      "outputs": [
        {
          "output_type": "execute_result",
          "data": {
            "text/plain": [
              "14991"
            ]
          },
          "metadata": {},
          "execution_count": 16
        }
      ],
      "source": [
        "len(unique_words)"
      ]
    },
    {
      "cell_type": "markdown",
      "metadata": {
        "id": "SUzQNc61E002"
      },
      "source": [
        "<!-- I processed only what is considered a **word** to the regex `\\w+`. this means that any punctuation is omitted. -->\n",
        "\n",
        "After processing, we have a total of 15,657 words.\n",
        "\n",
        "Some things to note are\n",
        "- there are some arbitrary number included\n",
        "- some words are repeated because of long character exaggeration (for example, \"aaaaaalllllllllll\" instead of \"all\" or \"aaaaany\" instead of \"any\")\n",
        "- some words are repeated because of misspellings and typos"
      ]
    },
    {
      "cell_type": "code",
      "execution_count": 17,
      "metadata": {
        "colab": {
          "base_uri": "https://localhost:8080/",
          "height": 430
        },
        "id": "G8TQEMxoE002",
        "outputId": "bd24bba6-f5ab-43fb-a7ac-dc5bf0d1d3f7"
      },
      "outputs": [
        {
          "output_type": "display_data",
          "data": {
            "text/plain": [
              "<Figure size 640x480 with 1 Axes>"
            ],
            "image/png": "[encoded data removed]"
          },
          "metadata": {}
        }
      ],
      "source": [
        "plt.hist(list(map(len, sequence_list)),bins=100)\n",
        "plt.show()"
      ]
    },
    {
      "cell_type": "code",
      "execution_count": 18,
      "metadata": {
        "colab": {
          "base_uri": "https://localhost:8080/",
          "height": 206
        },
        "id": "QR0GP4YwE002",
        "outputId": "5959f0a0-d9f4-4406-ad35-37a1980ad0d5"
      },
      "outputs": [
        {
          "output_type": "execute_result",
          "data": {
            "text/plain": [
              "                              value\n",
              "0              Message count  12025\n",
              "1  Average words per message     20\n",
              "2          Unique word count  14991\n",
              "3           Actual Lie count    545\n",
              "4         Actual Truth count  11480"
            ],
            "text/html": [
              "\n",
              "  <div id=\"df-2e96799a-5b64-4372-bdbc-bb04ce882f0e\" class=\"colab-df-container\">\n",
              "    <div>\n",
              "<style scoped>\n",
              "    .dataframe tbody tr th:only-of-type {\n",
              "        vertical-align: middle;\n",
              "    }\n",
              "\n",
              "    .dataframe tbody tr th {\n",
              "        vertical-align: top;\n",
              "    }\n",
              "\n",
              "    .dataframe thead th {\n",
              "        text-align: right;\n",
              "    }\n",
              "</style>\n",
              "<table border=\"1\" class=\"dataframe\">\n",
              "  <thead>\n",
              "    <tr style=\"text-align: right;\">\n",
              "      <th></th>\n",
              "      <th></th>\n",
              "      <th>value</th>\n",
              "    </tr>\n",
              "  </thead>\n",
              "  <tbody>\n",
              "    <tr>\n",
              "      <th>0</th>\n",
              "      <td>Message count</td>\n",
              "      <td>12025</td>\n",
              "    </tr>\n",
              "    <tr>\n",
              "      <th>1</th>\n",
              "      <td>Average words per message</td>\n",
              "      <td>20</td>\n",
              "    </tr>\n",
              "    <tr>\n",
              "      <th>2</th>\n",
              "      <td>Unique word count</td>\n",
              "      <td>14991</td>\n",
              "    </tr>\n",
              "    <tr>\n",
              "      <th>3</th>\n",
              "      <td>Actual Lie count</td>\n",
              "      <td>545</td>\n",
              "    </tr>\n",
              "    <tr>\n",
              "      <th>4</th>\n",
              "      <td>Actual Truth count</td>\n",
              "      <td>11480</td>\n",
              "    </tr>\n",
              "  </tbody>\n",
              "</table>\n",
              "</div>\n",
              "    <div class=\"colab-df-buttons\">\n",
              "\n",
              "  <div class=\"colab-df-container\">\n",
              "    <button class=\"colab-df-convert\" onclick=\"convertToInteractive('df-2e96799a-5b64-4372-bdbc-bb04ce882f0e')\"\n",
              "            title=\"Convert this dataframe to an interactive table.\"\n",
              "            style=\"display:none;\">\n",
              "\n",
              "  <svg xmlns=\"http://www.w3.org/2000/svg\" height=\"24px\" viewBox=\"0 -960 960 960\">\n",
              "    <path d=\"M120-120v-720h720v720H120Zm60-500h600v-160H180v160Zm220 220h160v-160H400v160Zm0 220h160v-160H400v160ZM180-400h160v-160H180v160Zm440 0h160v-160H620v160ZM180-180h160v-160H180v160Zm440 0h160v-160H620v160Z\"/>\n",
              "  </svg>\n",
              "    </button>\n",
              "\n",
              "  <style>\n",
              "    .colab-df-container {\n",
              "      display:flex;\n",
              "      gap: 12px;\n",
              "    }\n",
              "\n",
              "    .colab-df-convert {\n",
              "      background-color: #E8F0FE;\n",
              "      border: none;\n",
              "      border-radius: 50%;\n",
              "      cursor: pointer;\n",
              "      display: none;\n",
              "      fill: #1967D2;\n",
              "      height: 32px;\n",
              "      padding: 0 0 0 0;\n",
              "      width: 32px;\n",
              "    }\n",
              "\n",
              "    .colab-df-convert:hover {\n",
              "      background-color: #E2EBFA;\n",
              "      box-shadow: 0px 1px 2px rgba(60, 64, 67, 0.3), 0px 1px 3px 1px rgba(60, 64, 67, 0.15);\n",
              "      fill: #174EA6;\n",
              "    }\n",
              "\n",
              "    .colab-df-buttons div {\n",
              "      margin-bottom: 4px;\n",
              "    }\n",
              "\n",
              "    [theme=dark] .colab-df-convert {\n",
              "      background-color: #3B4455;\n",
              "      fill: #D2E3FC;\n",
              "    }\n",
              "\n",
              "    [theme=dark] .colab-df-convert:hover {\n",
              "      background-color: #434B5C;\n",
              "      box-shadow: 0px 1px 3px 1px rgba(0, 0, 0, 0.15);\n",
              "      filter: drop-shadow(0px 1px 2px rgba(0, 0, 0, 0.3));\n",
              "      fill: #FFFFFF;\n",
              "    }\n",
              "  </style>\n",
              "\n",
              "    <script>\n",
              "      const buttonEl =\n",
              "        document.querySelector('#df-2e96799a-5b64-4372-bdbc-bb04ce882f0e button.colab-df-convert');\n",
              "      buttonEl.style.display =\n",
              "        google.colab.kernel.accessAllowed ? 'block' : 'none';\n",
              "\n",
              "      async function convertToInteractive(key) {\n",
              "        const element = document.querySelector('#df-2e96799a-5b64-4372-bdbc-bb04ce882f0e');\n",
              "        const dataTable =\n",
              "          await google.colab.kernel.invokeFunction('convertToInteractive',\n",
              "                                                    [key], {});\n",
              "        if (!dataTable) return;\n",
              "\n",
              "        const docLinkHtml = 'Like what you see? Visit the ' +\n",
              "          '<a target=\"_blank\" href=https://colab.research.google.com/notebooks/data_table.ipynb>data table notebook</a>'\n",
              "          + ' to learn more about interactive tables.';\n",
              "        element.innerHTML = '';\n",
              "        dataTable['output_type'] = 'display_data';\n",
              "        await google.colab.output.renderOutput(dataTable, element);\n",
              "        const docLink = document.createElement('div');\n",
              "        docLink.innerHTML = docLinkHtml;\n",
              "        element.appendChild(docLink);\n",
              "      }\n",
              "    </script>\n",
              "  </div>\n",
              "\n",
              "\n",
              "<div id=\"df-e6be6d46-6177-4f19-87bc-7a8609377533\">\n",
              "  <button class=\"colab-df-quickchart\" onclick=\"quickchart('df-e6be6d46-6177-4f19-87bc-7a8609377533')\"\n",
              "            title=\"Suggest charts\"\n",
              "            style=\"display:none;\">\n",
              "\n",
              "<svg xmlns=\"http://www.w3.org/2000/svg\" height=\"24px\"viewBox=\"0 0 24 24\"\n",
              "     width=\"24px\">\n",
              "    <g>\n",
              "        <path d=\"M19 3H5c-1.1 0-2 .9-2 2v14c0 1.1.9 2 2 2h14c1.1 0 2-.9 2-2V5c0-1.1-.9-2-2-2zM9 17H7v-7h2v7zm4 0h-2V7h2v10zm4 0h-2v-4h2v4z\"/>\n",
              "    </g>\n",
              "</svg>\n",
              "  </button>\n",
              "\n",
              "<style>\n",
              "  .colab-df-quickchart {\n",
              "      --bg-color: #E8F0FE;\n",
              "      --fill-color: #1967D2;\n",
              "      --hover-bg-color: #E2EBFA;\n",
              "      --hover-fill-color: #174EA6;\n",
              "      --disabled-fill-color: #AAA;\n",
              "      --disabled-bg-color: #DDD;\n",
              "  }\n",
              "\n",
              "  [theme=dark] .colab-df-quickchart {\n",
              "      --bg-color: #3B4455;\n",
              "      --fill-color: #D2E3FC;\n",
              "      --hover-bg-color: #434B5C;\n",
              "      --hover-fill-color: #FFFFFF;\n",
              "      --disabled-bg-color: #3B4455;\n",
              "      --disabled-fill-color: #666;\n",
              "  }\n",
              "\n",
              "  .colab-df-quickchart {\n",
              "    background-color: var(--bg-color);\n",
              "    border: none;\n",
              "    border-radius: 50%;\n",
              "    cursor: pointer;\n",
              "    display: none;\n",
              "    fill: var(--fill-color);\n",
              "    height: 32px;\n",
              "    padding: 0;\n",
              "    width: 32px;\n",
              "  }\n",
              "\n",
              "  .colab-df-quickchart:hover {\n",
              "    background-color: var(--hover-bg-color);\n",
              "    box-shadow: 0 1px 2px rgba(60, 64, 67, 0.3), 0 1px 3px 1px rgba(60, 64, 67, 0.15);\n",
              "    fill: var(--button-hover-fill-color);\n",
              "  }\n",
              "\n",
              "  .colab-df-quickchart-complete:disabled,\n",
              "  .colab-df-quickchart-complete:disabled:hover {\n",
              "    background-color: var(--disabled-bg-color);\n",
              "    fill: var(--disabled-fill-color);\n",
              "    box-shadow: none;\n",
              "  }\n",
              "\n",
              "  .colab-df-spinner {\n",
              "    border: 2px solid var(--fill-color);\n",
              "    border-color: transparent;\n",
              "    border-bottom-color: var(--fill-color);\n",
              "    animation:\n",
              "      spin 1s steps(1) infinite;\n",
              "  }\n",
              "\n",
              "  @keyframes spin {\n",
              "    0% {\n",
              "      border-color: transparent;\n",
              "      border-bottom-color: var(--fill-color);\n",
              "      border-left-color: var(--fill-color);\n",
              "    }\n",
              "    20% {\n",
              "      border-color: transparent;\n",
              "      border-left-color: var(--fill-color);\n",
              "      border-top-color: var(--fill-color);\n",
              "    }\n",
              "    30% {\n",
              "      border-color: transparent;\n",
              "      border-left-color: var(--fill-color);\n",
              "      border-top-color: var(--fill-color);\n",
              "      border-right-color: var(--fill-color);\n",
              "    }\n",
              "    40% {\n",
              "      border-color: transparent;\n",
              "      border-right-color: var(--fill-color);\n",
              "      border-top-color: var(--fill-color);\n",
              "    }\n",
              "    60% {\n",
              "      border-color: transparent;\n",
              "      border-right-color: var(--fill-color);\n",
              "    }\n",
              "    80% {\n",
              "      border-color: transparent;\n",
              "      border-right-color: var(--fill-color);\n",
              "      border-bottom-color: var(--fill-color);\n",
              "    }\n",
              "    90% {\n",
              "      border-color: transparent;\n",
              "      border-bottom-color: var(--fill-color);\n",
              "    }\n",
              "  }\n",
              "</style>\n",
              "\n",
              "  <script>\n",
              "    async function quickchart(key) {\n",
              "      const quickchartButtonEl =\n",
              "        document.querySelector('#' + key + ' button');\n",
              "      quickchartButtonEl.disabled = true;  // To prevent multiple clicks.\n",
              "      quickchartButtonEl.classList.add('colab-df-spinner');\n",
              "      try {\n",
              "        const charts = await google.colab.kernel.invokeFunction(\n",
              "            'suggestCharts', [key], {});\n",
              "      } catch (error) {\n",
              "        console.error('Error during call to suggestCharts:', error);\n",
              "      }\n",
              "      quickchartButtonEl.classList.remove('colab-df-spinner');\n",
              "      quickchartButtonEl.classList.add('colab-df-quickchart-complete');\n",
              "    }\n",
              "    (() => {\n",
              "      let quickchartButtonEl =\n",
              "        document.querySelector('#df-e6be6d46-6177-4f19-87bc-7a8609377533 button');\n",
              "      quickchartButtonEl.style.display =\n",
              "        google.colab.kernel.accessAllowed ? 'block' : 'none';\n",
              "    })();\n",
              "  </script>\n",
              "</div>\n",
              "\n",
              "    </div>\n",
              "  </div>\n"
            ]
          },
          "metadata": {},
          "execution_count": 18
        }
      ],
      "source": [
        "summary = {\n",
        "    \"\": [\n",
        "        'Message count',\n",
        "        'Average words per message',\n",
        "        'Unique word count',\n",
        "        'Actual Lie count',\n",
        "        'Actual Truth count'\n",
        "    ],\n",
        "    \"value\": [\n",
        "        len(train_df.index),\n",
        "        math.floor(sum(map(len, sequence_list)) / len(sequence_list)),\n",
        "        len(unique_words),\n",
        "        (~train_df['sender_labels']).sum(),\n",
        "        (train_df['sender_labels']).sum()\n",
        "    ],\n",
        "}\n",
        "pd.DataFrame(summary)"
      ]
    },
    {
      "cell_type": "markdown",
      "metadata": {
        "id": "IUNG18NaE002"
      },
      "source": [
        "# Label count"
      ]
    },
    {
      "cell_type": "code",
      "execution_count": 19,
      "metadata": {
        "colab": {
          "base_uri": "https://localhost:8080/"
        },
        "id": "GrT2TvhqE002",
        "outputId": "5f781d0d-500b-40f6-d798-89182709de88"
      },
      "outputs": [
        {
          "output_type": "execute_result",
          "data": {
            "text/plain": [
              "straightforward    10979\n",
              "cassandra            501\n",
              "deceive              480\n",
              "caught                65\n",
              "Name: label, dtype: int64"
            ]
          },
          "metadata": {},
          "execution_count": 19
        }
      ],
      "source": [
        "train_df['label'].value_counts()"
      ]
    },
    {
      "cell_type": "code",
      "execution_count": 20,
      "metadata": {
        "colab": {
          "base_uri": "https://localhost:8080/",
          "height": 523
        },
        "id": "xyTKtjk9E002",
        "outputId": "778191e1-f65e-4c06-fa7b-b9b6899d9c99"
      },
      "outputs": [
        {
          "output_type": "display_data",
          "data": {
            "text/plain": [
              "<Figure size 640x480 with 1 Axes>"
            ],
            "image/png": "[encoded data removed]"
          },
          "metadata": {}
        }
      ],
      "source": [
        "train_df['label'].value_counts().plot.bar()\n",
        "plt.show()"
      ]
    },
    {
      "cell_type": "code",
      "execution_count": 21,
      "metadata": {
        "colab": {
          "base_uri": "https://localhost:8080/"
        },
        "id": "KB6liDz4E002",
        "outputId": "0a872b36-bff8-4304-9425-b7344529b702"
      },
      "outputs": [
        {
          "output_type": "execute_result",
          "data": {
            "text/plain": [
              "straightforward    0.913015\n",
              "cassandra          0.041663\n",
              "deceive            0.039917\n",
              "caught             0.005405\n",
              "Name: label, dtype: float64"
            ]
          },
          "metadata": {},
          "execution_count": 21
        }
      ],
      "source": [
        "train_df['label'].value_counts(normalize=True)"
      ]
    },
    {
      "cell_type": "markdown",
      "metadata": {
        "id": "kmfaoISYE003"
      },
      "source": [
        "<hr/>\n",
        "\n",
        "# Constants"
      ]
    },
    {
      "cell_type": "code",
      "execution_count": 22,
      "metadata": {
        "id": "Eih1d9VdE003"
      },
      "outputs": [],
      "source": [
        "MAX_SEQUENCE_LEN = max(map(len,sequence_list))\n",
        "VOCAB_SIZE = 5000 # len(unique_words)\n",
        "EMBEDDING_OUTPUT_SIZE = 124\n",
        "LSTM_SIZE = 64\n",
        "DROPOUT_RATE = 0.2\n",
        "HIDDEN_LAYER_SIZE = 64\n",
        "LEARNING_RATE = 0.001\n",
        "\n",
        "CLASS_LABELS = [\"True\", \"False\"]\n",
        "\n",
        "tokenizer = keras.preprocessing.text.Tokenizer(num_words=VOCAB_SIZE, oov_token=\"<OOV>\")\n",
        "tokenizer.fit_on_texts(train_df['messages'])\n",
        "# smote = imblearn.over_sampling.SMOTE()\n",
        "\n",
        "# train_encoded_padded, y_train = smote.fit_resample(train_tokenized_padded, train_df['label_encoded'])\n",
        "# train_prev_encoded_padded, y_train = smote.fit_resample(train_prev_tokenized_padded, train_df['label_encoded'])\n",
        "\n",
        "train_encoded_padded, train_prev_encoded_padded = Tokenize(tokenizer, train_df, MAX_SEQUENCE_LEN)\n",
        "test_encoded_padded, test_prev_encoded_padded = Tokenize(tokenizer, test_df, MAX_SEQUENCE_LEN)\n",
        "validation_encoded_padded, validation_prev_encoded_padded = Tokenize(tokenizer, validation_df, MAX_SEQUENCE_LEN)"
      ]
    },
    {
      "cell_type": "code",
      "source": [],
      "metadata": {
        "id": "jlZP0SPnF-z4"
      },
      "execution_count": null,
      "outputs": []
    },
    {
      "cell_type": "code",
      "source": [
        "from sklearn.feature_extraction.text import CountVectorizer, TfidfTransformer\n",
        "from imblearn.over_sampling import SMOTE\n",
        "from sklearn.naive_bayes import MultinomialNB\n",
        "from sklearn import metrics\n",
        "\n",
        "# Choose which set of labels to use (sender or receiver)\n",
        "# For this example, I'll use sender_labels. You can change this to receiver_labels if needed\n",
        "y_train = y_train_sender_encoded\n",
        "y_test = y_test_sender_encoded\n",
        "\n",
        "# Process X_train and X_test\n",
        "count_vect = CountVectorizer()\n",
        "X_train_c = count_vect.fit_transform(train_filtered['messages'])\n",
        "X_test_c = count_vect.transform(test_filtered['messages'])\n",
        "\n",
        "tf_transformer = TfidfTransformer(use_idf=False).fit(X_train_c)\n",
        "X_train_tf = tf_transformer.transform(X_train_c)\n",
        "X_test_tf = tf_transformer.transform(X_test_c)\n",
        "\n",
        "# Apply SMOTE for handling class imbalance\n",
        "oversample = SMOTE()\n",
        "X_train_tf_smote, y_train_smote = oversample.fit_resample(X_train_tf, y_train)\n",
        "\n",
        "# Sanity Check\n",
        "print(f\"Train set size: {X_train_tf_smote.shape}\")\n",
        "print(f\"Test set size: {X_test_tf.shape}\")\n",
        "\n",
        "# Train Naive Bayes Classifier\n",
        "clf = MultinomialNB().fit(X_train_tf_smote, y_train_smote)\n",
        "\n",
        "# Check Performance on Train and Test Set\n",
        "y_train_pred = clf.predict(X_train_tf)\n",
        "y_test_pred = clf.predict(X_test_tf)\n",
        "\n",
        "print(\"Train Metrics\")\n",
        "print(metrics.classification_report(y_train, y_train_pred))\n",
        "\n",
        "print(\"Test Metrics\")\n",
        "print(metrics.classification_report(y_test, y_test_pred))"
      ],
      "metadata": {
        "id": "LJ1z5cs2F_C6"
      },
      "execution_count": null,
      "outputs": []
    },
    {
      "cell_type": "markdown",
      "metadata": {
        "id": "x3n5-fwcE003"
      },
      "source": [
        "<hr/>\n",
        "\n",
        "# Naive Neural Network"
      ]
    },
    {
      "cell_type": "code",
      "execution_count": 23,
      "metadata": {
        "id": "-ue6w-CTE003"
      },
      "outputs": [],
      "source": [
        "def create_naive_model(\n",
        "        vocab_size: int = VOCAB_SIZE,\n",
        "        embedding_output: int = EMBEDDING_OUTPUT_SIZE,\n",
        "        sequence_length: int = MAX_SEQUENCE_LEN,\n",
        "        hidden_size: int = HIDDEN_LAYER_SIZE,\n",
        "        learning_rate: float = LEARNING_RATE\n",
        "    ):\n",
        "\n",
        "    message_input = keras.layers.Input(shape=(sequence_length,), dtype=tf.int64, name='message_input')\n",
        "\n",
        "    naive_output = pipe(\n",
        "        message_input,\n",
        "        keras.layers.Embedding(vocab_size, embedding_output, input_length=sequence_length),\n",
        "        keras.layers.Flatten(),\n",
        "        keras.layers.Dense(hidden_size, activation=\"relu\")\n",
        "    )\n",
        "\n",
        "    sender_output = keras.layers.Dense(2, activation='softmax', name=\"sender_output\")(naive_output)\n",
        "    receiver_output = keras.layers.Dense(2, activation='softmax', name=\"receiver_output\")(naive_output)\n",
        "\n",
        "    model = keras.Model(\n",
        "        inputs=[message_input],\n",
        "        outputs=[sender_output, receiver_output]\n",
        "    )\n",
        "\n",
        "    model.compile(\n",
        "        loss='sparse_categorical_crossentropy',\n",
        "        optimizer=tf.keras.optimizers.Adam(learning_rate=learning_rate),\n",
        "        metrics=[AUC()]\n",
        "    )\n",
        "\n",
        "    return model"
      ]
    },
    {
      "cell_type": "code",
      "execution_count": 24,
      "metadata": {
        "colab": {
          "base_uri": "https://localhost:8080/"
        },
        "id": "3wtIPgwNE003",
        "outputId": "73e977c0-b560-4748-9cd7-aa1bf528793e"
      },
      "outputs": [
        {
          "output_type": "stream",
          "name": "stdout",
          "text": [
            "Model: \"model\"\n",
            "__________________________________________________________________________________________________\n",
            " Layer (type)                   Output Shape         Param #     Connected to                     \n",
            "==================================================================================================\n",
            " message_input (InputLayer)     [(None, 294)]        0           []                               \n",
            "                                                                                                  \n",
            " embedding (Embedding)          (None, 294, 124)     620000      ['message_input[0][0]']          \n",
            "                                                                                                  \n",
            " flatten (Flatten)              (None, 36456)        0           ['embedding[0][0]']              \n",
            "                                                                                                  \n",
            " dense (Dense)                  (None, 64)           2333248     ['flatten[0][0]']                \n",
            "                                                                                                  \n",
            " sender_output (Dense)          (None, 2)            130         ['dense[0][0]']                  \n",
            "                                                                                                  \n",
            " receiver_output (Dense)        (None, 2)            130         ['dense[0][0]']                  \n",
            "                                                                                                  \n",
            "==================================================================================================\n",
            "Total params: 2,953,508\n",
            "Trainable params: 2,953,508\n",
            "Non-trainable params: 0\n",
            "__________________________________________________________________________________________________\n"
          ]
        }
      ],
      "source": [
        "naive_model = create_naive_model()\n",
        "naive_model.summary()"
      ]
    },
    {
      "cell_type": "code",
      "execution_count": 55,
      "metadata": {
        "colab": {
          "base_uri": "https://localhost:8080/",
          "height": 463
        },
        "id": "av8k1CdiE003",
        "outputId": "2ecb4034-8f4b-4fe5-813e-12ce8661ad1e"
      },
      "outputs": [
        {
          "output_type": "stream",
          "name": "stdout",
          "text": [
            "Epoch 1/10\n",
            " 47/376 [==>...........................] - ETA: 23s - loss: 0.1538 - sender_output_loss: 0.0636 - receiver_output_loss: 0.0902 - sender_output_accuracy: 0.9820 - receiver_output_accuracy: 0.9661"
          ]
        },
        {
          "output_type": "error",
          "ename": "KeyboardInterrupt",
          "evalue": "ignored",
          "traceback": [
            "\u001b[0;31m---------------------------------------------------------------------------\u001b[0m",
            "\u001b[0;31mKeyboardInterrupt\u001b[0m                         Traceback (most recent call last)",
            "\u001b[0;32m<ipython-input-55-965042d62866>\u001b[0m in \u001b[0;36m<cell line: 1>\u001b[0;34m()\u001b[0m\n\u001b[0;32m----> 1\u001b[0;31m naive_history = naive_model.fit(\n\u001b[0m\u001b[1;32m      2\u001b[0m     \u001b[0mtrain_encoded_padded\u001b[0m\u001b[0;34m,\u001b[0m\u001b[0;34m\u001b[0m\u001b[0;34m\u001b[0m\u001b[0m\n\u001b[1;32m      3\u001b[0m     \u001b[0;34m[\u001b[0m\u001b[0mtrain_df\u001b[0m\u001b[0;34m[\u001b[0m\u001b[0;34m'sender_labels_encoded'\u001b[0m\u001b[0;34m]\u001b[0m\u001b[0;34m,\u001b[0m \u001b[0mtrain_df\u001b[0m\u001b[0;34m[\u001b[0m\u001b[0;34m'receiver_labels_encoded'\u001b[0m\u001b[0;34m]\u001b[0m\u001b[0;34m]\u001b[0m\u001b[0;34m,\u001b[0m\u001b[0;34m\u001b[0m\u001b[0;34m\u001b[0m\u001b[0m\n\u001b[1;32m      4\u001b[0m     \u001b[0mvalidation_data\u001b[0m\u001b[0;34m=\u001b[0m\u001b[0;34m(\u001b[0m\u001b[0mvalidation_encoded_padded\u001b[0m\u001b[0;34m,\u001b[0m \u001b[0;34m[\u001b[0m\u001b[0mtest_df\u001b[0m\u001b[0;34m[\u001b[0m\u001b[0;34m'sender_labels_encoded'\u001b[0m\u001b[0;34m]\u001b[0m\u001b[0;34m,\u001b[0m \u001b[0mtest_df\u001b[0m\u001b[0;34m[\u001b[0m\u001b[0;34m'receiver_labels_encoded'\u001b[0m\u001b[0;34m]\u001b[0m\u001b[0;34m]\u001b[0m\u001b[0;34m)\u001b[0m\u001b[0;34m,\u001b[0m\u001b[0;34m\u001b[0m\u001b[0;34m\u001b[0m\u001b[0m\n\u001b[1;32m      5\u001b[0m     \u001b[0mepochs\u001b[0m\u001b[0;34m=\u001b[0m\u001b[0;36m10\u001b[0m\u001b[0;34m\u001b[0m\u001b[0;34m\u001b[0m\u001b[0m\n",
            "\u001b[0;32m/usr/local/lib/python3.10/dist-packages/keras/utils/traceback_utils.py\u001b[0m in \u001b[0;36merror_handler\u001b[0;34m(*args, **kwargs)\u001b[0m\n\u001b[1;32m     63\u001b[0m         \u001b[0mfiltered_tb\u001b[0m \u001b[0;34m=\u001b[0m \u001b[0;32mNone\u001b[0m\u001b[0;34m\u001b[0m\u001b[0;34m\u001b[0m\u001b[0m\n\u001b[1;32m     64\u001b[0m         \u001b[0;32mtry\u001b[0m\u001b[0;34m:\u001b[0m\u001b[0;34m\u001b[0m\u001b[0;34m\u001b[0m\u001b[0m\n\u001b[0;32m---> 65\u001b[0;31m             \u001b[0;32mreturn\u001b[0m \u001b[0mfn\u001b[0m\u001b[0;34m(\u001b[0m\u001b[0;34m*\u001b[0m\u001b[0margs\u001b[0m\u001b[0;34m,\u001b[0m \u001b[0;34m**\u001b[0m\u001b[0mkwargs\u001b[0m\u001b[0;34m)\u001b[0m\u001b[0;34m\u001b[0m\u001b[0;34m\u001b[0m\u001b[0m\n\u001b[0m\u001b[1;32m     66\u001b[0m         \u001b[0;32mexcept\u001b[0m \u001b[0mException\u001b[0m \u001b[0;32mas\u001b[0m \u001b[0me\u001b[0m\u001b[0;34m:\u001b[0m\u001b[0;34m\u001b[0m\u001b[0;34m\u001b[0m\u001b[0m\n\u001b[1;32m     67\u001b[0m             \u001b[0mfiltered_tb\u001b[0m \u001b[0;34m=\u001b[0m \u001b[0m_process_traceback_frames\u001b[0m\u001b[0;34m(\u001b[0m\u001b[0me\u001b[0m\u001b[0;34m.\u001b[0m\u001b[0m__traceback__\u001b[0m\u001b[0;34m)\u001b[0m\u001b[0;34m\u001b[0m\u001b[0;34m\u001b[0m\u001b[0m\n",
            "\u001b[0;32m/usr/local/lib/python3.10/dist-packages/keras/engine/training.py\u001b[0m in \u001b[0;36mfit\u001b[0;34m(self, x, y, batch_size, epochs, verbose, callbacks, validation_split, validation_data, shuffle, class_weight, sample_weight, initial_epoch, steps_per_epoch, validation_steps, validation_batch_size, validation_freq, max_queue_size, workers, use_multiprocessing)\u001b[0m\n\u001b[1;32m   1683\u001b[0m                         ):\n\u001b[1;32m   1684\u001b[0m                             \u001b[0mcallbacks\u001b[0m\u001b[0;34m.\u001b[0m\u001b[0mon_train_batch_begin\u001b[0m\u001b[0;34m(\u001b[0m\u001b[0mstep\u001b[0m\u001b[0;34m)\u001b[0m\u001b[0;34m\u001b[0m\u001b[0;34m\u001b[0m\u001b[0m\n\u001b[0;32m-> 1685\u001b[0;31m                             \u001b[0mtmp_logs\u001b[0m \u001b[0;34m=\u001b[0m \u001b[0mself\u001b[0m\u001b[0;34m.\u001b[0m\u001b[0mtrain_function\u001b[0m\u001b[0;34m(\u001b[0m\u001b[0miterator\u001b[0m\u001b[0;34m)\u001b[0m\u001b[0;34m\u001b[0m\u001b[0;34m\u001b[0m\u001b[0m\n\u001b[0m\u001b[1;32m   1686\u001b[0m                             \u001b[0;32mif\u001b[0m \u001b[0mdata_handler\u001b[0m\u001b[0;34m.\u001b[0m\u001b[0mshould_sync\u001b[0m\u001b[0;34m:\u001b[0m\u001b[0;34m\u001b[0m\u001b[0;34m\u001b[0m\u001b[0m\n\u001b[1;32m   1687\u001b[0m                                 \u001b[0mcontext\u001b[0m\u001b[0;34m.\u001b[0m\u001b[0masync_wait\u001b[0m\u001b[0;34m(\u001b[0m\u001b[0;34m)\u001b[0m\u001b[0;34m\u001b[0m\u001b[0;34m\u001b[0m\u001b[0m\n",
            "\u001b[0;32m/usr/local/lib/python3.10/dist-packages/tensorflow/python/util/traceback_utils.py\u001b[0m in \u001b[0;36merror_handler\u001b[0;34m(*args, **kwargs)\u001b[0m\n\u001b[1;32m    148\u001b[0m     \u001b[0mfiltered_tb\u001b[0m \u001b[0;34m=\u001b[0m \u001b[0;32mNone\u001b[0m\u001b[0;34m\u001b[0m\u001b[0;34m\u001b[0m\u001b[0m\n\u001b[1;32m    149\u001b[0m     \u001b[0;32mtry\u001b[0m\u001b[0;34m:\u001b[0m\u001b[0;34m\u001b[0m\u001b[0;34m\u001b[0m\u001b[0m\n\u001b[0;32m--> 150\u001b[0;31m       \u001b[0;32mreturn\u001b[0m \u001b[0mfn\u001b[0m\u001b[0;34m(\u001b[0m\u001b[0;34m*\u001b[0m\u001b[0margs\u001b[0m\u001b[0;34m,\u001b[0m \u001b[0;34m**\u001b[0m\u001b[0mkwargs\u001b[0m\u001b[0;34m)\u001b[0m\u001b[0;34m\u001b[0m\u001b[0;34m\u001b[0m\u001b[0m\n\u001b[0m\u001b[1;32m    151\u001b[0m     \u001b[0;32mexcept\u001b[0m \u001b[0mException\u001b[0m \u001b[0;32mas\u001b[0m \u001b[0me\u001b[0m\u001b[0;34m:\u001b[0m\u001b[0;34m\u001b[0m\u001b[0;34m\u001b[0m\u001b[0m\n\u001b[1;32m    152\u001b[0m       \u001b[0mfiltered_tb\u001b[0m \u001b[0;34m=\u001b[0m \u001b[0m_process_traceback_frames\u001b[0m\u001b[0;34m(\u001b[0m\u001b[0me\u001b[0m\u001b[0;34m.\u001b[0m\u001b[0m__traceback__\u001b[0m\u001b[0;34m)\u001b[0m\u001b[0;34m\u001b[0m\u001b[0;34m\u001b[0m\u001b[0m\n",
            "\u001b[0;32m/usr/local/lib/python3.10/dist-packages/tensorflow/python/eager/polymorphic_function/polymorphic_function.py\u001b[0m in \u001b[0;36m__call__\u001b[0;34m(self, *args, **kwds)\u001b[0m\n\u001b[1;32m    892\u001b[0m \u001b[0;34m\u001b[0m\u001b[0m\n\u001b[1;32m    893\u001b[0m       \u001b[0;32mwith\u001b[0m \u001b[0mOptionalXlaContext\u001b[0m\u001b[0;34m(\u001b[0m\u001b[0mself\u001b[0m\u001b[0;34m.\u001b[0m\u001b[0m_jit_compile\u001b[0m\u001b[0;34m)\u001b[0m\u001b[0;34m:\u001b[0m\u001b[0;34m\u001b[0m\u001b[0;34m\u001b[0m\u001b[0m\n\u001b[0;32m--> 894\u001b[0;31m         \u001b[0mresult\u001b[0m \u001b[0;34m=\u001b[0m \u001b[0mself\u001b[0m\u001b[0;34m.\u001b[0m\u001b[0m_call\u001b[0m\u001b[0;34m(\u001b[0m\u001b[0;34m*\u001b[0m\u001b[0margs\u001b[0m\u001b[0;34m,\u001b[0m \u001b[0;34m**\u001b[0m\u001b[0mkwds\u001b[0m\u001b[0;34m)\u001b[0m\u001b[0;34m\u001b[0m\u001b[0;34m\u001b[0m\u001b[0m\n\u001b[0m\u001b[1;32m    895\u001b[0m \u001b[0;34m\u001b[0m\u001b[0m\n\u001b[1;32m    896\u001b[0m       \u001b[0mnew_tracing_count\u001b[0m \u001b[0;34m=\u001b[0m \u001b[0mself\u001b[0m\u001b[0;34m.\u001b[0m\u001b[0mexperimental_get_tracing_count\u001b[0m\u001b[0;34m(\u001b[0m\u001b[0;34m)\u001b[0m\u001b[0;34m\u001b[0m\u001b[0;34m\u001b[0m\u001b[0m\n",
            "\u001b[0;32m/usr/local/lib/python3.10/dist-packages/tensorflow/python/eager/polymorphic_function/polymorphic_function.py\u001b[0m in \u001b[0;36m_call\u001b[0;34m(self, *args, **kwds)\u001b[0m\n\u001b[1;32m    924\u001b[0m       \u001b[0;31m# In this case we have created variables on the first call, so we run the\u001b[0m\u001b[0;34m\u001b[0m\u001b[0;34m\u001b[0m\u001b[0m\n\u001b[1;32m    925\u001b[0m       \u001b[0;31m# defunned version which is guaranteed to never create variables.\u001b[0m\u001b[0;34m\u001b[0m\u001b[0;34m\u001b[0m\u001b[0m\n\u001b[0;32m--> 926\u001b[0;31m       \u001b[0;32mreturn\u001b[0m \u001b[0mself\u001b[0m\u001b[0;34m.\u001b[0m\u001b[0m_no_variable_creation_fn\u001b[0m\u001b[0;34m(\u001b[0m\u001b[0;34m*\u001b[0m\u001b[0margs\u001b[0m\u001b[0;34m,\u001b[0m \u001b[0;34m**\u001b[0m\u001b[0mkwds\u001b[0m\u001b[0;34m)\u001b[0m  \u001b[0;31m# pylint: disable=not-callable\u001b[0m\u001b[0;34m\u001b[0m\u001b[0;34m\u001b[0m\u001b[0m\n\u001b[0m\u001b[1;32m    927\u001b[0m     \u001b[0;32melif\u001b[0m \u001b[0mself\u001b[0m\u001b[0;34m.\u001b[0m\u001b[0m_variable_creation_fn\u001b[0m \u001b[0;32mis\u001b[0m \u001b[0;32mnot\u001b[0m \u001b[0;32mNone\u001b[0m\u001b[0;34m:\u001b[0m\u001b[0;34m\u001b[0m\u001b[0;34m\u001b[0m\u001b[0m\n\u001b[1;32m    928\u001b[0m       \u001b[0;31m# Release the lock early so that multiple threads can perform the call\u001b[0m\u001b[0;34m\u001b[0m\u001b[0;34m\u001b[0m\u001b[0m\n",
            "\u001b[0;32m/usr/local/lib/python3.10/dist-packages/tensorflow/python/eager/polymorphic_function/tracing_compiler.py\u001b[0m in \u001b[0;36m__call__\u001b[0;34m(self, *args, **kwargs)\u001b[0m\n\u001b[1;32m    141\u001b[0m       (concrete_function,\n\u001b[1;32m    142\u001b[0m        filtered_flat_args) = self._maybe_define_function(args, kwargs)\n\u001b[0;32m--> 143\u001b[0;31m     return concrete_function._call_flat(\n\u001b[0m\u001b[1;32m    144\u001b[0m         filtered_flat_args, captured_inputs=concrete_function.captured_inputs)  # pylint: disable=protected-access\n\u001b[1;32m    145\u001b[0m \u001b[0;34m\u001b[0m\u001b[0m\n",
            "\u001b[0;32m/usr/local/lib/python3.10/dist-packages/tensorflow/python/eager/polymorphic_function/monomorphic_function.py\u001b[0m in \u001b[0;36m_call_flat\u001b[0;34m(self, args, captured_inputs, cancellation_manager)\u001b[0m\n\u001b[1;32m   1755\u001b[0m         and executing_eagerly):\n\u001b[1;32m   1756\u001b[0m       \u001b[0;31m# No tape is watching; skip to running the function.\u001b[0m\u001b[0;34m\u001b[0m\u001b[0;34m\u001b[0m\u001b[0m\n\u001b[0;32m-> 1757\u001b[0;31m       return self._build_call_outputs(self._inference_function.call(\n\u001b[0m\u001b[1;32m   1758\u001b[0m           ctx, args, cancellation_manager=cancellation_manager))\n\u001b[1;32m   1759\u001b[0m     forward_backward = self._select_forward_and_backward_functions(\n",
            "\u001b[0;32m/usr/local/lib/python3.10/dist-packages/tensorflow/python/eager/polymorphic_function/monomorphic_function.py\u001b[0m in \u001b[0;36mcall\u001b[0;34m(self, ctx, args, cancellation_manager)\u001b[0m\n\u001b[1;32m    379\u001b[0m       \u001b[0;32mwith\u001b[0m \u001b[0m_InterpolateFunctionError\u001b[0m\u001b[0;34m(\u001b[0m\u001b[0mself\u001b[0m\u001b[0;34m)\u001b[0m\u001b[0;34m:\u001b[0m\u001b[0;34m\u001b[0m\u001b[0;34m\u001b[0m\u001b[0m\n\u001b[1;32m    380\u001b[0m         \u001b[0;32mif\u001b[0m \u001b[0mcancellation_manager\u001b[0m \u001b[0;32mis\u001b[0m \u001b[0;32mNone\u001b[0m\u001b[0;34m:\u001b[0m\u001b[0;34m\u001b[0m\u001b[0;34m\u001b[0m\u001b[0m\n\u001b[0;32m--> 381\u001b[0;31m           outputs = execute.execute(\n\u001b[0m\u001b[1;32m    382\u001b[0m               \u001b[0mstr\u001b[0m\u001b[0;34m(\u001b[0m\u001b[0mself\u001b[0m\u001b[0;34m.\u001b[0m\u001b[0msignature\u001b[0m\u001b[0;34m.\u001b[0m\u001b[0mname\u001b[0m\u001b[0;34m)\u001b[0m\u001b[0;34m,\u001b[0m\u001b[0;34m\u001b[0m\u001b[0;34m\u001b[0m\u001b[0m\n\u001b[1;32m    383\u001b[0m               \u001b[0mnum_outputs\u001b[0m\u001b[0;34m=\u001b[0m\u001b[0mself\u001b[0m\u001b[0;34m.\u001b[0m\u001b[0m_num_outputs\u001b[0m\u001b[0;34m,\u001b[0m\u001b[0;34m\u001b[0m\u001b[0;34m\u001b[0m\u001b[0m\n",
            "\u001b[0;32m/usr/local/lib/python3.10/dist-packages/tensorflow/python/eager/execute.py\u001b[0m in \u001b[0;36mquick_execute\u001b[0;34m(op_name, num_outputs, inputs, attrs, ctx, name)\u001b[0m\n\u001b[1;32m     50\u001b[0m   \u001b[0;32mtry\u001b[0m\u001b[0;34m:\u001b[0m\u001b[0;34m\u001b[0m\u001b[0;34m\u001b[0m\u001b[0m\n\u001b[1;32m     51\u001b[0m     \u001b[0mctx\u001b[0m\u001b[0;34m.\u001b[0m\u001b[0mensure_initialized\u001b[0m\u001b[0;34m(\u001b[0m\u001b[0;34m)\u001b[0m\u001b[0;34m\u001b[0m\u001b[0;34m\u001b[0m\u001b[0m\n\u001b[0;32m---> 52\u001b[0;31m     tensors = pywrap_tfe.TFE_Py_Execute(ctx._handle, device_name, op_name,\n\u001b[0m\u001b[1;32m     53\u001b[0m                                         inputs, attrs, num_outputs)\n\u001b[1;32m     54\u001b[0m   \u001b[0;32mexcept\u001b[0m \u001b[0mcore\u001b[0m\u001b[0;34m.\u001b[0m\u001b[0m_NotOkStatusException\u001b[0m \u001b[0;32mas\u001b[0m \u001b[0me\u001b[0m\u001b[0;34m:\u001b[0m\u001b[0;34m\u001b[0m\u001b[0;34m\u001b[0m\u001b[0m\n",
            "\u001b[0;31mKeyboardInterrupt\u001b[0m: "
          ]
        }
      ],
      "source": [
        "naive_history = naive_model.fit(\n",
        "    train_encoded_padded,\n",
        "    [train_df['sender_labels_encoded'], train_df['receiver_labels_encoded']],\n",
        "    validation_data=(validation_encoded_padded, [test_df['sender_labels_encoded'], test_df['receiver_labels_encoded']]),\n",
        "    epochs=10\n",
        ")"
      ]
    },
    {
      "cell_type": "code",
      "execution_count": 56,
      "metadata": {
        "colab": {
          "base_uri": "https://localhost:8080/",
          "height": 194
        },
        "id": "MRribfBKE007",
        "outputId": "e92246dd-f5a3-49c8-ebb8-4b8f99f060cf"
      },
      "outputs": [
        {
          "output_type": "error",
          "ename": "NameError",
          "evalue": "ignored",
          "traceback": [
            "\u001b[0;31m---------------------------------------------------------------------------\u001b[0m",
            "\u001b[0;31mNameError\u001b[0m                                 Traceback (most recent call last)",
            "\u001b[0;32m<ipython-input-56-d9fbecef9f6e>\u001b[0m in \u001b[0;36m<cell line: 1>\u001b[0;34m()\u001b[0m\n\u001b[0;32m----> 1\u001b[0;31m \u001b[0mEvaluateModel\u001b[0m\u001b[0;34m(\u001b[0m\u001b[0mnaive_model\u001b[0m\u001b[0;34m,\u001b[0m \u001b[0mtest_encoded_padded\u001b[0m\u001b[0;34m,\u001b[0m \u001b[0;34m[\u001b[0m\u001b[0mtest_df\u001b[0m\u001b[0;34m[\u001b[0m\u001b[0;34m'sender_labels_encoded'\u001b[0m\u001b[0;34m]\u001b[0m\u001b[0;34m,\u001b[0m \u001b[0mtest_df\u001b[0m\u001b[0;34m[\u001b[0m\u001b[0;34m'receiver_labels_encoded'\u001b[0m\u001b[0;34m]\u001b[0m\u001b[0;34m]\u001b[0m\u001b[0;34m,\u001b[0m \u001b[0mnaive_history\u001b[0m\u001b[0;34m)\u001b[0m\u001b[0;34m\u001b[0m\u001b[0;34m\u001b[0m\u001b[0m\n\u001b[0m",
            "\u001b[0;31mNameError\u001b[0m: name 'naive_history' is not defined"
          ]
        }
      ],
      "source": [
        "EvaluateModel(naive_model, test_encoded_padded, [test_df['sender_labels_encoded'], test_df['receiver_labels_encoded']], naive_history)"
      ]
    },
    {
      "cell_type": "markdown",
      "metadata": {
        "id": "2gVT4bqmE007"
      },
      "source": [
        "# Naive LSTM"
      ]
    },
    {
      "cell_type": "code",
      "execution_count": 58,
      "metadata": {
        "id": "4HlrA2SZE007"
      },
      "outputs": [],
      "source": [
        "def create_naive_lstm_model(\n",
        "        sequence_length: int = MAX_SEQUENCE_LEN,\n",
        "        embedding_output: int = EMBEDDING_OUTPUT_SIZE,\n",
        "        vocab_size: int = VOCAB_SIZE,\n",
        "        lstm_size: int = LSTM_SIZE,\n",
        "        hidden_size = HIDDEN_LAYER_SIZE,\n",
        "        learning_rate: float = 2e-5,\n",
        "    ):\n",
        "\n",
        "    message_input = keras.layers.Input(shape=(sequence_length,), dtype=tf.int64, name='message_input')\n",
        "\n",
        "    naive_lstm_ouput = pipe(\n",
        "        message_input,\n",
        "        keras.layers.Embedding(vocab_size, embedding_output, input_length=sequence_length),\n",
        "        keras.layers.LSTM(lstm_size),\n",
        "        keras.layers.Dense(hidden_size),\n",
        "    )\n",
        "\n",
        "    sender_output = keras.layers.Dense(1, activation='sigmoid', name=\"sender_output\")(naive_lstm_ouput)\n",
        "    receiver_output = keras.layers.Dense(1, activation='sigmoid', name=\"receiver_output\")(naive_lstm_ouput)\n",
        "\n",
        "    model = keras.Model(\n",
        "        inputs=[message_input],\n",
        "        outputs=[sender_output, receiver_output]\n",
        "    )\n",
        "\n",
        "    model.compile(\n",
        "        loss='binary_crossentropy',\n",
        "        optimizer=tf.keras.optimizers.Adam(learning_rate=learning_rate),\n",
        "        metrics=[AUC()]\n",
        "    )\n",
        "\n",
        "    return model"
      ]
    },
    {
      "cell_type": "code",
      "execution_count": 69,
      "metadata": {
        "colab": {
          "base_uri": "https://localhost:8080/"
        },
        "id": "rvp26YycE007",
        "outputId": "64d917e3-6294-4c11-d0b2-15f7f1e772c2"
      },
      "outputs": [
        {
          "output_type": "stream",
          "name": "stdout",
          "text": [
            "Model: \"model_7\"\n",
            "__________________________________________________________________________________________________\n",
            " Layer (type)                   Output Shape         Param #     Connected to                     \n",
            "==================================================================================================\n",
            " message_input (InputLayer)     [(None, 294)]        0           []                               \n",
            "                                                                                                  \n",
            " embedding_8 (Embedding)        (None, 294, 124)     620000      ['message_input[0][0]']          \n",
            "                                                                                                  \n",
            " lstm_7 (LSTM)                  (None, 64)           48384       ['embedding_8[0][0]']            \n",
            "                                                                                                  \n",
            " dense_7 (Dense)                (None, 64)           4160        ['lstm_7[0][0]']                 \n",
            "                                                                                                  \n",
            " sender_output (Dense)          (None, 1)            65          ['dense_7[0][0]']                \n",
            "                                                                                                  \n",
            " receiver_output (Dense)        (None, 1)            65          ['dense_7[0][0]']                \n",
            "                                                                                                  \n",
            "==================================================================================================\n",
            "Total params: 672,674\n",
            "Trainable params: 672,674\n",
            "Non-trainable params: 0\n",
            "__________________________________________________________________________________________________\n"
          ]
        }
      ],
      "source": [
        "naive_lstm_model = create_naive_lstm_model()\n",
        "naive_lstm_model.summary()"
      ]
    },
    {
      "cell_type": "code",
      "source": [
        "test_df['sender_labels_encoded'].unique()"
      ],
      "metadata": {
        "colab": {
          "base_uri": "https://localhost:8080/"
        },
        "id": "NqryFnZYLMGZ",
        "outputId": "d553fafe-ff3d-4e60-dff7-10b19eac3d4c"
      },
      "execution_count": 48,
      "outputs": [
        {
          "output_type": "execute_result",
          "data": {
            "text/plain": [
              "array([0, 1])"
            ]
          },
          "metadata": {},
          "execution_count": 48
        }
      ]
    },
    {
      "cell_type": "code",
      "execution_count": 60,
      "metadata": {
        "colab": {
          "base_uri": "https://localhost:8080/"
        },
        "id": "oxBYKAdZE007",
        "outputId": "262f5ab1-dcbe-4cff-f732-950cd2b3f951"
      },
      "outputs": [
        {
          "output_type": "stream",
          "name": "stdout",
          "text": [
            "Epoch 1/5\n",
            "376/376 [==============================] - 120s 306ms/step - loss: 0.9949 - sender_output_loss: 0.5026 - receiver_output_loss: 0.4922 - sender_output_auc_3: 0.5149 - receiver_output_auc_3: 0.4964 - val_loss: 0.5321 - val_sender_output_loss: 0.2866 - val_receiver_output_loss: 0.2455 - val_sender_output_auc_3: 0.6531 - val_receiver_output_auc_3: 0.6189\n",
            "Epoch 2/5\n",
            "376/376 [==============================] - 114s 304ms/step - loss: 0.3707 - sender_output_loss: 0.1810 - receiver_output_loss: 0.1896 - sender_output_auc_3: 0.6146 - receiver_output_auc_3: 0.5465 - val_loss: 0.5421 - val_sender_output_loss: 0.2968 - val_receiver_output_loss: 0.2452 - val_sender_output_auc_3: 0.6519 - val_receiver_output_auc_3: 0.6157\n",
            "Epoch 3/5\n",
            "376/376 [==============================] - 110s 293ms/step - loss: 0.3701 - sender_output_loss: 0.1807 - receiver_output_loss: 0.1894 - sender_output_auc_3: 0.6172 - receiver_output_auc_3: 0.5470 - val_loss: 0.5297 - val_sender_output_loss: 0.2871 - val_receiver_output_loss: 0.2426 - val_sender_output_auc_3: 0.6557 - val_receiver_output_auc_3: 0.6231\n",
            "Epoch 4/5\n",
            "376/376 [==============================] - 114s 302ms/step - loss: 0.3698 - sender_output_loss: 0.1802 - receiver_output_loss: 0.1896 - sender_output_auc_3: 0.6203 - receiver_output_auc_3: 0.5458 - val_loss: 0.5353 - val_sender_output_loss: 0.2921 - val_receiver_output_loss: 0.2432 - val_sender_output_auc_3: 0.6542 - val_receiver_output_auc_3: 0.6241\n",
            "Epoch 5/5\n",
            "376/376 [==============================] - 110s 292ms/step - loss: 0.3692 - sender_output_loss: 0.1801 - receiver_output_loss: 0.1891 - sender_output_auc_3: 0.6218 - receiver_output_auc_3: 0.5543 - val_loss: 0.5439 - val_sender_output_loss: 0.2974 - val_receiver_output_loss: 0.2466 - val_sender_output_auc_3: 0.6527 - val_receiver_output_auc_3: 0.6256\n"
          ]
        }
      ],
      "source": [
        "naive_lstm_history = naive_lstm_model.fit(\n",
        "    train_encoded_padded,\n",
        "    [train_df['sender_labels_encoded'], train_df['receiver_labels_encoded']],\n",
        "    validation_data=(test_encoded_padded, [test_df['sender_labels_encoded'], test_df['receiver_labels_encoded']]),\n",
        "    epochs=5\n",
        ")"
      ]
    },
    {
      "cell_type": "code",
      "execution_count": 71,
      "metadata": {
        "colab": {
          "base_uri": "https://localhost:8080/",
          "height": 961
        },
        "id": "zn78Av9WE007",
        "outputId": "164c1239-f6e7-4a98-d434-61183cd81c77"
      },
      "outputs": [
        {
          "output_type": "stream",
          "name": "stdout",
          "text": [
            "========== Model Accuracy ==========\n"
          ]
        },
        {
          "output_type": "display_data",
          "data": {
            "text/plain": [
              "<Figure size 640x480 with 1 Axes>"
            ],
            "image/png": "[encoded data removed]"
          },
          "metadata": {}
        },
        {
          "output_type": "stream",
          "name": "stdout",
          "text": [
            "========== Test Evaluation ==========\n",
            "78/78 - 10s - loss: 1.3859 - sender_output_loss: 0.6947 - receiver_output_loss: 0.6912 - sender_output_auc_5: 0.5030 - receiver_output_auc_5: 0.5172 - 10s/epoch - 133ms/step\n",
            "\n",
            "========== Test Metrics ==========\n",
            "78/78 [==============================] - 6s 76ms/step\n",
            "---------- Sender Labels ----------\n",
            "Best Threshold for Sender: 0.52 with F1 Score: 0.4781783681214421\n",
            "Best Threshold for Receiver: 0.52 with F1 Score: 0.4827586206896552\n",
            "              precision    recall  f1-score   support\n",
            "\n",
            "        True       0.92      1.00      0.96      2268\n",
            "       False       0.00      0.00      0.00       207\n",
            "\n",
            "    accuracy                           0.92      2475\n",
            "   macro avg       0.46      0.50      0.48      2475\n",
            "weighted avg       0.84      0.92      0.88      2475\n",
            "\n",
            "---------- Receiver Labels ----------\n",
            "              precision    recall  f1-score   support\n",
            "\n",
            "        True       0.93      1.00      0.97      2310\n",
            "       False       0.00      0.00      0.00       165\n",
            "\n",
            "    accuracy                           0.93      2475\n",
            "   macro avg       0.47      0.50      0.48      2475\n",
            "weighted avg       0.87      0.93      0.90      2475\n",
            "\n"
          ]
        }
      ],
      "source": [
        "from sklearn.metrics import f1_score\n",
        "EvaluateModel(naive_lstm_model, test_encoded_padded, [test_df['sender_labels_encoded'], test_df['receiver_labels_encoded']], naive_lstm_history)"
      ]
    },
    {
      "cell_type": "markdown",
      "metadata": {
        "id": "6u8lubHTE007"
      },
      "source": [
        "<hr/>\n",
        "\n",
        "# Context lstm"
      ]
    },
    {
      "cell_type": "code",
      "execution_count": 72,
      "metadata": {
        "id": "t4rDd-BHE008"
      },
      "outputs": [],
      "source": [
        "def create_context_lstm_model(\n",
        "        sequence_length: int = MAX_SEQUENCE_LEN,\n",
        "        embedding_output: int = EMBEDDING_OUTPUT_SIZE,\n",
        "        vocab_size: int = VOCAB_SIZE,\n",
        "        lstm_size: int = LSTM_SIZE,\n",
        "        dropout: float = DROPOUT_RATE,\n",
        "        hidden_size = HIDDEN_LAYER_SIZE,\n",
        "        learning_rate: float = 2e-5,\n",
        "    ):\n",
        "\n",
        "    current_message_input = keras.layers.Input(shape=(sequence_length,), dtype=tf.int64, name='current_message_input')\n",
        "    previous_message_input = keras.layers.Input(shape=(sequence_length,), dtype=tf.int64, name='previous_message_input')\n",
        "\n",
        "    current_message_lstm = pipe(\n",
        "        current_message_input,\n",
        "        keras.layers.Embedding(vocab_size, embedding_output, input_length=sequence_length),\n",
        "        keras.layers.LSTM(lstm_size),\n",
        "        keras.layers.Dropout(dropout)\n",
        "    )\n",
        "\n",
        "    previous_message_lstm = pipe(\n",
        "        previous_message_input,\n",
        "        keras.layers.Embedding(vocab_size, embedding_output, input_length=sequence_length),\n",
        "        keras.layers.LSTM(lstm_size),\n",
        "        keras.layers.Dropout(dropout)\n",
        "    )\n",
        "\n",
        "    context_lstm_ouput = pipe(\n",
        "        [\n",
        "            current_message_lstm,\n",
        "            previous_message_lstm\n",
        "        ],\n",
        "        keras.layers.Concatenate(),\n",
        "        keras.layers.Dense(hidden_size)\n",
        "    )\n",
        "\n",
        "    sender_output = keras.layers.Dense(1, activation='sigmoid', name=\"sender_output\")(context_lstm_ouput)\n",
        "    receiver_output = keras.layers.Dense(1, activation='sigmoid', name=\"receiver_output\")(context_lstm_ouput)\n",
        "\n",
        "    context_lstm_model = keras.Model(\n",
        "        inputs=[current_message_input, previous_message_input],\n",
        "        outputs=[sender_output, receiver_output]\n",
        "    )\n",
        "\n",
        "    context_lstm_model.compile(\n",
        "        loss='binary_crossentropy',\n",
        "        optimizer=tf.keras.optimizers.Adam(learning_rate=learning_rate),\n",
        "        metrics=[AUC()]\n",
        "    )\n",
        "\n",
        "    return context_lstm_model"
      ]
    },
    {
      "cell_type": "code",
      "execution_count": 73,
      "metadata": {
        "colab": {
          "base_uri": "https://localhost:8080/"
        },
        "id": "y6A6T3n-E008",
        "outputId": "54f71716-1a4c-436e-bb3f-0c4a5f965cda"
      },
      "outputs": [
        {
          "output_type": "stream",
          "name": "stdout",
          "text": [
            "Model: \"model_8\"\n",
            "__________________________________________________________________________________________________\n",
            " Layer (type)                   Output Shape         Param #     Connected to                     \n",
            "==================================================================================================\n",
            " current_message_input (InputLa  [(None, 294)]       0           []                               \n",
            " yer)                                                                                             \n",
            "                                                                                                  \n",
            " previous_message_input (InputL  [(None, 294)]       0           []                               \n",
            " ayer)                                                                                            \n",
            "                                                                                                  \n",
            " embedding_9 (Embedding)        (None, 294, 124)     620000      ['current_message_input[0][0]']  \n",
            "                                                                                                  \n",
            " embedding_10 (Embedding)       (None, 294, 124)     620000      ['previous_message_input[0][0]'] \n",
            "                                                                                                  \n",
            " lstm_8 (LSTM)                  (None, 64)           48384       ['embedding_9[0][0]']            \n",
            "                                                                                                  \n",
            " lstm_9 (LSTM)                  (None, 64)           48384       ['embedding_10[0][0]']           \n",
            "                                                                                                  \n",
            " dropout_2 (Dropout)            (None, 64)           0           ['lstm_8[0][0]']                 \n",
            "                                                                                                  \n",
            " dropout_3 (Dropout)            (None, 64)           0           ['lstm_9[0][0]']                 \n",
            "                                                                                                  \n",
            " concatenate_1 (Concatenate)    (None, 128)          0           ['dropout_2[0][0]',              \n",
            "                                                                  'dropout_3[0][0]']              \n",
            "                                                                                                  \n",
            " dense_8 (Dense)                (None, 64)           8256        ['concatenate_1[0][0]']          \n",
            "                                                                                                  \n",
            " sender_output (Dense)          (None, 1)            65          ['dense_8[0][0]']                \n",
            "                                                                                                  \n",
            " receiver_output (Dense)        (None, 1)            65          ['dense_8[0][0]']                \n",
            "                                                                                                  \n",
            "==================================================================================================\n",
            "Total params: 1,345,154\n",
            "Trainable params: 1,345,154\n",
            "Non-trainable params: 0\n",
            "__________________________________________________________________________________________________\n"
          ]
        }
      ],
      "source": [
        "context_lstm_model = create_context_lstm_model()\n",
        "context_lstm_model.summary()"
      ]
    },
    {
      "cell_type": "code",
      "execution_count": 74,
      "metadata": {
        "colab": {
          "base_uri": "https://localhost:8080/"
        },
        "id": "6a9o_ZGeE008",
        "outputId": "633328ce-8a61-4c96-96c1-bf4000d27e4e"
      },
      "outputs": [
        {
          "output_type": "stream",
          "name": "stdout",
          "text": [
            "Epoch 1/5\n",
            "376/376 [==============================] - 206s 528ms/step - loss: 0.8914 - sender_output_loss: 0.4422 - receiver_output_loss: 0.4492 - sender_output_auc_6: 0.4972 - receiver_output_auc_6: 0.4994 - val_loss: 0.5341 - val_sender_output_loss: 0.2916 - val_receiver_output_loss: 0.2425 - val_sender_output_auc_6: 0.6360 - val_receiver_output_auc_6: 0.6176\n",
            "Epoch 2/5\n",
            "376/376 [==============================] - 197s 522ms/step - loss: 0.3750 - sender_output_loss: 0.1827 - receiver_output_loss: 0.1923 - sender_output_auc_6: 0.5931 - receiver_output_auc_6: 0.5275 - val_loss: 0.5343 - val_sender_output_loss: 0.2907 - val_receiver_output_loss: 0.2437 - val_sender_output_auc_6: 0.6447 - val_receiver_output_auc_6: 0.6174\n",
            "Epoch 3/5\n",
            "376/376 [==============================] - 200s 530ms/step - loss: 0.3748 - sender_output_loss: 0.1825 - receiver_output_loss: 0.1923 - sender_output_auc_6: 0.5865 - receiver_output_auc_6: 0.5183 - val_loss: 0.5390 - val_sender_output_loss: 0.2950 - val_receiver_output_loss: 0.2441 - val_sender_output_auc_6: 0.6475 - val_receiver_output_auc_6: 0.6214\n",
            "Epoch 4/5\n",
            "376/376 [==============================] - 196s 522ms/step - loss: 0.3723 - sender_output_loss: 0.1813 - receiver_output_loss: 0.1910 - sender_output_auc_6: 0.6087 - receiver_output_auc_6: 0.5416 - val_loss: 0.5366 - val_sender_output_loss: 0.2921 - val_receiver_output_loss: 0.2446 - val_sender_output_auc_6: 0.6507 - val_receiver_output_auc_6: 0.6199\n",
            "Epoch 5/5\n",
            "376/376 [==============================] - 213s 568ms/step - loss: 0.3732 - sender_output_loss: 0.1821 - receiver_output_loss: 0.1911 - sender_output_auc_6: 0.5945 - receiver_output_auc_6: 0.5399 - val_loss: 0.5408 - val_sender_output_loss: 0.2962 - val_receiver_output_loss: 0.2446 - val_sender_output_auc_6: 0.6477 - val_receiver_output_auc_6: 0.6237\n"
          ]
        }
      ],
      "source": [
        "context_lstm_history = context_lstm_model.fit(\n",
        "    [train_encoded_padded, train_prev_encoded_padded],\n",
        "    [train_df['sender_labels_encoded'], train_df['receiver_labels_encoded']],\n",
        "    validation_data=([test_encoded_padded, test_prev_encoded_padded], [test_df['sender_labels_encoded'], test_df['receiver_labels_encoded']]),\n",
        "    epochs=5\n",
        ")"
      ]
    },
    {
      "cell_type": "code",
      "execution_count": 76,
      "metadata": {
        "colab": {
          "base_uri": "https://localhost:8080/",
          "height": 961
        },
        "id": "1tmLNrslE008",
        "outputId": "6555c62f-dd7e-4e74-efbf-e112d87e9340"
      },
      "outputs": [
        {
          "output_type": "stream",
          "name": "stdout",
          "text": [
            "========== Model Accuracy ==========\n"
          ]
        },
        {
          "output_type": "display_data",
          "data": {
            "text/plain": [
              "<Figure size 640x480 with 1 Axes>"
            ],
            "image/png": "[encoded data removed]"
          },
          "metadata": {}
        },
        {
          "output_type": "stream",
          "name": "stdout",
          "text": [
            "========== Test Evaluation ==========\n",
            "78/78 - 9s - loss: 0.5408 - sender_output_loss: 0.2962 - receiver_output_loss: 0.2446 - sender_output_auc_6: 0.6477 - receiver_output_auc_6: 0.6237 - 9s/epoch - 109ms/step\n",
            "\n",
            "========== Test Metrics ==========\n",
            "78/78 [==============================] - 8s 93ms/step\n",
            "---------- Sender Labels ----------\n",
            "Best Threshold for Sender: 0.06 with F1 Score: 0.5593540268456376\n",
            "Best Threshold for Receiver: 0.06 with F1 Score: 0.5298252279635259\n",
            "              precision    recall  f1-score   support\n",
            "\n",
            "        True       0.93      0.90      0.91      2268\n",
            "       False       0.18      0.24      0.20       207\n",
            "\n",
            "    accuracy                           0.85      2475\n",
            "   macro avg       0.55      0.57      0.56      2475\n",
            "weighted avg       0.87      0.85      0.86      2475\n",
            "\n",
            "---------- Receiver Labels ----------\n",
            "              precision    recall  f1-score   support\n",
            "\n",
            "        True       0.94      0.88      0.91      2310\n",
            "       False       0.11      0.21      0.15       165\n",
            "\n",
            "    accuracy                           0.84      2475\n",
            "   macro avg       0.53      0.55      0.53      2475\n",
            "weighted avg       0.89      0.84      0.86      2475\n",
            "\n"
          ]
        }
      ],
      "source": [
        "EvaluateModel(context_lstm_model, [test_encoded_padded, test_prev_encoded_padded], [test_df['sender_labels_encoded'], test_df['receiver_labels_encoded']], context_lstm_history)"
      ]
    },
    {
      "cell_type": "markdown",
      "metadata": {
        "id": "lW81rBcgE008"
      },
      "source": [
        "# LSTM + Power"
      ]
    },
    {
      "cell_type": "code",
      "execution_count": 77,
      "metadata": {
        "id": "f8H1OeFCE008"
      },
      "outputs": [],
      "source": [
        "def create_lstm_power_model(\n",
        "        sequence_length: int = MAX_SEQUENCE_LEN,\n",
        "        embedding_output: int = EMBEDDING_OUTPUT_SIZE,\n",
        "        vocab_size: int = VOCAB_SIZE,\n",
        "        lstm_size: int = LSTM_SIZE,\n",
        "        dropout: float = DROPOUT_RATE,\n",
        "        hidden_size = HIDDEN_LAYER_SIZE,\n",
        "        learning_rate: float = 2e-4,\n",
        "    ):\n",
        "\n",
        "    message_input = keras.layers.Input(shape=(sequence_length,), dtype=tf.int64, name='current_message_input')\n",
        "    power_diff_input = keras.layers.Input(shape=(1,), name='power_differential')\n",
        "\n",
        "    lstm_output = pipe(\n",
        "        message_input,\n",
        "        keras.layers.Embedding(vocab_size, embedding_output, input_length=sequence_length),\n",
        "        keras.layers.LSTM(lstm_size),\n",
        "        keras.layers.Dropout(dropout)\n",
        "    )\n",
        "\n",
        "    lstm_power_ouput = pipe(\n",
        "        [\n",
        "            lstm_output,\n",
        "            power_diff_input\n",
        "        ],\n",
        "        keras.layers.Concatenate(),\n",
        "        keras.layers.Dense(hidden_size),\n",
        "    )\n",
        "\n",
        "    sender_output = keras.layers.Dense(1, activation='sigmoid', name=\"sender_output\")(lstm_power_ouput)\n",
        "    receiver_output = keras.layers.Dense(1, activation='sigmoid', name=\"receiver_output\")(lstm_power_ouput)\n",
        "\n",
        "    lstm_power_model = keras.Model(\n",
        "        inputs=[message_input, power_diff_input],\n",
        "        outputs=[sender_output, receiver_output]\n",
        "    )\n",
        "\n",
        "    lstm_power_model.compile(\n",
        "        loss='binary_crossentropy',\n",
        "        optimizer=tf.keras.optimizers.Adam(learning_rate=learning_rate),\n",
        "        metrics=[AUC()]\n",
        "    )\n",
        "\n",
        "    return lstm_power_model"
      ]
    },
    {
      "cell_type": "code",
      "execution_count": 78,
      "metadata": {
        "colab": {
          "base_uri": "https://localhost:8080/"
        },
        "id": "Nkg5bmjGE008",
        "outputId": "260f7dad-470a-469a-a0d8-0ba8ab652536"
      },
      "outputs": [
        {
          "output_type": "stream",
          "name": "stdout",
          "text": [
            "Model: \"model_9\"\n",
            "__________________________________________________________________________________________________\n",
            " Layer (type)                   Output Shape         Param #     Connected to                     \n",
            "==================================================================================================\n",
            " current_message_input (InputLa  [(None, 294)]       0           []                               \n",
            " yer)                                                                                             \n",
            "                                                                                                  \n",
            " embedding_11 (Embedding)       (None, 294, 124)     620000      ['current_message_input[0][0]']  \n",
            "                                                                                                  \n",
            " lstm_10 (LSTM)                 (None, 64)           48384       ['embedding_11[0][0]']           \n",
            "                                                                                                  \n",
            " dropout_4 (Dropout)            (None, 64)           0           ['lstm_10[0][0]']                \n",
            "                                                                                                  \n",
            " power_differential (InputLayer  [(None, 1)]         0           []                               \n",
            " )                                                                                                \n",
            "                                                                                                  \n",
            " concatenate_2 (Concatenate)    (None, 65)           0           ['dropout_4[0][0]',              \n",
            "                                                                  'power_differential[0][0]']     \n",
            "                                                                                                  \n",
            " dense_9 (Dense)                (None, 64)           4224        ['concatenate_2[0][0]']          \n",
            "                                                                                                  \n",
            " sender_output (Dense)          (None, 1)            65          ['dense_9[0][0]']                \n",
            "                                                                                                  \n",
            " receiver_output (Dense)        (None, 1)            65          ['dense_9[0][0]']                \n",
            "                                                                                                  \n",
            "==================================================================================================\n",
            "Total params: 672,738\n",
            "Trainable params: 672,738\n",
            "Non-trainable params: 0\n",
            "__________________________________________________________________________________________________\n"
          ]
        }
      ],
      "source": [
        "lstm_power_model = create_lstm_power_model()\n",
        "lstm_power_model.summary()"
      ]
    },
    {
      "cell_type": "code",
      "execution_count": 81,
      "metadata": {
        "colab": {
          "base_uri": "https://localhost:8080/"
        },
        "id": "xfEva3HjE008",
        "outputId": "b90634c4-75b8-4390-d0ca-c67bc5bc3065"
      },
      "outputs": [
        {
          "output_type": "stream",
          "name": "stdout",
          "text": [
            "Epoch 1/5\n",
            "376/376 [==============================] - 125s 333ms/step - loss: 0.3796 - sender_output_loss: 0.1835 - receiver_output_loss: 0.1961 - sender_output_auc_6: 0.5852 - receiver_output_auc_6: 0.5211 - val_loss: 0.5337 - val_sender_output_loss: 0.2912 - val_receiver_output_loss: 0.2425 - val_sender_output_auc_6: 0.6529 - val_receiver_output_auc_6: 0.6188\n",
            "Epoch 2/5\n",
            "376/376 [==============================] - 123s 326ms/step - loss: 0.3727 - sender_output_loss: 0.1827 - receiver_output_loss: 0.1900 - sender_output_auc_6: 0.5852 - receiver_output_auc_6: 0.5476 - val_loss: 0.5339 - val_sender_output_loss: 0.2907 - val_receiver_output_loss: 0.2432 - val_sender_output_auc_6: 0.6529 - val_receiver_output_auc_6: 0.6200\n",
            "Epoch 3/5\n",
            "376/376 [==============================] - 121s 322ms/step - loss: 0.3708 - sender_output_loss: 0.1807 - receiver_output_loss: 0.1901 - sender_output_auc_6: 0.6177 - receiver_output_auc_6: 0.5519 - val_loss: 0.5424 - val_sender_output_loss: 0.2974 - val_receiver_output_loss: 0.2450 - val_sender_output_auc_6: 0.6597 - val_receiver_output_auc_6: 0.6212\n",
            "Epoch 4/5\n",
            "376/376 [==============================] - 121s 322ms/step - loss: 0.3692 - sender_output_loss: 0.1797 - receiver_output_loss: 0.1895 - sender_output_auc_6: 0.6274 - receiver_output_auc_6: 0.5585 - val_loss: 0.5370 - val_sender_output_loss: 0.2932 - val_receiver_output_loss: 0.2438 - val_sender_output_auc_6: 0.6584 - val_receiver_output_auc_6: 0.6260\n",
            "Epoch 5/5\n",
            "376/376 [==============================] - 122s 325ms/step - loss: 0.3693 - sender_output_loss: 0.1795 - receiver_output_loss: 0.1898 - sender_output_auc_6: 0.6228 - receiver_output_auc_6: 0.5650 - val_loss: 0.5308 - val_sender_output_loss: 0.2887 - val_receiver_output_loss: 0.2421 - val_sender_output_auc_6: 0.6601 - val_receiver_output_auc_6: 0.6274\n"
          ]
        }
      ],
      "source": [
        "lstm_power_history = context_lstm_model.fit(\n",
        "    [train_encoded_padded, train_df['game_score_delta'].apply(np.abs)],\n",
        "    [train_df['sender_labels_encoded'], train_df['receiver_labels_encoded']],\n",
        "    validation_data=([test_encoded_padded, test_df['game_score_delta'].apply(np.abs)], [test_df['sender_labels_encoded'], test_df['receiver_labels_encoded']]),\n",
        "    epochs=5\n",
        ")"
      ]
    },
    {
      "cell_type": "code",
      "execution_count": 82,
      "metadata": {
        "colab": {
          "base_uri": "https://localhost:8080/",
          "height": 961
        },
        "id": "1VyrjFRiE008",
        "outputId": "b560c7f1-1cae-4ef1-9ff9-01b4e4a08fc5"
      },
      "outputs": [
        {
          "output_type": "stream",
          "name": "stdout",
          "text": [
            "========== Model Accuracy ==========\n"
          ]
        },
        {
          "output_type": "display_data",
          "data": {
            "text/plain": [
              "<Figure size 640x480 with 1 Axes>"
            ],
            "image/png": "[encoded data removed]"
          },
          "metadata": {}
        },
        {
          "output_type": "stream",
          "name": "stdout",
          "text": [
            "========== Test Evaluation ==========\n",
            "78/78 - 5s - loss: 1.3885 - sender_output_loss: 0.6977 - receiver_output_loss: 0.6907 - sender_output_auc_7: 0.5604 - receiver_output_auc_7: 0.4360 - 5s/epoch - 69ms/step\n",
            "\n",
            "========== Test Metrics ==========\n",
            "78/78 [==============================] - 7s 88ms/step\n",
            "---------- Sender Labels ----------\n",
            "Best Threshold for Sender: 0.53 with F1 Score: 0.5192323192592402\n",
            "Best Threshold for Receiver: 0.59 with F1 Score: 0.48625792811839325\n",
            "              precision    recall  f1-score   support\n",
            "\n",
            "        True       0.92      0.86      0.89      2268\n",
            "       False       0.12      0.20      0.15       207\n",
            "\n",
            "    accuracy                           0.81      2475\n",
            "   macro avg       0.52      0.53      0.52      2475\n",
            "weighted avg       0.85      0.81      0.83      2475\n",
            "\n",
            "---------- Receiver Labels ----------\n",
            "              precision    recall  f1-score   support\n",
            "\n",
            "        True       0.93      0.98      0.95      2310\n",
            "       False       0.04      0.01      0.02       165\n",
            "\n",
            "    accuracy                           0.91      2475\n",
            "   macro avg       0.48      0.49      0.49      2475\n",
            "weighted avg       0.87      0.91      0.89      2475\n",
            "\n"
          ]
        }
      ],
      "source": [
        "EvaluateModel(lstm_power_model, [test_encoded_padded, test_df['game_score_delta']], [test_df['sender_labels_encoded'], test_df['receiver_labels_encoded']], lstm_power_history)"
      ]
    },
    {
      "cell_type": "markdown",
      "metadata": {
        "id": "-iWotr01E008"
      },
      "source": [
        "# Context LSTM + Power"
      ]
    },
    {
      "cell_type": "code",
      "execution_count": 83,
      "metadata": {
        "id": "0_MlDYL7E008"
      },
      "outputs": [],
      "source": [
        "def create_context_lstm_power_model(\n",
        "        sequence_length: int = MAX_SEQUENCE_LEN,\n",
        "        embedding_output: int = EMBEDDING_OUTPUT_SIZE,\n",
        "        vocab_size: int = VOCAB_SIZE,\n",
        "        lstm_size: int = LSTM_SIZE,\n",
        "        dropout: float = DROPOUT_RATE,\n",
        "        hidden_size = HIDDEN_LAYER_SIZE,\n",
        "        learning_rate: float = 2e-4,\n",
        "    ):\n",
        "\n",
        "    current_message_input = keras.layers.Input(shape=(sequence_length,), dtype=tf.int64, name='current_message_input')\n",
        "    previous_message_input = keras.layers.Input(shape=(sequence_length,), dtype=tf.int64, name='previous_message_input')\n",
        "    power_diff_input = keras.layers.Input(shape=(1,), name='power_differential')\n",
        "\n",
        "    current_message_lstm = pipe(\n",
        "        current_message_input,\n",
        "        keras.layers.Embedding(vocab_size, embedding_output, input_length=sequence_length),\n",
        "        keras.layers.LSTM(lstm_size),\n",
        "        keras.layers.Dropout(dropout)\n",
        "    )\n",
        "\n",
        "    previous_message_lstm = pipe(\n",
        "        previous_message_input,\n",
        "        keras.layers.Embedding(vocab_size, embedding_output, input_length=sequence_length),\n",
        "        keras.layers.LSTM(lstm_size),\n",
        "        keras.layers.Dropout(dropout)\n",
        "    )\n",
        "\n",
        "    context_lstm_power_ouput = pipe(\n",
        "        [\n",
        "            current_message_lstm,\n",
        "            previous_message_lstm,\n",
        "            power_diff_input\n",
        "        ],\n",
        "        keras.layers.Concatenate(),\n",
        "        keras.layers.Dense(hidden_size)\n",
        "    )\n",
        "\n",
        "    sender_output = keras.layers.Dense(1, activation='sigmoid', name=\"sender_output\")(context_lstm_power_ouput)\n",
        "    receiver_output = keras.layers.Dense(1, activation='sigmoid', name=\"receiver_output\")(context_lstm_power_ouput)\n",
        "\n",
        "    context_lstm_power_model = keras.Model(\n",
        "        inputs=[current_message_input, previous_message_input, power_diff_input],\n",
        "        outputs=[sender_output, receiver_output]\n",
        "    )\n",
        "\n",
        "    context_lstm_power_model.compile(\n",
        "        loss='binary_crossentropy',\n",
        "        optimizer=tf.keras.optimizers.Adam(learning_rate=learning_rate),\n",
        "        metrics=[AUC()]\n",
        "    )\n",
        "\n",
        "    return context_lstm_power_model"
      ]
    },
    {
      "cell_type": "code",
      "execution_count": 84,
      "metadata": {
        "colab": {
          "base_uri": "https://localhost:8080/"
        },
        "id": "QOr1uik2E009",
        "outputId": "1cb66ec1-857b-4c2c-964d-677b1a3add18"
      },
      "outputs": [
        {
          "output_type": "stream",
          "name": "stdout",
          "text": [
            "Model: \"model_10\"\n",
            "__________________________________________________________________________________________________\n",
            " Layer (type)                   Output Shape         Param #     Connected to                     \n",
            "==================================================================================================\n",
            " current_message_input (InputLa  [(None, 294)]       0           []                               \n",
            " yer)                                                                                             \n",
            "                                                                                                  \n",
            " previous_message_input (InputL  [(None, 294)]       0           []                               \n",
            " ayer)                                                                                            \n",
            "                                                                                                  \n",
            " embedding_12 (Embedding)       (None, 294, 124)     620000      ['current_message_input[0][0]']  \n",
            "                                                                                                  \n",
            " embedding_13 (Embedding)       (None, 294, 124)     620000      ['previous_message_input[0][0]'] \n",
            "                                                                                                  \n",
            " lstm_11 (LSTM)                 (None, 64)           48384       ['embedding_12[0][0]']           \n",
            "                                                                                                  \n",
            " lstm_12 (LSTM)                 (None, 64)           48384       ['embedding_13[0][0]']           \n",
            "                                                                                                  \n",
            " dropout_5 (Dropout)            (None, 64)           0           ['lstm_11[0][0]']                \n",
            "                                                                                                  \n",
            " dropout_6 (Dropout)            (None, 64)           0           ['lstm_12[0][0]']                \n",
            "                                                                                                  \n",
            " power_differential (InputLayer  [(None, 1)]         0           []                               \n",
            " )                                                                                                \n",
            "                                                                                                  \n",
            " concatenate_3 (Concatenate)    (None, 129)          0           ['dropout_5[0][0]',              \n",
            "                                                                  'dropout_6[0][0]',              \n",
            "                                                                  'power_differential[0][0]']     \n",
            "                                                                                                  \n",
            " dense_10 (Dense)               (None, 64)           8320        ['concatenate_3[0][0]']          \n",
            "                                                                                                  \n",
            " sender_output (Dense)          (None, 1)            65          ['dense_10[0][0]']               \n",
            "                                                                                                  \n",
            " receiver_output (Dense)        (None, 1)            65          ['dense_10[0][0]']               \n",
            "                                                                                                  \n",
            "==================================================================================================\n",
            "Total params: 1,345,218\n",
            "Trainable params: 1,345,218\n",
            "Non-trainable params: 0\n",
            "__________________________________________________________________________________________________\n"
          ]
        }
      ],
      "source": [
        "context_lstm_power_model = create_context_lstm_power_model()\n",
        "context_lstm_power_model.summary()"
      ]
    },
    {
      "cell_type": "code",
      "execution_count": 85,
      "metadata": {
        "colab": {
          "base_uri": "https://localhost:8080/"
        },
        "id": "hdB6z9_PE009",
        "outputId": "d00a890a-08cb-4fc5-9c7b-9e0e9421301d"
      },
      "outputs": [
        {
          "output_type": "stream",
          "name": "stdout",
          "text": [
            "Epoch 1/5\n",
            "376/376 [==============================] - 212s 543ms/step - loss: 0.4589 - sender_output_loss: 0.2246 - receiver_output_loss: 0.2343 - sender_output_auc_8: 0.5491 - receiver_output_auc_8: 0.5254 - val_loss: 0.5357 - val_sender_output_loss: 0.2931 - val_receiver_output_loss: 0.2426 - val_sender_output_auc_8: 0.6379 - val_receiver_output_auc_8: 0.6299\n",
            "Epoch 2/5\n",
            "376/376 [==============================] - 201s 535ms/step - loss: 0.3639 - sender_output_loss: 0.1756 - receiver_output_loss: 0.1884 - sender_output_auc_8: 0.6633 - receiver_output_auc_8: 0.5817 - val_loss: 0.5649 - val_sender_output_loss: 0.3057 - val_receiver_output_loss: 0.2592 - val_sender_output_auc_8: 0.6486 - val_receiver_output_auc_8: 0.6475\n",
            "Epoch 3/5\n",
            "376/376 [==============================] - 201s 534ms/step - loss: 0.3445 - sender_output_loss: 0.1645 - receiver_output_loss: 0.1801 - sender_output_auc_8: 0.7347 - receiver_output_auc_8: 0.6842 - val_loss: 0.5612 - val_sender_output_loss: 0.3014 - val_receiver_output_loss: 0.2599 - val_sender_output_auc_8: 0.6619 - val_receiver_output_auc_8: 0.6370\n",
            "Epoch 4/5\n",
            "376/376 [==============================] - 200s 531ms/step - loss: 0.2935 - sender_output_loss: 0.1381 - receiver_output_loss: 0.1554 - sender_output_auc_8: 0.8587 - receiver_output_auc_8: 0.8328 - val_loss: 0.5795 - val_sender_output_loss: 0.3214 - val_receiver_output_loss: 0.2581 - val_sender_output_auc_8: 0.6235 - val_receiver_output_auc_8: 0.5953\n",
            "Epoch 5/5\n",
            "376/376 [==============================] - 200s 531ms/step - loss: 0.2403 - sender_output_loss: 0.1118 - receiver_output_loss: 0.1285 - sender_output_auc_8: 0.9258 - receiver_output_auc_8: 0.9105 - val_loss: 0.6743 - val_sender_output_loss: 0.3711 - val_receiver_output_loss: 0.3032 - val_sender_output_auc_8: 0.6044 - val_receiver_output_auc_8: 0.5861\n"
          ]
        }
      ],
      "source": [
        "context_lstm_power_history = context_lstm_power_model.fit(\n",
        "    [train_encoded_padded, train_prev_encoded_padded, train_df['game_score_delta']],\n",
        "    [train_df['sender_labels_encoded'], train_df['receiver_labels_encoded']],\n",
        "    validation_data=([test_encoded_padded, test_prev_encoded_padded, test_df['game_score_delta']], [test_df['sender_labels_encoded'], test_df['receiver_labels_encoded']]),\n",
        "    epochs=5\n",
        ")"
      ]
    },
    {
      "cell_type": "code",
      "execution_count": 87,
      "metadata": {
        "colab": {
          "base_uri": "https://localhost:8080/",
          "height": 961
        },
        "id": "E9rTP3aIE009",
        "outputId": "25788201-3fbb-47c9-a0af-b79444a7b482"
      },
      "outputs": [
        {
          "output_type": "stream",
          "name": "stdout",
          "text": [
            "========== Model Accuracy ==========\n"
          ]
        },
        {
          "output_type": "display_data",
          "data": {
            "text/plain": [
              "<Figure size 640x480 with 1 Axes>"
            ],
            "image/png": "[encoded data removed]"
          },
          "metadata": {}
        },
        {
          "output_type": "stream",
          "name": "stdout",
          "text": [
            "========== Test Evaluation ==========\n",
            "78/78 - 10s - loss: 0.6743 - sender_output_loss: 0.3711 - receiver_output_loss: 0.3032 - sender_output_auc_8: 0.6044 - receiver_output_auc_8: 0.5861 - 10s/epoch - 134ms/step\n",
            "\n",
            "========== Test Metrics ==========\n",
            "78/78 [==============================] - 8s 96ms/step\n",
            "---------- Sender Labels ----------\n",
            "Best Threshold for Sender: 0.15 with F1 Score: 0.5637202910025246\n",
            "Best Threshold for Receiver: 0.12 with F1 Score: 0.5549161533965742\n",
            "              precision    recall  f1-score   support\n",
            "\n",
            "        True       0.93      0.95      0.94      2268\n",
            "       False       0.22      0.17      0.19       207\n",
            "\n",
            "    accuracy                           0.88      2475\n",
            "   macro avg       0.57      0.56      0.56      2475\n",
            "weighted avg       0.87      0.88      0.87      2475\n",
            "\n",
            "---------- Receiver Labels ----------\n",
            "              precision    recall  f1-score   support\n",
            "\n",
            "        True       0.94      0.93      0.94      2310\n",
            "       False       0.16      0.18      0.17       165\n",
            "\n",
            "    accuracy                           0.88      2475\n",
            "   macro avg       0.55      0.56      0.55      2475\n",
            "weighted avg       0.89      0.88      0.89      2475\n",
            "\n"
          ]
        }
      ],
      "source": [
        "EvaluateModel(context_lstm_power_model, [test_encoded_padded, test_prev_encoded_padded, test_df['game_score_delta']], [test_df['sender_labels_encoded'], test_df['receiver_labels_encoded']], context_lstm_power_history)"
      ]
    },
    {
      "cell_type": "markdown",
      "metadata": {
        "id": "U2O8wdRbE009"
      },
      "source": [
        "<hr/>\n",
        "\n",
        "# Context LSTM Prediction Analysis"
      ]
    },
    {
      "cell_type": "code",
      "execution_count": null,
      "metadata": {
        "id": "QpNVWqM3E009",
        "outputId": "44fa018e-4c81-4c04-82d4-8b9e5acc37a4"
      },
      "outputs": [
        {
          "name": "stdout",
          "output_type": "stream",
          "text": [
            "78/78 [==============================] - 2s 24ms/step\n"
          ]
        },
        {
          "data": {
            "text/plain": [
              "array([0, 0, 0, ..., 0, 0, 0])"
            ]
          },
          "metadata": {},
          "output_type": "display_data"
        },
        {
          "data": {
            "text/plain": [
              "array([1, 0, 0, ..., 0, 0, 0])"
            ]
          },
          "metadata": {},
          "output_type": "display_data"
        }
      ],
      "source": [
        "pred = context_lstm_model.predict([test_encoded_padded, test_prev_encoded_padded])\n",
        "sender_pred = np.argmax(pred[0], axis=1)\n",
        "receiver_pred = np.argmax(pred[1], axis=1)\n",
        "\n",
        "display(sender_pred)\n",
        "display(receiver_pred)"
      ]
    },
    {
      "cell_type": "markdown",
      "metadata": {
        "id": "QD7-KIDJE009"
      },
      "source": [
        "## Sender Predictions"
      ]
    },
    {
      "cell_type": "code",
      "execution_count": null,
      "metadata": {
        "id": "P3ZvW0p-E009",
        "outputId": "c480531f-4e1a-46e2-d80e-c2989994e279"
      },
      "outputs": [
        {
          "data": {
            "text/html": [
              "<div>\n",
              "<style scoped>\n",
              "    .dataframe tbody tr th:only-of-type {\n",
              "        vertical-align: middle;\n",
              "    }\n",
              "\n",
              "    .dataframe tbody tr th {\n",
              "        vertical-align: top;\n",
              "    }\n",
              "\n",
              "    .dataframe thead th {\n",
              "        text-align: right;\n",
              "    }\n",
              "</style>\n",
              "<table border=\"1\" class=\"dataframe\">\n",
              "  <thead>\n",
              "    <tr style=\"text-align: right;\">\n",
              "      <th></th>\n",
              "      <th>prediction</th>\n",
              "      <th>target</th>\n",
              "      <th>message</th>\n",
              "      <th>context</th>\n",
              "    </tr>\n",
              "  </thead>\n",
              "  <tbody>\n",
              "    <tr>\n",
              "      <th>0</th>\n",
              "      <td>True</td>\n",
              "      <td>True</td>\n",
              "      <td>Hi Italy! Just opening up communication, and I...</td>\n",
              "      <td></td>\n",
              "    </tr>\n",
              "    <tr>\n",
              "      <th>1</th>\n",
              "      <td>False</td>\n",
              "      <td>False</td>\n",
              "      <td>I don't see why you need a dot</td>\n",
              "      <td>Alright I'll think about the move set and get ...</td>\n",
              "    </tr>\n",
              "    <tr>\n",
              "      <th>2</th>\n",
              "      <td>True</td>\n",
              "      <td>False</td>\n",
              "      <td>I'd personally rather you didn't, because a pl...</td>\n",
              "      <td>Bongiorno!  To crush my enemies, see them driv...</td>\n",
              "    </tr>\n",
              "    <tr>\n",
              "      <th>3</th>\n",
              "      <td>False</td>\n",
              "      <td>True</td>\n",
              "      <td>Hello Italy, just wanted to thank you for your...</td>\n",
              "      <td></td>\n",
              "    </tr>\n",
              "  </tbody>\n",
              "</table>\n",
              "</div>"
            ],
            "text/plain": [
              "  prediction  target                                            message  \\\n",
              "0       True    True  Hi Italy! Just opening up communication, and I...   \n",
              "1      False   False                     I don't see why you need a dot   \n",
              "2       True   False  I'd personally rather you didn't, because a pl...   \n",
              "3      False    True  Hello Italy, just wanted to thank you for your...   \n",
              "\n",
              "                                             context  \n",
              "0                                                     \n",
              "1  Alright I'll think about the move set and get ...  \n",
              "2  Bongiorno!  To crush my enemies, see them driv...  \n",
              "3                                                     "
            ]
          },
          "execution_count": 109,
          "metadata": {},
          "output_type": "execute_result"
        }
      ],
      "source": [
        "sender_table = PredictionGridPeek(sender_pred, test_df, CLASS_LABELS, \"sender\")\n",
        "sender_table"
      ]
    },
    {
      "cell_type": "code",
      "execution_count": null,
      "metadata": {
        "id": "N-CM9088E009",
        "outputId": "170fe0db-7b95-47e9-b025-d0a6fcdc46be"
      },
      "outputs": [
        {
          "data": {
            "text/plain": [
              "'Hi Italy! Just opening up communication, and I want to know what some of your initial thoughts on the game are and if/how we can work together'"
            ]
          },
          "metadata": {},
          "output_type": "display_data"
        },
        {
          "data": {
            "text/plain": [
              "\"I don't see why you need a dot\""
            ]
          },
          "metadata": {},
          "output_type": "display_data"
        },
        {
          "data": {
            "text/plain": [
              "\"I'd personally rather you didn't, because a play around Munich is also a play around Trieste and Vienna. I've heard that there's some rancor over in the West and you might be able to profit from a mobbed France if you went that way.\""
            ]
          },
          "metadata": {},
          "output_type": "display_data"
        },
        {
          "data": {
            "text/plain": [
              "'Hello Italy, just wanted to thank you for your gift to the culinary world and wish you a good game!'"
            ]
          },
          "metadata": {},
          "output_type": "display_data"
        }
      ],
      "source": [
        "sender_table[\"message\"].map(display);"
      ]
    },
    {
      "cell_type": "code",
      "execution_count": null,
      "metadata": {
        "id": "fRwQsYt5E009",
        "outputId": "4e7c1a02-35d5-45be-940e-53a1a8f007f9"
      },
      "outputs": [
        {
          "data": {
            "text/plain": [
              "''"
            ]
          },
          "metadata": {},
          "output_type": "display_data"
        },
        {
          "data": {
            "text/plain": [
              "\"Alright I'll think about the move set and get back to you in the morning\""
            ]
          },
          "metadata": {},
          "output_type": "display_data"
        },
        {
          "data": {
            "text/plain": [
              "'Bongiorno!  To crush my enemies, see them driven before me, and hear the lamentations of their women!  I mean, umm, not really sure yet.  Pondering whether or not to make an early play around Munich'"
            ]
          },
          "metadata": {},
          "output_type": "display_data"
        },
        {
          "data": {
            "text/plain": [
              "''"
            ]
          },
          "metadata": {},
          "output_type": "display_data"
        }
      ],
      "source": [
        "sender_table[\"context\"].map(display);"
      ]
    },
    {
      "cell_type": "markdown",
      "metadata": {
        "id": "igN8ifNYE009"
      },
      "source": [
        "## Receiver Predictions"
      ]
    },
    {
      "cell_type": "code",
      "execution_count": null,
      "metadata": {
        "id": "mg5djavqE009",
        "outputId": "dd192216-793a-4d01-ac2b-a3e96c3c7fb3"
      },
      "outputs": [
        {
          "data": {
            "text/html": [
              "<div>\n",
              "<style scoped>\n",
              "    .dataframe tbody tr th:only-of-type {\n",
              "        vertical-align: middle;\n",
              "    }\n",
              "\n",
              "    .dataframe tbody tr th {\n",
              "        vertical-align: top;\n",
              "    }\n",
              "\n",
              "    .dataframe thead th {\n",
              "        text-align: right;\n",
              "    }\n",
              "</style>\n",
              "<table border=\"1\" class=\"dataframe\">\n",
              "  <thead>\n",
              "    <tr style=\"text-align: right;\">\n",
              "      <th></th>\n",
              "      <th>prediction</th>\n",
              "      <th>target</th>\n",
              "      <th>message</th>\n",
              "      <th>context</th>\n",
              "    </tr>\n",
              "  </thead>\n",
              "  <tbody>\n",
              "    <tr>\n",
              "      <th>0</th>\n",
              "      <td>True</td>\n",
              "      <td>True</td>\n",
              "      <td>Well....that's a great question, and a lot of ...</td>\n",
              "      <td>Hi Italy! Just opening up communication, and I...</td>\n",
              "    </tr>\n",
              "    <tr>\n",
              "      <th>1</th>\n",
              "      <td>False</td>\n",
              "      <td>False</td>\n",
              "      <td>I think we should leave the Black Sea as a DMZ...</td>\n",
              "      <td>Hi Turkey! I would love to have a good relatio...</td>\n",
              "    </tr>\n",
              "    <tr>\n",
              "      <th>2</th>\n",
              "      <td>False</td>\n",
              "      <td>True</td>\n",
              "      <td>Hi Italy! Just opening up communication, and I...</td>\n",
              "      <td></td>\n",
              "    </tr>\n",
              "    <tr>\n",
              "      <th>3</th>\n",
              "      <td>True</td>\n",
              "      <td>False</td>\n",
              "      <td>Well, if you want to attack France in the Medi...</td>\n",
              "      <td>Well....that's a great question, and a lot of ...</td>\n",
              "    </tr>\n",
              "  </tbody>\n",
              "</table>\n",
              "</div>"
            ],
            "text/plain": [
              "  prediction  target                                            message  \\\n",
              "0       True    True  Well....that's a great question, and a lot of ...   \n",
              "1      False   False  I think we should leave the Black Sea as a DMZ...   \n",
              "2      False    True  Hi Italy! Just opening up communication, and I...   \n",
              "3       True   False  Well, if you want to attack France in the Medi...   \n",
              "\n",
              "                                             context  \n",
              "0  Hi Italy! Just opening up communication, and I...  \n",
              "1  Hi Turkey! I would love to have a good relatio...  \n",
              "2                                                     \n",
              "3  Well....that's a great question, and a lot of ...  "
            ]
          },
          "execution_count": 115,
          "metadata": {},
          "output_type": "execute_result"
        }
      ],
      "source": [
        "receiver_table = PredictionGridPeek(receiver_pred, test_df, CLASS_LABELS, \"receiver\")\n",
        "receiver_table"
      ]
    },
    {
      "cell_type": "code",
      "execution_count": null,
      "metadata": {
        "id": "LYdTMHnzE009",
        "outputId": "b049d072-b97b-481e-92cd-b1553bb06f09"
      },
      "outputs": [
        {
          "data": {
            "text/plain": [
              "\"Well....that's a great question, and a lot of it comes down to how free I'll be left to play in the West, no?\""
            ]
          },
          "metadata": {},
          "output_type": "display_data"
        },
        {
          "data": {
            "text/plain": [
              "\"I think we should leave the Black Sea as a DMZ, as I would like to 100% ensure I get Rum and I'm worried about Austria taking it. So if we can agree to leave it as a DMZ I can move my fleet to rum\""
            ]
          },
          "metadata": {},
          "output_type": "display_data"
        },
        {
          "data": {
            "text/plain": [
              "'Hi Italy! Just opening up communication, and I want to know what some of your initial thoughts on the game are and if/how we can work together'"
            ]
          },
          "metadata": {},
          "output_type": "display_data"
        },
        {
          "data": {
            "text/plain": [
              "'Well, if you want to attack France in the Mediterranean while I attack through Burgundy you can have Marseille and Iberia while I take Brest and Paris, then with France out of the way you could focus on Turkey or Austria. Sound fair?'"
            ]
          },
          "metadata": {},
          "output_type": "display_data"
        }
      ],
      "source": [
        "receiver_table[\"message\"].map(display);"
      ]
    },
    {
      "cell_type": "code",
      "execution_count": null,
      "metadata": {
        "id": "37Yem3EyE009",
        "outputId": "b4b116c5-6967-487d-fd47-b3424ed546df"
      },
      "outputs": [
        {
          "data": {
            "text/plain": [
              "'Hi Italy! Just opening up communication, and I want to know what some of your initial thoughts on the game are and if/how we can work together'"
            ]
          },
          "metadata": {},
          "output_type": "display_data"
        },
        {
          "data": {
            "text/plain": [
              "'Hi Turkey! I would love to have a good relationship between our two great countries! Are you up for blitzing Austria? Looking forwards to a great game with you! \\n-Russia'"
            ]
          },
          "metadata": {},
          "output_type": "display_data"
        },
        {
          "data": {
            "text/plain": [
              "''"
            ]
          },
          "metadata": {},
          "output_type": "display_data"
        },
        {
          "data": {
            "text/plain": [
              "\"Well....that's a great question, and a lot of it comes down to how free I'll be left to play in the West, no?\""
            ]
          },
          "metadata": {},
          "output_type": "display_data"
        }
      ],
      "source": [
        "receiver_table[\"context\"].map(display);"
      ]
    }
  ],
  "metadata": {
    "kernelspec": {
      "display_name": "Python 3",
      "name": "python3"
    },
    "language_info": {
      "codemirror_mode": {
        "name": "ipython",
        "version": 3
      },
      "file_extension": ".py",
      "mimetype": "text/x-python",
      "name": "python",
      "nbconvert_exporter": "python",
      "pygments_lexer": "ipython3",
      "version": "3.11.0rc1"
    },
    "colab": {
      "provenance": []
    },
    "accelerator": "TPU"
  },
  "nbformat": 4,
  "nbformat_minor": 0
}