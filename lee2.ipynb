{
 "cells": [
  {
   "cell_type": "markdown",
   "metadata": {},
   "source": [
    "<hr/>\n",
    "\n",
    "# imports"
   ]
  },
  {
   "cell_type": "code",
   "execution_count": 48,
   "metadata": {},
   "outputs": [
    {
     "name": "stdout",
     "output_type": "stream",
     "text": [
      "Requirement already satisfied: imblearn in /usr/local/lib/python3.11/dist-packages (0.0)\n",
      "Requirement already satisfied: imbalanced-learn in /usr/local/lib/python3.11/dist-packages (from imblearn) (0.11.0)\n",
      "Requirement already satisfied: numpy>=1.17.3 in /usr/local/lib/python3.11/dist-packages (from imbalanced-learn->imblearn) (1.26.0)\n",
      "Requirement already satisfied: scipy>=1.5.0 in /usr/local/lib/python3.11/dist-packages (from imbalanced-learn->imblearn) (1.11.3)\n",
      "Requirement already satisfied: scikit-learn>=1.0.2 in /usr/local/lib/python3.11/dist-packages (from imbalanced-learn->imblearn) (1.3.2)\n",
      "Requirement already satisfied: joblib>=1.1.1 in /usr/local/lib/python3.11/dist-packages (from imbalanced-learn->imblearn) (1.3.2)\n",
      "Requirement already satisfied: threadpoolctl>=2.0.0 in /usr/local/lib/python3.11/dist-packages (from imbalanced-learn->imblearn) (3.2.0)\n",
      "\u001b[33mWARNING: Running pip as the 'root' user can result in broken permissions and conflicting behaviour with the system package manager. It is recommended to use a virtual environment instead: https://pip.pypa.io/warnings/venv\u001b[0m\u001b[33m\n",
      "\u001b[0m\n",
      "\u001b[1m[\u001b[0m\u001b[34;49mnotice\u001b[0m\u001b[1;39;49m]\u001b[0m\u001b[39;49m A new release of pip is available: \u001b[0m\u001b[31;49m23.2.1\u001b[0m\u001b[39;49m -> \u001b[0m\u001b[32;49m23.3.1\u001b[0m\n",
      "\u001b[1m[\u001b[0m\u001b[34;49mnotice\u001b[0m\u001b[1;39;49m]\u001b[0m\u001b[39;49m To update, run: \u001b[0m\u001b[32;49mpython3 -m pip install --upgrade pip\u001b[0m\n"
     ]
    }
   ],
   "source": [
    "!pip install imblearn"
   ]
  },
  {
   "cell_type": "code",
   "execution_count": 49,
   "metadata": {},
   "outputs": [],
   "source": [
    "import os\n",
    "os.environ['TF_CPP_MIN_LOG_LEVEL'] = '3' # mute tf warnings\n",
    "\n",
    "import pandas as pd\n",
    "import numpy as np\n",
    "import matplotlib.pyplot as plt\n",
    "import json\n",
    "import tensorflow as tf\n",
    "from tensorflow import keras\n",
    "from transformers import BertTokenizer, TFBertModel\n",
    "import math\n",
    "import sklearn\n",
    "import imblearn"
   ]
  },
  {
   "cell_type": "code",
   "execution_count": 50,
   "metadata": {},
   "outputs": [
    {
     "name": "stdout",
     "output_type": "stream",
     "text": [
      "Num GPUs Available:  1\n"
     ]
    }
   ],
   "source": [
    "print(\"Num GPUs Available: \", len(tf.config.list_physical_devices('GPU')))"
   ]
  },
  {
   "cell_type": "markdown",
   "metadata": {},
   "source": [
    "# Definitions"
   ]
  },
  {
   "cell_type": "code",
   "execution_count": 51,
   "metadata": {},
   "outputs": [],
   "source": [
    "def pipe(*funcs):\n",
    "    \"\"\"\n",
    "    Works similar to the semantics of a `pipe` in other programming languages.\n",
    "    Intended to make nested functions readable and easier to manipulate. It \n",
    "    will take the first item in the list and feed it as input to the next\n",
    "    function in the list, then it takes that output and feeds it as input to \n",
    "    the next function in the list, and so on until it reaches the last\n",
    "    function in the list and returns its output.\n",
    "\n",
    "    Example:\n",
    "        instead of this:\n",
    "            ```py\n",
    "            input_layer = Input(...)\n",
    "            embedding_layer = Embedding(...)(input_layer)\n",
    "            lstm_layer = LSTM(...)(embedding_layer)\n",
    "            hidden_layer = Dense(...)(lstm_layer)\n",
    "            output_layer = Dense(...)(hidden_layer)\n",
    "            ```\n",
    "        you can do this:\n",
    "            ```py\n",
    "            lstm_ouput = pipe(\n",
    "                Input(...),\n",
    "                Embedding(...),\n",
    "                LSTM(...),\n",
    "                Dense(...),\n",
    "                Dense(...)\n",
    "            )\n",
    "            ```\n",
    "    \"\"\"\n",
    "    out = funcs[0]\n",
    "    for func in funcs[1:]:\n",
    "        out = func(out)\n",
    "    return out"
   ]
  },
  {
   "cell_type": "code",
   "execution_count": 52,
   "metadata": {},
   "outputs": [],
   "source": [
    "def determine_name(row) -> str:\n",
    "    \"\"\"\n",
    "    Auxilary function used to determine the label for each given row.\n",
    "    \"\"\"\n",
    "    if row['sender_labels'] and row['receiver_labels']:\n",
    "        return 'straightforward'\n",
    "    elif not row['sender_labels'] and row['receiver_labels']:\n",
    "        return 'deceive'\n",
    "    elif row['sender_labels'] and not row['receiver_labels']:\n",
    "        return 'cassandra'\n",
    "    elif not row['sender_labels'] and not row['receiver_labels']:\n",
    "        return 'caught'\n",
    "    else:\n",
    "        return None"
   ]
  },
  {
   "cell_type": "code",
   "execution_count": 53,
   "metadata": {},
   "outputs": [],
   "source": [
    "def parse_jsonl(path: str) -> pd.DataFrame:\n",
    "    \"\"\"\n",
    "    Load the given jsonl file and parse each conversation into a readable pandas\n",
    "    data frame, where each row is a message. Additional data that is used later\n",
    "    is also added to the created dataframe for consistency accross all loaded\n",
    "    data.\n",
    "\n",
    "    Args:\n",
    "        path: str\n",
    "            the path to the jsonl file to load and parse\n",
    "    \n",
    "    Returns: pd.DataFrame\n",
    "        A parsed data frame where each row is a message.\n",
    "    \"\"\"\n",
    "    data = {}\n",
    "    with open(path, 'r') as f:\n",
    "        for (i, line) in enumerate(f):\n",
    "            line = json.loads(line)\n",
    "            line[\"conversation_id\"] = [i] * len(line[\"messages\"])\n",
    "            line['previous_message'] = ([\"\"] if len(line['messages']) > 0 else []) + line[\"messages\"][:-1]\n",
    "            for k in line.keys():\n",
    "                if k == \"players\":\n",
    "                    continue\n",
    "                if k == \"game_id\":\n",
    "                    line[k] = [line[k]] * len(line[\"messages\"])\n",
    "                data[k] = data.get(k, []) + line[k]\n",
    "    data = pd.DataFrame(data)\n",
    "    data['label'] = data.apply(determine_name, axis=1)\n",
    "    data['sender_labels_encoded'] = data['sender_labels'].astype(str).apply(lambda x: [\"True\", \"False\", \"NOANNOTATION\"].index(x))\n",
    "    data['receiver_labels_encoded'] = data['receiver_labels'].astype(str).apply(lambda x: [\"True\", \"False\", \"NOANNOTATION\"].index(x))\n",
    "    data[\"game_score_delta\"] = data['game_score_delta'].astype(float)\n",
    "    return data"
   ]
  },
  {
   "cell_type": "code",
   "execution_count": 122,
   "metadata": {},
   "outputs": [],
   "source": [
    "def EvaluateModel(model: tf.keras.Sequential, test_ds: tf.data.Dataset, test_target: pd.DataFrame, history: tf.keras.callbacks.History, skip_evaluation: bool = False) -> None:\n",
    "    \"\"\"\n",
    "    Take the model and plot the training accuracy and validation accuracy. Also,\n",
    "    Perform a evaluation on the test data, print the loss and accuracy, and print\n",
    "    the test metric scores.\n",
    "\n",
    "    Args:\n",
    "        model: tf.keras.Sequential\n",
    "            the model to test\n",
    "        test_ds: tf.data.Dataset\n",
    "            the test dataset to evaluate the model with\n",
    "        test_target: pd.DataFrame\n",
    "            the test data frame list with the target labels\n",
    "        history: tf.keras.callbacks.History\n",
    "            the history from fitting the model\n",
    "        label_encoder:\n",
    "            the label encoder used for the target labels\n",
    "    \"\"\"\n",
    "\n",
    "    print(f\"{'='*10} Model Accuracy {'='*10}\")\n",
    "    plt.plot(history.history['sender_output_accuracy'], label='sender_output_accuracy', color=\"tan\")\n",
    "    plt.plot(history.history['val_sender_output_accuracy'], label = 'val_sender_output_accuracy', color=\"darkorange\")\n",
    "    plt.plot(history.history['receiver_output_accuracy'], label='receiver_output_accuracy', color=\"cornflowerblue\")\n",
    "    plt.plot(history.history['val_receiver_output_accuracy'], label = 'val_receiver_output_accuracy', color=\"darkblue\")\n",
    "    plt.xlabel('Epoch')\n",
    "    plt.ylabel('Accuracy')\n",
    "    plt.ylim([0.5, 1])\n",
    "    plt.legend(loc='lower right')\n",
    "    plt.show()\n",
    "\n",
    "    if not skip_evaluation:\n",
    "        print(f\"{'='*10} Test Evaluation {'='*10}\")\n",
    "        model.evaluate(test_ds, test_target, verbose=2)\n",
    "        # print(f\"Test loss: {test_loss} | Test accuracy: {test_acc}\")\n",
    "        print()\n",
    "\n",
    "    print(f\"{'='*10} Test Metrics {'='*10}\")\n",
    "    y_pred = model.predict(test_ds)\n",
    "    print(f\"{'-'*10} Sender Labels {'-'*10}\")\n",
    "    print(sklearn.metrics.classification_report(test_target[0], np.argmax(y_pred[0], axis=1), target_names=[\"True\", \"False\"], zero_division=0))\n",
    "    print(f\"{'-'*10} Receiver Labels {'-'*10}\")\n",
    "    print(sklearn.metrics.classification_report(test_target[1], np.argmax(y_pred[1], axis=1), target_names=[\"True\", \"False\", \"NOANNOTATION\"], zero_division=0))"
   ]
  },
  {
   "cell_type": "code",
   "execution_count": 55,
   "metadata": {},
   "outputs": [],
   "source": [
    "def Tokenize(tokenizer, df: pd.DataFrame, sequence_len: int = 300) -> tuple:\n",
    "    \"\"\"\n",
    "    Makes a consistant return of tokenized and padded messages and previous messages.\n",
    "    \"\"\"\n",
    "    encoded_msg = tokenizer.texts_to_sequences(df['messages'])\n",
    "    encoded_prev_msg = tokenizer.texts_to_sequences(df['previous_message'])\n",
    "    return keras.preprocessing.sequence.pad_sequences(encoded_msg, sequence_len), keras.preprocessing.sequence.pad_sequences(encoded_prev_msg, sequence_len)"
   ]
  },
  {
   "cell_type": "markdown",
   "metadata": {},
   "source": [
    "<hr/>\n",
    "\n",
    "# data explortion"
   ]
  },
  {
   "cell_type": "code",
   "execution_count": 56,
   "metadata": {},
   "outputs": [
    {
     "data": {
      "text/html": [
       "<div>\n",
       "<style scoped>\n",
       "    .dataframe tbody tr th:only-of-type {\n",
       "        vertical-align: middle;\n",
       "    }\n",
       "\n",
       "    .dataframe tbody tr th {\n",
       "        vertical-align: top;\n",
       "    }\n",
       "\n",
       "    .dataframe thead th {\n",
       "        text-align: right;\n",
       "    }\n",
       "</style>\n",
       "<table border=\"1\" class=\"dataframe\">\n",
       "  <thead>\n",
       "    <tr style=\"text-align: right;\">\n",
       "      <th></th>\n",
       "      <th>messages</th>\n",
       "      <th>sender_labels</th>\n",
       "      <th>receiver_labels</th>\n",
       "      <th>speakers</th>\n",
       "      <th>receivers</th>\n",
       "      <th>absolute_message_index</th>\n",
       "      <th>relative_message_index</th>\n",
       "      <th>seasons</th>\n",
       "      <th>years</th>\n",
       "      <th>game_score</th>\n",
       "      <th>game_score_delta</th>\n",
       "      <th>players</th>\n",
       "      <th>game_id</th>\n",
       "    </tr>\n",
       "  </thead>\n",
       "  <tbody>\n",
       "    <tr>\n",
       "      <th>0</th>\n",
       "      <td>[Germany!\\n\\nJust the person I want to speak w...</td>\n",
       "      <td>[True, True, True, True, True, True, True, Tru...</td>\n",
       "      <td>[True, True, True, True, NOANNOTATION, NOANNOT...</td>\n",
       "      <td>[italy, germany, italy, germany, italy, italy,...</td>\n",
       "      <td>[germany, italy, germany, italy, germany, germ...</td>\n",
       "      <td>[74, 76, 86, 87, 89, 92, 97, 117, 119, 121, 12...</td>\n",
       "      <td>[0, 1, 2, 3, 4, 5, 6, 7, 8, 9, 10, 11, 12, 13,...</td>\n",
       "      <td>[Spring, Spring, Spring, Spring, Spring, Sprin...</td>\n",
       "      <td>[1901, 1901, 1901, 1901, 1901, 1901, 1901, 190...</td>\n",
       "      <td>[3, 3, 3, 3, 3, 3, 3, 3, 3, 3, 3, 3, 3, 3, 3, ...</td>\n",
       "      <td>[0, 0, 0, 0, 0, 0, 0, 0, 0, 0, 0, 0, 0, 0, 0, ...</td>\n",
       "      <td>[italy, germany]</td>\n",
       "      <td>1</td>\n",
       "    </tr>\n",
       "    <tr>\n",
       "      <th>1</th>\n",
       "      <td>[Hello there! What's your general plan for thi...</td>\n",
       "      <td>[True, False, True, False, True, True, True, T...</td>\n",
       "      <td>[True, True, True, True, True, NOANNOTATION, T...</td>\n",
       "      <td>[austria, italy, austria, italy, italy, austri...</td>\n",
       "      <td>[italy, austria, italy, austria, austria, ital...</td>\n",
       "      <td>[1, 67, 71, 73, 98, 99, 101, 179, 181, 185, 18...</td>\n",
       "      <td>[0, 1, 2, 3, 4, 5, 6, 7, 8, 9, 10, 11, 12, 13,...</td>\n",
       "      <td>[Spring, Spring, Spring, Spring, Spring, Sprin...</td>\n",
       "      <td>[1901, 1901, 1901, 1901, 1901, 1901, 1901, 190...</td>\n",
       "      <td>[3, 3, 3, 3, 3, 3, 3, 3, 3, 3, 3, 4, 5, 4, 4, ...</td>\n",
       "      <td>[0, 0, 0, 0, 0, 0, 0, 0, 0, 0, 0, -1, 1, -1, -...</td>\n",
       "      <td>[italy, austria]</td>\n",
       "      <td>1</td>\n",
       "    </tr>\n",
       "    <tr>\n",
       "      <th>2</th>\n",
       "      <td>[Buongiorno! \\nBe kinda nice to know if you're...</td>\n",
       "      <td>[True, True, False, True, True, True, True, Tr...</td>\n",
       "      <td>[True, False, True, False, True, True, NOANNOT...</td>\n",
       "      <td>[russia, italy, russia, italy, russia, italy, ...</td>\n",
       "      <td>[italy, russia, italy, russia, italy, russia, ...</td>\n",
       "      <td>[11, 50, 52, 57, 61, 66, 77, 85, 96, 102, 116,...</td>\n",
       "      <td>[0, 1, 2, 3, 4, 5, 6, 7, 8, 9, 10, 11, 12, 13,...</td>\n",
       "      <td>[Spring, Spring, Spring, Spring, Spring, Sprin...</td>\n",
       "      <td>[1901, 1901, 1901, 1901, 1901, 1901, 1901, 190...</td>\n",
       "      <td>[4, 3, 4, 3, 4, 3, 4, 3, 3, 3, 4, 3, 3, 4, 4, ...</td>\n",
       "      <td>[1, -1, 1, -1, 1, -1, 1, -1, -1, -1, 1, -1, -1...</td>\n",
       "      <td>[italy, russia]</td>\n",
       "      <td>1</td>\n",
       "    </tr>\n",
       "    <tr>\n",
       "      <th>3</th>\n",
       "      <td>[Hey italy! good luck this game. I'm guessing ...</td>\n",
       "      <td>[True, False, True, True, True, True, True, Tr...</td>\n",
       "      <td>[NOANNOTATION, True, True, False, True, True, ...</td>\n",
       "      <td>[england, italy, england, england, england, it...</td>\n",
       "      <td>[italy, england, italy, italy, italy, england,...</td>\n",
       "      <td>[32, 95, 106, 107, 108, 110, 113, 125, 126, 12...</td>\n",
       "      <td>[0, 1, 2, 3, 4, 5, 6, 7, 8, 9, 10, 11, 12, 13,...</td>\n",
       "      <td>[Spring, Spring, Spring, Spring, Spring, Sprin...</td>\n",
       "      <td>[1901, 1901, 1901, 1901, 1901, 1901, 1901, 190...</td>\n",
       "      <td>[3, 3, 3, 3, 3, 3, 3, 3, 3, 3, 3, 3, 3, 3, 4, ...</td>\n",
       "      <td>[0, 0, 0, 0, 0, 0, 0, 0, 0, 0, 0, 0, 0, 0, 0, ...</td>\n",
       "      <td>[italy, england]</td>\n",
       "      <td>1</td>\n",
       "    </tr>\n",
       "    <tr>\n",
       "      <th>4</th>\n",
       "      <td>[Hello Italy what’s up what are your thoughts ...</td>\n",
       "      <td>[True, False, False, True, True, True, True, T...</td>\n",
       "      <td>[NOANNOTATION, True, True, True, True, True, N...</td>\n",
       "      <td>[turkey, italy, italy, italy, turkey, italy, t...</td>\n",
       "      <td>[italy, turkey, turkey, turkey, italy, turkey,...</td>\n",
       "      <td>[45, 94, 103, 150, 154, 178, 192, 194, 195, 19...</td>\n",
       "      <td>[0, 1, 2, 3, 4, 5, 6, 7, 8, 9, 10, 11, 12, 13,...</td>\n",
       "      <td>[Spring, Spring, Spring, Spring, Fall, Fall, F...</td>\n",
       "      <td>[1901, 1901, 1901, 1901, 1901, 1901, 1901, 190...</td>\n",
       "      <td>[3, 3, 3, 3, 3, 3, 3, 3, 3, 3, 3, 3, 4, 4, 5, ...</td>\n",
       "      <td>[0, 0, 0, 0, 0, 0, 0, 0, 0, 0, 0, 0, -1, -1, 1...</td>\n",
       "      <td>[italy, turkey]</td>\n",
       "      <td>1</td>\n",
       "    </tr>\n",
       "  </tbody>\n",
       "</table>\n",
       "</div>"
      ],
      "text/plain": [
       "                                            messages  \\\n",
       "0  [Germany!\\n\\nJust the person I want to speak w...   \n",
       "1  [Hello there! What's your general plan for thi...   \n",
       "2  [Buongiorno! \\nBe kinda nice to know if you're...   \n",
       "3  [Hey italy! good luck this game. I'm guessing ...   \n",
       "4  [Hello Italy what’s up what are your thoughts ...   \n",
       "\n",
       "                                       sender_labels  \\\n",
       "0  [True, True, True, True, True, True, True, Tru...   \n",
       "1  [True, False, True, False, True, True, True, T...   \n",
       "2  [True, True, False, True, True, True, True, Tr...   \n",
       "3  [True, False, True, True, True, True, True, Tr...   \n",
       "4  [True, False, False, True, True, True, True, T...   \n",
       "\n",
       "                                     receiver_labels  \\\n",
       "0  [True, True, True, True, NOANNOTATION, NOANNOT...   \n",
       "1  [True, True, True, True, True, NOANNOTATION, T...   \n",
       "2  [True, False, True, False, True, True, NOANNOT...   \n",
       "3  [NOANNOTATION, True, True, False, True, True, ...   \n",
       "4  [NOANNOTATION, True, True, True, True, True, N...   \n",
       "\n",
       "                                            speakers  \\\n",
       "0  [italy, germany, italy, germany, italy, italy,...   \n",
       "1  [austria, italy, austria, italy, italy, austri...   \n",
       "2  [russia, italy, russia, italy, russia, italy, ...   \n",
       "3  [england, italy, england, england, england, it...   \n",
       "4  [turkey, italy, italy, italy, turkey, italy, t...   \n",
       "\n",
       "                                           receivers  \\\n",
       "0  [germany, italy, germany, italy, germany, germ...   \n",
       "1  [italy, austria, italy, austria, austria, ital...   \n",
       "2  [italy, russia, italy, russia, italy, russia, ...   \n",
       "3  [italy, england, italy, italy, italy, england,...   \n",
       "4  [italy, turkey, turkey, turkey, italy, turkey,...   \n",
       "\n",
       "                              absolute_message_index  \\\n",
       "0  [74, 76, 86, 87, 89, 92, 97, 117, 119, 121, 12...   \n",
       "1  [1, 67, 71, 73, 98, 99, 101, 179, 181, 185, 18...   \n",
       "2  [11, 50, 52, 57, 61, 66, 77, 85, 96, 102, 116,...   \n",
       "3  [32, 95, 106, 107, 108, 110, 113, 125, 126, 12...   \n",
       "4  [45, 94, 103, 150, 154, 178, 192, 194, 195, 19...   \n",
       "\n",
       "                              relative_message_index  \\\n",
       "0  [0, 1, 2, 3, 4, 5, 6, 7, 8, 9, 10, 11, 12, 13,...   \n",
       "1  [0, 1, 2, 3, 4, 5, 6, 7, 8, 9, 10, 11, 12, 13,...   \n",
       "2  [0, 1, 2, 3, 4, 5, 6, 7, 8, 9, 10, 11, 12, 13,...   \n",
       "3  [0, 1, 2, 3, 4, 5, 6, 7, 8, 9, 10, 11, 12, 13,...   \n",
       "4  [0, 1, 2, 3, 4, 5, 6, 7, 8, 9, 10, 11, 12, 13,...   \n",
       "\n",
       "                                             seasons  \\\n",
       "0  [Spring, Spring, Spring, Spring, Spring, Sprin...   \n",
       "1  [Spring, Spring, Spring, Spring, Spring, Sprin...   \n",
       "2  [Spring, Spring, Spring, Spring, Spring, Sprin...   \n",
       "3  [Spring, Spring, Spring, Spring, Spring, Sprin...   \n",
       "4  [Spring, Spring, Spring, Spring, Fall, Fall, F...   \n",
       "\n",
       "                                               years  \\\n",
       "0  [1901, 1901, 1901, 1901, 1901, 1901, 1901, 190...   \n",
       "1  [1901, 1901, 1901, 1901, 1901, 1901, 1901, 190...   \n",
       "2  [1901, 1901, 1901, 1901, 1901, 1901, 1901, 190...   \n",
       "3  [1901, 1901, 1901, 1901, 1901, 1901, 1901, 190...   \n",
       "4  [1901, 1901, 1901, 1901, 1901, 1901, 1901, 190...   \n",
       "\n",
       "                                          game_score  \\\n",
       "0  [3, 3, 3, 3, 3, 3, 3, 3, 3, 3, 3, 3, 3, 3, 3, ...   \n",
       "1  [3, 3, 3, 3, 3, 3, 3, 3, 3, 3, 3, 4, 5, 4, 4, ...   \n",
       "2  [4, 3, 4, 3, 4, 3, 4, 3, 3, 3, 4, 3, 3, 4, 4, ...   \n",
       "3  [3, 3, 3, 3, 3, 3, 3, 3, 3, 3, 3, 3, 3, 3, 4, ...   \n",
       "4  [3, 3, 3, 3, 3, 3, 3, 3, 3, 3, 3, 3, 4, 4, 5, ...   \n",
       "\n",
       "                                    game_score_delta           players  \\\n",
       "0  [0, 0, 0, 0, 0, 0, 0, 0, 0, 0, 0, 0, 0, 0, 0, ...  [italy, germany]   \n",
       "1  [0, 0, 0, 0, 0, 0, 0, 0, 0, 0, 0, -1, 1, -1, -...  [italy, austria]   \n",
       "2  [1, -1, 1, -1, 1, -1, 1, -1, -1, -1, 1, -1, -1...   [italy, russia]   \n",
       "3  [0, 0, 0, 0, 0, 0, 0, 0, 0, 0, 0, 0, 0, 0, 0, ...  [italy, england]   \n",
       "4  [0, 0, 0, 0, 0, 0, 0, 0, 0, 0, 0, 0, -1, -1, 1...   [italy, turkey]   \n",
       "\n",
       "   game_id  \n",
       "0        1  \n",
       "1        1  \n",
       "2        1  \n",
       "3        1  \n",
       "4        1  "
      ]
     },
     "execution_count": 56,
     "metadata": {},
     "output_type": "execute_result"
    }
   ],
   "source": [
    "train_df = pd.read_json(\"./data/train.jsonl\", lines=True)\n",
    "train_df.head()"
   ]
  },
  {
   "cell_type": "markdown",
   "metadata": {},
   "source": [
    "just a raw load of the data we can see it is unformated and needs to be parsed a little to better satisfy the pandas format."
   ]
  },
  {
   "cell_type": "code",
   "execution_count": 57,
   "metadata": {},
   "outputs": [],
   "source": [
    "train_df = (parse_jsonl(\"./data/train.jsonl\"))\n",
    "test_df = (parse_jsonl(\"./data/test.jsonl\"))\n",
    "validation_df = (parse_jsonl(\"./data/validation.jsonl\"))"
   ]
  },
  {
   "cell_type": "code",
   "execution_count": 58,
   "metadata": {},
   "outputs": [
    {
     "data": {
      "text/html": [
       "<div>\n",
       "<style scoped>\n",
       "    .dataframe tbody tr th:only-of-type {\n",
       "        vertical-align: middle;\n",
       "    }\n",
       "\n",
       "    .dataframe tbody tr th {\n",
       "        vertical-align: top;\n",
       "    }\n",
       "\n",
       "    .dataframe thead th {\n",
       "        text-align: right;\n",
       "    }\n",
       "</style>\n",
       "<table border=\"1\" class=\"dataframe\">\n",
       "  <thead>\n",
       "    <tr style=\"text-align: right;\">\n",
       "      <th></th>\n",
       "      <th>messages</th>\n",
       "      <th>sender_labels</th>\n",
       "      <th>receiver_labels</th>\n",
       "      <th>speakers</th>\n",
       "      <th>receivers</th>\n",
       "      <th>absolute_message_index</th>\n",
       "      <th>relative_message_index</th>\n",
       "      <th>seasons</th>\n",
       "      <th>years</th>\n",
       "      <th>game_score</th>\n",
       "      <th>game_score_delta</th>\n",
       "      <th>game_id</th>\n",
       "      <th>conversation_id</th>\n",
       "      <th>previous_message</th>\n",
       "      <th>label</th>\n",
       "      <th>sender_labels_encoded</th>\n",
       "      <th>receiver_labels_encoded</th>\n",
       "    </tr>\n",
       "  </thead>\n",
       "  <tbody>\n",
       "    <tr>\n",
       "      <th>0</th>\n",
       "      <td>Germany!\\n\\nJust the person I want to speak wi...</td>\n",
       "      <td>True</td>\n",
       "      <td>True</td>\n",
       "      <td>italy</td>\n",
       "      <td>germany</td>\n",
       "      <td>74</td>\n",
       "      <td>0</td>\n",
       "      <td>Spring</td>\n",
       "      <td>1901</td>\n",
       "      <td>3</td>\n",
       "      <td>0.0</td>\n",
       "      <td>1</td>\n",
       "      <td>0</td>\n",
       "      <td></td>\n",
       "      <td>straightforward</td>\n",
       "      <td>0</td>\n",
       "      <td>0</td>\n",
       "    </tr>\n",
       "    <tr>\n",
       "      <th>1</th>\n",
       "      <td>You've whet my appetite, Italy. What's the sug...</td>\n",
       "      <td>True</td>\n",
       "      <td>True</td>\n",
       "      <td>germany</td>\n",
       "      <td>italy</td>\n",
       "      <td>76</td>\n",
       "      <td>1</td>\n",
       "      <td>Spring</td>\n",
       "      <td>1901</td>\n",
       "      <td>3</td>\n",
       "      <td>0.0</td>\n",
       "      <td>1</td>\n",
       "      <td>0</td>\n",
       "      <td>Germany!\\n\\nJust the person I want to speak wi...</td>\n",
       "      <td>straightforward</td>\n",
       "      <td>0</td>\n",
       "      <td>0</td>\n",
       "    </tr>\n",
       "    <tr>\n",
       "      <th>2</th>\n",
       "      <td>👍</td>\n",
       "      <td>True</td>\n",
       "      <td>True</td>\n",
       "      <td>italy</td>\n",
       "      <td>germany</td>\n",
       "      <td>86</td>\n",
       "      <td>2</td>\n",
       "      <td>Spring</td>\n",
       "      <td>1901</td>\n",
       "      <td>3</td>\n",
       "      <td>0.0</td>\n",
       "      <td>1</td>\n",
       "      <td>0</td>\n",
       "      <td>You've whet my appetite, Italy. What's the sug...</td>\n",
       "      <td>straightforward</td>\n",
       "      <td>0</td>\n",
       "      <td>0</td>\n",
       "    </tr>\n",
       "    <tr>\n",
       "      <th>3</th>\n",
       "      <td>It seems like there are a lot of ways that cou...</td>\n",
       "      <td>True</td>\n",
       "      <td>True</td>\n",
       "      <td>germany</td>\n",
       "      <td>italy</td>\n",
       "      <td>87</td>\n",
       "      <td>3</td>\n",
       "      <td>Spring</td>\n",
       "      <td>1901</td>\n",
       "      <td>3</td>\n",
       "      <td>0.0</td>\n",
       "      <td>1</td>\n",
       "      <td>0</td>\n",
       "      <td>👍</td>\n",
       "      <td>straightforward</td>\n",
       "      <td>0</td>\n",
       "      <td>0</td>\n",
       "    </tr>\n",
       "    <tr>\n",
       "      <th>4</th>\n",
       "      <td>Yeah, I can’t say I’ve tried it and it works, ...</td>\n",
       "      <td>True</td>\n",
       "      <td>NOANNOTATION</td>\n",
       "      <td>italy</td>\n",
       "      <td>germany</td>\n",
       "      <td>89</td>\n",
       "      <td>4</td>\n",
       "      <td>Spring</td>\n",
       "      <td>1901</td>\n",
       "      <td>3</td>\n",
       "      <td>0.0</td>\n",
       "      <td>1</td>\n",
       "      <td>0</td>\n",
       "      <td>It seems like there are a lot of ways that cou...</td>\n",
       "      <td>straightforward</td>\n",
       "      <td>0</td>\n",
       "      <td>2</td>\n",
       "    </tr>\n",
       "  </tbody>\n",
       "</table>\n",
       "</div>"
      ],
      "text/plain": [
       "                                            messages  sender_labels  \\\n",
       "0  Germany!\\n\\nJust the person I want to speak wi...           True   \n",
       "1  You've whet my appetite, Italy. What's the sug...           True   \n",
       "2                                                  👍           True   \n",
       "3  It seems like there are a lot of ways that cou...           True   \n",
       "4  Yeah, I can’t say I’ve tried it and it works, ...           True   \n",
       "\n",
       "  receiver_labels speakers receivers  absolute_message_index  \\\n",
       "0            True    italy   germany                      74   \n",
       "1            True  germany     italy                      76   \n",
       "2            True    italy   germany                      86   \n",
       "3            True  germany     italy                      87   \n",
       "4    NOANNOTATION    italy   germany                      89   \n",
       "\n",
       "   relative_message_index seasons years game_score  game_score_delta  game_id  \\\n",
       "0                       0  Spring  1901          3               0.0        1   \n",
       "1                       1  Spring  1901          3               0.0        1   \n",
       "2                       2  Spring  1901          3               0.0        1   \n",
       "3                       3  Spring  1901          3               0.0        1   \n",
       "4                       4  Spring  1901          3               0.0        1   \n",
       "\n",
       "   conversation_id                                   previous_message  \\\n",
       "0                0                                                      \n",
       "1                0  Germany!\\n\\nJust the person I want to speak wi...   \n",
       "2                0  You've whet my appetite, Italy. What's the sug...   \n",
       "3                0                                                  👍   \n",
       "4                0  It seems like there are a lot of ways that cou...   \n",
       "\n",
       "             label  sender_labels_encoded  receiver_labels_encoded  \n",
       "0  straightforward                      0                        0  \n",
       "1  straightforward                      0                        0  \n",
       "2  straightforward                      0                        0  \n",
       "3  straightforward                      0                        0  \n",
       "4  straightforward                      0                        2  "
      ]
     },
     "execution_count": 58,
     "metadata": {},
     "output_type": "execute_result"
    }
   ],
   "source": [
    "train_df.head()"
   ]
  },
  {
   "cell_type": "markdown",
   "metadata": {},
   "source": [
    "# NONANNOTATION"
   ]
  },
  {
   "cell_type": "markdown",
   "metadata": {},
   "source": [
    "We can see that there are some `receiver_labels` that have the value `NOANNOTATION`. this is not a bool value "
   ]
  },
  {
   "cell_type": "code",
   "execution_count": 59,
   "metadata": {},
   "outputs": [
    {
     "data": {
      "text/plain": [
       "8.43"
      ]
     },
     "execution_count": 59,
     "metadata": {},
     "output_type": "execute_result"
    }
   ],
   "source": [
    "round(len(train_df[train_df[\"receiver_labels\"] == \"NOANNOTATION\"].index) /  len(train_df.index), 4) * 100"
   ]
  },
  {
   "cell_type": "markdown",
   "metadata": {},
   "source": [
    "I think we can ignore this for now since the main columns i think we will be using are `messages` and `sender_labels`\n",
    "\n",
    "If we do need it in the future, we can omit it only losing 8.43% of the rows."
   ]
  },
  {
   "cell_type": "markdown",
   "metadata": {},
   "source": [
    "# Unique Words"
   ]
  },
  {
   "cell_type": "code",
   "execution_count": 60,
   "metadata": {},
   "outputs": [
    {
     "name": "stdout",
     "output_type": "stream",
     "text": [
      "germany!: 12\n",
      "just: 1250\n",
      "the: 6574\n",
      "person: 29\n",
      "i: 8947\n",
      "want: 842\n",
      "to: 11615\n",
      "speak: 18\n",
      "with.: 34\n",
      "have: 2087\n",
      "a: 4783\n",
      "somewhat: 16\n",
      "crazy: 16\n",
      "idea: 97\n",
      "that: 3692\n",
      "i’ve: 153\n",
      "always: 84\n",
      "wanted: 146\n",
      "try: 307\n",
      "with: 2567\n",
      "i/g,: 1\n",
      "but: 2250\n",
      "never: 109\n",
      "actually: 208\n",
      "convinced: 11\n",
      "other: 285\n",
      "guy: 30\n",
      "it.: 263\n",
      "and,: 38\n",
      "what’s: 85\n",
      "worse,: 3\n"
     ]
    }
   ],
   "source": [
    "sequence_list = list(train_df['messages'].astype(str).str.lower().str.split().to_numpy())\n",
    "unique_words = {}\n",
    "for sequence in sequence_list:\n",
    "    for word in sequence:\n",
    "        unique_words[word] = unique_words.get(word, 0) + 1\n",
    "    # sequence_list = sequence_list + ([\"<PAD>\"] )\n",
    "\n",
    "for (i,(k,v)) in enumerate(unique_words.items()):\n",
    "    if i > 30:\n",
    "        break\n",
    "    print(f\"{k}: {v}\")"
   ]
  },
  {
   "cell_type": "code",
   "execution_count": 61,
   "metadata": {},
   "outputs": [
    {
     "data": {
      "text/plain": [
       "15657"
      ]
     },
     "execution_count": 61,
     "metadata": {},
     "output_type": "execute_result"
    }
   ],
   "source": [
    "len(unique_words)"
   ]
  },
  {
   "cell_type": "markdown",
   "metadata": {},
   "source": [
    "<!-- I processed only what is considered a **word** to the regex `\\w+`. this means that any punctuation is omitted. -->\n",
    "\n",
    "After processing, we have a total of 15,657 words.\n",
    "\n",
    "Some things to note are\n",
    "- there are some arbitrary number included\n",
    "- some words are repeated because of long character exaggeration (for example, \"aaaaaalllllllllll\" instead of \"all\" or \"aaaaany\" instead of \"any\")\n",
    "- some words are repeated because of misspellings and typos"
   ]
  },
  {
   "cell_type": "code",
   "execution_count": 62,
   "metadata": {},
   "outputs": [
    {
     "data": {
      "image/png": "[encoded data removed]",
      "text/plain": [
       "<Figure size 640x480 with 1 Axes>"
      ]
     },
     "metadata": {},
     "output_type": "display_data"
    }
   ],
   "source": [
    "plt.hist(list(map(len, sequence_list)),bins=100)\n",
    "plt.show()"
   ]
  },
  {
   "cell_type": "code",
   "execution_count": 63,
   "metadata": {},
   "outputs": [
    {
     "data": {
      "text/html": [
       "<div>\n",
       "<style scoped>\n",
       "    .dataframe tbody tr th:only-of-type {\n",
       "        vertical-align: middle;\n",
       "    }\n",
       "\n",
       "    .dataframe tbody tr th {\n",
       "        vertical-align: top;\n",
       "    }\n",
       "\n",
       "    .dataframe thead th {\n",
       "        text-align: right;\n",
       "    }\n",
       "</style>\n",
       "<table border=\"1\" class=\"dataframe\">\n",
       "  <thead>\n",
       "    <tr style=\"text-align: right;\">\n",
       "      <th></th>\n",
       "      <th></th>\n",
       "      <th>value</th>\n",
       "    </tr>\n",
       "  </thead>\n",
       "  <tbody>\n",
       "    <tr>\n",
       "      <th>0</th>\n",
       "      <td>Message count</td>\n",
       "      <td>13132</td>\n",
       "    </tr>\n",
       "    <tr>\n",
       "      <th>1</th>\n",
       "      <td>Average words per message</td>\n",
       "      <td>20</td>\n",
       "    </tr>\n",
       "    <tr>\n",
       "      <th>2</th>\n",
       "      <td>Unique word count</td>\n",
       "      <td>15657</td>\n",
       "    </tr>\n",
       "    <tr>\n",
       "      <th>3</th>\n",
       "      <td>Actual Lie count</td>\n",
       "      <td>591</td>\n",
       "    </tr>\n",
       "    <tr>\n",
       "      <th>4</th>\n",
       "      <td>Actual Truth count</td>\n",
       "      <td>12541</td>\n",
       "    </tr>\n",
       "  </tbody>\n",
       "</table>\n",
       "</div>"
      ],
      "text/plain": [
       "                              value\n",
       "0              Message count  13132\n",
       "1  Average words per message     20\n",
       "2          Unique word count  15657\n",
       "3           Actual Lie count    591\n",
       "4         Actual Truth count  12541"
      ]
     },
     "execution_count": 63,
     "metadata": {},
     "output_type": "execute_result"
    }
   ],
   "source": [
    "summary = {\n",
    "    \"\": [\n",
    "        'Message count',\n",
    "        'Average words per message',\n",
    "        'Unique word count',\n",
    "        'Actual Lie count',\n",
    "        'Actual Truth count'\n",
    "    ],\n",
    "    \"value\": [\n",
    "        len(train_df.index),\n",
    "        math.floor(sum(map(len, sequence_list)) / len(sequence_list)),\n",
    "        len(unique_words),\n",
    "        (~train_df['sender_labels']).sum(),\n",
    "        (train_df['sender_labels']).sum()\n",
    "    ],\n",
    "}\n",
    "pd.DataFrame(summary)"
   ]
  },
  {
   "cell_type": "markdown",
   "metadata": {},
   "source": [
    "# Label count"
   ]
  },
  {
   "cell_type": "code",
   "execution_count": 64,
   "metadata": {},
   "outputs": [
    {
     "data": {
      "text/plain": [
       "label\n",
       "straightforward    12040\n",
       "deceive              526\n",
       "cassandra            501\n",
       "caught                65\n",
       "Name: count, dtype: int64"
      ]
     },
     "execution_count": 64,
     "metadata": {},
     "output_type": "execute_result"
    }
   ],
   "source": [
    "train_df['label'].value_counts()"
   ]
  },
  {
   "cell_type": "code",
   "execution_count": 65,
   "metadata": {},
   "outputs": [
    {
     "data": {
      "image/png": "[encoded data removed]",
      "text/plain": [
       "<Figure size 640x480 with 1 Axes>"
      ]
     },
     "metadata": {},
     "output_type": "display_data"
    }
   ],
   "source": [
    "train_df['label'].value_counts().plot.bar()\n",
    "plt.show()"
   ]
  },
  {
   "cell_type": "code",
   "execution_count": 66,
   "metadata": {},
   "outputs": [
    {
     "data": {
      "text/plain": [
       "label\n",
       "straightforward    0.916844\n",
       "deceive            0.040055\n",
       "cassandra          0.038151\n",
       "caught             0.004950\n",
       "Name: proportion, dtype: float64"
      ]
     },
     "execution_count": 66,
     "metadata": {},
     "output_type": "execute_result"
    }
   ],
   "source": [
    "train_df['label'].value_counts(normalize=True)"
   ]
  },
  {
   "cell_type": "markdown",
   "metadata": {},
   "source": [
    "<hr/>\n",
    "\n",
    "# Constants"
   ]
  },
  {
   "cell_type": "code",
   "execution_count": 67,
   "metadata": {},
   "outputs": [],
   "source": [
    "MAX_SEQUENCE_LEN = max(map(len,sequence_list))\n",
    "VOCAB_SIZE = 5000 # len(unique_words)\n",
    "EMBEDDING_OUTPUT_SIZE = 124\n",
    "LSTM_SIZE = 64\n",
    "DROPOUT_RATE = 0.2\n",
    "HIDDEN_LAYER_SIZE = 64\n",
    "LEARNING_RATE = 0.001\n",
    "\n",
    "tokenizer = keras.preprocessing.text.Tokenizer(num_words=VOCAB_SIZE, oov_token=\"<OOV>\")\n",
    "tokenizer.fit_on_texts(train_df['messages'])\n",
    "smote = imblearn.over_sampling.SMOTE()\n",
    "\n",
    "# train_encoded_padded, y_train = smote.fit_resample(train_tokenized_padded, train_df['label_encoded'])\n",
    "# train_prev_encoded_padded, y_train = smote.fit_resample(train_prev_tokenized_padded, train_df['label_encoded'])\n",
    "\n",
    "train_encoded_padded, train_prev_encoded_padded = Tokenize(tokenizer, train_df, MAX_SEQUENCE_LEN)\n",
    "test_encoded_padded, test_prev_encoded_padded = Tokenize(tokenizer, test_df, MAX_SEQUENCE_LEN)\n",
    "validation_encoded_padded, validation_prev_encoded_padded = Tokenize(tokenizer, validation_df, MAX_SEQUENCE_LEN)"
   ]
  },
  {
   "cell_type": "markdown",
   "metadata": {},
   "source": [
    "<hr/>\n",
    "\n",
    "# Naive Neural Network"
   ]
  },
  {
   "cell_type": "code",
   "execution_count": 124,
   "metadata": {},
   "outputs": [],
   "source": [
    "def create_naive_model(\n",
    "        vocab_size: int = VOCAB_SIZE,\n",
    "        embedding_output: int = EMBEDDING_OUTPUT_SIZE,\n",
    "        sequence_length: int = MAX_SEQUENCE_LEN,\n",
    "        hidden_size: int = HIDDEN_LAYER_SIZE,\n",
    "        learning_rate: float = LEARNING_RATE\n",
    "    ):\n",
    "\n",
    "    message_input = keras.layers.Input(shape=(sequence_length,), dtype=tf.int64, name='message_input')\n",
    "    \n",
    "    naive_output = pipe(\n",
    "        message_input,\n",
    "        keras.layers.Embedding(vocab_size, embedding_output, input_length=sequence_length),\n",
    "        keras.layers.Flatten(),\n",
    "        keras.layers.Dense(hidden_size, activation=\"relu\")\n",
    "    )\n",
    "        \n",
    "    sender_output = keras.layers.Dense(2, activation='softmax', name=\"sender_output\")(naive_output)\n",
    "    receiver_output = keras.layers.Dense(3, activation='softmax', name=\"receiver_output\")(naive_output)\n",
    "\n",
    "    model = keras.Model(\n",
    "        inputs=[message_input],\n",
    "        outputs=[sender_output, receiver_output]\n",
    "    )\n",
    "\n",
    "    model.compile(\n",
    "        loss='sparse_categorical_crossentropy',\n",
    "        optimizer=tf.keras.optimizers.Adam(learning_rate=learning_rate),\n",
    "        metrics=['accuracy']\n",
    "    )\n",
    "\n",
    "    return model"
   ]
  },
  {
   "cell_type": "code",
   "execution_count": 125,
   "metadata": {},
   "outputs": [
    {
     "name": "stdout",
     "output_type": "stream",
     "text": [
      "Model: \"model_12\"\n",
      "__________________________________________________________________________________________________\n",
      " Layer (type)                Output Shape                 Param #   Connected to                  \n",
      "==================================================================================================\n",
      " message_input (InputLayer)  [(None, 294)]                0         []                            \n",
      "                                                                                                  \n",
      " embedding_12 (Embedding)    (None, 294, 124)             620000    ['message_input[0][0]']       \n",
      "                                                                                                  \n",
      " flatten_10 (Flatten)        (None, 36456)                0         ['embedding_12[0][0]']        \n",
      "                                                                                                  \n",
      " dense_11 (Dense)            (None, 64)                   2333248   ['flatten_10[0][0]']          \n",
      "                                                                                                  \n",
      " sender_output (Dense)       (None, 2)                    130       ['dense_11[0][0]']            \n",
      "                                                                                                  \n",
      " receiver_output (Dense)     (None, 3)                    195       ['dense_11[0][0]']            \n",
      "                                                                                                  \n",
      "==================================================================================================\n",
      "Total params: 2953573 (11.27 MB)\n",
      "Trainable params: 2953573 (11.27 MB)\n",
      "Non-trainable params: 0 (0.00 Byte)\n",
      "__________________________________________________________________________________________________\n",
      "__________________________________________________________________________________________________\n",
      " Layer (type)                Output Shape                 Param #   Connected to                  \n",
      "==================================================================================================\n",
      " message_input (InputLayer)  [(None, 294)]                0         []                            \n",
      "                                                                                                  \n",
      " embedding_12 (Embedding)    (None, 294, 124)             620000    ['message_input[0][0]']       \n",
      "                                                                                                  \n",
      " flatten_10 (Flatten)        (None, 36456)                0         ['embedding_12[0][0]']        \n",
      "                                                                                                  \n",
      " dense_11 (Dense)            (None, 64)                   2333248   ['flatten_10[0][0]']          \n",
      "                                                                                                  \n",
      " sender_output (Dense)       (None, 2)                    130       ['dense_11[0][0]']            \n",
      "                                                                                                  \n",
      " receiver_output (Dense)     (None, 3)                    195       ['dense_11[0][0]']            \n",
      "                                                                                                  \n",
      "==================================================================================================\n",
      "Total params: 2953573 (11.27 MB)\n",
      "Trainable params: 2953573 (11.27 MB)\n",
      "Non-trainable params: 0 (0.00 Byte)\n",
      "__________________________________________________________________________________________________\n"
     ]
    }
   ],
   "source": [
    "naive_model = create_naive_model()\n",
    "naive_model.summary()"
   ]
  },
  {
   "cell_type": "code",
   "execution_count": 126,
   "metadata": {},
   "outputs": [
    {
     "name": "stdout",
     "output_type": "stream",
     "text": [
      "Epoch 1/10\n",
      "411/411 [==============================] - 18s 41ms/step - loss: 0.6646 - sender_output_loss: 0.1868 - receiver_output_loss: 0.4778 - sender_output_accuracy: 0.9548 - receiver_output_accuracy: 0.8724 - val_loss: 0.6214 - val_sender_output_loss: 0.1624 - val_receiver_output_loss: 0.4590 - val_sender_output_accuracy: 0.9605 - val_receiver_output_accuracy: 0.8729\n",
      "Epoch 2/10\n",
      "411/411 [==============================] - 6s 15ms/step - loss: 0.5249 - sender_output_loss: 0.1398 - receiver_output_loss: 0.3851 - sender_output_accuracy: 0.9577 - receiver_output_accuracy: 0.8770 - val_loss: 0.6855 - val_sender_output_loss: 0.1789 - val_receiver_output_loss: 0.5066 - val_sender_output_accuracy: 0.9605 - val_receiver_output_accuracy: 0.8701\n",
      "Epoch 3/10\n",
      "411/411 [==============================] - 5s 11ms/step - loss: 0.2914 - sender_output_loss: 0.0753 - receiver_output_loss: 0.2161 - sender_output_accuracy: 0.9765 - receiver_output_accuracy: 0.9261 - val_loss: 0.8540 - val_sender_output_loss: 0.2265 - val_receiver_output_loss: 0.6275 - val_sender_output_accuracy: 0.9548 - val_receiver_output_accuracy: 0.8460\n",
      "Epoch 4/10\n",
      "411/411 [==============================] - 5s 11ms/step - loss: 0.1554 - sender_output_loss: 0.0356 - receiver_output_loss: 0.1199 - sender_output_accuracy: 0.9897 - receiver_output_accuracy: 0.9608 - val_loss: 1.0934 - val_sender_output_loss: 0.3161 - val_receiver_output_loss: 0.7772 - val_sender_output_accuracy: 0.9583 - val_receiver_output_accuracy: 0.8489\n",
      "Epoch 5/10\n",
      "411/411 [==============================] - 5s 12ms/step - loss: 0.1022 - sender_output_loss: 0.0214 - receiver_output_loss: 0.0808 - sender_output_accuracy: 0.9940 - receiver_output_accuracy: 0.9749 - val_loss: 1.2388 - val_sender_output_loss: 0.3578 - val_receiver_output_loss: 0.8809 - val_sender_output_accuracy: 0.9562 - val_receiver_output_accuracy: 0.8234\n",
      "Epoch 6/10\n",
      "411/411 [==============================] - 4s 10ms/step - loss: 0.0753 - sender_output_loss: 0.0146 - receiver_output_loss: 0.0606 - sender_output_accuracy: 0.9961 - receiver_output_accuracy: 0.9808 - val_loss: 1.3651 - val_sender_output_loss: 0.3785 - val_receiver_output_loss: 0.9866 - val_sender_output_accuracy: 0.9555 - val_receiver_output_accuracy: 0.7691\n",
      "Epoch 7/10\n",
      "411/411 [==============================] - 4s 10ms/step - loss: 0.0647 - sender_output_loss: 0.0133 - receiver_output_loss: 0.0515 - sender_output_accuracy: 0.9962 - receiver_output_accuracy: 0.9845 - val_loss: 1.5120 - val_sender_output_loss: 0.4347 - val_receiver_output_loss: 1.0773 - val_sender_output_accuracy: 0.9555 - val_receiver_output_accuracy: 0.8178\n",
      "Epoch 8/10\n",
      "411/411 [==============================] - 4s 10ms/step - loss: 0.0563 - sender_output_loss: 0.0126 - receiver_output_loss: 0.0438 - sender_output_accuracy: 0.9968 - receiver_output_accuracy: 0.9871 - val_loss: 1.6417 - val_sender_output_loss: 0.4502 - val_receiver_output_loss: 1.1915 - val_sender_output_accuracy: 0.9548 - val_receiver_output_accuracy: 0.8213\n",
      "Epoch 9/10\n",
      "411/411 [==============================] - 4s 10ms/step - loss: 0.0533 - sender_output_loss: 0.0112 - receiver_output_loss: 0.0421 - sender_output_accuracy: 0.9965 - receiver_output_accuracy: 0.9871 - val_loss: 1.7323 - val_sender_output_loss: 0.5025 - val_receiver_output_loss: 1.2298 - val_sender_output_accuracy: 0.9562 - val_receiver_output_accuracy: 0.7931\n",
      "Epoch 10/10\n",
      "411/411 [==============================] - 4s 9ms/step - loss: 0.0482 - sender_output_loss: 0.0104 - receiver_output_loss: 0.0378 - sender_output_accuracy: 0.9969 - receiver_output_accuracy: 0.9877 - val_loss: 1.8186 - val_sender_output_loss: 0.4975 - val_receiver_output_loss: 1.3211 - val_sender_output_accuracy: 0.9555 - val_receiver_output_accuracy: 0.8107\n"
     ]
    }
   ],
   "source": [
    "naive_history = naive_model.fit(\n",
    "    train_encoded_padded,\n",
    "    [train_df['sender_labels_encoded'], train_df['receiver_labels_encoded']],\n",
    "    validation_data=(validation_encoded_padded, [validation_df['sender_labels_encoded'], validation_df['receiver_labels_encoded']]),\n",
    "    epochs=10\n",
    ")"
   ]
  },
  {
   "cell_type": "code",
   "execution_count": 127,
   "metadata": {},
   "outputs": [
    {
     "name": "stdout",
     "output_type": "stream",
     "text": [
      "========== Model Accuracy ==========\n"
     ]
    },
    {
     "data": {
      "image/png": "[encoded data removed]",
      "text/plain": [
       "<Figure size 640x480 with 1 Axes>"
      ]
     },
     "metadata": {},
     "output_type": "display_data"
    },
    {
     "name": "stdout",
     "output_type": "stream",
     "text": [
      "========== Test Evaluation ==========\n",
      "86/86 - 1s - loss: 2.7263 - sender_output_loss: 1.0386 - receiver_output_loss: 1.6877 - sender_output_accuracy: 0.9044 - receiver_output_accuracy: 0.7906 - 583ms/epoch - 7ms/step\n",
      "\n",
      "========== Test Metrics ==========\n",
      "86/86 [==============================] - 0s 2ms/step\n",
      "---------- Sender Labels ----------\n",
      "              precision    recall  f1-score   support\n",
      "\n",
      "        True       0.91      0.99      0.95      2501\n",
      "       False       0.11      0.01      0.02       240\n",
      "\n",
      "    accuracy                           0.90      2741\n",
      "   macro avg       0.51      0.50      0.49      2741\n",
      "weighted avg       0.84      0.90      0.87      2741\n",
      "\n",
      "---------- Receiver Labels ----------\n",
      "              precision    recall  f1-score   support\n",
      "\n",
      "        True       0.84      0.93      0.88      2310\n",
      "       False       0.12      0.04      0.06       165\n",
      "NOANNOTATION       0.06      0.03      0.04       266\n",
      "\n",
      "    accuracy                           0.79      2741\n",
      "   macro avg       0.34      0.33      0.33      2741\n",
      "weighted avg       0.72      0.79      0.75      2741\n",
      "\n"
     ]
    }
   ],
   "source": [
    "EvaluateModel(naive_model, test_encoded_padded, [test_df['sender_labels_encoded'], test_df['receiver_labels_encoded']], naive_history)"
   ]
  },
  {
   "cell_type": "markdown",
   "metadata": {},
   "source": [
    "# Naive LSTM"
   ]
  },
  {
   "cell_type": "code",
   "execution_count": 129,
   "metadata": {},
   "outputs": [],
   "source": [
    "def create_naive_lstm_model(\n",
    "        sequence_length: int = MAX_SEQUENCE_LEN,\n",
    "        embedding_output: int = EMBEDDING_OUTPUT_SIZE,\n",
    "        vocab_size: int = VOCAB_SIZE,\n",
    "        lstm_size: int = LSTM_SIZE,\n",
    "        hidden_size = HIDDEN_LAYER_SIZE,\n",
    "        learning_rate: float = LEARNING_RATE,\n",
    "    ):\n",
    "\n",
    "    message_input = keras.layers.Input(shape=(sequence_length,), dtype=tf.int64, name='message_input')\n",
    "\n",
    "    naive_lstm_ouput = pipe(\n",
    "        message_input,\n",
    "        keras.layers.Embedding(vocab_size, embedding_output, input_length=sequence_length),\n",
    "        keras.layers.LSTM(lstm_size),\n",
    "        keras.layers.Dense(hidden_size),\n",
    "    )\n",
    "\n",
    "    sender_output = keras.layers.Dense(2, activation='softmax', name=\"sender_output\")(naive_lstm_ouput)\n",
    "    receiver_output = keras.layers.Dense(3, activation='softmax', name=\"receiver_output\")(naive_lstm_ouput)\n",
    "\n",
    "    model = keras.Model(\n",
    "        inputs=[message_input],\n",
    "        outputs=[sender_output, receiver_output]\n",
    "    )\n",
    "\n",
    "    model.compile(\n",
    "        loss='sparse_categorical_crossentropy',\n",
    "        optimizer=tf.keras.optimizers.Adam(learning_rate=learning_rate),\n",
    "        metrics=['accuracy']\n",
    "    )\n",
    "\n",
    "    return model"
   ]
  },
  {
   "cell_type": "code",
   "execution_count": 130,
   "metadata": {},
   "outputs": [
    {
     "name": "stdout",
     "output_type": "stream",
     "text": [
      "Model: \"model_13\"\n",
      "__________________________________________________________________________________________________\n",
      " Layer (type)                Output Shape                 Param #   Connected to                  \n",
      "==================================================================================================\n",
      " message_input (InputLayer)  [(None, 294)]                0         []                            \n",
      "                                                                                                  \n",
      " embedding_13 (Embedding)    (None, 294, 124)             620000    ['message_input[0][0]']       \n",
      "                                                                                                  \n",
      " lstm (LSTM)                 (None, 64)                   48384     ['embedding_13[0][0]']        \n",
      "                                                                                                  \n",
      " dense_12 (Dense)            (None, 64)                   4160      ['lstm[0][0]']                \n",
      "                                                                                                  \n",
      " sender_output (Dense)       (None, 2)                    130       ['dense_12[0][0]']            \n",
      "                                                                                                  \n",
      "__________________________________________________________________________________________________\n",
      " Layer (type)                Output Shape                 Param #   Connected to                  \n",
      "==================================================================================================\n",
      " message_input (InputLayer)  [(None, 294)]                0         []                            \n",
      "                                                                                                  \n",
      " embedding_13 (Embedding)    (None, 294, 124)             620000    ['message_input[0][0]']       \n",
      "                                                                                                  \n",
      " lstm (LSTM)                 (None, 64)                   48384     ['embedding_13[0][0]']        \n",
      "                                                                                                  \n",
      " dense_12 (Dense)            (None, 64)                   4160      ['lstm[0][0]']                \n",
      "                                                                                                  \n",
      " sender_output (Dense)       (None, 2)                    130       ['dense_12[0][0]']            \n",
      "                                                                                                  \n",
      " receiver_output (Dense)     (None, 3)                    195       ['dense_12[0][0]']            \n",
      "                                                                                                  \n",
      "==================================================================================================\n",
      "Total params: 672869 (2.57 MB)\n",
      "Trainable params: 672869 (2.57 MB)\n",
      "Non-trainable params: 0 (0.00 Byte)\n",
      "__________________________________________________________________________________________________\n"
     ]
    }
   ],
   "source": [
    "naive_lstm_model = create_naive_lstm_model()\n",
    "naive_lstm_model.summary()"
   ]
  },
  {
   "cell_type": "code",
   "execution_count": 131,
   "metadata": {},
   "outputs": [
    {
     "name": "stdout",
     "output_type": "stream",
     "text": [
      "Epoch 1/10\n",
      "411/411 [==============================] - 27s 59ms/step - loss: 0.6774 - sender_output_loss: 0.1932 - receiver_output_loss: 0.4842 - sender_output_accuracy: 0.9543 - receiver_output_accuracy: 0.8699 - val_loss: 0.6433 - val_sender_output_loss: 0.1701 - val_receiver_output_loss: 0.4732 - val_sender_output_accuracy: 0.9605 - val_receiver_output_accuracy: 0.8729\n",
      "Epoch 2/10\n",
      "411/411 [==============================] - 13s 33ms/step - loss: 0.6109 - sender_output_loss: 0.1645 - receiver_output_loss: 0.4464 - sender_output_accuracy: 0.9552 - receiver_output_accuracy: 0.8724 - val_loss: 0.6410 - val_sender_output_loss: 0.1718 - val_receiver_output_loss: 0.4693 - val_sender_output_accuracy: 0.9605 - val_receiver_output_accuracy: 0.8729\n",
      "Epoch 3/10\n",
      "411/411 [==============================] - 13s 33ms/step - loss: 0.5252 - sender_output_loss: 0.1345 - receiver_output_loss: 0.3907 - sender_output_accuracy: 0.9572 - receiver_output_accuracy: 0.8744 - val_loss: 0.7101 - val_sender_output_loss: 0.1936 - val_receiver_output_loss: 0.5166 - val_sender_output_accuracy: 0.9583 - val_receiver_output_accuracy: 0.8694\n",
      "Epoch 4/10\n",
      "411/411 [==============================] - 12s 30ms/step - loss: 0.4359 - sender_output_loss: 0.1078 - receiver_output_loss: 0.3281 - sender_output_accuracy: 0.9633 - receiver_output_accuracy: 0.8843 - val_loss: 0.7989 - val_sender_output_loss: 0.2214 - val_receiver_output_loss: 0.5775 - val_sender_output_accuracy: 0.9513 - val_receiver_output_accuracy: 0.8510\n",
      "Epoch 5/10\n",
      "411/411 [==============================] - 12s 30ms/step - loss: 0.3519 - sender_output_loss: 0.0831 - receiver_output_loss: 0.2688 - sender_output_accuracy: 0.9730 - receiver_output_accuracy: 0.9044 - val_loss: 0.8744 - val_sender_output_loss: 0.2560 - val_receiver_output_loss: 0.6184 - val_sender_output_accuracy: 0.9527 - val_receiver_output_accuracy: 0.8369\n",
      "Epoch 6/10\n",
      "411/411 [==============================] - 12s 30ms/step - loss: 0.2826 - sender_output_loss: 0.0655 - receiver_output_loss: 0.2172 - sender_output_accuracy: 0.9791 - receiver_output_accuracy: 0.9221 - val_loss: 1.0925 - val_sender_output_loss: 0.3230 - val_receiver_output_loss: 0.7695 - val_sender_output_accuracy: 0.9477 - val_receiver_output_accuracy: 0.8171\n",
      "Epoch 7/10\n",
      "411/411 [==============================] - 12s 30ms/step - loss: 0.2308 - sender_output_loss: 0.0540 - receiver_output_loss: 0.1768 - sender_output_accuracy: 0.9831 - receiver_output_accuracy: 0.9395 - val_loss: 1.1605 - val_sender_output_loss: 0.3380 - val_receiver_output_loss: 0.8225 - val_sender_output_accuracy: 0.9350 - val_receiver_output_accuracy: 0.8121\n",
      "Epoch 8/10\n",
      "411/411 [==============================] - 13s 32ms/step - loss: 0.1949 - sender_output_loss: 0.0462 - receiver_output_loss: 0.1487 - sender_output_accuracy: 0.9848 - receiver_output_accuracy: 0.9456 - val_loss: 1.3420 - val_sender_output_loss: 0.3634 - val_receiver_output_loss: 0.9787 - val_sender_output_accuracy: 0.9484 - val_receiver_output_accuracy: 0.7903\n",
      "Epoch 9/10\n",
      "411/411 [==============================] - 12s 29ms/step - loss: 0.1564 - sender_output_loss: 0.0364 - receiver_output_loss: 0.1200 - sender_output_accuracy: 0.9874 - receiver_output_accuracy: 0.9572 - val_loss: 1.5597 - val_sender_output_loss: 0.4603 - val_receiver_output_loss: 1.0994 - val_sender_output_accuracy: 0.9386 - val_receiver_output_accuracy: 0.7860\n",
      "Epoch 10/10\n",
      "411/411 [==============================] - 12s 30ms/step - loss: 0.1431 - sender_output_loss: 0.0340 - receiver_output_loss: 0.1091 - sender_output_accuracy: 0.9896 - receiver_output_accuracy: 0.9622 - val_loss: 1.6341 - val_sender_output_loss: 0.4446 - val_receiver_output_loss: 1.1896 - val_sender_output_accuracy: 0.9463 - val_receiver_output_accuracy: 0.7924\n"
     ]
    }
   ],
   "source": [
    "naive_lstm_history = naive_lstm_model.fit(\n",
    "    train_encoded_padded,\n",
    "    [train_df['sender_labels_encoded'], train_df['receiver_labels_encoded']],\n",
    "    validation_data=(validation_encoded_padded, [validation_df['sender_labels_encoded'], validation_df['receiver_labels_encoded']]),\n",
    "    epochs=10\n",
    ")"
   ]
  },
  {
   "cell_type": "code",
   "execution_count": 134,
   "metadata": {},
   "outputs": [
    {
     "name": "stdout",
     "output_type": "stream",
     "text": [
      "========== Model Accuracy ==========\n"
     ]
    },
    {
     "data": {
      "image/png": "[encoded data removed]",
      "text/plain": [
       "<Figure size 640x480 with 1 Axes>"
      ]
     },
     "metadata": {},
     "output_type": "display_data"
    },
    {
     "name": "stdout",
     "output_type": "stream",
     "text": [
      "========== Test Evaluation ==========\n",
      "86/86 - 1s - loss: 2.3568 - sender_output_loss: 0.8793 - receiver_output_loss: 1.4775 - sender_output_accuracy: 0.8960 - receiver_output_accuracy: 0.7632 - 1s/epoch - 14ms/step\n",
      "\n",
      "========== Test Metrics ==========\n",
      "86/86 [==============================] - 1s 12ms/step\n",
      "---------- Sender Labels ----------\n",
      "              precision    recall  f1-score   support\n",
      "\n",
      "        True       0.92      0.97      0.94      2501\n",
      "       False       0.22      0.07      0.11       240\n",
      "\n",
      "    accuracy                           0.90      2741\n",
      "   macro avg       0.57      0.52      0.53      2741\n",
      "weighted avg       0.86      0.90      0.87      2741\n",
      "\n",
      "---------- Receiver Labels ----------\n",
      "              precision    recall  f1-score   support\n",
      "\n",
      "        True       0.84      0.90      0.87      2310\n",
      "       False       0.04      0.03      0.03       165\n",
      "NOANNOTATION       0.08      0.05      0.06       266\n",
      "\n",
      "    accuracy                           0.76      2741\n",
      "   macro avg       0.32      0.32      0.32      2741\n",
      "weighted avg       0.72      0.76      0.74      2741\n",
      "\n"
     ]
    }
   ],
   "source": [
    "EvaluateModel(naive_lstm_model, test_encoded_padded, [test_df['sender_labels_encoded'], test_df['receiver_labels_encoded']], naive_lstm_history)"
   ]
  },
  {
   "cell_type": "markdown",
   "metadata": {},
   "source": [
    "<hr/>\n",
    "\n",
    "# Context lstm"
   ]
  },
  {
   "cell_type": "code",
   "execution_count": 139,
   "metadata": {},
   "outputs": [],
   "source": [
    "def create_context_lstm_model(\n",
    "        sequence_length: int = MAX_SEQUENCE_LEN,\n",
    "        embedding_output: int = EMBEDDING_OUTPUT_SIZE,\n",
    "        vocab_size: int = VOCAB_SIZE,\n",
    "        lstm_size: int = LSTM_SIZE,\n",
    "        dropout: float = DROPOUT_RATE,\n",
    "        hidden_size = HIDDEN_LAYER_SIZE,\n",
    "        learning_rate: float = LEARNING_RATE,\n",
    "    ):\n",
    "\n",
    "    current_message_input = keras.layers.Input(shape=(sequence_length,), dtype=tf.int64, name='current_message_input')\n",
    "    previous_message_input = keras.layers.Input(shape=(sequence_length,), dtype=tf.int64, name='previous_message_input')\n",
    "\n",
    "    current_message_lstm = pipe(\n",
    "        current_message_input,\n",
    "        keras.layers.Embedding(vocab_size, embedding_output, input_length=sequence_length),\n",
    "        keras.layers.LSTM(lstm_size),\n",
    "        keras.layers.Dropout(dropout)\n",
    "    )\n",
    "\n",
    "    previous_message_lstm = pipe(\n",
    "        previous_message_input,\n",
    "        keras.layers.Embedding(vocab_size, embedding_output, input_length=sequence_length),\n",
    "        keras.layers.LSTM(lstm_size),\n",
    "        keras.layers.Dropout(dropout)\n",
    "    )\n",
    "\n",
    "    context_lstm_ouput = pipe(\n",
    "        [\n",
    "            current_message_lstm,\n",
    "            previous_message_lstm\n",
    "        ],\n",
    "        keras.layers.Concatenate(),\n",
    "        keras.layers.Dense(hidden_size)\n",
    "    )\n",
    "\n",
    "    sender_output = keras.layers.Dense(2, activation='softmax', name=\"sender_output\")(context_lstm_ouput)\n",
    "    receiver_output = keras.layers.Dense(3, activation='softmax', name=\"receiver_output\")(context_lstm_ouput)\n",
    "\n",
    "    context_lstm_model = keras.Model(\n",
    "        inputs=[current_message_input, previous_message_input],\n",
    "        outputs=[sender_output, receiver_output]\n",
    "    )\n",
    "\n",
    "    context_lstm_model.compile(\n",
    "        loss='sparse_categorical_crossentropy',\n",
    "        optimizer=tf.keras.optimizers.Adam(learning_rate=learning_rate),\n",
    "        metrics=['accuracy']\n",
    "    )\n",
    "\n",
    "    return context_lstm_model"
   ]
  },
  {
   "cell_type": "code",
   "execution_count": 140,
   "metadata": {},
   "outputs": [
    {
     "name": "stdout",
     "output_type": "stream",
     "text": [
      "Model: \"model_15\"\n",
      "__________________________________________________________________________________________________\n",
      " Layer (type)                Output Shape                 Param #   Connected to                  \n",
      "==================================================================================================\n",
      " current_message_input (Inp  [(None, 294)]                0         []                            \n",
      " utLayer)                                                                                         \n",
      "                                                                                                  \n",
      " previous_message_input (In  [(None, 294)]                0         []                            \n",
      " putLayer)                                                                                        \n",
      "                                                                                                  \n",
      " embedding_16 (Embedding)    (None, 294, 124)             620000    ['current_message_input[0][0]'\n",
      "                                                                    ]                             \n",
      "                                                                                                  \n",
      " embedding_17 (Embedding)    (None, 294, 124)             620000    ['previous_message_input[0][0]\n",
      "                                                                    ']                            \n",
      "__________________________________________________________________________________________________\n",
      " Layer (type)                Output Shape                 Param #   Connected to                  \n",
      "==================================================================================================\n",
      " current_message_input (Inp  [(None, 294)]                0         []                            \n",
      " utLayer)                                                                                         \n",
      "                                                                                                  \n",
      " previous_message_input (In  [(None, 294)]                0         []                            \n",
      " putLayer)                                                                                        \n",
      "                                                                                                  \n",
      " embedding_16 (Embedding)    (None, 294, 124)             620000    ['current_message_input[0][0]'\n",
      "                                                                    ]                             \n",
      "                                                                                                  \n",
      " embedding_17 (Embedding)    (None, 294, 124)             620000    ['previous_message_input[0][0]\n",
      "                                                                    ']                            \n",
      "                                                                                                  \n",
      " lstm_3 (LSTM)               (None, 64)                   48384     ['embedding_16[0][0]']        \n",
      "                                                                                                  \n",
      " lstm_4 (LSTM)               (None, 64)                   48384     ['embedding_17[0][0]']        \n",
      "                                                                                                  \n",
      " dropout_2 (Dropout)         (None, 64)                   0         ['lstm_3[0][0]']              \n",
      "                                                                                                  \n",
      " dropout_3 (Dropout)         (None, 64)                   0         ['lstm_4[0][0]']              \n",
      "                                                                                                  \n",
      " concatenate_1 (Concatenate  (None, 128)                  0         ['dropout_2[0][0]',           \n",
      " )                                                                   'dropout_3[0][0]']           \n",
      "                                                                                                  \n",
      " dense_15 (Dense)            (None, 64)                   8256      ['concatenate_1[0][0]']       \n",
      "                                                                                                  \n",
      " sender_output (Dense)       (None, 2)                    130       ['dense_15[0][0]']            \n",
      "                                                                                                  \n",
      " receiver_output (Dense)     (None, 3)                    195       ['dense_15[0][0]']            \n",
      "                                                                                                  \n",
      "==================================================================================================\n",
      "Total params: 1345349 (5.13 MB)\n",
      "Trainable params: 1345349 (5.13 MB)\n",
      "Non-trainable params: 0 (0.00 Byte)\n",
      "__________________________________________________________________________________________________\n"
     ]
    }
   ],
   "source": [
    "context_lstm_model = create_context_lstm_model()\n",
    "context_lstm_model.summary()"
   ]
  },
  {
   "cell_type": "code",
   "execution_count": 141,
   "metadata": {},
   "outputs": [
    {
     "name": "stdout",
     "output_type": "stream",
     "text": [
      "Epoch 1/10\n",
      "411/411 [==============================] - 41s 88ms/step - loss: 0.6769 - sender_output_loss: 0.1931 - receiver_output_loss: 0.4837 - sender_output_accuracy: 0.9535 - receiver_output_accuracy: 0.8713 - val_loss: 0.6277 - val_sender_output_loss: 0.1738 - val_receiver_output_loss: 0.4539 - val_sender_output_accuracy: 0.9605 - val_receiver_output_accuracy: 0.8729\n",
      "Epoch 2/10\n",
      "411/411 [==============================] - 23s 55ms/step - loss: 0.5886 - sender_output_loss: 0.1543 - receiver_output_loss: 0.4343 - sender_output_accuracy: 0.9560 - receiver_output_accuracy: 0.8725 - val_loss: 0.6724 - val_sender_output_loss: 0.1806 - val_receiver_output_loss: 0.4918 - val_sender_output_accuracy: 0.9605 - val_receiver_output_accuracy: 0.8729\n",
      "Epoch 3/10\n",
      "411/411 [==============================] - 21s 50ms/step - loss: 0.4582 - sender_output_loss: 0.1078 - receiver_output_loss: 0.3504 - sender_output_accuracy: 0.9628 - receiver_output_accuracy: 0.8766 - val_loss: 0.7647 - val_sender_output_loss: 0.2304 - val_receiver_output_loss: 0.5343 - val_sender_output_accuracy: 0.9541 - val_receiver_output_accuracy: 0.8630\n",
      "Epoch 4/10\n",
      "411/411 [==============================] - 20s 49ms/step - loss: 0.3180 - sender_output_loss: 0.0665 - receiver_output_loss: 0.2515 - sender_output_accuracy: 0.9765 - receiver_output_accuracy: 0.9066 - val_loss: 0.9831 - val_sender_output_loss: 0.3177 - val_receiver_output_loss: 0.6653 - val_sender_output_accuracy: 0.9350 - val_receiver_output_accuracy: 0.8234\n",
      "Epoch 5/10\n",
      "411/411 [==============================] - 20s 48ms/step - loss: 0.1992 - sender_output_loss: 0.0355 - receiver_output_loss: 0.1638 - sender_output_accuracy: 0.9877 - receiver_output_accuracy: 0.9395 - val_loss: 1.3548 - val_sender_output_loss: 0.4344 - val_receiver_output_loss: 0.9204 - val_sender_output_accuracy: 0.9223 - val_receiver_output_accuracy: 0.8100\n",
      "Epoch 6/10\n",
      "411/411 [==============================] - 19s 47ms/step - loss: 0.1232 - sender_output_loss: 0.0220 - receiver_output_loss: 0.1011 - sender_output_accuracy: 0.9929 - receiver_output_accuracy: 0.9632 - val_loss: 1.6469 - val_sender_output_loss: 0.4720 - val_receiver_output_loss: 1.1749 - val_sender_output_accuracy: 0.9357 - val_receiver_output_accuracy: 0.8136\n",
      "Epoch 7/10\n",
      "411/411 [==============================] - 20s 48ms/step - loss: 0.0784 - sender_output_loss: 0.0155 - receiver_output_loss: 0.0630 - sender_output_accuracy: 0.9948 - receiver_output_accuracy: 0.9780 - val_loss: 1.9551 - val_sender_output_loss: 0.5787 - val_receiver_output_loss: 1.3764 - val_sender_output_accuracy: 0.9428 - val_receiver_output_accuracy: 0.7846\n",
      "Epoch 8/10\n",
      "411/411 [==============================] - 20s 48ms/step - loss: 0.0556 - sender_output_loss: 0.0144 - receiver_output_loss: 0.0412 - sender_output_accuracy: 0.9946 - receiver_output_accuracy: 0.9851 - val_loss: 2.2889 - val_sender_output_loss: 0.6589 - val_receiver_output_loss: 1.6300 - val_sender_output_accuracy: 0.9470 - val_receiver_output_accuracy: 0.8023\n",
      "Epoch 9/10\n",
      "411/411 [==============================] - 20s 48ms/step - loss: 0.0442 - sender_output_loss: 0.0108 - receiver_output_loss: 0.0334 - sender_output_accuracy: 0.9959 - receiver_output_accuracy: 0.9877 - val_loss: 2.5360 - val_sender_output_loss: 0.6715 - val_receiver_output_loss: 1.8645 - val_sender_output_accuracy: 0.9456 - val_receiver_output_accuracy: 0.8037\n",
      "Epoch 10/10\n",
      "411/411 [==============================] - 19s 46ms/step - loss: 0.0326 - sender_output_loss: 0.0089 - receiver_output_loss: 0.0237 - sender_output_accuracy: 0.9968 - receiver_output_accuracy: 0.9917 - val_loss: 2.8247 - val_sender_output_loss: 0.6928 - val_receiver_output_loss: 2.1319 - val_sender_output_accuracy: 0.9357 - val_receiver_output_accuracy: 0.7677\n"
     ]
    }
   ],
   "source": [
    "context_lstm_history = context_lstm_model.fit(\n",
    "    [train_encoded_padded, train_prev_encoded_padded],\n",
    "    [train_df['sender_labels_encoded'], train_df['receiver_labels_encoded']], \n",
    "    validation_data=([validation_encoded_padded, validation_prev_encoded_padded], [validation_df['sender_labels_encoded'], validation_df['receiver_labels_encoded']]), \n",
    "    epochs=10\n",
    ")"
   ]
  },
  {
   "cell_type": "code",
   "execution_count": 142,
   "metadata": {},
   "outputs": [
    {
     "name": "stdout",
     "output_type": "stream",
     "text": [
      "========== Model Accuracy ==========\n"
     ]
    },
    {
     "data": {
      "image/png": "[encoded data removed]",
      "text/plain": [
       "<Figure size 640x480 with 1 Axes>"
      ]
     },
     "metadata": {},
     "output_type": "display_data"
    },
    {
     "name": "stdout",
     "output_type": "stream",
     "text": [
      "========== Test Evaluation ==========\n",
      "86/86 - 2s - loss: 3.7773 - sender_output_loss: 1.3236 - receiver_output_loss: 2.4537 - sender_output_accuracy: 0.8862 - receiver_output_accuracy: 0.7344 - 2s/epoch - 21ms/step\n",
      "\n",
      "========== Test Metrics ==========\n",
      "86/86 [==============================] - 2s 18ms/step\n",
      "---------- Sender Labels ----------\n",
      "              precision    recall  f1-score   support\n",
      "\n",
      "        True       0.92      0.96      0.94      2501\n",
      "       False       0.17      0.08      0.11       240\n",
      "\n",
      "    accuracy                           0.89      2741\n",
      "   macro avg       0.54      0.52      0.52      2741\n",
      "weighted avg       0.85      0.89      0.87      2741\n",
      "\n",
      "---------- Receiver Labels ----------\n",
      "              precision    recall  f1-score   support\n",
      "\n",
      "        True       0.84      0.85      0.85      2310\n",
      "       False       0.10      0.05      0.07       165\n",
      "NOANNOTATION       0.09      0.11      0.10       266\n",
      "\n",
      "    accuracy                           0.73      2741\n",
      "   macro avg       0.35      0.34      0.34      2741\n",
      "weighted avg       0.73      0.73      0.73      2741\n",
      "\n"
     ]
    }
   ],
   "source": [
    "EvaluateModel(context_lstm_model, [test_encoded_padded, test_prev_encoded_padded], [test_df['sender_labels_encoded'], test_df['receiver_labels_encoded']], context_lstm_history)"
   ]
  },
  {
   "cell_type": "markdown",
   "metadata": {},
   "source": [
    "# LSTM + Power"
   ]
  },
  {
   "cell_type": "code",
   "execution_count": 143,
   "metadata": {},
   "outputs": [],
   "source": [
    "def create_lstm_power_model(\n",
    "        sequence_length: int = MAX_SEQUENCE_LEN,\n",
    "        embedding_output: int = EMBEDDING_OUTPUT_SIZE,\n",
    "        vocab_size: int = VOCAB_SIZE,\n",
    "        lstm_size: int = LSTM_SIZE,\n",
    "        dropout: float = DROPOUT_RATE,\n",
    "        hidden_size = HIDDEN_LAYER_SIZE,\n",
    "        learning_rate: float = LEARNING_RATE,\n",
    "    ):\n",
    "\n",
    "    message_input = keras.layers.Input(shape=(sequence_length,), dtype=tf.int64, name='current_message_input')\n",
    "    power_diff_input = keras.layers.Input(shape=(1,), name='power_differential')\n",
    "\n",
    "    lstm_output = pipe(\n",
    "        message_input,\n",
    "        keras.layers.Embedding(vocab_size, embedding_output, input_length=sequence_length),\n",
    "        keras.layers.LSTM(lstm_size),\n",
    "        keras.layers.Dropout(dropout)\n",
    "    )\n",
    "\n",
    "    lstm_power_ouput = pipe(\n",
    "        [\n",
    "            lstm_output,\n",
    "            power_diff_input\n",
    "        ],\n",
    "        keras.layers.Concatenate(),\n",
    "        keras.layers.Dense(hidden_size),\n",
    "    )\n",
    "\n",
    "    sender_output = keras.layers.Dense(2, activation='softmax', name=\"sender_output\")(lstm_power_ouput)\n",
    "    receiver_output = keras.layers.Dense(3, activation='softmax', name=\"receiver_output\")(lstm_power_ouput)\n",
    "\n",
    "    lstm_power_model = keras.Model(\n",
    "        inputs=[message_input, power_diff_input],\n",
    "        outputs=[sender_output, receiver_output]\n",
    "    )\n",
    "\n",
    "    lstm_power_model.compile(\n",
    "        loss='sparse_categorical_crossentropy',\n",
    "        optimizer=tf.keras.optimizers.Adam(learning_rate=learning_rate),\n",
    "        metrics=['accuracy']\n",
    "    )\n",
    "\n",
    "    return lstm_power_model"
   ]
  },
  {
   "cell_type": "code",
   "execution_count": 144,
   "metadata": {},
   "outputs": [
    {
     "name": "stdout",
     "output_type": "stream",
     "text": [
      "Model: \"model_16\"\n",
      "__________________________________________________________________________________________________\n",
      " Layer (type)                Output Shape                 Param #   Connected to                  \n",
      "==================================================================================================\n",
      " current_message_input (Inp  [(None, 294)]                0         []                            \n",
      " utLayer)                                                                                         \n",
      "                                                                                                  \n",
      " embedding_18 (Embedding)    (None, 294, 124)             620000    ['current_message_input[0][0]'\n",
      "                                                                    ]                             \n",
      "                                                                                                  \n",
      " lstm_5 (LSTM)               (None, 64)                   48384     ['embedding_18[0][0]']        \n",
      "                                                                                                  \n",
      " dropout_4 (Dropout)         (None, 64)                   0         ['lstm_5[0][0]']              \n",
      "                                                                                                  \n",
      " power_differential (InputL  [(None, 1)]                  0         []                            \n",
      " ayer)                                                                                            \n",
      "                                                                                                  \n",
      " concatenate_2 (Concatenate  (None, 65)                   0         ['dropout_4[0][0]',           \n",
      " )                                                                   'power_differential[0][0]']  \n",
      "                                                                                                  \n",
      " dense_16 (Dense)            (None, 64)                   4224      ['concatenate_2[0][0]']       \n",
      "__________________________________________________________________________________________________\n",
      " Layer (type)                Output Shape                 Param #   Connected to                  \n",
      "==================================================================================================\n",
      " current_message_input (Inp  [(None, 294)]                0         []                            \n",
      " utLayer)                                                                                         \n",
      "                                                                                                  \n",
      " embedding_18 (Embedding)    (None, 294, 124)             620000    ['current_message_input[0][0]'\n",
      "                                                                    ]                             \n",
      "                                                                                                  \n",
      " lstm_5 (LSTM)               (None, 64)                   48384     ['embedding_18[0][0]']        \n",
      "                                                                                                  \n",
      " dropout_4 (Dropout)         (None, 64)                   0         ['lstm_5[0][0]']              \n",
      "                                                                                                  \n",
      " power_differential (InputL  [(None, 1)]                  0         []                            \n",
      " ayer)                                                                                            \n",
      "                                                                                                  \n",
      " concatenate_2 (Concatenate  (None, 65)                   0         ['dropout_4[0][0]',           \n",
      " )                                                                   'power_differential[0][0]']  \n",
      "                                                                                                  \n",
      " dense_16 (Dense)            (None, 64)                   4224      ['concatenate_2[0][0]']       \n",
      "                                                                                                  \n",
      " sender_output (Dense)       (None, 2)                    130       ['dense_16[0][0]']            \n",
      "                                                                                                  \n",
      " receiver_output (Dense)     (None, 3)                    195       ['dense_16[0][0]']            \n",
      "                                                                                                  \n",
      "==================================================================================================\n",
      "Total params: 672933 (2.57 MB)\n",
      "Trainable params: 672933 (2.57 MB)\n",
      "Non-trainable params: 0 (0.00 Byte)\n",
      "__________________________________________________________________________________________________\n"
     ]
    }
   ],
   "source": [
    "lstm_power_model = create_lstm_power_model()\n",
    "lstm_power_model.summary()"
   ]
  },
  {
   "cell_type": "code",
   "execution_count": 145,
   "metadata": {},
   "outputs": [
    {
     "name": "stdout",
     "output_type": "stream",
     "text": [
      "Epoch 1/10\n",
      "411/411 [==============================] - 17s 36ms/step - loss: 0.3503 - sender_output_loss: 0.0798 - receiver_output_loss: 0.2706 - sender_output_accuracy: 0.9734 - receiver_output_accuracy: 0.9024 - val_loss: 0.9959 - val_sender_output_loss: 0.3053 - val_receiver_output_loss: 0.6907 - val_sender_output_accuracy: 0.9428 - val_receiver_output_accuracy: 0.8475\n",
      "Epoch 2/10\n",
      "411/411 [==============================] - 13s 32ms/step - loss: 0.2357 - sender_output_loss: 0.0515 - receiver_output_loss: 0.1842 - sender_output_accuracy: 0.9817 - receiver_output_accuracy: 0.9351 - val_loss: 1.2530 - val_sender_output_loss: 0.3769 - val_receiver_output_loss: 0.8761 - val_sender_output_accuracy: 0.9364 - val_receiver_output_accuracy: 0.8016\n",
      "Epoch 3/10\n",
      "411/411 [==============================] - 13s 32ms/step - loss: 0.1883 - sender_output_loss: 0.0382 - receiver_output_loss: 0.1501 - sender_output_accuracy: 0.9874 - receiver_output_accuracy: 0.9449 - val_loss: 1.3931 - val_sender_output_loss: 0.4284 - val_receiver_output_loss: 0.9647 - val_sender_output_accuracy: 0.9386 - val_receiver_output_accuracy: 0.8220\n",
      "Epoch 4/10\n",
      "411/411 [==============================] - 14s 34ms/step - loss: 0.1559 - sender_output_loss: 0.0314 - receiver_output_loss: 0.1245 - sender_output_accuracy: 0.9896 - receiver_output_accuracy: 0.9581 - val_loss: 1.5911 - val_sender_output_loss: 0.4758 - val_receiver_output_loss: 1.1152 - val_sender_output_accuracy: 0.9315 - val_receiver_output_accuracy: 0.7839\n",
      "Epoch 5/10\n",
      "411/411 [==============================] - 14s 33ms/step - loss: 0.1375 - sender_output_loss: 0.0301 - receiver_output_loss: 0.1074 - sender_output_accuracy: 0.9903 - receiver_output_accuracy: 0.9615 - val_loss: 1.6466 - val_sender_output_loss: 0.4662 - val_receiver_output_loss: 1.1804 - val_sender_output_accuracy: 0.9386 - val_receiver_output_accuracy: 0.7754\n",
      "Epoch 6/10\n",
      "411/411 [==============================] - 13s 31ms/step - loss: 0.1229 - sender_output_loss: 0.0257 - receiver_output_loss: 0.0972 - sender_output_accuracy: 0.9922 - receiver_output_accuracy: 0.9643 - val_loss: 1.9135 - val_sender_output_loss: 0.5515 - val_receiver_output_loss: 1.3621 - val_sender_output_accuracy: 0.9266 - val_receiver_output_accuracy: 0.7959\n",
      "Epoch 7/10\n",
      "411/411 [==============================] - 13s 32ms/step - loss: 0.1090 - sender_output_loss: 0.0217 - receiver_output_loss: 0.0872 - sender_output_accuracy: 0.9938 - receiver_output_accuracy: 0.9692 - val_loss: 2.1329 - val_sender_output_loss: 0.5796 - val_receiver_output_loss: 1.5533 - val_sender_output_accuracy: 0.9435 - val_receiver_output_accuracy: 0.7853\n",
      "Epoch 8/10\n",
      "411/411 [==============================] - 13s 32ms/step - loss: 0.0984 - sender_output_loss: 0.0195 - receiver_output_loss: 0.0789 - sender_output_accuracy: 0.9938 - receiver_output_accuracy: 0.9716 - val_loss: 2.1385 - val_sender_output_loss: 0.6400 - val_receiver_output_loss: 1.4985 - val_sender_output_accuracy: 0.9301 - val_receiver_output_accuracy: 0.7931\n",
      "Epoch 9/10\n",
      "411/411 [==============================] - 13s 32ms/step - loss: 0.0947 - sender_output_loss: 0.0199 - receiver_output_loss: 0.0748 - sender_output_accuracy: 0.9931 - receiver_output_accuracy: 0.9730 - val_loss: 2.2741 - val_sender_output_loss: 0.6135 - val_receiver_output_loss: 1.6606 - val_sender_output_accuracy: 0.9343 - val_receiver_output_accuracy: 0.7966\n",
      "Epoch 10/10\n",
      "411/411 [==============================] - 13s 31ms/step - loss: 0.0848 - sender_output_loss: 0.0175 - receiver_output_loss: 0.0672 - sender_output_accuracy: 0.9941 - receiver_output_accuracy: 0.9751 - val_loss: 2.2786 - val_sender_output_loss: 0.6277 - val_receiver_output_loss: 1.6509 - val_sender_output_accuracy: 0.9230 - val_receiver_output_accuracy: 0.7839\n"
     ]
    }
   ],
   "source": [
    "lstm_power_history = context_lstm_model.fit(\n",
    "    [train_encoded_padded, train_df['game_score_delta']],\n",
    "    [train_df['sender_labels_encoded'], train_df['receiver_labels_encoded']],\n",
    "    validation_data=([validation_encoded_padded, validation_df['game_score_delta']], [validation_df['sender_labels_encoded'], validation_df['receiver_labels_encoded']]), \n",
    "    epochs=10\n",
    ")"
   ]
  },
  {
   "cell_type": "code",
   "execution_count": 146,
   "metadata": {},
   "outputs": [
    {
     "name": "stdout",
     "output_type": "stream",
     "text": [
      "========== Model Accuracy ==========\n"
     ]
    },
    {
     "data": {
      "image/png": "[encoded data removed]",
      "text/plain": [
       "<Figure size 640x480 with 1 Axes>"
      ]
     },
     "metadata": {},
     "output_type": "display_data"
    },
    {
     "name": "stdout",
     "output_type": "stream",
     "text": [
      "========== Test Evaluation ==========\n",
      "86/86 - 2s - loss: 1.9627 - sender_output_loss: 0.7468 - receiver_output_loss: 1.2160 - sender_output_accuracy: 0.5002 - receiver_output_accuracy: 0.3630 - 2s/epoch - 26ms/step\n",
      "\n",
      "========== Test Metrics ==========\n",
      "86/86 [==============================] - 1s 9ms/step\n",
      "---------- Sender Labels ----------\n",
      "              precision    recall  f1-score   support\n",
      "\n",
      "        True       0.90      0.51      0.65      2501\n",
      "       False       0.07      0.38      0.12       240\n",
      "\n",
      "    accuracy                           0.50      2741\n",
      "   macro avg       0.48      0.44      0.38      2741\n",
      "weighted avg       0.82      0.50      0.60      2741\n",
      "\n",
      "---------- Receiver Labels ----------\n",
      "              precision    recall  f1-score   support\n",
      "\n",
      "        True       0.87      0.38      0.53      2310\n",
      "       False       0.07      0.55      0.12       165\n",
      "NOANNOTATION       0.08      0.12      0.10       266\n",
      "\n",
      "    accuracy                           0.36      2741\n",
      "   macro avg       0.34      0.35      0.25      2741\n",
      "weighted avg       0.75      0.36      0.46      2741\n",
      "\n"
     ]
    }
   ],
   "source": [
    "EvaluateModel(lstm_power_model, [test_encoded_padded, test_df['game_score_delta']], [test_df['sender_labels_encoded'], test_df['receiver_labels_encoded']], lstm_power_history)"
   ]
  },
  {
   "cell_type": "markdown",
   "metadata": {},
   "source": [
    "# Context LSTM + Power"
   ]
  },
  {
   "cell_type": "code",
   "execution_count": 147,
   "metadata": {},
   "outputs": [],
   "source": [
    "def create_context_lstm_power_model(\n",
    "        sequence_length: int = MAX_SEQUENCE_LEN,\n",
    "        embedding_output: int = EMBEDDING_OUTPUT_SIZE,\n",
    "        vocab_size: int = VOCAB_SIZE,\n",
    "        lstm_size: int = LSTM_SIZE,\n",
    "        dropout: float = DROPOUT_RATE,\n",
    "        hidden_size = HIDDEN_LAYER_SIZE,\n",
    "        learning_rate: float = LEARNING_RATE,\n",
    "    ):\n",
    "\n",
    "    current_message_input = keras.layers.Input(shape=(sequence_length,), dtype=tf.int64, name='current_message_input')\n",
    "    previous_message_input = keras.layers.Input(shape=(sequence_length,), dtype=tf.int64, name='previous_message_input')\n",
    "    power_diff_input = keras.layers.Input(shape=(1,), name='power_differential')\n",
    "\n",
    "    current_message_lstm = pipe(\n",
    "        current_message_input,\n",
    "        keras.layers.Embedding(vocab_size, embedding_output, input_length=sequence_length),\n",
    "        keras.layers.LSTM(lstm_size),\n",
    "        keras.layers.Dropout(dropout)\n",
    "    )\n",
    "\n",
    "    previous_message_lstm = pipe(\n",
    "        previous_message_input,\n",
    "        keras.layers.Embedding(vocab_size, embedding_output, input_length=sequence_length),\n",
    "        keras.layers.LSTM(lstm_size),\n",
    "        keras.layers.Dropout(dropout)\n",
    "    )\n",
    "\n",
    "    context_lstm_power_ouput = pipe(\n",
    "        [\n",
    "            current_message_lstm,\n",
    "            previous_message_lstm,\n",
    "            power_diff_input\n",
    "        ],\n",
    "        keras.layers.Concatenate(),\n",
    "        keras.layers.Dense(hidden_size)\n",
    "    )\n",
    "\n",
    "    sender_output = keras.layers.Dense(2, activation='softmax', name=\"sender_output\")(context_lstm_power_ouput)\n",
    "    receiver_output = keras.layers.Dense(3, activation='softmax', name=\"receiver_output\")(context_lstm_power_ouput)\n",
    "\n",
    "    context_lstm_power_model = keras.Model(\n",
    "        inputs=[current_message_input, previous_message_input, power_diff_input],\n",
    "        outputs=[sender_output, receiver_output]\n",
    "    )\n",
    "\n",
    "    context_lstm_power_model.compile(\n",
    "        loss='sparse_categorical_crossentropy',\n",
    "        optimizer=tf.keras.optimizers.Adam(learning_rate=learning_rate),\n",
    "        metrics=['accuracy']\n",
    "    )\n",
    "\n",
    "    return context_lstm_power_model"
   ]
  },
  {
   "cell_type": "code",
   "execution_count": 148,
   "metadata": {},
   "outputs": [
    {
     "name": "stdout",
     "output_type": "stream",
     "text": [
      "Model: \"model_17\"\n",
      "__________________________________________________________________________________________________\n",
      " Layer (type)                Output Shape                 Param #   Connected to                  \n",
      "==================================================================================================\n",
      " current_message_input (Inp  [(None, 294)]                0         []                            \n",
      " utLayer)                                                                                         \n",
      "                                                                                                  \n",
      " previous_message_input (In  [(None, 294)]                0         []                            \n",
      " putLayer)                                                                                        \n",
      "                                                                                                  \n",
      " embedding_19 (Embedding)    (None, 294, 124)             620000    ['current_message_input[0][0]'\n",
      "                                                                    ]                             \n",
      "                                                                                                  \n",
      " embedding_20 (Embedding)    (None, 294, 124)             620000    ['previous_message_input[0][0]\n",
      "                                                                    ']                            \n",
      "                                                                                                  \n",
      " lstm_6 (LSTM)               (None, 64)                   48384     ['embedding_19[0][0]']        \n",
      "__________________________________________________________________________________________________\n",
      " Layer (type)                Output Shape                 Param #   Connected to                  \n",
      "==================================================================================================\n",
      " current_message_input (Inp  [(None, 294)]                0         []                            \n",
      " utLayer)                                                                                         \n",
      "                                                                                                  \n",
      " previous_message_input (In  [(None, 294)]                0         []                            \n",
      " putLayer)                                                                                        \n",
      "                                                                                                  \n",
      " embedding_19 (Embedding)    (None, 294, 124)             620000    ['current_message_input[0][0]'\n",
      "                                                                    ]                             \n",
      "                                                                                                  \n",
      " embedding_20 (Embedding)    (None, 294, 124)             620000    ['previous_message_input[0][0]\n",
      "                                                                    ']                            \n",
      "                                                                                                  \n",
      " lstm_6 (LSTM)               (None, 64)                   48384     ['embedding_19[0][0]']        \n",
      "                                                                                                  \n",
      " lstm_7 (LSTM)               (None, 64)                   48384     ['embedding_20[0][0]']        \n",
      "                                                                                                  \n",
      " dropout_5 (Dropout)         (None, 64)                   0         ['lstm_6[0][0]']              \n",
      "                                                                                                  \n",
      " dropout_6 (Dropout)         (None, 64)                   0         ['lstm_7[0][0]']              \n",
      "                                                                                                  \n",
      " power_differential (InputL  [(None, 1)]                  0         []                            \n",
      " ayer)                                                                                            \n",
      "                                                                                                  \n",
      " concatenate_3 (Concatenate  (None, 129)                  0         ['dropout_5[0][0]',           \n",
      " )                                                                   'dropout_6[0][0]',           \n",
      "                                                                     'power_differential[0][0]']  \n",
      "                                                                                                  \n",
      " dense_17 (Dense)            (None, 64)                   8320      ['concatenate_3[0][0]']       \n",
      "                                                                                                  \n",
      " sender_output (Dense)       (None, 2)                    130       ['dense_17[0][0]']            \n",
      "                                                                                                  \n",
      " receiver_output (Dense)     (None, 3)                    195       ['dense_17[0][0]']            \n",
      "                                                                                                  \n",
      "==================================================================================================\n",
      "Total params: 1345413 (5.13 MB)\n",
      "Trainable params: 1345413 (5.13 MB)\n",
      "Non-trainable params: 0 (0.00 Byte)\n",
      "__________________________________________________________________________________________________\n"
     ]
    }
   ],
   "source": [
    "context_lstm_power_model = create_context_lstm_power_model()\n",
    "context_lstm_power_model.summary()"
   ]
  },
  {
   "cell_type": "code",
   "execution_count": 150,
   "metadata": {},
   "outputs": [
    {
     "name": "stdout",
     "output_type": "stream",
     "text": [
      "Epoch 1/10\n",
      "411/411 [==============================] - 34s 83ms/step - loss: 0.6427 - sender_output_loss: 0.1782 - receiver_output_loss: 0.4645 - sender_output_accuracy: 0.9551 - receiver_output_accuracy: 0.8726 - val_loss: 0.6323 - val_sender_output_loss: 0.1671 - val_receiver_output_loss: 0.4652 - val_sender_output_accuracy: 0.9597 - val_receiver_output_accuracy: 0.8729\n",
      "Epoch 2/10\n",
      "411/411 [==============================] - 22s 55ms/step - loss: 0.5602 - sender_output_loss: 0.1457 - receiver_output_loss: 0.4145 - sender_output_accuracy: 0.9565 - receiver_output_accuracy: 0.8724 - val_loss: 0.6961 - val_sender_output_loss: 0.1932 - val_receiver_output_loss: 0.5029 - val_sender_output_accuracy: 0.9583 - val_receiver_output_accuracy: 0.8722\n",
      "Epoch 3/10\n",
      "411/411 [==============================] - 21s 52ms/step - loss: 0.4223 - sender_output_loss: 0.0994 - receiver_output_loss: 0.3228 - sender_output_accuracy: 0.9660 - receiver_output_accuracy: 0.8859 - val_loss: 0.8202 - val_sender_output_loss: 0.2350 - val_receiver_output_loss: 0.5852 - val_sender_output_accuracy: 0.9456 - val_receiver_output_accuracy: 0.8644\n",
      "Epoch 4/10\n",
      "411/411 [==============================] - 21s 51ms/step - loss: 0.2885 - sender_output_loss: 0.0644 - receiver_output_loss: 0.2241 - sender_output_accuracy: 0.9792 - receiver_output_accuracy: 0.9198 - val_loss: 1.0651 - val_sender_output_loss: 0.3401 - val_receiver_output_loss: 0.7250 - val_sender_output_accuracy: 0.9400 - val_receiver_output_accuracy: 0.8411\n",
      "Epoch 5/10\n",
      "411/411 [==============================] - 19s 47ms/step - loss: 0.1840 - sender_output_loss: 0.0396 - receiver_output_loss: 0.1443 - sender_output_accuracy: 0.9867 - receiver_output_accuracy: 0.9467 - val_loss: 1.3548 - val_sender_output_loss: 0.4008 - val_receiver_output_loss: 0.9540 - val_sender_output_accuracy: 0.9386 - val_receiver_output_accuracy: 0.8249\n",
      "Epoch 6/10\n",
      "411/411 [==============================] - 19s 47ms/step - loss: 0.1141 - sender_output_loss: 0.0236 - receiver_output_loss: 0.0905 - sender_output_accuracy: 0.9922 - receiver_output_accuracy: 0.9670 - val_loss: 1.6313 - val_sender_output_loss: 0.4901 - val_receiver_output_loss: 1.1412 - val_sender_output_accuracy: 0.9407 - val_receiver_output_accuracy: 0.8044\n",
      "Epoch 7/10\n",
      "411/411 [==============================] - 20s 48ms/step - loss: 0.0710 - sender_output_loss: 0.0147 - receiver_output_loss: 0.0563 - sender_output_accuracy: 0.9951 - receiver_output_accuracy: 0.9805 - val_loss: 2.1805 - val_sender_output_loss: 0.6433 - val_receiver_output_loss: 1.5372 - val_sender_output_accuracy: 0.9322 - val_receiver_output_accuracy: 0.8107\n",
      "Epoch 8/10\n",
      "411/411 [==============================] - 21s 52ms/step - loss: 0.0612 - sender_output_loss: 0.0160 - receiver_output_loss: 0.0452 - sender_output_accuracy: 0.9943 - receiver_output_accuracy: 0.9836 - val_loss: 2.2363 - val_sender_output_loss: 0.5992 - val_receiver_output_loss: 1.6370 - val_sender_output_accuracy: 0.9386 - val_receiver_output_accuracy: 0.8114\n",
      "Epoch 9/10\n",
      "411/411 [==============================] - 21s 51ms/step - loss: 0.0386 - sender_output_loss: 0.0092 - receiver_output_loss: 0.0295 - sender_output_accuracy: 0.9970 - receiver_output_accuracy: 0.9897 - val_loss: 2.5112 - val_sender_output_loss: 0.6732 - val_receiver_output_loss: 1.8380 - val_sender_output_accuracy: 0.9414 - val_receiver_output_accuracy: 0.8072\n",
      "Epoch 10/10\n",
      "411/411 [==============================] - 19s 47ms/step - loss: 0.0330 - sender_output_loss: 0.0086 - receiver_output_loss: 0.0244 - sender_output_accuracy: 0.9973 - receiver_output_accuracy: 0.9907 - val_loss: 2.7300 - val_sender_output_loss: 0.7008 - val_receiver_output_loss: 2.0292 - val_sender_output_accuracy: 0.9364 - val_receiver_output_accuracy: 0.8058\n"
     ]
    }
   ],
   "source": [
    "context_lstm_power_history = context_lstm_power_model.fit(\n",
    "    [train_encoded_padded, train_prev_encoded_padded, train_df['game_score_delta']],\n",
    "    [train_df['sender_labels_encoded'], train_df['receiver_labels_encoded']],\n",
    "    validation_data=([validation_encoded_padded, validation_prev_encoded_padded, validation_df['game_score_delta']], [validation_df['sender_labels_encoded'], validation_df['receiver_labels_encoded']]), \n",
    "    epochs=10\n",
    ")"
   ]
  },
  {
   "cell_type": "code",
   "execution_count": 151,
   "metadata": {},
   "outputs": [
    {
     "name": "stdout",
     "output_type": "stream",
     "text": [
      "========== Model Accuracy ==========\n"
     ]
    },
    {
     "data": {
      "image/png": "[encoded data removed]",
      "text/plain": [
       "<Figure size 640x480 with 1 Axes>"
      ]
     },
     "metadata": {},
     "output_type": "display_data"
    },
    {
     "name": "stdout",
     "output_type": "stream",
     "text": [
      "========== Test Evaluation ==========\n",
      "86/86 - 2s - loss: 3.6726 - sender_output_loss: 1.2869 - receiver_output_loss: 2.3857 - sender_output_accuracy: 0.8887 - receiver_output_accuracy: 0.7775 - 2s/epoch - 23ms/step\n",
      "\n",
      "========== Test Metrics ==========\n",
      "86/86 [==============================] - 2s 19ms/step\n",
      "---------- Sender Labels ----------\n",
      "              precision    recall  f1-score   support\n",
      "\n",
      "        True       0.92      0.96      0.94      2501\n",
      "       False       0.21      0.10      0.14       240\n",
      "\n",
      "    accuracy                           0.89      2741\n",
      "   macro avg       0.57      0.53      0.54      2741\n",
      "weighted avg       0.86      0.89      0.87      2741\n",
      "\n",
      "---------- Receiver Labels ----------\n",
      "              precision    recall  f1-score   support\n",
      "\n",
      "        True       0.85      0.91      0.88      2310\n",
      "       False       0.10      0.05      0.07       165\n",
      "NOANNOTATION       0.10      0.06      0.08       266\n",
      "\n",
      "    accuracy                           0.78      2741\n",
      "   macro avg       0.35      0.34      0.34      2741\n",
      "weighted avg       0.73      0.78      0.75      2741\n",
      "\n"
     ]
    }
   ],
   "source": [
    "EvaluateModel(context_lstm_power_model, [test_encoded_padded, test_prev_encoded_padded, test_df['game_score_delta']], [test_df['sender_labels_encoded'], test_df['receiver_labels_encoded']], context_lstm_power_history)"
   ]
  }
 ],
 "metadata": {
  "kernelspec": {
   "display_name": "Python 3",
   "language": "python",
   "name": "python3"
  },
  "language_info": {
   "codemirror_mode": {
    "name": "ipython",
    "version": 3
   },
   "file_extension": ".py",
   "mimetype": "text/x-python",
   "name": "python",
   "nbconvert_exporter": "python",
   "pygments_lexer": "ipython3",
   "version": "3.11.0rc1"
  }
 },
 "nbformat": 4,
 "nbformat_minor": 2
}
