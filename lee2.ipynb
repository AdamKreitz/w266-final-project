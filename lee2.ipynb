{
 "cells": [
  {
   "cell_type": "markdown",
   "metadata": {},
   "source": [
    "<hr/>\n",
    "\n",
    "# imports"
   ]
  },
  {
   "cell_type": "code",
   "execution_count": 1,
   "metadata": {},
   "outputs": [
    {
     "name": "stdout",
     "output_type": "stream",
     "text": [
      "Requirement already satisfied: imblearn in /usr/local/lib/python3.11/dist-packages (0.0)\n",
      "Requirement already satisfied: imbalanced-learn in /usr/local/lib/python3.11/dist-packages (from imblearn) (0.11.0)\n",
      "Requirement already satisfied: numpy>=1.17.3 in /usr/local/lib/python3.11/dist-packages (from imbalanced-learn->imblearn) (1.26.0)\n",
      "Requirement already satisfied: scipy>=1.5.0 in /usr/local/lib/python3.11/dist-packages (from imbalanced-learn->imblearn) (1.11.3)\n",
      "Requirement already satisfied: scikit-learn>=1.0.2 in /usr/local/lib/python3.11/dist-packages (from imbalanced-learn->imblearn) (1.3.2)\n",
      "Requirement already satisfied: joblib>=1.1.1 in /usr/local/lib/python3.11/dist-packages (from imbalanced-learn->imblearn) (1.3.2)\n",
      "Requirement already satisfied: threadpoolctl>=2.0.0 in /usr/local/lib/python3.11/dist-packages (from imbalanced-learn->imblearn) (3.2.0)\n",
      "\u001b[33mWARNING: Running pip as the 'root' user can result in broken permissions and conflicting behaviour with the system package manager. It is recommended to use a virtual environment instead: https://pip.pypa.io/warnings/venv\u001b[0m\u001b[33m\n",
      "\u001b[0m\n",
      "\u001b[1m[\u001b[0m\u001b[34;49mnotice\u001b[0m\u001b[1;39;49m]\u001b[0m\u001b[39;49m A new release of pip is available: \u001b[0m\u001b[31;49m23.2.1\u001b[0m\u001b[39;49m -> \u001b[0m\u001b[32;49m23.3.1\u001b[0m\n",
      "\u001b[1m[\u001b[0m\u001b[34;49mnotice\u001b[0m\u001b[1;39;49m]\u001b[0m\u001b[39;49m To update, run: \u001b[0m\u001b[32;49mpython3 -m pip install --upgrade pip\u001b[0m\n"
     ]
    }
   ],
   "source": [
    "!pip install imblearn"
   ]
  },
  {
   "cell_type": "code",
   "execution_count": 2,
   "metadata": {},
   "outputs": [],
   "source": [
    "import os\n",
    "os.environ['TF_CPP_MIN_LOG_LEVEL'] = '3' # mute tf warnings\n",
    "\n",
    "import pandas as pd\n",
    "import numpy as np\n",
    "import matplotlib.pyplot as plt\n",
    "import json\n",
    "import tensorflow as tf\n",
    "from tensorflow import keras\n",
    "from transformers import BertTokenizer, TFBertModel\n",
    "import math\n",
    "import sklearn\n",
    "import imblearn"
   ]
  },
  {
   "cell_type": "code",
   "execution_count": 3,
   "metadata": {},
   "outputs": [
    {
     "name": "stdout",
     "output_type": "stream",
     "text": [
      "Num GPUs Available:  1\n"
     ]
    }
   ],
   "source": [
    "print(\"Num GPUs Available: \", len(tf.config.list_physical_devices('GPU')))"
   ]
  },
  {
   "cell_type": "markdown",
   "metadata": {},
   "source": [
    "# Definitions"
   ]
  },
  {
   "cell_type": "code",
   "execution_count": 4,
   "metadata": {},
   "outputs": [],
   "source": [
    "def pipe(*funcs):\n",
    "    \"\"\"\n",
    "    Works similar to the semantics of a `pipe` in other programming languages.\n",
    "    Intended to make nested functions readable and easier to manipulate. It \n",
    "    will take the first item in the list and feed it as input to the next\n",
    "    function in the list, then it takes that output and feeds it as input to \n",
    "    the next function in the list, and so on until it reaches the last\n",
    "    function in the list and returns its output.\n",
    "\n",
    "    Example:\n",
    "        instead of this:\n",
    "            ```py\n",
    "            input_layer = Input(...)\n",
    "            embedding_layer = Embedding(...)(input_layer)\n",
    "            lstm_layer = LSTM(...)(embedding_layer)\n",
    "            hidden_layer = Dense(...)(lstm_layer)\n",
    "            output_layer = Dense(...)(hidden_layer)\n",
    "            ```\n",
    "        you can do this:\n",
    "            ```py\n",
    "            lstm_ouput = pipe(\n",
    "                Input(...),\n",
    "                Embedding(...),\n",
    "                LSTM(...),\n",
    "                Dense(...),\n",
    "                Dense(...)\n",
    "            )\n",
    "            ```\n",
    "    \"\"\"\n",
    "    out = funcs[0]\n",
    "    for func in funcs[1:]:\n",
    "        out = func(out)\n",
    "    return out"
   ]
  },
  {
   "cell_type": "code",
   "execution_count": 5,
   "metadata": {},
   "outputs": [],
   "source": [
    "def determine_name(row) -> str:\n",
    "    \"\"\"\n",
    "    Auxilary function used to determine the label for each given row.\n",
    "    \"\"\"\n",
    "    if row['sender_labels'] and row['receiver_labels']:\n",
    "        return 'straightforward'\n",
    "    elif not row['sender_labels'] and row['receiver_labels']:\n",
    "        return 'deceive'\n",
    "    elif row['sender_labels'] and not row['receiver_labels']:\n",
    "        return 'cassandra'\n",
    "    elif not row['sender_labels'] and not row['receiver_labels']:\n",
    "        return 'caught'\n",
    "    else:\n",
    "        return None"
   ]
  },
  {
   "cell_type": "code",
   "execution_count": 6,
   "metadata": {},
   "outputs": [],
   "source": [
    "def parse_jsonl(path: str) -> pd.DataFrame:\n",
    "    \"\"\"\n",
    "    Load the given jsonl file and parse each conversation into a readable pandas\n",
    "    data frame, where each row is a message. Additional data that is used later\n",
    "    is also added to the created dataframe for consistency accross all loaded\n",
    "    data.\n",
    "\n",
    "    Args:\n",
    "        path: str\n",
    "            the path to the jsonl file to load and parse\n",
    "    \n",
    "    Returns: pd.DataFrame\n",
    "        A parsed data frame where each row is a message.\n",
    "    \"\"\"\n",
    "    data = {}\n",
    "    with open(path, 'r') as f:\n",
    "        for (i, line) in enumerate(f):\n",
    "            line = json.loads(line)\n",
    "            line[\"conversation_id\"] = [i] * len(line[\"messages\"])\n",
    "            line['previous_message'] = ([\"\"] if len(line['messages']) > 0 else []) + line[\"messages\"][:-1]\n",
    "            for k in line.keys():\n",
    "                if k == \"players\":\n",
    "                    continue\n",
    "                if k == \"game_id\":\n",
    "                    line[k] = [line[k]] * len(line[\"messages\"])\n",
    "                data[k] = data.get(k, []) + line[k]\n",
    "    data = pd.DataFrame(data)\n",
    "    data['label'] = data.apply(determine_name, axis=1)\n",
    "    data['sender_labels_encoded'] = data['sender_labels'].astype(str).apply(lambda x: [\"True\", \"False\", \"NOANNOTATION\"].index(x))\n",
    "    data['receiver_labels_encoded'] = data['receiver_labels'].astype(str).apply(lambda x: [\"True\", \"False\", \"NOANNOTATION\"].index(x))\n",
    "    data[\"game_score_delta\"] = data['game_score_delta'].astype(float)\n",
    "    return data"
   ]
  },
  {
   "cell_type": "code",
   "execution_count": 7,
   "metadata": {},
   "outputs": [],
   "source": [
    "def EvaluateModel(model: tf.keras.Sequential, test_ds: tf.data.Dataset, test_target: pd.DataFrame, history: tf.keras.callbacks.History, skip_evaluation: bool = False) -> None:\n",
    "    \"\"\"\n",
    "    Take the model and plot the training accuracy and validation accuracy. Also,\n",
    "    Perform a evaluation on the test data, print the loss and accuracy, and print\n",
    "    the test metric scores.\n",
    "\n",
    "    Args:\n",
    "        model: tf.keras.Sequential\n",
    "            the model to test\n",
    "        test_ds: tf.data.Dataset\n",
    "            the test dataset to evaluate the model with\n",
    "        test_target: pd.DataFrame\n",
    "            the test data frame list with the target labels\n",
    "        history: tf.keras.callbacks.History\n",
    "            the history from fitting the model\n",
    "        skip_evaluation: bool\n",
    "            skip the model.evaluate() function\n",
    "    \"\"\"\n",
    "\n",
    "    print(f\"{'='*10} Model Accuracy {'='*10}\")\n",
    "    plt.plot(history.history['sender_output_accuracy'], label='sender_output_accuracy', color=\"tan\")\n",
    "    plt.plot(history.history['val_sender_output_accuracy'], label = 'val_sender_output_accuracy', color=\"darkorange\")\n",
    "    plt.plot(history.history['receiver_output_accuracy'], label='receiver_output_accuracy', color=\"cornflowerblue\")\n",
    "    plt.plot(history.history['val_receiver_output_accuracy'], label = 'val_receiver_output_accuracy', color=\"darkblue\")\n",
    "    plt.xlabel('Epoch')\n",
    "    plt.ylabel('Accuracy')\n",
    "    plt.ylim([0.5, 1])\n",
    "    plt.legend(loc='lower right')\n",
    "    plt.show()\n",
    "\n",
    "    if not skip_evaluation:\n",
    "        print(f\"{'='*10} Test Evaluation {'='*10}\")\n",
    "        model.evaluate(test_ds, test_target, verbose=2)\n",
    "        # print(f\"Test loss: {test_loss} | Test accuracy: {test_acc}\")\n",
    "        print()\n",
    "\n",
    "    print(f\"{'='*10} Test Metrics {'='*10}\")\n",
    "    y_pred = model.predict(test_ds)\n",
    "    print(f\"{'-'*10} Sender Labels {'-'*10}\")\n",
    "    print(sklearn.metrics.classification_report(test_target[0], np.argmax(y_pred[0], axis=1), target_names=[\"True\", \"False\"], zero_division=0))\n",
    "    print(f\"{'-'*10} Receiver Labels {'-'*10}\")\n",
    "    print(sklearn.metrics.classification_report(test_target[1], np.argmax(y_pred[1], axis=1), target_names=[\"True\", \"False\"], zero_division=0))"
   ]
  },
  {
   "cell_type": "code",
   "execution_count": 8,
   "metadata": {},
   "outputs": [],
   "source": [
    "def Tokenize(tokenizer, df: pd.DataFrame, sequence_len: int = 300) -> tuple:\n",
    "    \"\"\"\n",
    "    Makes a consistant return of tokenized and padded messages and previous messages.\n",
    "    \"\"\"\n",
    "    encoded_msg = tokenizer.texts_to_sequences(df['messages'])\n",
    "    encoded_prev_msg = tokenizer.texts_to_sequences(df['previous_message'])\n",
    "    return keras.preprocessing.sequence.pad_sequences(encoded_msg, sequence_len), keras.preprocessing.sequence.pad_sequences(encoded_prev_msg, sequence_len)"
   ]
  },
  {
   "cell_type": "code",
   "execution_count": 104,
   "metadata": {},
   "outputs": [],
   "source": [
    "def PredictionGridPeek(pred: list, df: pd.DataFrame, target_labels: list, who: str) -> pd.DataFrame:\n",
    "    table = {\n",
    "        \"prediction\": [],\n",
    "        \"target\": [],\n",
    "        \"message\": [],\n",
    "        \"context\": []\n",
    "    }\n",
    "    for match in [True, False]:\n",
    "        bool_stmt = pred == df[f'{who}_labels_encoded'] if match else pred != df[f'{who}_labels_encoded']\n",
    "        visited = []\n",
    "        for i in range(0, len(pred)):\n",
    "            row = df[bool_stmt].iloc[i,:]\n",
    "            pred_label = target_labels[pred[bool_stmt][i]]\n",
    "            if (pred_label, row[f'{who}_labels']) not in visited:\n",
    "                table[\"prediction\"].append(pred_label)\n",
    "                table[\"target\"].append(row[f'{who}_labels'])\n",
    "                table['message'].append(row['messages'])\n",
    "                table['context'].append(row['previous_message'])\n",
    "                visited.append((pred_label, row[f'{who}_labels']))\n",
    "                if len(visited) >= len(target_labels):\n",
    "                    break\n",
    "    return pd.DataFrame(table)"
   ]
  },
  {
   "cell_type": "markdown",
   "metadata": {},
   "source": [
    "<hr/>\n",
    "\n",
    "# data explortion"
   ]
  },
  {
   "cell_type": "code",
   "execution_count": 9,
   "metadata": {},
   "outputs": [
    {
     "data": {
      "text/html": [
       "<div>\n",
       "<style scoped>\n",
       "    .dataframe tbody tr th:only-of-type {\n",
       "        vertical-align: middle;\n",
       "    }\n",
       "\n",
       "    .dataframe tbody tr th {\n",
       "        vertical-align: top;\n",
       "    }\n",
       "\n",
       "    .dataframe thead th {\n",
       "        text-align: right;\n",
       "    }\n",
       "</style>\n",
       "<table border=\"1\" class=\"dataframe\">\n",
       "  <thead>\n",
       "    <tr style=\"text-align: right;\">\n",
       "      <th></th>\n",
       "      <th>messages</th>\n",
       "      <th>sender_labels</th>\n",
       "      <th>receiver_labels</th>\n",
       "      <th>speakers</th>\n",
       "      <th>receivers</th>\n",
       "      <th>absolute_message_index</th>\n",
       "      <th>relative_message_index</th>\n",
       "      <th>seasons</th>\n",
       "      <th>years</th>\n",
       "      <th>game_score</th>\n",
       "      <th>game_score_delta</th>\n",
       "      <th>players</th>\n",
       "      <th>game_id</th>\n",
       "    </tr>\n",
       "  </thead>\n",
       "  <tbody>\n",
       "    <tr>\n",
       "      <th>0</th>\n",
       "      <td>[Germany!\\n\\nJust the person I want to speak w...</td>\n",
       "      <td>[True, True, True, True, True, True, True, Tru...</td>\n",
       "      <td>[True, True, True, True, NOANNOTATION, NOANNOT...</td>\n",
       "      <td>[italy, germany, italy, germany, italy, italy,...</td>\n",
       "      <td>[germany, italy, germany, italy, germany, germ...</td>\n",
       "      <td>[74, 76, 86, 87, 89, 92, 97, 117, 119, 121, 12...</td>\n",
       "      <td>[0, 1, 2, 3, 4, 5, 6, 7, 8, 9, 10, 11, 12, 13,...</td>\n",
       "      <td>[Spring, Spring, Spring, Spring, Spring, Sprin...</td>\n",
       "      <td>[1901, 1901, 1901, 1901, 1901, 1901, 1901, 190...</td>\n",
       "      <td>[3, 3, 3, 3, 3, 3, 3, 3, 3, 3, 3, 3, 3, 3, 3, ...</td>\n",
       "      <td>[0, 0, 0, 0, 0, 0, 0, 0, 0, 0, 0, 0, 0, 0, 0, ...</td>\n",
       "      <td>[italy, germany]</td>\n",
       "      <td>1</td>\n",
       "    </tr>\n",
       "    <tr>\n",
       "      <th>1</th>\n",
       "      <td>[Hello there! What's your general plan for thi...</td>\n",
       "      <td>[True, False, True, False, True, True, True, T...</td>\n",
       "      <td>[True, True, True, True, True, NOANNOTATION, T...</td>\n",
       "      <td>[austria, italy, austria, italy, italy, austri...</td>\n",
       "      <td>[italy, austria, italy, austria, austria, ital...</td>\n",
       "      <td>[1, 67, 71, 73, 98, 99, 101, 179, 181, 185, 18...</td>\n",
       "      <td>[0, 1, 2, 3, 4, 5, 6, 7, 8, 9, 10, 11, 12, 13,...</td>\n",
       "      <td>[Spring, Spring, Spring, Spring, Spring, Sprin...</td>\n",
       "      <td>[1901, 1901, 1901, 1901, 1901, 1901, 1901, 190...</td>\n",
       "      <td>[3, 3, 3, 3, 3, 3, 3, 3, 3, 3, 3, 4, 5, 4, 4, ...</td>\n",
       "      <td>[0, 0, 0, 0, 0, 0, 0, 0, 0, 0, 0, -1, 1, -1, -...</td>\n",
       "      <td>[italy, austria]</td>\n",
       "      <td>1</td>\n",
       "    </tr>\n",
       "    <tr>\n",
       "      <th>2</th>\n",
       "      <td>[Buongiorno! \\nBe kinda nice to know if you're...</td>\n",
       "      <td>[True, True, False, True, True, True, True, Tr...</td>\n",
       "      <td>[True, False, True, False, True, True, NOANNOT...</td>\n",
       "      <td>[russia, italy, russia, italy, russia, italy, ...</td>\n",
       "      <td>[italy, russia, italy, russia, italy, russia, ...</td>\n",
       "      <td>[11, 50, 52, 57, 61, 66, 77, 85, 96, 102, 116,...</td>\n",
       "      <td>[0, 1, 2, 3, 4, 5, 6, 7, 8, 9, 10, 11, 12, 13,...</td>\n",
       "      <td>[Spring, Spring, Spring, Spring, Spring, Sprin...</td>\n",
       "      <td>[1901, 1901, 1901, 1901, 1901, 1901, 1901, 190...</td>\n",
       "      <td>[4, 3, 4, 3, 4, 3, 4, 3, 3, 3, 4, 3, 3, 4, 4, ...</td>\n",
       "      <td>[1, -1, 1, -1, 1, -1, 1, -1, -1, -1, 1, -1, -1...</td>\n",
       "      <td>[italy, russia]</td>\n",
       "      <td>1</td>\n",
       "    </tr>\n",
       "    <tr>\n",
       "      <th>3</th>\n",
       "      <td>[Hey italy! good luck this game. I'm guessing ...</td>\n",
       "      <td>[True, False, True, True, True, True, True, Tr...</td>\n",
       "      <td>[NOANNOTATION, True, True, False, True, True, ...</td>\n",
       "      <td>[england, italy, england, england, england, it...</td>\n",
       "      <td>[italy, england, italy, italy, italy, england,...</td>\n",
       "      <td>[32, 95, 106, 107, 108, 110, 113, 125, 126, 12...</td>\n",
       "      <td>[0, 1, 2, 3, 4, 5, 6, 7, 8, 9, 10, 11, 12, 13,...</td>\n",
       "      <td>[Spring, Spring, Spring, Spring, Spring, Sprin...</td>\n",
       "      <td>[1901, 1901, 1901, 1901, 1901, 1901, 1901, 190...</td>\n",
       "      <td>[3, 3, 3, 3, 3, 3, 3, 3, 3, 3, 3, 3, 3, 3, 4, ...</td>\n",
       "      <td>[0, 0, 0, 0, 0, 0, 0, 0, 0, 0, 0, 0, 0, 0, 0, ...</td>\n",
       "      <td>[italy, england]</td>\n",
       "      <td>1</td>\n",
       "    </tr>\n",
       "    <tr>\n",
       "      <th>4</th>\n",
       "      <td>[Hello Italy what’s up what are your thoughts ...</td>\n",
       "      <td>[True, False, False, True, True, True, True, T...</td>\n",
       "      <td>[NOANNOTATION, True, True, True, True, True, N...</td>\n",
       "      <td>[turkey, italy, italy, italy, turkey, italy, t...</td>\n",
       "      <td>[italy, turkey, turkey, turkey, italy, turkey,...</td>\n",
       "      <td>[45, 94, 103, 150, 154, 178, 192, 194, 195, 19...</td>\n",
       "      <td>[0, 1, 2, 3, 4, 5, 6, 7, 8, 9, 10, 11, 12, 13,...</td>\n",
       "      <td>[Spring, Spring, Spring, Spring, Fall, Fall, F...</td>\n",
       "      <td>[1901, 1901, 1901, 1901, 1901, 1901, 1901, 190...</td>\n",
       "      <td>[3, 3, 3, 3, 3, 3, 3, 3, 3, 3, 3, 3, 4, 4, 5, ...</td>\n",
       "      <td>[0, 0, 0, 0, 0, 0, 0, 0, 0, 0, 0, 0, -1, -1, 1...</td>\n",
       "      <td>[italy, turkey]</td>\n",
       "      <td>1</td>\n",
       "    </tr>\n",
       "  </tbody>\n",
       "</table>\n",
       "</div>"
      ],
      "text/plain": [
       "                                            messages  \\\n",
       "0  [Germany!\\n\\nJust the person I want to speak w...   \n",
       "1  [Hello there! What's your general plan for thi...   \n",
       "2  [Buongiorno! \\nBe kinda nice to know if you're...   \n",
       "3  [Hey italy! good luck this game. I'm guessing ...   \n",
       "4  [Hello Italy what’s up what are your thoughts ...   \n",
       "\n",
       "                                       sender_labels  \\\n",
       "0  [True, True, True, True, True, True, True, Tru...   \n",
       "1  [True, False, True, False, True, True, True, T...   \n",
       "2  [True, True, False, True, True, True, True, Tr...   \n",
       "3  [True, False, True, True, True, True, True, Tr...   \n",
       "4  [True, False, False, True, True, True, True, T...   \n",
       "\n",
       "                                     receiver_labels  \\\n",
       "0  [True, True, True, True, NOANNOTATION, NOANNOT...   \n",
       "1  [True, True, True, True, True, NOANNOTATION, T...   \n",
       "2  [True, False, True, False, True, True, NOANNOT...   \n",
       "3  [NOANNOTATION, True, True, False, True, True, ...   \n",
       "4  [NOANNOTATION, True, True, True, True, True, N...   \n",
       "\n",
       "                                            speakers  \\\n",
       "0  [italy, germany, italy, germany, italy, italy,...   \n",
       "1  [austria, italy, austria, italy, italy, austri...   \n",
       "2  [russia, italy, russia, italy, russia, italy, ...   \n",
       "3  [england, italy, england, england, england, it...   \n",
       "4  [turkey, italy, italy, italy, turkey, italy, t...   \n",
       "\n",
       "                                           receivers  \\\n",
       "0  [germany, italy, germany, italy, germany, germ...   \n",
       "1  [italy, austria, italy, austria, austria, ital...   \n",
       "2  [italy, russia, italy, russia, italy, russia, ...   \n",
       "3  [italy, england, italy, italy, italy, england,...   \n",
       "4  [italy, turkey, turkey, turkey, italy, turkey,...   \n",
       "\n",
       "                              absolute_message_index  \\\n",
       "0  [74, 76, 86, 87, 89, 92, 97, 117, 119, 121, 12...   \n",
       "1  [1, 67, 71, 73, 98, 99, 101, 179, 181, 185, 18...   \n",
       "2  [11, 50, 52, 57, 61, 66, 77, 85, 96, 102, 116,...   \n",
       "3  [32, 95, 106, 107, 108, 110, 113, 125, 126, 12...   \n",
       "4  [45, 94, 103, 150, 154, 178, 192, 194, 195, 19...   \n",
       "\n",
       "                              relative_message_index  \\\n",
       "0  [0, 1, 2, 3, 4, 5, 6, 7, 8, 9, 10, 11, 12, 13,...   \n",
       "1  [0, 1, 2, 3, 4, 5, 6, 7, 8, 9, 10, 11, 12, 13,...   \n",
       "2  [0, 1, 2, 3, 4, 5, 6, 7, 8, 9, 10, 11, 12, 13,...   \n",
       "3  [0, 1, 2, 3, 4, 5, 6, 7, 8, 9, 10, 11, 12, 13,...   \n",
       "4  [0, 1, 2, 3, 4, 5, 6, 7, 8, 9, 10, 11, 12, 13,...   \n",
       "\n",
       "                                             seasons  \\\n",
       "0  [Spring, Spring, Spring, Spring, Spring, Sprin...   \n",
       "1  [Spring, Spring, Spring, Spring, Spring, Sprin...   \n",
       "2  [Spring, Spring, Spring, Spring, Spring, Sprin...   \n",
       "3  [Spring, Spring, Spring, Spring, Spring, Sprin...   \n",
       "4  [Spring, Spring, Spring, Spring, Fall, Fall, F...   \n",
       "\n",
       "                                               years  \\\n",
       "0  [1901, 1901, 1901, 1901, 1901, 1901, 1901, 190...   \n",
       "1  [1901, 1901, 1901, 1901, 1901, 1901, 1901, 190...   \n",
       "2  [1901, 1901, 1901, 1901, 1901, 1901, 1901, 190...   \n",
       "3  [1901, 1901, 1901, 1901, 1901, 1901, 1901, 190...   \n",
       "4  [1901, 1901, 1901, 1901, 1901, 1901, 1901, 190...   \n",
       "\n",
       "                                          game_score  \\\n",
       "0  [3, 3, 3, 3, 3, 3, 3, 3, 3, 3, 3, 3, 3, 3, 3, ...   \n",
       "1  [3, 3, 3, 3, 3, 3, 3, 3, 3, 3, 3, 4, 5, 4, 4, ...   \n",
       "2  [4, 3, 4, 3, 4, 3, 4, 3, 3, 3, 4, 3, 3, 4, 4, ...   \n",
       "3  [3, 3, 3, 3, 3, 3, 3, 3, 3, 3, 3, 3, 3, 3, 4, ...   \n",
       "4  [3, 3, 3, 3, 3, 3, 3, 3, 3, 3, 3, 3, 4, 4, 5, ...   \n",
       "\n",
       "                                    game_score_delta           players  \\\n",
       "0  [0, 0, 0, 0, 0, 0, 0, 0, 0, 0, 0, 0, 0, 0, 0, ...  [italy, germany]   \n",
       "1  [0, 0, 0, 0, 0, 0, 0, 0, 0, 0, 0, -1, 1, -1, -...  [italy, austria]   \n",
       "2  [1, -1, 1, -1, 1, -1, 1, -1, -1, -1, 1, -1, -1...   [italy, russia]   \n",
       "3  [0, 0, 0, 0, 0, 0, 0, 0, 0, 0, 0, 0, 0, 0, 0, ...  [italy, england]   \n",
       "4  [0, 0, 0, 0, 0, 0, 0, 0, 0, 0, 0, 0, -1, -1, 1...   [italy, turkey]   \n",
       "\n",
       "   game_id  \n",
       "0        1  \n",
       "1        1  \n",
       "2        1  \n",
       "3        1  \n",
       "4        1  "
      ]
     },
     "execution_count": 9,
     "metadata": {},
     "output_type": "execute_result"
    }
   ],
   "source": [
    "train_df = pd.read_json(\"./data/train.jsonl\", lines=True)\n",
    "train_df.head()"
   ]
  },
  {
   "cell_type": "markdown",
   "metadata": {},
   "source": [
    "just a raw load of the data we can see it is unformated and needs to be parsed a little to better satisfy the pandas format."
   ]
  },
  {
   "cell_type": "code",
   "execution_count": 10,
   "metadata": {},
   "outputs": [],
   "source": [
    "train_df = (parse_jsonl(\"./data/train.jsonl\"))\n",
    "test_df = (parse_jsonl(\"./data/test.jsonl\"))\n",
    "validation_df = (parse_jsonl(\"./data/validation.jsonl\"))"
   ]
  },
  {
   "cell_type": "code",
   "execution_count": 11,
   "metadata": {},
   "outputs": [
    {
     "data": {
      "text/html": [
       "<div>\n",
       "<style scoped>\n",
       "    .dataframe tbody tr th:only-of-type {\n",
       "        vertical-align: middle;\n",
       "    }\n",
       "\n",
       "    .dataframe tbody tr th {\n",
       "        vertical-align: top;\n",
       "    }\n",
       "\n",
       "    .dataframe thead th {\n",
       "        text-align: right;\n",
       "    }\n",
       "</style>\n",
       "<table border=\"1\" class=\"dataframe\">\n",
       "  <thead>\n",
       "    <tr style=\"text-align: right;\">\n",
       "      <th></th>\n",
       "      <th>messages</th>\n",
       "      <th>sender_labels</th>\n",
       "      <th>receiver_labels</th>\n",
       "      <th>speakers</th>\n",
       "      <th>receivers</th>\n",
       "      <th>absolute_message_index</th>\n",
       "      <th>relative_message_index</th>\n",
       "      <th>seasons</th>\n",
       "      <th>years</th>\n",
       "      <th>game_score</th>\n",
       "      <th>game_score_delta</th>\n",
       "      <th>game_id</th>\n",
       "      <th>conversation_id</th>\n",
       "      <th>previous_message</th>\n",
       "      <th>label</th>\n",
       "      <th>sender_labels_encoded</th>\n",
       "      <th>receiver_labels_encoded</th>\n",
       "    </tr>\n",
       "  </thead>\n",
       "  <tbody>\n",
       "    <tr>\n",
       "      <th>0</th>\n",
       "      <td>Germany!\\n\\nJust the person I want to speak wi...</td>\n",
       "      <td>True</td>\n",
       "      <td>True</td>\n",
       "      <td>italy</td>\n",
       "      <td>germany</td>\n",
       "      <td>74</td>\n",
       "      <td>0</td>\n",
       "      <td>Spring</td>\n",
       "      <td>1901</td>\n",
       "      <td>3</td>\n",
       "      <td>0.0</td>\n",
       "      <td>1</td>\n",
       "      <td>0</td>\n",
       "      <td></td>\n",
       "      <td>straightforward</td>\n",
       "      <td>0</td>\n",
       "      <td>0</td>\n",
       "    </tr>\n",
       "    <tr>\n",
       "      <th>1</th>\n",
       "      <td>You've whet my appetite, Italy. What's the sug...</td>\n",
       "      <td>True</td>\n",
       "      <td>True</td>\n",
       "      <td>germany</td>\n",
       "      <td>italy</td>\n",
       "      <td>76</td>\n",
       "      <td>1</td>\n",
       "      <td>Spring</td>\n",
       "      <td>1901</td>\n",
       "      <td>3</td>\n",
       "      <td>0.0</td>\n",
       "      <td>1</td>\n",
       "      <td>0</td>\n",
       "      <td>Germany!\\n\\nJust the person I want to speak wi...</td>\n",
       "      <td>straightforward</td>\n",
       "      <td>0</td>\n",
       "      <td>0</td>\n",
       "    </tr>\n",
       "    <tr>\n",
       "      <th>2</th>\n",
       "      <td>👍</td>\n",
       "      <td>True</td>\n",
       "      <td>True</td>\n",
       "      <td>italy</td>\n",
       "      <td>germany</td>\n",
       "      <td>86</td>\n",
       "      <td>2</td>\n",
       "      <td>Spring</td>\n",
       "      <td>1901</td>\n",
       "      <td>3</td>\n",
       "      <td>0.0</td>\n",
       "      <td>1</td>\n",
       "      <td>0</td>\n",
       "      <td>You've whet my appetite, Italy. What's the sug...</td>\n",
       "      <td>straightforward</td>\n",
       "      <td>0</td>\n",
       "      <td>0</td>\n",
       "    </tr>\n",
       "    <tr>\n",
       "      <th>3</th>\n",
       "      <td>It seems like there are a lot of ways that cou...</td>\n",
       "      <td>True</td>\n",
       "      <td>True</td>\n",
       "      <td>germany</td>\n",
       "      <td>italy</td>\n",
       "      <td>87</td>\n",
       "      <td>3</td>\n",
       "      <td>Spring</td>\n",
       "      <td>1901</td>\n",
       "      <td>3</td>\n",
       "      <td>0.0</td>\n",
       "      <td>1</td>\n",
       "      <td>0</td>\n",
       "      <td>👍</td>\n",
       "      <td>straightforward</td>\n",
       "      <td>0</td>\n",
       "      <td>0</td>\n",
       "    </tr>\n",
       "    <tr>\n",
       "      <th>4</th>\n",
       "      <td>Yeah, I can’t say I’ve tried it and it works, ...</td>\n",
       "      <td>True</td>\n",
       "      <td>NOANNOTATION</td>\n",
       "      <td>italy</td>\n",
       "      <td>germany</td>\n",
       "      <td>89</td>\n",
       "      <td>4</td>\n",
       "      <td>Spring</td>\n",
       "      <td>1901</td>\n",
       "      <td>3</td>\n",
       "      <td>0.0</td>\n",
       "      <td>1</td>\n",
       "      <td>0</td>\n",
       "      <td>It seems like there are a lot of ways that cou...</td>\n",
       "      <td>straightforward</td>\n",
       "      <td>0</td>\n",
       "      <td>2</td>\n",
       "    </tr>\n",
       "  </tbody>\n",
       "</table>\n",
       "</div>"
      ],
      "text/plain": [
       "                                            messages  sender_labels  \\\n",
       "0  Germany!\\n\\nJust the person I want to speak wi...           True   \n",
       "1  You've whet my appetite, Italy. What's the sug...           True   \n",
       "2                                                  👍           True   \n",
       "3  It seems like there are a lot of ways that cou...           True   \n",
       "4  Yeah, I can’t say I’ve tried it and it works, ...           True   \n",
       "\n",
       "  receiver_labels speakers receivers  absolute_message_index  \\\n",
       "0            True    italy   germany                      74   \n",
       "1            True  germany     italy                      76   \n",
       "2            True    italy   germany                      86   \n",
       "3            True  germany     italy                      87   \n",
       "4    NOANNOTATION    italy   germany                      89   \n",
       "\n",
       "   relative_message_index seasons years game_score  game_score_delta  game_id  \\\n",
       "0                       0  Spring  1901          3               0.0        1   \n",
       "1                       1  Spring  1901          3               0.0        1   \n",
       "2                       2  Spring  1901          3               0.0        1   \n",
       "3                       3  Spring  1901          3               0.0        1   \n",
       "4                       4  Spring  1901          3               0.0        1   \n",
       "\n",
       "   conversation_id                                   previous_message  \\\n",
       "0                0                                                      \n",
       "1                0  Germany!\\n\\nJust the person I want to speak wi...   \n",
       "2                0  You've whet my appetite, Italy. What's the sug...   \n",
       "3                0                                                  👍   \n",
       "4                0  It seems like there are a lot of ways that cou...   \n",
       "\n",
       "             label  sender_labels_encoded  receiver_labels_encoded  \n",
       "0  straightforward                      0                        0  \n",
       "1  straightforward                      0                        0  \n",
       "2  straightforward                      0                        0  \n",
       "3  straightforward                      0                        0  \n",
       "4  straightforward                      0                        2  "
      ]
     },
     "execution_count": 11,
     "metadata": {},
     "output_type": "execute_result"
    }
   ],
   "source": [
    "train_df.head()"
   ]
  },
  {
   "cell_type": "markdown",
   "metadata": {},
   "source": [
    "# NONANNOTATION"
   ]
  },
  {
   "cell_type": "markdown",
   "metadata": {},
   "source": [
    "We can see that there are some `receiver_labels` that have the value `NOANNOTATION`. this is not a bool value "
   ]
  },
  {
   "cell_type": "code",
   "execution_count": 12,
   "metadata": {},
   "outputs": [
    {
     "data": {
      "text/plain": [
       "8.43"
      ]
     },
     "execution_count": 12,
     "metadata": {},
     "output_type": "execute_result"
    }
   ],
   "source": [
    "round(len(train_df[train_df[\"receiver_labels\"] == \"NOANNOTATION\"].index) /  len(train_df.index), 4) * 100"
   ]
  },
  {
   "cell_type": "markdown",
   "metadata": {},
   "source": [
    "8.43% of the rows in `test_df` contain a \"NOANNOTATION\" `receiver_labels`."
   ]
  },
  {
   "cell_type": "code",
   "execution_count": 47,
   "metadata": {},
   "outputs": [
    {
     "data": {
      "text/plain": [
       "0.0"
      ]
     },
     "execution_count": 47,
     "metadata": {},
     "output_type": "execute_result"
    }
   ],
   "source": [
    "train_df = train_df[train_df[\"receiver_labels\"] != \"NOANNOTATION\"]\n",
    "round(len(train_df[train_df[\"receiver_labels\"] == \"NOANNOTATION\"].index) /  len(train_df.index), 4) * 100"
   ]
  },
  {
   "cell_type": "markdown",
   "metadata": {},
   "source": [
    "`test_df` also contains some \"NOANNOTATION\" so we will remove them also."
   ]
  },
  {
   "cell_type": "code",
   "execution_count": 48,
   "metadata": {},
   "outputs": [
    {
     "data": {
      "text/plain": [
       "0.0"
      ]
     },
     "execution_count": 48,
     "metadata": {},
     "output_type": "execute_result"
    }
   ],
   "source": [
    "test_df = test_df[test_df['receiver_labels'] != \"NOANNOTATION\"]\n",
    "round(len(test_df[test_df[\"receiver_labels\"] == \"NOANNOTATION\"].index) /  len(test_df.index), 4) * 100"
   ]
  },
  {
   "cell_type": "markdown",
   "metadata": {},
   "source": [
    "# Unique Words"
   ]
  },
  {
   "cell_type": "code",
   "execution_count": 16,
   "metadata": {},
   "outputs": [
    {
     "name": "stdout",
     "output_type": "stream",
     "text": [
      "germany!: 11\n",
      "just: 1146\n",
      "the: 6037\n",
      "person: 28\n",
      "i: 8250\n",
      "want: 779\n",
      "to: 10653\n",
      "speak: 17\n",
      "with.: 34\n",
      "have: 1944\n",
      "a: 4399\n",
      "somewhat: 15\n",
      "crazy: 15\n",
      "idea: 89\n",
      "that: 3414\n",
      "i’ve: 139\n",
      "always: 75\n",
      "wanted: 136\n",
      "try: 284\n",
      "with: 2364\n",
      "i/g,: 1\n",
      "but: 2086\n",
      "never: 96\n",
      "actually: 195\n",
      "convinced: 11\n",
      "other: 271\n",
      "guy: 29\n",
      "it.: 244\n",
      "and,: 34\n",
      "what’s: 73\n",
      "worse,: 3\n"
     ]
    }
   ],
   "source": [
    "sequence_list = list(train_df['messages'].astype(str).str.lower().str.split().to_numpy())\n",
    "unique_words = {}\n",
    "for sequence in sequence_list:\n",
    "    for word in sequence:\n",
    "        unique_words[word] = unique_words.get(word, 0) + 1\n",
    "    # sequence_list = sequence_list + ([\"<PAD>\"] )\n",
    "\n",
    "for (i,(k,v)) in enumerate(unique_words.items()):\n",
    "    if i > 30:\n",
    "        break\n",
    "    print(f\"{k}: {v}\")"
   ]
  },
  {
   "cell_type": "code",
   "execution_count": 17,
   "metadata": {},
   "outputs": [
    {
     "data": {
      "text/plain": [
       "14991"
      ]
     },
     "execution_count": 17,
     "metadata": {},
     "output_type": "execute_result"
    }
   ],
   "source": [
    "len(unique_words)"
   ]
  },
  {
   "cell_type": "markdown",
   "metadata": {},
   "source": [
    "<!-- I processed only what is considered a **word** to the regex `\\w+`. this means that any punctuation is omitted. -->\n",
    "\n",
    "After processing, we have a total of 15,657 words.\n",
    "\n",
    "Some things to note are\n",
    "- there are some arbitrary number included\n",
    "- some words are repeated because of long character exaggeration (for example, \"aaaaaalllllllllll\" instead of \"all\" or \"aaaaany\" instead of \"any\")\n",
    "- some words are repeated because of misspellings and typos"
   ]
  },
  {
   "cell_type": "code",
   "execution_count": 18,
   "metadata": {},
   "outputs": [
    {
     "data": {
      "image/png": "[encoded data removed]",
      "text/plain": [
       "<Figure size 640x480 with 1 Axes>"
      ]
     },
     "metadata": {},
     "output_type": "display_data"
    }
   ],
   "source": [
    "plt.hist(list(map(len, sequence_list)),bins=100)\n",
    "plt.show()"
   ]
  },
  {
   "cell_type": "code",
   "execution_count": 19,
   "metadata": {},
   "outputs": [
    {
     "data": {
      "text/html": [
       "<div>\n",
       "<style scoped>\n",
       "    .dataframe tbody tr th:only-of-type {\n",
       "        vertical-align: middle;\n",
       "    }\n",
       "\n",
       "    .dataframe tbody tr th {\n",
       "        vertical-align: top;\n",
       "    }\n",
       "\n",
       "    .dataframe thead th {\n",
       "        text-align: right;\n",
       "    }\n",
       "</style>\n",
       "<table border=\"1\" class=\"dataframe\">\n",
       "  <thead>\n",
       "    <tr style=\"text-align: right;\">\n",
       "      <th></th>\n",
       "      <th></th>\n",
       "      <th>value</th>\n",
       "    </tr>\n",
       "  </thead>\n",
       "  <tbody>\n",
       "    <tr>\n",
       "      <th>0</th>\n",
       "      <td>Message count</td>\n",
       "      <td>12025</td>\n",
       "    </tr>\n",
       "    <tr>\n",
       "      <th>1</th>\n",
       "      <td>Average words per message</td>\n",
       "      <td>20</td>\n",
       "    </tr>\n",
       "    <tr>\n",
       "      <th>2</th>\n",
       "      <td>Unique word count</td>\n",
       "      <td>14991</td>\n",
       "    </tr>\n",
       "    <tr>\n",
       "      <th>3</th>\n",
       "      <td>Actual Lie count</td>\n",
       "      <td>545</td>\n",
       "    </tr>\n",
       "    <tr>\n",
       "      <th>4</th>\n",
       "      <td>Actual Truth count</td>\n",
       "      <td>11480</td>\n",
       "    </tr>\n",
       "  </tbody>\n",
       "</table>\n",
       "</div>"
      ],
      "text/plain": [
       "                              value\n",
       "0              Message count  12025\n",
       "1  Average words per message     20\n",
       "2          Unique word count  14991\n",
       "3           Actual Lie count    545\n",
       "4         Actual Truth count  11480"
      ]
     },
     "execution_count": 19,
     "metadata": {},
     "output_type": "execute_result"
    }
   ],
   "source": [
    "summary = {\n",
    "    \"\": [\n",
    "        'Message count',\n",
    "        'Average words per message',\n",
    "        'Unique word count',\n",
    "        'Actual Lie count',\n",
    "        'Actual Truth count'\n",
    "    ],\n",
    "    \"value\": [\n",
    "        len(train_df.index),\n",
    "        math.floor(sum(map(len, sequence_list)) / len(sequence_list)),\n",
    "        len(unique_words),\n",
    "        (~train_df['sender_labels']).sum(),\n",
    "        (train_df['sender_labels']).sum()\n",
    "    ],\n",
    "}\n",
    "pd.DataFrame(summary)"
   ]
  },
  {
   "cell_type": "markdown",
   "metadata": {},
   "source": [
    "# Label count"
   ]
  },
  {
   "cell_type": "code",
   "execution_count": 20,
   "metadata": {},
   "outputs": [
    {
     "data": {
      "text/plain": [
       "label\n",
       "straightforward    10979\n",
       "cassandra            501\n",
       "deceive              480\n",
       "caught                65\n",
       "Name: count, dtype: int64"
      ]
     },
     "execution_count": 20,
     "metadata": {},
     "output_type": "execute_result"
    }
   ],
   "source": [
    "train_df['label'].value_counts()"
   ]
  },
  {
   "cell_type": "code",
   "execution_count": 21,
   "metadata": {},
   "outputs": [
    {
     "data": {
      "image/png": "[encoded data removed]",
      "text/plain": [
       "<Figure size 640x480 with 1 Axes>"
      ]
     },
     "metadata": {},
     "output_type": "display_data"
    }
   ],
   "source": [
    "train_df['label'].value_counts().plot.bar()\n",
    "plt.show()"
   ]
  },
  {
   "cell_type": "code",
   "execution_count": 22,
   "metadata": {},
   "outputs": [
    {
     "data": {
      "text/plain": [
       "label\n",
       "straightforward    0.913015\n",
       "cassandra          0.041663\n",
       "deceive            0.039917\n",
       "caught             0.005405\n",
       "Name: proportion, dtype: float64"
      ]
     },
     "execution_count": 22,
     "metadata": {},
     "output_type": "execute_result"
    }
   ],
   "source": [
    "train_df['label'].value_counts(normalize=True)"
   ]
  },
  {
   "cell_type": "markdown",
   "metadata": {},
   "source": [
    "<hr/>\n",
    "\n",
    "# Constants"
   ]
  },
  {
   "cell_type": "code",
   "execution_count": 66,
   "metadata": {},
   "outputs": [],
   "source": [
    "MAX_SEQUENCE_LEN = max(map(len,sequence_list))\n",
    "VOCAB_SIZE = 5000 # len(unique_words)\n",
    "EMBEDDING_OUTPUT_SIZE = 124\n",
    "LSTM_SIZE = 64\n",
    "DROPOUT_RATE = 0.2\n",
    "HIDDEN_LAYER_SIZE = 64\n",
    "LEARNING_RATE = 0.001\n",
    "\n",
    "CLASS_LABELS = [\"True\", \"False\"]\n",
    "\n",
    "tokenizer = keras.preprocessing.text.Tokenizer(num_words=VOCAB_SIZE, oov_token=\"<OOV>\")\n",
    "tokenizer.fit_on_texts(train_df['messages'])\n",
    "# smote = imblearn.over_sampling.SMOTE()\n",
    "\n",
    "# train_encoded_padded, y_train = smote.fit_resample(train_tokenized_padded, train_df['label_encoded'])\n",
    "# train_prev_encoded_padded, y_train = smote.fit_resample(train_prev_tokenized_padded, train_df['label_encoded'])\n",
    "\n",
    "train_encoded_padded, train_prev_encoded_padded = Tokenize(tokenizer, train_df, MAX_SEQUENCE_LEN)\n",
    "test_encoded_padded, test_prev_encoded_padded = Tokenize(tokenizer, test_df, MAX_SEQUENCE_LEN)\n",
    "validation_encoded_padded, validation_prev_encoded_padded = Tokenize(tokenizer, validation_df, MAX_SEQUENCE_LEN)"
   ]
  },
  {
   "cell_type": "markdown",
   "metadata": {},
   "source": [
    "<hr/>\n",
    "\n",
    "# Naive Neural Network"
   ]
  },
  {
   "cell_type": "code",
   "execution_count": 24,
   "metadata": {},
   "outputs": [],
   "source": [
    "def create_naive_model(\n",
    "        vocab_size: int = VOCAB_SIZE,\n",
    "        embedding_output: int = EMBEDDING_OUTPUT_SIZE,\n",
    "        sequence_length: int = MAX_SEQUENCE_LEN,\n",
    "        hidden_size: int = HIDDEN_LAYER_SIZE,\n",
    "        learning_rate: float = LEARNING_RATE\n",
    "    ):\n",
    "\n",
    "    message_input = keras.layers.Input(shape=(sequence_length,), dtype=tf.int64, name='message_input')\n",
    "    \n",
    "    naive_output = pipe(\n",
    "        message_input,\n",
    "        keras.layers.Embedding(vocab_size, embedding_output, input_length=sequence_length),\n",
    "        keras.layers.Flatten(),\n",
    "        keras.layers.Dense(hidden_size, activation=\"relu\")\n",
    "    )\n",
    "        \n",
    "    sender_output = keras.layers.Dense(2, activation='softmax', name=\"sender_output\")(naive_output)\n",
    "    receiver_output = keras.layers.Dense(2, activation='softmax', name=\"receiver_output\")(naive_output)\n",
    "\n",
    "    model = keras.Model(\n",
    "        inputs=[message_input],\n",
    "        outputs=[sender_output, receiver_output]\n",
    "    )\n",
    "\n",
    "    model.compile(\n",
    "        loss='sparse_categorical_crossentropy',\n",
    "        optimizer=tf.keras.optimizers.Adam(learning_rate=learning_rate),\n",
    "        metrics=['accuracy']\n",
    "    )\n",
    "\n",
    "    return model"
   ]
  },
  {
   "cell_type": "code",
   "execution_count": 25,
   "metadata": {},
   "outputs": [
    {
     "name": "stdout",
     "output_type": "stream",
     "text": [
      "Model: \"model\"\n",
      "__________________________________________________________________________________________________\n",
      " Layer (type)                Output Shape                 Param #   Connected to                  \n",
      "==================================================================================================\n",
      " message_input (InputLayer)  [(None, 294)]                0         []                            \n",
      "                                                                                                  \n",
      " embedding (Embedding)       (None, 294, 124)             620000    ['message_input[0][0]']       \n",
      "                                                                                                  \n",
      " flatten (Flatten)           (None, 36456)                0         ['embedding[0][0]']           \n",
      "                                                                                                  \n",
      " dense (Dense)               (None, 64)                   2333248   ['flatten[0][0]']             \n",
      "                                                                                                  \n",
      " sender_output (Dense)       (None, 2)                    130       ['dense[0][0]']               \n",
      "                                                                                                  \n",
      "__________________________________________________________________________________________________\n",
      " Layer (type)                Output Shape                 Param #   Connected to                  \n",
      "==================================================================================================\n",
      " message_input (InputLayer)  [(None, 294)]                0         []                            \n",
      "                                                                                                  \n",
      " embedding (Embedding)       (None, 294, 124)             620000    ['message_input[0][0]']       \n",
      "                                                                                                  \n",
      " flatten (Flatten)           (None, 36456)                0         ['embedding[0][0]']           \n",
      "                                                                                                  \n",
      " dense (Dense)               (None, 64)                   2333248   ['flatten[0][0]']             \n",
      "                                                                                                  \n",
      " sender_output (Dense)       (None, 2)                    130       ['dense[0][0]']               \n",
      "                                                                                                  \n",
      " receiver_output (Dense)     (None, 2)                    130       ['dense[0][0]']               \n",
      "                                                                                                  \n",
      "==================================================================================================\n",
      "Total params: 2953508 (11.27 MB)\n",
      "Trainable params: 2953508 (11.27 MB)\n",
      "Non-trainable params: 0 (0.00 Byte)\n",
      "__________________________________________________________________________________________________\n"
     ]
    }
   ],
   "source": [
    "naive_model = create_naive_model()\n",
    "naive_model.summary()"
   ]
  },
  {
   "cell_type": "code",
   "execution_count": 26,
   "metadata": {},
   "outputs": [
    {
     "name": "stdout",
     "output_type": "stream",
     "text": [
      "Epoch 1/10\n",
      "376/376 [==============================] - 23s 56ms/step - loss: 0.3849 - sender_output_loss: 0.1858 - receiver_output_loss: 0.1992 - sender_output_accuracy: 0.9548 - receiver_output_accuracy: 0.9528 - val_loss: nan - val_sender_output_loss: 0.1612 - val_receiver_output_loss: nan - val_sender_output_accuracy: 0.9605 - val_receiver_output_accuracy: 0.8729\n",
      "Epoch 2/10\n",
      "376/376 [==============================] - 7s 19ms/step - loss: 0.2914 - sender_output_loss: 0.1296 - receiver_output_loss: 0.1618 - sender_output_accuracy: 0.9604 - receiver_output_accuracy: 0.9534 - val_loss: nan - val_sender_output_loss: 0.1898 - val_receiver_output_loss: nan - val_sender_output_accuracy: 0.9590 - val_receiver_output_accuracy: 0.8729\n",
      "Epoch 3/10\n",
      "376/376 [==============================] - 5s 14ms/step - loss: 0.1509 - sender_output_loss: 0.0611 - receiver_output_loss: 0.0898 - sender_output_accuracy: 0.9809 - receiver_output_accuracy: 0.9698 - val_loss: nan - val_sender_output_loss: 0.2627 - val_receiver_output_loss: nan - val_sender_output_accuracy: 0.9597 - val_receiver_output_accuracy: 0.8672\n",
      "Epoch 4/10\n",
      "376/376 [==============================] - 5s 14ms/step - loss: 0.0735 - sender_output_loss: 0.0307 - receiver_output_loss: 0.0428 - sender_output_accuracy: 0.9915 - receiver_output_accuracy: 0.9860 - val_loss: nan - val_sender_output_loss: 0.2890 - val_receiver_output_loss: nan - val_sender_output_accuracy: 0.9590 - val_receiver_output_accuracy: 0.8715\n",
      "Epoch 5/10\n",
      "376/376 [==============================] - 4s 10ms/step - loss: 0.0451 - sender_output_loss: 0.0195 - receiver_output_loss: 0.0256 - sender_output_accuracy: 0.9947 - receiver_output_accuracy: 0.9928 - val_loss: nan - val_sender_output_loss: 0.3500 - val_receiver_output_loss: nan - val_sender_output_accuracy: 0.9569 - val_receiver_output_accuracy: 0.8616\n",
      "Epoch 6/10\n",
      "376/376 [==============================] - 3s 9ms/step - loss: 0.0298 - sender_output_loss: 0.0133 - receiver_output_loss: 0.0165 - sender_output_accuracy: 0.9962 - receiver_output_accuracy: 0.9957 - val_loss: nan - val_sender_output_loss: 0.3775 - val_receiver_output_loss: nan - val_sender_output_accuracy: 0.9583 - val_receiver_output_accuracy: 0.8524\n",
      "Epoch 7/10\n",
      "376/376 [==============================] - 4s 10ms/step - loss: 0.0226 - sender_output_loss: 0.0113 - receiver_output_loss: 0.0113 - sender_output_accuracy: 0.9972 - receiver_output_accuracy: 0.9972 - val_loss: nan - val_sender_output_loss: 0.4908 - val_receiver_output_loss: nan - val_sender_output_accuracy: 0.9576 - val_receiver_output_accuracy: 0.8644\n",
      "Epoch 8/10\n",
      "376/376 [==============================] - 4s 9ms/step - loss: 0.0225 - sender_output_loss: 0.0113 - receiver_output_loss: 0.0112 - sender_output_accuracy: 0.9968 - receiver_output_accuracy: 0.9974 - val_loss: nan - val_sender_output_loss: 0.4449 - val_receiver_output_loss: nan - val_sender_output_accuracy: 0.9470 - val_receiver_output_accuracy: 0.8482\n",
      "Epoch 9/10\n",
      "376/376 [==============================] - 4s 10ms/step - loss: 0.0174 - sender_output_loss: 0.0088 - receiver_output_loss: 0.0085 - sender_output_accuracy: 0.9971 - receiver_output_accuracy: 0.9974 - val_loss: nan - val_sender_output_loss: 0.5717 - val_receiver_output_loss: nan - val_sender_output_accuracy: 0.9590 - val_receiver_output_accuracy: 0.8672\n",
      "Epoch 10/10\n",
      "376/376 [==============================] - 4s 10ms/step - loss: 0.0189 - sender_output_loss: 0.0088 - receiver_output_loss: 0.0100 - sender_output_accuracy: 0.9974 - receiver_output_accuracy: 0.9978 - val_loss: nan - val_sender_output_loss: 0.5135 - val_receiver_output_loss: nan - val_sender_output_accuracy: 0.9492 - val_receiver_output_accuracy: 0.8644\n"
     ]
    }
   ],
   "source": [
    "naive_history = naive_model.fit(\n",
    "    train_encoded_padded,\n",
    "    [train_df['sender_labels_encoded'], train_df['receiver_labels_encoded']],\n",
    "    validation_data=(validation_encoded_padded, [validation_df['sender_labels_encoded'], validation_df['receiver_labels_encoded']]),\n",
    "    epochs=10\n",
    ")"
   ]
  },
  {
   "cell_type": "code",
   "execution_count": 27,
   "metadata": {},
   "outputs": [
    {
     "name": "stdout",
     "output_type": "stream",
     "text": [
      "========== Model Accuracy ==========\n"
     ]
    },
    {
     "data": {
      "image/png": "[encoded data removed]",
      "text/plain": [
       "<Figure size 640x480 with 1 Axes>"
      ]
     },
     "metadata": {},
     "output_type": "display_data"
    },
    {
     "name": "stdout",
     "output_type": "stream",
     "text": [
      "========== Test Evaluation ==========\n",
      "78/78 - 0s - loss: 1.8012 - sender_output_loss: 1.0053 - receiver_output_loss: 0.7959 - sender_output_accuracy: 0.8962 - receiver_output_accuracy: 0.9240 - 312ms/epoch - 4ms/step\n",
      "\n",
      "========== Test Metrics ==========\n",
      "78/78 [==============================] - 0s 2ms/step\n",
      "---------- Sender Labels ----------\n",
      "              precision    recall  f1-score   support\n",
      "\n",
      "        True       0.92      0.97      0.95      2268\n",
      "       False       0.11      0.03      0.05       207\n",
      "\n",
      "    accuracy                           0.90      2475\n",
      "   macro avg       0.51      0.50      0.50      2475\n",
      "weighted avg       0.85      0.90      0.87      2475\n",
      "\n",
      "---------- Receiver Labels ----------\n",
      "              precision    recall  f1-score   support\n",
      "\n",
      "        True       0.93      0.99      0.96      2310\n",
      "       False       0.10      0.02      0.03       165\n",
      "\n",
      "    accuracy                           0.92      2475\n",
      "   macro avg       0.52      0.50      0.50      2475\n",
      "weighted avg       0.88      0.92      0.90      2475\n",
      "\n"
     ]
    }
   ],
   "source": [
    "EvaluateModel(naive_model, test_encoded_padded, [test_df['sender_labels_encoded'], test_df['receiver_labels_encoded']], naive_history)"
   ]
  },
  {
   "cell_type": "markdown",
   "metadata": {},
   "source": [
    "# Naive LSTM"
   ]
  },
  {
   "cell_type": "code",
   "execution_count": 28,
   "metadata": {},
   "outputs": [],
   "source": [
    "def create_naive_lstm_model(\n",
    "        sequence_length: int = MAX_SEQUENCE_LEN,\n",
    "        embedding_output: int = EMBEDDING_OUTPUT_SIZE,\n",
    "        vocab_size: int = VOCAB_SIZE,\n",
    "        lstm_size: int = LSTM_SIZE,\n",
    "        hidden_size = HIDDEN_LAYER_SIZE,\n",
    "        learning_rate: float = LEARNING_RATE,\n",
    "    ):\n",
    "\n",
    "    message_input = keras.layers.Input(shape=(sequence_length,), dtype=tf.int64, name='message_input')\n",
    "\n",
    "    naive_lstm_ouput = pipe(\n",
    "        message_input,\n",
    "        keras.layers.Embedding(vocab_size, embedding_output, input_length=sequence_length),\n",
    "        keras.layers.LSTM(lstm_size),\n",
    "        keras.layers.Dense(hidden_size),\n",
    "    )\n",
    "\n",
    "    sender_output = keras.layers.Dense(2, activation='softmax', name=\"sender_output\")(naive_lstm_ouput)\n",
    "    receiver_output = keras.layers.Dense(2, activation='softmax', name=\"receiver_output\")(naive_lstm_ouput)\n",
    "\n",
    "    model = keras.Model(\n",
    "        inputs=[message_input],\n",
    "        outputs=[sender_output, receiver_output]\n",
    "    )\n",
    "\n",
    "    model.compile(\n",
    "        loss='sparse_categorical_crossentropy',\n",
    "        optimizer=tf.keras.optimizers.Adam(learning_rate=learning_rate),\n",
    "        metrics=['accuracy']\n",
    "    )\n",
    "\n",
    "    return model"
   ]
  },
  {
   "cell_type": "code",
   "execution_count": 29,
   "metadata": {},
   "outputs": [
    {
     "name": "stdout",
     "output_type": "stream",
     "text": [
      "Model: \"model_1\"\n",
      "__________________________________________________________________________________________________\n",
      " Layer (type)                Output Shape                 Param #   Connected to                  \n",
      "==================================================================================================\n",
      " message_input (InputLayer)  [(None, 294)]                0         []                            \n",
      "                                                                                                  \n",
      " embedding_1 (Embedding)     (None, 294, 124)             620000    ['message_input[0][0]']       \n",
      "                                                                                                  \n",
      " lstm (LSTM)                 (None, 64)                   48384     ['embedding_1[0][0]']         \n",
      "                                                                                                  \n",
      " dense_1 (Dense)             (None, 64)                   4160      ['lstm[0][0]']                \n",
      "                                                                                                  \n",
      " sender_output (Dense)       (None, 2)                    130       ['dense_1[0][0]']             \n",
      "                                                                                                  \n",
      "__________________________________________________________________________________________________\n",
      " Layer (type)                Output Shape                 Param #   Connected to                  \n",
      "==================================================================================================\n",
      " message_input (InputLayer)  [(None, 294)]                0         []                            \n",
      "                                                                                                  \n",
      " embedding_1 (Embedding)     (None, 294, 124)             620000    ['message_input[0][0]']       \n",
      "                                                                                                  \n",
      " lstm (LSTM)                 (None, 64)                   48384     ['embedding_1[0][0]']         \n",
      "                                                                                                  \n",
      " dense_1 (Dense)             (None, 64)                   4160      ['lstm[0][0]']                \n",
      "                                                                                                  \n",
      " sender_output (Dense)       (None, 2)                    130       ['dense_1[0][0]']             \n",
      "                                                                                                  \n",
      " receiver_output (Dense)     (None, 2)                    130       ['dense_1[0][0]']             \n",
      "                                                                                                  \n",
      "==================================================================================================\n",
      "Total params: 672804 (2.57 MB)\n",
      "Trainable params: 672804 (2.57 MB)\n",
      "Non-trainable params: 0 (0.00 Byte)\n",
      "__________________________________________________________________________________________________\n"
     ]
    }
   ],
   "source": [
    "naive_lstm_model = create_naive_lstm_model()\n",
    "naive_lstm_model.summary()"
   ]
  },
  {
   "cell_type": "code",
   "execution_count": 30,
   "metadata": {},
   "outputs": [
    {
     "name": "stdout",
     "output_type": "stream",
     "text": [
      "Epoch 1/10\n",
      "376/376 [==============================] - 24s 58ms/step - loss: 0.4012 - sender_output_loss: 0.1989 - receiver_output_loss: 0.2022 - sender_output_accuracy: 0.9535 - receiver_output_accuracy: 0.9519 - val_loss: nan - val_sender_output_loss: 0.1637 - val_receiver_output_loss: nan - val_sender_output_accuracy: 0.9605 - val_receiver_output_accuracy: 0.8729\n",
      "Epoch 2/10\n",
      "376/376 [==============================] - 12s 33ms/step - loss: 0.3449 - sender_output_loss: 0.1651 - receiver_output_loss: 0.1798 - sender_output_accuracy: 0.9549 - receiver_output_accuracy: 0.9531 - val_loss: nan - val_sender_output_loss: 0.1777 - val_receiver_output_loss: nan - val_sender_output_accuracy: 0.9605 - val_receiver_output_accuracy: 0.8729\n",
      "Epoch 3/10\n",
      "376/376 [==============================] - 11s 30ms/step - loss: 0.2819 - sender_output_loss: 0.1314 - receiver_output_loss: 0.1505 - sender_output_accuracy: 0.9583 - receiver_output_accuracy: 0.9533 - val_loss: nan - val_sender_output_loss: 0.2013 - val_receiver_output_loss: nan - val_sender_output_accuracy: 0.9569 - val_receiver_output_accuracy: 0.8729\n",
      "Epoch 4/10\n",
      "376/376 [==============================] - 10s 28ms/step - loss: 0.2199 - sender_output_loss: 0.1003 - receiver_output_loss: 0.1196 - sender_output_accuracy: 0.9642 - receiver_output_accuracy: 0.9598 - val_loss: nan - val_sender_output_loss: 0.2304 - val_receiver_output_loss: nan - val_sender_output_accuracy: 0.9534 - val_receiver_output_accuracy: 0.8694\n",
      "Epoch 5/10\n",
      "376/376 [==============================] - 9s 25ms/step - loss: 0.1692 - sender_output_loss: 0.0749 - receiver_output_loss: 0.0943 - sender_output_accuracy: 0.9756 - receiver_output_accuracy: 0.9676 - val_loss: nan - val_sender_output_loss: 0.2793 - val_receiver_output_loss: nan - val_sender_output_accuracy: 0.9407 - val_receiver_output_accuracy: 0.8510\n",
      "Epoch 6/10\n",
      "376/376 [==============================] - 10s 27ms/step - loss: 0.1303 - sender_output_loss: 0.0561 - receiver_output_loss: 0.0742 - sender_output_accuracy: 0.9804 - receiver_output_accuracy: 0.9746 - val_loss: nan - val_sender_output_loss: 0.3218 - val_receiver_output_loss: nan - val_sender_output_accuracy: 0.9379 - val_receiver_output_accuracy: 0.8637\n",
      "Epoch 7/10\n",
      "376/376 [==============================] - 9s 24ms/step - loss: 0.1014 - sender_output_loss: 0.0453 - receiver_output_loss: 0.0562 - sender_output_accuracy: 0.9852 - receiver_output_accuracy: 0.9809 - val_loss: nan - val_sender_output_loss: 0.3552 - val_receiver_output_loss: nan - val_sender_output_accuracy: 0.9357 - val_receiver_output_accuracy: 0.8503\n",
      "Epoch 8/10\n",
      "376/376 [==============================] - 9s 24ms/step - loss: 0.0806 - sender_output_loss: 0.0342 - receiver_output_loss: 0.0464 - sender_output_accuracy: 0.9888 - receiver_output_accuracy: 0.9845 - val_loss: nan - val_sender_output_loss: 0.4422 - val_receiver_output_loss: nan - val_sender_output_accuracy: 0.9350 - val_receiver_output_accuracy: 0.8312\n",
      "Epoch 9/10\n",
      "376/376 [==============================] - 10s 26ms/step - loss: 0.0654 - sender_output_loss: 0.0284 - receiver_output_loss: 0.0369 - sender_output_accuracy: 0.9905 - receiver_output_accuracy: 0.9874 - val_loss: nan - val_sender_output_loss: 0.4747 - val_receiver_output_loss: nan - val_sender_output_accuracy: 0.9322 - val_receiver_output_accuracy: 0.8355\n",
      "Epoch 10/10\n",
      "376/376 [==============================] - 10s 26ms/step - loss: 0.0560 - sender_output_loss: 0.0245 - receiver_output_loss: 0.0315 - sender_output_accuracy: 0.9922 - receiver_output_accuracy: 0.9895 - val_loss: nan - val_sender_output_loss: 0.4857 - val_receiver_output_loss: nan - val_sender_output_accuracy: 0.9322 - val_receiver_output_accuracy: 0.8418\n"
     ]
    }
   ],
   "source": [
    "naive_lstm_history = naive_lstm_model.fit(\n",
    "    train_encoded_padded,\n",
    "    [train_df['sender_labels_encoded'], train_df['receiver_labels_encoded']],\n",
    "    validation_data=(validation_encoded_padded, [validation_df['sender_labels_encoded'], validation_df['receiver_labels_encoded']]),\n",
    "    epochs=10\n",
    ")"
   ]
  },
  {
   "cell_type": "code",
   "execution_count": 31,
   "metadata": {},
   "outputs": [
    {
     "name": "stdout",
     "output_type": "stream",
     "text": [
      "========== Model Accuracy ==========\n"
     ]
    },
    {
     "data": {
      "image/png": "[encoded data removed]",
      "text/plain": [
       "<Figure size 640x480 with 1 Axes>"
      ]
     },
     "metadata": {},
     "output_type": "display_data"
    },
    {
     "name": "stdout",
     "output_type": "stream",
     "text": [
      "========== Test Evaluation ==========\n",
      "78/78 - 1s - loss: 1.5916 - sender_output_loss: 0.9290 - receiver_output_loss: 0.6627 - sender_output_accuracy: 0.8958 - receiver_output_accuracy: 0.9067 - 935ms/epoch - 12ms/step\n",
      "\n",
      "========== Test Metrics ==========\n",
      "78/78 [==============================] - 1s 9ms/step\n",
      "---------- Sender Labels ----------\n",
      "              precision    recall  f1-score   support\n",
      "\n",
      "        True       0.92      0.97      0.94      2268\n",
      "       False       0.15      0.05      0.08       207\n",
      "\n",
      "    accuracy                           0.90      2475\n",
      "   macro avg       0.53      0.51      0.51      2475\n",
      "weighted avg       0.85      0.90      0.87      2475\n",
      "\n",
      "---------- Receiver Labels ----------\n",
      "              precision    recall  f1-score   support\n",
      "\n",
      "        True       0.93      0.97      0.95      2310\n",
      "       False       0.09      0.04      0.06       165\n",
      "\n",
      "    accuracy                           0.91      2475\n",
      "   macro avg       0.51      0.51      0.50      2475\n",
      "weighted avg       0.88      0.91      0.89      2475\n",
      "\n"
     ]
    }
   ],
   "source": [
    "EvaluateModel(naive_lstm_model, test_encoded_padded, [test_df['sender_labels_encoded'], test_df['receiver_labels_encoded']], naive_lstm_history)"
   ]
  },
  {
   "cell_type": "markdown",
   "metadata": {},
   "source": [
    "<hr/>\n",
    "\n",
    "# Context lstm"
   ]
  },
  {
   "cell_type": "code",
   "execution_count": 32,
   "metadata": {},
   "outputs": [],
   "source": [
    "def create_context_lstm_model(\n",
    "        sequence_length: int = MAX_SEQUENCE_LEN,\n",
    "        embedding_output: int = EMBEDDING_OUTPUT_SIZE,\n",
    "        vocab_size: int = VOCAB_SIZE,\n",
    "        lstm_size: int = LSTM_SIZE,\n",
    "        dropout: float = DROPOUT_RATE,\n",
    "        hidden_size = HIDDEN_LAYER_SIZE,\n",
    "        learning_rate: float = LEARNING_RATE,\n",
    "    ):\n",
    "\n",
    "    current_message_input = keras.layers.Input(shape=(sequence_length,), dtype=tf.int64, name='current_message_input')\n",
    "    previous_message_input = keras.layers.Input(shape=(sequence_length,), dtype=tf.int64, name='previous_message_input')\n",
    "\n",
    "    current_message_lstm = pipe(\n",
    "        current_message_input,\n",
    "        keras.layers.Embedding(vocab_size, embedding_output, input_length=sequence_length),\n",
    "        keras.layers.LSTM(lstm_size),\n",
    "        keras.layers.Dropout(dropout)\n",
    "    )\n",
    "\n",
    "    previous_message_lstm = pipe(\n",
    "        previous_message_input,\n",
    "        keras.layers.Embedding(vocab_size, embedding_output, input_length=sequence_length),\n",
    "        keras.layers.LSTM(lstm_size),\n",
    "        keras.layers.Dropout(dropout)\n",
    "    )\n",
    "\n",
    "    context_lstm_ouput = pipe(\n",
    "        [\n",
    "            current_message_lstm,\n",
    "            previous_message_lstm\n",
    "        ],\n",
    "        keras.layers.Concatenate(),\n",
    "        keras.layers.Dense(hidden_size)\n",
    "    )\n",
    "\n",
    "    sender_output = keras.layers.Dense(2, activation='softmax', name=\"sender_output\")(context_lstm_ouput)\n",
    "    receiver_output = keras.layers.Dense(2, activation='softmax', name=\"receiver_output\")(context_lstm_ouput)\n",
    "\n",
    "    context_lstm_model = keras.Model(\n",
    "        inputs=[current_message_input, previous_message_input],\n",
    "        outputs=[sender_output, receiver_output]\n",
    "    )\n",
    "\n",
    "    context_lstm_model.compile(\n",
    "        loss='sparse_categorical_crossentropy',\n",
    "        optimizer=tf.keras.optimizers.Adam(learning_rate=learning_rate),\n",
    "        metrics=['accuracy']\n",
    "    )\n",
    "\n",
    "    return context_lstm_model"
   ]
  },
  {
   "cell_type": "code",
   "execution_count": 33,
   "metadata": {},
   "outputs": [
    {
     "name": "stdout",
     "output_type": "stream",
     "text": [
      "Model: \"model_2\"\n",
      "__________________________________________________________________________________________________\n",
      " Layer (type)                Output Shape                 Param #   Connected to                  \n",
      "==================================================================================================\n",
      " current_message_input (Inp  [(None, 294)]                0         []                            \n",
      " utLayer)                                                                                         \n",
      "                                                                                                  \n",
      " previous_message_input (In  [(None, 294)]                0         []                            \n",
      " putLayer)                                                                                        \n",
      "                                                                                                  \n",
      " embedding_2 (Embedding)     (None, 294, 124)             620000    ['current_message_input[0][0]'\n",
      "                                                                    ]                             \n",
      "                                                                                                  \n",
      " embedding_3 (Embedding)     (None, 294, 124)             620000    ['previous_message_input[0][0]\n",
      "                                                                    ']                            \n",
      "                                                                                                  \n",
      " lstm_1 (LSTM)               (None, 64)                   48384     ['embedding_2[0][0]']         \n",
      "                                                                                                  \n",
      "__________________________________________________________________________________________________\n",
      " Layer (type)                Output Shape                 Param #   Connected to                  \n",
      "==================================================================================================\n",
      " current_message_input (Inp  [(None, 294)]                0         []                            \n",
      " utLayer)                                                                                         \n",
      "                                                                                                  \n",
      " previous_message_input (In  [(None, 294)]                0         []                            \n",
      " putLayer)                                                                                        \n",
      "                                                                                                  \n",
      " embedding_2 (Embedding)     (None, 294, 124)             620000    ['current_message_input[0][0]'\n",
      "                                                                    ]                             \n",
      "                                                                                                  \n",
      " embedding_3 (Embedding)     (None, 294, 124)             620000    ['previous_message_input[0][0]\n",
      "                                                                    ']                            \n",
      "                                                                                                  \n",
      " lstm_1 (LSTM)               (None, 64)                   48384     ['embedding_2[0][0]']         \n",
      "                                                                                                  \n",
      " lstm_2 (LSTM)               (None, 64)                   48384     ['embedding_3[0][0]']         \n",
      "                                                                                                  \n",
      " dropout (Dropout)           (None, 64)                   0         ['lstm_1[0][0]']              \n",
      "                                                                                                  \n",
      " dropout_1 (Dropout)         (None, 64)                   0         ['lstm_2[0][0]']              \n",
      "                                                                                                  \n",
      " concatenate (Concatenate)   (None, 128)                  0         ['dropout[0][0]',             \n",
      "                                                                     'dropout_1[0][0]']           \n",
      "                                                                                                  \n",
      " dense_2 (Dense)             (None, 64)                   8256      ['concatenate[0][0]']         \n",
      "                                                                                                  \n",
      " sender_output (Dense)       (None, 2)                    130       ['dense_2[0][0]']             \n",
      "                                                                                                  \n",
      " receiver_output (Dense)     (None, 2)                    130       ['dense_2[0][0]']             \n",
      "                                                                                                  \n",
      "==================================================================================================\n",
      "Total params: 1345284 (5.13 MB)\n",
      "Trainable params: 1345284 (5.13 MB)\n",
      "Non-trainable params: 0 (0.00 Byte)\n",
      "__________________________________________________________________________________________________\n"
     ]
    }
   ],
   "source": [
    "context_lstm_model = create_context_lstm_model()\n",
    "context_lstm_model.summary()"
   ]
  },
  {
   "cell_type": "code",
   "execution_count": 34,
   "metadata": {},
   "outputs": [
    {
     "name": "stdout",
     "output_type": "stream",
     "text": [
      "Epoch 1/10\n",
      "376/376 [==============================] - 38s 88ms/step - loss: 0.4074 - sender_output_loss: 0.1996 - receiver_output_loss: 0.2078 - sender_output_accuracy: 0.9528 - receiver_output_accuracy: 0.9522 - val_loss: nan - val_sender_output_loss: 0.1633 - val_receiver_output_loss: nan - val_sender_output_accuracy: 0.9605 - val_receiver_output_accuracy: 0.8729\n",
      "Epoch 2/10\n",
      "376/376 [==============================] - 20s 52ms/step - loss: 0.3188 - sender_output_loss: 0.1512 - receiver_output_loss: 0.1676 - sender_output_accuracy: 0.9558 - receiver_output_accuracy: 0.9529 - val_loss: nan - val_sender_output_loss: 0.1821 - val_receiver_output_loss: nan - val_sender_output_accuracy: 0.9605 - val_receiver_output_accuracy: 0.8729\n",
      "Epoch 3/10\n",
      "376/376 [==============================] - 19s 51ms/step - loss: 0.2131 - sender_output_loss: 0.0965 - receiver_output_loss: 0.1166 - sender_output_accuracy: 0.9656 - receiver_output_accuracy: 0.9598 - val_loss: nan - val_sender_output_loss: 0.2715 - val_receiver_output_loss: nan - val_sender_output_accuracy: 0.9534 - val_receiver_output_accuracy: 0.8672\n",
      "Epoch 4/10\n",
      "376/376 [==============================] - 19s 50ms/step - loss: 0.1258 - sender_output_loss: 0.0532 - receiver_output_loss: 0.0727 - sender_output_accuracy: 0.9802 - receiver_output_accuracy: 0.9738 - val_loss: nan - val_sender_output_loss: 0.3207 - val_receiver_output_loss: nan - val_sender_output_accuracy: 0.9513 - val_receiver_output_accuracy: 0.8623\n",
      "Epoch 5/10\n",
      "376/376 [==============================] - 16s 43ms/step - loss: 0.0712 - sender_output_loss: 0.0299 - receiver_output_loss: 0.0413 - sender_output_accuracy: 0.9889 - receiver_output_accuracy: 0.9845 - val_loss: nan - val_sender_output_loss: 0.4419 - val_receiver_output_loss: nan - val_sender_output_accuracy: 0.9499 - val_receiver_output_accuracy: 0.8595\n",
      "Epoch 6/10\n",
      "376/376 [==============================] - 17s 45ms/step - loss: 0.0408 - sender_output_loss: 0.0195 - receiver_output_loss: 0.0213 - sender_output_accuracy: 0.9932 - receiver_output_accuracy: 0.9933 - val_loss: nan - val_sender_output_loss: 0.5549 - val_receiver_output_loss: nan - val_sender_output_accuracy: 0.9477 - val_receiver_output_accuracy: 0.8566\n",
      "Epoch 7/10\n",
      "376/376 [==============================] - 17s 45ms/step - loss: 0.0287 - sender_output_loss: 0.0154 - receiver_output_loss: 0.0133 - sender_output_accuracy: 0.9945 - receiver_output_accuracy: 0.9949 - val_loss: nan - val_sender_output_loss: 0.5796 - val_receiver_output_loss: nan - val_sender_output_accuracy: 0.9421 - val_receiver_output_accuracy: 0.8468\n",
      "Epoch 8/10\n",
      "376/376 [==============================] - 17s 45ms/step - loss: 0.0181 - sender_output_loss: 0.0082 - receiver_output_loss: 0.0099 - sender_output_accuracy: 0.9978 - receiver_output_accuracy: 0.9965 - val_loss: nan - val_sender_output_loss: 0.7173 - val_receiver_output_loss: nan - val_sender_output_accuracy: 0.9287 - val_receiver_output_accuracy: 0.8460\n",
      "Epoch 9/10\n",
      "376/376 [==============================] - 16s 43ms/step - loss: 0.0097 - sender_output_loss: 0.0044 - receiver_output_loss: 0.0053 - sender_output_accuracy: 0.9985 - receiver_output_accuracy: 0.9980 - val_loss: nan - val_sender_output_loss: 0.8083 - val_receiver_output_loss: nan - val_sender_output_accuracy: 0.9308 - val_receiver_output_accuracy: 0.8220\n",
      "Epoch 10/10\n",
      "376/376 [==============================] - 17s 45ms/step - loss: 0.0191 - sender_output_loss: 0.0106 - receiver_output_loss: 0.0085 - sender_output_accuracy: 0.9961 - receiver_output_accuracy: 0.9970 - val_loss: nan - val_sender_output_loss: 0.7310 - val_receiver_output_loss: nan - val_sender_output_accuracy: 0.9343 - val_receiver_output_accuracy: 0.8453\n"
     ]
    }
   ],
   "source": [
    "context_lstm_history = context_lstm_model.fit(\n",
    "    [train_encoded_padded, train_prev_encoded_padded],\n",
    "    [train_df['sender_labels_encoded'], train_df['receiver_labels_encoded']], \n",
    "    validation_data=([validation_encoded_padded, validation_prev_encoded_padded], [validation_df['sender_labels_encoded'], validation_df['receiver_labels_encoded']]), \n",
    "    epochs=10\n",
    ")"
   ]
  },
  {
   "cell_type": "code",
   "execution_count": 35,
   "metadata": {},
   "outputs": [
    {
     "name": "stdout",
     "output_type": "stream",
     "text": [
      "========== Model Accuracy ==========\n"
     ]
    },
    {
     "data": {
      "image/png": "[encoded data removed]",
      "text/plain": [
       "<Figure size 640x480 with 1 Axes>"
      ]
     },
     "metadata": {},
     "output_type": "display_data"
    },
    {
     "name": "stdout",
     "output_type": "stream",
     "text": [
      "========== Test Evaluation ==========\n",
      "78/78 - 1s - loss: 2.3895 - sender_output_loss: 1.2362 - receiver_output_loss: 1.1533 - sender_output_accuracy: 0.8933 - receiver_output_accuracy: 0.9139 - 1s/epoch - 19ms/step\n",
      "\n",
      "========== Test Metrics ==========\n",
      "78/78 [==============================] - 2s 18ms/step\n",
      "---------- Sender Labels ----------\n",
      "              precision    recall  f1-score   support\n",
      "\n",
      "        True       0.92      0.97      0.94      2268\n",
      "       False       0.17      0.07      0.10       207\n",
      "\n",
      "    accuracy                           0.89      2475\n",
      "   macro avg       0.55      0.52      0.52      2475\n",
      "weighted avg       0.86      0.89      0.87      2475\n",
      "\n",
      "---------- Receiver Labels ----------\n",
      "              precision    recall  f1-score   support\n",
      "\n",
      "        True       0.94      0.97      0.95      2310\n",
      "       False       0.16      0.07      0.09       165\n",
      "\n",
      "    accuracy                           0.91      2475\n",
      "   macro avg       0.55      0.52      0.52      2475\n",
      "weighted avg       0.88      0.91      0.90      2475\n",
      "\n"
     ]
    }
   ],
   "source": [
    "EvaluateModel(context_lstm_model, [test_encoded_padded, test_prev_encoded_padded], [test_df['sender_labels_encoded'], test_df['receiver_labels_encoded']], context_lstm_history)"
   ]
  },
  {
   "cell_type": "markdown",
   "metadata": {},
   "source": [
    "# LSTM + Power"
   ]
  },
  {
   "cell_type": "code",
   "execution_count": 36,
   "metadata": {},
   "outputs": [],
   "source": [
    "def create_lstm_power_model(\n",
    "        sequence_length: int = MAX_SEQUENCE_LEN,\n",
    "        embedding_output: int = EMBEDDING_OUTPUT_SIZE,\n",
    "        vocab_size: int = VOCAB_SIZE,\n",
    "        lstm_size: int = LSTM_SIZE,\n",
    "        dropout: float = DROPOUT_RATE,\n",
    "        hidden_size = HIDDEN_LAYER_SIZE,\n",
    "        learning_rate: float = LEARNING_RATE,\n",
    "    ):\n",
    "\n",
    "    message_input = keras.layers.Input(shape=(sequence_length,), dtype=tf.int64, name='current_message_input')\n",
    "    power_diff_input = keras.layers.Input(shape=(1,), name='power_differential')\n",
    "\n",
    "    lstm_output = pipe(\n",
    "        message_input,\n",
    "        keras.layers.Embedding(vocab_size, embedding_output, input_length=sequence_length),\n",
    "        keras.layers.LSTM(lstm_size),\n",
    "        keras.layers.Dropout(dropout)\n",
    "    )\n",
    "\n",
    "    lstm_power_ouput = pipe(\n",
    "        [\n",
    "            lstm_output,\n",
    "            power_diff_input\n",
    "        ],\n",
    "        keras.layers.Concatenate(),\n",
    "        keras.layers.Dense(hidden_size),\n",
    "    )\n",
    "\n",
    "    sender_output = keras.layers.Dense(2, activation='softmax', name=\"sender_output\")(lstm_power_ouput)\n",
    "    receiver_output = keras.layers.Dense(2, activation='softmax', name=\"receiver_output\")(lstm_power_ouput)\n",
    "\n",
    "    lstm_power_model = keras.Model(\n",
    "        inputs=[message_input, power_diff_input],\n",
    "        outputs=[sender_output, receiver_output]\n",
    "    )\n",
    "\n",
    "    lstm_power_model.compile(\n",
    "        loss='sparse_categorical_crossentropy',\n",
    "        optimizer=tf.keras.optimizers.Adam(learning_rate=learning_rate),\n",
    "        metrics=['accuracy']\n",
    "    )\n",
    "\n",
    "    return lstm_power_model"
   ]
  },
  {
   "cell_type": "code",
   "execution_count": 37,
   "metadata": {},
   "outputs": [
    {
     "name": "stdout",
     "output_type": "stream",
     "text": [
      "Model: \"model_3\"\n",
      "__________________________________________________________________________________________________\n",
      " Layer (type)                Output Shape                 Param #   Connected to                  \n",
      "==================================================================================================\n",
      " current_message_input (Inp  [(None, 294)]                0         []                            \n",
      " utLayer)                                                                                         \n",
      "                                                                                                  \n",
      " embedding_4 (Embedding)     (None, 294, 124)             620000    ['current_message_input[0][0]'\n",
      "                                                                    ]                             \n",
      "                                                                                                  \n",
      " lstm_3 (LSTM)               (None, 64)                   48384     ['embedding_4[0][0]']         \n",
      "                                                                                                  \n",
      " dropout_2 (Dropout)         (None, 64)                   0         ['lstm_3[0][0]']              \n",
      "                                                                                                  \n",
      " power_differential (InputL  [(None, 1)]                  0         []                            \n",
      " ayer)                                                                                            \n",
      "__________________________________________________________________________________________________\n",
      " Layer (type)                Output Shape                 Param #   Connected to                  \n",
      "==================================================================================================\n",
      " current_message_input (Inp  [(None, 294)]                0         []                            \n",
      " utLayer)                                                                                         \n",
      "                                                                                                  \n",
      " embedding_4 (Embedding)     (None, 294, 124)             620000    ['current_message_input[0][0]'\n",
      "                                                                    ]                             \n",
      "                                                                                                  \n",
      " lstm_3 (LSTM)               (None, 64)                   48384     ['embedding_4[0][0]']         \n",
      "                                                                                                  \n",
      " dropout_2 (Dropout)         (None, 64)                   0         ['lstm_3[0][0]']              \n",
      "                                                                                                  \n",
      " power_differential (InputL  [(None, 1)]                  0         []                            \n",
      " ayer)                                                                                            \n",
      "                                                                                                  \n",
      " concatenate_1 (Concatenate  (None, 65)                   0         ['dropout_2[0][0]',           \n",
      " )                                                                   'power_differential[0][0]']  \n",
      "                                                                                                  \n",
      " dense_3 (Dense)             (None, 64)                   4224      ['concatenate_1[0][0]']       \n",
      "                                                                                                  \n",
      " sender_output (Dense)       (None, 2)                    130       ['dense_3[0][0]']             \n",
      "                                                                                                  \n",
      " receiver_output (Dense)     (None, 2)                    130       ['dense_3[0][0]']             \n",
      "                                                                                                  \n",
      "==================================================================================================\n",
      "Total params: 672868 (2.57 MB)\n",
      "Trainable params: 672868 (2.57 MB)\n",
      "Non-trainable params: 0 (0.00 Byte)\n",
      "__________________________________________________________________________________________________\n"
     ]
    }
   ],
   "source": [
    "lstm_power_model = create_lstm_power_model()\n",
    "lstm_power_model.summary()"
   ]
  },
  {
   "cell_type": "code",
   "execution_count": 38,
   "metadata": {},
   "outputs": [
    {
     "name": "stdout",
     "output_type": "stream",
     "text": [
      "Epoch 1/10\n",
      "376/376 [==============================] - 16s 36ms/step - loss: 0.1847 - sender_output_loss: 0.0807 - receiver_output_loss: 0.1040 - sender_output_accuracy: 0.9719 - receiver_output_accuracy: 0.9635 - val_loss: nan - val_sender_output_loss: 0.3052 - val_receiver_output_loss: nan - val_sender_output_accuracy: 0.9506 - val_receiver_output_accuracy: 0.8686\n",
      "Epoch 2/10\n",
      "376/376 [==============================] - 12s 31ms/step - loss: 0.1029 - sender_output_loss: 0.0439 - receiver_output_loss: 0.0590 - sender_output_accuracy: 0.9854 - receiver_output_accuracy: 0.9793 - val_loss: nan - val_sender_output_loss: 0.3630 - val_receiver_output_loss: nan - val_sender_output_accuracy: 0.9477 - val_receiver_output_accuracy: 0.8545\n",
      "Epoch 3/10\n",
      "376/376 [==============================] - 12s 31ms/step - loss: 0.0757 - sender_output_loss: 0.0322 - receiver_output_loss: 0.0435 - sender_output_accuracy: 0.9895 - receiver_output_accuracy: 0.9863 - val_loss: nan - val_sender_output_loss: 0.4937 - val_receiver_output_loss: nan - val_sender_output_accuracy: 0.9174 - val_receiver_output_accuracy: 0.8355\n",
      "Epoch 4/10\n",
      "376/376 [==============================] - 13s 35ms/step - loss: 0.0719 - sender_output_loss: 0.0326 - receiver_output_loss: 0.0392 - sender_output_accuracy: 0.9893 - receiver_output_accuracy: 0.9864 - val_loss: nan - val_sender_output_loss: 0.4047 - val_receiver_output_loss: nan - val_sender_output_accuracy: 0.9421 - val_receiver_output_accuracy: 0.8510\n",
      "Epoch 5/10\n",
      "376/376 [==============================] - 12s 32ms/step - loss: 0.0536 - sender_output_loss: 0.0240 - receiver_output_loss: 0.0296 - sender_output_accuracy: 0.9919 - receiver_output_accuracy: 0.9902 - val_loss: nan - val_sender_output_loss: 0.5242 - val_receiver_output_loss: nan - val_sender_output_accuracy: 0.9393 - val_receiver_output_accuracy: 0.8418\n",
      "Epoch 6/10\n",
      "376/376 [==============================] - 12s 31ms/step - loss: 0.0449 - sender_output_loss: 0.0199 - receiver_output_loss: 0.0250 - sender_output_accuracy: 0.9940 - receiver_output_accuracy: 0.9909 - val_loss: nan - val_sender_output_loss: 0.5697 - val_receiver_output_loss: nan - val_sender_output_accuracy: 0.9301 - val_receiver_output_accuracy: 0.8482\n",
      "Epoch 7/10\n",
      "376/376 [==============================] - 12s 31ms/step - loss: 0.0413 - sender_output_loss: 0.0199 - receiver_output_loss: 0.0214 - sender_output_accuracy: 0.9932 - receiver_output_accuracy: 0.9925 - val_loss: nan - val_sender_output_loss: 0.5684 - val_receiver_output_loss: nan - val_sender_output_accuracy: 0.9322 - val_receiver_output_accuracy: 0.8439\n",
      "Epoch 8/10\n",
      "376/376 [==============================] - 12s 32ms/step - loss: 0.0401 - sender_output_loss: 0.0189 - receiver_output_loss: 0.0212 - sender_output_accuracy: 0.9934 - receiver_output_accuracy: 0.9918 - val_loss: nan - val_sender_output_loss: 0.6430 - val_receiver_output_loss: nan - val_sender_output_accuracy: 0.9266 - val_receiver_output_accuracy: 0.8390\n",
      "Epoch 9/10\n",
      "376/376 [==============================] - 12s 31ms/step - loss: 0.0394 - sender_output_loss: 0.0164 - receiver_output_loss: 0.0230 - sender_output_accuracy: 0.9938 - receiver_output_accuracy: 0.9914 - val_loss: nan - val_sender_output_loss: 0.6659 - val_receiver_output_loss: nan - val_sender_output_accuracy: 0.9131 - val_receiver_output_accuracy: 0.8333\n",
      "Epoch 10/10\n",
      "376/376 [==============================] - 12s 31ms/step - loss: 0.0352 - sender_output_loss: 0.0148 - receiver_output_loss: 0.0204 - sender_output_accuracy: 0.9953 - receiver_output_accuracy: 0.9926 - val_loss: nan - val_sender_output_loss: 0.6451 - val_receiver_output_loss: nan - val_sender_output_accuracy: 0.9329 - val_receiver_output_accuracy: 0.8418\n"
     ]
    }
   ],
   "source": [
    "lstm_power_history = context_lstm_model.fit(\n",
    "    [train_encoded_padded, train_df['game_score_delta']],\n",
    "    [train_df['sender_labels_encoded'], train_df['receiver_labels_encoded']],\n",
    "    validation_data=([validation_encoded_padded, validation_df['game_score_delta']], [validation_df['sender_labels_encoded'], validation_df['receiver_labels_encoded']]), \n",
    "    epochs=10\n",
    ")"
   ]
  },
  {
   "cell_type": "code",
   "execution_count": 39,
   "metadata": {},
   "outputs": [
    {
     "name": "stdout",
     "output_type": "stream",
     "text": [
      "========== Model Accuracy ==========\n"
     ]
    },
    {
     "data": {
      "image/png": "[encoded data removed]",
      "text/plain": [
       "<Figure size 640x480 with 1 Axes>"
      ]
     },
     "metadata": {},
     "output_type": "display_data"
    },
    {
     "name": "stdout",
     "output_type": "stream",
     "text": [
      "========== Test Evaluation ==========\n",
      "78/78 - 2s - loss: 1.4621 - sender_output_loss: 0.7207 - receiver_output_loss: 0.7414 - sender_output_accuracy: 0.5507 - receiver_output_accuracy: 0.5204 - 2s/epoch - 30ms/step\n",
      "\n",
      "========== Test Metrics ==========\n",
      "78/78 [==============================] - 1s 8ms/step\n",
      "---------- Sender Labels ----------\n",
      "              precision    recall  f1-score   support\n",
      "\n",
      "        True       0.93      0.55      0.69      2268\n",
      "       False       0.10      0.53      0.16       207\n",
      "\n",
      "    accuracy                           0.55      2475\n",
      "   macro avg       0.51      0.54      0.43      2475\n",
      "weighted avg       0.86      0.55      0.65      2475\n",
      "\n",
      "---------- Receiver Labels ----------\n",
      "              precision    recall  f1-score   support\n",
      "\n",
      "        True       0.92      0.53      0.67      2310\n",
      "       False       0.05      0.38      0.09       165\n",
      "\n",
      "    accuracy                           0.52      2475\n",
      "   macro avg       0.49      0.45      0.38      2475\n",
      "weighted avg       0.86      0.52      0.64      2475\n",
      "\n"
     ]
    }
   ],
   "source": [
    "EvaluateModel(lstm_power_model, [test_encoded_padded, test_df['game_score_delta']], [test_df['sender_labels_encoded'], test_df['receiver_labels_encoded']], lstm_power_history)"
   ]
  },
  {
   "cell_type": "markdown",
   "metadata": {},
   "source": [
    "# Context LSTM + Power"
   ]
  },
  {
   "cell_type": "code",
   "execution_count": 40,
   "metadata": {},
   "outputs": [],
   "source": [
    "def create_context_lstm_power_model(\n",
    "        sequence_length: int = MAX_SEQUENCE_LEN,\n",
    "        embedding_output: int = EMBEDDING_OUTPUT_SIZE,\n",
    "        vocab_size: int = VOCAB_SIZE,\n",
    "        lstm_size: int = LSTM_SIZE,\n",
    "        dropout: float = DROPOUT_RATE,\n",
    "        hidden_size = HIDDEN_LAYER_SIZE,\n",
    "        learning_rate: float = LEARNING_RATE,\n",
    "    ):\n",
    "\n",
    "    current_message_input = keras.layers.Input(shape=(sequence_length,), dtype=tf.int64, name='current_message_input')\n",
    "    previous_message_input = keras.layers.Input(shape=(sequence_length,), dtype=tf.int64, name='previous_message_input')\n",
    "    power_diff_input = keras.layers.Input(shape=(1,), name='power_differential')\n",
    "\n",
    "    current_message_lstm = pipe(\n",
    "        current_message_input,\n",
    "        keras.layers.Embedding(vocab_size, embedding_output, input_length=sequence_length),\n",
    "        keras.layers.LSTM(lstm_size),\n",
    "        keras.layers.Dropout(dropout)\n",
    "    )\n",
    "\n",
    "    previous_message_lstm = pipe(\n",
    "        previous_message_input,\n",
    "        keras.layers.Embedding(vocab_size, embedding_output, input_length=sequence_length),\n",
    "        keras.layers.LSTM(lstm_size),\n",
    "        keras.layers.Dropout(dropout)\n",
    "    )\n",
    "\n",
    "    context_lstm_power_ouput = pipe(\n",
    "        [\n",
    "            current_message_lstm,\n",
    "            previous_message_lstm,\n",
    "            power_diff_input\n",
    "        ],\n",
    "        keras.layers.Concatenate(),\n",
    "        keras.layers.Dense(hidden_size)\n",
    "    )\n",
    "\n",
    "    sender_output = keras.layers.Dense(2, activation='softmax', name=\"sender_output\")(context_lstm_power_ouput)\n",
    "    receiver_output = keras.layers.Dense(2, activation='softmax', name=\"receiver_output\")(context_lstm_power_ouput)\n",
    "\n",
    "    context_lstm_power_model = keras.Model(\n",
    "        inputs=[current_message_input, previous_message_input, power_diff_input],\n",
    "        outputs=[sender_output, receiver_output]\n",
    "    )\n",
    "\n",
    "    context_lstm_power_model.compile(\n",
    "        loss='sparse_categorical_crossentropy',\n",
    "        optimizer=tf.keras.optimizers.Adam(learning_rate=learning_rate),\n",
    "        metrics=['accuracy']\n",
    "    )\n",
    "\n",
    "    return context_lstm_power_model"
   ]
  },
  {
   "cell_type": "code",
   "execution_count": 41,
   "metadata": {},
   "outputs": [
    {
     "name": "stdout",
     "output_type": "stream",
     "text": [
      "Model: \"model_4\"\n",
      "__________________________________________________________________________________________________\n",
      " Layer (type)                Output Shape                 Param #   Connected to                  \n",
      "==================================================================================================\n",
      " current_message_input (Inp  [(None, 294)]                0         []                            \n",
      " utLayer)                                                                                         \n",
      "                                                                                                  \n",
      " previous_message_input (In  [(None, 294)]                0         []                            \n",
      " putLayer)                                                                                        \n",
      "                                                                                                  \n",
      " embedding_5 (Embedding)     (None, 294, 124)             620000    ['current_message_input[0][0]'\n",
      "                                                                    ]                             \n",
      "                                                                                                  \n",
      " embedding_6 (Embedding)     (None, 294, 124)             620000    ['previous_message_input[0][0]\n",
      "                                                                    ']                            \n",
      "                                                                                                  \n",
      " lstm_4 (LSTM)               (None, 64)                   48384     ['embedding_5[0][0]']         \n",
      "                                                                                                  \n",
      " lstm_5 (LSTM)               (None, 64)                   48384     ['embedding_6[0][0]']         \n",
      "                                                                                                  \n",
      "__________________________________________________________________________________________________\n",
      " Layer (type)                Output Shape                 Param #   Connected to                  \n",
      "==================================================================================================\n",
      " current_message_input (Inp  [(None, 294)]                0         []                            \n",
      " utLayer)                                                                                         \n",
      "                                                                                                  \n",
      " previous_message_input (In  [(None, 294)]                0         []                            \n",
      " putLayer)                                                                                        \n",
      "                                                                                                  \n",
      " embedding_5 (Embedding)     (None, 294, 124)             620000    ['current_message_input[0][0]'\n",
      "                                                                    ]                             \n",
      "                                                                                                  \n",
      " embedding_6 (Embedding)     (None, 294, 124)             620000    ['previous_message_input[0][0]\n",
      "                                                                    ']                            \n",
      "                                                                                                  \n",
      " lstm_4 (LSTM)               (None, 64)                   48384     ['embedding_5[0][0]']         \n",
      "                                                                                                  \n",
      " lstm_5 (LSTM)               (None, 64)                   48384     ['embedding_6[0][0]']         \n",
      "                                                                                                  \n",
      " dropout_3 (Dropout)         (None, 64)                   0         ['lstm_4[0][0]']              \n",
      "                                                                                                  \n",
      " dropout_4 (Dropout)         (None, 64)                   0         ['lstm_5[0][0]']              \n",
      "                                                                                                  \n",
      " power_differential (InputL  [(None, 1)]                  0         []                            \n",
      " ayer)                                                                                            \n",
      "                                                                                                  \n",
      " concatenate_2 (Concatenate  (None, 129)                  0         ['dropout_3[0][0]',           \n",
      " )                                                                   'dropout_4[0][0]',           \n",
      "                                                                     'power_differential[0][0]']  \n",
      "                                                                                                  \n",
      " dense_4 (Dense)             (None, 64)                   8320      ['concatenate_2[0][0]']       \n",
      "                                                                                                  \n",
      " sender_output (Dense)       (None, 2)                    130       ['dense_4[0][0]']             \n",
      "                                                                                                  \n",
      " receiver_output (Dense)     (None, 2)                    130       ['dense_4[0][0]']             \n",
      "                                                                                                  \n",
      "==================================================================================================\n",
      "Total params: 1345348 (5.13 MB)\n",
      "Trainable params: 1345348 (5.13 MB)\n",
      "Non-trainable params: 0 (0.00 Byte)\n",
      "__________________________________________________________________________________________________\n"
     ]
    }
   ],
   "source": [
    "context_lstm_power_model = create_context_lstm_power_model()\n",
    "context_lstm_power_model.summary()"
   ]
  },
  {
   "cell_type": "code",
   "execution_count": 42,
   "metadata": {},
   "outputs": [
    {
     "name": "stdout",
     "output_type": "stream",
     "text": [
      "Epoch 1/10\n",
      "376/376 [==============================] - 36s 85ms/step - loss: 0.3929 - sender_output_loss: 0.1887 - receiver_output_loss: 0.2041 - sender_output_accuracy: 0.9518 - receiver_output_accuracy: 0.9484 - val_loss: nan - val_sender_output_loss: 0.1656 - val_receiver_output_loss: nan - val_sender_output_accuracy: 0.9605 - val_receiver_output_accuracy: 0.8729\n",
      "Epoch 2/10\n",
      "376/376 [==============================] - 20s 53ms/step - loss: 0.3135 - sender_output_loss: 0.1480 - receiver_output_loss: 0.1655 - sender_output_accuracy: 0.9557 - receiver_output_accuracy: 0.9525 - val_loss: nan - val_sender_output_loss: 0.2028 - val_receiver_output_loss: nan - val_sender_output_accuracy: 0.9555 - val_receiver_output_accuracy: 0.8715\n",
      "Epoch 3/10\n",
      "376/376 [==============================] - 19s 51ms/step - loss: 0.2151 - sender_output_loss: 0.0959 - receiver_output_loss: 0.1192 - sender_output_accuracy: 0.9657 - receiver_output_accuracy: 0.9571 - val_loss: nan - val_sender_output_loss: 0.2524 - val_receiver_output_loss: nan - val_sender_output_accuracy: 0.9597 - val_receiver_output_accuracy: 0.8630\n",
      "Epoch 4/10\n",
      "376/376 [==============================] - 17s 46ms/step - loss: 0.1286 - sender_output_loss: 0.0550 - receiver_output_loss: 0.0736 - sender_output_accuracy: 0.9811 - receiver_output_accuracy: 0.9731 - val_loss: nan - val_sender_output_loss: 0.3542 - val_receiver_output_loss: nan - val_sender_output_accuracy: 0.9371 - val_receiver_output_accuracy: 0.8545\n",
      "Epoch 5/10\n",
      "376/376 [==============================] - 18s 47ms/step - loss: 0.0720 - sender_output_loss: 0.0291 - receiver_output_loss: 0.0429 - sender_output_accuracy: 0.9904 - receiver_output_accuracy: 0.9849 - val_loss: nan - val_sender_output_loss: 0.4495 - val_receiver_output_loss: nan - val_sender_output_accuracy: 0.9470 - val_receiver_output_accuracy: 0.8489\n",
      "Epoch 6/10\n",
      "376/376 [==============================] - 17s 45ms/step - loss: 0.0401 - sender_output_loss: 0.0153 - receiver_output_loss: 0.0248 - sender_output_accuracy: 0.9953 - receiver_output_accuracy: 0.9916 - val_loss: nan - val_sender_output_loss: 0.5770 - val_receiver_output_loss: nan - val_sender_output_accuracy: 0.9364 - val_receiver_output_accuracy: 0.8270\n",
      "Epoch 7/10\n",
      "376/376 [==============================] - 16s 44ms/step - loss: 0.0249 - sender_output_loss: 0.0108 - receiver_output_loss: 0.0141 - sender_output_accuracy: 0.9962 - receiver_output_accuracy: 0.9951 - val_loss: nan - val_sender_output_loss: 0.6295 - val_receiver_output_loss: nan - val_sender_output_accuracy: 0.9484 - val_receiver_output_accuracy: 0.8517\n",
      "Epoch 8/10\n",
      "376/376 [==============================] - 16s 44ms/step - loss: 0.0271 - sender_output_loss: 0.0123 - receiver_output_loss: 0.0148 - sender_output_accuracy: 0.9953 - receiver_output_accuracy: 0.9948 - val_loss: nan - val_sender_output_loss: 0.6737 - val_receiver_output_loss: nan - val_sender_output_accuracy: 0.9322 - val_receiver_output_accuracy: 0.8404\n",
      "Epoch 9/10\n",
      "376/376 [==============================] - 16s 42ms/step - loss: 0.0143 - sender_output_loss: 0.0058 - receiver_output_loss: 0.0084 - sender_output_accuracy: 0.9980 - receiver_output_accuracy: 0.9970 - val_loss: nan - val_sender_output_loss: 0.8326 - val_receiver_output_loss: nan - val_sender_output_accuracy: 0.9174 - val_receiver_output_accuracy: 0.8347\n",
      "Epoch 10/10\n",
      "376/376 [==============================] - 17s 45ms/step - loss: 0.0126 - sender_output_loss: 0.0059 - receiver_output_loss: 0.0067 - sender_output_accuracy: 0.9979 - receiver_output_accuracy: 0.9978 - val_loss: nan - val_sender_output_loss: 0.8828 - val_receiver_output_loss: nan - val_sender_output_accuracy: 0.9364 - val_receiver_output_accuracy: 0.8347\n"
     ]
    }
   ],
   "source": [
    "context_lstm_power_history = context_lstm_power_model.fit(\n",
    "    [train_encoded_padded, train_prev_encoded_padded, train_df['game_score_delta']],\n",
    "    [train_df['sender_labels_encoded'], train_df['receiver_labels_encoded']],\n",
    "    validation_data=([validation_encoded_padded, validation_prev_encoded_padded, validation_df['game_score_delta']], [validation_df['sender_labels_encoded'], validation_df['receiver_labels_encoded']]), \n",
    "    epochs=10\n",
    ")"
   ]
  },
  {
   "cell_type": "code",
   "execution_count": 43,
   "metadata": {},
   "outputs": [
    {
     "name": "stdout",
     "output_type": "stream",
     "text": [
      "========== Model Accuracy ==========\n"
     ]
    },
    {
     "data": {
      "image/png": "[encoded data removed]",
      "text/plain": [
       "<Figure size 640x480 with 1 Axes>"
      ]
     },
     "metadata": {},
     "output_type": "display_data"
    },
    {
     "name": "stdout",
     "output_type": "stream",
     "text": [
      "========== Test Evaluation ==========\n",
      "78/78 - 1s - loss: 2.7562 - sender_output_loss: 1.5392 - receiver_output_loss: 1.2170 - sender_output_accuracy: 0.9022 - receiver_output_accuracy: 0.9006 - 1s/epoch - 19ms/step\n",
      "\n",
      "========== Test Metrics ==========\n",
      "78/78 [==============================] - 2s 19ms/step\n",
      "---------- Sender Labels ----------\n",
      "              precision    recall  f1-score   support\n",
      "\n",
      "        True       0.92      0.98      0.95      2268\n",
      "       False       0.21      0.06      0.10       207\n",
      "\n",
      "    accuracy                           0.90      2475\n",
      "   macro avg       0.57      0.52      0.52      2475\n",
      "weighted avg       0.86      0.90      0.88      2475\n",
      "\n",
      "---------- Receiver Labels ----------\n",
      "              precision    recall  f1-score   support\n",
      "\n",
      "        True       0.94      0.96      0.95      2310\n",
      "       False       0.11      0.07      0.08       165\n",
      "\n",
      "    accuracy                           0.90      2475\n",
      "   macro avg       0.52      0.51      0.51      2475\n",
      "weighted avg       0.88      0.90      0.89      2475\n",
      "\n"
     ]
    }
   ],
   "source": [
    "EvaluateModel(context_lstm_power_model, [test_encoded_padded, test_prev_encoded_padded, test_df['game_score_delta']], [test_df['sender_labels_encoded'], test_df['receiver_labels_encoded']], context_lstm_power_history)"
   ]
  },
  {
   "cell_type": "markdown",
   "metadata": {},
   "source": [
    "<hr/>\n",
    "\n",
    "# Context LSTM Prediction Analysis"
   ]
  },
  {
   "cell_type": "code",
   "execution_count": 45,
   "metadata": {},
   "outputs": [
    {
     "name": "stdout",
     "output_type": "stream",
     "text": [
      "78/78 [==============================] - 2s 24ms/step\n"
     ]
    },
    {
     "data": {
      "text/plain": [
       "array([0, 0, 0, ..., 0, 0, 0])"
      ]
     },
     "metadata": {},
     "output_type": "display_data"
    },
    {
     "data": {
      "text/plain": [
       "array([1, 0, 0, ..., 0, 0, 0])"
      ]
     },
     "metadata": {},
     "output_type": "display_data"
    }
   ],
   "source": [
    "pred = context_lstm_model.predict([test_encoded_padded, test_prev_encoded_padded])\n",
    "sender_pred = np.argmax(pred[0], axis=1)\n",
    "receiver_pred = np.argmax(pred[1], axis=1)\n",
    "\n",
    "display(sender_pred)\n",
    "display(receiver_pred)"
   ]
  },
  {
   "cell_type": "markdown",
   "metadata": {},
   "source": [
    "## Sender Predictions"
   ]
  },
  {
   "cell_type": "code",
   "execution_count": 109,
   "metadata": {},
   "outputs": [
    {
     "data": {
      "text/html": [
       "<div>\n",
       "<style scoped>\n",
       "    .dataframe tbody tr th:only-of-type {\n",
       "        vertical-align: middle;\n",
       "    }\n",
       "\n",
       "    .dataframe tbody tr th {\n",
       "        vertical-align: top;\n",
       "    }\n",
       "\n",
       "    .dataframe thead th {\n",
       "        text-align: right;\n",
       "    }\n",
       "</style>\n",
       "<table border=\"1\" class=\"dataframe\">\n",
       "  <thead>\n",
       "    <tr style=\"text-align: right;\">\n",
       "      <th></th>\n",
       "      <th>prediction</th>\n",
       "      <th>target</th>\n",
       "      <th>message</th>\n",
       "      <th>context</th>\n",
       "    </tr>\n",
       "  </thead>\n",
       "  <tbody>\n",
       "    <tr>\n",
       "      <th>0</th>\n",
       "      <td>True</td>\n",
       "      <td>True</td>\n",
       "      <td>Hi Italy! Just opening up communication, and I...</td>\n",
       "      <td></td>\n",
       "    </tr>\n",
       "    <tr>\n",
       "      <th>1</th>\n",
       "      <td>False</td>\n",
       "      <td>False</td>\n",
       "      <td>I don't see why you need a dot</td>\n",
       "      <td>Alright I'll think about the move set and get ...</td>\n",
       "    </tr>\n",
       "    <tr>\n",
       "      <th>2</th>\n",
       "      <td>True</td>\n",
       "      <td>False</td>\n",
       "      <td>I'd personally rather you didn't, because a pl...</td>\n",
       "      <td>Bongiorno!  To crush my enemies, see them driv...</td>\n",
       "    </tr>\n",
       "    <tr>\n",
       "      <th>3</th>\n",
       "      <td>False</td>\n",
       "      <td>True</td>\n",
       "      <td>Hello Italy, just wanted to thank you for your...</td>\n",
       "      <td></td>\n",
       "    </tr>\n",
       "  </tbody>\n",
       "</table>\n",
       "</div>"
      ],
      "text/plain": [
       "  prediction  target                                            message  \\\n",
       "0       True    True  Hi Italy! Just opening up communication, and I...   \n",
       "1      False   False                     I don't see why you need a dot   \n",
       "2       True   False  I'd personally rather you didn't, because a pl...   \n",
       "3      False    True  Hello Italy, just wanted to thank you for your...   \n",
       "\n",
       "                                             context  \n",
       "0                                                     \n",
       "1  Alright I'll think about the move set and get ...  \n",
       "2  Bongiorno!  To crush my enemies, see them driv...  \n",
       "3                                                     "
      ]
     },
     "execution_count": 109,
     "metadata": {},
     "output_type": "execute_result"
    }
   ],
   "source": [
    "sender_table = PredictionGridPeek(sender_pred, test_df, CLASS_LABELS, \"sender\")\n",
    "sender_table"
   ]
  },
  {
   "cell_type": "code",
   "execution_count": 113,
   "metadata": {},
   "outputs": [
    {
     "data": {
      "text/plain": [
       "'Hi Italy! Just opening up communication, and I want to know what some of your initial thoughts on the game are and if/how we can work together'"
      ]
     },
     "metadata": {},
     "output_type": "display_data"
    },
    {
     "data": {
      "text/plain": [
       "\"I don't see why you need a dot\""
      ]
     },
     "metadata": {},
     "output_type": "display_data"
    },
    {
     "data": {
      "text/plain": [
       "\"I'd personally rather you didn't, because a play around Munich is also a play around Trieste and Vienna. I've heard that there's some rancor over in the West and you might be able to profit from a mobbed France if you went that way.\""
      ]
     },
     "metadata": {},
     "output_type": "display_data"
    },
    {
     "data": {
      "text/plain": [
       "'Hello Italy, just wanted to thank you for your gift to the culinary world and wish you a good game!'"
      ]
     },
     "metadata": {},
     "output_type": "display_data"
    }
   ],
   "source": [
    "sender_table[\"message\"].map(display);"
   ]
  },
  {
   "cell_type": "code",
   "execution_count": 114,
   "metadata": {},
   "outputs": [
    {
     "data": {
      "text/plain": [
       "''"
      ]
     },
     "metadata": {},
     "output_type": "display_data"
    },
    {
     "data": {
      "text/plain": [
       "\"Alright I'll think about the move set and get back to you in the morning\""
      ]
     },
     "metadata": {},
     "output_type": "display_data"
    },
    {
     "data": {
      "text/plain": [
       "'Bongiorno!  To crush my enemies, see them driven before me, and hear the lamentations of their women!  I mean, umm, not really sure yet.  Pondering whether or not to make an early play around Munich'"
      ]
     },
     "metadata": {},
     "output_type": "display_data"
    },
    {
     "data": {
      "text/plain": [
       "''"
      ]
     },
     "metadata": {},
     "output_type": "display_data"
    }
   ],
   "source": [
    "sender_table[\"context\"].map(display);"
   ]
  },
  {
   "cell_type": "markdown",
   "metadata": {},
   "source": [
    "## Receiver Predictions"
   ]
  },
  {
   "cell_type": "code",
   "execution_count": 115,
   "metadata": {},
   "outputs": [
    {
     "data": {
      "text/html": [
       "<div>\n",
       "<style scoped>\n",
       "    .dataframe tbody tr th:only-of-type {\n",
       "        vertical-align: middle;\n",
       "    }\n",
       "\n",
       "    .dataframe tbody tr th {\n",
       "        vertical-align: top;\n",
       "    }\n",
       "\n",
       "    .dataframe thead th {\n",
       "        text-align: right;\n",
       "    }\n",
       "</style>\n",
       "<table border=\"1\" class=\"dataframe\">\n",
       "  <thead>\n",
       "    <tr style=\"text-align: right;\">\n",
       "      <th></th>\n",
       "      <th>prediction</th>\n",
       "      <th>target</th>\n",
       "      <th>message</th>\n",
       "      <th>context</th>\n",
       "    </tr>\n",
       "  </thead>\n",
       "  <tbody>\n",
       "    <tr>\n",
       "      <th>0</th>\n",
       "      <td>True</td>\n",
       "      <td>True</td>\n",
       "      <td>Well....that's a great question, and a lot of ...</td>\n",
       "      <td>Hi Italy! Just opening up communication, and I...</td>\n",
       "    </tr>\n",
       "    <tr>\n",
       "      <th>1</th>\n",
       "      <td>False</td>\n",
       "      <td>False</td>\n",
       "      <td>I think we should leave the Black Sea as a DMZ...</td>\n",
       "      <td>Hi Turkey! I would love to have a good relatio...</td>\n",
       "    </tr>\n",
       "    <tr>\n",
       "      <th>2</th>\n",
       "      <td>False</td>\n",
       "      <td>True</td>\n",
       "      <td>Hi Italy! Just opening up communication, and I...</td>\n",
       "      <td></td>\n",
       "    </tr>\n",
       "    <tr>\n",
       "      <th>3</th>\n",
       "      <td>True</td>\n",
       "      <td>False</td>\n",
       "      <td>Well, if you want to attack France in the Medi...</td>\n",
       "      <td>Well....that's a great question, and a lot of ...</td>\n",
       "    </tr>\n",
       "  </tbody>\n",
       "</table>\n",
       "</div>"
      ],
      "text/plain": [
       "  prediction  target                                            message  \\\n",
       "0       True    True  Well....that's a great question, and a lot of ...   \n",
       "1      False   False  I think we should leave the Black Sea as a DMZ...   \n",
       "2      False    True  Hi Italy! Just opening up communication, and I...   \n",
       "3       True   False  Well, if you want to attack France in the Medi...   \n",
       "\n",
       "                                             context  \n",
       "0  Hi Italy! Just opening up communication, and I...  \n",
       "1  Hi Turkey! I would love to have a good relatio...  \n",
       "2                                                     \n",
       "3  Well....that's a great question, and a lot of ...  "
      ]
     },
     "execution_count": 115,
     "metadata": {},
     "output_type": "execute_result"
    }
   ],
   "source": [
    "receiver_table = PredictionGridPeek(receiver_pred, test_df, CLASS_LABELS, \"receiver\")\n",
    "receiver_table"
   ]
  },
  {
   "cell_type": "code",
   "execution_count": 116,
   "metadata": {},
   "outputs": [
    {
     "data": {
      "text/plain": [
       "\"Well....that's a great question, and a lot of it comes down to how free I'll be left to play in the West, no?\""
      ]
     },
     "metadata": {},
     "output_type": "display_data"
    },
    {
     "data": {
      "text/plain": [
       "\"I think we should leave the Black Sea as a DMZ, as I would like to 100% ensure I get Rum and I'm worried about Austria taking it. So if we can agree to leave it as a DMZ I can move my fleet to rum\""
      ]
     },
     "metadata": {},
     "output_type": "display_data"
    },
    {
     "data": {
      "text/plain": [
       "'Hi Italy! Just opening up communication, and I want to know what some of your initial thoughts on the game are and if/how we can work together'"
      ]
     },
     "metadata": {},
     "output_type": "display_data"
    },
    {
     "data": {
      "text/plain": [
       "'Well, if you want to attack France in the Mediterranean while I attack through Burgundy you can have Marseille and Iberia while I take Brest and Paris, then with France out of the way you could focus on Turkey or Austria. Sound fair?'"
      ]
     },
     "metadata": {},
     "output_type": "display_data"
    }
   ],
   "source": [
    "receiver_table[\"message\"].map(display);"
   ]
  },
  {
   "cell_type": "code",
   "execution_count": 117,
   "metadata": {},
   "outputs": [
    {
     "data": {
      "text/plain": [
       "'Hi Italy! Just opening up communication, and I want to know what some of your initial thoughts on the game are and if/how we can work together'"
      ]
     },
     "metadata": {},
     "output_type": "display_data"
    },
    {
     "data": {
      "text/plain": [
       "'Hi Turkey! I would love to have a good relationship between our two great countries! Are you up for blitzing Austria? Looking forwards to a great game with you! \\n-Russia'"
      ]
     },
     "metadata": {},
     "output_type": "display_data"
    },
    {
     "data": {
      "text/plain": [
       "''"
      ]
     },
     "metadata": {},
     "output_type": "display_data"
    },
    {
     "data": {
      "text/plain": [
       "\"Well....that's a great question, and a lot of it comes down to how free I'll be left to play in the West, no?\""
      ]
     },
     "metadata": {},
     "output_type": "display_data"
    }
   ],
   "source": [
    "receiver_table[\"context\"].map(display);"
   ]
  }
 ],
 "metadata": {
  "kernelspec": {
   "display_name": "Python 3",
   "language": "python",
   "name": "python3"
  },
  "language_info": {
   "codemirror_mode": {
    "name": "ipython",
    "version": 3
   },
   "file_extension": ".py",
   "mimetype": "text/x-python",
   "name": "python",
   "nbconvert_exporter": "python",
   "pygments_lexer": "ipython3",
   "version": "3.11.0rc1"
  }
 },
 "nbformat": 4,
 "nbformat_minor": 2
}
