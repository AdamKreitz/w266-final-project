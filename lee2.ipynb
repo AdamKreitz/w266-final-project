{
 "cells": [
  {
   "cell_type": "markdown",
   "metadata": {},
   "source": [
    "<hr/>\n",
    "\n",
    "# imports"
   ]
  },
  {
   "cell_type": "code",
   "execution_count": 2,
   "metadata": {},
   "outputs": [],
   "source": [
    "import os\n",
    "os.environ['TF_CPP_MIN_LOG_LEVEL'] = '3' # mute tf warnings\n",
    "\n",
    "import pandas as pd\n",
    "import numpy as np\n",
    "import matplotlib.pyplot as plt\n",
    "import json\n",
    "import tensorflow as tf\n",
    "from tensorflow import keras\n",
    "from transformers import BertTokenizer, TFBertModel\n",
    "import math\n",
    "import sklearn"
   ]
  },
  {
   "cell_type": "code",
   "execution_count": 3,
   "metadata": {},
   "outputs": [
    {
     "name": "stdout",
     "output_type": "stream",
     "text": [
      "Num GPUs Available:  1\n"
     ]
    }
   ],
   "source": [
    "print(\"Num GPUs Available: \", len(tf.config.list_physical_devices('GPU')))"
   ]
  },
  {
   "cell_type": "markdown",
   "metadata": {},
   "source": [
    "# Definitions"
   ]
  },
  {
   "cell_type": "code",
   "execution_count": 4,
   "metadata": {},
   "outputs": [],
   "source": [
    "def pipe(*funcs):\n",
    "    \"\"\"\n",
    "    Works similar to the semantics of a `pipe` in other programming languages.\n",
    "    Intended to make nested functions readable and easier to manipulate. It \n",
    "    will take the first item in the list and feed it as input to the next\n",
    "    function in the list, then it takes that output and feeds it as input to \n",
    "    the next function in the list, and so on until it reaches the last\n",
    "    function in the list and returns its output.\n",
    "\n",
    "    Example:\n",
    "        instead of this:\n",
    "            ```py\n",
    "            input_layer = Input(...)\n",
    "            embedding_layer = Embedding(...)(input_layer)\n",
    "            lstm_layer = LSTM(...)(embedding_layer)\n",
    "            hidden_layer = Dense(...)(lstm_layer)\n",
    "            output_layer = Dense(...)(hidden_layer)\n",
    "            ```\n",
    "        you can do this:\n",
    "            ```py\n",
    "            lstm_ouput = pipe(\n",
    "                Input(...),\n",
    "                Embedding(...),\n",
    "                LSTM(...),\n",
    "                Dense(...),\n",
    "                Dense(...)\n",
    "            )\n",
    "            ```\n",
    "    \"\"\"\n",
    "    out = funcs[0]\n",
    "    for func in funcs[1:]:\n",
    "        out = func(out)\n",
    "    return out"
   ]
  },
  {
   "cell_type": "code",
   "execution_count": 5,
   "metadata": {},
   "outputs": [],
   "source": [
    "def determine_name(row) -> str:\n",
    "    \"\"\"\n",
    "    Auxilary function used to determine the label for each given row.\n",
    "    \"\"\"\n",
    "    if row['sender_labels'] and row['receiver_labels']:\n",
    "        return 'straightforward'\n",
    "    elif not row['sender_labels'] and row['receiver_labels']:\n",
    "        return 'deceive'\n",
    "    elif row['sender_labels'] and not row['receiver_labels']:\n",
    "        return 'cassandra'\n",
    "    elif not row['sender_labels'] and not row['receiver_labels']:\n",
    "        return 'caught'\n",
    "    else:\n",
    "        return None"
   ]
  },
  {
   "cell_type": "code",
   "execution_count": 6,
   "metadata": {},
   "outputs": [],
   "source": [
    "def parse_jsonl(path: str) -> pd.DataFrame:\n",
    "    \"\"\"\n",
    "    Load the given jsonl file and parse each conversation into a readable pandas\n",
    "    data frame, where each row is a message. Additional data that is used later\n",
    "    is also added to the created dataframe for consistency accross all loaded\n",
    "    data.\n",
    "\n",
    "    Args:\n",
    "        path: str\n",
    "            the path to the jsonl file to load and parse\n",
    "    \n",
    "    Returns: pd.DataFrame\n",
    "        A parsed data frame where each row is a message.\n",
    "    \"\"\"\n",
    "    data = {}\n",
    "    with open(path, 'r') as f:\n",
    "        for (i, line) in enumerate(f):\n",
    "            line = json.loads(line)\n",
    "            line[\"conversation_id\"] = [i] * len(line[\"messages\"])\n",
    "            line['previous_message'] = ([\"\"] if len(line['messages']) > 0 else []) + line[\"messages\"][:-1]\n",
    "            for k in line.keys():\n",
    "                if k == \"players\":\n",
    "                    continue\n",
    "                if k == \"game_id\":\n",
    "                    line[k] = [line[k]] * len(line[\"messages\"])\n",
    "                data[k] = data.get(k, []) + line[k]\n",
    "    data = pd.DataFrame(data)\n",
    "    data['label'] = data.apply(determine_name, axis=1)\n",
    "    return data"
   ]
  },
  {
   "cell_type": "code",
   "execution_count": 7,
   "metadata": {},
   "outputs": [],
   "source": [
    "def EvaluateModel(model: tf.keras.Sequential, test_ds: tf.data.Dataset, test_target: pd.DataFrame, history: tf.keras.callbacks.History, label_encoder = None) -> None:\n",
    "    \"\"\"\n",
    "    Take the model and plot the training accuracy and validation accuracy. Also,\n",
    "    Perform a evaluation on the test data, print the loss and accuracy, and print\n",
    "    the test metric scores.\n",
    "\n",
    "    Args:\n",
    "        model: tf.keras.Sequential\n",
    "            the model to test\n",
    "        test_ds: tf.data.Dataset\n",
    "            the test dataset to evaluate the model with\n",
    "        test_target: pd.DataFrame\n",
    "            the test data frame list with the target labels\n",
    "        history: tf.keras.callbacks.History\n",
    "            the history from fitting the model\n",
    "        label_encoder:\n",
    "            the label encoder used for the target labels\n",
    "    \"\"\"\n",
    "\n",
    "    print(f\"{'='*10} Model Accuracy {'='*10}\")\n",
    "    plt.plot(history.history['accuracy'], label='accuracy')\n",
    "    plt.plot(history.history['val_accuracy'], label = 'val_accuracy')\n",
    "    plt.xlabel('Epoch')\n",
    "    plt.ylabel('Accuracy')\n",
    "    plt.ylim([0.5, 1])\n",
    "    plt.legend(loc='lower right')\n",
    "    plt.show()\n",
    "\n",
    "    print(f\"{'='*10} Test Evaluation {'='*10}\")\n",
    "    test_loss, test_acc = model.evaluate(test_ds, test_target, verbose=2)\n",
    "    print(f\"Test loss: {test_loss} | Test accuracy: {test_acc}\")\n",
    "    print()\n",
    "\n",
    "    print(f\"{'='*10} Test Metrics {'='*10}\")\n",
    "    y_pred = model.predict(test_ds)\n",
    "    y_pred_labels = np.argmax(y_pred, axis=1)\n",
    "    print(sklearn.metrics.classification_report(test_target, y_pred_labels, target_names=(label_encoder.classes_ if label_encoder != None else None)))"
   ]
  },
  {
   "cell_type": "code",
   "execution_count": 8,
   "metadata": {},
   "outputs": [],
   "source": [
    "def Tokenize(tokenizer, df: pd.DataFrame, sequence_len = 300) -> tuple:\n",
    "    \"\"\"\n",
    "    Makes a consistant return of tokenized and padded messages and previous messages.\n",
    "    \"\"\"\n",
    "    encoded_msg = tokenizer.texts_to_sequences(df['messages'])\n",
    "    encoded_prev_msg = tokenizer.texts_to_sequences(df['previous_message'])\n",
    "    return encoded_msg, keras.preprocessing.sequence.pad_sequences(encoded_msg, sequence_len), encoded_prev_msg, keras.preprocessing.sequence.pad_sequences(encoded_prev_msg, sequence_len)"
   ]
  },
  {
   "cell_type": "markdown",
   "metadata": {},
   "source": [
    "<hr/>\n",
    "\n",
    "# data explortion"
   ]
  },
  {
   "cell_type": "code",
   "execution_count": 9,
   "metadata": {},
   "outputs": [
    {
     "data": {
      "text/html": [
       "<div>\n",
       "<style scoped>\n",
       "    .dataframe tbody tr th:only-of-type {\n",
       "        vertical-align: middle;\n",
       "    }\n",
       "\n",
       "    .dataframe tbody tr th {\n",
       "        vertical-align: top;\n",
       "    }\n",
       "\n",
       "    .dataframe thead th {\n",
       "        text-align: right;\n",
       "    }\n",
       "</style>\n",
       "<table border=\"1\" class=\"dataframe\">\n",
       "  <thead>\n",
       "    <tr style=\"text-align: right;\">\n",
       "      <th></th>\n",
       "      <th>messages</th>\n",
       "      <th>sender_labels</th>\n",
       "      <th>receiver_labels</th>\n",
       "      <th>speakers</th>\n",
       "      <th>receivers</th>\n",
       "      <th>absolute_message_index</th>\n",
       "      <th>relative_message_index</th>\n",
       "      <th>seasons</th>\n",
       "      <th>years</th>\n",
       "      <th>game_score</th>\n",
       "      <th>game_score_delta</th>\n",
       "      <th>players</th>\n",
       "      <th>game_id</th>\n",
       "    </tr>\n",
       "  </thead>\n",
       "  <tbody>\n",
       "    <tr>\n",
       "      <th>0</th>\n",
       "      <td>[Germany!\\n\\nJust the person I want to speak w...</td>\n",
       "      <td>[True, True, True, True, True, True, True, Tru...</td>\n",
       "      <td>[True, True, True, True, NOANNOTATION, NOANNOT...</td>\n",
       "      <td>[italy, germany, italy, germany, italy, italy,...</td>\n",
       "      <td>[germany, italy, germany, italy, germany, germ...</td>\n",
       "      <td>[74, 76, 86, 87, 89, 92, 97, 117, 119, 121, 12...</td>\n",
       "      <td>[0, 1, 2, 3, 4, 5, 6, 7, 8, 9, 10, 11, 12, 13,...</td>\n",
       "      <td>[Spring, Spring, Spring, Spring, Spring, Sprin...</td>\n",
       "      <td>[1901, 1901, 1901, 1901, 1901, 1901, 1901, 190...</td>\n",
       "      <td>[3, 3, 3, 3, 3, 3, 3, 3, 3, 3, 3, 3, 3, 3, 3, ...</td>\n",
       "      <td>[0, 0, 0, 0, 0, 0, 0, 0, 0, 0, 0, 0, 0, 0, 0, ...</td>\n",
       "      <td>[italy, germany]</td>\n",
       "      <td>1</td>\n",
       "    </tr>\n",
       "    <tr>\n",
       "      <th>1</th>\n",
       "      <td>[Hello there! What's your general plan for thi...</td>\n",
       "      <td>[True, False, True, False, True, True, True, T...</td>\n",
       "      <td>[True, True, True, True, True, NOANNOTATION, T...</td>\n",
       "      <td>[austria, italy, austria, italy, italy, austri...</td>\n",
       "      <td>[italy, austria, italy, austria, austria, ital...</td>\n",
       "      <td>[1, 67, 71, 73, 98, 99, 101, 179, 181, 185, 18...</td>\n",
       "      <td>[0, 1, 2, 3, 4, 5, 6, 7, 8, 9, 10, 11, 12, 13,...</td>\n",
       "      <td>[Spring, Spring, Spring, Spring, Spring, Sprin...</td>\n",
       "      <td>[1901, 1901, 1901, 1901, 1901, 1901, 1901, 190...</td>\n",
       "      <td>[3, 3, 3, 3, 3, 3, 3, 3, 3, 3, 3, 4, 5, 4, 4, ...</td>\n",
       "      <td>[0, 0, 0, 0, 0, 0, 0, 0, 0, 0, 0, -1, 1, -1, -...</td>\n",
       "      <td>[italy, austria]</td>\n",
       "      <td>1</td>\n",
       "    </tr>\n",
       "    <tr>\n",
       "      <th>2</th>\n",
       "      <td>[Buongiorno! \\nBe kinda nice to know if you're...</td>\n",
       "      <td>[True, True, False, True, True, True, True, Tr...</td>\n",
       "      <td>[True, False, True, False, True, True, NOANNOT...</td>\n",
       "      <td>[russia, italy, russia, italy, russia, italy, ...</td>\n",
       "      <td>[italy, russia, italy, russia, italy, russia, ...</td>\n",
       "      <td>[11, 50, 52, 57, 61, 66, 77, 85, 96, 102, 116,...</td>\n",
       "      <td>[0, 1, 2, 3, 4, 5, 6, 7, 8, 9, 10, 11, 12, 13,...</td>\n",
       "      <td>[Spring, Spring, Spring, Spring, Spring, Sprin...</td>\n",
       "      <td>[1901, 1901, 1901, 1901, 1901, 1901, 1901, 190...</td>\n",
       "      <td>[4, 3, 4, 3, 4, 3, 4, 3, 3, 3, 4, 3, 3, 4, 4, ...</td>\n",
       "      <td>[1, -1, 1, -1, 1, -1, 1, -1, -1, -1, 1, -1, -1...</td>\n",
       "      <td>[italy, russia]</td>\n",
       "      <td>1</td>\n",
       "    </tr>\n",
       "    <tr>\n",
       "      <th>3</th>\n",
       "      <td>[Hey italy! good luck this game. I'm guessing ...</td>\n",
       "      <td>[True, False, True, True, True, True, True, Tr...</td>\n",
       "      <td>[NOANNOTATION, True, True, False, True, True, ...</td>\n",
       "      <td>[england, italy, england, england, england, it...</td>\n",
       "      <td>[italy, england, italy, italy, italy, england,...</td>\n",
       "      <td>[32, 95, 106, 107, 108, 110, 113, 125, 126, 12...</td>\n",
       "      <td>[0, 1, 2, 3, 4, 5, 6, 7, 8, 9, 10, 11, 12, 13,...</td>\n",
       "      <td>[Spring, Spring, Spring, Spring, Spring, Sprin...</td>\n",
       "      <td>[1901, 1901, 1901, 1901, 1901, 1901, 1901, 190...</td>\n",
       "      <td>[3, 3, 3, 3, 3, 3, 3, 3, 3, 3, 3, 3, 3, 3, 4, ...</td>\n",
       "      <td>[0, 0, 0, 0, 0, 0, 0, 0, 0, 0, 0, 0, 0, 0, 0, ...</td>\n",
       "      <td>[italy, england]</td>\n",
       "      <td>1</td>\n",
       "    </tr>\n",
       "    <tr>\n",
       "      <th>4</th>\n",
       "      <td>[Hello Italy what’s up what are your thoughts ...</td>\n",
       "      <td>[True, False, False, True, True, True, True, T...</td>\n",
       "      <td>[NOANNOTATION, True, True, True, True, True, N...</td>\n",
       "      <td>[turkey, italy, italy, italy, turkey, italy, t...</td>\n",
       "      <td>[italy, turkey, turkey, turkey, italy, turkey,...</td>\n",
       "      <td>[45, 94, 103, 150, 154, 178, 192, 194, 195, 19...</td>\n",
       "      <td>[0, 1, 2, 3, 4, 5, 6, 7, 8, 9, 10, 11, 12, 13,...</td>\n",
       "      <td>[Spring, Spring, Spring, Spring, Fall, Fall, F...</td>\n",
       "      <td>[1901, 1901, 1901, 1901, 1901, 1901, 1901, 190...</td>\n",
       "      <td>[3, 3, 3, 3, 3, 3, 3, 3, 3, 3, 3, 3, 4, 4, 5, ...</td>\n",
       "      <td>[0, 0, 0, 0, 0, 0, 0, 0, 0, 0, 0, 0, -1, -1, 1...</td>\n",
       "      <td>[italy, turkey]</td>\n",
       "      <td>1</td>\n",
       "    </tr>\n",
       "  </tbody>\n",
       "</table>\n",
       "</div>"
      ],
      "text/plain": [
       "                                            messages  \\\n",
       "0  [Germany!\\n\\nJust the person I want to speak w...   \n",
       "1  [Hello there! What's your general plan for thi...   \n",
       "2  [Buongiorno! \\nBe kinda nice to know if you're...   \n",
       "3  [Hey italy! good luck this game. I'm guessing ...   \n",
       "4  [Hello Italy what’s up what are your thoughts ...   \n",
       "\n",
       "                                       sender_labels  \\\n",
       "0  [True, True, True, True, True, True, True, Tru...   \n",
       "1  [True, False, True, False, True, True, True, T...   \n",
       "2  [True, True, False, True, True, True, True, Tr...   \n",
       "3  [True, False, True, True, True, True, True, Tr...   \n",
       "4  [True, False, False, True, True, True, True, T...   \n",
       "\n",
       "                                     receiver_labels  \\\n",
       "0  [True, True, True, True, NOANNOTATION, NOANNOT...   \n",
       "1  [True, True, True, True, True, NOANNOTATION, T...   \n",
       "2  [True, False, True, False, True, True, NOANNOT...   \n",
       "3  [NOANNOTATION, True, True, False, True, True, ...   \n",
       "4  [NOANNOTATION, True, True, True, True, True, N...   \n",
       "\n",
       "                                            speakers  \\\n",
       "0  [italy, germany, italy, germany, italy, italy,...   \n",
       "1  [austria, italy, austria, italy, italy, austri...   \n",
       "2  [russia, italy, russia, italy, russia, italy, ...   \n",
       "3  [england, italy, england, england, england, it...   \n",
       "4  [turkey, italy, italy, italy, turkey, italy, t...   \n",
       "\n",
       "                                           receivers  \\\n",
       "0  [germany, italy, germany, italy, germany, germ...   \n",
       "1  [italy, austria, italy, austria, austria, ital...   \n",
       "2  [italy, russia, italy, russia, italy, russia, ...   \n",
       "3  [italy, england, italy, italy, italy, england,...   \n",
       "4  [italy, turkey, turkey, turkey, italy, turkey,...   \n",
       "\n",
       "                              absolute_message_index  \\\n",
       "0  [74, 76, 86, 87, 89, 92, 97, 117, 119, 121, 12...   \n",
       "1  [1, 67, 71, 73, 98, 99, 101, 179, 181, 185, 18...   \n",
       "2  [11, 50, 52, 57, 61, 66, 77, 85, 96, 102, 116,...   \n",
       "3  [32, 95, 106, 107, 108, 110, 113, 125, 126, 12...   \n",
       "4  [45, 94, 103, 150, 154, 178, 192, 194, 195, 19...   \n",
       "\n",
       "                              relative_message_index  \\\n",
       "0  [0, 1, 2, 3, 4, 5, 6, 7, 8, 9, 10, 11, 12, 13,...   \n",
       "1  [0, 1, 2, 3, 4, 5, 6, 7, 8, 9, 10, 11, 12, 13,...   \n",
       "2  [0, 1, 2, 3, 4, 5, 6, 7, 8, 9, 10, 11, 12, 13,...   \n",
       "3  [0, 1, 2, 3, 4, 5, 6, 7, 8, 9, 10, 11, 12, 13,...   \n",
       "4  [0, 1, 2, 3, 4, 5, 6, 7, 8, 9, 10, 11, 12, 13,...   \n",
       "\n",
       "                                             seasons  \\\n",
       "0  [Spring, Spring, Spring, Spring, Spring, Sprin...   \n",
       "1  [Spring, Spring, Spring, Spring, Spring, Sprin...   \n",
       "2  [Spring, Spring, Spring, Spring, Spring, Sprin...   \n",
       "3  [Spring, Spring, Spring, Spring, Spring, Sprin...   \n",
       "4  [Spring, Spring, Spring, Spring, Fall, Fall, F...   \n",
       "\n",
       "                                               years  \\\n",
       "0  [1901, 1901, 1901, 1901, 1901, 1901, 1901, 190...   \n",
       "1  [1901, 1901, 1901, 1901, 1901, 1901, 1901, 190...   \n",
       "2  [1901, 1901, 1901, 1901, 1901, 1901, 1901, 190...   \n",
       "3  [1901, 1901, 1901, 1901, 1901, 1901, 1901, 190...   \n",
       "4  [1901, 1901, 1901, 1901, 1901, 1901, 1901, 190...   \n",
       "\n",
       "                                          game_score  \\\n",
       "0  [3, 3, 3, 3, 3, 3, 3, 3, 3, 3, 3, 3, 3, 3, 3, ...   \n",
       "1  [3, 3, 3, 3, 3, 3, 3, 3, 3, 3, 3, 4, 5, 4, 4, ...   \n",
       "2  [4, 3, 4, 3, 4, 3, 4, 3, 3, 3, 4, 3, 3, 4, 4, ...   \n",
       "3  [3, 3, 3, 3, 3, 3, 3, 3, 3, 3, 3, 3, 3, 3, 4, ...   \n",
       "4  [3, 3, 3, 3, 3, 3, 3, 3, 3, 3, 3, 3, 4, 4, 5, ...   \n",
       "\n",
       "                                    game_score_delta           players  \\\n",
       "0  [0, 0, 0, 0, 0, 0, 0, 0, 0, 0, 0, 0, 0, 0, 0, ...  [italy, germany]   \n",
       "1  [0, 0, 0, 0, 0, 0, 0, 0, 0, 0, 0, -1, 1, -1, -...  [italy, austria]   \n",
       "2  [1, -1, 1, -1, 1, -1, 1, -1, -1, -1, 1, -1, -1...   [italy, russia]   \n",
       "3  [0, 0, 0, 0, 0, 0, 0, 0, 0, 0, 0, 0, 0, 0, 0, ...  [italy, england]   \n",
       "4  [0, 0, 0, 0, 0, 0, 0, 0, 0, 0, 0, 0, -1, -1, 1...   [italy, turkey]   \n",
       "\n",
       "   game_id  \n",
       "0        1  \n",
       "1        1  \n",
       "2        1  \n",
       "3        1  \n",
       "4        1  "
      ]
     },
     "execution_count": 9,
     "metadata": {},
     "output_type": "execute_result"
    }
   ],
   "source": [
    "train_df = pd.read_json(\"./data/train.jsonl\", lines=True)\n",
    "train_df.head()"
   ]
  },
  {
   "cell_type": "markdown",
   "metadata": {},
   "source": [
    "just a raw load of the data we can see it is unformated and needs to be parsed a little to better satisfy the pandas format."
   ]
  },
  {
   "cell_type": "code",
   "execution_count": 10,
   "metadata": {},
   "outputs": [],
   "source": [
    "train_df = (parse_jsonl(\"./data/train.jsonl\"))\n",
    "test_df = (parse_jsonl(\"./data/test.jsonl\"))\n",
    "validation_df = (parse_jsonl(\"./data/validation.jsonl\"))"
   ]
  },
  {
   "cell_type": "code",
   "execution_count": 11,
   "metadata": {},
   "outputs": [
    {
     "data": {
      "text/html": [
       "<div>\n",
       "<style scoped>\n",
       "    .dataframe tbody tr th:only-of-type {\n",
       "        vertical-align: middle;\n",
       "    }\n",
       "\n",
       "    .dataframe tbody tr th {\n",
       "        vertical-align: top;\n",
       "    }\n",
       "\n",
       "    .dataframe thead th {\n",
       "        text-align: right;\n",
       "    }\n",
       "</style>\n",
       "<table border=\"1\" class=\"dataframe\">\n",
       "  <thead>\n",
       "    <tr style=\"text-align: right;\">\n",
       "      <th></th>\n",
       "      <th>messages</th>\n",
       "      <th>sender_labels</th>\n",
       "      <th>receiver_labels</th>\n",
       "      <th>speakers</th>\n",
       "      <th>receivers</th>\n",
       "      <th>absolute_message_index</th>\n",
       "      <th>relative_message_index</th>\n",
       "      <th>seasons</th>\n",
       "      <th>years</th>\n",
       "      <th>game_score</th>\n",
       "      <th>game_score_delta</th>\n",
       "      <th>game_id</th>\n",
       "      <th>conversation_id</th>\n",
       "      <th>previous_message</th>\n",
       "      <th>label</th>\n",
       "    </tr>\n",
       "  </thead>\n",
       "  <tbody>\n",
       "    <tr>\n",
       "      <th>0</th>\n",
       "      <td>Germany!\\n\\nJust the person I want to speak wi...</td>\n",
       "      <td>True</td>\n",
       "      <td>True</td>\n",
       "      <td>italy</td>\n",
       "      <td>germany</td>\n",
       "      <td>74</td>\n",
       "      <td>0</td>\n",
       "      <td>Spring</td>\n",
       "      <td>1901</td>\n",
       "      <td>3</td>\n",
       "      <td>0</td>\n",
       "      <td>1</td>\n",
       "      <td>0</td>\n",
       "      <td></td>\n",
       "      <td>straightforward</td>\n",
       "    </tr>\n",
       "    <tr>\n",
       "      <th>1</th>\n",
       "      <td>You've whet my appetite, Italy. What's the sug...</td>\n",
       "      <td>True</td>\n",
       "      <td>True</td>\n",
       "      <td>germany</td>\n",
       "      <td>italy</td>\n",
       "      <td>76</td>\n",
       "      <td>1</td>\n",
       "      <td>Spring</td>\n",
       "      <td>1901</td>\n",
       "      <td>3</td>\n",
       "      <td>0</td>\n",
       "      <td>1</td>\n",
       "      <td>0</td>\n",
       "      <td>Germany!\\n\\nJust the person I want to speak wi...</td>\n",
       "      <td>straightforward</td>\n",
       "    </tr>\n",
       "    <tr>\n",
       "      <th>2</th>\n",
       "      <td>👍</td>\n",
       "      <td>True</td>\n",
       "      <td>True</td>\n",
       "      <td>italy</td>\n",
       "      <td>germany</td>\n",
       "      <td>86</td>\n",
       "      <td>2</td>\n",
       "      <td>Spring</td>\n",
       "      <td>1901</td>\n",
       "      <td>3</td>\n",
       "      <td>0</td>\n",
       "      <td>1</td>\n",
       "      <td>0</td>\n",
       "      <td>You've whet my appetite, Italy. What's the sug...</td>\n",
       "      <td>straightforward</td>\n",
       "    </tr>\n",
       "    <tr>\n",
       "      <th>3</th>\n",
       "      <td>It seems like there are a lot of ways that cou...</td>\n",
       "      <td>True</td>\n",
       "      <td>True</td>\n",
       "      <td>germany</td>\n",
       "      <td>italy</td>\n",
       "      <td>87</td>\n",
       "      <td>3</td>\n",
       "      <td>Spring</td>\n",
       "      <td>1901</td>\n",
       "      <td>3</td>\n",
       "      <td>0</td>\n",
       "      <td>1</td>\n",
       "      <td>0</td>\n",
       "      <td>👍</td>\n",
       "      <td>straightforward</td>\n",
       "    </tr>\n",
       "    <tr>\n",
       "      <th>4</th>\n",
       "      <td>Yeah, I can’t say I’ve tried it and it works, ...</td>\n",
       "      <td>True</td>\n",
       "      <td>NOANNOTATION</td>\n",
       "      <td>italy</td>\n",
       "      <td>germany</td>\n",
       "      <td>89</td>\n",
       "      <td>4</td>\n",
       "      <td>Spring</td>\n",
       "      <td>1901</td>\n",
       "      <td>3</td>\n",
       "      <td>0</td>\n",
       "      <td>1</td>\n",
       "      <td>0</td>\n",
       "      <td>It seems like there are a lot of ways that cou...</td>\n",
       "      <td>straightforward</td>\n",
       "    </tr>\n",
       "  </tbody>\n",
       "</table>\n",
       "</div>"
      ],
      "text/plain": [
       "                                            messages  sender_labels  \\\n",
       "0  Germany!\\n\\nJust the person I want to speak wi...           True   \n",
       "1  You've whet my appetite, Italy. What's the sug...           True   \n",
       "2                                                  👍           True   \n",
       "3  It seems like there are a lot of ways that cou...           True   \n",
       "4  Yeah, I can’t say I’ve tried it and it works, ...           True   \n",
       "\n",
       "  receiver_labels speakers receivers  absolute_message_index  \\\n",
       "0            True    italy   germany                      74   \n",
       "1            True  germany     italy                      76   \n",
       "2            True    italy   germany                      86   \n",
       "3            True  germany     italy                      87   \n",
       "4    NOANNOTATION    italy   germany                      89   \n",
       "\n",
       "   relative_message_index seasons years game_score game_score_delta  game_id  \\\n",
       "0                       0  Spring  1901          3                0        1   \n",
       "1                       1  Spring  1901          3                0        1   \n",
       "2                       2  Spring  1901          3                0        1   \n",
       "3                       3  Spring  1901          3                0        1   \n",
       "4                       4  Spring  1901          3                0        1   \n",
       "\n",
       "   conversation_id                                   previous_message  \\\n",
       "0                0                                                      \n",
       "1                0  Germany!\\n\\nJust the person I want to speak wi...   \n",
       "2                0  You've whet my appetite, Italy. What's the sug...   \n",
       "3                0                                                  👍   \n",
       "4                0  It seems like there are a lot of ways that cou...   \n",
       "\n",
       "             label  \n",
       "0  straightforward  \n",
       "1  straightforward  \n",
       "2  straightforward  \n",
       "3  straightforward  \n",
       "4  straightforward  "
      ]
     },
     "execution_count": 11,
     "metadata": {},
     "output_type": "execute_result"
    }
   ],
   "source": [
    "train_df.head()"
   ]
  },
  {
   "cell_type": "markdown",
   "metadata": {},
   "source": [
    "# NONANNOTATION"
   ]
  },
  {
   "cell_type": "markdown",
   "metadata": {},
   "source": [
    "We can see that there are some `receiver_labels` that have the value `NOANNOTATION`. this is not a bool value "
   ]
  },
  {
   "cell_type": "code",
   "execution_count": 12,
   "metadata": {},
   "outputs": [
    {
     "data": {
      "text/plain": [
       "8.43"
      ]
     },
     "execution_count": 12,
     "metadata": {},
     "output_type": "execute_result"
    }
   ],
   "source": [
    "round(len(train_df[train_df[\"receiver_labels\"] == \"NOANNOTATION\"].index) /  len(train_df.index), 4) * 100"
   ]
  },
  {
   "cell_type": "markdown",
   "metadata": {},
   "source": [
    "I think we can ignore this for now since the main columns i think we will be using are `messages` and `sender_labels`\n",
    "\n",
    "If we do need it in the future, we can omit it only losing 8.43% of the rows."
   ]
  },
  {
   "cell_type": "markdown",
   "metadata": {},
   "source": [
    "# Unique Words"
   ]
  },
  {
   "cell_type": "code",
   "execution_count": 22,
   "metadata": {},
   "outputs": [
    {
     "name": "stdout",
     "output_type": "stream",
     "text": [
      "germany!: 12\n",
      "just: 1250\n",
      "the: 6574\n",
      "person: 29\n",
      "i: 8947\n",
      "want: 842\n",
      "to: 11615\n",
      "speak: 18\n",
      "with.: 34\n",
      "have: 2087\n",
      "a: 4783\n",
      "somewhat: 16\n",
      "crazy: 16\n",
      "idea: 97\n",
      "that: 3692\n",
      "i’ve: 153\n",
      "always: 84\n",
      "wanted: 146\n",
      "try: 307\n",
      "with: 2567\n",
      "i/g,: 1\n",
      "but: 2250\n",
      "never: 109\n",
      "actually: 208\n",
      "convinced: 11\n",
      "other: 285\n",
      "guy: 30\n",
      "it.: 263\n",
      "and,: 38\n",
      "what’s: 85\n",
      "worse,: 3\n"
     ]
    }
   ],
   "source": [
    "sequence_list = list(train_df['messages'].astype(str).str.lower().str.split().to_numpy())\n",
    "unique_words = {}\n",
    "for sequence in sequence_list:\n",
    "    for word in sequence:\n",
    "        unique_words[word] = unique_words.get(word, 0) + 1\n",
    "    # sequence_list = sequence_list + ([\"<PAD>\"] )\n",
    "\n",
    "for (i,(k,v)) in enumerate(unique_words.items()):\n",
    "    if i > 30:\n",
    "        break\n",
    "    print(f\"{k}: {v}\")"
   ]
  },
  {
   "cell_type": "code",
   "execution_count": 13,
   "metadata": {},
   "outputs": [
    {
     "data": {
      "text/plain": [
       "15657"
      ]
     },
     "execution_count": 13,
     "metadata": {},
     "output_type": "execute_result"
    }
   ],
   "source": [
    "len(unique_words)"
   ]
  },
  {
   "cell_type": "markdown",
   "metadata": {},
   "source": [
    "<!-- I processed only what is considered a **word** to the regex `\\w+`. this means that any punctuation is omitted. -->\n",
    "\n",
    "After processing, we have a total of 15,657 words.\n",
    "\n",
    "Some things to note are\n",
    "- there are some arbitrary number included\n",
    "- some words are repeated because of long character exaggeration (for example, \"aaaaaalllllllllll\" instead of \"all\" or \"aaaaany\" instead of \"any\")\n",
    "- some words are repeated because of misspellings and typos"
   ]
  },
  {
   "cell_type": "code",
   "execution_count": 14,
   "metadata": {},
   "outputs": [
    {
     "data": {
      "image/png": "[encoded data removed]",
      "text/plain": [
       "<Figure size 640x480 with 1 Axes>"
      ]
     },
     "metadata": {},
     "output_type": "display_data"
    }
   ],
   "source": [
    "plt.hist(list(map(len, sequence_list)),bins=100)\n",
    "plt.show()"
   ]
  },
  {
   "cell_type": "code",
   "execution_count": 15,
   "metadata": {},
   "outputs": [
    {
     "data": {
      "text/html": [
       "<div>\n",
       "<style scoped>\n",
       "    .dataframe tbody tr th:only-of-type {\n",
       "        vertical-align: middle;\n",
       "    }\n",
       "\n",
       "    .dataframe tbody tr th {\n",
       "        vertical-align: top;\n",
       "    }\n",
       "\n",
       "    .dataframe thead th {\n",
       "        text-align: right;\n",
       "    }\n",
       "</style>\n",
       "<table border=\"1\" class=\"dataframe\">\n",
       "  <thead>\n",
       "    <tr style=\"text-align: right;\">\n",
       "      <th></th>\n",
       "      <th></th>\n",
       "      <th>value</th>\n",
       "    </tr>\n",
       "  </thead>\n",
       "  <tbody>\n",
       "    <tr>\n",
       "      <th>0</th>\n",
       "      <td>Message count</td>\n",
       "      <td>13132</td>\n",
       "    </tr>\n",
       "    <tr>\n",
       "      <th>1</th>\n",
       "      <td>Average words per message</td>\n",
       "      <td>20</td>\n",
       "    </tr>\n",
       "    <tr>\n",
       "      <th>2</th>\n",
       "      <td>Unique word count</td>\n",
       "      <td>15657</td>\n",
       "    </tr>\n",
       "    <tr>\n",
       "      <th>3</th>\n",
       "      <td>Actual Lie count</td>\n",
       "      <td>591</td>\n",
       "    </tr>\n",
       "    <tr>\n",
       "      <th>4</th>\n",
       "      <td>Actual Truth count</td>\n",
       "      <td>12541</td>\n",
       "    </tr>\n",
       "  </tbody>\n",
       "</table>\n",
       "</div>"
      ],
      "text/plain": [
       "                              value\n",
       "0              Message count  13132\n",
       "1  Average words per message     20\n",
       "2          Unique word count  15657\n",
       "3           Actual Lie count    591\n",
       "4         Actual Truth count  12541"
      ]
     },
     "execution_count": 15,
     "metadata": {},
     "output_type": "execute_result"
    }
   ],
   "source": [
    "summary = {\n",
    "    \"\": [\n",
    "        'Message count',\n",
    "        'Average words per message',\n",
    "        'Unique word count',\n",
    "        'Actual Lie count',\n",
    "        'Actual Truth count'\n",
    "    ],\n",
    "    \"value\": [\n",
    "        len(train_df.index),\n",
    "        math.floor(sum(map(len, sequence_list)) / len(sequence_list)),\n",
    "        len(unique_words),\n",
    "        (~train_df['sender_labels']).sum(),\n",
    "        (train_df['sender_labels']).sum()\n",
    "    ],\n",
    "}\n",
    "pd.DataFrame(summary)"
   ]
  },
  {
   "cell_type": "markdown",
   "metadata": {},
   "source": [
    "# Label count"
   ]
  },
  {
   "cell_type": "code",
   "execution_count": 16,
   "metadata": {},
   "outputs": [
    {
     "data": {
      "text/plain": [
       "label\n",
       "straightforward    12040\n",
       "deceive              526\n",
       "cassandra            501\n",
       "caught                65\n",
       "Name: count, dtype: int64"
      ]
     },
     "execution_count": 16,
     "metadata": {},
     "output_type": "execute_result"
    }
   ],
   "source": [
    "train_df['label'].value_counts()"
   ]
  },
  {
   "cell_type": "code",
   "execution_count": 17,
   "metadata": {},
   "outputs": [
    {
     "data": {
      "image/png": "[encoded data removed]",
      "text/plain": [
       "<Figure size 640x480 with 1 Axes>"
      ]
     },
     "metadata": {},
     "output_type": "display_data"
    }
   ],
   "source": [
    "train_df['label'].value_counts().plot.bar()\n",
    "plt.show()"
   ]
  },
  {
   "cell_type": "code",
   "execution_count": 18,
   "metadata": {},
   "outputs": [
    {
     "data": {
      "text/plain": [
       "label\n",
       "straightforward    0.916844\n",
       "deceive            0.040055\n",
       "cassandra          0.038151\n",
       "caught             0.004950\n",
       "Name: proportion, dtype: float64"
      ]
     },
     "execution_count": 18,
     "metadata": {},
     "output_type": "execute_result"
    }
   ],
   "source": [
    "train_df['label'].value_counts(normalize=True)"
   ]
  },
  {
   "cell_type": "markdown",
   "metadata": {},
   "source": [
    "<hr/>\n",
    "\n",
    "# Constants"
   ]
  },
  {
   "cell_type": "code",
   "execution_count": 19,
   "metadata": {},
   "outputs": [],
   "source": [
    "MAX_SEQUENCE_LEN = max(map(len,sequence_list))\n",
    "VOCAB_SIZE = 5000 # len(unique_words)\n",
    "\n",
    "tokenizer = keras.preprocessing.text.Tokenizer(num_words=VOCAB_SIZE, oov_token=\"<OOV>\")\n",
    "tokenizer.fit_on_texts(train_df['messages'])\n",
    "label_encoder = sklearn.preprocessing.LabelEncoder()\n",
    "\n",
    "train_df['label_encoded'] = label_encoder.fit_transform(train_df['label'])\n",
    "test_df['label_encoded'] = label_encoder.fit_transform(test_df['label'])\n",
    "validation_df['label_encoded'] = label_encoder.fit_transform(validation_df['label'])\n",
    "\n",
    "train_encoded, train_encoded_padded, train_prev_encoded, train_prev_encoded_padded = Tokenize(tokenizer, train_df, MAX_SEQUENCE_LEN)\n",
    "test_encoded, test_encoded_padded, test_prev_encoded, test_prev_encoded_padded = Tokenize(tokenizer, test_df, MAX_SEQUENCE_LEN)\n",
    "validation_encoded, validation_encoded_padded, validation_prev_encoded, validation_prev_encoded_padded = Tokenize(tokenizer, validation_df, MAX_SEQUENCE_LEN)"
   ]
  },
  {
   "cell_type": "markdown",
   "metadata": {},
   "source": [
    "<hr/>\n",
    "\n",
    "# Naive Nueral Network"
   ]
  },
  {
   "cell_type": "code",
   "execution_count": 20,
   "metadata": {},
   "outputs": [],
   "source": [
    "def create_naive_model(\n",
    "        vocab_size: int = VOCAB_SIZE,\n",
    "        embedding_output: int = 64,\n",
    "        sequence_length: int = MAX_SEQUENCE_LEN,\n",
    "        learning_rate: float = 0.001\n",
    "    ):\n",
    "\n",
    "    model = keras.Sequential([\n",
    "        keras.layers.Embedding(vocab_size, embedding_output, input_length=sequence_length),\n",
    "        keras.layers.Flatten(),\n",
    "        keras.layers.Dense(4, activation='softmax')\n",
    "    ])\n",
    "\n",
    "    model.compile(\n",
    "        loss='sparse_categorical_crossentropy',\n",
    "        optimizer=tf.keras.optimizers.Adam(learning_rate=learning_rate),\n",
    "        metrics=['accuracy']\n",
    "    )\n",
    "\n",
    "    return model"
   ]
  },
  {
   "cell_type": "code",
   "execution_count": 21,
   "metadata": {},
   "outputs": [
    {
     "name": "stdout",
     "output_type": "stream",
     "text": [
      "Model: \"sequential\"\n",
      "_________________________________________________________________\n",
      " Layer (type)                Output Shape              Param #   \n",
      "=================================================================\n",
      " embedding (Embedding)       (None, 294, 128)          640000    \n",
      "                                                                 \n",
      " flatten (Flatten)           (None, 37632)             0         \n",
      "                                                                 \n",
      " dense (Dense)               (None, 4)                 150532    \n",
      "                                                                 \n",
      "=================================================================\n",
      "Total params: 790532 (3.02 MB)\n",
      "Trainable params: 790532 (3.02 MB)\n",
      "Non-trainable params: 0 (0.00 Byte)\n",
      "_________________________________________________________________\n",
      "_________________________________________________________________\n",
      " Layer (type)                Output Shape              Param #   \n",
      "=================================================================\n",
      " embedding (Embedding)       (None, 294, 128)          640000    \n",
      "                                                                 \n",
      " flatten (Flatten)           (None, 37632)             0         \n",
      "                                                                 \n",
      " dense (Dense)               (None, 4)                 150532    \n",
      "                                                                 \n",
      "=================================================================\n",
      "Total params: 790532 (3.02 MB)\n",
      "Trainable params: 790532 (3.02 MB)\n",
      "Non-trainable params: 0 (0.00 Byte)\n",
      "_________________________________________________________________\n"
     ]
    }
   ],
   "source": [
    "naive_model = create_naive_model(embedding_output=128)\n",
    "naive_model.summary()"
   ]
  },
  {
   "cell_type": "code",
   "execution_count": 22,
   "metadata": {},
   "outputs": [
    {
     "name": "stdout",
     "output_type": "stream",
     "text": [
      "Epoch 1/10\n",
      "411/411 [==============================] - 14s 33ms/step - loss: 0.3716 - accuracy: 0.9148 - val_loss: 0.3082 - val_accuracy: 0.9301\n",
      "Epoch 2/10\n",
      "411/411 [==============================] - 5s 11ms/step - loss: 0.2827 - accuracy: 0.9222 - val_loss: 0.3342 - val_accuracy: 0.9301\n",
      "Epoch 3/10\n",
      "411/411 [==============================] - 4s 9ms/step - loss: 0.1653 - accuracy: 0.9500 - val_loss: 0.3795 - val_accuracy: 0.9287\n",
      "Epoch 4/10\n",
      "411/411 [==============================] - 3s 7ms/step - loss: 0.0954 - accuracy: 0.9737 - val_loss: 0.4258 - val_accuracy: 0.9251\n",
      "Epoch 5/10\n",
      "411/411 [==============================] - 2s 6ms/step - loss: 0.0617 - accuracy: 0.9845 - val_loss: 0.4987 - val_accuracy: 0.9280\n",
      "Epoch 6/10\n",
      "411/411 [==============================] - 2s 6ms/step - loss: 0.0435 - accuracy: 0.9899 - val_loss: 0.5268 - val_accuracy: 0.9237\n",
      "Epoch 7/10\n",
      "411/411 [==============================] - 3s 7ms/step - loss: 0.0338 - accuracy: 0.9917 - val_loss: 0.5737 - val_accuracy: 0.9244\n",
      "Epoch 8/10\n",
      "411/411 [==============================] - 2s 6ms/step - loss: 0.0282 - accuracy: 0.9931 - val_loss: 0.5700 - val_accuracy: 0.9174\n",
      "Epoch 9/10\n",
      "411/411 [==============================] - 3s 6ms/step - loss: 0.0262 - accuracy: 0.9942 - val_loss: 0.6261 - val_accuracy: 0.9188\n",
      "Epoch 10/10\n",
      "411/411 [==============================] - 2s 5ms/step - loss: 0.0234 - accuracy: 0.9946 - val_loss: 0.6331 - val_accuracy: 0.9188\n"
     ]
    }
   ],
   "source": [
    "naive_history = naive_model.fit(\n",
    "    train_encoded_padded,\n",
    "    train_df['label_encoded'],\n",
    "    validation_data=(validation_encoded_padded, validation_df['label_encoded']),\n",
    "    epochs=10\n",
    ")"
   ]
  },
  {
   "cell_type": "code",
   "execution_count": 23,
   "metadata": {},
   "outputs": [
    {
     "name": "stdout",
     "output_type": "stream",
     "text": [
      "========== Model Accuracy ==========\n"
     ]
    },
    {
     "data": {
      "image/png": "[encoded data removed]",
      "text/plain": [
       "<Figure size 640x480 with 1 Axes>"
      ]
     },
     "metadata": {},
     "output_type": "display_data"
    },
    {
     "name": "stdout",
     "output_type": "stream",
     "text": [
      "========== Test Evaluation ==========\n",
      "86/86 - 0s - loss: 9.9099 - accuracy: 0.0015 - 322ms/epoch - 4ms/step\n",
      "Test loss: 9.909931182861328 | Test accuracy: 0.0014593214727938175\n",
      "\n",
      "========== Test Metrics ==========\n",
      "86/86 [==============================] - 0s 2ms/step\n",
      "              precision    recall  f1-score   support\n",
      "\n",
      "           0       0.16      0.02      0.03       240\n",
      "           1       0.00      0.00      0.00      2501\n",
      "           2       0.00      0.00      0.00         0\n",
      "           3       0.00      0.00      0.00         0\n",
      "\n",
      "    accuracy                           0.00      2741\n",
      "   macro avg       0.04      0.00      0.01      2741\n",
      "weighted avg       0.01      0.00      0.00      2741\n",
      "\n"
     ]
    },
    {
     "name": "stderr",
     "output_type": "stream",
     "text": [
      "/usr/local/lib/python3.11/dist-packages/sklearn/metrics/_classification.py:1471: UndefinedMetricWarning: Recall and F-score are ill-defined and being set to 0.0 in labels with no true samples. Use `zero_division` parameter to control this behavior.\n",
      "  _warn_prf(average, modifier, msg_start, len(result))\n",
      "/usr/local/lib/python3.11/dist-packages/sklearn/metrics/_classification.py:1471: UndefinedMetricWarning: Recall and F-score are ill-defined and being set to 0.0 in labels with no true samples. Use `zero_division` parameter to control this behavior.\n",
      "  _warn_prf(average, modifier, msg_start, len(result))\n",
      "/usr/local/lib/python3.11/dist-packages/sklearn/metrics/_classification.py:1471: UndefinedMetricWarning: Recall and F-score are ill-defined and being set to 0.0 in labels with no true samples. Use `zero_division` parameter to control this behavior.\n",
      "  _warn_prf(average, modifier, msg_start, len(result))\n"
     ]
    }
   ],
   "source": [
    "EvaluateModel(naive_model, test_encoded_padded, test_df['sender_labels'], naive_history)"
   ]
  },
  {
   "cell_type": "markdown",
   "metadata": {},
   "source": [
    "# Naive LSTM"
   ]
  },
  {
   "cell_type": "code",
   "execution_count": 24,
   "metadata": {},
   "outputs": [],
   "source": [
    "def create_naive_lstm_model(\n",
    "        sequence_length: int = MAX_SEQUENCE_LEN,\n",
    "        embedding_output: int = 5,\n",
    "        vocab_size: int = VOCAB_SIZE,\n",
    "        lstm_size: int = 64,\n",
    "        hidden_size = 64,\n",
    "        learning_rate: float = 0.001,\n",
    "    ):\n",
    "\n",
    "    model = keras.Sequential([\n",
    "        keras.layers.Embedding(vocab_size, embedding_output, input_length=sequence_length),\n",
    "        keras.layers.Bidirectional(keras.layers.LSTM(lstm_size)),\n",
    "        keras.layers.Dense(hidden_size),\n",
    "        keras.layers.Dense(4, activation='softmax')\n",
    "    ])\n",
    "\n",
    "    model.compile(\n",
    "        loss='sparse_categorical_crossentropy',\n",
    "        optimizer=tf.keras.optimizers.Adam(learning_rate=learning_rate),\n",
    "        metrics=['accuracy']\n",
    "    )\n",
    "\n",
    "    return model"
   ]
  },
  {
   "cell_type": "code",
   "execution_count": 25,
   "metadata": {},
   "outputs": [
    {
     "name": "stdout",
     "output_type": "stream",
     "text": [
      "Model: \"sequential_1\"\n",
      "_________________________________________________________________\n",
      " Layer (type)                Output Shape              Param #   \n",
      "=================================================================\n",
      " embedding_1 (Embedding)     (None, 294, 128)          640000    \n",
      "                                                                 \n",
      " bidirectional (Bidirection  (None, 128)               98816     \n",
      " al)                                                             \n",
      "                                                                 \n",
      " dense_1 (Dense)             (None, 64)                8256      \n",
      "                                                                 \n",
      " dense_2 (Dense)             (None, 4)                 260       \n",
      "                                                                 \n",
      "=================================================================\n",
      "Total params: 747332 (2.85 MB)\n",
      "Trainable params: 747332 (2.85 MB)\n",
      "Non-trainable params: 0 (0.00 Byte)\n",
      "_________________________________________________________________\n",
      "_________________________________________________________________\n",
      " Layer (type)                Output Shape              Param #   \n",
      "=================================================================\n",
      " embedding_1 (Embedding)     (None, 294, 128)          640000    \n",
      "                                                                 \n",
      " bidirectional (Bidirection  (None, 128)               98816     \n",
      " al)                                                             \n",
      "                                                                 \n",
      " dense_1 (Dense)             (None, 64)                8256      \n",
      "                                                                 \n",
      " dense_2 (Dense)             (None, 4)                 260       \n",
      "                                                                 \n",
      "=================================================================\n",
      "Total params: 747332 (2.85 MB)\n",
      "Trainable params: 747332 (2.85 MB)\n",
      "Non-trainable params: 0 (0.00 Byte)\n",
      "_________________________________________________________________\n"
     ]
    }
   ],
   "source": [
    "naive_lstm_model = create_naive_lstm_model(embedding_output=128)\n",
    "naive_lstm_model.summary()"
   ]
  },
  {
   "cell_type": "code",
   "execution_count": 26,
   "metadata": {},
   "outputs": [
    {
     "name": "stdout",
     "output_type": "stream",
     "text": [
      "Epoch 1/10\n",
      "411/411 [==============================] - 31s 66ms/step - loss: 0.3753 - accuracy: 0.9155 - val_loss: 0.3073 - val_accuracy: 0.9301\n",
      "Epoch 2/10\n",
      "411/411 [==============================] - 18s 43ms/step - loss: 0.3214 - accuracy: 0.9170 - val_loss: 0.3306 - val_accuracy: 0.9301\n",
      "Epoch 3/10\n",
      "411/411 [==============================] - 16s 40ms/step - loss: 0.2607 - accuracy: 0.9231 - val_loss: 0.3863 - val_accuracy: 0.9258\n",
      "Epoch 4/10\n",
      "411/411 [==============================] - 16s 40ms/step - loss: 0.1969 - accuracy: 0.9397 - val_loss: 0.5020 - val_accuracy: 0.8912\n",
      "Epoch 5/10\n",
      "411/411 [==============================] - 18s 44ms/step - loss: 0.1469 - accuracy: 0.9535 - val_loss: 0.5420 - val_accuracy: 0.8969\n",
      "Epoch 6/10\n",
      "411/411 [==============================] - 16s 40ms/step - loss: 0.1097 - accuracy: 0.9645 - val_loss: 0.5745 - val_accuracy: 0.8955\n",
      "Epoch 7/10\n",
      "411/411 [==============================] - 16s 40ms/step - loss: 0.0834 - accuracy: 0.9726 - val_loss: 0.7127 - val_accuracy: 0.8672\n",
      "Epoch 8/10\n",
      "411/411 [==============================] - 17s 40ms/step - loss: 0.0700 - accuracy: 0.9781 - val_loss: 0.7619 - val_accuracy: 0.8672\n",
      "Epoch 9/10\n",
      "411/411 [==============================] - 17s 42ms/step - loss: 0.0576 - accuracy: 0.9826 - val_loss: 0.7982 - val_accuracy: 0.8694\n",
      "Epoch 10/10\n",
      "411/411 [==============================] - 17s 41ms/step - loss: 0.0465 - accuracy: 0.9861 - val_loss: 1.0669 - val_accuracy: 0.8446\n"
     ]
    }
   ],
   "source": [
    "naive_lstm_history = naive_lstm_model.fit(\n",
    "    train_encoded_padded,\n",
    "    train_df[\"label_encoded\"], \n",
    "    validation_data=(validation_encoded_padded,validation_df['label_encoded']), \n",
    "    epochs=10\n",
    ")"
   ]
  },
  {
   "cell_type": "code",
   "execution_count": 27,
   "metadata": {},
   "outputs": [
    {
     "name": "stdout",
     "output_type": "stream",
     "text": [
      "========== Model Accuracy ==========\n"
     ]
    },
    {
     "data": {
      "image/png": "[encoded data removed]",
      "text/plain": [
       "<Figure size 640x480 with 1 Axes>"
      ]
     },
     "metadata": {},
     "output_type": "display_data"
    },
    {
     "name": "stdout",
     "output_type": "stream",
     "text": [
      "========== Test Evaluation ==========\n",
      "86/86 - 2s - loss: 1.5830 - accuracy: 0.8107 - 2s/epoch - 18ms/step\n",
      "Test loss: 1.5830214023590088 | Test accuracy: 0.810653030872345\n",
      "\n",
      "========== Test Metrics ==========\n",
      "86/86 [==============================] - 2s 19ms/step\n",
      "              precision    recall  f1-score   support\n",
      "\n",
      "           0       0.04      0.04      0.04       123\n",
      "           1       0.00      0.00      0.00        42\n",
      "           2       0.16      0.09      0.11       198\n",
      "           3       0.88      0.93      0.90      2378\n",
      "\n",
      "    accuracy                           0.81      2741\n",
      "   macro avg       0.27      0.26      0.26      2741\n",
      "weighted avg       0.77      0.81      0.79      2741\n",
      "\n"
     ]
    }
   ],
   "source": [
    "EvaluateModel(naive_lstm_model, test_encoded_padded, test_df['label_encoded'], naive_lstm_history)"
   ]
  },
  {
   "cell_type": "markdown",
   "metadata": {},
   "source": [
    "<hr/>\n",
    "\n",
    "# Context lstm"
   ]
  },
  {
   "cell_type": "code",
   "execution_count": 28,
   "metadata": {},
   "outputs": [],
   "source": [
    "def create_lstm_model(\n",
    "        sequence_length: int = MAX_SEQUENCE_LEN,\n",
    "        embedding_output: int = 5,\n",
    "        vocab_size: int = VOCAB_SIZE,\n",
    "        lstm_size: int = 64,\n",
    "        hidden_size = 64,\n",
    "        learning_rate: float = 0.001,\n",
    "    ):\n",
    "\n",
    "    current_message_input = keras.layers.Input(shape=(sequence_length,), dtype=tf.int64, name='current_message_input')\n",
    "    previous_message_input = keras.layers.Input(shape=(sequence_length,), dtype=tf.int64, name='previous_message_input')\n",
    "\n",
    "    current_message_lstm = pipe(\n",
    "        current_message_input,\n",
    "        keras.layers.Embedding(vocab_size, embedding_output, input_length=sequence_length),\n",
    "        keras.layers.LSTM(lstm_size),\n",
    "        keras.layers.Dropout(0.2)\n",
    "    )\n",
    "\n",
    "    previous_message_lstm = pipe(\n",
    "        previous_message_input,\n",
    "        keras.layers.Embedding(vocab_size, embedding_output, input_length=sequence_length),\n",
    "        keras.layers.LSTM(lstm_size),\n",
    "        keras.layers.Dropout(0.2)\n",
    "    )\n",
    "\n",
    "    context_lstm_ouput = pipe(\n",
    "        [\n",
    "            current_message_lstm,\n",
    "            previous_message_lstm\n",
    "        ],\n",
    "        keras.layers.Concatenate(),\n",
    "        keras.layers.Dense(hidden_size),\n",
    "        keras.layers.Dense(4, activation='softmax')\n",
    "    )\n",
    "\n",
    "    context_lstm_model = keras.Model(\n",
    "        inputs=[current_message_input, previous_message_input],\n",
    "        outputs=context_lstm_ouput\n",
    "    )\n",
    "\n",
    "    context_lstm_model.compile(\n",
    "        loss='sparse_categorical_crossentropy',\n",
    "        optimizer=tf.keras.optimizers.Adam(learning_rate=learning_rate),\n",
    "        metrics=['accuracy']\n",
    "    )\n",
    "\n",
    "    return context_lstm_model"
   ]
  },
  {
   "cell_type": "code",
   "execution_count": 29,
   "metadata": {},
   "outputs": [
    {
     "name": "stdout",
     "output_type": "stream",
     "text": [
      "Model: \"model\"\n",
      "__________________________________________________________________________________________________\n",
      " Layer (type)                Output Shape                 Param #   Connected to                  \n",
      "==================================================================================================\n",
      " current_message_input (Inp  [(None, 294)]                0         []                            \n",
      " utLayer)                                                                                         \n",
      "                                                                                                  \n",
      " previous_message_input (In  [(None, 294)]                0         []                            \n",
      " putLayer)                                                                                        \n",
      "                                                                                                  \n",
      " embedding_2 (Embedding)     (None, 294, 128)             640000    ['current_message_input[0][0]'\n",
      "                                                                    ]                             \n",
      "                                                                                                  \n",
      " embedding_3 (Embedding)     (None, 294, 128)             640000    ['previous_message_input[0][0]\n",
      "                                                                    ']                            \n",
      "                                                                                                  \n",
      "__________________________________________________________________________________________________\n",
      " Layer (type)                Output Shape                 Param #   Connected to                  \n",
      "==================================================================================================\n",
      " current_message_input (Inp  [(None, 294)]                0         []                            \n",
      " utLayer)                                                                                         \n",
      "                                                                                                  \n",
      " previous_message_input (In  [(None, 294)]                0         []                            \n",
      " putLayer)                                                                                        \n",
      "                                                                                                  \n",
      " embedding_2 (Embedding)     (None, 294, 128)             640000    ['current_message_input[0][0]'\n",
      "                                                                    ]                             \n",
      "                                                                                                  \n",
      " embedding_3 (Embedding)     (None, 294, 128)             640000    ['previous_message_input[0][0]\n",
      "                                                                    ']                            \n",
      "                                                                                                  \n",
      " lstm_1 (LSTM)               (None, 64)                   49408     ['embedding_2[0][0]']         \n",
      "                                                                                                  \n",
      " lstm_2 (LSTM)               (None, 64)                   49408     ['embedding_3[0][0]']         \n",
      "                                                                                                  \n",
      " dropout (Dropout)           (None, 64)                   0         ['lstm_1[0][0]']              \n",
      "                                                                                                  \n",
      " dropout_1 (Dropout)         (None, 64)                   0         ['lstm_2[0][0]']              \n",
      "                                                                                                  \n",
      " concatenate (Concatenate)   (None, 128)                  0         ['dropout[0][0]',             \n",
      "                                                                     'dropout_1[0][0]']           \n",
      "                                                                                                  \n",
      " dense_3 (Dense)             (None, 64)                   8256      ['concatenate[0][0]']         \n",
      "                                                                                                  \n",
      " dense_4 (Dense)             (None, 4)                    260       ['dense_3[0][0]']             \n",
      "                                                                                                  \n",
      "==================================================================================================\n",
      "Total params: 1387332 (5.29 MB)\n",
      "Trainable params: 1387332 (5.29 MB)\n",
      "Non-trainable params: 0 (0.00 Byte)\n",
      "__________________________________________________________________________________________________\n"
     ]
    }
   ],
   "source": [
    "context_lstm_model = create_lstm_model(\n",
    "    embedding_output=128\n",
    ")\n",
    "context_lstm_model.summary()"
   ]
  },
  {
   "cell_type": "code",
   "execution_count": 30,
   "metadata": {},
   "outputs": [
    {
     "name": "stdout",
     "output_type": "stream",
     "text": [
      "Epoch 1/10\n",
      "411/411 [==============================] - 36s 76ms/step - loss: 0.3837 - accuracy: 0.9148 - val_loss: 0.3171 - val_accuracy: 0.9301\n",
      "Epoch 2/10\n",
      "411/411 [==============================] - 20s 50ms/step - loss: 0.3046 - accuracy: 0.9181 - val_loss: 0.3546 - val_accuracy: 0.9287\n",
      "Epoch 3/10\n",
      "411/411 [==============================] - 18s 44ms/step - loss: 0.2139 - accuracy: 0.9322 - val_loss: 0.4664 - val_accuracy: 0.9153\n",
      "Epoch 4/10\n",
      "411/411 [==============================] - 18s 45ms/step - loss: 0.1218 - accuracy: 0.9603 - val_loss: 0.5891 - val_accuracy: 0.8799\n",
      "Epoch 5/10\n",
      "411/411 [==============================] - 17s 41ms/step - loss: 0.0631 - accuracy: 0.9807 - val_loss: 0.8034 - val_accuracy: 0.8785\n",
      "Epoch 6/10\n",
      "411/411 [==============================] - 17s 42ms/step - loss: 0.0375 - accuracy: 0.9879 - val_loss: 0.9986 - val_accuracy: 0.8722\n",
      "Epoch 7/10\n",
      "411/411 [==============================] - 17s 41ms/step - loss: 0.0256 - accuracy: 0.9910 - val_loss: 1.2053 - val_accuracy: 0.8835\n",
      "Epoch 8/10\n",
      "411/411 [==============================] - 17s 42ms/step - loss: 0.0143 - accuracy: 0.9951 - val_loss: 1.2909 - val_accuracy: 0.8630\n",
      "Epoch 9/10\n",
      "411/411 [==============================] - 17s 42ms/step - loss: 0.0141 - accuracy: 0.9951 - val_loss: 1.3300 - val_accuracy: 0.8814\n",
      "Epoch 10/10\n",
      "411/411 [==============================] - 18s 44ms/step - loss: 0.0109 - accuracy: 0.9966 - val_loss: 1.4841 - val_accuracy: 0.8686\n"
     ]
    }
   ],
   "source": [
    "context_lstm_history = context_lstm_model.fit(\n",
    "    [train_encoded_padded, train_prev_encoded_padded],\n",
    "    train_df[\"label_encoded\"], \n",
    "    validation_data=([validation_encoded_padded, validation_prev_encoded_padded],validation_df['label_encoded']), \n",
    "    epochs=10\n",
    ")"
   ]
  },
  {
   "cell_type": "code",
   "execution_count": 31,
   "metadata": {},
   "outputs": [
    {
     "name": "stdout",
     "output_type": "stream",
     "text": [
      "========== Model Accuracy ==========\n"
     ]
    },
    {
     "data": {
      "image/png": "[encoded data removed]",
      "text/plain": [
       "<Figure size 640x480 with 1 Axes>"
      ]
     },
     "metadata": {},
     "output_type": "display_data"
    },
    {
     "name": "stdout",
     "output_type": "stream",
     "text": [
      "========== Test Evaluation ==========\n",
      "86/86 - 2s - loss: 2.1748 - accuracy: 0.8249 - 2s/epoch - 22ms/step\n",
      "Test loss: 2.1748239994049072 | Test accuracy: 0.8248814344406128\n",
      "\n",
      "========== Test Metrics ==========\n",
      "86/86 [==============================] - 2s 16ms/step\n",
      "                 precision    recall  f1-score   support\n",
      "\n",
      "      cassandra       0.07      0.05      0.06       123\n",
      "         caught       0.60      0.07      0.13        42\n",
      "        deceive       0.12      0.05      0.07       198\n",
      "straightforward       0.87      0.94      0.91      2378\n",
      "\n",
      "       accuracy                           0.82      2741\n",
      "      macro avg       0.42      0.28      0.29      2741\n",
      "   weighted avg       0.78      0.82      0.80      2741\n",
      "\n"
     ]
    }
   ],
   "source": [
    "EvaluateModel(context_lstm_model, [test_encoded_padded, test_prev_encoded_padded], test_df['label_encoded'], context_lstm_history, label_encoder)"
   ]
  }
 ],
 "metadata": {
  "kernelspec": {
   "display_name": "Python 3",
   "language": "python",
   "name": "python3"
  },
  "language_info": {
   "codemirror_mode": {
    "name": "ipython",
    "version": 3
   },
   "file_extension": ".py",
   "mimetype": "text/x-python",
   "name": "python",
   "nbconvert_exporter": "python",
   "pygments_lexer": "ipython3",
   "version": "3.11.0rc1"
  }
 },
 "nbformat": 4,
 "nbformat_minor": 2
}
