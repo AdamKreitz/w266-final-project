{
 "cells": [
  {
   "cell_type": "markdown",
   "metadata": {},
   "source": [
    "<hr/>\n",
    "\n",
    "# imports"
   ]
  },
  {
   "cell_type": "code",
   "execution_count": 1,
   "metadata": {},
   "outputs": [
    {
     "name": "stdout",
     "output_type": "stream",
     "text": [
      "Requirement already satisfied: imblearn in /usr/local/lib/python3.11/dist-packages (0.0)\n",
      "Requirement already satisfied: imbalanced-learn in /usr/local/lib/python3.11/dist-packages (from imblearn) (0.11.0)\n",
      "Requirement already satisfied: numpy>=1.17.3 in /usr/local/lib/python3.11/dist-packages (from imbalanced-learn->imblearn) (1.26.0)\n",
      "Requirement already satisfied: scipy>=1.5.0 in /usr/local/lib/python3.11/dist-packages (from imbalanced-learn->imblearn) (1.11.3)\n",
      "Requirement already satisfied: scikit-learn>=1.0.2 in /usr/local/lib/python3.11/dist-packages (from imbalanced-learn->imblearn) (1.3.2)\n",
      "Requirement already satisfied: joblib>=1.1.1 in /usr/local/lib/python3.11/dist-packages (from imbalanced-learn->imblearn) (1.3.2)\n",
      "Requirement already satisfied: threadpoolctl>=2.0.0 in /usr/local/lib/python3.11/dist-packages (from imbalanced-learn->imblearn) (3.2.0)\n",
      "\u001b[33mWARNING: Running pip as the 'root' user can result in broken permissions and conflicting behaviour with the system package manager. It is recommended to use a virtual environment instead: https://pip.pypa.io/warnings/venv\u001b[0m\u001b[33m\n",
      "\u001b[0m\n",
      "\u001b[1m[\u001b[0m\u001b[34;49mnotice\u001b[0m\u001b[1;39;49m]\u001b[0m\u001b[39;49m A new release of pip is available: \u001b[0m\u001b[31;49m23.2.1\u001b[0m\u001b[39;49m -> \u001b[0m\u001b[32;49m23.3.1\u001b[0m\n",
      "\u001b[1m[\u001b[0m\u001b[34;49mnotice\u001b[0m\u001b[1;39;49m]\u001b[0m\u001b[39;49m To update, run: \u001b[0m\u001b[32;49mpython3 -m pip install --upgrade pip\u001b[0m\n"
     ]
    }
   ],
   "source": [
    "!pip install imblearn"
   ]
  },
  {
   "cell_type": "code",
   "execution_count": 2,
   "metadata": {},
   "outputs": [],
   "source": [
    "import os\n",
    "os.environ['TF_CPP_MIN_LOG_LEVEL'] = '3' # mute tf warnings\n",
    "\n",
    "import pandas as pd\n",
    "import numpy as np\n",
    "import matplotlib.pyplot as plt\n",
    "import json\n",
    "import tensorflow as tf\n",
    "from tensorflow import keras\n",
    "from transformers import BertTokenizer, TFBertModel\n",
    "import math\n",
    "import sklearn\n",
    "import imblearn"
   ]
  },
  {
   "cell_type": "code",
   "execution_count": 3,
   "metadata": {},
   "outputs": [
    {
     "name": "stdout",
     "output_type": "stream",
     "text": [
      "Num GPUs Available:  1\n"
     ]
    }
   ],
   "source": [
    "print(\"Num GPUs Available: \", len(tf.config.list_physical_devices('GPU')))"
   ]
  },
  {
   "cell_type": "markdown",
   "metadata": {},
   "source": [
    "# Definitions"
   ]
  },
  {
   "cell_type": "code",
   "execution_count": 4,
   "metadata": {},
   "outputs": [],
   "source": [
    "def pipe(*funcs):\n",
    "    \"\"\"\n",
    "    Works similar to the semantics of a `pipe` in other programming languages.\n",
    "    Intended to make nested functions readable and easier to manipulate. It \n",
    "    will take the first item in the list and feed it as input to the next\n",
    "    function in the list, then it takes that output and feeds it as input to \n",
    "    the next function in the list, and so on until it reaches the last\n",
    "    function in the list and returns its output.\n",
    "\n",
    "    Example:\n",
    "        instead of this:\n",
    "            ```py\n",
    "            input_layer = Input(...)\n",
    "            embedding_layer = Embedding(...)(input_layer)\n",
    "            lstm_layer = LSTM(...)(embedding_layer)\n",
    "            hidden_layer = Dense(...)(lstm_layer)\n",
    "            output_layer = Dense(...)(hidden_layer)\n",
    "            ```\n",
    "        you can do this:\n",
    "            ```py\n",
    "            lstm_ouput = pipe(\n",
    "                Input(...),\n",
    "                Embedding(...),\n",
    "                LSTM(...),\n",
    "                Dense(...),\n",
    "                Dense(...)\n",
    "            )\n",
    "            ```\n",
    "    \"\"\"\n",
    "    out = funcs[0]\n",
    "    for func in funcs[1:]:\n",
    "        out = func(out)\n",
    "    return out"
   ]
  },
  {
   "cell_type": "code",
   "execution_count": 5,
   "metadata": {},
   "outputs": [],
   "source": [
    "def determine_name(row) -> str:\n",
    "    \"\"\"\n",
    "    Auxilary function used to determine the label for each given row.\n",
    "    \"\"\"\n",
    "    if row['sender_labels'] and row['receiver_labels']:\n",
    "        return 'straightforward'\n",
    "    elif not row['sender_labels'] and row['receiver_labels']:\n",
    "        return 'deceive'\n",
    "    elif row['sender_labels'] and not row['receiver_labels']:\n",
    "        return 'cassandra'\n",
    "    elif not row['sender_labels'] and not row['receiver_labels']:\n",
    "        return 'caught'\n",
    "    else:\n",
    "        return None"
   ]
  },
  {
   "cell_type": "code",
   "execution_count": 6,
   "metadata": {},
   "outputs": [],
   "source": [
    "def parse_jsonl(path: str) -> pd.DataFrame:\n",
    "    \"\"\"\n",
    "    Load the given jsonl file and parse each conversation into a readable pandas\n",
    "    data frame, where each row is a message. Additional data that is used later\n",
    "    is also added to the created dataframe for consistency accross all loaded\n",
    "    data.\n",
    "\n",
    "    Args:\n",
    "        path: str\n",
    "            the path to the jsonl file to load and parse\n",
    "    \n",
    "    Returns: pd.DataFrame\n",
    "        A parsed data frame where each row is a message.\n",
    "    \"\"\"\n",
    "    data = {}\n",
    "    with open(path, 'r') as f:\n",
    "        for (i, line) in enumerate(f):\n",
    "            line = json.loads(line)\n",
    "            line[\"conversation_id\"] = [i] * len(line[\"messages\"])\n",
    "            line['previous_message'] = ([\"\"] if len(line['messages']) > 0 else []) + line[\"messages\"][:-1]\n",
    "            for k in line.keys():\n",
    "                if k == \"players\":\n",
    "                    continue\n",
    "                if k == \"game_id\":\n",
    "                    line[k] = [line[k]] * len(line[\"messages\"])\n",
    "                data[k] = data.get(k, []) + line[k]\n",
    "    data = pd.DataFrame(data)\n",
    "    data['label'] = data.apply(determine_name, axis=1)\n",
    "    data['sender_labels_encoded'] = data['sender_labels'].astype(str).apply(lambda x: [\"True\", \"False\", \"NOANNOTATION\"].index(x))\n",
    "    data['receiver_labels_encoded'] = data['receiver_labels'].astype(str).apply(lambda x: [\"True\", \"False\", \"NOANNOTATION\"].index(x))\n",
    "    data[\"game_score_delta\"] = data['game_score_delta'].astype(float)\n",
    "    return data"
   ]
  },
  {
   "cell_type": "code",
   "execution_count": 39,
   "metadata": {},
   "outputs": [],
   "source": [
    "def EvaluateModel(model: tf.keras.Sequential, test_ds: tf.data.Dataset, test_target: pd.DataFrame, history: tf.keras.callbacks.History, skip_evaluation: bool = False) -> None:\n",
    "    \"\"\"\n",
    "    Take the model and plot the training accuracy and validation accuracy. Also,\n",
    "    Perform a evaluation on the test data, print the loss and accuracy, and print\n",
    "    the test metric scores.\n",
    "\n",
    "    Args:\n",
    "        model: tf.keras.Sequential\n",
    "            the model to test\n",
    "        test_ds: tf.data.Dataset\n",
    "            the test dataset to evaluate the model with\n",
    "        test_target: pd.DataFrame\n",
    "            the test data frame list with the target labels\n",
    "        history: tf.keras.callbacks.History\n",
    "            the history from fitting the model\n",
    "        label_encoder:\n",
    "            the label encoder used for the target labels\n",
    "    \"\"\"\n",
    "\n",
    "    print(f\"{'='*10} Model Accuracy {'='*10}\")\n",
    "    plt.plot(history.history['sender_output_accuracy'], label='sender_output_accuracy', color=\"tan\")\n",
    "    plt.plot(history.history['val_sender_output_accuracy'], label = 'val_sender_output_accuracy', color=\"darkorange\")\n",
    "    plt.plot(history.history['receiver_output_accuracy'], label='receiver_output_accuracy', color=\"cornflowerblue\")\n",
    "    plt.plot(history.history['val_receiver_output_accuracy'], label = 'val_receiver_output_accuracy', color=\"darkblue\")\n",
    "    plt.xlabel('Epoch')\n",
    "    plt.ylabel('Accuracy')\n",
    "    plt.ylim([0.5, 1])\n",
    "    plt.legend(loc='lower right')\n",
    "    plt.show()\n",
    "\n",
    "    if not skip_evaluation:\n",
    "        print(f\"{'='*10} Test Evaluation {'='*10}\")\n",
    "        model.evaluate(test_ds, test_target, verbose=2)\n",
    "        # print(f\"Test loss: {test_loss} | Test accuracy: {test_acc}\")\n",
    "        print()\n",
    "\n",
    "    print(f\"{'='*10} Test Metrics {'='*10}\")\n",
    "    y_pred = model.predict(test_ds)\n",
    "    print(f\"{'-'*10} Sender Labels {'-'*10}\")\n",
    "    print(sklearn.metrics.classification_report(test_target[0], np.argmax(y_pred[0], axis=1), target_names=[\"True\", \"False\"], zero_division=0))\n",
    "    print(f\"{'-'*10} Receiver Labels {'-'*10}\")\n",
    "    print(sklearn.metrics.classification_report(test_target[1], np.argmax(y_pred[1], axis=1), target_names=[\"True\", \"False\"], zero_division=0))"
   ]
  },
  {
   "cell_type": "code",
   "execution_count": 8,
   "metadata": {},
   "outputs": [],
   "source": [
    "def Tokenize(tokenizer, df: pd.DataFrame, sequence_len: int = 300) -> tuple:\n",
    "    \"\"\"\n",
    "    Makes a consistant return of tokenized and padded messages and previous messages.\n",
    "    \"\"\"\n",
    "    encoded_msg = tokenizer.texts_to_sequences(df['messages'])\n",
    "    encoded_prev_msg = tokenizer.texts_to_sequences(df['previous_message'])\n",
    "    return keras.preprocessing.sequence.pad_sequences(encoded_msg, sequence_len), keras.preprocessing.sequence.pad_sequences(encoded_prev_msg, sequence_len)"
   ]
  },
  {
   "cell_type": "markdown",
   "metadata": {},
   "source": [
    "<hr/>\n",
    "\n",
    "# data explortion"
   ]
  },
  {
   "cell_type": "code",
   "execution_count": 9,
   "metadata": {},
   "outputs": [
    {
     "data": {
      "text/html": [
       "<div>\n",
       "<style scoped>\n",
       "    .dataframe tbody tr th:only-of-type {\n",
       "        vertical-align: middle;\n",
       "    }\n",
       "\n",
       "    .dataframe tbody tr th {\n",
       "        vertical-align: top;\n",
       "    }\n",
       "\n",
       "    .dataframe thead th {\n",
       "        text-align: right;\n",
       "    }\n",
       "</style>\n",
       "<table border=\"1\" class=\"dataframe\">\n",
       "  <thead>\n",
       "    <tr style=\"text-align: right;\">\n",
       "      <th></th>\n",
       "      <th>messages</th>\n",
       "      <th>sender_labels</th>\n",
       "      <th>receiver_labels</th>\n",
       "      <th>speakers</th>\n",
       "      <th>receivers</th>\n",
       "      <th>absolute_message_index</th>\n",
       "      <th>relative_message_index</th>\n",
       "      <th>seasons</th>\n",
       "      <th>years</th>\n",
       "      <th>game_score</th>\n",
       "      <th>game_score_delta</th>\n",
       "      <th>players</th>\n",
       "      <th>game_id</th>\n",
       "    </tr>\n",
       "  </thead>\n",
       "  <tbody>\n",
       "    <tr>\n",
       "      <th>0</th>\n",
       "      <td>[Germany!\\n\\nJust the person I want to speak w...</td>\n",
       "      <td>[True, True, True, True, True, True, True, Tru...</td>\n",
       "      <td>[True, True, True, True, NOANNOTATION, NOANNOT...</td>\n",
       "      <td>[italy, germany, italy, germany, italy, italy,...</td>\n",
       "      <td>[germany, italy, germany, italy, germany, germ...</td>\n",
       "      <td>[74, 76, 86, 87, 89, 92, 97, 117, 119, 121, 12...</td>\n",
       "      <td>[0, 1, 2, 3, 4, 5, 6, 7, 8, 9, 10, 11, 12, 13,...</td>\n",
       "      <td>[Spring, Spring, Spring, Spring, Spring, Sprin...</td>\n",
       "      <td>[1901, 1901, 1901, 1901, 1901, 1901, 1901, 190...</td>\n",
       "      <td>[3, 3, 3, 3, 3, 3, 3, 3, 3, 3, 3, 3, 3, 3, 3, ...</td>\n",
       "      <td>[0, 0, 0, 0, 0, 0, 0, 0, 0, 0, 0, 0, 0, 0, 0, ...</td>\n",
       "      <td>[italy, germany]</td>\n",
       "      <td>1</td>\n",
       "    </tr>\n",
       "    <tr>\n",
       "      <th>1</th>\n",
       "      <td>[Hello there! What's your general plan for thi...</td>\n",
       "      <td>[True, False, True, False, True, True, True, T...</td>\n",
       "      <td>[True, True, True, True, True, NOANNOTATION, T...</td>\n",
       "      <td>[austria, italy, austria, italy, italy, austri...</td>\n",
       "      <td>[italy, austria, italy, austria, austria, ital...</td>\n",
       "      <td>[1, 67, 71, 73, 98, 99, 101, 179, 181, 185, 18...</td>\n",
       "      <td>[0, 1, 2, 3, 4, 5, 6, 7, 8, 9, 10, 11, 12, 13,...</td>\n",
       "      <td>[Spring, Spring, Spring, Spring, Spring, Sprin...</td>\n",
       "      <td>[1901, 1901, 1901, 1901, 1901, 1901, 1901, 190...</td>\n",
       "      <td>[3, 3, 3, 3, 3, 3, 3, 3, 3, 3, 3, 4, 5, 4, 4, ...</td>\n",
       "      <td>[0, 0, 0, 0, 0, 0, 0, 0, 0, 0, 0, -1, 1, -1, -...</td>\n",
       "      <td>[italy, austria]</td>\n",
       "      <td>1</td>\n",
       "    </tr>\n",
       "    <tr>\n",
       "      <th>2</th>\n",
       "      <td>[Buongiorno! \\nBe kinda nice to know if you're...</td>\n",
       "      <td>[True, True, False, True, True, True, True, Tr...</td>\n",
       "      <td>[True, False, True, False, True, True, NOANNOT...</td>\n",
       "      <td>[russia, italy, russia, italy, russia, italy, ...</td>\n",
       "      <td>[italy, russia, italy, russia, italy, russia, ...</td>\n",
       "      <td>[11, 50, 52, 57, 61, 66, 77, 85, 96, 102, 116,...</td>\n",
       "      <td>[0, 1, 2, 3, 4, 5, 6, 7, 8, 9, 10, 11, 12, 13,...</td>\n",
       "      <td>[Spring, Spring, Spring, Spring, Spring, Sprin...</td>\n",
       "      <td>[1901, 1901, 1901, 1901, 1901, 1901, 1901, 190...</td>\n",
       "      <td>[4, 3, 4, 3, 4, 3, 4, 3, 3, 3, 4, 3, 3, 4, 4, ...</td>\n",
       "      <td>[1, -1, 1, -1, 1, -1, 1, -1, -1, -1, 1, -1, -1...</td>\n",
       "      <td>[italy, russia]</td>\n",
       "      <td>1</td>\n",
       "    </tr>\n",
       "    <tr>\n",
       "      <th>3</th>\n",
       "      <td>[Hey italy! good luck this game. I'm guessing ...</td>\n",
       "      <td>[True, False, True, True, True, True, True, Tr...</td>\n",
       "      <td>[NOANNOTATION, True, True, False, True, True, ...</td>\n",
       "      <td>[england, italy, england, england, england, it...</td>\n",
       "      <td>[italy, england, italy, italy, italy, england,...</td>\n",
       "      <td>[32, 95, 106, 107, 108, 110, 113, 125, 126, 12...</td>\n",
       "      <td>[0, 1, 2, 3, 4, 5, 6, 7, 8, 9, 10, 11, 12, 13,...</td>\n",
       "      <td>[Spring, Spring, Spring, Spring, Spring, Sprin...</td>\n",
       "      <td>[1901, 1901, 1901, 1901, 1901, 1901, 1901, 190...</td>\n",
       "      <td>[3, 3, 3, 3, 3, 3, 3, 3, 3, 3, 3, 3, 3, 3, 4, ...</td>\n",
       "      <td>[0, 0, 0, 0, 0, 0, 0, 0, 0, 0, 0, 0, 0, 0, 0, ...</td>\n",
       "      <td>[italy, england]</td>\n",
       "      <td>1</td>\n",
       "    </tr>\n",
       "    <tr>\n",
       "      <th>4</th>\n",
       "      <td>[Hello Italy what’s up what are your thoughts ...</td>\n",
       "      <td>[True, False, False, True, True, True, True, T...</td>\n",
       "      <td>[NOANNOTATION, True, True, True, True, True, N...</td>\n",
       "      <td>[turkey, italy, italy, italy, turkey, italy, t...</td>\n",
       "      <td>[italy, turkey, turkey, turkey, italy, turkey,...</td>\n",
       "      <td>[45, 94, 103, 150, 154, 178, 192, 194, 195, 19...</td>\n",
       "      <td>[0, 1, 2, 3, 4, 5, 6, 7, 8, 9, 10, 11, 12, 13,...</td>\n",
       "      <td>[Spring, Spring, Spring, Spring, Fall, Fall, F...</td>\n",
       "      <td>[1901, 1901, 1901, 1901, 1901, 1901, 1901, 190...</td>\n",
       "      <td>[3, 3, 3, 3, 3, 3, 3, 3, 3, 3, 3, 3, 4, 4, 5, ...</td>\n",
       "      <td>[0, 0, 0, 0, 0, 0, 0, 0, 0, 0, 0, 0, -1, -1, 1...</td>\n",
       "      <td>[italy, turkey]</td>\n",
       "      <td>1</td>\n",
       "    </tr>\n",
       "  </tbody>\n",
       "</table>\n",
       "</div>"
      ],
      "text/plain": [
       "                                            messages  \\\n",
       "0  [Germany!\\n\\nJust the person I want to speak w...   \n",
       "1  [Hello there! What's your general plan for thi...   \n",
       "2  [Buongiorno! \\nBe kinda nice to know if you're...   \n",
       "3  [Hey italy! good luck this game. I'm guessing ...   \n",
       "4  [Hello Italy what’s up what are your thoughts ...   \n",
       "\n",
       "                                       sender_labels  \\\n",
       "0  [True, True, True, True, True, True, True, Tru...   \n",
       "1  [True, False, True, False, True, True, True, T...   \n",
       "2  [True, True, False, True, True, True, True, Tr...   \n",
       "3  [True, False, True, True, True, True, True, Tr...   \n",
       "4  [True, False, False, True, True, True, True, T...   \n",
       "\n",
       "                                     receiver_labels  \\\n",
       "0  [True, True, True, True, NOANNOTATION, NOANNOT...   \n",
       "1  [True, True, True, True, True, NOANNOTATION, T...   \n",
       "2  [True, False, True, False, True, True, NOANNOT...   \n",
       "3  [NOANNOTATION, True, True, False, True, True, ...   \n",
       "4  [NOANNOTATION, True, True, True, True, True, N...   \n",
       "\n",
       "                                            speakers  \\\n",
       "0  [italy, germany, italy, germany, italy, italy,...   \n",
       "1  [austria, italy, austria, italy, italy, austri...   \n",
       "2  [russia, italy, russia, italy, russia, italy, ...   \n",
       "3  [england, italy, england, england, england, it...   \n",
       "4  [turkey, italy, italy, italy, turkey, italy, t...   \n",
       "\n",
       "                                           receivers  \\\n",
       "0  [germany, italy, germany, italy, germany, germ...   \n",
       "1  [italy, austria, italy, austria, austria, ital...   \n",
       "2  [italy, russia, italy, russia, italy, russia, ...   \n",
       "3  [italy, england, italy, italy, italy, england,...   \n",
       "4  [italy, turkey, turkey, turkey, italy, turkey,...   \n",
       "\n",
       "                              absolute_message_index  \\\n",
       "0  [74, 76, 86, 87, 89, 92, 97, 117, 119, 121, 12...   \n",
       "1  [1, 67, 71, 73, 98, 99, 101, 179, 181, 185, 18...   \n",
       "2  [11, 50, 52, 57, 61, 66, 77, 85, 96, 102, 116,...   \n",
       "3  [32, 95, 106, 107, 108, 110, 113, 125, 126, 12...   \n",
       "4  [45, 94, 103, 150, 154, 178, 192, 194, 195, 19...   \n",
       "\n",
       "                              relative_message_index  \\\n",
       "0  [0, 1, 2, 3, 4, 5, 6, 7, 8, 9, 10, 11, 12, 13,...   \n",
       "1  [0, 1, 2, 3, 4, 5, 6, 7, 8, 9, 10, 11, 12, 13,...   \n",
       "2  [0, 1, 2, 3, 4, 5, 6, 7, 8, 9, 10, 11, 12, 13,...   \n",
       "3  [0, 1, 2, 3, 4, 5, 6, 7, 8, 9, 10, 11, 12, 13,...   \n",
       "4  [0, 1, 2, 3, 4, 5, 6, 7, 8, 9, 10, 11, 12, 13,...   \n",
       "\n",
       "                                             seasons  \\\n",
       "0  [Spring, Spring, Spring, Spring, Spring, Sprin...   \n",
       "1  [Spring, Spring, Spring, Spring, Spring, Sprin...   \n",
       "2  [Spring, Spring, Spring, Spring, Spring, Sprin...   \n",
       "3  [Spring, Spring, Spring, Spring, Spring, Sprin...   \n",
       "4  [Spring, Spring, Spring, Spring, Fall, Fall, F...   \n",
       "\n",
       "                                               years  \\\n",
       "0  [1901, 1901, 1901, 1901, 1901, 1901, 1901, 190...   \n",
       "1  [1901, 1901, 1901, 1901, 1901, 1901, 1901, 190...   \n",
       "2  [1901, 1901, 1901, 1901, 1901, 1901, 1901, 190...   \n",
       "3  [1901, 1901, 1901, 1901, 1901, 1901, 1901, 190...   \n",
       "4  [1901, 1901, 1901, 1901, 1901, 1901, 1901, 190...   \n",
       "\n",
       "                                          game_score  \\\n",
       "0  [3, 3, 3, 3, 3, 3, 3, 3, 3, 3, 3, 3, 3, 3, 3, ...   \n",
       "1  [3, 3, 3, 3, 3, 3, 3, 3, 3, 3, 3, 4, 5, 4, 4, ...   \n",
       "2  [4, 3, 4, 3, 4, 3, 4, 3, 3, 3, 4, 3, 3, 4, 4, ...   \n",
       "3  [3, 3, 3, 3, 3, 3, 3, 3, 3, 3, 3, 3, 3, 3, 4, ...   \n",
       "4  [3, 3, 3, 3, 3, 3, 3, 3, 3, 3, 3, 3, 4, 4, 5, ...   \n",
       "\n",
       "                                    game_score_delta           players  \\\n",
       "0  [0, 0, 0, 0, 0, 0, 0, 0, 0, 0, 0, 0, 0, 0, 0, ...  [italy, germany]   \n",
       "1  [0, 0, 0, 0, 0, 0, 0, 0, 0, 0, 0, -1, 1, -1, -...  [italy, austria]   \n",
       "2  [1, -1, 1, -1, 1, -1, 1, -1, -1, -1, 1, -1, -1...   [italy, russia]   \n",
       "3  [0, 0, 0, 0, 0, 0, 0, 0, 0, 0, 0, 0, 0, 0, 0, ...  [italy, england]   \n",
       "4  [0, 0, 0, 0, 0, 0, 0, 0, 0, 0, 0, 0, -1, -1, 1...   [italy, turkey]   \n",
       "\n",
       "   game_id  \n",
       "0        1  \n",
       "1        1  \n",
       "2        1  \n",
       "3        1  \n",
       "4        1  "
      ]
     },
     "execution_count": 9,
     "metadata": {},
     "output_type": "execute_result"
    }
   ],
   "source": [
    "train_df = pd.read_json(\"./data/train.jsonl\", lines=True)\n",
    "train_df.head()"
   ]
  },
  {
   "cell_type": "markdown",
   "metadata": {},
   "source": [
    "just a raw load of the data we can see it is unformated and needs to be parsed a little to better satisfy the pandas format."
   ]
  },
  {
   "cell_type": "code",
   "execution_count": 10,
   "metadata": {},
   "outputs": [],
   "source": [
    "train_df = (parse_jsonl(\"./data/train.jsonl\"))\n",
    "test_df = (parse_jsonl(\"./data/test.jsonl\"))\n",
    "validation_df = (parse_jsonl(\"./data/validation.jsonl\"))"
   ]
  },
  {
   "cell_type": "code",
   "execution_count": 11,
   "metadata": {},
   "outputs": [
    {
     "data": {
      "text/html": [
       "<div>\n",
       "<style scoped>\n",
       "    .dataframe tbody tr th:only-of-type {\n",
       "        vertical-align: middle;\n",
       "    }\n",
       "\n",
       "    .dataframe tbody tr th {\n",
       "        vertical-align: top;\n",
       "    }\n",
       "\n",
       "    .dataframe thead th {\n",
       "        text-align: right;\n",
       "    }\n",
       "</style>\n",
       "<table border=\"1\" class=\"dataframe\">\n",
       "  <thead>\n",
       "    <tr style=\"text-align: right;\">\n",
       "      <th></th>\n",
       "      <th>messages</th>\n",
       "      <th>sender_labels</th>\n",
       "      <th>receiver_labels</th>\n",
       "      <th>speakers</th>\n",
       "      <th>receivers</th>\n",
       "      <th>absolute_message_index</th>\n",
       "      <th>relative_message_index</th>\n",
       "      <th>seasons</th>\n",
       "      <th>years</th>\n",
       "      <th>game_score</th>\n",
       "      <th>game_score_delta</th>\n",
       "      <th>game_id</th>\n",
       "      <th>conversation_id</th>\n",
       "      <th>previous_message</th>\n",
       "      <th>label</th>\n",
       "      <th>sender_labels_encoded</th>\n",
       "      <th>receiver_labels_encoded</th>\n",
       "    </tr>\n",
       "  </thead>\n",
       "  <tbody>\n",
       "    <tr>\n",
       "      <th>0</th>\n",
       "      <td>Germany!\\n\\nJust the person I want to speak wi...</td>\n",
       "      <td>True</td>\n",
       "      <td>True</td>\n",
       "      <td>italy</td>\n",
       "      <td>germany</td>\n",
       "      <td>74</td>\n",
       "      <td>0</td>\n",
       "      <td>Spring</td>\n",
       "      <td>1901</td>\n",
       "      <td>3</td>\n",
       "      <td>0.0</td>\n",
       "      <td>1</td>\n",
       "      <td>0</td>\n",
       "      <td></td>\n",
       "      <td>straightforward</td>\n",
       "      <td>0</td>\n",
       "      <td>0</td>\n",
       "    </tr>\n",
       "    <tr>\n",
       "      <th>1</th>\n",
       "      <td>You've whet my appetite, Italy. What's the sug...</td>\n",
       "      <td>True</td>\n",
       "      <td>True</td>\n",
       "      <td>germany</td>\n",
       "      <td>italy</td>\n",
       "      <td>76</td>\n",
       "      <td>1</td>\n",
       "      <td>Spring</td>\n",
       "      <td>1901</td>\n",
       "      <td>3</td>\n",
       "      <td>0.0</td>\n",
       "      <td>1</td>\n",
       "      <td>0</td>\n",
       "      <td>Germany!\\n\\nJust the person I want to speak wi...</td>\n",
       "      <td>straightforward</td>\n",
       "      <td>0</td>\n",
       "      <td>0</td>\n",
       "    </tr>\n",
       "    <tr>\n",
       "      <th>2</th>\n",
       "      <td>👍</td>\n",
       "      <td>True</td>\n",
       "      <td>True</td>\n",
       "      <td>italy</td>\n",
       "      <td>germany</td>\n",
       "      <td>86</td>\n",
       "      <td>2</td>\n",
       "      <td>Spring</td>\n",
       "      <td>1901</td>\n",
       "      <td>3</td>\n",
       "      <td>0.0</td>\n",
       "      <td>1</td>\n",
       "      <td>0</td>\n",
       "      <td>You've whet my appetite, Italy. What's the sug...</td>\n",
       "      <td>straightforward</td>\n",
       "      <td>0</td>\n",
       "      <td>0</td>\n",
       "    </tr>\n",
       "    <tr>\n",
       "      <th>3</th>\n",
       "      <td>It seems like there are a lot of ways that cou...</td>\n",
       "      <td>True</td>\n",
       "      <td>True</td>\n",
       "      <td>germany</td>\n",
       "      <td>italy</td>\n",
       "      <td>87</td>\n",
       "      <td>3</td>\n",
       "      <td>Spring</td>\n",
       "      <td>1901</td>\n",
       "      <td>3</td>\n",
       "      <td>0.0</td>\n",
       "      <td>1</td>\n",
       "      <td>0</td>\n",
       "      <td>👍</td>\n",
       "      <td>straightforward</td>\n",
       "      <td>0</td>\n",
       "      <td>0</td>\n",
       "    </tr>\n",
       "    <tr>\n",
       "      <th>4</th>\n",
       "      <td>Yeah, I can’t say I’ve tried it and it works, ...</td>\n",
       "      <td>True</td>\n",
       "      <td>NOANNOTATION</td>\n",
       "      <td>italy</td>\n",
       "      <td>germany</td>\n",
       "      <td>89</td>\n",
       "      <td>4</td>\n",
       "      <td>Spring</td>\n",
       "      <td>1901</td>\n",
       "      <td>3</td>\n",
       "      <td>0.0</td>\n",
       "      <td>1</td>\n",
       "      <td>0</td>\n",
       "      <td>It seems like there are a lot of ways that cou...</td>\n",
       "      <td>straightforward</td>\n",
       "      <td>0</td>\n",
       "      <td>2</td>\n",
       "    </tr>\n",
       "  </tbody>\n",
       "</table>\n",
       "</div>"
      ],
      "text/plain": [
       "                                            messages  sender_labels  \\\n",
       "0  Germany!\\n\\nJust the person I want to speak wi...           True   \n",
       "1  You've whet my appetite, Italy. What's the sug...           True   \n",
       "2                                                  👍           True   \n",
       "3  It seems like there are a lot of ways that cou...           True   \n",
       "4  Yeah, I can’t say I’ve tried it and it works, ...           True   \n",
       "\n",
       "  receiver_labels speakers receivers  absolute_message_index  \\\n",
       "0            True    italy   germany                      74   \n",
       "1            True  germany     italy                      76   \n",
       "2            True    italy   germany                      86   \n",
       "3            True  germany     italy                      87   \n",
       "4    NOANNOTATION    italy   germany                      89   \n",
       "\n",
       "   relative_message_index seasons years game_score  game_score_delta  game_id  \\\n",
       "0                       0  Spring  1901          3               0.0        1   \n",
       "1                       1  Spring  1901          3               0.0        1   \n",
       "2                       2  Spring  1901          3               0.0        1   \n",
       "3                       3  Spring  1901          3               0.0        1   \n",
       "4                       4  Spring  1901          3               0.0        1   \n",
       "\n",
       "   conversation_id                                   previous_message  \\\n",
       "0                0                                                      \n",
       "1                0  Germany!\\n\\nJust the person I want to speak wi...   \n",
       "2                0  You've whet my appetite, Italy. What's the sug...   \n",
       "3                0                                                  👍   \n",
       "4                0  It seems like there are a lot of ways that cou...   \n",
       "\n",
       "             label  sender_labels_encoded  receiver_labels_encoded  \n",
       "0  straightforward                      0                        0  \n",
       "1  straightforward                      0                        0  \n",
       "2  straightforward                      0                        0  \n",
       "3  straightforward                      0                        0  \n",
       "4  straightforward                      0                        2  "
      ]
     },
     "execution_count": 11,
     "metadata": {},
     "output_type": "execute_result"
    }
   ],
   "source": [
    "train_df.head()"
   ]
  },
  {
   "cell_type": "markdown",
   "metadata": {},
   "source": [
    "# NONANNOTATION"
   ]
  },
  {
   "cell_type": "markdown",
   "metadata": {},
   "source": [
    "We can see that there are some `receiver_labels` that have the value `NOANNOTATION`. this is not a bool value "
   ]
  },
  {
   "cell_type": "code",
   "execution_count": 12,
   "metadata": {},
   "outputs": [
    {
     "data": {
      "text/plain": [
       "8.43"
      ]
     },
     "execution_count": 12,
     "metadata": {},
     "output_type": "execute_result"
    }
   ],
   "source": [
    "round(len(train_df[train_df[\"receiver_labels\"] == \"NOANNOTATION\"].index) /  len(train_df.index), 4) * 100"
   ]
  },
  {
   "cell_type": "markdown",
   "metadata": {},
   "source": [
    "I think we can ignore this for now since the main columns i think we will be using are `messages` and `sender_labels`\n",
    "\n",
    "If we do need it in the future, we can omit it only losing 8.43% of the rows."
   ]
  },
  {
   "cell_type": "code",
   "execution_count": 13,
   "metadata": {},
   "outputs": [],
   "source": [
    "train_df = train_df[train_df[\"receiver_labels\"] != \"NOANNOTATION\"]"
   ]
  },
  {
   "cell_type": "code",
   "execution_count": 14,
   "metadata": {},
   "outputs": [
    {
     "data": {
      "text/plain": [
       "0.0"
      ]
     },
     "execution_count": 14,
     "metadata": {},
     "output_type": "execute_result"
    }
   ],
   "source": [
    "round(len(train_df[train_df[\"receiver_labels\"] == \"NOANNOTATION\"].index) /  len(train_df.index), 4) * 100"
   ]
  },
  {
   "cell_type": "markdown",
   "metadata": {},
   "source": [
    "# Unique Words"
   ]
  },
  {
   "cell_type": "code",
   "execution_count": 15,
   "metadata": {},
   "outputs": [
    {
     "name": "stdout",
     "output_type": "stream",
     "text": [
      "germany!: 11\n",
      "just: 1146\n",
      "the: 6037\n",
      "person: 28\n",
      "i: 8250\n",
      "want: 779\n",
      "to: 10653\n",
      "speak: 17\n",
      "with.: 34\n",
      "have: 1944\n",
      "a: 4399\n",
      "somewhat: 15\n",
      "crazy: 15\n",
      "idea: 89\n",
      "that: 3414\n",
      "i’ve: 139\n",
      "always: 75\n",
      "wanted: 136\n",
      "try: 284\n",
      "with: 2364\n",
      "i/g,: 1\n",
      "but: 2086\n",
      "never: 96\n",
      "actually: 195\n",
      "convinced: 11\n",
      "other: 271\n",
      "guy: 29\n",
      "it.: 244\n",
      "and,: 34\n",
      "what’s: 73\n",
      "worse,: 3\n"
     ]
    }
   ],
   "source": [
    "sequence_list = list(train_df['messages'].astype(str).str.lower().str.split().to_numpy())\n",
    "unique_words = {}\n",
    "for sequence in sequence_list:\n",
    "    for word in sequence:\n",
    "        unique_words[word] = unique_words.get(word, 0) + 1\n",
    "    # sequence_list = sequence_list + ([\"<PAD>\"] )\n",
    "\n",
    "for (i,(k,v)) in enumerate(unique_words.items()):\n",
    "    if i > 30:\n",
    "        break\n",
    "    print(f\"{k}: {v}\")"
   ]
  },
  {
   "cell_type": "code",
   "execution_count": 16,
   "metadata": {},
   "outputs": [
    {
     "data": {
      "text/plain": [
       "14991"
      ]
     },
     "execution_count": 16,
     "metadata": {},
     "output_type": "execute_result"
    }
   ],
   "source": [
    "len(unique_words)"
   ]
  },
  {
   "cell_type": "markdown",
   "metadata": {},
   "source": [
    "<!-- I processed only what is considered a **word** to the regex `\\w+`. this means that any punctuation is omitted. -->\n",
    "\n",
    "After processing, we have a total of 15,657 words.\n",
    "\n",
    "Some things to note are\n",
    "- there are some arbitrary number included\n",
    "- some words are repeated because of long character exaggeration (for example, \"aaaaaalllllllllll\" instead of \"all\" or \"aaaaany\" instead of \"any\")\n",
    "- some words are repeated because of misspellings and typos"
   ]
  },
  {
   "cell_type": "code",
   "execution_count": 17,
   "metadata": {},
   "outputs": [
    {
     "data": {
      "image/png": "[encoded data removed]",
      "text/plain": [
       "<Figure size 640x480 with 1 Axes>"
      ]
     },
     "metadata": {},
     "output_type": "display_data"
    }
   ],
   "source": [
    "plt.hist(list(map(len, sequence_list)),bins=100)\n",
    "plt.show()"
   ]
  },
  {
   "cell_type": "code",
   "execution_count": 18,
   "metadata": {},
   "outputs": [
    {
     "data": {
      "text/html": [
       "<div>\n",
       "<style scoped>\n",
       "    .dataframe tbody tr th:only-of-type {\n",
       "        vertical-align: middle;\n",
       "    }\n",
       "\n",
       "    .dataframe tbody tr th {\n",
       "        vertical-align: top;\n",
       "    }\n",
       "\n",
       "    .dataframe thead th {\n",
       "        text-align: right;\n",
       "    }\n",
       "</style>\n",
       "<table border=\"1\" class=\"dataframe\">\n",
       "  <thead>\n",
       "    <tr style=\"text-align: right;\">\n",
       "      <th></th>\n",
       "      <th></th>\n",
       "      <th>value</th>\n",
       "    </tr>\n",
       "  </thead>\n",
       "  <tbody>\n",
       "    <tr>\n",
       "      <th>0</th>\n",
       "      <td>Message count</td>\n",
       "      <td>12025</td>\n",
       "    </tr>\n",
       "    <tr>\n",
       "      <th>1</th>\n",
       "      <td>Average words per message</td>\n",
       "      <td>20</td>\n",
       "    </tr>\n",
       "    <tr>\n",
       "      <th>2</th>\n",
       "      <td>Unique word count</td>\n",
       "      <td>14991</td>\n",
       "    </tr>\n",
       "    <tr>\n",
       "      <th>3</th>\n",
       "      <td>Actual Lie count</td>\n",
       "      <td>545</td>\n",
       "    </tr>\n",
       "    <tr>\n",
       "      <th>4</th>\n",
       "      <td>Actual Truth count</td>\n",
       "      <td>11480</td>\n",
       "    </tr>\n",
       "  </tbody>\n",
       "</table>\n",
       "</div>"
      ],
      "text/plain": [
       "                              value\n",
       "0              Message count  12025\n",
       "1  Average words per message     20\n",
       "2          Unique word count  14991\n",
       "3           Actual Lie count    545\n",
       "4         Actual Truth count  11480"
      ]
     },
     "execution_count": 18,
     "metadata": {},
     "output_type": "execute_result"
    }
   ],
   "source": [
    "summary = {\n",
    "    \"\": [\n",
    "        'Message count',\n",
    "        'Average words per message',\n",
    "        'Unique word count',\n",
    "        'Actual Lie count',\n",
    "        'Actual Truth count'\n",
    "    ],\n",
    "    \"value\": [\n",
    "        len(train_df.index),\n",
    "        math.floor(sum(map(len, sequence_list)) / len(sequence_list)),\n",
    "        len(unique_words),\n",
    "        (~train_df['sender_labels']).sum(),\n",
    "        (train_df['sender_labels']).sum()\n",
    "    ],\n",
    "}\n",
    "pd.DataFrame(summary)"
   ]
  },
  {
   "cell_type": "markdown",
   "metadata": {},
   "source": [
    "# Label count"
   ]
  },
  {
   "cell_type": "code",
   "execution_count": 19,
   "metadata": {},
   "outputs": [
    {
     "data": {
      "text/plain": [
       "label\n",
       "straightforward    10979\n",
       "cassandra            501\n",
       "deceive              480\n",
       "caught                65\n",
       "Name: count, dtype: int64"
      ]
     },
     "execution_count": 19,
     "metadata": {},
     "output_type": "execute_result"
    }
   ],
   "source": [
    "train_df['label'].value_counts()"
   ]
  },
  {
   "cell_type": "code",
   "execution_count": 20,
   "metadata": {},
   "outputs": [
    {
     "data": {
      "image/png": "[encoded data removed]",
      "text/plain": [
       "<Figure size 640x480 with 1 Axes>"
      ]
     },
     "metadata": {},
     "output_type": "display_data"
    }
   ],
   "source": [
    "train_df['label'].value_counts().plot.bar()\n",
    "plt.show()"
   ]
  },
  {
   "cell_type": "code",
   "execution_count": 21,
   "metadata": {},
   "outputs": [
    {
     "data": {
      "text/plain": [
       "label\n",
       "straightforward    0.913015\n",
       "cassandra          0.041663\n",
       "deceive            0.039917\n",
       "caught             0.005405\n",
       "Name: proportion, dtype: float64"
      ]
     },
     "execution_count": 21,
     "metadata": {},
     "output_type": "execute_result"
    }
   ],
   "source": [
    "train_df['label'].value_counts(normalize=True)"
   ]
  },
  {
   "cell_type": "markdown",
   "metadata": {},
   "source": [
    "<hr/>\n",
    "\n",
    "# Constants"
   ]
  },
  {
   "cell_type": "code",
   "execution_count": 22,
   "metadata": {},
   "outputs": [],
   "source": [
    "MAX_SEQUENCE_LEN = max(map(len,sequence_list))\n",
    "VOCAB_SIZE = 5000 # len(unique_words)\n",
    "EMBEDDING_OUTPUT_SIZE = 124\n",
    "LSTM_SIZE = 64\n",
    "DROPOUT_RATE = 0.2\n",
    "HIDDEN_LAYER_SIZE = 64\n",
    "LEARNING_RATE = 0.001\n",
    "\n",
    "tokenizer = keras.preprocessing.text.Tokenizer(num_words=VOCAB_SIZE, oov_token=\"<OOV>\")\n",
    "tokenizer.fit_on_texts(train_df['messages'])\n",
    "# smote = imblearn.over_sampling.SMOTE()\n",
    "\n",
    "# train_encoded_padded, y_train = smote.fit_resample(train_tokenized_padded, train_df['label_encoded'])\n",
    "# train_prev_encoded_padded, y_train = smote.fit_resample(train_prev_tokenized_padded, train_df['label_encoded'])\n",
    "\n",
    "train_encoded_padded, train_prev_encoded_padded = Tokenize(tokenizer, train_df, MAX_SEQUENCE_LEN)\n",
    "test_encoded_padded, test_prev_encoded_padded = Tokenize(tokenizer, test_df, MAX_SEQUENCE_LEN)\n",
    "validation_encoded_padded, validation_prev_encoded_padded = Tokenize(tokenizer, validation_df, MAX_SEQUENCE_LEN)"
   ]
  },
  {
   "cell_type": "markdown",
   "metadata": {},
   "source": [
    "<hr/>\n",
    "\n",
    "# Naive Neural Network"
   ]
  },
  {
   "cell_type": "code",
   "execution_count": 23,
   "metadata": {},
   "outputs": [],
   "source": [
    "def create_naive_model(\n",
    "        vocab_size: int = VOCAB_SIZE,\n",
    "        embedding_output: int = EMBEDDING_OUTPUT_SIZE,\n",
    "        sequence_length: int = MAX_SEQUENCE_LEN,\n",
    "        hidden_size: int = HIDDEN_LAYER_SIZE,\n",
    "        learning_rate: float = LEARNING_RATE\n",
    "    ):\n",
    "\n",
    "    message_input = keras.layers.Input(shape=(sequence_length,), dtype=tf.int64, name='message_input')\n",
    "    \n",
    "    naive_output = pipe(\n",
    "        message_input,\n",
    "        keras.layers.Embedding(vocab_size, embedding_output, input_length=sequence_length),\n",
    "        keras.layers.Flatten(),\n",
    "        keras.layers.Dense(hidden_size, activation=\"relu\")\n",
    "    )\n",
    "        \n",
    "    sender_output = keras.layers.Dense(2, activation='softmax', name=\"sender_output\")(naive_output)\n",
    "    receiver_output = keras.layers.Dense(2, activation='softmax', name=\"receiver_output\")(naive_output)\n",
    "\n",
    "    model = keras.Model(\n",
    "        inputs=[message_input],\n",
    "        outputs=[sender_output, receiver_output]\n",
    "    )\n",
    "\n",
    "    model.compile(\n",
    "        loss='sparse_categorical_crossentropy',\n",
    "        optimizer=tf.keras.optimizers.Adam(learning_rate=learning_rate),\n",
    "        metrics=['accuracy']\n",
    "    )\n",
    "\n",
    "    return model"
   ]
  },
  {
   "cell_type": "code",
   "execution_count": 24,
   "metadata": {},
   "outputs": [
    {
     "name": "stdout",
     "output_type": "stream",
     "text": [
      "Model: \"model\"\n",
      "__________________________________________________________________________________________________\n",
      " Layer (type)                Output Shape                 Param #   Connected to                  \n",
      "==================================================================================================\n",
      " message_input (InputLayer)  [(None, 294)]                0         []                            \n",
      "                                                                                                  \n",
      " embedding (Embedding)       (None, 294, 124)             620000    ['message_input[0][0]']       \n",
      "                                                                                                  \n",
      " flatten (Flatten)           (None, 36456)                0         ['embedding[0][0]']           \n",
      "                                                                                                  \n",
      " dense (Dense)               (None, 64)                   2333248   ['flatten[0][0]']             \n",
      "                                                                                                  \n",
      " sender_output (Dense)       (None, 2)                    130       ['dense[0][0]']               \n",
      "                                                                                                  \n",
      " receiver_output (Dense)     (None, 2)                    130       ['dense[0][0]']               \n",
      "                                                                                                  \n",
      "==================================================================================================\n",
      "Total params: 2953508 (11.27 MB)\n",
      "__________________________________________________________________________________________________\n",
      " Layer (type)                Output Shape                 Param #   Connected to                  \n",
      "==================================================================================================\n",
      " message_input (InputLayer)  [(None, 294)]                0         []                            \n",
      "                                                                                                  \n",
      " embedding (Embedding)       (None, 294, 124)             620000    ['message_input[0][0]']       \n",
      "                                                                                                  \n",
      " flatten (Flatten)           (None, 36456)                0         ['embedding[0][0]']           \n",
      "                                                                                                  \n",
      " dense (Dense)               (None, 64)                   2333248   ['flatten[0][0]']             \n",
      "                                                                                                  \n",
      " sender_output (Dense)       (None, 2)                    130       ['dense[0][0]']               \n",
      "                                                                                                  \n",
      " receiver_output (Dense)     (None, 2)                    130       ['dense[0][0]']               \n",
      "                                                                                                  \n",
      "==================================================================================================\n",
      "Total params: 2953508 (11.27 MB)\n",
      "Trainable params: 2953508 (11.27 MB)\n",
      "Non-trainable params: 0 (0.00 Byte)\n",
      "__________________________________________________________________________________________________\n"
     ]
    }
   ],
   "source": [
    "naive_model = create_naive_model()\n",
    "naive_model.summary()"
   ]
  },
  {
   "cell_type": "code",
   "execution_count": 25,
   "metadata": {},
   "outputs": [
    {
     "name": "stdout",
     "output_type": "stream",
     "text": [
      "Epoch 1/10\n",
      "376/376 [==============================] - 22s 55ms/step - loss: 0.3892 - sender_output_loss: 0.1916 - receiver_output_loss: 0.1976 - sender_output_accuracy: 0.9528 - receiver_output_accuracy: 0.9529 - val_loss: nan - val_sender_output_loss: 0.1668 - val_receiver_output_loss: nan - val_sender_output_accuracy: 0.9605 - val_receiver_output_accuracy: 0.8729\n",
      "Epoch 2/10\n",
      "376/376 [==============================] - 6s 15ms/step - loss: 0.2815 - sender_output_loss: 0.1311 - receiver_output_loss: 0.1504 - sender_output_accuracy: 0.9609 - receiver_output_accuracy: 0.9553 - val_loss: nan - val_sender_output_loss: 0.1831 - val_receiver_output_loss: nan - val_sender_output_accuracy: 0.9597 - val_receiver_output_accuracy: 0.8729\n",
      "Epoch 3/10\n",
      "376/376 [==============================] - 5s 14ms/step - loss: 0.1338 - sender_output_loss: 0.0601 - receiver_output_loss: 0.0737 - sender_output_accuracy: 0.9816 - receiver_output_accuracy: 0.9768 - val_loss: nan - val_sender_output_loss: 0.2481 - val_receiver_output_loss: nan - val_sender_output_accuracy: 0.9583 - val_receiver_output_accuracy: 0.8679\n",
      "Epoch 4/10\n",
      "376/376 [==============================] - 4s 11ms/step - loss: 0.0640 - sender_output_loss: 0.0285 - receiver_output_loss: 0.0356 - sender_output_accuracy: 0.9920 - receiver_output_accuracy: 0.9889 - val_loss: nan - val_sender_output_loss: 0.2931 - val_receiver_output_loss: nan - val_sender_output_accuracy: 0.9484 - val_receiver_output_accuracy: 0.8715\n",
      "Epoch 5/10\n",
      "376/376 [==============================] - 4s 10ms/step - loss: 0.0384 - sender_output_loss: 0.0180 - receiver_output_loss: 0.0205 - sender_output_accuracy: 0.9951 - receiver_output_accuracy: 0.9945 - val_loss: nan - val_sender_output_loss: 0.3302 - val_receiver_output_loss: nan - val_sender_output_accuracy: 0.9534 - val_receiver_output_accuracy: 0.8559\n",
      "Epoch 6/10\n",
      "376/376 [==============================] - 4s 9ms/step - loss: 0.0290 - sender_output_loss: 0.0137 - receiver_output_loss: 0.0153 - sender_output_accuracy: 0.9954 - receiver_output_accuracy: 0.9963 - val_loss: nan - val_sender_output_loss: 0.4155 - val_receiver_output_loss: nan - val_sender_output_accuracy: 0.9583 - val_receiver_output_accuracy: 0.8538\n",
      "Epoch 7/10\n",
      "376/376 [==============================] - 4s 10ms/step - loss: 0.0236 - sender_output_loss: 0.0116 - receiver_output_loss: 0.0121 - sender_output_accuracy: 0.9967 - receiver_output_accuracy: 0.9973 - val_loss: nan - val_sender_output_loss: 0.4109 - val_receiver_output_loss: nan - val_sender_output_accuracy: 0.9576 - val_receiver_output_accuracy: 0.8658\n",
      "Epoch 8/10\n",
      "376/376 [==============================] - 4s 10ms/step - loss: 0.0213 - sender_output_loss: 0.0118 - receiver_output_loss: 0.0095 - sender_output_accuracy: 0.9961 - receiver_output_accuracy: 0.9971 - val_loss: nan - val_sender_output_loss: 0.4542 - val_receiver_output_loss: nan - val_sender_output_accuracy: 0.9583 - val_receiver_output_accuracy: 0.8658\n",
      "Epoch 9/10\n",
      "376/376 [==============================] - 3s 9ms/step - loss: 0.0185 - sender_output_loss: 0.0091 - receiver_output_loss: 0.0095 - sender_output_accuracy: 0.9968 - receiver_output_accuracy: 0.9977 - val_loss: nan - val_sender_output_loss: 0.4661 - val_receiver_output_loss: nan - val_sender_output_accuracy: 0.9548 - val_receiver_output_accuracy: 0.8503\n",
      "Epoch 10/10\n",
      "376/376 [==============================] - 3s 8ms/step - loss: 0.0169 - sender_output_loss: 0.0094 - receiver_output_loss: 0.0075 - sender_output_accuracy: 0.9970 - receiver_output_accuracy: 0.9977 - val_loss: nan - val_sender_output_loss: 0.4724 - val_receiver_output_loss: nan - val_sender_output_accuracy: 0.9541 - val_receiver_output_accuracy: 0.8694\n"
     ]
    }
   ],
   "source": [
    "naive_history = naive_model.fit(\n",
    "    train_encoded_padded,\n",
    "    [train_df['sender_labels_encoded'], train_df['receiver_labels_encoded']],\n",
    "    validation_data=(validation_encoded_padded, [validation_df['sender_labels_encoded'], validation_df['receiver_labels_encoded']]),\n",
    "    epochs=10\n",
    ")"
   ]
  },
  {
   "cell_type": "code",
   "execution_count": 40,
   "metadata": {},
   "outputs": [
    {
     "name": "stdout",
     "output_type": "stream",
     "text": [
      "========== Model Accuracy ==========\n"
     ]
    },
    {
     "data": {
      "image/png": "[encoded data removed]",
      "text/plain": [
       "<Figure size 640x480 with 1 Axes>"
      ]
     },
     "metadata": {},
     "output_type": "display_data"
    },
    {
     "name": "stdout",
     "output_type": "stream",
     "text": [
      "========== Test Evaluation ==========\n",
      "86/86 - 1s - loss: nan - sender_output_loss: 0.9690 - receiver_output_loss: nan - sender_output_accuracy: 0.9008 - receiver_output_accuracy: 0.8366 - 552ms/epoch - 6ms/step\n",
      "\n",
      "========== Test Metrics ==========\n",
      "86/86 [==============================] - 0s 2ms/step\n",
      "---------- Sender Labels ----------\n",
      "              precision    recall  f1-score   support\n",
      "\n",
      "        True       0.91      0.98      0.95      2501\n",
      "       False       0.19      0.04      0.07       240\n",
      "\n",
      "    accuracy                           0.90      2741\n",
      "   macro avg       0.55      0.51      0.51      2741\n",
      "weighted avg       0.85      0.90      0.87      2741\n",
      "\n",
      "---------- Receiver Labels ----------\n"
     ]
    },
    {
     "ename": "ValueError",
     "evalue": "Number of classes, 3, does not match size of target_names, 2. Try specifying the labels parameter",
     "output_type": "error",
     "traceback": [
      "\u001b[0;31m---------------------------------------------------------------------------\u001b[0m",
      "\u001b[0;31mValueError\u001b[0m                                Traceback (most recent call last)",
      "\u001b[1;32m/home/jovyan/work/mnt/266/project/w266-final-project/lee2.ipynb Cell 38\u001b[0m line \u001b[0;36m1\n\u001b[0;32m----> <a href='vscode-notebook-cell://attached-container%2B7b22636f6e7461696e65724e616d65223a222f6a7570797465722d62656e6368227d/home/jovyan/work/mnt/266/project/w266-final-project/lee2.ipynb#X50sdnNjb2RlLXJlbW90ZQ%3D%3D?line=0'>1</a>\u001b[0m EvaluateModel(naive_model, test_encoded_padded, [test_df[\u001b[39m'\u001b[39;49m\u001b[39msender_labels_encoded\u001b[39;49m\u001b[39m'\u001b[39;49m], test_df[\u001b[39m'\u001b[39;49m\u001b[39mreceiver_labels_encoded\u001b[39;49m\u001b[39m'\u001b[39;49m]], naive_history)\n",
      "\u001b[1;32m/home/jovyan/work/mnt/266/project/w266-final-project/lee2.ipynb Cell 38\u001b[0m line \u001b[0;36m4\n\u001b[1;32m     <a href='vscode-notebook-cell://attached-container%2B7b22636f6e7461696e65724e616d65223a222f6a7570797465722d62656e6368227d/home/jovyan/work/mnt/266/project/w266-final-project/lee2.ipynb#X50sdnNjb2RlLXJlbW90ZQ%3D%3D?line=39'>40</a>\u001b[0m \u001b[39mprint\u001b[39m(sklearn\u001b[39m.\u001b[39mmetrics\u001b[39m.\u001b[39mclassification_report(test_target[\u001b[39m0\u001b[39m], np\u001b[39m.\u001b[39margmax(y_pred[\u001b[39m0\u001b[39m], axis\u001b[39m=\u001b[39m\u001b[39m1\u001b[39m), target_names\u001b[39m=\u001b[39m[\u001b[39m\"\u001b[39m\u001b[39mTrue\u001b[39m\u001b[39m\"\u001b[39m, \u001b[39m\"\u001b[39m\u001b[39mFalse\u001b[39m\u001b[39m\"\u001b[39m], zero_division\u001b[39m=\u001b[39m\u001b[39m0\u001b[39m))\n\u001b[1;32m     <a href='vscode-notebook-cell://attached-container%2B7b22636f6e7461696e65724e616d65223a222f6a7570797465722d62656e6368227d/home/jovyan/work/mnt/266/project/w266-final-project/lee2.ipynb#X50sdnNjb2RlLXJlbW90ZQ%3D%3D?line=40'>41</a>\u001b[0m \u001b[39mprint\u001b[39m(\u001b[39mf\u001b[39m\u001b[39m\"\u001b[39m\u001b[39m{\u001b[39;00m\u001b[39m'\u001b[39m\u001b[39m-\u001b[39m\u001b[39m'\u001b[39m\u001b[39m*\u001b[39m\u001b[39m10\u001b[39m\u001b[39m}\u001b[39;00m\u001b[39m Receiver Labels \u001b[39m\u001b[39m{\u001b[39;00m\u001b[39m'\u001b[39m\u001b[39m-\u001b[39m\u001b[39m'\u001b[39m\u001b[39m*\u001b[39m\u001b[39m10\u001b[39m\u001b[39m}\u001b[39;00m\u001b[39m\"\u001b[39m)\n\u001b[0;32m---> <a href='vscode-notebook-cell://attached-container%2B7b22636f6e7461696e65724e616d65223a222f6a7570797465722d62656e6368227d/home/jovyan/work/mnt/266/project/w266-final-project/lee2.ipynb#X50sdnNjb2RlLXJlbW90ZQ%3D%3D?line=41'>42</a>\u001b[0m \u001b[39mprint\u001b[39m(sklearn\u001b[39m.\u001b[39;49mmetrics\u001b[39m.\u001b[39;49mclassification_report(test_target[\u001b[39m1\u001b[39;49m], np\u001b[39m.\u001b[39;49margmax(y_pred[\u001b[39m1\u001b[39;49m], axis\u001b[39m=\u001b[39;49m\u001b[39m1\u001b[39;49m), target_names\u001b[39m=\u001b[39;49m[\u001b[39m\"\u001b[39;49m\u001b[39mTrue\u001b[39;49m\u001b[39m\"\u001b[39;49m, \u001b[39m\"\u001b[39;49m\u001b[39mFalse\u001b[39;49m\u001b[39m\"\u001b[39;49m], zero_division\u001b[39m=\u001b[39;49m\u001b[39m0\u001b[39;49m))\n",
      "File \u001b[0;32m/usr/local/lib/python3.11/dist-packages/sklearn/utils/_param_validation.py:214\u001b[0m, in \u001b[0;36mvalidate_params.<locals>.decorator.<locals>.wrapper\u001b[0;34m(*args, **kwargs)\u001b[0m\n\u001b[1;32m    208\u001b[0m \u001b[39mtry\u001b[39;00m:\n\u001b[1;32m    209\u001b[0m     \u001b[39mwith\u001b[39;00m config_context(\n\u001b[1;32m    210\u001b[0m         skip_parameter_validation\u001b[39m=\u001b[39m(\n\u001b[1;32m    211\u001b[0m             prefer_skip_nested_validation \u001b[39mor\u001b[39;00m global_skip_validation\n\u001b[1;32m    212\u001b[0m         )\n\u001b[1;32m    213\u001b[0m     ):\n\u001b[0;32m--> 214\u001b[0m         \u001b[39mreturn\u001b[39;00m func(\u001b[39m*\u001b[39;49margs, \u001b[39m*\u001b[39;49m\u001b[39m*\u001b[39;49mkwargs)\n\u001b[1;32m    215\u001b[0m \u001b[39mexcept\u001b[39;00m InvalidParameterError \u001b[39mas\u001b[39;00m e:\n\u001b[1;32m    216\u001b[0m     \u001b[39m# When the function is just a wrapper around an estimator, we allow\u001b[39;00m\n\u001b[1;32m    217\u001b[0m     \u001b[39m# the function to delegate validation to the estimator, but we replace\u001b[39;00m\n\u001b[1;32m    218\u001b[0m     \u001b[39m# the name of the estimator by the name of the function in the error\u001b[39;00m\n\u001b[1;32m    219\u001b[0m     \u001b[39m# message to avoid confusion.\u001b[39;00m\n\u001b[1;32m    220\u001b[0m     msg \u001b[39m=\u001b[39m re\u001b[39m.\u001b[39msub(\n\u001b[1;32m    221\u001b[0m         \u001b[39mr\u001b[39m\u001b[39m\"\u001b[39m\u001b[39mparameter of \u001b[39m\u001b[39m\\\u001b[39m\u001b[39mw+ must be\u001b[39m\u001b[39m\"\u001b[39m,\n\u001b[1;32m    222\u001b[0m         \u001b[39mf\u001b[39m\u001b[39m\"\u001b[39m\u001b[39mparameter of \u001b[39m\u001b[39m{\u001b[39;00mfunc\u001b[39m.\u001b[39m\u001b[39m__qualname__\u001b[39m\u001b[39m}\u001b[39;00m\u001b[39m must be\u001b[39m\u001b[39m\"\u001b[39m,\n\u001b[1;32m    223\u001b[0m         \u001b[39mstr\u001b[39m(e),\n\u001b[1;32m    224\u001b[0m     )\n",
      "File \u001b[0;32m/usr/local/lib/python3.11/dist-packages/sklearn/metrics/_classification.py:2567\u001b[0m, in \u001b[0;36mclassification_report\u001b[0;34m(y_true, y_pred, labels, target_names, sample_weight, digits, output_dict, zero_division)\u001b[0m\n\u001b[1;32m   2561\u001b[0m         warnings\u001b[39m.\u001b[39mwarn(\n\u001b[1;32m   2562\u001b[0m             \u001b[39m\"\u001b[39m\u001b[39mlabels size, \u001b[39m\u001b[39m{0}\u001b[39;00m\u001b[39m, does not match size of target_names, \u001b[39m\u001b[39m{1}\u001b[39;00m\u001b[39m\"\u001b[39m\u001b[39m.\u001b[39mformat(\n\u001b[1;32m   2563\u001b[0m                 \u001b[39mlen\u001b[39m(labels), \u001b[39mlen\u001b[39m(target_names)\n\u001b[1;32m   2564\u001b[0m             )\n\u001b[1;32m   2565\u001b[0m         )\n\u001b[1;32m   2566\u001b[0m     \u001b[39melse\u001b[39;00m:\n\u001b[0;32m-> 2567\u001b[0m         \u001b[39mraise\u001b[39;00m \u001b[39mValueError\u001b[39;00m(\n\u001b[1;32m   2568\u001b[0m             \u001b[39m\"\u001b[39m\u001b[39mNumber of classes, \u001b[39m\u001b[39m{0}\u001b[39;00m\u001b[39m, does not match size of \u001b[39m\u001b[39m\"\u001b[39m\n\u001b[1;32m   2569\u001b[0m             \u001b[39m\"\u001b[39m\u001b[39mtarget_names, \u001b[39m\u001b[39m{1}\u001b[39;00m\u001b[39m. Try specifying the labels \u001b[39m\u001b[39m\"\u001b[39m\n\u001b[1;32m   2570\u001b[0m             \u001b[39m\"\u001b[39m\u001b[39mparameter\u001b[39m\u001b[39m\"\u001b[39m\u001b[39m.\u001b[39mformat(\u001b[39mlen\u001b[39m(labels), \u001b[39mlen\u001b[39m(target_names))\n\u001b[1;32m   2571\u001b[0m         )\n\u001b[1;32m   2572\u001b[0m \u001b[39mif\u001b[39;00m target_names \u001b[39mis\u001b[39;00m \u001b[39mNone\u001b[39;00m:\n\u001b[1;32m   2573\u001b[0m     target_names \u001b[39m=\u001b[39m [\u001b[39m\"\u001b[39m\u001b[39m%s\u001b[39;00m\u001b[39m\"\u001b[39m \u001b[39m%\u001b[39m l \u001b[39mfor\u001b[39;00m l \u001b[39min\u001b[39;00m labels]\n",
      "\u001b[0;31mValueError\u001b[0m: Number of classes, 3, does not match size of target_names, 2. Try specifying the labels parameter"
     ]
    }
   ],
   "source": [
    "EvaluateModel(naive_model, test_encoded_padded, [test_df['sender_labels_encoded'], test_df['receiver_labels_encoded']], naive_history)"
   ]
  },
  {
   "cell_type": "markdown",
   "metadata": {},
   "source": [
    "# Naive LSTM"
   ]
  },
  {
   "cell_type": "code",
   "execution_count": null,
   "metadata": {},
   "outputs": [],
   "source": [
    "def create_naive_lstm_model(\n",
    "        sequence_length: int = MAX_SEQUENCE_LEN,\n",
    "        embedding_output: int = EMBEDDING_OUTPUT_SIZE,\n",
    "        vocab_size: int = VOCAB_SIZE,\n",
    "        lstm_size: int = LSTM_SIZE,\n",
    "        hidden_size = HIDDEN_LAYER_SIZE,\n",
    "        learning_rate: float = LEARNING_RATE,\n",
    "    ):\n",
    "\n",
    "    message_input = keras.layers.Input(shape=(sequence_length,), dtype=tf.int64, name='message_input')\n",
    "\n",
    "    naive_lstm_ouput = pipe(\n",
    "        message_input,\n",
    "        keras.layers.Embedding(vocab_size, embedding_output, input_length=sequence_length),\n",
    "        keras.layers.LSTM(lstm_size),\n",
    "        keras.layers.Dense(hidden_size),\n",
    "    )\n",
    "\n",
    "    sender_output = keras.layers.Dense(2, activation='softmax', name=\"sender_output\")(naive_lstm_ouput)\n",
    "    receiver_output = keras.layers.Dense(2, activation='softmax', name=\"receiver_output\")(naive_lstm_ouput)\n",
    "\n",
    "    model = keras.Model(\n",
    "        inputs=[message_input],\n",
    "        outputs=[sender_output, receiver_output]\n",
    "    )\n",
    "\n",
    "    model.compile(\n",
    "        loss='sparse_categorical_crossentropy',\n",
    "        optimizer=tf.keras.optimizers.Adam(learning_rate=learning_rate),\n",
    "        metrics=['accuracy']\n",
    "    )\n",
    "\n",
    "    return model"
   ]
  },
  {
   "cell_type": "code",
   "execution_count": null,
   "metadata": {},
   "outputs": [
    {
     "name": "stdout",
     "output_type": "stream",
     "text": [
      "Model: \"model_1\"\n",
      "__________________________________________________________________________________________________\n",
      " Layer (type)                Output Shape                 Param #   Connected to                  \n",
      "==================================================================================================\n",
      " message_input (InputLayer)  [(None, 294)]                0         []                            \n",
      "                                                                                                  \n",
      " embedding_1 (Embedding)     (None, 294, 124)             620000    ['message_input[0][0]']       \n",
      "                                                                                                  \n",
      " lstm (LSTM)                 (None, 64)                   48384     ['embedding_1[0][0]']         \n",
      "                                                                                                  \n",
      " dense_1 (Dense)             (None, 64)                   4160      ['lstm[0][0]']                \n",
      "                                                                                                  \n",
      " sender_output (Dense)       (None, 2)                    130       ['dense_1[0][0]']             \n",
      "                                                                                                  \n",
      " receiver_output (Dense)     (None, 3)                    195       ['dense_1[0][0]']             \n",
      "                                                                                                  \n",
      "==================================================================================================\n",
      "__________________________________________________________________________________________________\n",
      " Layer (type)                Output Shape                 Param #   Connected to                  \n",
      "==================================================================================================\n",
      " message_input (InputLayer)  [(None, 294)]                0         []                            \n",
      "                                                                                                  \n",
      " embedding_1 (Embedding)     (None, 294, 124)             620000    ['message_input[0][0]']       \n",
      "                                                                                                  \n",
      " lstm (LSTM)                 (None, 64)                   48384     ['embedding_1[0][0]']         \n",
      "                                                                                                  \n",
      " dense_1 (Dense)             (None, 64)                   4160      ['lstm[0][0]']                \n",
      "                                                                                                  \n",
      " sender_output (Dense)       (None, 2)                    130       ['dense_1[0][0]']             \n",
      "                                                                                                  \n",
      " receiver_output (Dense)     (None, 3)                    195       ['dense_1[0][0]']             \n",
      "                                                                                                  \n",
      "==================================================================================================\n",
      "Total params: 672869 (2.57 MB)\n",
      "Trainable params: 672869 (2.57 MB)\n",
      "Non-trainable params: 0 (0.00 Byte)\n",
      "__________________________________________________________________________________________________\n"
     ]
    }
   ],
   "source": [
    "naive_lstm_model = create_naive_lstm_model()\n",
    "naive_lstm_model.summary()"
   ]
  },
  {
   "cell_type": "code",
   "execution_count": null,
   "metadata": {},
   "outputs": [
    {
     "name": "stdout",
     "output_type": "stream",
     "text": [
      "Epoch 1/10\n",
      "375/376 [============================>.] - ETA: 0s - loss: 0.4136 - sender_output_loss: 0.1991 - receiver_output_loss: 0.2145 - sender_output_accuracy: 0.9534 - receiver_output_accuracy: 0.9514"
     ]
    },
    {
     "ename": "KeyboardInterrupt",
     "evalue": "",
     "output_type": "error",
     "traceback": [
      "\u001b[0;31m---------------------------------------------------------------------------\u001b[0m",
      "\u001b[0;31mKeyboardInterrupt\u001b[0m                         Traceback (most recent call last)",
      "\u001b[1;32m/home/jovyan/work/mnt/266/project/w266-final-project/lee2.ipynb Cell 42\u001b[0m line \u001b[0;36m1\n\u001b[0;32m----> <a href='vscode-notebook-cell://attached-container%2B7b22636f6e7461696e65724e616d65223a222f6a7570797465722d62656e6368227d/home/jovyan/work/mnt/266/project/w266-final-project/lee2.ipynb#X54sdnNjb2RlLXJlbW90ZQ%3D%3D?line=0'>1</a>\u001b[0m naive_lstm_history \u001b[39m=\u001b[39m naive_lstm_model\u001b[39m.\u001b[39;49mfit(\n\u001b[1;32m      <a href='vscode-notebook-cell://attached-container%2B7b22636f6e7461696e65724e616d65223a222f6a7570797465722d62656e6368227d/home/jovyan/work/mnt/266/project/w266-final-project/lee2.ipynb#X54sdnNjb2RlLXJlbW90ZQ%3D%3D?line=1'>2</a>\u001b[0m     train_encoded_padded,\n\u001b[1;32m      <a href='vscode-notebook-cell://attached-container%2B7b22636f6e7461696e65724e616d65223a222f6a7570797465722d62656e6368227d/home/jovyan/work/mnt/266/project/w266-final-project/lee2.ipynb#X54sdnNjb2RlLXJlbW90ZQ%3D%3D?line=2'>3</a>\u001b[0m     [train_df[\u001b[39m'\u001b[39;49m\u001b[39msender_labels_encoded\u001b[39;49m\u001b[39m'\u001b[39;49m], train_df[\u001b[39m'\u001b[39;49m\u001b[39mreceiver_labels_encoded\u001b[39;49m\u001b[39m'\u001b[39;49m]],\n\u001b[1;32m      <a href='vscode-notebook-cell://attached-container%2B7b22636f6e7461696e65724e616d65223a222f6a7570797465722d62656e6368227d/home/jovyan/work/mnt/266/project/w266-final-project/lee2.ipynb#X54sdnNjb2RlLXJlbW90ZQ%3D%3D?line=3'>4</a>\u001b[0m     validation_data\u001b[39m=\u001b[39;49m(validation_encoded_padded, [validation_df[\u001b[39m'\u001b[39;49m\u001b[39msender_labels_encoded\u001b[39;49m\u001b[39m'\u001b[39;49m], validation_df[\u001b[39m'\u001b[39;49m\u001b[39mreceiver_labels_encoded\u001b[39;49m\u001b[39m'\u001b[39;49m]]),\n\u001b[1;32m      <a href='vscode-notebook-cell://attached-container%2B7b22636f6e7461696e65724e616d65223a222f6a7570797465722d62656e6368227d/home/jovyan/work/mnt/266/project/w266-final-project/lee2.ipynb#X54sdnNjb2RlLXJlbW90ZQ%3D%3D?line=4'>5</a>\u001b[0m     epochs\u001b[39m=\u001b[39;49m\u001b[39m10\u001b[39;49m\n\u001b[1;32m      <a href='vscode-notebook-cell://attached-container%2B7b22636f6e7461696e65724e616d65223a222f6a7570797465722d62656e6368227d/home/jovyan/work/mnt/266/project/w266-final-project/lee2.ipynb#X54sdnNjb2RlLXJlbW90ZQ%3D%3D?line=5'>6</a>\u001b[0m )\n",
      "File \u001b[0;32m/usr/local/lib/python3.11/dist-packages/keras/src/utils/traceback_utils.py:65\u001b[0m, in \u001b[0;36mfilter_traceback.<locals>.error_handler\u001b[0;34m(*args, **kwargs)\u001b[0m\n\u001b[1;32m     63\u001b[0m filtered_tb \u001b[39m=\u001b[39m \u001b[39mNone\u001b[39;00m\n\u001b[1;32m     64\u001b[0m \u001b[39mtry\u001b[39;00m:\n\u001b[0;32m---> 65\u001b[0m     \u001b[39mreturn\u001b[39;00m fn(\u001b[39m*\u001b[39;49margs, \u001b[39m*\u001b[39;49m\u001b[39m*\u001b[39;49mkwargs)\n\u001b[1;32m     66\u001b[0m \u001b[39mexcept\u001b[39;00m \u001b[39mException\u001b[39;00m \u001b[39mas\u001b[39;00m e:\n\u001b[1;32m     67\u001b[0m     filtered_tb \u001b[39m=\u001b[39m _process_traceback_frames(e\u001b[39m.\u001b[39m__traceback__)\n",
      "File \u001b[0;32m/usr/local/lib/python3.11/dist-packages/keras/src/engine/training.py:1832\u001b[0m, in \u001b[0;36mModel.fit\u001b[0;34m(self, x, y, batch_size, epochs, verbose, callbacks, validation_split, validation_data, shuffle, class_weight, sample_weight, initial_epoch, steps_per_epoch, validation_steps, validation_batch_size, validation_freq, max_queue_size, workers, use_multiprocessing)\u001b[0m\n\u001b[1;32m   1816\u001b[0m \u001b[39mif\u001b[39;00m \u001b[39mgetattr\u001b[39m(\u001b[39mself\u001b[39m, \u001b[39m\"\u001b[39m\u001b[39m_eval_data_handler\u001b[39m\u001b[39m\"\u001b[39m, \u001b[39mNone\u001b[39;00m) \u001b[39mis\u001b[39;00m \u001b[39mNone\u001b[39;00m:\n\u001b[1;32m   1817\u001b[0m     \u001b[39mself\u001b[39m\u001b[39m.\u001b[39m_eval_data_handler \u001b[39m=\u001b[39m data_adapter\u001b[39m.\u001b[39mget_data_handler(\n\u001b[1;32m   1818\u001b[0m         x\u001b[39m=\u001b[39mval_x,\n\u001b[1;32m   1819\u001b[0m         y\u001b[39m=\u001b[39mval_y,\n\u001b[0;32m   (...)\u001b[0m\n\u001b[1;32m   1830\u001b[0m         pss_evaluation_shards\u001b[39m=\u001b[39m\u001b[39mself\u001b[39m\u001b[39m.\u001b[39m_pss_evaluation_shards,\n\u001b[1;32m   1831\u001b[0m     )\n\u001b[0;32m-> 1832\u001b[0m val_logs \u001b[39m=\u001b[39m \u001b[39mself\u001b[39;49m\u001b[39m.\u001b[39;49mevaluate(\n\u001b[1;32m   1833\u001b[0m     x\u001b[39m=\u001b[39;49mval_x,\n\u001b[1;32m   1834\u001b[0m     y\u001b[39m=\u001b[39;49mval_y,\n\u001b[1;32m   1835\u001b[0m     sample_weight\u001b[39m=\u001b[39;49mval_sample_weight,\n\u001b[1;32m   1836\u001b[0m     batch_size\u001b[39m=\u001b[39;49mvalidation_batch_size \u001b[39mor\u001b[39;49;00m batch_size,\n\u001b[1;32m   1837\u001b[0m     steps\u001b[39m=\u001b[39;49mvalidation_steps,\n\u001b[1;32m   1838\u001b[0m     callbacks\u001b[39m=\u001b[39;49mcallbacks,\n\u001b[1;32m   1839\u001b[0m     max_queue_size\u001b[39m=\u001b[39;49mmax_queue_size,\n\u001b[1;32m   1840\u001b[0m     workers\u001b[39m=\u001b[39;49mworkers,\n\u001b[1;32m   1841\u001b[0m     use_multiprocessing\u001b[39m=\u001b[39;49muse_multiprocessing,\n\u001b[1;32m   1842\u001b[0m     return_dict\u001b[39m=\u001b[39;49m\u001b[39mTrue\u001b[39;49;00m,\n\u001b[1;32m   1843\u001b[0m     _use_cached_eval_dataset\u001b[39m=\u001b[39;49m\u001b[39mTrue\u001b[39;49;00m,\n\u001b[1;32m   1844\u001b[0m )\n\u001b[1;32m   1845\u001b[0m val_logs \u001b[39m=\u001b[39m {\n\u001b[1;32m   1846\u001b[0m     \u001b[39m\"\u001b[39m\u001b[39mval_\u001b[39m\u001b[39m\"\u001b[39m \u001b[39m+\u001b[39m name: val \u001b[39mfor\u001b[39;00m name, val \u001b[39min\u001b[39;00m val_logs\u001b[39m.\u001b[39mitems()\n\u001b[1;32m   1847\u001b[0m }\n\u001b[1;32m   1848\u001b[0m epoch_logs\u001b[39m.\u001b[39mupdate(val_logs)\n",
      "File \u001b[0;32m/usr/local/lib/python3.11/dist-packages/keras/src/utils/traceback_utils.py:65\u001b[0m, in \u001b[0;36mfilter_traceback.<locals>.error_handler\u001b[0;34m(*args, **kwargs)\u001b[0m\n\u001b[1;32m     63\u001b[0m filtered_tb \u001b[39m=\u001b[39m \u001b[39mNone\u001b[39;00m\n\u001b[1;32m     64\u001b[0m \u001b[39mtry\u001b[39;00m:\n\u001b[0;32m---> 65\u001b[0m     \u001b[39mreturn\u001b[39;00m fn(\u001b[39m*\u001b[39;49margs, \u001b[39m*\u001b[39;49m\u001b[39m*\u001b[39;49mkwargs)\n\u001b[1;32m     66\u001b[0m \u001b[39mexcept\u001b[39;00m \u001b[39mException\u001b[39;00m \u001b[39mas\u001b[39;00m e:\n\u001b[1;32m     67\u001b[0m     filtered_tb \u001b[39m=\u001b[39m _process_traceback_frames(e\u001b[39m.\u001b[39m__traceback__)\n",
      "File \u001b[0;32m/usr/local/lib/python3.11/dist-packages/keras/src/engine/training.py:2272\u001b[0m, in \u001b[0;36mModel.evaluate\u001b[0;34m(self, x, y, batch_size, verbose, sample_weight, steps, callbacks, max_queue_size, workers, use_multiprocessing, return_dict, **kwargs)\u001b[0m\n\u001b[1;32m   2268\u001b[0m             \u001b[39mwith\u001b[39;00m tf\u001b[39m.\u001b[39mprofiler\u001b[39m.\u001b[39mexperimental\u001b[39m.\u001b[39mTrace(\n\u001b[1;32m   2269\u001b[0m                 \u001b[39m\"\u001b[39m\u001b[39mtest\u001b[39m\u001b[39m\"\u001b[39m, step_num\u001b[39m=\u001b[39mstep, _r\u001b[39m=\u001b[39m\u001b[39m1\u001b[39m\n\u001b[1;32m   2270\u001b[0m             ):\n\u001b[1;32m   2271\u001b[0m                 callbacks\u001b[39m.\u001b[39mon_test_batch_begin(step)\n\u001b[0;32m-> 2272\u001b[0m                 logs \u001b[39m=\u001b[39m test_function_runner\u001b[39m.\u001b[39;49mrun_step(\n\u001b[1;32m   2273\u001b[0m                     dataset_or_iterator,\n\u001b[1;32m   2274\u001b[0m                     data_handler,\n\u001b[1;32m   2275\u001b[0m                     step,\n\u001b[1;32m   2276\u001b[0m                     \u001b[39mself\u001b[39;49m\u001b[39m.\u001b[39;49m_pss_evaluation_shards,\n\u001b[1;32m   2277\u001b[0m                 )\n\u001b[1;32m   2279\u001b[0m logs \u001b[39m=\u001b[39m tf_utils\u001b[39m.\u001b[39msync_to_numpy_or_python_type(logs)\n\u001b[1;32m   2280\u001b[0m \u001b[39m# Override with model metrics instead of last step logs\u001b[39;00m\n",
      "File \u001b[0;32m/usr/local/lib/python3.11/dist-packages/keras/src/engine/training.py:4079\u001b[0m, in \u001b[0;36m_TestFunction.run_step\u001b[0;34m(self, dataset_or_iterator, data_handler, step, unused_shards)\u001b[0m\n\u001b[1;32m   4078\u001b[0m \u001b[39mdef\u001b[39;00m \u001b[39mrun_step\u001b[39m(\u001b[39mself\u001b[39m, dataset_or_iterator, data_handler, step, unused_shards):\n\u001b[0;32m-> 4079\u001b[0m     tmp_logs \u001b[39m=\u001b[39m \u001b[39mself\u001b[39;49m\u001b[39m.\u001b[39;49m_function(dataset_or_iterator)\n\u001b[1;32m   4080\u001b[0m     \u001b[39mif\u001b[39;00m data_handler\u001b[39m.\u001b[39mshould_sync:\n\u001b[1;32m   4081\u001b[0m         context\u001b[39m.\u001b[39masync_wait()\n",
      "File \u001b[0;32m/usr/local/lib/python3.11/dist-packages/tensorflow/python/util/traceback_utils.py:150\u001b[0m, in \u001b[0;36mfilter_traceback.<locals>.error_handler\u001b[0;34m(*args, **kwargs)\u001b[0m\n\u001b[1;32m    148\u001b[0m filtered_tb \u001b[39m=\u001b[39m \u001b[39mNone\u001b[39;00m\n\u001b[1;32m    149\u001b[0m \u001b[39mtry\u001b[39;00m:\n\u001b[0;32m--> 150\u001b[0m   \u001b[39mreturn\u001b[39;00m fn(\u001b[39m*\u001b[39;49margs, \u001b[39m*\u001b[39;49m\u001b[39m*\u001b[39;49mkwargs)\n\u001b[1;32m    151\u001b[0m \u001b[39mexcept\u001b[39;00m \u001b[39mException\u001b[39;00m \u001b[39mas\u001b[39;00m e:\n\u001b[1;32m    152\u001b[0m   filtered_tb \u001b[39m=\u001b[39m _process_traceback_frames(e\u001b[39m.\u001b[39m__traceback__)\n",
      "File \u001b[0;32m/usr/local/lib/python3.11/dist-packages/tensorflow/python/eager/polymorphic_function/polymorphic_function.py:831\u001b[0m, in \u001b[0;36mFunction.__call__\u001b[0;34m(self, *args, **kwds)\u001b[0m\n\u001b[1;32m    828\u001b[0m compiler \u001b[39m=\u001b[39m \u001b[39m\"\u001b[39m\u001b[39mxla\u001b[39m\u001b[39m\"\u001b[39m \u001b[39mif\u001b[39;00m \u001b[39mself\u001b[39m\u001b[39m.\u001b[39m_jit_compile \u001b[39melse\u001b[39;00m \u001b[39m\"\u001b[39m\u001b[39mnonXla\u001b[39m\u001b[39m\"\u001b[39m\n\u001b[1;32m    830\u001b[0m \u001b[39mwith\u001b[39;00m OptionalXlaContext(\u001b[39mself\u001b[39m\u001b[39m.\u001b[39m_jit_compile):\n\u001b[0;32m--> 831\u001b[0m   result \u001b[39m=\u001b[39m \u001b[39mself\u001b[39;49m\u001b[39m.\u001b[39;49m_call(\u001b[39m*\u001b[39;49margs, \u001b[39m*\u001b[39;49m\u001b[39m*\u001b[39;49mkwds)\n\u001b[1;32m    833\u001b[0m new_tracing_count \u001b[39m=\u001b[39m \u001b[39mself\u001b[39m\u001b[39m.\u001b[39mexperimental_get_tracing_count()\n\u001b[1;32m    834\u001b[0m without_tracing \u001b[39m=\u001b[39m (tracing_count \u001b[39m==\u001b[39m new_tracing_count)\n",
      "File \u001b[0;32m/usr/local/lib/python3.11/dist-packages/tensorflow/python/eager/polymorphic_function/polymorphic_function.py:887\u001b[0m, in \u001b[0;36mFunction._call\u001b[0;34m(self, *args, **kwds)\u001b[0m\n\u001b[1;32m    884\u001b[0m \u001b[39mtry\u001b[39;00m:\n\u001b[1;32m    885\u001b[0m   \u001b[39m# This is the first call of __call__, so we have to initialize.\u001b[39;00m\n\u001b[1;32m    886\u001b[0m   initializers \u001b[39m=\u001b[39m []\n\u001b[0;32m--> 887\u001b[0m   \u001b[39mself\u001b[39;49m\u001b[39m.\u001b[39;49m_initialize(args, kwds, add_initializers_to\u001b[39m=\u001b[39;49minitializers)\n\u001b[1;32m    888\u001b[0m \u001b[39mfinally\u001b[39;00m:\n\u001b[1;32m    889\u001b[0m   \u001b[39m# At this point we know that the initialization is complete (or less\u001b[39;00m\n\u001b[1;32m    890\u001b[0m   \u001b[39m# interestingly an exception was raised) so we no longer need a lock.\u001b[39;00m\n\u001b[1;32m    891\u001b[0m   \u001b[39mself\u001b[39m\u001b[39m.\u001b[39m_lock\u001b[39m.\u001b[39mrelease()\n",
      "File \u001b[0;32m/usr/local/lib/python3.11/dist-packages/tensorflow/python/eager/polymorphic_function/polymorphic_function.py:694\u001b[0m, in \u001b[0;36mFunction._initialize\u001b[0;34m(self, args, kwds, add_initializers_to)\u001b[0m\n\u001b[1;32m    689\u001b[0m \u001b[39mself\u001b[39m\u001b[39m.\u001b[39m_variable_creation_config \u001b[39m=\u001b[39m \u001b[39mself\u001b[39m\u001b[39m.\u001b[39m_generate_scoped_tracing_options(\n\u001b[1;32m    690\u001b[0m     variable_capturing_scope,\n\u001b[1;32m    691\u001b[0m     tracing_compilation\u001b[39m.\u001b[39mScopeType\u001b[39m.\u001b[39mVARIABLE_CREATION,\n\u001b[1;32m    692\u001b[0m )\n\u001b[1;32m    693\u001b[0m \u001b[39m# Force the definition of the function for these arguments\u001b[39;00m\n\u001b[0;32m--> 694\u001b[0m \u001b[39mself\u001b[39m\u001b[39m.\u001b[39m_concrete_variable_creation_fn \u001b[39m=\u001b[39m tracing_compilation\u001b[39m.\u001b[39;49mtrace_function(\n\u001b[1;32m    695\u001b[0m     args, kwds, \u001b[39mself\u001b[39;49m\u001b[39m.\u001b[39;49m_variable_creation_config\n\u001b[1;32m    696\u001b[0m )\n\u001b[1;32m    698\u001b[0m \u001b[39mdef\u001b[39;00m \u001b[39minvalid_creator_scope\u001b[39m(\u001b[39m*\u001b[39munused_args, \u001b[39m*\u001b[39m\u001b[39m*\u001b[39munused_kwds):\n\u001b[1;32m    699\u001b[0m \u001b[39m  \u001b[39m\u001b[39m\"\"\"Disables variable creation.\"\"\"\u001b[39;00m\n",
      "File \u001b[0;32m/usr/local/lib/python3.11/dist-packages/tensorflow/python/eager/polymorphic_function/tracing_compilation.py:178\u001b[0m, in \u001b[0;36mtrace_function\u001b[0;34m(args, kwargs, tracing_options)\u001b[0m\n\u001b[1;32m    175\u001b[0m     args \u001b[39m=\u001b[39m tracing_options\u001b[39m.\u001b[39minput_signature\n\u001b[1;32m    176\u001b[0m     kwargs \u001b[39m=\u001b[39m {}\n\u001b[0;32m--> 178\u001b[0m   concrete_function \u001b[39m=\u001b[39m _maybe_define_function(\n\u001b[1;32m    179\u001b[0m       args, kwargs, tracing_options\n\u001b[1;32m    180\u001b[0m   )\n\u001b[1;32m    181\u001b[0m   _set_arg_keywords(concrete_function)\n\u001b[1;32m    183\u001b[0m \u001b[39mif\u001b[39;00m \u001b[39mnot\u001b[39;00m tracing_options\u001b[39m.\u001b[39mbind_graph_to_function:\n",
      "File \u001b[0;32m/usr/local/lib/python3.11/dist-packages/tensorflow/python/eager/polymorphic_function/tracing_compilation.py:284\u001b[0m, in \u001b[0;36m_maybe_define_function\u001b[0;34m(args, kwargs, tracing_options)\u001b[0m\n\u001b[1;32m    282\u001b[0m \u001b[39melse\u001b[39;00m:\n\u001b[1;32m    283\u001b[0m   target_func_type \u001b[39m=\u001b[39m lookup_func_type\n\u001b[0;32m--> 284\u001b[0m concrete_function \u001b[39m=\u001b[39m _create_concrete_function(\n\u001b[1;32m    285\u001b[0m     target_func_type, lookup_func_context, func_graph, tracing_options\n\u001b[1;32m    286\u001b[0m )\n\u001b[1;32m    288\u001b[0m \u001b[39mif\u001b[39;00m tracing_options\u001b[39m.\u001b[39mfunction_cache \u001b[39mis\u001b[39;00m \u001b[39mnot\u001b[39;00m \u001b[39mNone\u001b[39;00m:\n\u001b[1;32m    289\u001b[0m   tracing_options\u001b[39m.\u001b[39mfunction_cache\u001b[39m.\u001b[39madd(\n\u001b[1;32m    290\u001b[0m       concrete_function, current_func_context\n\u001b[1;32m    291\u001b[0m   )\n",
      "File \u001b[0;32m/usr/local/lib/python3.11/dist-packages/tensorflow/python/eager/polymorphic_function/tracing_compilation.py:308\u001b[0m, in \u001b[0;36m_create_concrete_function\u001b[0;34m(function_type, type_context, func_graph, tracing_options)\u001b[0m\n\u001b[1;32m    303\u001b[0m \u001b[39mwith\u001b[39;00m func_graph\u001b[39m.\u001b[39mas_default():\n\u001b[1;32m    304\u001b[0m   placeholder_bound_args \u001b[39m=\u001b[39m function_type\u001b[39m.\u001b[39mplaceholder_arguments(\n\u001b[1;32m    305\u001b[0m       placeholder_context\n\u001b[1;32m    306\u001b[0m   )\n\u001b[0;32m--> 308\u001b[0m traced_func_graph \u001b[39m=\u001b[39m func_graph_module\u001b[39m.\u001b[39;49mfunc_graph_from_py_func(\n\u001b[1;32m    309\u001b[0m     tracing_options\u001b[39m.\u001b[39;49mname,\n\u001b[1;32m    310\u001b[0m     tracing_options\u001b[39m.\u001b[39;49mpython_function,\n\u001b[1;32m    311\u001b[0m     placeholder_bound_args\u001b[39m.\u001b[39;49margs,\n\u001b[1;32m    312\u001b[0m     placeholder_bound_args\u001b[39m.\u001b[39;49mkwargs,\n\u001b[1;32m    313\u001b[0m     \u001b[39mNone\u001b[39;49;00m,\n\u001b[1;32m    314\u001b[0m     func_graph\u001b[39m=\u001b[39;49mfunc_graph,\n\u001b[1;32m    315\u001b[0m     arg_names\u001b[39m=\u001b[39;49mfunction_type_utils\u001b[39m.\u001b[39;49mto_arg_names(function_type),\n\u001b[1;32m    316\u001b[0m     create_placeholders\u001b[39m=\u001b[39;49m\u001b[39mFalse\u001b[39;49;00m,\n\u001b[1;32m    317\u001b[0m )\n\u001b[1;32m    319\u001b[0m transform\u001b[39m.\u001b[39mapply_func_graph_transforms(traced_func_graph)\n\u001b[1;32m    321\u001b[0m graph_capture_container \u001b[39m=\u001b[39m traced_func_graph\u001b[39m.\u001b[39mfunction_captures\n",
      "File \u001b[0;32m/usr/local/lib/python3.11/dist-packages/tensorflow/python/framework/func_graph.py:1059\u001b[0m, in \u001b[0;36mfunc_graph_from_py_func\u001b[0;34m(name, python_func, args, kwargs, signature, func_graph, add_control_dependencies, arg_names, op_return_value, collections, capture_by_value, create_placeholders)\u001b[0m\n\u001b[1;32m   1056\u001b[0m   \u001b[39mreturn\u001b[39;00m x\n\u001b[1;32m   1058\u001b[0m _, original_func \u001b[39m=\u001b[39m tf_decorator\u001b[39m.\u001b[39munwrap(python_func)\n\u001b[0;32m-> 1059\u001b[0m func_outputs \u001b[39m=\u001b[39m python_func(\u001b[39m*\u001b[39;49mfunc_args, \u001b[39m*\u001b[39;49m\u001b[39m*\u001b[39;49mfunc_kwargs)\n\u001b[1;32m   1061\u001b[0m \u001b[39m# invariant: `func_outputs` contains only Tensors, CompositeTensors,\u001b[39;00m\n\u001b[1;32m   1062\u001b[0m \u001b[39m# TensorArrays and `None`s.\u001b[39;00m\n\u001b[1;32m   1063\u001b[0m func_outputs \u001b[39m=\u001b[39m variable_utils\u001b[39m.\u001b[39mconvert_variables_to_tensors(func_outputs)\n",
      "File \u001b[0;32m/usr/local/lib/python3.11/dist-packages/tensorflow/python/eager/polymorphic_function/polymorphic_function.py:597\u001b[0m, in \u001b[0;36mFunction._generate_scoped_tracing_options.<locals>.wrapped_fn\u001b[0;34m(*args, **kwds)\u001b[0m\n\u001b[1;32m    593\u001b[0m \u001b[39mwith\u001b[39;00m default_graph\u001b[39m.\u001b[39m_variable_creator_scope(scope, priority\u001b[39m=\u001b[39m\u001b[39m50\u001b[39m):  \u001b[39m# pylint: disable=protected-access\u001b[39;00m\n\u001b[1;32m    594\u001b[0m   \u001b[39m# __wrapped__ allows AutoGraph to swap in a converted function. We give\u001b[39;00m\n\u001b[1;32m    595\u001b[0m   \u001b[39m# the function a weak reference to itself to avoid a reference cycle.\u001b[39;00m\n\u001b[1;32m    596\u001b[0m   \u001b[39mwith\u001b[39;00m OptionalXlaContext(compile_with_xla):\n\u001b[0;32m--> 597\u001b[0m     out \u001b[39m=\u001b[39m weak_wrapped_fn()\u001b[39m.\u001b[39;49m__wrapped__(\u001b[39m*\u001b[39;49margs, \u001b[39m*\u001b[39;49m\u001b[39m*\u001b[39;49mkwds)\n\u001b[1;32m    598\u001b[0m   \u001b[39mreturn\u001b[39;00m out\n",
      "File \u001b[0;32m/usr/local/lib/python3.11/dist-packages/tensorflow/python/eager/polymorphic_function/autograph_util.py:41\u001b[0m, in \u001b[0;36mpy_func_from_autograph.<locals>.autograph_handler\u001b[0;34m(*args, **kwargs)\u001b[0m\n\u001b[1;32m     39\u001b[0m \u001b[39m\u001b[39m\u001b[39m\"\"\"Calls a converted version of original_func.\"\"\"\u001b[39;00m\n\u001b[1;32m     40\u001b[0m \u001b[39mtry\u001b[39;00m:\n\u001b[0;32m---> 41\u001b[0m   \u001b[39mreturn\u001b[39;00m api\u001b[39m.\u001b[39;49mconverted_call(\n\u001b[1;32m     42\u001b[0m       original_func,\n\u001b[1;32m     43\u001b[0m       args,\n\u001b[1;32m     44\u001b[0m       kwargs,\n\u001b[1;32m     45\u001b[0m       options\u001b[39m=\u001b[39;49mconverter\u001b[39m.\u001b[39;49mConversionOptions(\n\u001b[1;32m     46\u001b[0m           recursive\u001b[39m=\u001b[39;49m\u001b[39mTrue\u001b[39;49;00m,\n\u001b[1;32m     47\u001b[0m           optional_features\u001b[39m=\u001b[39;49mautograph_options,\n\u001b[1;32m     48\u001b[0m           user_requested\u001b[39m=\u001b[39;49m\u001b[39mTrue\u001b[39;49;00m,\n\u001b[1;32m     49\u001b[0m       ))\n\u001b[1;32m     50\u001b[0m \u001b[39mexcept\u001b[39;00m \u001b[39mException\u001b[39;00m \u001b[39mas\u001b[39;00m e:  \u001b[39m# pylint:disable=broad-except\u001b[39;00m\n\u001b[1;32m     51\u001b[0m   \u001b[39mif\u001b[39;00m \u001b[39mhasattr\u001b[39m(e, \u001b[39m\"\u001b[39m\u001b[39mag_error_metadata\u001b[39m\u001b[39m\"\u001b[39m):\n",
      "File \u001b[0;32m/usr/local/lib/python3.11/dist-packages/tensorflow/python/autograph/impl/api.py:439\u001b[0m, in \u001b[0;36mconverted_call\u001b[0;34m(f, args, kwargs, caller_fn_scope, options)\u001b[0m\n\u001b[1;32m    437\u001b[0m \u001b[39mtry\u001b[39;00m:\n\u001b[1;32m    438\u001b[0m   \u001b[39mif\u001b[39;00m kwargs \u001b[39mis\u001b[39;00m \u001b[39mnot\u001b[39;00m \u001b[39mNone\u001b[39;00m:\n\u001b[0;32m--> 439\u001b[0m     result \u001b[39m=\u001b[39m converted_f(\u001b[39m*\u001b[39;49meffective_args, \u001b[39m*\u001b[39;49m\u001b[39m*\u001b[39;49mkwargs)\n\u001b[1;32m    440\u001b[0m   \u001b[39melse\u001b[39;00m:\n\u001b[1;32m    441\u001b[0m     result \u001b[39m=\u001b[39m converted_f(\u001b[39m*\u001b[39meffective_args)\n",
      "File \u001b[0;32m/tmp/__autograph_generated_filelc93x95v.py:15\u001b[0m, in \u001b[0;36mouter_factory.<locals>.inner_factory.<locals>.tf__test_function\u001b[0;34m(iterator)\u001b[0m\n\u001b[1;32m     13\u001b[0m \u001b[39mtry\u001b[39;00m:\n\u001b[1;32m     14\u001b[0m     do_return \u001b[39m=\u001b[39m \u001b[39mTrue\u001b[39;00m\n\u001b[0;32m---> 15\u001b[0m     retval_ \u001b[39m=\u001b[39m ag__\u001b[39m.\u001b[39;49mconverted_call(ag__\u001b[39m.\u001b[39;49mld(step_function), (ag__\u001b[39m.\u001b[39;49mld(\u001b[39mself\u001b[39;49m), ag__\u001b[39m.\u001b[39;49mld(iterator)), \u001b[39mNone\u001b[39;49;00m, fscope)\n\u001b[1;32m     16\u001b[0m \u001b[39mexcept\u001b[39;00m:\n\u001b[1;32m     17\u001b[0m     do_return \u001b[39m=\u001b[39m \u001b[39mFalse\u001b[39;00m\n",
      "File \u001b[0;32m/usr/local/lib/python3.11/dist-packages/tensorflow/python/autograph/impl/api.py:377\u001b[0m, in \u001b[0;36mconverted_call\u001b[0;34m(f, args, kwargs, caller_fn_scope, options)\u001b[0m\n\u001b[1;32m    374\u001b[0m   \u001b[39mreturn\u001b[39;00m _call_unconverted(f, args, kwargs, options)\n\u001b[1;32m    376\u001b[0m \u001b[39mif\u001b[39;00m \u001b[39mnot\u001b[39;00m options\u001b[39m.\u001b[39muser_requested \u001b[39mand\u001b[39;00m conversion\u001b[39m.\u001b[39mis_allowlisted(f):\n\u001b[0;32m--> 377\u001b[0m   \u001b[39mreturn\u001b[39;00m _call_unconverted(f, args, kwargs, options)\n\u001b[1;32m    379\u001b[0m \u001b[39m# internal_convert_user_code is for example turned off when issuing a dynamic\u001b[39;00m\n\u001b[1;32m    380\u001b[0m \u001b[39m# call conversion from generated code while in nonrecursive mode. In that\u001b[39;00m\n\u001b[1;32m    381\u001b[0m \u001b[39m# case we evidently don't want to recurse, but we still have to convert\u001b[39;00m\n\u001b[1;32m    382\u001b[0m \u001b[39m# things like builtins.\u001b[39;00m\n\u001b[1;32m    383\u001b[0m \u001b[39mif\u001b[39;00m \u001b[39mnot\u001b[39;00m options\u001b[39m.\u001b[39minternal_convert_user_code:\n",
      "File \u001b[0;32m/usr/local/lib/python3.11/dist-packages/tensorflow/python/autograph/impl/api.py:460\u001b[0m, in \u001b[0;36m_call_unconverted\u001b[0;34m(f, args, kwargs, options, update_cache)\u001b[0m\n\u001b[1;32m    458\u001b[0m \u001b[39mif\u001b[39;00m kwargs \u001b[39mis\u001b[39;00m \u001b[39mnot\u001b[39;00m \u001b[39mNone\u001b[39;00m:\n\u001b[1;32m    459\u001b[0m   \u001b[39mreturn\u001b[39;00m f(\u001b[39m*\u001b[39margs, \u001b[39m*\u001b[39m\u001b[39m*\u001b[39mkwargs)\n\u001b[0;32m--> 460\u001b[0m \u001b[39mreturn\u001b[39;00m f(\u001b[39m*\u001b[39;49margs)\n",
      "File \u001b[0;32m/usr/local/lib/python3.11/dist-packages/keras/src/engine/training.py:2025\u001b[0m, in \u001b[0;36mModel.make_test_function.<locals>.step_function\u001b[0;34m(model, iterator)\u001b[0m\n\u001b[1;32m   2020\u001b[0m     run_step \u001b[39m=\u001b[39m tf\u001b[39m.\u001b[39mfunction(\n\u001b[1;32m   2021\u001b[0m         run_step, jit_compile\u001b[39m=\u001b[39m\u001b[39mTrue\u001b[39;00m, reduce_retracing\u001b[39m=\u001b[39m\u001b[39mTrue\u001b[39;00m\n\u001b[1;32m   2022\u001b[0m     )\n\u001b[1;32m   2024\u001b[0m data \u001b[39m=\u001b[39m \u001b[39mnext\u001b[39m(iterator)\n\u001b[0;32m-> 2025\u001b[0m outputs \u001b[39m=\u001b[39m model\u001b[39m.\u001b[39;49mdistribute_strategy\u001b[39m.\u001b[39;49mrun(run_step, args\u001b[39m=\u001b[39;49m(data,))\n\u001b[1;32m   2026\u001b[0m outputs \u001b[39m=\u001b[39m reduce_per_replica(\n\u001b[1;32m   2027\u001b[0m     outputs,\n\u001b[1;32m   2028\u001b[0m     \u001b[39mself\u001b[39m\u001b[39m.\u001b[39mdistribute_strategy,\n\u001b[1;32m   2029\u001b[0m     reduction\u001b[39m=\u001b[39m\u001b[39mself\u001b[39m\u001b[39m.\u001b[39mdistribute_reduction_method,\n\u001b[1;32m   2030\u001b[0m )\n\u001b[1;32m   2031\u001b[0m \u001b[39mreturn\u001b[39;00m outputs\n",
      "File \u001b[0;32m/usr/local/lib/python3.11/dist-packages/tensorflow/python/distribute/distribute_lib.py:1679\u001b[0m, in \u001b[0;36mStrategyBase.run\u001b[0;34m(***failed resolving arguments***)\u001b[0m\n\u001b[1;32m   1674\u001b[0m \u001b[39mwith\u001b[39;00m \u001b[39mself\u001b[39m\u001b[39m.\u001b[39mscope():\n\u001b[1;32m   1675\u001b[0m   \u001b[39m# tf.distribute supports Eager functions, so AutoGraph should not be\u001b[39;00m\n\u001b[1;32m   1676\u001b[0m   \u001b[39m# applied when the caller is also in Eager mode.\u001b[39;00m\n\u001b[1;32m   1677\u001b[0m   fn \u001b[39m=\u001b[39m autograph\u001b[39m.\u001b[39mtf_convert(\n\u001b[1;32m   1678\u001b[0m       fn, autograph_ctx\u001b[39m.\u001b[39mcontrol_status_ctx(), convert_by_default\u001b[39m=\u001b[39m\u001b[39mFalse\u001b[39;00m)\n\u001b[0;32m-> 1679\u001b[0m   \u001b[39mreturn\u001b[39;00m \u001b[39mself\u001b[39;49m\u001b[39m.\u001b[39;49m_extended\u001b[39m.\u001b[39;49mcall_for_each_replica(fn, args\u001b[39m=\u001b[39;49margs, kwargs\u001b[39m=\u001b[39;49mkwargs)\n",
      "File \u001b[0;32m/usr/local/lib/python3.11/dist-packages/tensorflow/python/distribute/distribute_lib.py:3269\u001b[0m, in \u001b[0;36mStrategyExtendedV1.call_for_each_replica\u001b[0;34m(self, fn, args, kwargs)\u001b[0m\n\u001b[1;32m   3267\u001b[0m   kwargs \u001b[39m=\u001b[39m {}\n\u001b[1;32m   3268\u001b[0m \u001b[39mwith\u001b[39;00m \u001b[39mself\u001b[39m\u001b[39m.\u001b[39m_container_strategy()\u001b[39m.\u001b[39mscope():\n\u001b[0;32m-> 3269\u001b[0m   \u001b[39mreturn\u001b[39;00m \u001b[39mself\u001b[39;49m\u001b[39m.\u001b[39;49m_call_for_each_replica(fn, args, kwargs)\n",
      "File \u001b[0;32m/usr/local/lib/python3.11/dist-packages/tensorflow/python/distribute/distribute_lib.py:4067\u001b[0m, in \u001b[0;36m_DefaultDistributionExtended._call_for_each_replica\u001b[0;34m(self, fn, args, kwargs)\u001b[0m\n\u001b[1;32m   4065\u001b[0m \u001b[39mdef\u001b[39;00m \u001b[39m_call_for_each_replica\u001b[39m(\u001b[39mself\u001b[39m, fn, args, kwargs):\n\u001b[1;32m   4066\u001b[0m   \u001b[39mwith\u001b[39;00m ReplicaContext(\u001b[39mself\u001b[39m\u001b[39m.\u001b[39m_container_strategy(), replica_id_in_sync_group\u001b[39m=\u001b[39m\u001b[39m0\u001b[39m):\n\u001b[0;32m-> 4067\u001b[0m     \u001b[39mreturn\u001b[39;00m fn(\u001b[39m*\u001b[39;49margs, \u001b[39m*\u001b[39;49m\u001b[39m*\u001b[39;49mkwargs)\n",
      "File \u001b[0;32m/usr/local/lib/python3.11/dist-packages/tensorflow/python/autograph/impl/api.py:690\u001b[0m, in \u001b[0;36mconvert.<locals>.decorator.<locals>.wrapper\u001b[0;34m(*args, **kwargs)\u001b[0m\n\u001b[1;32m    688\u001b[0m \u001b[39mtry\u001b[39;00m:\n\u001b[1;32m    689\u001b[0m   \u001b[39mwith\u001b[39;00m conversion_ctx:\n\u001b[0;32m--> 690\u001b[0m     \u001b[39mreturn\u001b[39;00m converted_call(f, args, kwargs, options\u001b[39m=\u001b[39;49moptions)\n\u001b[1;32m    691\u001b[0m \u001b[39mexcept\u001b[39;00m \u001b[39mException\u001b[39;00m \u001b[39mas\u001b[39;00m e:  \u001b[39m# pylint:disable=broad-except\u001b[39;00m\n\u001b[1;32m    692\u001b[0m   \u001b[39mif\u001b[39;00m \u001b[39mhasattr\u001b[39m(e, \u001b[39m'\u001b[39m\u001b[39mag_error_metadata\u001b[39m\u001b[39m'\u001b[39m):\n",
      "File \u001b[0;32m/usr/local/lib/python3.11/dist-packages/tensorflow/python/autograph/impl/api.py:377\u001b[0m, in \u001b[0;36mconverted_call\u001b[0;34m(f, args, kwargs, caller_fn_scope, options)\u001b[0m\n\u001b[1;32m    374\u001b[0m   \u001b[39mreturn\u001b[39;00m _call_unconverted(f, args, kwargs, options)\n\u001b[1;32m    376\u001b[0m \u001b[39mif\u001b[39;00m \u001b[39mnot\u001b[39;00m options\u001b[39m.\u001b[39muser_requested \u001b[39mand\u001b[39;00m conversion\u001b[39m.\u001b[39mis_allowlisted(f):\n\u001b[0;32m--> 377\u001b[0m   \u001b[39mreturn\u001b[39;00m _call_unconverted(f, args, kwargs, options)\n\u001b[1;32m    379\u001b[0m \u001b[39m# internal_convert_user_code is for example turned off when issuing a dynamic\u001b[39;00m\n\u001b[1;32m    380\u001b[0m \u001b[39m# call conversion from generated code while in nonrecursive mode. In that\u001b[39;00m\n\u001b[1;32m    381\u001b[0m \u001b[39m# case we evidently don't want to recurse, but we still have to convert\u001b[39;00m\n\u001b[1;32m    382\u001b[0m \u001b[39m# things like builtins.\u001b[39;00m\n\u001b[1;32m    383\u001b[0m \u001b[39mif\u001b[39;00m \u001b[39mnot\u001b[39;00m options\u001b[39m.\u001b[39minternal_convert_user_code:\n",
      "File \u001b[0;32m/usr/local/lib/python3.11/dist-packages/tensorflow/python/autograph/impl/api.py:459\u001b[0m, in \u001b[0;36m_call_unconverted\u001b[0;34m(f, args, kwargs, options, update_cache)\u001b[0m\n\u001b[1;32m    456\u001b[0m   \u001b[39mreturn\u001b[39;00m f\u001b[39m.\u001b[39m\u001b[39m__self__\u001b[39m\u001b[39m.\u001b[39mcall(args, kwargs)\n\u001b[1;32m    458\u001b[0m \u001b[39mif\u001b[39;00m kwargs \u001b[39mis\u001b[39;00m \u001b[39mnot\u001b[39;00m \u001b[39mNone\u001b[39;00m:\n\u001b[0;32m--> 459\u001b[0m   \u001b[39mreturn\u001b[39;00m f(\u001b[39m*\u001b[39;49margs, \u001b[39m*\u001b[39;49m\u001b[39m*\u001b[39;49mkwargs)\n\u001b[1;32m    460\u001b[0m \u001b[39mreturn\u001b[39;00m f(\u001b[39m*\u001b[39margs)\n",
      "File \u001b[0;32m/usr/local/lib/python3.11/dist-packages/keras/src/engine/training.py:2013\u001b[0m, in \u001b[0;36mModel.make_test_function.<locals>.step_function.<locals>.run_step\u001b[0;34m(data)\u001b[0m\n\u001b[1;32m   2012\u001b[0m \u001b[39mdef\u001b[39;00m \u001b[39mrun_step\u001b[39m(data):\n\u001b[0;32m-> 2013\u001b[0m     outputs \u001b[39m=\u001b[39m model\u001b[39m.\u001b[39;49mtest_step(data)\n\u001b[1;32m   2014\u001b[0m     \u001b[39m# Ensure counter is updated only if `test_step` succeeds.\u001b[39;00m\n\u001b[1;32m   2015\u001b[0m     \u001b[39mwith\u001b[39;00m tf\u001b[39m.\u001b[39mcontrol_dependencies(_minimum_control_deps(outputs)):\n",
      "File \u001b[0;32m/usr/local/lib/python3.11/dist-packages/keras/src/engine/training.py:1896\u001b[0m, in \u001b[0;36mModel.test_step\u001b[0;34m(self, data)\u001b[0m\n\u001b[1;32m   1894\u001b[0m \u001b[39m# Updates stateful loss metrics.\u001b[39;00m\n\u001b[1;32m   1895\u001b[0m \u001b[39mself\u001b[39m\u001b[39m.\u001b[39mcompute_loss(x, y, y_pred, sample_weight)\n\u001b[0;32m-> 1896\u001b[0m \u001b[39mreturn\u001b[39;00m \u001b[39mself\u001b[39;49m\u001b[39m.\u001b[39;49mcompute_metrics(x, y, y_pred, sample_weight)\n",
      "File \u001b[0;32m/usr/local/lib/python3.11/dist-packages/keras/src/engine/training.py:1226\u001b[0m, in \u001b[0;36mModel.compute_metrics\u001b[0;34m(***failed resolving arguments***)\u001b[0m\n\u001b[1;32m   1224\u001b[0m \u001b[39mdel\u001b[39;00m x  \u001b[39m# The default implementation does not use `x`.\u001b[39;00m\n\u001b[1;32m   1225\u001b[0m \u001b[39mself\u001b[39m\u001b[39m.\u001b[39mcompiled_metrics\u001b[39m.\u001b[39mupdate_state(y, y_pred, sample_weight)\n\u001b[0;32m-> 1226\u001b[0m \u001b[39mreturn\u001b[39;00m \u001b[39mself\u001b[39;49m\u001b[39m.\u001b[39;49mget_metrics_result()\n",
      "File \u001b[0;32m/usr/local/lib/python3.11/dist-packages/keras/src/engine/training.py:1242\u001b[0m, in \u001b[0;36mModel.get_metrics_result\u001b[0;34m(self)\u001b[0m\n\u001b[1;32m   1240\u001b[0m return_metrics \u001b[39m=\u001b[39m {}\n\u001b[1;32m   1241\u001b[0m \u001b[39mfor\u001b[39;00m metric \u001b[39min\u001b[39;00m \u001b[39mself\u001b[39m\u001b[39m.\u001b[39mmetrics:\n\u001b[0;32m-> 1242\u001b[0m     result \u001b[39m=\u001b[39m metric\u001b[39m.\u001b[39;49mresult()\n\u001b[1;32m   1243\u001b[0m     \u001b[39mif\u001b[39;00m \u001b[39misinstance\u001b[39m(result, \u001b[39mdict\u001b[39m):\n\u001b[1;32m   1244\u001b[0m         return_metrics\u001b[39m.\u001b[39mupdate(result)\n",
      "File \u001b[0;32m/usr/local/lib/python3.11/dist-packages/keras/src/utils/metrics_utils.py:138\u001b[0m, in \u001b[0;36mresult_wrapper.<locals>.decorated\u001b[0;34m(metric_obj, *args)\u001b[0m\n\u001b[1;32m    133\u001b[0m \u001b[39mif\u001b[39;00m (\n\u001b[1;32m    134\u001b[0m     replica_context \u001b[39mis\u001b[39;00m \u001b[39mNone\u001b[39;00m\n\u001b[1;32m    135\u001b[0m     \u001b[39mor\u001b[39;00m tf\u001b[39m.\u001b[39m__internal__\u001b[39m.\u001b[39mdistribute\u001b[39m.\u001b[39mstrategy_supports_no_merge_call()\n\u001b[1;32m    136\u001b[0m ):\n\u001b[1;32m    137\u001b[0m     \u001b[39mwith\u001b[39;00m tf\u001b[39m.\u001b[39m__internal__\u001b[39m.\u001b[39mdistribute\u001b[39m.\u001b[39mvariable_sync_on_read_context():\n\u001b[0;32m--> 138\u001b[0m         raw_result \u001b[39m=\u001b[39m result_fn(\u001b[39m*\u001b[39;49margs)\n\u001b[1;32m    139\u001b[0m         \u001b[39m# Results need to be wrapped in a `tf.identity` op to ensure\u001b[39;00m\n\u001b[1;32m    140\u001b[0m         \u001b[39m# correct execution order.\u001b[39;00m\n\u001b[1;32m    141\u001b[0m         \u001b[39mif\u001b[39;00m \u001b[39misinstance\u001b[39m(raw_result, (tf\u001b[39m.\u001b[39mTensor, tf\u001b[39m.\u001b[39mVariable, \u001b[39mfloat\u001b[39m, \u001b[39mint\u001b[39m)):\n",
      "File \u001b[0;32m/usr/local/lib/python3.11/dist-packages/keras/src/metrics/base_metric.py:159\u001b[0m, in \u001b[0;36mMetric.__new__.<locals>.result_fn\u001b[0;34m(*args, **kwargs)\u001b[0m\n\u001b[1;32m    155\u001b[0m control_status \u001b[39m=\u001b[39m tf\u001b[39m.\u001b[39m__internal__\u001b[39m.\u001b[39mautograph\u001b[39m.\u001b[39mcontrol_status_ctx()\n\u001b[1;32m    156\u001b[0m ag_result \u001b[39m=\u001b[39m tf\u001b[39m.\u001b[39m__internal__\u001b[39m.\u001b[39mautograph\u001b[39m.\u001b[39mtf_convert(\n\u001b[1;32m    157\u001b[0m     obj_result, control_status\n\u001b[1;32m    158\u001b[0m )\n\u001b[0;32m--> 159\u001b[0m \u001b[39mreturn\u001b[39;00m ag_result(\u001b[39m*\u001b[39;49margs, \u001b[39m*\u001b[39;49m\u001b[39m*\u001b[39;49mkwargs)\n",
      "File \u001b[0;32m/usr/local/lib/python3.11/dist-packages/tensorflow/python/autograph/impl/api.py:690\u001b[0m, in \u001b[0;36mconvert.<locals>.decorator.<locals>.wrapper\u001b[0;34m(*args, **kwargs)\u001b[0m\n\u001b[1;32m    688\u001b[0m \u001b[39mtry\u001b[39;00m:\n\u001b[1;32m    689\u001b[0m   \u001b[39mwith\u001b[39;00m conversion_ctx:\n\u001b[0;32m--> 690\u001b[0m     \u001b[39mreturn\u001b[39;00m converted_call(f, args, kwargs, options\u001b[39m=\u001b[39;49moptions)\n\u001b[1;32m    691\u001b[0m \u001b[39mexcept\u001b[39;00m \u001b[39mException\u001b[39;00m \u001b[39mas\u001b[39;00m e:  \u001b[39m# pylint:disable=broad-except\u001b[39;00m\n\u001b[1;32m    692\u001b[0m   \u001b[39mif\u001b[39;00m \u001b[39mhasattr\u001b[39m(e, \u001b[39m'\u001b[39m\u001b[39mag_error_metadata\u001b[39m\u001b[39m'\u001b[39m):\n",
      "File \u001b[0;32m/usr/local/lib/python3.11/dist-packages/tensorflow/python/autograph/impl/api.py:331\u001b[0m, in \u001b[0;36mconverted_call\u001b[0;34m(f, args, kwargs, caller_fn_scope, options)\u001b[0m\n\u001b[1;32m    329\u001b[0m \u001b[39mif\u001b[39;00m conversion\u001b[39m.\u001b[39mis_in_allowlist_cache(f, options):\n\u001b[1;32m    330\u001b[0m   logging\u001b[39m.\u001b[39mlog(\u001b[39m2\u001b[39m, \u001b[39m'\u001b[39m\u001b[39mAllowlisted \u001b[39m\u001b[39m%s\u001b[39;00m\u001b[39m: from cache\u001b[39m\u001b[39m'\u001b[39m, f)\n\u001b[0;32m--> 331\u001b[0m   \u001b[39mreturn\u001b[39;00m _call_unconverted(f, args, kwargs, options, \u001b[39mFalse\u001b[39;49;00m)\n\u001b[1;32m    333\u001b[0m \u001b[39mif\u001b[39;00m ag_ctx\u001b[39m.\u001b[39mcontrol_status_ctx()\u001b[39m.\u001b[39mstatus \u001b[39m==\u001b[39m ag_ctx\u001b[39m.\u001b[39mStatus\u001b[39m.\u001b[39mDISABLED:\n\u001b[1;32m    334\u001b[0m   logging\u001b[39m.\u001b[39mlog(\u001b[39m2\u001b[39m, \u001b[39m'\u001b[39m\u001b[39mAllowlisted: \u001b[39m\u001b[39m%s\u001b[39;00m\u001b[39m: AutoGraph is disabled in context\u001b[39m\u001b[39m'\u001b[39m, f)\n",
      "File \u001b[0;32m/usr/local/lib/python3.11/dist-packages/tensorflow/python/autograph/impl/api.py:459\u001b[0m, in \u001b[0;36m_call_unconverted\u001b[0;34m(f, args, kwargs, options, update_cache)\u001b[0m\n\u001b[1;32m    456\u001b[0m   \u001b[39mreturn\u001b[39;00m f\u001b[39m.\u001b[39m\u001b[39m__self__\u001b[39m\u001b[39m.\u001b[39mcall(args, kwargs)\n\u001b[1;32m    458\u001b[0m \u001b[39mif\u001b[39;00m kwargs \u001b[39mis\u001b[39;00m \u001b[39mnot\u001b[39;00m \u001b[39mNone\u001b[39;00m:\n\u001b[0;32m--> 459\u001b[0m   \u001b[39mreturn\u001b[39;00m f(\u001b[39m*\u001b[39;49margs, \u001b[39m*\u001b[39;49m\u001b[39m*\u001b[39;49mkwargs)\n\u001b[1;32m    460\u001b[0m \u001b[39mreturn\u001b[39;00m f(\u001b[39m*\u001b[39margs)\n",
      "File \u001b[0;32m/usr/local/lib/python3.11/dist-packages/keras/src/metrics/base_metric.py:558\u001b[0m, in \u001b[0;36mReduce.result\u001b[0;34m(self)\u001b[0m\n\u001b[1;32m    553\u001b[0m     \u001b[39mreturn\u001b[39;00m tf\u001b[39m.\u001b[39midentity(\u001b[39mself\u001b[39m\u001b[39m.\u001b[39mtotal)\n\u001b[1;32m    554\u001b[0m \u001b[39melif\u001b[39;00m \u001b[39mself\u001b[39m\u001b[39m.\u001b[39mreduction \u001b[39min\u001b[39;00m [\n\u001b[1;32m    555\u001b[0m     metrics_utils\u001b[39m.\u001b[39mReduction\u001b[39m.\u001b[39mWEIGHTED_MEAN,\n\u001b[1;32m    556\u001b[0m     metrics_utils\u001b[39m.\u001b[39mReduction\u001b[39m.\u001b[39mSUM_OVER_BATCH_SIZE,\n\u001b[1;32m    557\u001b[0m ]:\n\u001b[0;32m--> 558\u001b[0m     \u001b[39mreturn\u001b[39;00m tf\u001b[39m.\u001b[39;49mmath\u001b[39m.\u001b[39;49mdivide_no_nan(\u001b[39mself\u001b[39;49m\u001b[39m.\u001b[39;49mtotal, \u001b[39mself\u001b[39;49m\u001b[39m.\u001b[39;49mcount)\n\u001b[1;32m    559\u001b[0m \u001b[39melse\u001b[39;00m:\n\u001b[1;32m    560\u001b[0m     \u001b[39mraise\u001b[39;00m \u001b[39mNotImplementedError\u001b[39;00m(\n\u001b[1;32m    561\u001b[0m         \u001b[39mf\u001b[39m\u001b[39m'\u001b[39m\u001b[39mReduction \u001b[39m\u001b[39m\"\u001b[39m\u001b[39m{\u001b[39;00m\u001b[39mself\u001b[39m\u001b[39m.\u001b[39mreduction\u001b[39m}\u001b[39;00m\u001b[39m\"\u001b[39m\u001b[39m not implemented. Expected \u001b[39m\u001b[39m'\u001b[39m\n\u001b[1;32m    562\u001b[0m         \u001b[39m'\u001b[39m\u001b[39m\"\u001b[39m\u001b[39msum\u001b[39m\u001b[39m\"\u001b[39m\u001b[39m, \u001b[39m\u001b[39m\"\u001b[39m\u001b[39mweighted_mean\u001b[39m\u001b[39m\"\u001b[39m\u001b[39m, or \u001b[39m\u001b[39m\"\u001b[39m\u001b[39msum_over_batch_size\u001b[39m\u001b[39m\"\u001b[39m\u001b[39m.\u001b[39m\u001b[39m'\u001b[39m\n\u001b[1;32m    563\u001b[0m     )\n",
      "File \u001b[0;32m/usr/local/lib/python3.11/dist-packages/tensorflow/python/util/traceback_utils.py:150\u001b[0m, in \u001b[0;36mfilter_traceback.<locals>.error_handler\u001b[0;34m(*args, **kwargs)\u001b[0m\n\u001b[1;32m    148\u001b[0m filtered_tb \u001b[39m=\u001b[39m \u001b[39mNone\u001b[39;00m\n\u001b[1;32m    149\u001b[0m \u001b[39mtry\u001b[39;00m:\n\u001b[0;32m--> 150\u001b[0m   \u001b[39mreturn\u001b[39;00m fn(\u001b[39m*\u001b[39;49margs, \u001b[39m*\u001b[39;49m\u001b[39m*\u001b[39;49mkwargs)\n\u001b[1;32m    151\u001b[0m \u001b[39mexcept\u001b[39;00m \u001b[39mException\u001b[39;00m \u001b[39mas\u001b[39;00m e:\n\u001b[1;32m    152\u001b[0m   filtered_tb \u001b[39m=\u001b[39m _process_traceback_frames(e\u001b[39m.\u001b[39m__traceback__)\n",
      "File \u001b[0;32m/usr/local/lib/python3.11/dist-packages/tensorflow/python/util/dispatch.py:1260\u001b[0m, in \u001b[0;36madd_dispatch_support.<locals>.decorator.<locals>.op_dispatch_handler\u001b[0;34m(*args, **kwargs)\u001b[0m\n\u001b[1;32m   1258\u001b[0m \u001b[39m# Fallback dispatch system (dispatch v1):\u001b[39;00m\n\u001b[1;32m   1259\u001b[0m \u001b[39mtry\u001b[39;00m:\n\u001b[0;32m-> 1260\u001b[0m   \u001b[39mreturn\u001b[39;00m dispatch_target(\u001b[39m*\u001b[39;49margs, \u001b[39m*\u001b[39;49m\u001b[39m*\u001b[39;49mkwargs)\n\u001b[1;32m   1261\u001b[0m \u001b[39mexcept\u001b[39;00m (\u001b[39mTypeError\u001b[39;00m, \u001b[39mValueError\u001b[39;00m):\n\u001b[1;32m   1262\u001b[0m   \u001b[39m# Note: convert_to_eager_tensor currently raises a ValueError, not a\u001b[39;00m\n\u001b[1;32m   1263\u001b[0m   \u001b[39m# TypeError, when given unexpected types.  So we need to catch both.\u001b[39;00m\n\u001b[1;32m   1264\u001b[0m   result \u001b[39m=\u001b[39m dispatch(op_dispatch_handler, args, kwargs)\n",
      "File \u001b[0;32m/usr/local/lib/python3.11/dist-packages/tensorflow/python/ops/math_ops.py:1724\u001b[0m, in \u001b[0;36mdiv_no_nan\u001b[0;34m(x, y, name)\u001b[0m\n\u001b[1;32m   1695\u001b[0m \u001b[39m@tf_export\u001b[39m(\u001b[39m\"\u001b[39m\u001b[39mmath.divide_no_nan\u001b[39m\u001b[39m\"\u001b[39m, v1\u001b[39m=\u001b[39m[\u001b[39m\"\u001b[39m\u001b[39mmath.divide_no_nan\u001b[39m\u001b[39m\"\u001b[39m, \u001b[39m\"\u001b[39m\u001b[39mdiv_no_nan\u001b[39m\u001b[39m\"\u001b[39m])\n\u001b[1;32m   1696\u001b[0m \u001b[39m@dispatch\u001b[39m\u001b[39m.\u001b[39mregister_binary_elementwise_api\n\u001b[1;32m   1697\u001b[0m \u001b[39m@dispatch\u001b[39m\u001b[39m.\u001b[39madd_dispatch_support\n\u001b[1;32m   1698\u001b[0m \u001b[39m@deprecation\u001b[39m\u001b[39m.\u001b[39mdeprecated_endpoints(\u001b[39m\"\u001b[39m\u001b[39mdiv_no_nan\u001b[39m\u001b[39m\"\u001b[39m)\n\u001b[1;32m   1699\u001b[0m \u001b[39mdef\u001b[39;00m \u001b[39mdiv_no_nan\u001b[39m(x, y, name\u001b[39m=\u001b[39m\u001b[39mNone\u001b[39;00m):\n\u001b[1;32m   1700\u001b[0m \u001b[39m  \u001b[39m\u001b[39m\"\"\"Computes a safe divide which returns 0 if `y` (denominator) is zero.\u001b[39;00m\n\u001b[1;32m   1701\u001b[0m \n\u001b[1;32m   1702\u001b[0m \u001b[39m  For example:\u001b[39;00m\n\u001b[0;32m   (...)\u001b[0m\n\u001b[1;32m   1721\u001b[0m \u001b[39m    except that division by zero produces `0.0`, not `nan`.\u001b[39;00m\n\u001b[1;32m   1722\u001b[0m \u001b[39m  \"\"\"\u001b[39;00m\n\u001b[0;32m-> 1724\u001b[0m   \u001b[39mwith\u001b[39;49;00m ops\u001b[39m.\u001b[39;49mname_scope(name, \u001b[39m\"\u001b[39;49m\u001b[39mdiv_no_nan\u001b[39;49m\u001b[39m\"\u001b[39;49m, [x, y]) \u001b[39mas\u001b[39;49;00m name:\n\u001b[1;32m   1725\u001b[0m     \u001b[39mif\u001b[39;49;00m \u001b[39mnot\u001b[39;49;00m tensor_util\u001b[39m.\u001b[39;49mis_tf_type(x) \u001b[39mand\u001b[39;49;00m tensor_util\u001b[39m.\u001b[39;49mis_tf_type(y):\n\u001b[1;32m   1726\u001b[0m       \u001b[39m# Treat this case specially like divide() does above.\u001b[39;49;00m\n\u001b[1;32m   1727\u001b[0m       y \u001b[39m=\u001b[39;49m ops\u001b[39m.\u001b[39;49mconvert_to_tensor(y, name\u001b[39m=\u001b[39;49m\u001b[39m\"\u001b[39;49m\u001b[39my\u001b[39;49m\u001b[39m\"\u001b[39;49m)\n",
      "File \u001b[0;32m/usr/local/lib/python3.11/dist-packages/tensorflow/python/framework/ops.py:5515\u001b[0m, in \u001b[0;36minternal_name_scope_v1.__enter__\u001b[0;34m(self)\u001b[0m\n\u001b[1;32m   5513\u001b[0m \u001b[39mtry\u001b[39;00m:\n\u001b[1;32m   5514\u001b[0m   \u001b[39mself\u001b[39m\u001b[39m.\u001b[39m_name_scope \u001b[39m=\u001b[39m g\u001b[39m.\u001b[39mname_scope(\u001b[39mself\u001b[39m\u001b[39m.\u001b[39m_name)\n\u001b[0;32m-> 5515\u001b[0m   \u001b[39mreturn\u001b[39;00m \u001b[39mself\u001b[39;49m\u001b[39m.\u001b[39;49m_name_scope\u001b[39m.\u001b[39;49m\u001b[39m__enter__\u001b[39;49m()\n\u001b[1;32m   5516\u001b[0m \u001b[39mexcept\u001b[39;00m:\n\u001b[1;32m   5517\u001b[0m   \u001b[39mif\u001b[39;00m \u001b[39mself\u001b[39m\u001b[39m.\u001b[39m_g_manager \u001b[39mis\u001b[39;00m \u001b[39mnot\u001b[39;00m \u001b[39mNone\u001b[39;00m:\n",
      "File \u001b[0;32m/usr/lib/python3.11/contextlib.py:137\u001b[0m, in \u001b[0;36m_GeneratorContextManager.__enter__\u001b[0;34m(self)\u001b[0m\n\u001b[1;32m    135\u001b[0m \u001b[39mdel\u001b[39;00m \u001b[39mself\u001b[39m\u001b[39m.\u001b[39margs, \u001b[39mself\u001b[39m\u001b[39m.\u001b[39mkwds, \u001b[39mself\u001b[39m\u001b[39m.\u001b[39mfunc\n\u001b[1;32m    136\u001b[0m \u001b[39mtry\u001b[39;00m:\n\u001b[0;32m--> 137\u001b[0m     \u001b[39mreturn\u001b[39;00m \u001b[39mnext\u001b[39m(\u001b[39mself\u001b[39m\u001b[39m.\u001b[39mgen)\n\u001b[1;32m    138\u001b[0m \u001b[39mexcept\u001b[39;00m \u001b[39mStopIteration\u001b[39;00m:\n\u001b[1;32m    139\u001b[0m     \u001b[39mraise\u001b[39;00m \u001b[39mRuntimeError\u001b[39;00m(\u001b[39m\"\u001b[39m\u001b[39mgenerator didn\u001b[39m\u001b[39m'\u001b[39m\u001b[39mt yield\u001b[39m\u001b[39m\"\u001b[39m) \u001b[39mfrom\u001b[39;00m \u001b[39mNone\u001b[39;00m\n",
      "File \u001b[0;32m/usr/local/lib/python3.11/dist-packages/tensorflow/python/framework/ops.py:3346\u001b[0m, in \u001b[0;36mGraph.name_scope\u001b[0;34m(self, name)\u001b[0m\n\u001b[1;32m   3344\u001b[0m   returned_scope \u001b[39m=\u001b[39m name\n\u001b[1;32m   3345\u001b[0m \u001b[39melse\u001b[39;00m:\n\u001b[0;32m-> 3346\u001b[0m   new_stack \u001b[39m=\u001b[39m \u001b[39mself\u001b[39;49m\u001b[39m.\u001b[39;49munique_name(name)\n\u001b[1;32m   3347\u001b[0m   returned_scope \u001b[39m=\u001b[39m new_stack \u001b[39m+\u001b[39m \u001b[39m\"\u001b[39m\u001b[39m/\u001b[39m\u001b[39m\"\u001b[39m\n\u001b[1;32m   3348\u001b[0m \u001b[39mself\u001b[39m\u001b[39m.\u001b[39m_name_stack \u001b[39m=\u001b[39m new_stack\n",
      "File \u001b[0;32m/usr/local/lib/python3.11/dist-packages/tensorflow/python/framework/ops.py:3383\u001b[0m, in \u001b[0;36mGraph.unique_name\u001b[0;34m(self, name, mark_as_used)\u001b[0m\n\u001b[1;32m   3356\u001b[0m \u001b[39mdef\u001b[39;00m \u001b[39munique_name\u001b[39m(\u001b[39mself\u001b[39m, name, mark_as_used\u001b[39m=\u001b[39m\u001b[39mTrue\u001b[39;00m):\n\u001b[1;32m   3357\u001b[0m \u001b[39m  \u001b[39m\u001b[39m\"\"\"Return a unique operation name for `name`.\u001b[39;00m\n\u001b[1;32m   3358\u001b[0m \n\u001b[1;32m   3359\u001b[0m \u001b[39m  Note: You rarely need to call `unique_name()` directly.  Most of\u001b[39;00m\n\u001b[0;32m   (...)\u001b[0m\n\u001b[1;32m   3381\u001b[0m \u001b[39m    to name the operation being created.\u001b[39;00m\n\u001b[1;32m   3382\u001b[0m \u001b[39m  \"\"\"\u001b[39;00m\n\u001b[0;32m-> 3383\u001b[0m   \u001b[39mif\u001b[39;00m \u001b[39mself\u001b[39;49m\u001b[39m.\u001b[39;49m_name_stack:\n\u001b[1;32m   3384\u001b[0m     name \u001b[39m=\u001b[39m \u001b[39mself\u001b[39m\u001b[39m.\u001b[39m_name_stack \u001b[39m+\u001b[39m \u001b[39m\"\u001b[39m\u001b[39m/\u001b[39m\u001b[39m\"\u001b[39m \u001b[39m+\u001b[39m name\n\u001b[1;32m   3386\u001b[0m   \u001b[39m# For the sake of checking for names in use, we treat names as case\u001b[39;00m\n\u001b[1;32m   3387\u001b[0m   \u001b[39m# insensitive (e.g. foo = Foo).\u001b[39;00m\n",
      "File \u001b[0;32m/usr/local/lib/python3.11/dist-packages/tensorflow/python/framework/ops.py:3222\u001b[0m, in \u001b[0;36mGraph._name_stack\u001b[0;34m(self)\u001b[0m\n\u001b[1;32m   3219\u001b[0m   \u001b[39mfinally\u001b[39;00m:\n\u001b[1;32m   3220\u001b[0m     \u001b[39mself\u001b[39m\u001b[39m.\u001b[39m_default_original_op \u001b[39m=\u001b[39m old_original_op\n\u001b[0;32m-> 3222\u001b[0m \u001b[39m@property\u001b[39m\n\u001b[1;32m   3223\u001b[0m \u001b[39mdef\u001b[39;00m \u001b[39m_name_stack\u001b[39m(\u001b[39mself\u001b[39m):\n\u001b[1;32m   3224\u001b[0m   \u001b[39m# This may be called from a thread where name_stack doesn't yet exist.\u001b[39;00m\n\u001b[1;32m   3225\u001b[0m   \u001b[39mif\u001b[39;00m \u001b[39mnot\u001b[39;00m \u001b[39mhasattr\u001b[39m(\u001b[39mself\u001b[39m\u001b[39m.\u001b[39m_thread_local, \u001b[39m\"\u001b[39m\u001b[39m_name_stack\u001b[39m\u001b[39m\"\u001b[39m):\n\u001b[1;32m   3226\u001b[0m     \u001b[39mself\u001b[39m\u001b[39m.\u001b[39m_thread_local\u001b[39m.\u001b[39m_name_stack \u001b[39m=\u001b[39m \u001b[39m\"\u001b[39m\u001b[39m\"\u001b[39m\n",
      "\u001b[0;31mKeyboardInterrupt\u001b[0m: "
     ]
    }
   ],
   "source": [
    "naive_lstm_history = naive_lstm_model.fit(\n",
    "    train_encoded_padded,\n",
    "    [train_df['sender_labels_encoded'], train_df['receiver_labels_encoded']],\n",
    "    validation_data=(validation_encoded_padded, [validation_df['sender_labels_encoded'], validation_df['receiver_labels_encoded']]),\n",
    "    epochs=10\n",
    ")"
   ]
  },
  {
   "cell_type": "code",
   "execution_count": null,
   "metadata": {},
   "outputs": [
    {
     "name": "stdout",
     "output_type": "stream",
     "text": [
      "========== Model Accuracy ==========\n"
     ]
    },
    {
     "data": {
      "image/png": "[encoded data removed]",
      "text/plain": [
       "<Figure size 640x480 with 1 Axes>"
      ]
     },
     "metadata": {},
     "output_type": "display_data"
    },
    {
     "name": "stdout",
     "output_type": "stream",
     "text": [
      "========== Test Evaluation ==========\n",
      "86/86 - 1s - loss: 2.3568 - sender_output_loss: 0.8793 - receiver_output_loss: 1.4775 - sender_output_accuracy: 0.8960 - receiver_output_accuracy: 0.7632 - 1s/epoch - 14ms/step\n",
      "\n",
      "========== Test Metrics ==========\n",
      "86/86 [==============================] - 1s 12ms/step\n",
      "---------- Sender Labels ----------\n",
      "              precision    recall  f1-score   support\n",
      "\n",
      "        True       0.92      0.97      0.94      2501\n",
      "       False       0.22      0.07      0.11       240\n",
      "\n",
      "    accuracy                           0.90      2741\n",
      "   macro avg       0.57      0.52      0.53      2741\n",
      "weighted avg       0.86      0.90      0.87      2741\n",
      "\n",
      "---------- Receiver Labels ----------\n",
      "              precision    recall  f1-score   support\n",
      "\n",
      "        True       0.84      0.90      0.87      2310\n",
      "       False       0.04      0.03      0.03       165\n",
      "NOANNOTATION       0.08      0.05      0.06       266\n",
      "\n",
      "    accuracy                           0.76      2741\n",
      "   macro avg       0.32      0.32      0.32      2741\n",
      "weighted avg       0.72      0.76      0.74      2741\n",
      "\n"
     ]
    }
   ],
   "source": [
    "EvaluateModel(naive_lstm_model, test_encoded_padded, [test_df['sender_labels_encoded'], test_df['receiver_labels_encoded']], naive_lstm_history)"
   ]
  },
  {
   "cell_type": "markdown",
   "metadata": {},
   "source": [
    "<hr/>\n",
    "\n",
    "# Context lstm"
   ]
  },
  {
   "cell_type": "code",
   "execution_count": null,
   "metadata": {},
   "outputs": [],
   "source": [
    "def create_context_lstm_model(\n",
    "        sequence_length: int = MAX_SEQUENCE_LEN,\n",
    "        embedding_output: int = EMBEDDING_OUTPUT_SIZE,\n",
    "        vocab_size: int = VOCAB_SIZE,\n",
    "        lstm_size: int = LSTM_SIZE,\n",
    "        dropout: float = DROPOUT_RATE,\n",
    "        hidden_size = HIDDEN_LAYER_SIZE,\n",
    "        learning_rate: float = LEARNING_RATE,\n",
    "    ):\n",
    "\n",
    "    current_message_input = keras.layers.Input(shape=(sequence_length,), dtype=tf.int64, name='current_message_input')\n",
    "    previous_message_input = keras.layers.Input(shape=(sequence_length,), dtype=tf.int64, name='previous_message_input')\n",
    "\n",
    "    current_message_lstm = pipe(\n",
    "        current_message_input,\n",
    "        keras.layers.Embedding(vocab_size, embedding_output, input_length=sequence_length),\n",
    "        keras.layers.LSTM(lstm_size),\n",
    "        keras.layers.Dropout(dropout)\n",
    "    )\n",
    "\n",
    "    previous_message_lstm = pipe(\n",
    "        previous_message_input,\n",
    "        keras.layers.Embedding(vocab_size, embedding_output, input_length=sequence_length),\n",
    "        keras.layers.LSTM(lstm_size),\n",
    "        keras.layers.Dropout(dropout)\n",
    "    )\n",
    "\n",
    "    context_lstm_ouput = pipe(\n",
    "        [\n",
    "            current_message_lstm,\n",
    "            previous_message_lstm\n",
    "        ],\n",
    "        keras.layers.Concatenate(),\n",
    "        keras.layers.Dense(hidden_size)\n",
    "    )\n",
    "\n",
    "    sender_output = keras.layers.Dense(2, activation='softmax', name=\"sender_output\")(context_lstm_ouput)\n",
    "    receiver_output = keras.layers.Dense(2, activation='softmax', name=\"receiver_output\")(context_lstm_ouput)\n",
    "\n",
    "    context_lstm_model = keras.Model(\n",
    "        inputs=[current_message_input, previous_message_input],\n",
    "        outputs=[sender_output, receiver_output]\n",
    "    )\n",
    "\n",
    "    context_lstm_model.compile(\n",
    "        loss='sparse_categorical_crossentropy',\n",
    "        optimizer=tf.keras.optimizers.Adam(learning_rate=learning_rate),\n",
    "        metrics=['accuracy']\n",
    "    )\n",
    "\n",
    "    return context_lstm_model"
   ]
  },
  {
   "cell_type": "code",
   "execution_count": null,
   "metadata": {},
   "outputs": [
    {
     "name": "stdout",
     "output_type": "stream",
     "text": [
      "Model: \"model_15\"\n",
      "__________________________________________________________________________________________________\n",
      " Layer (type)                Output Shape                 Param #   Connected to                  \n",
      "==================================================================================================\n",
      " current_message_input (Inp  [(None, 294)]                0         []                            \n",
      " utLayer)                                                                                         \n",
      "                                                                                                  \n",
      " previous_message_input (In  [(None, 294)]                0         []                            \n",
      " putLayer)                                                                                        \n",
      "                                                                                                  \n",
      " embedding_16 (Embedding)    (None, 294, 124)             620000    ['current_message_input[0][0]'\n",
      "                                                                    ]                             \n",
      "                                                                                                  \n",
      " embedding_17 (Embedding)    (None, 294, 124)             620000    ['previous_message_input[0][0]\n",
      "                                                                    ']                            \n",
      "__________________________________________________________________________________________________\n",
      " Layer (type)                Output Shape                 Param #   Connected to                  \n",
      "==================================================================================================\n",
      " current_message_input (Inp  [(None, 294)]                0         []                            \n",
      " utLayer)                                                                                         \n",
      "                                                                                                  \n",
      " previous_message_input (In  [(None, 294)]                0         []                            \n",
      " putLayer)                                                                                        \n",
      "                                                                                                  \n",
      " embedding_16 (Embedding)    (None, 294, 124)             620000    ['current_message_input[0][0]'\n",
      "                                                                    ]                             \n",
      "                                                                                                  \n",
      " embedding_17 (Embedding)    (None, 294, 124)             620000    ['previous_message_input[0][0]\n",
      "                                                                    ']                            \n",
      "                                                                                                  \n",
      " lstm_3 (LSTM)               (None, 64)                   48384     ['embedding_16[0][0]']        \n",
      "                                                                                                  \n",
      " lstm_4 (LSTM)               (None, 64)                   48384     ['embedding_17[0][0]']        \n",
      "                                                                                                  \n",
      " dropout_2 (Dropout)         (None, 64)                   0         ['lstm_3[0][0]']              \n",
      "                                                                                                  \n",
      " dropout_3 (Dropout)         (None, 64)                   0         ['lstm_4[0][0]']              \n",
      "                                                                                                  \n",
      " concatenate_1 (Concatenate  (None, 128)                  0         ['dropout_2[0][0]',           \n",
      " )                                                                   'dropout_3[0][0]']           \n",
      "                                                                                                  \n",
      " dense_15 (Dense)            (None, 64)                   8256      ['concatenate_1[0][0]']       \n",
      "                                                                                                  \n",
      " sender_output (Dense)       (None, 2)                    130       ['dense_15[0][0]']            \n",
      "                                                                                                  \n",
      " receiver_output (Dense)     (None, 3)                    195       ['dense_15[0][0]']            \n",
      "                                                                                                  \n",
      "==================================================================================================\n",
      "Total params: 1345349 (5.13 MB)\n",
      "Trainable params: 1345349 (5.13 MB)\n",
      "Non-trainable params: 0 (0.00 Byte)\n",
      "__________________________________________________________________________________________________\n"
     ]
    }
   ],
   "source": [
    "context_lstm_model = create_context_lstm_model()\n",
    "context_lstm_model.summary()"
   ]
  },
  {
   "cell_type": "code",
   "execution_count": null,
   "metadata": {},
   "outputs": [
    {
     "name": "stdout",
     "output_type": "stream",
     "text": [
      "Epoch 1/10\n",
      "411/411 [==============================] - 41s 88ms/step - loss: 0.6769 - sender_output_loss: 0.1931 - receiver_output_loss: 0.4837 - sender_output_accuracy: 0.9535 - receiver_output_accuracy: 0.8713 - val_loss: 0.6277 - val_sender_output_loss: 0.1738 - val_receiver_output_loss: 0.4539 - val_sender_output_accuracy: 0.9605 - val_receiver_output_accuracy: 0.8729\n",
      "Epoch 2/10\n",
      "411/411 [==============================] - 23s 55ms/step - loss: 0.5886 - sender_output_loss: 0.1543 - receiver_output_loss: 0.4343 - sender_output_accuracy: 0.9560 - receiver_output_accuracy: 0.8725 - val_loss: 0.6724 - val_sender_output_loss: 0.1806 - val_receiver_output_loss: 0.4918 - val_sender_output_accuracy: 0.9605 - val_receiver_output_accuracy: 0.8729\n",
      "Epoch 3/10\n",
      "411/411 [==============================] - 21s 50ms/step - loss: 0.4582 - sender_output_loss: 0.1078 - receiver_output_loss: 0.3504 - sender_output_accuracy: 0.9628 - receiver_output_accuracy: 0.8766 - val_loss: 0.7647 - val_sender_output_loss: 0.2304 - val_receiver_output_loss: 0.5343 - val_sender_output_accuracy: 0.9541 - val_receiver_output_accuracy: 0.8630\n",
      "Epoch 4/10\n",
      "411/411 [==============================] - 20s 49ms/step - loss: 0.3180 - sender_output_loss: 0.0665 - receiver_output_loss: 0.2515 - sender_output_accuracy: 0.9765 - receiver_output_accuracy: 0.9066 - val_loss: 0.9831 - val_sender_output_loss: 0.3177 - val_receiver_output_loss: 0.6653 - val_sender_output_accuracy: 0.9350 - val_receiver_output_accuracy: 0.8234\n",
      "Epoch 5/10\n",
      "411/411 [==============================] - 20s 48ms/step - loss: 0.1992 - sender_output_loss: 0.0355 - receiver_output_loss: 0.1638 - sender_output_accuracy: 0.9877 - receiver_output_accuracy: 0.9395 - val_loss: 1.3548 - val_sender_output_loss: 0.4344 - val_receiver_output_loss: 0.9204 - val_sender_output_accuracy: 0.9223 - val_receiver_output_accuracy: 0.8100\n",
      "Epoch 6/10\n",
      "411/411 [==============================] - 19s 47ms/step - loss: 0.1232 - sender_output_loss: 0.0220 - receiver_output_loss: 0.1011 - sender_output_accuracy: 0.9929 - receiver_output_accuracy: 0.9632 - val_loss: 1.6469 - val_sender_output_loss: 0.4720 - val_receiver_output_loss: 1.1749 - val_sender_output_accuracy: 0.9357 - val_receiver_output_accuracy: 0.8136\n",
      "Epoch 7/10\n",
      "411/411 [==============================] - 20s 48ms/step - loss: 0.0784 - sender_output_loss: 0.0155 - receiver_output_loss: 0.0630 - sender_output_accuracy: 0.9948 - receiver_output_accuracy: 0.9780 - val_loss: 1.9551 - val_sender_output_loss: 0.5787 - val_receiver_output_loss: 1.3764 - val_sender_output_accuracy: 0.9428 - val_receiver_output_accuracy: 0.7846\n",
      "Epoch 8/10\n",
      "411/411 [==============================] - 20s 48ms/step - loss: 0.0556 - sender_output_loss: 0.0144 - receiver_output_loss: 0.0412 - sender_output_accuracy: 0.9946 - receiver_output_accuracy: 0.9851 - val_loss: 2.2889 - val_sender_output_loss: 0.6589 - val_receiver_output_loss: 1.6300 - val_sender_output_accuracy: 0.9470 - val_receiver_output_accuracy: 0.8023\n",
      "Epoch 9/10\n",
      "411/411 [==============================] - 20s 48ms/step - loss: 0.0442 - sender_output_loss: 0.0108 - receiver_output_loss: 0.0334 - sender_output_accuracy: 0.9959 - receiver_output_accuracy: 0.9877 - val_loss: 2.5360 - val_sender_output_loss: 0.6715 - val_receiver_output_loss: 1.8645 - val_sender_output_accuracy: 0.9456 - val_receiver_output_accuracy: 0.8037\n",
      "Epoch 10/10\n",
      "411/411 [==============================] - 19s 46ms/step - loss: 0.0326 - sender_output_loss: 0.0089 - receiver_output_loss: 0.0237 - sender_output_accuracy: 0.9968 - receiver_output_accuracy: 0.9917 - val_loss: 2.8247 - val_sender_output_loss: 0.6928 - val_receiver_output_loss: 2.1319 - val_sender_output_accuracy: 0.9357 - val_receiver_output_accuracy: 0.7677\n"
     ]
    }
   ],
   "source": [
    "context_lstm_history = context_lstm_model.fit(\n",
    "    [train_encoded_padded, train_prev_encoded_padded],\n",
    "    [train_df['sender_labels_encoded'], train_df['receiver_labels_encoded']], \n",
    "    validation_data=([validation_encoded_padded, validation_prev_encoded_padded], [validation_df['sender_labels_encoded'], validation_df['receiver_labels_encoded']]), \n",
    "    epochs=10\n",
    ")"
   ]
  },
  {
   "cell_type": "code",
   "execution_count": null,
   "metadata": {},
   "outputs": [
    {
     "name": "stdout",
     "output_type": "stream",
     "text": [
      "========== Model Accuracy ==========\n"
     ]
    },
    {
     "data": {
      "image/png": "[encoded data removed]",
      "text/plain": [
       "<Figure size 640x480 with 1 Axes>"
      ]
     },
     "metadata": {},
     "output_type": "display_data"
    },
    {
     "name": "stdout",
     "output_type": "stream",
     "text": [
      "========== Test Evaluation ==========\n",
      "86/86 - 2s - loss: 3.7773 - sender_output_loss: 1.3236 - receiver_output_loss: 2.4537 - sender_output_accuracy: 0.8862 - receiver_output_accuracy: 0.7344 - 2s/epoch - 21ms/step\n",
      "\n",
      "========== Test Metrics ==========\n",
      "86/86 [==============================] - 2s 18ms/step\n",
      "---------- Sender Labels ----------\n",
      "              precision    recall  f1-score   support\n",
      "\n",
      "        True       0.92      0.96      0.94      2501\n",
      "       False       0.17      0.08      0.11       240\n",
      "\n",
      "    accuracy                           0.89      2741\n",
      "   macro avg       0.54      0.52      0.52      2741\n",
      "weighted avg       0.85      0.89      0.87      2741\n",
      "\n",
      "---------- Receiver Labels ----------\n",
      "              precision    recall  f1-score   support\n",
      "\n",
      "        True       0.84      0.85      0.85      2310\n",
      "       False       0.10      0.05      0.07       165\n",
      "NOANNOTATION       0.09      0.11      0.10       266\n",
      "\n",
      "    accuracy                           0.73      2741\n",
      "   macro avg       0.35      0.34      0.34      2741\n",
      "weighted avg       0.73      0.73      0.73      2741\n",
      "\n"
     ]
    }
   ],
   "source": [
    "EvaluateModel(context_lstm_model, [test_encoded_padded, test_prev_encoded_padded], [test_df['sender_labels_encoded'], test_df['receiver_labels_encoded']], context_lstm_history)"
   ]
  },
  {
   "cell_type": "markdown",
   "metadata": {},
   "source": [
    "# LSTM + Power"
   ]
  },
  {
   "cell_type": "code",
   "execution_count": null,
   "metadata": {},
   "outputs": [],
   "source": [
    "def create_lstm_power_model(\n",
    "        sequence_length: int = MAX_SEQUENCE_LEN,\n",
    "        embedding_output: int = EMBEDDING_OUTPUT_SIZE,\n",
    "        vocab_size: int = VOCAB_SIZE,\n",
    "        lstm_size: int = LSTM_SIZE,\n",
    "        dropout: float = DROPOUT_RATE,\n",
    "        hidden_size = HIDDEN_LAYER_SIZE,\n",
    "        learning_rate: float = LEARNING_RATE,\n",
    "    ):\n",
    "\n",
    "    message_input = keras.layers.Input(shape=(sequence_length,), dtype=tf.int64, name='current_message_input')\n",
    "    power_diff_input = keras.layers.Input(shape=(1,), name='power_differential')\n",
    "\n",
    "    lstm_output = pipe(\n",
    "        message_input,\n",
    "        keras.layers.Embedding(vocab_size, embedding_output, input_length=sequence_length),\n",
    "        keras.layers.LSTM(lstm_size),\n",
    "        keras.layers.Dropout(dropout)\n",
    "    )\n",
    "\n",
    "    lstm_power_ouput = pipe(\n",
    "        [\n",
    "            lstm_output,\n",
    "            power_diff_input\n",
    "        ],\n",
    "        keras.layers.Concatenate(),\n",
    "        keras.layers.Dense(hidden_size),\n",
    "    )\n",
    "\n",
    "    sender_output = keras.layers.Dense(2, activation='softmax', name=\"sender_output\")(lstm_power_ouput)\n",
    "    receiver_output = keras.layers.Dense(2, activation='softmax', name=\"receiver_output\")(lstm_power_ouput)\n",
    "\n",
    "    lstm_power_model = keras.Model(\n",
    "        inputs=[message_input, power_diff_input],\n",
    "        outputs=[sender_output, receiver_output]\n",
    "    )\n",
    "\n",
    "    lstm_power_model.compile(\n",
    "        loss='sparse_categorical_crossentropy',\n",
    "        optimizer=tf.keras.optimizers.Adam(learning_rate=learning_rate),\n",
    "        metrics=['accuracy']\n",
    "    )\n",
    "\n",
    "    return lstm_power_model"
   ]
  },
  {
   "cell_type": "code",
   "execution_count": null,
   "metadata": {},
   "outputs": [
    {
     "name": "stdout",
     "output_type": "stream",
     "text": [
      "Model: \"model_16\"\n",
      "__________________________________________________________________________________________________\n",
      " Layer (type)                Output Shape                 Param #   Connected to                  \n",
      "==================================================================================================\n",
      " current_message_input (Inp  [(None, 294)]                0         []                            \n",
      " utLayer)                                                                                         \n",
      "                                                                                                  \n",
      " embedding_18 (Embedding)    (None, 294, 124)             620000    ['current_message_input[0][0]'\n",
      "                                                                    ]                             \n",
      "                                                                                                  \n",
      " lstm_5 (LSTM)               (None, 64)                   48384     ['embedding_18[0][0]']        \n",
      "                                                                                                  \n",
      " dropout_4 (Dropout)         (None, 64)                   0         ['lstm_5[0][0]']              \n",
      "                                                                                                  \n",
      " power_differential (InputL  [(None, 1)]                  0         []                            \n",
      " ayer)                                                                                            \n",
      "                                                                                                  \n",
      " concatenate_2 (Concatenate  (None, 65)                   0         ['dropout_4[0][0]',           \n",
      " )                                                                   'power_differential[0][0]']  \n",
      "                                                                                                  \n",
      " dense_16 (Dense)            (None, 64)                   4224      ['concatenate_2[0][0]']       \n",
      "__________________________________________________________________________________________________\n",
      " Layer (type)                Output Shape                 Param #   Connected to                  \n",
      "==================================================================================================\n",
      " current_message_input (Inp  [(None, 294)]                0         []                            \n",
      " utLayer)                                                                                         \n",
      "                                                                                                  \n",
      " embedding_18 (Embedding)    (None, 294, 124)             620000    ['current_message_input[0][0]'\n",
      "                                                                    ]                             \n",
      "                                                                                                  \n",
      " lstm_5 (LSTM)               (None, 64)                   48384     ['embedding_18[0][0]']        \n",
      "                                                                                                  \n",
      " dropout_4 (Dropout)         (None, 64)                   0         ['lstm_5[0][0]']              \n",
      "                                                                                                  \n",
      " power_differential (InputL  [(None, 1)]                  0         []                            \n",
      " ayer)                                                                                            \n",
      "                                                                                                  \n",
      " concatenate_2 (Concatenate  (None, 65)                   0         ['dropout_4[0][0]',           \n",
      " )                                                                   'power_differential[0][0]']  \n",
      "                                                                                                  \n",
      " dense_16 (Dense)            (None, 64)                   4224      ['concatenate_2[0][0]']       \n",
      "                                                                                                  \n",
      " sender_output (Dense)       (None, 2)                    130       ['dense_16[0][0]']            \n",
      "                                                                                                  \n",
      " receiver_output (Dense)     (None, 3)                    195       ['dense_16[0][0]']            \n",
      "                                                                                                  \n",
      "==================================================================================================\n",
      "Total params: 672933 (2.57 MB)\n",
      "Trainable params: 672933 (2.57 MB)\n",
      "Non-trainable params: 0 (0.00 Byte)\n",
      "__________________________________________________________________________________________________\n"
     ]
    }
   ],
   "source": [
    "lstm_power_model = create_lstm_power_model()\n",
    "lstm_power_model.summary()"
   ]
  },
  {
   "cell_type": "code",
   "execution_count": null,
   "metadata": {},
   "outputs": [
    {
     "name": "stdout",
     "output_type": "stream",
     "text": [
      "Epoch 1/10\n",
      "411/411 [==============================] - 17s 36ms/step - loss: 0.3503 - sender_output_loss: 0.0798 - receiver_output_loss: 0.2706 - sender_output_accuracy: 0.9734 - receiver_output_accuracy: 0.9024 - val_loss: 0.9959 - val_sender_output_loss: 0.3053 - val_receiver_output_loss: 0.6907 - val_sender_output_accuracy: 0.9428 - val_receiver_output_accuracy: 0.8475\n",
      "Epoch 2/10\n",
      "411/411 [==============================] - 13s 32ms/step - loss: 0.2357 - sender_output_loss: 0.0515 - receiver_output_loss: 0.1842 - sender_output_accuracy: 0.9817 - receiver_output_accuracy: 0.9351 - val_loss: 1.2530 - val_sender_output_loss: 0.3769 - val_receiver_output_loss: 0.8761 - val_sender_output_accuracy: 0.9364 - val_receiver_output_accuracy: 0.8016\n",
      "Epoch 3/10\n",
      "411/411 [==============================] - 13s 32ms/step - loss: 0.1883 - sender_output_loss: 0.0382 - receiver_output_loss: 0.1501 - sender_output_accuracy: 0.9874 - receiver_output_accuracy: 0.9449 - val_loss: 1.3931 - val_sender_output_loss: 0.4284 - val_receiver_output_loss: 0.9647 - val_sender_output_accuracy: 0.9386 - val_receiver_output_accuracy: 0.8220\n",
      "Epoch 4/10\n",
      "411/411 [==============================] - 14s 34ms/step - loss: 0.1559 - sender_output_loss: 0.0314 - receiver_output_loss: 0.1245 - sender_output_accuracy: 0.9896 - receiver_output_accuracy: 0.9581 - val_loss: 1.5911 - val_sender_output_loss: 0.4758 - val_receiver_output_loss: 1.1152 - val_sender_output_accuracy: 0.9315 - val_receiver_output_accuracy: 0.7839\n",
      "Epoch 5/10\n",
      "411/411 [==============================] - 14s 33ms/step - loss: 0.1375 - sender_output_loss: 0.0301 - receiver_output_loss: 0.1074 - sender_output_accuracy: 0.9903 - receiver_output_accuracy: 0.9615 - val_loss: 1.6466 - val_sender_output_loss: 0.4662 - val_receiver_output_loss: 1.1804 - val_sender_output_accuracy: 0.9386 - val_receiver_output_accuracy: 0.7754\n",
      "Epoch 6/10\n",
      "411/411 [==============================] - 13s 31ms/step - loss: 0.1229 - sender_output_loss: 0.0257 - receiver_output_loss: 0.0972 - sender_output_accuracy: 0.9922 - receiver_output_accuracy: 0.9643 - val_loss: 1.9135 - val_sender_output_loss: 0.5515 - val_receiver_output_loss: 1.3621 - val_sender_output_accuracy: 0.9266 - val_receiver_output_accuracy: 0.7959\n",
      "Epoch 7/10\n",
      "411/411 [==============================] - 13s 32ms/step - loss: 0.1090 - sender_output_loss: 0.0217 - receiver_output_loss: 0.0872 - sender_output_accuracy: 0.9938 - receiver_output_accuracy: 0.9692 - val_loss: 2.1329 - val_sender_output_loss: 0.5796 - val_receiver_output_loss: 1.5533 - val_sender_output_accuracy: 0.9435 - val_receiver_output_accuracy: 0.7853\n",
      "Epoch 8/10\n",
      "411/411 [==============================] - 13s 32ms/step - loss: 0.0984 - sender_output_loss: 0.0195 - receiver_output_loss: 0.0789 - sender_output_accuracy: 0.9938 - receiver_output_accuracy: 0.9716 - val_loss: 2.1385 - val_sender_output_loss: 0.6400 - val_receiver_output_loss: 1.4985 - val_sender_output_accuracy: 0.9301 - val_receiver_output_accuracy: 0.7931\n",
      "Epoch 9/10\n",
      "411/411 [==============================] - 13s 32ms/step - loss: 0.0947 - sender_output_loss: 0.0199 - receiver_output_loss: 0.0748 - sender_output_accuracy: 0.9931 - receiver_output_accuracy: 0.9730 - val_loss: 2.2741 - val_sender_output_loss: 0.6135 - val_receiver_output_loss: 1.6606 - val_sender_output_accuracy: 0.9343 - val_receiver_output_accuracy: 0.7966\n",
      "Epoch 10/10\n",
      "411/411 [==============================] - 13s 31ms/step - loss: 0.0848 - sender_output_loss: 0.0175 - receiver_output_loss: 0.0672 - sender_output_accuracy: 0.9941 - receiver_output_accuracy: 0.9751 - val_loss: 2.2786 - val_sender_output_loss: 0.6277 - val_receiver_output_loss: 1.6509 - val_sender_output_accuracy: 0.9230 - val_receiver_output_accuracy: 0.7839\n"
     ]
    }
   ],
   "source": [
    "lstm_power_history = context_lstm_model.fit(\n",
    "    [train_encoded_padded, train_df['game_score_delta']],\n",
    "    [train_df['sender_labels_encoded'], train_df['receiver_labels_encoded']],\n",
    "    validation_data=([validation_encoded_padded, validation_df['game_score_delta']], [validation_df['sender_labels_encoded'], validation_df['receiver_labels_encoded']]), \n",
    "    epochs=10\n",
    ")"
   ]
  },
  {
   "cell_type": "code",
   "execution_count": null,
   "metadata": {},
   "outputs": [
    {
     "name": "stdout",
     "output_type": "stream",
     "text": [
      "========== Model Accuracy ==========\n"
     ]
    },
    {
     "data": {
      "image/png": "[encoded data removed]",
      "text/plain": [
       "<Figure size 640x480 with 1 Axes>"
      ]
     },
     "metadata": {},
     "output_type": "display_data"
    },
    {
     "name": "stdout",
     "output_type": "stream",
     "text": [
      "========== Test Evaluation ==========\n",
      "86/86 - 2s - loss: 1.9627 - sender_output_loss: 0.7468 - receiver_output_loss: 1.2160 - sender_output_accuracy: 0.5002 - receiver_output_accuracy: 0.3630 - 2s/epoch - 26ms/step\n",
      "\n",
      "========== Test Metrics ==========\n",
      "86/86 [==============================] - 1s 9ms/step\n",
      "---------- Sender Labels ----------\n",
      "              precision    recall  f1-score   support\n",
      "\n",
      "        True       0.90      0.51      0.65      2501\n",
      "       False       0.07      0.38      0.12       240\n",
      "\n",
      "    accuracy                           0.50      2741\n",
      "   macro avg       0.48      0.44      0.38      2741\n",
      "weighted avg       0.82      0.50      0.60      2741\n",
      "\n",
      "---------- Receiver Labels ----------\n",
      "              precision    recall  f1-score   support\n",
      "\n",
      "        True       0.87      0.38      0.53      2310\n",
      "       False       0.07      0.55      0.12       165\n",
      "NOANNOTATION       0.08      0.12      0.10       266\n",
      "\n",
      "    accuracy                           0.36      2741\n",
      "   macro avg       0.34      0.35      0.25      2741\n",
      "weighted avg       0.75      0.36      0.46      2741\n",
      "\n"
     ]
    }
   ],
   "source": [
    "EvaluateModel(lstm_power_model, [test_encoded_padded, test_df['game_score_delta']], [test_df['sender_labels_encoded'], test_df['receiver_labels_encoded']], lstm_power_history)"
   ]
  },
  {
   "cell_type": "markdown",
   "metadata": {},
   "source": [
    "# Context LSTM + Power"
   ]
  },
  {
   "cell_type": "code",
   "execution_count": null,
   "metadata": {},
   "outputs": [],
   "source": [
    "def create_context_lstm_power_model(\n",
    "        sequence_length: int = MAX_SEQUENCE_LEN,\n",
    "        embedding_output: int = EMBEDDING_OUTPUT_SIZE,\n",
    "        vocab_size: int = VOCAB_SIZE,\n",
    "        lstm_size: int = LSTM_SIZE,\n",
    "        dropout: float = DROPOUT_RATE,\n",
    "        hidden_size = HIDDEN_LAYER_SIZE,\n",
    "        learning_rate: float = LEARNING_RATE,\n",
    "    ):\n",
    "\n",
    "    current_message_input = keras.layers.Input(shape=(sequence_length,), dtype=tf.int64, name='current_message_input')\n",
    "    previous_message_input = keras.layers.Input(shape=(sequence_length,), dtype=tf.int64, name='previous_message_input')\n",
    "    power_diff_input = keras.layers.Input(shape=(1,), name='power_differential')\n",
    "\n",
    "    current_message_lstm = pipe(\n",
    "        current_message_input,\n",
    "        keras.layers.Embedding(vocab_size, embedding_output, input_length=sequence_length),\n",
    "        keras.layers.LSTM(lstm_size),\n",
    "        keras.layers.Dropout(dropout)\n",
    "    )\n",
    "\n",
    "    previous_message_lstm = pipe(\n",
    "        previous_message_input,\n",
    "        keras.layers.Embedding(vocab_size, embedding_output, input_length=sequence_length),\n",
    "        keras.layers.LSTM(lstm_size),\n",
    "        keras.layers.Dropout(dropout)\n",
    "    )\n",
    "\n",
    "    context_lstm_power_ouput = pipe(\n",
    "        [\n",
    "            current_message_lstm,\n",
    "            previous_message_lstm,\n",
    "            power_diff_input\n",
    "        ],\n",
    "        keras.layers.Concatenate(),\n",
    "        keras.layers.Dense(hidden_size)\n",
    "    )\n",
    "\n",
    "    sender_output = keras.layers.Dense(2, activation='softmax', name=\"sender_output\")(context_lstm_power_ouput)\n",
    "    receiver_output = keras.layers.Dense(2, activation='softmax', name=\"receiver_output\")(context_lstm_power_ouput)\n",
    "\n",
    "    context_lstm_power_model = keras.Model(\n",
    "        inputs=[current_message_input, previous_message_input, power_diff_input],\n",
    "        outputs=[sender_output, receiver_output]\n",
    "    )\n",
    "\n",
    "    context_lstm_power_model.compile(\n",
    "        loss='sparse_categorical_crossentropy',\n",
    "        optimizer=tf.keras.optimizers.Adam(learning_rate=learning_rate),\n",
    "        metrics=['accuracy']\n",
    "    )\n",
    "\n",
    "    return context_lstm_power_model"
   ]
  },
  {
   "cell_type": "code",
   "execution_count": null,
   "metadata": {},
   "outputs": [
    {
     "name": "stdout",
     "output_type": "stream",
     "text": [
      "Model: \"model_17\"\n",
      "__________________________________________________________________________________________________\n",
      " Layer (type)                Output Shape                 Param #   Connected to                  \n",
      "==================================================================================================\n",
      " current_message_input (Inp  [(None, 294)]                0         []                            \n",
      " utLayer)                                                                                         \n",
      "                                                                                                  \n",
      " previous_message_input (In  [(None, 294)]                0         []                            \n",
      " putLayer)                                                                                        \n",
      "                                                                                                  \n",
      " embedding_19 (Embedding)    (None, 294, 124)             620000    ['current_message_input[0][0]'\n",
      "                                                                    ]                             \n",
      "                                                                                                  \n",
      " embedding_20 (Embedding)    (None, 294, 124)             620000    ['previous_message_input[0][0]\n",
      "                                                                    ']                            \n",
      "                                                                                                  \n",
      " lstm_6 (LSTM)               (None, 64)                   48384     ['embedding_19[0][0]']        \n",
      "__________________________________________________________________________________________________\n",
      " Layer (type)                Output Shape                 Param #   Connected to                  \n",
      "==================================================================================================\n",
      " current_message_input (Inp  [(None, 294)]                0         []                            \n",
      " utLayer)                                                                                         \n",
      "                                                                                                  \n",
      " previous_message_input (In  [(None, 294)]                0         []                            \n",
      " putLayer)                                                                                        \n",
      "                                                                                                  \n",
      " embedding_19 (Embedding)    (None, 294, 124)             620000    ['current_message_input[0][0]'\n",
      "                                                                    ]                             \n",
      "                                                                                                  \n",
      " embedding_20 (Embedding)    (None, 294, 124)             620000    ['previous_message_input[0][0]\n",
      "                                                                    ']                            \n",
      "                                                                                                  \n",
      " lstm_6 (LSTM)               (None, 64)                   48384     ['embedding_19[0][0]']        \n",
      "                                                                                                  \n",
      " lstm_7 (LSTM)               (None, 64)                   48384     ['embedding_20[0][0]']        \n",
      "                                                                                                  \n",
      " dropout_5 (Dropout)         (None, 64)                   0         ['lstm_6[0][0]']              \n",
      "                                                                                                  \n",
      " dropout_6 (Dropout)         (None, 64)                   0         ['lstm_7[0][0]']              \n",
      "                                                                                                  \n",
      " power_differential (InputL  [(None, 1)]                  0         []                            \n",
      " ayer)                                                                                            \n",
      "                                                                                                  \n",
      " concatenate_3 (Concatenate  (None, 129)                  0         ['dropout_5[0][0]',           \n",
      " )                                                                   'dropout_6[0][0]',           \n",
      "                                                                     'power_differential[0][0]']  \n",
      "                                                                                                  \n",
      " dense_17 (Dense)            (None, 64)                   8320      ['concatenate_3[0][0]']       \n",
      "                                                                                                  \n",
      " sender_output (Dense)       (None, 2)                    130       ['dense_17[0][0]']            \n",
      "                                                                                                  \n",
      " receiver_output (Dense)     (None, 3)                    195       ['dense_17[0][0]']            \n",
      "                                                                                                  \n",
      "==================================================================================================\n",
      "Total params: 1345413 (5.13 MB)\n",
      "Trainable params: 1345413 (5.13 MB)\n",
      "Non-trainable params: 0 (0.00 Byte)\n",
      "__________________________________________________________________________________________________\n"
     ]
    }
   ],
   "source": [
    "context_lstm_power_model = create_context_lstm_power_model()\n",
    "context_lstm_power_model.summary()"
   ]
  },
  {
   "cell_type": "code",
   "execution_count": null,
   "metadata": {},
   "outputs": [
    {
     "name": "stdout",
     "output_type": "stream",
     "text": [
      "Epoch 1/10\n",
      "411/411 [==============================] - 34s 83ms/step - loss: 0.6427 - sender_output_loss: 0.1782 - receiver_output_loss: 0.4645 - sender_output_accuracy: 0.9551 - receiver_output_accuracy: 0.8726 - val_loss: 0.6323 - val_sender_output_loss: 0.1671 - val_receiver_output_loss: 0.4652 - val_sender_output_accuracy: 0.9597 - val_receiver_output_accuracy: 0.8729\n",
      "Epoch 2/10\n",
      "411/411 [==============================] - 22s 55ms/step - loss: 0.5602 - sender_output_loss: 0.1457 - receiver_output_loss: 0.4145 - sender_output_accuracy: 0.9565 - receiver_output_accuracy: 0.8724 - val_loss: 0.6961 - val_sender_output_loss: 0.1932 - val_receiver_output_loss: 0.5029 - val_sender_output_accuracy: 0.9583 - val_receiver_output_accuracy: 0.8722\n",
      "Epoch 3/10\n",
      "411/411 [==============================] - 21s 52ms/step - loss: 0.4223 - sender_output_loss: 0.0994 - receiver_output_loss: 0.3228 - sender_output_accuracy: 0.9660 - receiver_output_accuracy: 0.8859 - val_loss: 0.8202 - val_sender_output_loss: 0.2350 - val_receiver_output_loss: 0.5852 - val_sender_output_accuracy: 0.9456 - val_receiver_output_accuracy: 0.8644\n",
      "Epoch 4/10\n",
      "411/411 [==============================] - 21s 51ms/step - loss: 0.2885 - sender_output_loss: 0.0644 - receiver_output_loss: 0.2241 - sender_output_accuracy: 0.9792 - receiver_output_accuracy: 0.9198 - val_loss: 1.0651 - val_sender_output_loss: 0.3401 - val_receiver_output_loss: 0.7250 - val_sender_output_accuracy: 0.9400 - val_receiver_output_accuracy: 0.8411\n",
      "Epoch 5/10\n",
      "411/411 [==============================] - 19s 47ms/step - loss: 0.1840 - sender_output_loss: 0.0396 - receiver_output_loss: 0.1443 - sender_output_accuracy: 0.9867 - receiver_output_accuracy: 0.9467 - val_loss: 1.3548 - val_sender_output_loss: 0.4008 - val_receiver_output_loss: 0.9540 - val_sender_output_accuracy: 0.9386 - val_receiver_output_accuracy: 0.8249\n",
      "Epoch 6/10\n",
      "411/411 [==============================] - 19s 47ms/step - loss: 0.1141 - sender_output_loss: 0.0236 - receiver_output_loss: 0.0905 - sender_output_accuracy: 0.9922 - receiver_output_accuracy: 0.9670 - val_loss: 1.6313 - val_sender_output_loss: 0.4901 - val_receiver_output_loss: 1.1412 - val_sender_output_accuracy: 0.9407 - val_receiver_output_accuracy: 0.8044\n",
      "Epoch 7/10\n",
      "411/411 [==============================] - 20s 48ms/step - loss: 0.0710 - sender_output_loss: 0.0147 - receiver_output_loss: 0.0563 - sender_output_accuracy: 0.9951 - receiver_output_accuracy: 0.9805 - val_loss: 2.1805 - val_sender_output_loss: 0.6433 - val_receiver_output_loss: 1.5372 - val_sender_output_accuracy: 0.9322 - val_receiver_output_accuracy: 0.8107\n",
      "Epoch 8/10\n",
      "411/411 [==============================] - 21s 52ms/step - loss: 0.0612 - sender_output_loss: 0.0160 - receiver_output_loss: 0.0452 - sender_output_accuracy: 0.9943 - receiver_output_accuracy: 0.9836 - val_loss: 2.2363 - val_sender_output_loss: 0.5992 - val_receiver_output_loss: 1.6370 - val_sender_output_accuracy: 0.9386 - val_receiver_output_accuracy: 0.8114\n",
      "Epoch 9/10\n",
      "411/411 [==============================] - 21s 51ms/step - loss: 0.0386 - sender_output_loss: 0.0092 - receiver_output_loss: 0.0295 - sender_output_accuracy: 0.9970 - receiver_output_accuracy: 0.9897 - val_loss: 2.5112 - val_sender_output_loss: 0.6732 - val_receiver_output_loss: 1.8380 - val_sender_output_accuracy: 0.9414 - val_receiver_output_accuracy: 0.8072\n",
      "Epoch 10/10\n",
      "411/411 [==============================] - 19s 47ms/step - loss: 0.0330 - sender_output_loss: 0.0086 - receiver_output_loss: 0.0244 - sender_output_accuracy: 0.9973 - receiver_output_accuracy: 0.9907 - val_loss: 2.7300 - val_sender_output_loss: 0.7008 - val_receiver_output_loss: 2.0292 - val_sender_output_accuracy: 0.9364 - val_receiver_output_accuracy: 0.8058\n"
     ]
    }
   ],
   "source": [
    "context_lstm_power_history = context_lstm_power_model.fit(\n",
    "    [train_encoded_padded, train_prev_encoded_padded, train_df['game_score_delta']],\n",
    "    [train_df['sender_labels_encoded'], train_df['receiver_labels_encoded']],\n",
    "    validation_data=([validation_encoded_padded, validation_prev_encoded_padded, validation_df['game_score_delta']], [validation_df['sender_labels_encoded'], validation_df['receiver_labels_encoded']]), \n",
    "    epochs=10\n",
    ")"
   ]
  },
  {
   "cell_type": "code",
   "execution_count": null,
   "metadata": {},
   "outputs": [
    {
     "name": "stdout",
     "output_type": "stream",
     "text": [
      "========== Model Accuracy ==========\n"
     ]
    },
    {
     "data": {
      "image/png": "[encoded data removed]",
      "text/plain": [
       "<Figure size 640x480 with 1 Axes>"
      ]
     },
     "metadata": {},
     "output_type": "display_data"
    },
    {
     "name": "stdout",
     "output_type": "stream",
     "text": [
      "========== Test Evaluation ==========\n",
      "86/86 - 2s - loss: 3.6726 - sender_output_loss: 1.2869 - receiver_output_loss: 2.3857 - sender_output_accuracy: 0.8887 - receiver_output_accuracy: 0.7775 - 2s/epoch - 23ms/step\n",
      "\n",
      "========== Test Metrics ==========\n",
      "86/86 [==============================] - 2s 19ms/step\n",
      "---------- Sender Labels ----------\n",
      "              precision    recall  f1-score   support\n",
      "\n",
      "        True       0.92      0.96      0.94      2501\n",
      "       False       0.21      0.10      0.14       240\n",
      "\n",
      "    accuracy                           0.89      2741\n",
      "   macro avg       0.57      0.53      0.54      2741\n",
      "weighted avg       0.86      0.89      0.87      2741\n",
      "\n",
      "---------- Receiver Labels ----------\n",
      "              precision    recall  f1-score   support\n",
      "\n",
      "        True       0.85      0.91      0.88      2310\n",
      "       False       0.10      0.05      0.07       165\n",
      "NOANNOTATION       0.10      0.06      0.08       266\n",
      "\n",
      "    accuracy                           0.78      2741\n",
      "   macro avg       0.35      0.34      0.34      2741\n",
      "weighted avg       0.73      0.78      0.75      2741\n",
      "\n"
     ]
    }
   ],
   "source": [
    "EvaluateModel(context_lstm_power_model, [test_encoded_padded, test_prev_encoded_padded, test_df['game_score_delta']], [test_df['sender_labels_encoded'], test_df['receiver_labels_encoded']], context_lstm_power_history)"
   ]
  }
 ],
 "metadata": {
  "kernelspec": {
   "display_name": "Python 3",
   "language": "python",
   "name": "python3"
  },
  "language_info": {
   "codemirror_mode": {
    "name": "ipython",
    "version": 3
   },
   "file_extension": ".py",
   "mimetype": "text/x-python",
   "name": "python",
   "nbconvert_exporter": "python",
   "pygments_lexer": "ipython3",
   "version": "3.11.0rc1"
  }
 },
 "nbformat": 4,
 "nbformat_minor": 2
}
